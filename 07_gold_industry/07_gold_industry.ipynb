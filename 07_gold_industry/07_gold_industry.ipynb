{
 "cells": [
  {
   "cell_type": "markdown",
   "metadata": {
    "toc": true
   },
   "source": [
    "<h1>Содержание<span class=\"tocSkip\"></span></h1>\n",
    "<div class=\"toc\"><ul class=\"toc-item\"><li><span><a href=\"#Описание-задачи\" data-toc-modified-id=\"Описание-задачи-1\"><span class=\"toc-item-num\">1&nbsp;&nbsp;</span>Описание задачи</a></span><ul class=\"toc-item\"><li><span><a href=\"#Технологический-процесс\" data-toc-modified-id=\"Технологический-процесс-1.1\"><span class=\"toc-item-num\">1.1&nbsp;&nbsp;</span>Технологический процесс</a></span></li><li><span><a href=\"#Описание-данных\" data-toc-modified-id=\"Описание-данных-1.2\"><span class=\"toc-item-num\">1.2&nbsp;&nbsp;</span>Описание данных</a></span></li><li><span><a href=\"#Метрика-качества\" data-toc-modified-id=\"Метрика-качества-1.3\"><span class=\"toc-item-num\">1.3&nbsp;&nbsp;</span>Метрика качества</a></span></li></ul></li><li><span><a href=\"#Подготовка-данных\" data-toc-modified-id=\"Подготовка-данных-2\"><span class=\"toc-item-num\">2&nbsp;&nbsp;</span>Подготовка данных</a></span><ul class=\"toc-item\"><li><span><a href=\"#Обзор-данных\" data-toc-modified-id=\"Обзор-данных-2.1\"><span class=\"toc-item-num\">2.1&nbsp;&nbsp;</span>Обзор данных</a></span></li><li><span><a href=\"#Расчёт-эффективности\" data-toc-modified-id=\"Расчёт-эффективности-2.2\"><span class=\"toc-item-num\">2.2&nbsp;&nbsp;</span>Расчёт эффективности</a></span></li><li><span><a href=\"#Обработка-данных\" data-toc-modified-id=\"Обработка-данных-2.3\"><span class=\"toc-item-num\">2.3&nbsp;&nbsp;</span>Обработка данных</a></span></li><li><span><a href=\"#Вывод\" data-toc-modified-id=\"Вывод-2.4\"><span class=\"toc-item-num\">2.4&nbsp;&nbsp;</span>Вывод</a></span></li></ul></li><li><span><a href=\"#Анализ-данных\" data-toc-modified-id=\"Анализ-данных-3\"><span class=\"toc-item-num\">3&nbsp;&nbsp;</span>Анализ данных</a></span><ul class=\"toc-item\"><li><span><a href=\"#Анализ-концентрации-металлов\" data-toc-modified-id=\"Анализ-концентрации-металлов-3.1\"><span class=\"toc-item-num\">3.1&nbsp;&nbsp;</span>Анализ концентрации металлов</a></span></li><li><span><a href=\"#Анализ-распределения-размеров-гранул\" data-toc-modified-id=\"Анализ-распределения-размеров-гранул-3.2\"><span class=\"toc-item-num\">3.2&nbsp;&nbsp;</span>Анализ распределения размеров гранул</a></span></li><li><span><a href=\"#Анализ-суммарной-концентрации-металлов\" data-toc-modified-id=\"Анализ-суммарной-концентрации-металлов-3.3\"><span class=\"toc-item-num\">3.3&nbsp;&nbsp;</span>Анализ суммарной концентрации металлов</a></span></li><li><span><a href=\"#Вывод\" data-toc-modified-id=\"Вывод-3.4\"><span class=\"toc-item-num\">3.4&nbsp;&nbsp;</span>Вывод</a></span></li></ul></li><li><span><a href=\"#Модель\" data-toc-modified-id=\"Модель-4\"><span class=\"toc-item-num\">4&nbsp;&nbsp;</span>Модель</a></span><ul class=\"toc-item\"><li><span><a href=\"#Функция-sMAPE\" data-toc-modified-id=\"Функция-sMAPE-4.1\"><span class=\"toc-item-num\">4.1&nbsp;&nbsp;</span>Функция sMAPE</a></span></li><li><span><a href=\"#Дерево-решений\" data-toc-modified-id=\"Дерево-решений-4.2\"><span class=\"toc-item-num\">4.2&nbsp;&nbsp;</span>Дерево решений</a></span></li><li><span><a href=\"#Случайный-лес\" data-toc-modified-id=\"Случайный-лес-4.3\"><span class=\"toc-item-num\">4.3&nbsp;&nbsp;</span>Случайный лес</a></span></li><li><span><a href=\"#Линейная-регрессия\" data-toc-modified-id=\"Линейная-регрессия-4.4\"><span class=\"toc-item-num\">4.4&nbsp;&nbsp;</span>Линейная регрессия</a></span></li><li><span><a href=\"#Catboost\" data-toc-modified-id=\"Catboost-4.5\"><span class=\"toc-item-num\">4.5&nbsp;&nbsp;</span>Catboost</a></span></li><li><span><a href=\"#Выбор-лучшей-модели\" data-toc-modified-id=\"Выбор-лучшей-модели-4.6\"><span class=\"toc-item-num\">4.6&nbsp;&nbsp;</span>Выбор лучшей модели</a></span></li></ul></li><li><span><a href=\"#Вывод\" data-toc-modified-id=\"Вывод-5\"><span class=\"toc-item-num\">5&nbsp;&nbsp;</span>Вывод</a></span></li><li><span><a href=\"#Чек-лист-готовности-проекта\" data-toc-modified-id=\"Чек-лист-готовности-проекта-6\"><span class=\"toc-item-num\">6&nbsp;&nbsp;</span>Чек-лист готовности проекта</a></span></li></ul></div>"
   ]
  },
  {
   "cell_type": "markdown",
   "metadata": {},
   "source": [
    "# Восстановление золота из руды"
   ]
  },
  {
   "cell_type": "markdown",
   "metadata": {},
   "source": [
    "Подготовьте прототип модели машинного обучения для «Цифры». Компания разрабатывает решения для эффективной работы промышленных предприятий.\n",
    "\n",
    "Модель должна предсказать коэффициент восстановления золота из золотосодержащей руды. Используйте данные с параметрами добычи и очистки. \n",
    "\n",
    "Модель поможет оптимизировать производство, чтобы не запускать предприятие с убыточными характеристиками.\n",
    "\n",
    "Вам нужно:\n",
    "\n",
    "1. Подготовить данные;\n",
    "2. Провести исследовательский анализ данных;\n",
    "3. Построить и обучить модель.\n",
    "\n",
    "Чтобы выполнить проект, обращайтесь к библиотекам *pandas*, *matplotlib* и *sklearn.* Вам поможет их документация."
   ]
  },
  {
   "cell_type": "markdown",
   "metadata": {},
   "source": [
    "## Описание задачи"
   ]
  },
  {
   "cell_type": "markdown",
   "metadata": {},
   "source": [
    "### Технологический процесс"
   ]
  },
  {
   "cell_type": "markdown",
   "metadata": {},
   "source": [
    "Когда добытая руда проходит первичную обработку, получается дроблёная смесь. Её отправляют на флотацию (обогащение) и двухэтапную очистку.   \n",
    "Опишем каждую стадию:   \n",
    "**1. Флотация**   \n",
    "Во флотационную установку подаётся смесь золотосодержащей руды. После обогащения получается черновой концентрат и «отвальные хвосты», то есть остатки продукта с низкой концентрацией ценных металлов.   \n",
    "На стабильность этого процесса влияет непостоянное и неоптимальное физико-химическое состояние флотационной пульпы (смеси твёрдых частиц и жидкости).   \n",
    "**2. Очистка**   \n",
    "Черновой концентрат проходит две очистки. На выходе получается финальный концентрат и новые отвальные хвосты."
   ]
  },
  {
   "cell_type": "markdown",
   "metadata": {},
   "source": [
    "### Описание данных"
   ]
  },
  {
   "cell_type": "markdown",
   "metadata": {},
   "source": [
    "Технологический процесс\n",
    "* *Rougher feed* — исходное сырье\n",
    "* *Rougher additions* (или reagent additions) — флотационные реагенты: Xanthate, Sulphate, Depressant\n",
    "* *Xanthate* — ксантогенат (промотер, или активатор флотации);\n",
    "* *Sulphate* — сульфат (на данном производстве сульфид натрия);\n",
    "* *Depressant* — депрессант (силикат натрия).\n",
    "* *Rougher process* (англ. «грубый процесс») — флотация\n",
    "* *Rougher tails* — отвальные хвосты\n",
    "* *Float banks* — флотационная установка\n",
    "* *Cleaner process* — очистка\n",
    "* *Rougher Au* — черновой концентрат золота\n",
    "* *Final Au* — финальный концентрат золота\n",
    "\n",
    "Параметры этапов\n",
    "* *air amount* — объём воздуха\n",
    "* *fluid levels* — уровень жидкости\n",
    "* *feed size* — размер гранул сырья\n",
    "* *feed rate* — скорость подачи"
   ]
  },
  {
   "cell_type": "markdown",
   "metadata": {},
   "source": [
    "**Наименование признаков**   \n",
    "Наименование признаков должно быть такое:   \n",
    "`[этап].[тип_параметра].[название_параметра]`   \n",
    "Пример: `rougher.input.feed_ag`   \n",
    "\n",
    "Возможные значения для блока `[этап]`:   \n",
    "* *rougher* — флотация\n",
    "* *primary_cleaner* — первичная очистка\n",
    "* *secondary_cleaner* — вторичная очистка\n",
    "* *final* — финальные характеристики\n",
    "\n",
    "Возможные значения для блока `[тип_параметра]`:\n",
    "* *input* — параметры сырья\n",
    "* *output* — параметры продукта\n",
    "* *state* — параметры, характеризующие текущее состояние этапа\n",
    "* *calculation* — расчётные характеристики"
   ]
  },
  {
   "cell_type": "markdown",
   "metadata": {},
   "source": [
    "**Расчёт эффективности**   \n",
    "Вам нужно смоделировать процесс восстановления золота из золотосодержащей руды.  \n",
    "Эффективность обогащения рассчитывается по формуле  \n",
    "$Recovery = \\cfrac{C * (F - T)}{F * (C - T)}$   \n",
    "где:\n",
    "1. Флотация\n",
    "    * C — доля золота в черновом концентрате после флотации;\n",
    "    * F — доля золота в сырье до флотации;\n",
    "    * T — доля золота в отвальных хвостах после флотации.\n",
    "2. Очистка \n",
    "    * C — доля золота в финальном концентрате после очистки;\n",
    "    * F — доля золота в черновом концентрате до очистки;\n",
    "    * T — доля золота в отвальных хвостах после очистки.  \n",
    "    \n",
    "Для прогноза коэффициента нужно найти долю золота в концентратах и хвостах. Причём важен не только финальный продукт, но и черновой концентрат.  "
   ]
  },
  {
   "cell_type": "markdown",
   "metadata": {},
   "source": [
    "### Метрика качества"
   ]
  },
  {
   "cell_type": "markdown",
   "metadata": {},
   "source": [
    "Для решения задачи введём новую метрику качества — **sMAPE** (англ. Symmetric Mean Absolute Percentage Error, «симметричное среднее абсолютное процентное отклонение»).  \n",
    "Она похожа на MAE, но выражается не в абсолютных величинах, а в относительных. Почему симметричная? Она одинаково учитывает масштаб и целевого признака, и предсказания.  \n",
    "Метрика sMAPE вычисляется так:  \n",
    "$$sMAPE = \\cfrac{1}{N} \\sum_{i=1}^{N}\\cfrac{\\left|y_i - \\hat{y_i}\\right|}{\\left(|\\hat{y_i}| + |y_i|\\right) / 2}*100%$$\n",
    "\n",
    "$y_i$ - значение целевого признака для объекта с порядковым номером i в выборке, на которой измеряется качество.  \n",
    "$\\hat{y_i}$ - значение предсказания для объекта с порядковым номером i, например, в тестовой выборке.  \n",
    "$N$ - количество объектов в выборке."
   ]
  },
  {
   "cell_type": "markdown",
   "metadata": {},
   "source": [
    "Нужно спрогнозировать сразу две величины:  \n",
    "1. эффективность обогащения чернового концентрата `rougher.output.recovery`;  \n",
    "2. эффективность обогащения финального концентрата `final.output.recovery`.  \n",
    "\n",
    "Итоговая метрика складывается из двух величин:  \n",
    "$$\n",
    "\\text{Итоговое sMAPE} = 25\\% * \\text{sMAPE(rougher)} + 75\\% * \\text{sMAPE(final)}\n",
    "$$"
   ]
  },
  {
   "cell_type": "markdown",
   "metadata": {},
   "source": [
    "## Подготовка данных"
   ]
  },
  {
   "cell_type": "code",
   "execution_count": 1,
   "metadata": {},
   "outputs": [],
   "source": [
    "import pandas as pd\n",
    "import numpy as np\n",
    "import seaborn as sns\n",
    "from matplotlib import pyplot as plt\n",
    "from catboost import CatBoostRegressor\n",
    "from sklearn.model_selection import train_test_split\n",
    "from sklearn.tree import DecisionTreeRegressor\n",
    "from sklearn.ensemble import RandomForestRegressor\n",
    "from sklearn.linear_model import LinearRegression\n",
    "from sklearn.model_selection import cross_val_score\n",
    "from sklearn.metrics import make_scorer\n",
    "from sklearn.dummy import DummyRegressor"
   ]
  },
  {
   "cell_type": "markdown",
   "metadata": {},
   "source": [
    "### Обзор данных"
   ]
  },
  {
   "cell_type": "code",
   "execution_count": 2,
   "metadata": {},
   "outputs": [],
   "source": [
    "try:\n",
    "    data_full = pd.read_csv('\\datasets\\gold_industry_full.csv')\n",
    "    data_test = pd.read_csv('\\datasets\\gold_industry_test.csv')\n",
    "    data_test = pd.read_csv('\\datasets\\gold_industry_train.csv')\n",
    "except:\n",
    "    data_full = pd.read_csv('https://code.s3.yandex.net/datasets/gold_industry_full.csv')\n",
    "    data_test = pd.read_csv('https://code.s3.yandex.net/datasets/gold_industry_test.csv')\n",
    "    data_train = pd.read_csv('https://code.s3.yandex.net/datasets/gold_industry_train.csv')"
   ]
  },
  {
   "cell_type": "markdown",
   "metadata": {},
   "source": [
    "Сначала посмотрим какие же у нас вообще есть колонки в данных."
   ]
  },
  {
   "cell_type": "code",
   "execution_count": 3,
   "metadata": {},
   "outputs": [
    {
     "data": {
      "text/html": [
       "<div>\n",
       "<style scoped>\n",
       "    .dataframe tbody tr th:only-of-type {\n",
       "        vertical-align: middle;\n",
       "    }\n",
       "\n",
       "    .dataframe tbody tr th {\n",
       "        vertical-align: top;\n",
       "    }\n",
       "\n",
       "    .dataframe thead th {\n",
       "        text-align: right;\n",
       "    }\n",
       "</style>\n",
       "<table border=\"1\" class=\"dataframe\">\n",
       "  <thead>\n",
       "    <tr style=\"text-align: right;\">\n",
       "      <th></th>\n",
       "      <th>rougher.input.feed_au</th>\n",
       "      <th>rougher.input.feed_ag</th>\n",
       "      <th>rougher.input.feed_pb</th>\n",
       "      <th>rougher.input.feed_sol</th>\n",
       "    </tr>\n",
       "  </thead>\n",
       "  <tbody>\n",
       "    <tr>\n",
       "      <th>0</th>\n",
       "      <td>6.486150</td>\n",
       "      <td>6.100378</td>\n",
       "      <td>2.284912</td>\n",
       "      <td>36.808594</td>\n",
       "    </tr>\n",
       "    <tr>\n",
       "      <th>1</th>\n",
       "      <td>6.478583</td>\n",
       "      <td>6.161113</td>\n",
       "      <td>2.266033</td>\n",
       "      <td>35.753385</td>\n",
       "    </tr>\n",
       "    <tr>\n",
       "      <th>2</th>\n",
       "      <td>6.362222</td>\n",
       "      <td>6.116455</td>\n",
       "      <td>2.159622</td>\n",
       "      <td>35.971630</td>\n",
       "    </tr>\n",
       "  </tbody>\n",
       "</table>\n",
       "</div>"
      ],
      "text/plain": [
       "   rougher.input.feed_au  rougher.input.feed_ag  rougher.input.feed_pb  \\\n",
       "0               6.486150               6.100378               2.284912   \n",
       "1               6.478583               6.161113               2.266033   \n",
       "2               6.362222               6.116455               2.159622   \n",
       "\n",
       "   rougher.input.feed_sol  \n",
       "0               36.808594  \n",
       "1               35.753385  \n",
       "2               35.971630  "
      ]
     },
     "metadata": {},
     "output_type": "display_data"
    },
    {
     "data": {
      "text/html": [
       "<div>\n",
       "<style scoped>\n",
       "    .dataframe tbody tr th:only-of-type {\n",
       "        vertical-align: middle;\n",
       "    }\n",
       "\n",
       "    .dataframe tbody tr th {\n",
       "        vertical-align: top;\n",
       "    }\n",
       "\n",
       "    .dataframe thead th {\n",
       "        text-align: right;\n",
       "    }\n",
       "</style>\n",
       "<table border=\"1\" class=\"dataframe\">\n",
       "  <thead>\n",
       "    <tr style=\"text-align: right;\">\n",
       "      <th></th>\n",
       "      <th>rougher.input.feed_rate</th>\n",
       "      <th>rougher.input.feed_size</th>\n",
       "      <th>rougher.input.floatbank10_sulfate</th>\n",
       "      <th>rougher.input.floatbank10_xanthate</th>\n",
       "    </tr>\n",
       "  </thead>\n",
       "  <tbody>\n",
       "    <tr>\n",
       "      <th>0</th>\n",
       "      <td>523.546326</td>\n",
       "      <td>55.486599</td>\n",
       "      <td>11.986616</td>\n",
       "      <td>6.007990</td>\n",
       "    </tr>\n",
       "    <tr>\n",
       "      <th>1</th>\n",
       "      <td>525.290581</td>\n",
       "      <td>57.278666</td>\n",
       "      <td>11.971193</td>\n",
       "      <td>6.005766</td>\n",
       "    </tr>\n",
       "    <tr>\n",
       "      <th>2</th>\n",
       "      <td>530.026610</td>\n",
       "      <td>57.510649</td>\n",
       "      <td>11.920603</td>\n",
       "      <td>6.197377</td>\n",
       "    </tr>\n",
       "  </tbody>\n",
       "</table>\n",
       "</div>"
      ],
      "text/plain": [
       "   rougher.input.feed_rate  rougher.input.feed_size  \\\n",
       "0               523.546326                55.486599   \n",
       "1               525.290581                57.278666   \n",
       "2               530.026610                57.510649   \n",
       "\n",
       "   rougher.input.floatbank10_sulfate  rougher.input.floatbank10_xanthate  \n",
       "0                          11.986616                            6.007990  \n",
       "1                          11.971193                            6.005766  \n",
       "2                          11.920603                            6.197377  "
      ]
     },
     "metadata": {},
     "output_type": "display_data"
    },
    {
     "data": {
      "text/html": [
       "<div>\n",
       "<style scoped>\n",
       "    .dataframe tbody tr th:only-of-type {\n",
       "        vertical-align: middle;\n",
       "    }\n",
       "\n",
       "    .dataframe tbody tr th {\n",
       "        vertical-align: top;\n",
       "    }\n",
       "\n",
       "    .dataframe thead th {\n",
       "        text-align: right;\n",
       "    }\n",
       "</style>\n",
       "<table border=\"1\" class=\"dataframe\">\n",
       "  <thead>\n",
       "    <tr style=\"text-align: right;\">\n",
       "      <th></th>\n",
       "      <th>rougher.state.floatbank10_a_air</th>\n",
       "      <th>rougher.state.floatbank10_a_level</th>\n",
       "      <th>rougher.state.floatbank10_b_air</th>\n",
       "      <th>rougher.state.floatbank10_b_level</th>\n",
       "    </tr>\n",
       "  </thead>\n",
       "  <tbody>\n",
       "    <tr>\n",
       "      <th>0</th>\n",
       "      <td>999.706909</td>\n",
       "      <td>-404.066986</td>\n",
       "      <td>1603.011353</td>\n",
       "      <td>-434.715027</td>\n",
       "    </tr>\n",
       "    <tr>\n",
       "      <th>1</th>\n",
       "      <td>1000.286398</td>\n",
       "      <td>-400.065196</td>\n",
       "      <td>1600.754587</td>\n",
       "      <td>-449.953435</td>\n",
       "    </tr>\n",
       "    <tr>\n",
       "      <th>2</th>\n",
       "      <td>999.719565</td>\n",
       "      <td>-400.074028</td>\n",
       "      <td>1599.337330</td>\n",
       "      <td>-450.008530</td>\n",
       "    </tr>\n",
       "  </tbody>\n",
       "</table>\n",
       "</div>"
      ],
      "text/plain": [
       "   rougher.state.floatbank10_a_air  rougher.state.floatbank10_a_level  \\\n",
       "0                       999.706909                        -404.066986   \n",
       "1                      1000.286398                        -400.065196   \n",
       "2                       999.719565                        -400.074028   \n",
       "\n",
       "   rougher.state.floatbank10_b_air  rougher.state.floatbank10_b_level  \n",
       "0                      1603.011353                        -434.715027  \n",
       "1                      1600.754587                        -449.953435  \n",
       "2                      1599.337330                        -450.008530  "
      ]
     },
     "metadata": {},
     "output_type": "display_data"
    },
    {
     "data": {
      "text/html": [
       "<div>\n",
       "<style scoped>\n",
       "    .dataframe tbody tr th:only-of-type {\n",
       "        vertical-align: middle;\n",
       "    }\n",
       "\n",
       "    .dataframe tbody tr th {\n",
       "        vertical-align: top;\n",
       "    }\n",
       "\n",
       "    .dataframe thead th {\n",
       "        text-align: right;\n",
       "    }\n",
       "</style>\n",
       "<table border=\"1\" class=\"dataframe\">\n",
       "  <thead>\n",
       "    <tr style=\"text-align: right;\">\n",
       "      <th></th>\n",
       "      <th>rougher.state.floatbank10_c_air</th>\n",
       "      <th>rougher.state.floatbank10_c_level</th>\n",
       "      <th>rougher.state.floatbank10_d_air</th>\n",
       "      <th>rougher.state.floatbank10_d_level</th>\n",
       "    </tr>\n",
       "  </thead>\n",
       "  <tbody>\n",
       "    <tr>\n",
       "      <th>0</th>\n",
       "      <td>1602.375000</td>\n",
       "      <td>-442.204468</td>\n",
       "      <td>1598.937256</td>\n",
       "      <td>-451.294128</td>\n",
       "    </tr>\n",
       "    <tr>\n",
       "      <th>1</th>\n",
       "      <td>1600.479580</td>\n",
       "      <td>-449.830646</td>\n",
       "      <td>1600.527589</td>\n",
       "      <td>-449.953649</td>\n",
       "    </tr>\n",
       "    <tr>\n",
       "      <th>2</th>\n",
       "      <td>1599.672797</td>\n",
       "      <td>-449.954491</td>\n",
       "      <td>1599.849325</td>\n",
       "      <td>-449.954185</td>\n",
       "    </tr>\n",
       "  </tbody>\n",
       "</table>\n",
       "</div>"
      ],
      "text/plain": [
       "   rougher.state.floatbank10_c_air  rougher.state.floatbank10_c_level  \\\n",
       "0                      1602.375000                        -442.204468   \n",
       "1                      1600.479580                        -449.830646   \n",
       "2                      1599.672797                        -449.954491   \n",
       "\n",
       "   rougher.state.floatbank10_d_air  rougher.state.floatbank10_d_level  \n",
       "0                      1598.937256                        -451.294128  \n",
       "1                      1600.527589                        -449.953649  \n",
       "2                      1599.849325                        -449.954185  "
      ]
     },
     "metadata": {},
     "output_type": "display_data"
    },
    {
     "data": {
      "text/html": [
       "<div>\n",
       "<style scoped>\n",
       "    .dataframe tbody tr th:only-of-type {\n",
       "        vertical-align: middle;\n",
       "    }\n",
       "\n",
       "    .dataframe tbody tr th {\n",
       "        vertical-align: top;\n",
       "    }\n",
       "\n",
       "    .dataframe thead th {\n",
       "        text-align: right;\n",
       "    }\n",
       "</style>\n",
       "<table border=\"1\" class=\"dataframe\">\n",
       "  <thead>\n",
       "    <tr style=\"text-align: right;\">\n",
       "      <th></th>\n",
       "      <th>rougher.state.floatbank10_e_air</th>\n",
       "      <th>rougher.state.floatbank10_e_level</th>\n",
       "      <th>rougher.state.floatbank10_f_air</th>\n",
       "      <th>rougher.state.floatbank10_f_level</th>\n",
       "    </tr>\n",
       "  </thead>\n",
       "  <tbody>\n",
       "    <tr>\n",
       "      <th>0</th>\n",
       "      <td>1404.472046</td>\n",
       "      <td>-455.462982</td>\n",
       "      <td>1416.354980</td>\n",
       "      <td>-451.939636</td>\n",
       "    </tr>\n",
       "    <tr>\n",
       "      <th>1</th>\n",
       "      <td>1399.227084</td>\n",
       "      <td>-450.869848</td>\n",
       "      <td>1399.719514</td>\n",
       "      <td>-450.119001</td>\n",
       "    </tr>\n",
       "    <tr>\n",
       "      <th>2</th>\n",
       "      <td>1399.180945</td>\n",
       "      <td>-449.937588</td>\n",
       "      <td>1400.316682</td>\n",
       "      <td>-450.527147</td>\n",
       "    </tr>\n",
       "  </tbody>\n",
       "</table>\n",
       "</div>"
      ],
      "text/plain": [
       "   rougher.state.floatbank10_e_air  rougher.state.floatbank10_e_level  \\\n",
       "0                      1404.472046                        -455.462982   \n",
       "1                      1399.227084                        -450.869848   \n",
       "2                      1399.180945                        -449.937588   \n",
       "\n",
       "   rougher.state.floatbank10_f_air  rougher.state.floatbank10_f_level  \n",
       "0                      1416.354980                        -451.939636  \n",
       "1                      1399.719514                        -450.119001  \n",
       "2                      1400.316682                        -450.527147  "
      ]
     },
     "metadata": {},
     "output_type": "display_data"
    },
    {
     "data": {
      "text/html": [
       "<div>\n",
       "<style scoped>\n",
       "    .dataframe tbody tr th:only-of-type {\n",
       "        vertical-align: middle;\n",
       "    }\n",
       "\n",
       "    .dataframe tbody tr th {\n",
       "        vertical-align: top;\n",
       "    }\n",
       "\n",
       "    .dataframe thead th {\n",
       "        text-align: right;\n",
       "    }\n",
       "</style>\n",
       "<table border=\"1\" class=\"dataframe\">\n",
       "  <thead>\n",
       "    <tr style=\"text-align: right;\">\n",
       "      <th></th>\n",
       "      <th>rougher.input.floatbank11_sulfate</th>\n",
       "      <th>rougher.input.floatbank11_xanthate</th>\n",
       "      <th>rougher.calculation.sulfate_to_au_concentrate</th>\n",
       "      <th>rougher.calculation.floatbank10_sulfate_to_au_feed</th>\n",
       "    </tr>\n",
       "  </thead>\n",
       "  <tbody>\n",
       "    <tr>\n",
       "      <th>0</th>\n",
       "      <td>11.836743</td>\n",
       "      <td>6.005818</td>\n",
       "      <td>41885.707031</td>\n",
       "      <td>3481.779053</td>\n",
       "    </tr>\n",
       "    <tr>\n",
       "      <th>1</th>\n",
       "      <td>11.996163</td>\n",
       "      <td>6.012594</td>\n",
       "      <td>42050.861809</td>\n",
       "      <td>3498.370979</td>\n",
       "    </tr>\n",
       "    <tr>\n",
       "      <th>2</th>\n",
       "      <td>11.920305</td>\n",
       "      <td>6.204633</td>\n",
       "      <td>42018.101184</td>\n",
       "      <td>3495.348910</td>\n",
       "    </tr>\n",
       "  </tbody>\n",
       "</table>\n",
       "</div>"
      ],
      "text/plain": [
       "   rougher.input.floatbank11_sulfate  rougher.input.floatbank11_xanthate  \\\n",
       "0                          11.836743                            6.005818   \n",
       "1                          11.996163                            6.012594   \n",
       "2                          11.920305                            6.204633   \n",
       "\n",
       "   rougher.calculation.sulfate_to_au_concentrate  \\\n",
       "0                                   41885.707031   \n",
       "1                                   42050.861809   \n",
       "2                                   42018.101184   \n",
       "\n",
       "   rougher.calculation.floatbank10_sulfate_to_au_feed  \n",
       "0                                        3481.779053   \n",
       "1                                        3498.370979   \n",
       "2                                        3495.348910   "
      ]
     },
     "metadata": {},
     "output_type": "display_data"
    },
    {
     "data": {
      "text/html": [
       "<div>\n",
       "<style scoped>\n",
       "    .dataframe tbody tr th:only-of-type {\n",
       "        vertical-align: middle;\n",
       "    }\n",
       "\n",
       "    .dataframe tbody tr th {\n",
       "        vertical-align: top;\n",
       "    }\n",
       "\n",
       "    .dataframe thead th {\n",
       "        text-align: right;\n",
       "    }\n",
       "</style>\n",
       "<table border=\"1\" class=\"dataframe\">\n",
       "  <thead>\n",
       "    <tr style=\"text-align: right;\">\n",
       "      <th></th>\n",
       "      <th>rougher.calculation.floatbank11_sulfate_to_au_feed</th>\n",
       "      <th>rougher.calculation.au_pb_ratio</th>\n",
       "      <th>rougher.output.concentrate_au</th>\n",
       "      <th>rougher.output.concentrate_ag</th>\n",
       "    </tr>\n",
       "  </thead>\n",
       "  <tbody>\n",
       "    <tr>\n",
       "      <th>0</th>\n",
       "      <td>3520.337158</td>\n",
       "      <td>2.838687</td>\n",
       "      <td>19.793808</td>\n",
       "      <td>11.500771</td>\n",
       "    </tr>\n",
       "    <tr>\n",
       "      <th>1</th>\n",
       "      <td>3489.981857</td>\n",
       "      <td>2.858998</td>\n",
       "      <td>20.050975</td>\n",
       "      <td>11.615865</td>\n",
       "    </tr>\n",
       "    <tr>\n",
       "      <th>2</th>\n",
       "      <td>3502.359819</td>\n",
       "      <td>2.945989</td>\n",
       "      <td>19.737170</td>\n",
       "      <td>11.695753</td>\n",
       "    </tr>\n",
       "  </tbody>\n",
       "</table>\n",
       "</div>"
      ],
      "text/plain": [
       "   rougher.calculation.floatbank11_sulfate_to_au_feed  \\\n",
       "0                                        3520.337158    \n",
       "1                                        3489.981857    \n",
       "2                                        3502.359819    \n",
       "\n",
       "   rougher.calculation.au_pb_ratio  rougher.output.concentrate_au  \\\n",
       "0                         2.838687                      19.793808   \n",
       "1                         2.858998                      20.050975   \n",
       "2                         2.945989                      19.737170   \n",
       "\n",
       "   rougher.output.concentrate_ag  \n",
       "0                      11.500771  \n",
       "1                      11.615865  \n",
       "2                      11.695753  "
      ]
     },
     "metadata": {},
     "output_type": "display_data"
    },
    {
     "data": {
      "text/html": [
       "<div>\n",
       "<style scoped>\n",
       "    .dataframe tbody tr th:only-of-type {\n",
       "        vertical-align: middle;\n",
       "    }\n",
       "\n",
       "    .dataframe tbody tr th {\n",
       "        vertical-align: top;\n",
       "    }\n",
       "\n",
       "    .dataframe thead th {\n",
       "        text-align: right;\n",
       "    }\n",
       "</style>\n",
       "<table border=\"1\" class=\"dataframe\">\n",
       "  <thead>\n",
       "    <tr style=\"text-align: right;\">\n",
       "      <th></th>\n",
       "      <th>rougher.output.concentrate_pb</th>\n",
       "      <th>rougher.output.concentrate_sol</th>\n",
       "      <th>rougher.output.recovery</th>\n",
       "      <th>rougher.output.tail_au</th>\n",
       "    </tr>\n",
       "  </thead>\n",
       "  <tbody>\n",
       "    <tr>\n",
       "      <th>0</th>\n",
       "      <td>7.101074</td>\n",
       "      <td>28.029297</td>\n",
       "      <td>87.107763</td>\n",
       "      <td>1.170244</td>\n",
       "    </tr>\n",
       "    <tr>\n",
       "      <th>1</th>\n",
       "      <td>7.278807</td>\n",
       "      <td>28.067063</td>\n",
       "      <td>86.843261</td>\n",
       "      <td>1.184827</td>\n",
       "    </tr>\n",
       "    <tr>\n",
       "      <th>2</th>\n",
       "      <td>7.216833</td>\n",
       "      <td>27.454037</td>\n",
       "      <td>86.842308</td>\n",
       "      <td>1.162562</td>\n",
       "    </tr>\n",
       "  </tbody>\n",
       "</table>\n",
       "</div>"
      ],
      "text/plain": [
       "   rougher.output.concentrate_pb  rougher.output.concentrate_sol  \\\n",
       "0                       7.101074                       28.029297   \n",
       "1                       7.278807                       28.067063   \n",
       "2                       7.216833                       27.454037   \n",
       "\n",
       "   rougher.output.recovery  rougher.output.tail_au  \n",
       "0                87.107763                1.170244  \n",
       "1                86.843261                1.184827  \n",
       "2                86.842308                1.162562  "
      ]
     },
     "metadata": {},
     "output_type": "display_data"
    },
    {
     "data": {
      "text/html": [
       "<div>\n",
       "<style scoped>\n",
       "    .dataframe tbody tr th:only-of-type {\n",
       "        vertical-align: middle;\n",
       "    }\n",
       "\n",
       "    .dataframe tbody tr th {\n",
       "        vertical-align: top;\n",
       "    }\n",
       "\n",
       "    .dataframe thead th {\n",
       "        text-align: right;\n",
       "    }\n",
       "</style>\n",
       "<table border=\"1\" class=\"dataframe\">\n",
       "  <thead>\n",
       "    <tr style=\"text-align: right;\">\n",
       "      <th></th>\n",
       "      <th>rougher.output.tail_ag</th>\n",
       "      <th>rougher.output.tail_pb</th>\n",
       "      <th>rougher.output.tail_sol</th>\n",
       "      <th>primary_cleaner.input.sulfate</th>\n",
       "    </tr>\n",
       "  </thead>\n",
       "  <tbody>\n",
       "    <tr>\n",
       "      <th>0</th>\n",
       "      <td>5.008018</td>\n",
       "      <td>0.508728</td>\n",
       "      <td>19.154297</td>\n",
       "      <td>127.092003</td>\n",
       "    </tr>\n",
       "    <tr>\n",
       "      <th>1</th>\n",
       "      <td>4.955378</td>\n",
       "      <td>0.536689</td>\n",
       "      <td>18.965234</td>\n",
       "      <td>125.629232</td>\n",
       "    </tr>\n",
       "    <tr>\n",
       "      <th>2</th>\n",
       "      <td>4.843460</td>\n",
       "      <td>0.546416</td>\n",
       "      <td>18.808533</td>\n",
       "      <td>123.819808</td>\n",
       "    </tr>\n",
       "  </tbody>\n",
       "</table>\n",
       "</div>"
      ],
      "text/plain": [
       "   rougher.output.tail_ag  rougher.output.tail_pb  rougher.output.tail_sol  \\\n",
       "0                5.008018                0.508728                19.154297   \n",
       "1                4.955378                0.536689                18.965234   \n",
       "2                4.843460                0.546416                18.808533   \n",
       "\n",
       "   primary_cleaner.input.sulfate  \n",
       "0                     127.092003  \n",
       "1                     125.629232  \n",
       "2                     123.819808  "
      ]
     },
     "metadata": {},
     "output_type": "display_data"
    },
    {
     "data": {
      "text/html": [
       "<div>\n",
       "<style scoped>\n",
       "    .dataframe tbody tr th:only-of-type {\n",
       "        vertical-align: middle;\n",
       "    }\n",
       "\n",
       "    .dataframe tbody tr th {\n",
       "        vertical-align: top;\n",
       "    }\n",
       "\n",
       "    .dataframe thead th {\n",
       "        text-align: right;\n",
       "    }\n",
       "</style>\n",
       "<table border=\"1\" class=\"dataframe\">\n",
       "  <thead>\n",
       "    <tr style=\"text-align: right;\">\n",
       "      <th></th>\n",
       "      <th>primary_cleaner.input.depressant</th>\n",
       "      <th>primary_cleaner.input.feed_size</th>\n",
       "      <th>primary_cleaner.input.xanthate</th>\n",
       "      <th>primary_cleaner.state.floatbank8_a_air</th>\n",
       "    </tr>\n",
       "  </thead>\n",
       "  <tbody>\n",
       "    <tr>\n",
       "      <th>0</th>\n",
       "      <td>10.128295</td>\n",
       "      <td>7.25</td>\n",
       "      <td>0.988759</td>\n",
       "      <td>1549.775757</td>\n",
       "    </tr>\n",
       "    <tr>\n",
       "      <th>1</th>\n",
       "      <td>10.296251</td>\n",
       "      <td>7.25</td>\n",
       "      <td>1.002663</td>\n",
       "      <td>1576.166671</td>\n",
       "    </tr>\n",
       "    <tr>\n",
       "      <th>2</th>\n",
       "      <td>11.316280</td>\n",
       "      <td>7.25</td>\n",
       "      <td>0.991265</td>\n",
       "      <td>1601.556163</td>\n",
       "    </tr>\n",
       "  </tbody>\n",
       "</table>\n",
       "</div>"
      ],
      "text/plain": [
       "   primary_cleaner.input.depressant  primary_cleaner.input.feed_size  \\\n",
       "0                         10.128295                             7.25   \n",
       "1                         10.296251                             7.25   \n",
       "2                         11.316280                             7.25   \n",
       "\n",
       "   primary_cleaner.input.xanthate  primary_cleaner.state.floatbank8_a_air  \n",
       "0                        0.988759                             1549.775757  \n",
       "1                        1.002663                             1576.166671  \n",
       "2                        0.991265                             1601.556163  "
      ]
     },
     "metadata": {},
     "output_type": "display_data"
    },
    {
     "data": {
      "text/html": [
       "<div>\n",
       "<style scoped>\n",
       "    .dataframe tbody tr th:only-of-type {\n",
       "        vertical-align: middle;\n",
       "    }\n",
       "\n",
       "    .dataframe tbody tr th {\n",
       "        vertical-align: top;\n",
       "    }\n",
       "\n",
       "    .dataframe thead th {\n",
       "        text-align: right;\n",
       "    }\n",
       "</style>\n",
       "<table border=\"1\" class=\"dataframe\">\n",
       "  <thead>\n",
       "    <tr style=\"text-align: right;\">\n",
       "      <th></th>\n",
       "      <th>primary_cleaner.state.floatbank8_a_level</th>\n",
       "      <th>primary_cleaner.state.floatbank8_b_air</th>\n",
       "      <th>primary_cleaner.state.floatbank8_b_level</th>\n",
       "      <th>primary_cleaner.state.floatbank8_c_air</th>\n",
       "    </tr>\n",
       "  </thead>\n",
       "  <tbody>\n",
       "    <tr>\n",
       "      <th>0</th>\n",
       "      <td>-498.912140</td>\n",
       "      <td>1551.434204</td>\n",
       "      <td>-516.403442</td>\n",
       "      <td>1549.873901</td>\n",
       "    </tr>\n",
       "    <tr>\n",
       "      <th>1</th>\n",
       "      <td>-500.904965</td>\n",
       "      <td>1575.950626</td>\n",
       "      <td>-499.865889</td>\n",
       "      <td>1575.994189</td>\n",
       "    </tr>\n",
       "    <tr>\n",
       "      <th>2</th>\n",
       "      <td>-499.997791</td>\n",
       "      <td>1600.386685</td>\n",
       "      <td>-500.607762</td>\n",
       "      <td>1602.003542</td>\n",
       "    </tr>\n",
       "  </tbody>\n",
       "</table>\n",
       "</div>"
      ],
      "text/plain": [
       "   primary_cleaner.state.floatbank8_a_level  \\\n",
       "0                               -498.912140   \n",
       "1                               -500.904965   \n",
       "2                               -499.997791   \n",
       "\n",
       "   primary_cleaner.state.floatbank8_b_air  \\\n",
       "0                             1551.434204   \n",
       "1                             1575.950626   \n",
       "2                             1600.386685   \n",
       "\n",
       "   primary_cleaner.state.floatbank8_b_level  \\\n",
       "0                               -516.403442   \n",
       "1                               -499.865889   \n",
       "2                               -500.607762   \n",
       "\n",
       "   primary_cleaner.state.floatbank8_c_air  \n",
       "0                             1549.873901  \n",
       "1                             1575.994189  \n",
       "2                             1602.003542  "
      ]
     },
     "metadata": {},
     "output_type": "display_data"
    },
    {
     "data": {
      "text/html": [
       "<div>\n",
       "<style scoped>\n",
       "    .dataframe tbody tr th:only-of-type {\n",
       "        vertical-align: middle;\n",
       "    }\n",
       "\n",
       "    .dataframe tbody tr th {\n",
       "        vertical-align: top;\n",
       "    }\n",
       "\n",
       "    .dataframe thead th {\n",
       "        text-align: right;\n",
       "    }\n",
       "</style>\n",
       "<table border=\"1\" class=\"dataframe\">\n",
       "  <thead>\n",
       "    <tr style=\"text-align: right;\">\n",
       "      <th></th>\n",
       "      <th>primary_cleaner.state.floatbank8_c_level</th>\n",
       "      <th>primary_cleaner.state.floatbank8_d_air</th>\n",
       "      <th>primary_cleaner.state.floatbank8_d_level</th>\n",
       "      <th>primary_cleaner.output.concentrate_au</th>\n",
       "    </tr>\n",
       "  </thead>\n",
       "  <tbody>\n",
       "    <tr>\n",
       "      <th>0</th>\n",
       "      <td>-498.666595</td>\n",
       "      <td>1554.367432</td>\n",
       "      <td>-493.428131</td>\n",
       "      <td>34.174427</td>\n",
       "    </tr>\n",
       "    <tr>\n",
       "      <th>1</th>\n",
       "      <td>-499.315107</td>\n",
       "      <td>1574.479259</td>\n",
       "      <td>-498.931665</td>\n",
       "      <td>34.118526</td>\n",
       "    </tr>\n",
       "    <tr>\n",
       "      <th>2</th>\n",
       "      <td>-500.870069</td>\n",
       "      <td>1599.541515</td>\n",
       "      <td>-499.827444</td>\n",
       "      <td>33.969464</td>\n",
       "    </tr>\n",
       "  </tbody>\n",
       "</table>\n",
       "</div>"
      ],
      "text/plain": [
       "   primary_cleaner.state.floatbank8_c_level  \\\n",
       "0                               -498.666595   \n",
       "1                               -499.315107   \n",
       "2                               -500.870069   \n",
       "\n",
       "   primary_cleaner.state.floatbank8_d_air  \\\n",
       "0                             1554.367432   \n",
       "1                             1574.479259   \n",
       "2                             1599.541515   \n",
       "\n",
       "   primary_cleaner.state.floatbank8_d_level  \\\n",
       "0                               -493.428131   \n",
       "1                               -498.931665   \n",
       "2                               -499.827444   \n",
       "\n",
       "   primary_cleaner.output.concentrate_au  \n",
       "0                              34.174427  \n",
       "1                              34.118526  \n",
       "2                              33.969464  "
      ]
     },
     "metadata": {},
     "output_type": "display_data"
    },
    {
     "data": {
      "text/html": [
       "<div>\n",
       "<style scoped>\n",
       "    .dataframe tbody tr th:only-of-type {\n",
       "        vertical-align: middle;\n",
       "    }\n",
       "\n",
       "    .dataframe tbody tr th {\n",
       "        vertical-align: top;\n",
       "    }\n",
       "\n",
       "    .dataframe thead th {\n",
       "        text-align: right;\n",
       "    }\n",
       "</style>\n",
       "<table border=\"1\" class=\"dataframe\">\n",
       "  <thead>\n",
       "    <tr style=\"text-align: right;\">\n",
       "      <th></th>\n",
       "      <th>primary_cleaner.output.concentrate_ag</th>\n",
       "      <th>primary_cleaner.output.concentrate_pb</th>\n",
       "      <th>primary_cleaner.output.concentrate_sol</th>\n",
       "      <th>primary_cleaner.output.tail_au</th>\n",
       "    </tr>\n",
       "  </thead>\n",
       "  <tbody>\n",
       "    <tr>\n",
       "      <th>0</th>\n",
       "      <td>8.547551</td>\n",
       "      <td>10.389648</td>\n",
       "      <td>19.529297</td>\n",
       "      <td>2.106679</td>\n",
       "    </tr>\n",
       "    <tr>\n",
       "      <th>1</th>\n",
       "      <td>8.558743</td>\n",
       "      <td>10.497069</td>\n",
       "      <td>19.369147</td>\n",
       "      <td>2.353017</td>\n",
       "    </tr>\n",
       "    <tr>\n",
       "      <th>2</th>\n",
       "      <td>8.603505</td>\n",
       "      <td>10.354494</td>\n",
       "      <td>19.167579</td>\n",
       "      <td>2.416800</td>\n",
       "    </tr>\n",
       "  </tbody>\n",
       "</table>\n",
       "</div>"
      ],
      "text/plain": [
       "   primary_cleaner.output.concentrate_ag  \\\n",
       "0                               8.547551   \n",
       "1                               8.558743   \n",
       "2                               8.603505   \n",
       "\n",
       "   primary_cleaner.output.concentrate_pb  \\\n",
       "0                              10.389648   \n",
       "1                              10.497069   \n",
       "2                              10.354494   \n",
       "\n",
       "   primary_cleaner.output.concentrate_sol  primary_cleaner.output.tail_au  \n",
       "0                               19.529297                        2.106679  \n",
       "1                               19.369147                        2.353017  \n",
       "2                               19.167579                        2.416800  "
      ]
     },
     "metadata": {},
     "output_type": "display_data"
    },
    {
     "data": {
      "text/html": [
       "<div>\n",
       "<style scoped>\n",
       "    .dataframe tbody tr th:only-of-type {\n",
       "        vertical-align: middle;\n",
       "    }\n",
       "\n",
       "    .dataframe tbody tr th {\n",
       "        vertical-align: top;\n",
       "    }\n",
       "\n",
       "    .dataframe thead th {\n",
       "        text-align: right;\n",
       "    }\n",
       "</style>\n",
       "<table border=\"1\" class=\"dataframe\">\n",
       "  <thead>\n",
       "    <tr style=\"text-align: right;\">\n",
       "      <th></th>\n",
       "      <th>primary_cleaner.output.tail_ag</th>\n",
       "      <th>primary_cleaner.output.tail_pb</th>\n",
       "      <th>primary_cleaner.output.tail_sol</th>\n",
       "      <th>secondary_cleaner.state.floatbank2_a_air</th>\n",
       "    </tr>\n",
       "  </thead>\n",
       "  <tbody>\n",
       "    <tr>\n",
       "      <th>0</th>\n",
       "      <td>14.936526</td>\n",
       "      <td>2.534912</td>\n",
       "      <td>7.476074</td>\n",
       "      <td>25.853109</td>\n",
       "    </tr>\n",
       "    <tr>\n",
       "      <th>1</th>\n",
       "      <td>16.250511</td>\n",
       "      <td>3.049646</td>\n",
       "      <td>6.733907</td>\n",
       "      <td>25.880539</td>\n",
       "    </tr>\n",
       "    <tr>\n",
       "      <th>2</th>\n",
       "      <td>16.491823</td>\n",
       "      <td>3.124664</td>\n",
       "      <td>6.471768</td>\n",
       "      <td>26.005245</td>\n",
       "    </tr>\n",
       "  </tbody>\n",
       "</table>\n",
       "</div>"
      ],
      "text/plain": [
       "   primary_cleaner.output.tail_ag  primary_cleaner.output.tail_pb  \\\n",
       "0                       14.936526                        2.534912   \n",
       "1                       16.250511                        3.049646   \n",
       "2                       16.491823                        3.124664   \n",
       "\n",
       "   primary_cleaner.output.tail_sol  secondary_cleaner.state.floatbank2_a_air  \n",
       "0                         7.476074                                 25.853109  \n",
       "1                         6.733907                                 25.880539  \n",
       "2                         6.471768                                 26.005245  "
      ]
     },
     "metadata": {},
     "output_type": "display_data"
    },
    {
     "data": {
      "text/html": [
       "<div>\n",
       "<style scoped>\n",
       "    .dataframe tbody tr th:only-of-type {\n",
       "        vertical-align: middle;\n",
       "    }\n",
       "\n",
       "    .dataframe tbody tr th {\n",
       "        vertical-align: top;\n",
       "    }\n",
       "\n",
       "    .dataframe thead th {\n",
       "        text-align: right;\n",
       "    }\n",
       "</style>\n",
       "<table border=\"1\" class=\"dataframe\">\n",
       "  <thead>\n",
       "    <tr style=\"text-align: right;\">\n",
       "      <th></th>\n",
       "      <th>secondary_cleaner.state.floatbank2_a_level</th>\n",
       "      <th>secondary_cleaner.state.floatbank2_b_air</th>\n",
       "      <th>secondary_cleaner.state.floatbank2_b_level</th>\n",
       "      <th>secondary_cleaner.state.floatbank3_a_air</th>\n",
       "    </tr>\n",
       "  </thead>\n",
       "  <tbody>\n",
       "    <tr>\n",
       "      <th>0</th>\n",
       "      <td>-498.526489</td>\n",
       "      <td>23.893660</td>\n",
       "      <td>-501.406281</td>\n",
       "      <td>23.961798</td>\n",
       "    </tr>\n",
       "    <tr>\n",
       "      <th>1</th>\n",
       "      <td>-499.989656</td>\n",
       "      <td>23.889530</td>\n",
       "      <td>-500.372428</td>\n",
       "      <td>23.970550</td>\n",
       "    </tr>\n",
       "    <tr>\n",
       "      <th>2</th>\n",
       "      <td>-499.929616</td>\n",
       "      <td>23.886657</td>\n",
       "      <td>-499.951928</td>\n",
       "      <td>23.913535</td>\n",
       "    </tr>\n",
       "  </tbody>\n",
       "</table>\n",
       "</div>"
      ],
      "text/plain": [
       "   secondary_cleaner.state.floatbank2_a_level  \\\n",
       "0                                 -498.526489   \n",
       "1                                 -499.989656   \n",
       "2                                 -499.929616   \n",
       "\n",
       "   secondary_cleaner.state.floatbank2_b_air  \\\n",
       "0                                 23.893660   \n",
       "1                                 23.889530   \n",
       "2                                 23.886657   \n",
       "\n",
       "   secondary_cleaner.state.floatbank2_b_level  \\\n",
       "0                                 -501.406281   \n",
       "1                                 -500.372428   \n",
       "2                                 -499.951928   \n",
       "\n",
       "   secondary_cleaner.state.floatbank3_a_air  \n",
       "0                                 23.961798  \n",
       "1                                 23.970550  \n",
       "2                                 23.913535  "
      ]
     },
     "metadata": {},
     "output_type": "display_data"
    },
    {
     "data": {
      "text/html": [
       "<div>\n",
       "<style scoped>\n",
       "    .dataframe tbody tr th:only-of-type {\n",
       "        vertical-align: middle;\n",
       "    }\n",
       "\n",
       "    .dataframe tbody tr th {\n",
       "        vertical-align: top;\n",
       "    }\n",
       "\n",
       "    .dataframe thead th {\n",
       "        text-align: right;\n",
       "    }\n",
       "</style>\n",
       "<table border=\"1\" class=\"dataframe\">\n",
       "  <thead>\n",
       "    <tr style=\"text-align: right;\">\n",
       "      <th></th>\n",
       "      <th>secondary_cleaner.state.floatbank3_a_level</th>\n",
       "      <th>secondary_cleaner.state.floatbank3_b_air</th>\n",
       "      <th>secondary_cleaner.state.floatbank3_b_level</th>\n",
       "      <th>secondary_cleaner.state.floatbank4_a_air</th>\n",
       "    </tr>\n",
       "  </thead>\n",
       "  <tbody>\n",
       "    <tr>\n",
       "      <th>0</th>\n",
       "      <td>-495.262817</td>\n",
       "      <td>21.940409</td>\n",
       "      <td>-499.340973</td>\n",
       "      <td>14.016835</td>\n",
       "    </tr>\n",
       "    <tr>\n",
       "      <th>1</th>\n",
       "      <td>-500.085473</td>\n",
       "      <td>22.085714</td>\n",
       "      <td>-499.446897</td>\n",
       "      <td>13.992281</td>\n",
       "    </tr>\n",
       "    <tr>\n",
       "      <th>2</th>\n",
       "      <td>-499.442343</td>\n",
       "      <td>23.957717</td>\n",
       "      <td>-499.901982</td>\n",
       "      <td>14.015015</td>\n",
       "    </tr>\n",
       "  </tbody>\n",
       "</table>\n",
       "</div>"
      ],
      "text/plain": [
       "   secondary_cleaner.state.floatbank3_a_level  \\\n",
       "0                                 -495.262817   \n",
       "1                                 -500.085473   \n",
       "2                                 -499.442343   \n",
       "\n",
       "   secondary_cleaner.state.floatbank3_b_air  \\\n",
       "0                                 21.940409   \n",
       "1                                 22.085714   \n",
       "2                                 23.957717   \n",
       "\n",
       "   secondary_cleaner.state.floatbank3_b_level  \\\n",
       "0                                 -499.340973   \n",
       "1                                 -499.446897   \n",
       "2                                 -499.901982   \n",
       "\n",
       "   secondary_cleaner.state.floatbank4_a_air  \n",
       "0                                 14.016835  \n",
       "1                                 13.992281  \n",
       "2                                 14.015015  "
      ]
     },
     "metadata": {},
     "output_type": "display_data"
    },
    {
     "data": {
      "text/html": [
       "<div>\n",
       "<style scoped>\n",
       "    .dataframe tbody tr th:only-of-type {\n",
       "        vertical-align: middle;\n",
       "    }\n",
       "\n",
       "    .dataframe tbody tr th {\n",
       "        vertical-align: top;\n",
       "    }\n",
       "\n",
       "    .dataframe thead th {\n",
       "        text-align: right;\n",
       "    }\n",
       "</style>\n",
       "<table border=\"1\" class=\"dataframe\">\n",
       "  <thead>\n",
       "    <tr style=\"text-align: right;\">\n",
       "      <th></th>\n",
       "      <th>secondary_cleaner.state.floatbank4_a_level</th>\n",
       "      <th>secondary_cleaner.state.floatbank4_b_air</th>\n",
       "      <th>secondary_cleaner.state.floatbank4_b_level</th>\n",
       "      <th>secondary_cleaner.state.floatbank5_a_air</th>\n",
       "    </tr>\n",
       "  </thead>\n",
       "  <tbody>\n",
       "    <tr>\n",
       "      <th>0</th>\n",
       "      <td>-502.488007</td>\n",
       "      <td>12.099931</td>\n",
       "      <td>-504.715942</td>\n",
       "      <td>9.925633</td>\n",
       "    </tr>\n",
       "    <tr>\n",
       "      <th>1</th>\n",
       "      <td>-505.503262</td>\n",
       "      <td>11.950531</td>\n",
       "      <td>-501.331529</td>\n",
       "      <td>10.039245</td>\n",
       "    </tr>\n",
       "    <tr>\n",
       "      <th>2</th>\n",
       "      <td>-502.520901</td>\n",
       "      <td>11.912783</td>\n",
       "      <td>-501.133383</td>\n",
       "      <td>10.070913</td>\n",
       "    </tr>\n",
       "  </tbody>\n",
       "</table>\n",
       "</div>"
      ],
      "text/plain": [
       "   secondary_cleaner.state.floatbank4_a_level  \\\n",
       "0                                 -502.488007   \n",
       "1                                 -505.503262   \n",
       "2                                 -502.520901   \n",
       "\n",
       "   secondary_cleaner.state.floatbank4_b_air  \\\n",
       "0                                 12.099931   \n",
       "1                                 11.950531   \n",
       "2                                 11.912783   \n",
       "\n",
       "   secondary_cleaner.state.floatbank4_b_level  \\\n",
       "0                                 -504.715942   \n",
       "1                                 -501.331529   \n",
       "2                                 -501.133383   \n",
       "\n",
       "   secondary_cleaner.state.floatbank5_a_air  \n",
       "0                                  9.925633  \n",
       "1                                 10.039245  \n",
       "2                                 10.070913  "
      ]
     },
     "metadata": {},
     "output_type": "display_data"
    },
    {
     "data": {
      "text/html": [
       "<div>\n",
       "<style scoped>\n",
       "    .dataframe tbody tr th:only-of-type {\n",
       "        vertical-align: middle;\n",
       "    }\n",
       "\n",
       "    .dataframe tbody tr th {\n",
       "        vertical-align: top;\n",
       "    }\n",
       "\n",
       "    .dataframe thead th {\n",
       "        text-align: right;\n",
       "    }\n",
       "</style>\n",
       "<table border=\"1\" class=\"dataframe\">\n",
       "  <thead>\n",
       "    <tr style=\"text-align: right;\">\n",
       "      <th></th>\n",
       "      <th>secondary_cleaner.state.floatbank5_a_level</th>\n",
       "      <th>secondary_cleaner.state.floatbank5_b_air</th>\n",
       "      <th>secondary_cleaner.state.floatbank5_b_level</th>\n",
       "      <th>secondary_cleaner.state.floatbank6_a_air</th>\n",
       "    </tr>\n",
       "  </thead>\n",
       "  <tbody>\n",
       "    <tr>\n",
       "      <th>0</th>\n",
       "      <td>-498.310211</td>\n",
       "      <td>8.079666</td>\n",
       "      <td>-500.470978</td>\n",
       "      <td>14.151341</td>\n",
       "    </tr>\n",
       "    <tr>\n",
       "      <th>1</th>\n",
       "      <td>-500.169983</td>\n",
       "      <td>7.984757</td>\n",
       "      <td>-500.582168</td>\n",
       "      <td>13.998353</td>\n",
       "    </tr>\n",
       "    <tr>\n",
       "      <th>2</th>\n",
       "      <td>-500.129135</td>\n",
       "      <td>8.013877</td>\n",
       "      <td>-500.517572</td>\n",
       "      <td>14.028663</td>\n",
       "    </tr>\n",
       "  </tbody>\n",
       "</table>\n",
       "</div>"
      ],
      "text/plain": [
       "   secondary_cleaner.state.floatbank5_a_level  \\\n",
       "0                                 -498.310211   \n",
       "1                                 -500.169983   \n",
       "2                                 -500.129135   \n",
       "\n",
       "   secondary_cleaner.state.floatbank5_b_air  \\\n",
       "0                                  8.079666   \n",
       "1                                  7.984757   \n",
       "2                                  8.013877   \n",
       "\n",
       "   secondary_cleaner.state.floatbank5_b_level  \\\n",
       "0                                 -500.470978   \n",
       "1                                 -500.582168   \n",
       "2                                 -500.517572   \n",
       "\n",
       "   secondary_cleaner.state.floatbank6_a_air  \n",
       "0                                 14.151341  \n",
       "1                                 13.998353  \n",
       "2                                 14.028663  "
      ]
     },
     "metadata": {},
     "output_type": "display_data"
    },
    {
     "data": {
      "text/html": [
       "<div>\n",
       "<style scoped>\n",
       "    .dataframe tbody tr th:only-of-type {\n",
       "        vertical-align: middle;\n",
       "    }\n",
       "\n",
       "    .dataframe tbody tr th {\n",
       "        vertical-align: top;\n",
       "    }\n",
       "\n",
       "    .dataframe thead th {\n",
       "        text-align: right;\n",
       "    }\n",
       "</style>\n",
       "<table border=\"1\" class=\"dataframe\">\n",
       "  <thead>\n",
       "    <tr style=\"text-align: right;\">\n",
       "      <th></th>\n",
       "      <th>secondary_cleaner.state.floatbank6_a_level</th>\n",
       "      <th>secondary_cleaner.output.tail_au</th>\n",
       "      <th>secondary_cleaner.output.tail_ag</th>\n",
       "      <th>secondary_cleaner.output.tail_pb</th>\n",
       "    </tr>\n",
       "  </thead>\n",
       "  <tbody>\n",
       "    <tr>\n",
       "      <th>0</th>\n",
       "      <td>-605.841980</td>\n",
       "      <td>2.606185</td>\n",
       "      <td>14.500184</td>\n",
       "      <td>4.694824</td>\n",
       "    </tr>\n",
       "    <tr>\n",
       "      <th>1</th>\n",
       "      <td>-599.787184</td>\n",
       "      <td>2.488248</td>\n",
       "      <td>14.265474</td>\n",
       "      <td>4.592547</td>\n",
       "    </tr>\n",
       "    <tr>\n",
       "      <th>2</th>\n",
       "      <td>-601.427363</td>\n",
       "      <td>2.458187</td>\n",
       "      <td>14.115662</td>\n",
       "      <td>4.624775</td>\n",
       "    </tr>\n",
       "  </tbody>\n",
       "</table>\n",
       "</div>"
      ],
      "text/plain": [
       "   secondary_cleaner.state.floatbank6_a_level  \\\n",
       "0                                 -605.841980   \n",
       "1                                 -599.787184   \n",
       "2                                 -601.427363   \n",
       "\n",
       "   secondary_cleaner.output.tail_au  secondary_cleaner.output.tail_ag  \\\n",
       "0                          2.606185                         14.500184   \n",
       "1                          2.488248                         14.265474   \n",
       "2                          2.458187                         14.115662   \n",
       "\n",
       "   secondary_cleaner.output.tail_pb  \n",
       "0                          4.694824  \n",
       "1                          4.592547  \n",
       "2                          4.624775  "
      ]
     },
     "metadata": {},
     "output_type": "display_data"
    },
    {
     "data": {
      "text/html": [
       "<div>\n",
       "<style scoped>\n",
       "    .dataframe tbody tr th:only-of-type {\n",
       "        vertical-align: middle;\n",
       "    }\n",
       "\n",
       "    .dataframe tbody tr th {\n",
       "        vertical-align: top;\n",
       "    }\n",
       "\n",
       "    .dataframe thead th {\n",
       "        text-align: right;\n",
       "    }\n",
       "</style>\n",
       "<table border=\"1\" class=\"dataframe\">\n",
       "  <thead>\n",
       "    <tr style=\"text-align: right;\">\n",
       "      <th></th>\n",
       "      <th>secondary_cleaner.output.tail_sol</th>\n",
       "      <th>final.output.concentrate_au</th>\n",
       "      <th>final.output.concentrate_ag</th>\n",
       "      <th>final.output.concentrate_pb</th>\n",
       "    </tr>\n",
       "  </thead>\n",
       "  <tbody>\n",
       "    <tr>\n",
       "      <th>0</th>\n",
       "      <td>8.764648</td>\n",
       "      <td>42.192020</td>\n",
       "      <td>6.055403</td>\n",
       "      <td>9.889648</td>\n",
       "    </tr>\n",
       "    <tr>\n",
       "      <th>1</th>\n",
       "      <td>9.001494</td>\n",
       "      <td>42.701629</td>\n",
       "      <td>6.029369</td>\n",
       "      <td>9.968944</td>\n",
       "    </tr>\n",
       "    <tr>\n",
       "      <th>2</th>\n",
       "      <td>8.842896</td>\n",
       "      <td>42.657501</td>\n",
       "      <td>6.055926</td>\n",
       "      <td>10.213995</td>\n",
       "    </tr>\n",
       "  </tbody>\n",
       "</table>\n",
       "</div>"
      ],
      "text/plain": [
       "   secondary_cleaner.output.tail_sol  final.output.concentrate_au  \\\n",
       "0                           8.764648                    42.192020   \n",
       "1                           9.001494                    42.701629   \n",
       "2                           8.842896                    42.657501   \n",
       "\n",
       "   final.output.concentrate_ag  final.output.concentrate_pb  \n",
       "0                     6.055403                     9.889648  \n",
       "1                     6.029369                     9.968944  \n",
       "2                     6.055926                    10.213995  "
      ]
     },
     "metadata": {},
     "output_type": "display_data"
    },
    {
     "data": {
      "text/html": [
       "<div>\n",
       "<style scoped>\n",
       "    .dataframe tbody tr th:only-of-type {\n",
       "        vertical-align: middle;\n",
       "    }\n",
       "\n",
       "    .dataframe tbody tr th {\n",
       "        vertical-align: top;\n",
       "    }\n",
       "\n",
       "    .dataframe thead th {\n",
       "        text-align: right;\n",
       "    }\n",
       "</style>\n",
       "<table border=\"1\" class=\"dataframe\">\n",
       "  <thead>\n",
       "    <tr style=\"text-align: right;\">\n",
       "      <th></th>\n",
       "      <th>final.output.concentrate_sol</th>\n",
       "      <th>final.output.recovery</th>\n",
       "      <th>final.output.tail_au</th>\n",
       "      <th>final.output.tail_ag</th>\n",
       "    </tr>\n",
       "  </thead>\n",
       "  <tbody>\n",
       "    <tr>\n",
       "      <th>0</th>\n",
       "      <td>5.507324</td>\n",
       "      <td>70.541216</td>\n",
       "      <td>2.143149</td>\n",
       "      <td>10.411962</td>\n",
       "    </tr>\n",
       "    <tr>\n",
       "      <th>1</th>\n",
       "      <td>5.257781</td>\n",
       "      <td>69.266198</td>\n",
       "      <td>2.224930</td>\n",
       "      <td>10.462676</td>\n",
       "    </tr>\n",
       "    <tr>\n",
       "      <th>2</th>\n",
       "      <td>5.383759</td>\n",
       "      <td>68.116445</td>\n",
       "      <td>2.257889</td>\n",
       "      <td>10.507046</td>\n",
       "    </tr>\n",
       "  </tbody>\n",
       "</table>\n",
       "</div>"
      ],
      "text/plain": [
       "   final.output.concentrate_sol  final.output.recovery  final.output.tail_au  \\\n",
       "0                      5.507324              70.541216              2.143149   \n",
       "1                      5.257781              69.266198              2.224930   \n",
       "2                      5.383759              68.116445              2.257889   \n",
       "\n",
       "   final.output.tail_ag  \n",
       "0             10.411962  \n",
       "1             10.462676  \n",
       "2             10.507046  "
      ]
     },
     "metadata": {},
     "output_type": "display_data"
    },
    {
     "data": {
      "text/html": [
       "<div>\n",
       "<style scoped>\n",
       "    .dataframe tbody tr th:only-of-type {\n",
       "        vertical-align: middle;\n",
       "    }\n",
       "\n",
       "    .dataframe tbody tr th {\n",
       "        vertical-align: top;\n",
       "    }\n",
       "\n",
       "    .dataframe thead th {\n",
       "        text-align: right;\n",
       "    }\n",
       "</style>\n",
       "<table border=\"1\" class=\"dataframe\">\n",
       "  <thead>\n",
       "    <tr style=\"text-align: right;\">\n",
       "      <th></th>\n",
       "      <th>final.output.tail_pb</th>\n",
       "      <th>final.output.tail_sol</th>\n",
       "    </tr>\n",
       "  </thead>\n",
       "  <tbody>\n",
       "    <tr>\n",
       "      <th>0</th>\n",
       "      <td>0.895447</td>\n",
       "      <td>16.904297</td>\n",
       "    </tr>\n",
       "    <tr>\n",
       "      <th>1</th>\n",
       "      <td>0.927452</td>\n",
       "      <td>16.634514</td>\n",
       "    </tr>\n",
       "    <tr>\n",
       "      <th>2</th>\n",
       "      <td>0.953716</td>\n",
       "      <td>16.208849</td>\n",
       "    </tr>\n",
       "  </tbody>\n",
       "</table>\n",
       "</div>"
      ],
      "text/plain": [
       "   final.output.tail_pb  final.output.tail_sol\n",
       "0              0.895447              16.904297\n",
       "1              0.927452              16.634514\n",
       "2              0.953716              16.208849"
      ]
     },
     "metadata": {},
     "output_type": "display_data"
    }
   ],
   "source": [
    "pd.set_option(\"display.max_columns\", None)\n",
    "for i in range(1,87,4):\n",
    "    display(data_full.head(3).iloc[:,i:i+4])"
   ]
  },
  {
   "cell_type": "markdown",
   "metadata": {},
   "source": [
    "au, ag, pb - это золото, серебро и свинец. Что такое sol я не поняла, но видимо тоже что-то содержащееся в руде. Нас в первую очередь инетересует золото.    \n",
    "\n",
    "Для рассчёта `rougher.output.recovery` нам понадобядся следующие значения:\n",
    "* `rougher.output.concentrate_au` - доля золота в черновом концентрате после флотации;\n",
    "* `rougher.input.feed_au` - доля золота в сырье до флотации;\n",
    "* `rougher.output.tail_au` -доля золота в отвальных хвостах после флотации."
   ]
  },
  {
   "cell_type": "markdown",
   "metadata": {},
   "source": [
    "Функция rewiew выводит наиболее интересную информацию о датасетах.  \n",
    "* Размер\n",
    "* Нечисловые колонки (для возможного приведения типов)\n",
    "* Столбцы с долей пропусков больше 1%\n",
    "* Столбцы с долей выбросов больше 1% (размах усов 3 IQR)\n",
    "* Столбцы с абсолютным значением корреляции с целевыми признаками больше 0.35\n",
    "* Параметры с абсолютным значением корреляции больше 0.95\n",
    "\n",
    "Данные я вывожу в таком виде, так как изучать привычным способом 87 столбцов проблематично."
   ]
  },
  {
   "cell_type": "code",
   "execution_count": 4,
   "metadata": {},
   "outputs": [],
   "source": [
    "def review(data):\n",
    "    print('\\x1b[1;31m'+'Размер датасета:'+'\\x1b[0m')\n",
    "    print(data.shape)\n",
    "    print()\n",
    "    print('\\x1b[1;31m'+'Нечисловые колонки:'+'\\x1b[0m')\n",
    "    print(data_test.dtypes[data_test.dtypes != 'float64'].index)\n",
    "    print()\n",
    "    print('\\x1b[1;31m'+'Дубликаты:'+'\\x1b[0m')\n",
    "    print(data.drop('date',axis=1).duplicated().sum())\n",
    "    print()   \n",
    "    print('\\x1b[1;31m'+'Доля пропусков в столбцах (больше 0.01):'+'\\x1b[0m')\n",
    "    nulls = data.isnull().sum().sort_values(ascending=False)\n",
    "    nulls /= (data.shape[0])\n",
    "    nulls = nulls[nulls.values >= 0.01] \n",
    "    print(nulls.round(2))\n",
    "    print()\n",
    "    print('\\x1b[1;31m'+'Доля выбросов, размах усов 3 IQR (больше 0.01):'+'\\x1b[0m')\n",
    "    q1 = data.quantile(0.25) \n",
    "    q3 = data.quantile(0.75)\n",
    "    iqr = q3 - q1\n",
    "    lower = q1 - 3*iqr\n",
    "    upper = q3 + 3*iqr\n",
    "    outliers = data.lt(lower).sum() + data.gt(upper).sum()\n",
    "    outliers /= data.shape[0]\n",
    "    outliers = outliers[outliers >= 0.01]\n",
    "    print(outliers.round(2).sort_values(ascending=False))\n",
    "    print()\n",
    "    print('\\x1b[1;31m'+'Коллинеарные признаки (>0.95):'+'\\x1b[0m')\n",
    "    corr = data.corr().abs()\n",
    "    corr = corr.unstack()\n",
    "    corr = corr.sort_values(ascending=False)\n",
    "    corr = corr[corr < 1]\n",
    "    corr = corr[corr > 0.95]\n",
    "    print (corr[corr < 1].iloc[::2])\n",
    "    print()\n",
    "    try:\n",
    "        corr_r = data[data.columns[1:]].corr()['rougher.output.recovery'][:-1]\n",
    "        corr_r = pd.concat([pd.DataFrame(corr_r[corr_r.lt(-0.35)]), pd.DataFrame(corr_r[corr_r.gt(0.35)])])\n",
    "        print('\\x1b[1;31m'+'Признаки, коррелирующие с rougher.output.recovery (больше 0.35)'+'\\x1b[0m')\n",
    "        display(\n",
    "            corr_r.sort_values(by = 'rougher.output.recovery')[:-1].style.background_gradient(cmap='coolwarm',axis=0)) \n",
    "        print()\n",
    "        corr_f = data[data.columns[1:]].corr()['final.output.recovery'][:-1]\n",
    "        corr_f = pd.concat([pd.DataFrame(corr_f[corr_f.lt(-0.35)]), pd.DataFrame(corr_f[corr_f.gt(0.35)])])\n",
    "        print('\\x1b[1;31m'+'Признаки, коррелирующие с final.output.recovery (больше 0.35)'+'\\x1b[0m')\n",
    "        display(\n",
    "            corr_f.sort_values(by = 'final.output.recovery')[:-1].style.background_gradient(cmap='coolwarm',axis=0)) \n",
    "    except:\n",
    "        pass"
   ]
  },
  {
   "cell_type": "code",
   "execution_count": 5,
   "metadata": {},
   "outputs": [
    {
     "name": "stdout",
     "output_type": "stream",
     "text": [
      "\u001b[1;31mРазмер датасета:\u001b[0m\n",
      "(19439, 87)\n",
      "\n",
      "\u001b[1;31mНечисловые колонки:\u001b[0m\n",
      "Index(['date'], dtype='object')\n",
      "\n",
      "\u001b[1;31mДубликаты:\u001b[0m\n",
      "0\n",
      "\n",
      "\u001b[1;31mДоля пропусков в столбцах (больше 0.01):\u001b[0m\n",
      "secondary_cleaner.output.tail_sol           0.09\n",
      "rougher.input.floatbank11_xanthate          0.02\n",
      "rougher.state.floatbank10_e_air             0.02\n",
      "primary_cleaner.output.concentrate_sol      0.02\n",
      "secondary_cleaner.state.floatbank2_a_air    0.01\n",
      "final.output.concentrate_sol                0.01\n",
      "dtype: float64\n",
      "\n",
      "\u001b[1;31mДоля выбросов, размах усов 3 IQR (больше 0.01):\u001b[0m\n",
      "secondary_cleaner.state.floatbank5_b_level            0.24\n",
      "secondary_cleaner.state.floatbank4_a_level            0.23\n",
      "secondary_cleaner.state.floatbank3_a_level            0.23\n",
      "secondary_cleaner.state.floatbank5_a_level            0.22\n",
      "primary_cleaner.state.floatbank8_d_level              0.21\n",
      "primary_cleaner.state.floatbank8_b_level              0.18\n",
      "primary_cleaner.state.floatbank8_c_level              0.18\n",
      "secondary_cleaner.state.floatbank3_b_level            0.18\n",
      "secondary_cleaner.state.floatbank2_a_level            0.15\n",
      "secondary_cleaner.state.floatbank6_a_level            0.14\n",
      "primary_cleaner.state.floatbank8_a_level              0.13\n",
      "secondary_cleaner.state.floatbank2_b_level            0.12\n",
      "primary_cleaner.state.floatbank8_d_air                0.05\n",
      "rougher.output.concentrate_sol                        0.03\n",
      "rougher.output.recovery                               0.03\n",
      "final.output.concentrate_au                           0.03\n",
      "rougher.output.concentrate_au                         0.03\n",
      "rougher.output.concentrate_pb                         0.02\n",
      "secondary_cleaner.output.tail_au                      0.02\n",
      "rougher.calculation.floatbank10_sulfate_to_au_feed    0.02\n",
      "primary_cleaner.output.concentrate_au                 0.02\n",
      "rougher.output.concentrate_ag                         0.02\n",
      "final.output.recovery                                 0.01\n",
      "rougher.input.feed_size                               0.01\n",
      "rougher.calculation.sulfate_to_au_concentrate         0.01\n",
      "rougher.calculation.floatbank11_sulfate_to_au_feed    0.01\n",
      "primary_cleaner.output.concentrate_pb                 0.01\n",
      "dtype: float64\n",
      "\n",
      "\u001b[1;31mКоллинеарные признаки (>0.95):\u001b[0m\n",
      "rougher.state.floatbank10_c_level                   rougher.state.floatbank10_b_level                     0.987836\n",
      "rougher.state.floatbank10_f_level                   rougher.state.floatbank10_e_level                     0.980917\n",
      "rougher.state.floatbank10_d_level                   rougher.state.floatbank10_c_level                     0.980911\n",
      "rougher.state.floatbank10_b_level                   rougher.state.floatbank10_d_level                     0.971205\n",
      "rougher.calculation.floatbank10_sulfate_to_au_feed  rougher.calculation.floatbank11_sulfate_to_au_feed    0.965838\n",
      "rougher.state.floatbank10_c_level                   rougher.state.floatbank10_e_level                     0.962115\n",
      "primary_cleaner.state.floatbank8_a_air              primary_cleaner.state.floatbank8_b_air                0.953129\n",
      "rougher.state.floatbank10_f_level                   rougher.state.floatbank10_c_level                     0.952530\n",
      "rougher.state.floatbank10_b_level                   rougher.state.floatbank10_e_level                     0.951971\n",
      "dtype: float64\n",
      "\n",
      "\u001b[1;31mПризнаки, коррелирующие с rougher.output.recovery (больше 0.35)\u001b[0m\n"
     ]
    },
    {
     "data": {
      "text/html": [
       "<style  type=\"text/css\" >\n",
       "#T_e1d8d_row0_col0{\n",
       "            background-color:  #3b4cc0;\n",
       "            color:  #f1f1f1;\n",
       "        }#T_e1d8d_row1_col0{\n",
       "            background-color:  #d85646;\n",
       "            color:  #000000;\n",
       "        }#T_e1d8d_row2_col0{\n",
       "            background-color:  #d0473d;\n",
       "            color:  #f1f1f1;\n",
       "        }#T_e1d8d_row3_col0{\n",
       "            background-color:  #c83836;\n",
       "            color:  #f1f1f1;\n",
       "        }#T_e1d8d_row4_col0{\n",
       "            background-color:  #b40426;\n",
       "            color:  #f1f1f1;\n",
       "        }</style><table id=\"T_e1d8d_\" ><thead>    <tr>        <th class=\"blank level0\" ></th>        <th class=\"col_heading level0 col0\" >rougher.output.recovery</th>    </tr></thead><tbody>\n",
       "                <tr>\n",
       "                        <th id=\"T_e1d8d_level0_row0\" class=\"row_heading level0 row0\" >rougher.output.tail_au</th>\n",
       "                        <td id=\"T_e1d8d_row0_col0\" class=\"data row0 col0\" >-0.360848</td>\n",
       "            </tr>\n",
       "            <tr>\n",
       "                        <th id=\"T_e1d8d_level0_row1\" class=\"row_heading level0 row1\" >rougher.output.concentrate_pb</th>\n",
       "                        <td id=\"T_e1d8d_row1_col0\" class=\"data row1 col0\" >0.552622</td>\n",
       "            </tr>\n",
       "            <tr>\n",
       "                        <th id=\"T_e1d8d_level0_row2\" class=\"row_heading level0 row2\" >rougher.output.concentrate_au</th>\n",
       "                        <td id=\"T_e1d8d_row2_col0\" class=\"data row2 col0\" >0.579638</td>\n",
       "            </tr>\n",
       "            <tr>\n",
       "                        <th id=\"T_e1d8d_level0_row3\" class=\"row_heading level0 row3\" >rougher.output.concentrate_sol</th>\n",
       "                        <td id=\"T_e1d8d_row3_col0\" class=\"data row3 col0\" >0.604420</td>\n",
       "            </tr>\n",
       "            <tr>\n",
       "                        <th id=\"T_e1d8d_level0_row4\" class=\"row_heading level0 row4\" >rougher.output.concentrate_ag</th>\n",
       "                        <td id=\"T_e1d8d_row4_col0\" class=\"data row4 col0\" >0.661330</td>\n",
       "            </tr>\n",
       "    </tbody></table>"
      ],
      "text/plain": [
       "<pandas.io.formats.style.Styler at 0x1c3aa2b6400>"
      ]
     },
     "metadata": {},
     "output_type": "display_data"
    },
    {
     "name": "stdout",
     "output_type": "stream",
     "text": [
      "\n",
      "\u001b[1;31mПризнаки, коррелирующие с final.output.recovery (больше 0.35)\u001b[0m\n"
     ]
    },
    {
     "data": {
      "text/html": [
       "<style  type=\"text/css\" >\n",
       "#T_9dee1_row0_col0{\n",
       "            background-color:  #3b4cc0;\n",
       "            color:  #f1f1f1;\n",
       "        }#T_9dee1_row1_col0{\n",
       "            background-color:  #4055c8;\n",
       "            color:  #f1f1f1;\n",
       "        }#T_9dee1_row2_col0{\n",
       "            background-color:  #b40426;\n",
       "            color:  #f1f1f1;\n",
       "        }</style><table id=\"T_9dee1_\" ><thead>    <tr>        <th class=\"blank level0\" ></th>        <th class=\"col_heading level0 col0\" >final.output.recovery</th>    </tr></thead><tbody>\n",
       "                <tr>\n",
       "                        <th id=\"T_9dee1_level0_row0\" class=\"row_heading level0 row0\" >final.output.tail_au</th>\n",
       "                        <td id=\"T_9dee1_row0_col0\" class=\"data row0 col0\" >-0.409200</td>\n",
       "            </tr>\n",
       "            <tr>\n",
       "                        <th id=\"T_9dee1_level0_row1\" class=\"row_heading level0 row1\" >primary_cleaner.output.tail_au</th>\n",
       "                        <td id=\"T_9dee1_row1_col0\" class=\"data row1 col0\" >-0.391106</td>\n",
       "            </tr>\n",
       "            <tr>\n",
       "                        <th id=\"T_9dee1_level0_row2\" class=\"row_heading level0 row2\" >primary_cleaner.input.sulfate</th>\n",
       "                        <td id=\"T_9dee1_row2_col0\" class=\"data row2 col0\" >0.366954</td>\n",
       "            </tr>\n",
       "    </tbody></table>"
      ],
      "text/plain": [
       "<pandas.io.formats.style.Styler at 0x1c3aa4119a0>"
      ]
     },
     "metadata": {},
     "output_type": "display_data"
    }
   ],
   "source": [
    "review(data_full)"
   ]
  },
  {
   "cell_type": "markdown",
   "metadata": {},
   "source": [
    "Столбец date можно перевести к типу даты, либо к числу в формате timestamp. Но так как это прсто индекс и для исследования он не нужен, я оставлю его как есть.  \n",
    "Дубликатов нет.\n",
    "***\n",
    "**Пропуски**  \n",
    "\n",
    "Довольно много пропусков в столбцах, относящихся к `tail_sol` и `concentrate_sol`. Возможно эта информация не измерялась, так как не является слишком важной (я так и не смогла догадаться что такое sol).   \n",
    "Так как все эти пропуски на этапе `output`, то можно заменить эти значения на 0. Так как этот `sol` нас, вероятно, не особо интересует, то можно предположить что он весь пропал при обработке. \n",
    "\n",
    "Также есть пропуски относящиеся к `floatbank`, это какая-то информация, касающаяся настроек флотационной установки. Возможно пропуски означают, что какой-то из этапов был пропущен.   \n",
    "Пропуск в столбце `floatbank11_xanthate` я могу понять как то, что ксантогенат не был добавлен при обработке и \n",
    "эти значения, возможно, можно также заменить на 0.  \n",
    "А вот понять суть значений `floatbank*_air` я уже не могу и не могу предположить, можно ли в данном случае заменить значение на ноль. Эти строки, вероятно, придётся удалить.  \n",
    "Также я удалю строки с пропусками из столбцов, не попавших в обзор. Я предполагаю, что их количество не будет превышать 10% от всей выборки. В ином случае придётся рассмотреть подробнее и их.\n",
    "\n",
    "***\n",
    "**Выбросы**  \n",
    "\n",
    "Здесь ситуация довольно печальная, особенно выделяются значения `floatbank`.  \n",
    "Доля выбросов в столбце `secondary_cleaner.state.floatbank5_b_level` превышает 24%, причём я установила увеличенную длину усов: 3\\*IQR.  \n",
    "Ниже я построила ящик с усами для этого столбца и сам ящик на графике практически не виден. Получается что большинство значений (ящик содержит в себе 50% значений) очень близки к -500, ещё 26% данных попали в очень узкие границы усов, а оставшиеся 24% лежат от -800 до -100.   \n",
    "Удалять такое количество данных нельзя. Также я не понимаю значения этого столбца и не могу судить, являются ли такие значения адекватными. \n",
    "Поэтому, все эти данные я оставляю как есть.  \n",
    "\n",
    "Довольно много выбросов в составе чернового концентрата. Ниже я составила график для всех элементов в нём.   \n",
    "Как видно, значения лежат в диапазоне от 0 до 40, это адекватные значения. Если я верно понимаю и указанные числа это доля в процентах. \n",
    "\n",
    "В значениях recovery также есть выбросы, строим график и для них.  \n",
    "Значения лежат в диапазоне от 0 до 100, как и положено процентным значениям, значит данные адекватные.\n",
    "***\n",
    "\n",
    "**Корреляции** \n",
    "\n",
    "Признак `rougher.state.floatbank10_c_level` коррелирует с четырьмя признаками `rougher.state.floatbank10_b_level, rougher.state.floatbank10_d_level, rougher.state.floatbank10_e_level, rougher.state.floatbank10_f_level`.  \n",
    "Следует удалить эти четыре столбца, так как они могут плохо повлиять на обучение модели.  \n",
    "\n",
    "Также сильно коррелируют пары `rougher.calculation.floatbank10_sulfate_to_au_feed, rougher.calculation.floatbank11_sulfate_to_au_feed` и `primary_cleaner.state.floatbank8_a_air, primary_cleaner.state.floatbank8_b_air`. Однако, как мы позже узнаем, в тестовых данных они уже не так сильно коррелируют. Так что эти столбцы я оставлю.  \n",
    "\n",
    "С целевым признаком после флотации положительно коррелируют доли ценных металлов в концентрате, а отрицательно коррелирует доля золота в отвальном хвосте. Эти результаты весьма логичны.  \n",
    "\n",
    "С финальной эффективностью всё немного интереснее. Снова отрицательная корреляция с долей золота в отвалах, это логично.   \n",
    "А вот достаточно высокая положительная корреляция получилась только со столбцом `primary_cleaner.input.sulfate`. Получается чем больше сульфатов добавляют на первой обработке, тем лучше результат.   \n",
    "***\n",
    "\n",
    "**Итог**   \n",
    "Пропущенные значения заменить на ноль в следующих стобцах:\n",
    "* `secondary_cleaner.output.tail_sol`\n",
    "* `primary_cleaner.output.concentrate_sol`   \n",
    "* `final.output.concentrate_sol`          \n",
    "* `rougher.input.floatbank11_xanthate`      \n",
    "\n",
    "Прочие пропуски удалить, если их число не превышает 10%.\n",
    "\n",
    "Столбцы `rougher.state.floatbank10_b_level, rougher.state.floatbank10_d_level, rougher.state.floatbank10_e_level, rougher.state.floatbank10_f_level` удалить."
   ]
  },
  {
   "cell_type": "code",
   "execution_count": 6,
   "metadata": {},
   "outputs": [
    {
     "data": {
      "image/png": "[encoded data removed]",
      "text/plain": [
       "<Figure size 1000x150 with 1 Axes>"
      ]
     },
     "metadata": {},
     "output_type": "display_data"
    }
   ],
   "source": [
    "temp = data_full['secondary_cleaner.state.floatbank5_b_level'].dropna()\n",
    "plt.figure(figsize=(10, 1.5))\n",
    "plt.boxplot(temp,vert=False)\n",
    "plt.title('Ящик с усами secondary_cleaner.state.floatbank5_b_level')\n",
    "plt.show();"
   ]
  },
  {
   "cell_type": "code",
   "execution_count": 7,
   "metadata": {},
   "outputs": [
    {
     "data": {
      "image/png": "[encoded data removed]",
      "text/plain": [
       "<Figure size 1000x400 with 1 Axes>"
      ]
     },
     "metadata": {},
     "output_type": "display_data"
    }
   ],
   "source": [
    "cols = ['rougher.output.concentrate_sol','rougher.output.concentrate_ag',\n",
    "        'rougher.output.concentrate_au','rougher.output.concentrate_pb']\n",
    "temp = data_full[cols].dropna()\n",
    "plt.figure(figsize=(10, 4))\n",
    "plt.boxplot(temp,vert=False)\n",
    "plt.title('rougher.output.concentrate')\n",
    "plt.yticks([1, 2, 3, 4], ['sol','ag','au','pb'])\n",
    "plt.show()"
   ]
  },
  {
   "cell_type": "code",
   "execution_count": 8,
   "metadata": {},
   "outputs": [
    {
     "data": {
      "image/png": "[encoded data removed]",
      "text/plain": [
       "<Figure size 1000x300 with 1 Axes>"
      ]
     },
     "metadata": {},
     "output_type": "display_data"
    }
   ],
   "source": [
    "cols = ['rougher.output.recovery', 'final.output.recovery']\n",
    "plt.figure(figsize=(10, 3))\n",
    "plt.boxplot(data_full[cols],vert=False)\n",
    "plt.title('Recovery')\n",
    "plt.yticks([1, 2], ['rougher','final'])\n",
    "plt.show()"
   ]
  },
  {
   "cell_type": "code",
   "execution_count": 9,
   "metadata": {},
   "outputs": [
    {
     "name": "stdout",
     "output_type": "stream",
     "text": [
      "\u001b[1;31mРазмер датасета:\u001b[0m\n",
      "(14579, 87)\n",
      "\n",
      "\u001b[1;31mНечисловые колонки:\u001b[0m\n",
      "Index(['date'], dtype='object')\n",
      "\n",
      "\u001b[1;31mДубликаты:\u001b[0m\n",
      "0\n",
      "\n",
      "\u001b[1;31mДоля пропусков в столбцах (больше 0.01):\u001b[0m\n",
      "secondary_cleaner.output.tail_sol         0.06\n",
      "rougher.state.floatbank10_e_air           0.03\n",
      "rougher.input.floatbank11_xanthate        0.03\n",
      "primary_cleaner.output.concentrate_sol    0.02\n",
      "final.output.concentrate_sol              0.01\n",
      "dtype: float64\n",
      "\n",
      "\u001b[1;31mДоля выбросов, размах усов 3 IQR (больше 0.01):\u001b[0m\n",
      "secondary_cleaner.state.floatbank5_b_level            0.25\n",
      "secondary_cleaner.state.floatbank4_a_level            0.25\n",
      "secondary_cleaner.state.floatbank3_a_level            0.24\n",
      "secondary_cleaner.state.floatbank5_a_level            0.23\n",
      "primary_cleaner.state.floatbank8_d_level              0.20\n",
      "primary_cleaner.state.floatbank8_c_level              0.18\n",
      "secondary_cleaner.state.floatbank3_b_level            0.18\n",
      "primary_cleaner.state.floatbank8_b_level              0.17\n",
      "secondary_cleaner.state.floatbank2_a_level            0.16\n",
      "secondary_cleaner.state.floatbank6_a_level            0.14\n",
      "primary_cleaner.state.floatbank8_a_level              0.13\n",
      "secondary_cleaner.state.floatbank2_b_level            0.13\n",
      "primary_cleaner.state.floatbank8_d_air                0.05\n",
      "rougher.output.concentrate_pb                         0.03\n",
      "rougher.output.recovery                               0.03\n",
      "rougher.output.concentrate_sol                        0.03\n",
      "final.output.concentrate_au                           0.03\n",
      "rougher.output.concentrate_au                         0.03\n",
      "primary_cleaner.output.concentrate_au                 0.03\n",
      "rougher.output.concentrate_ag                         0.03\n",
      "secondary_cleaner.output.tail_au                      0.02\n",
      "rougher.calculation.floatbank10_sulfate_to_au_feed    0.02\n",
      "primary_cleaner.output.concentrate_pb                 0.02\n",
      "final.output.concentrate_pb                           0.01\n",
      "rougher.input.feed_size                               0.01\n",
      "rougher.calculation.sulfate_to_au_concentrate         0.01\n",
      "rougher.calculation.floatbank11_sulfate_to_au_feed    0.01\n",
      "final.output.recovery                                 0.01\n",
      "dtype: float64\n",
      "\n",
      "\u001b[1;31mКоллинеарные признаки (>0.95):\u001b[0m\n",
      "rougher.state.floatbank10_b_level                   rougher.state.floatbank10_c_level                     0.989389\n",
      "rougher.state.floatbank10_c_level                   rougher.state.floatbank10_d_level                     0.980289\n",
      "rougher.state.floatbank10_e_level                   rougher.state.floatbank10_f_level                     0.979850\n",
      "rougher.state.floatbank10_b_level                   rougher.state.floatbank10_d_level                     0.972879\n",
      "rougher.calculation.floatbank10_sulfate_to_au_feed  rougher.calculation.floatbank11_sulfate_to_au_feed    0.968413\n",
      "primary_cleaner.state.floatbank8_b_air              primary_cleaner.state.floatbank8_a_air                0.963369\n",
      "rougher.state.floatbank10_c_level                   rougher.state.floatbank10_e_level                     0.962928\n",
      "rougher.state.floatbank10_b_level                   rougher.state.floatbank10_e_level                     0.954842\n",
      "rougher.state.floatbank10_f_level                   rougher.state.floatbank10_c_level                     0.954201\n",
      "                                                    rougher.state.floatbank10_d_level                     0.951983\n",
      "rougher.state.floatbank10_e_level                   rougher.state.floatbank10_d_level                     0.950055\n",
      "dtype: float64\n",
      "\n",
      "\u001b[1;31mПризнаки, коррелирующие с rougher.output.recovery (больше 0.35)\u001b[0m\n"
     ]
    },
    {
     "data": {
      "text/html": [
       "<style  type=\"text/css\" >\n",
       "#T_1d777_row0_col0{\n",
       "            background-color:  #3b4cc0;\n",
       "            color:  #f1f1f1;\n",
       "        }#T_1d777_row1_col0{\n",
       "            background-color:  #d3dbe7;\n",
       "            color:  #000000;\n",
       "        }#T_1d777_row2_col0{\n",
       "            background-color:  #ead4c8;\n",
       "            color:  #000000;\n",
       "        }#T_1d777_row3_col0{\n",
       "            background-color:  #b40426;\n",
       "            color:  #f1f1f1;\n",
       "        }</style><table id=\"T_1d777_\" ><thead>    <tr>        <th class=\"blank level0\" ></th>        <th class=\"col_heading level0 col0\" >rougher.output.recovery</th>    </tr></thead><tbody>\n",
       "                <tr>\n",
       "                        <th id=\"T_1d777_level0_row0\" class=\"row_heading level0 row0\" >rougher.output.concentrate_pb</th>\n",
       "                        <td id=\"T_1d777_row0_col0\" class=\"data row0 col0\" >0.609796</td>\n",
       "            </tr>\n",
       "            <tr>\n",
       "                        <th id=\"T_1d777_level0_row1\" class=\"row_heading level0 row1\" >rougher.output.concentrate_au</th>\n",
       "                        <td id=\"T_1d777_row1_col0\" class=\"data row1 col0\" >0.655565</td>\n",
       "            </tr>\n",
       "            <tr>\n",
       "                        <th id=\"T_1d777_level0_row2\" class=\"row_heading level0 row2\" >rougher.output.concentrate_sol</th>\n",
       "                        <td id=\"T_1d777_row2_col0\" class=\"data row2 col0\" >0.664643</td>\n",
       "            </tr>\n",
       "            <tr>\n",
       "                        <th id=\"T_1d777_level0_row3\" class=\"row_heading level0 row3\" >rougher.output.concentrate_ag</th>\n",
       "                        <td id=\"T_1d777_row3_col0\" class=\"data row3 col0\" >0.708299</td>\n",
       "            </tr>\n",
       "    </tbody></table>"
      ],
      "text/plain": [
       "<pandas.io.formats.style.Styler at 0x1c3aa5d0580>"
      ]
     },
     "metadata": {},
     "output_type": "display_data"
    },
    {
     "name": "stdout",
     "output_type": "stream",
     "text": [
      "\n",
      "\u001b[1;31mПризнаки, коррелирующие с final.output.recovery (больше 0.35)\u001b[0m\n"
     ]
    },
    {
     "data": {
      "text/html": [
       "<style  type=\"text/css\" >\n",
       "#T_962fe_row0_col0{\n",
       "            background-color:  #3b4cc0;\n",
       "            color:  #f1f1f1;\n",
       "        }#T_962fe_row1_col0{\n",
       "            background-color:  #3f53c6;\n",
       "            color:  #f1f1f1;\n",
       "        }#T_962fe_row2_col0{\n",
       "            background-color:  #b40426;\n",
       "            color:  #f1f1f1;\n",
       "        }</style><table id=\"T_962fe_\" ><thead>    <tr>        <th class=\"blank level0\" ></th>        <th class=\"col_heading level0 col0\" >final.output.recovery</th>    </tr></thead><tbody>\n",
       "                <tr>\n",
       "                        <th id=\"T_962fe_level0_row0\" class=\"row_heading level0 row0\" >final.output.tail_au</th>\n",
       "                        <td id=\"T_962fe_row0_col0\" class=\"data row0 col0\" >-0.391831</td>\n",
       "            </tr>\n",
       "            <tr>\n",
       "                        <th id=\"T_962fe_level0_row1\" class=\"row_heading level0 row1\" >primary_cleaner.output.tail_au</th>\n",
       "                        <td id=\"T_962fe_row1_col0\" class=\"data row1 col0\" >-0.377454</td>\n",
       "            </tr>\n",
       "            <tr>\n",
       "                        <th id=\"T_962fe_level0_row2\" class=\"row_heading level0 row2\" >primary_cleaner.input.sulfate</th>\n",
       "                        <td id=\"T_962fe_row2_col0\" class=\"data row2 col0\" >0.383650</td>\n",
       "            </tr>\n",
       "    </tbody></table>"
      ],
      "text/plain": [
       "<pandas.io.formats.style.Styler at 0x1c3aa73e520>"
      ]
     },
     "metadata": {},
     "output_type": "display_data"
    }
   ],
   "source": [
    "review(data_train)"
   ]
  },
  {
   "cell_type": "markdown",
   "metadata": {},
   "source": [
    "Так как `data_train` по сути является выборкой из `data_full`, то и результат тут очень похож.  \n",
    "Можно провести те же действия что и с `data_full`."
   ]
  },
  {
   "cell_type": "code",
   "execution_count": 10,
   "metadata": {},
   "outputs": [
    {
     "name": "stdout",
     "output_type": "stream",
     "text": [
      "\u001b[1;31mРазмер датасета:\u001b[0m\n",
      "(4860, 53)\n",
      "\n",
      "\u001b[1;31mНечисловые колонки:\u001b[0m\n",
      "Index(['date'], dtype='object')\n",
      "\n",
      "\u001b[1;31mДубликаты:\u001b[0m\n",
      "0\n",
      "\n",
      "\u001b[1;31mДоля пропусков в столбцах (больше 0.01):\u001b[0m\n",
      "secondary_cleaner.state.floatbank2_a_air    0.03\n",
      "dtype: float64\n",
      "\n",
      "\u001b[1;31mДоля выбросов, размах усов 3 IQR (больше 0.01):\u001b[0m\n",
      "primary_cleaner.state.floatbank8_d_level      0.22\n",
      "secondary_cleaner.state.floatbank3_a_level    0.21\n",
      "secondary_cleaner.state.floatbank5_b_level    0.21\n",
      "secondary_cleaner.state.floatbank4_a_level    0.20\n",
      "secondary_cleaner.state.floatbank5_a_level    0.20\n",
      "primary_cleaner.state.floatbank8_b_level      0.19\n",
      "primary_cleaner.state.floatbank8_c_level      0.19\n",
      "secondary_cleaner.state.floatbank3_b_level    0.16\n",
      "primary_cleaner.state.floatbank8_a_level      0.15\n",
      "secondary_cleaner.state.floatbank2_a_level    0.13\n",
      "secondary_cleaner.state.floatbank6_a_level    0.13\n",
      "secondary_cleaner.state.floatbank2_b_level    0.09\n",
      "primary_cleaner.state.floatbank8_d_air        0.03\n",
      "rougher.state.floatbank10_f_air               0.01\n",
      "secondary_cleaner.state.floatbank2_b_air      0.01\n",
      "dtype: float64\n",
      "\n",
      "\u001b[1;31mКоллинеарные признаки (>0.95):\u001b[0m\n",
      "rougher.state.floatbank10_e_level   rougher.state.floatbank10_f_level     0.984909\n",
      "rougher.state.floatbank10_c_level   rougher.state.floatbank10_d_level     0.983144\n",
      "                                    rougher.state.floatbank10_b_level     0.981632\n",
      "rougher.state.floatbank10_d_level   rougher.state.floatbank10_b_level     0.964301\n",
      "rougher.input.floatbank11_xanthate  rougher.input.floatbank10_xanthate    0.961247\n",
      "rougher.state.floatbank10_c_level   rougher.state.floatbank10_e_level     0.958314\n",
      "rougher.state.floatbank10_b_air     rougher.state.floatbank10_c_air       0.951748\n",
      "dtype: float64\n",
      "\n"
     ]
    }
   ],
   "source": [
    "review(data_test)"
   ]
  },
  {
   "cell_type": "markdown",
   "metadata": {},
   "source": [
    "В тестовых данных значительно меньше столбцов, ниже посмотрим каких именно столбцов не хватает.  \n",
    "\n",
    "Пропусков больше 1% только в столбце `secondary_cleaner.state.floatbank2_a_air`. Так как их всего 2%, можно их удалить.  \n",
    "\n",
    "Коллинеарные признаки `rougher.state.floatbank10_b_level, rougher.state.floatbank10_d_level, rougher.state.floatbank10_e_level, rougher.state.floatbank10_f_level` следует удалить.   \n",
    "Столбец `rougher.input.floatbank11_xanthate` я оставлю, так как из общего набора я его не удаляла. "
   ]
  },
  {
   "cell_type": "markdown",
   "metadata": {},
   "source": [
    "Теперь посмотрим каких столбцов *нет* в `data_test`:"
   ]
  },
  {
   "cell_type": "code",
   "execution_count": 11,
   "metadata": {},
   "outputs": [
    {
     "data": {
      "text/plain": [
       "{'final.output.concentrate_ag',\n",
       " 'final.output.concentrate_au',\n",
       " 'final.output.concentrate_pb',\n",
       " 'final.output.concentrate_sol',\n",
       " 'final.output.recovery',\n",
       " 'final.output.tail_ag',\n",
       " 'final.output.tail_au',\n",
       " 'final.output.tail_pb',\n",
       " 'final.output.tail_sol',\n",
       " 'primary_cleaner.output.concentrate_ag',\n",
       " 'primary_cleaner.output.concentrate_au',\n",
       " 'primary_cleaner.output.concentrate_pb',\n",
       " 'primary_cleaner.output.concentrate_sol',\n",
       " 'primary_cleaner.output.tail_ag',\n",
       " 'primary_cleaner.output.tail_au',\n",
       " 'primary_cleaner.output.tail_pb',\n",
       " 'primary_cleaner.output.tail_sol',\n",
       " 'rougher.calculation.au_pb_ratio',\n",
       " 'rougher.calculation.floatbank10_sulfate_to_au_feed',\n",
       " 'rougher.calculation.floatbank11_sulfate_to_au_feed',\n",
       " 'rougher.calculation.sulfate_to_au_concentrate',\n",
       " 'rougher.output.concentrate_ag',\n",
       " 'rougher.output.concentrate_au',\n",
       " 'rougher.output.concentrate_pb',\n",
       " 'rougher.output.concentrate_sol',\n",
       " 'rougher.output.recovery',\n",
       " 'rougher.output.tail_ag',\n",
       " 'rougher.output.tail_au',\n",
       " 'rougher.output.tail_pb',\n",
       " 'rougher.output.tail_sol',\n",
       " 'secondary_cleaner.output.tail_ag',\n",
       " 'secondary_cleaner.output.tail_au',\n",
       " 'secondary_cleaner.output.tail_pb',\n",
       " 'secondary_cleaner.output.tail_sol'}"
      ]
     },
     "execution_count": 11,
     "metadata": {},
     "output_type": "execute_result"
    }
   ],
   "source": [
    "set(list(data_full.columns)) - set(list(data_test.columns))"
   ]
  },
  {
   "cell_type": "markdown",
   "metadata": {},
   "source": [
    "Как и ожидалось, это результаты флотации и очисток, а также расчётные характеристики."
   ]
  },
  {
   "cell_type": "markdown",
   "metadata": {},
   "source": [
    "### Расчёт эффективности"
   ]
  },
  {
   "cell_type": "markdown",
   "metadata": {},
   "source": [
    "Функция расчёта эффективности:"
   ]
  },
  {
   "cell_type": "code",
   "execution_count": 12,
   "metadata": {},
   "outputs": [],
   "source": [
    "def recovery(C, F, T):\n",
    "    Recovery = (C*(F-T)) / (F*(C-T)) * 100\n",
    "    return Recovery"
   ]
  },
  {
   "cell_type": "markdown",
   "metadata": {},
   "source": [
    "Выберем нужные столбцы и переименуем их в соответствии с формулой"
   ]
  },
  {
   "cell_type": "code",
   "execution_count": 13,
   "metadata": {},
   "outputs": [
    {
     "data": {
      "text/html": [
       "<div>\n",
       "<style scoped>\n",
       "    .dataframe tbody tr th:only-of-type {\n",
       "        vertical-align: middle;\n",
       "    }\n",
       "\n",
       "    .dataframe tbody tr th {\n",
       "        vertical-align: top;\n",
       "    }\n",
       "\n",
       "    .dataframe thead th {\n",
       "        text-align: right;\n",
       "    }\n",
       "</style>\n",
       "<table border=\"1\" class=\"dataframe\">\n",
       "  <thead>\n",
       "    <tr style=\"text-align: right;\">\n",
       "      <th></th>\n",
       "      <th>C</th>\n",
       "      <th>F</th>\n",
       "      <th>T</th>\n",
       "      <th>Recovery</th>\n",
       "    </tr>\n",
       "  </thead>\n",
       "  <tbody>\n",
       "    <tr>\n",
       "      <th>0</th>\n",
       "      <td>19.793808</td>\n",
       "      <td>6.486150</td>\n",
       "      <td>1.170244</td>\n",
       "      <td>87.107763</td>\n",
       "    </tr>\n",
       "    <tr>\n",
       "      <th>1</th>\n",
       "      <td>20.050975</td>\n",
       "      <td>6.478583</td>\n",
       "      <td>1.184827</td>\n",
       "      <td>86.843261</td>\n",
       "    </tr>\n",
       "    <tr>\n",
       "      <th>2</th>\n",
       "      <td>19.737170</td>\n",
       "      <td>6.362222</td>\n",
       "      <td>1.162562</td>\n",
       "      <td>86.842308</td>\n",
       "    </tr>\n",
       "    <tr>\n",
       "      <th>3</th>\n",
       "      <td>19.320810</td>\n",
       "      <td>6.118189</td>\n",
       "      <td>1.079755</td>\n",
       "      <td>87.226430</td>\n",
       "    </tr>\n",
       "    <tr>\n",
       "      <th>4</th>\n",
       "      <td>19.216101</td>\n",
       "      <td>5.663707</td>\n",
       "      <td>1.012642</td>\n",
       "      <td>86.688794</td>\n",
       "    </tr>\n",
       "  </tbody>\n",
       "</table>\n",
       "</div>"
      ],
      "text/plain": [
       "           C         F         T   Recovery\n",
       "0  19.793808  6.486150  1.170244  87.107763\n",
       "1  20.050975  6.478583  1.184827  86.843261\n",
       "2  19.737170  6.362222  1.162562  86.842308\n",
       "3  19.320810  6.118189  1.079755  87.226430\n",
       "4  19.216101  5.663707  1.012642  86.688794"
      ]
     },
     "execution_count": 13,
     "metadata": {},
     "output_type": "execute_result"
    }
   ],
   "source": [
    "data_recovery = pd.DataFrame(data_train[\n",
    "    ['rougher.output.concentrate_au',\n",
    "     'rougher.input.feed_au', \n",
    "     'rougher.output.tail_au', \n",
    "     'rougher.output.recovery']])\n",
    "data_recovery.columns = ['C','F','T','Recovery']\n",
    "data_recovery.head()"
   ]
  },
  {
   "cell_type": "markdown",
   "metadata": {},
   "source": [
    "Теперь вычислим эффективность по формуле и сравним результаты."
   ]
  },
  {
   "cell_type": "code",
   "execution_count": 14,
   "metadata": {},
   "outputs": [
    {
     "data": {
      "text/html": [
       "<div>\n",
       "<style scoped>\n",
       "    .dataframe tbody tr th:only-of-type {\n",
       "        vertical-align: middle;\n",
       "    }\n",
       "\n",
       "    .dataframe tbody tr th {\n",
       "        vertical-align: top;\n",
       "    }\n",
       "\n",
       "    .dataframe thead th {\n",
       "        text-align: right;\n",
       "    }\n",
       "</style>\n",
       "<table border=\"1\" class=\"dataframe\">\n",
       "  <thead>\n",
       "    <tr style=\"text-align: right;\">\n",
       "      <th></th>\n",
       "      <th>C</th>\n",
       "      <th>F</th>\n",
       "      <th>T</th>\n",
       "      <th>Recovery</th>\n",
       "      <th>calculated_recovery</th>\n",
       "      <th>diff</th>\n",
       "    </tr>\n",
       "  </thead>\n",
       "  <tbody>\n",
       "    <tr>\n",
       "      <th>6316</th>\n",
       "      <td>19.940793</td>\n",
       "      <td>11.195380</td>\n",
       "      <td>2.206963</td>\n",
       "      <td>90.278487</td>\n",
       "      <td>90.278487</td>\n",
       "      <td>7.105427e-14</td>\n",
       "    </tr>\n",
       "    <tr>\n",
       "      <th>13473</th>\n",
       "      <td>18.594617</td>\n",
       "      <td>7.401109</td>\n",
       "      <td>0.798903</td>\n",
       "      <td>93.210342</td>\n",
       "      <td>93.210342</td>\n",
       "      <td>7.105427e-14</td>\n",
       "    </tr>\n",
       "    <tr>\n",
       "      <th>12407</th>\n",
       "      <td>20.201165</td>\n",
       "      <td>11.916421</td>\n",
       "      <td>2.396125</td>\n",
       "      <td>90.643794</td>\n",
       "      <td>90.643794</td>\n",
       "      <td>7.105427e-14</td>\n",
       "    </tr>\n",
       "    <tr>\n",
       "      <th>5399</th>\n",
       "      <td>22.025795</td>\n",
       "      <td>10.897425</td>\n",
       "      <td>1.950168</td>\n",
       "      <td>90.080026</td>\n",
       "      <td>90.080026</td>\n",
       "      <td>7.105427e-14</td>\n",
       "    </tr>\n",
       "    <tr>\n",
       "      <th>6386</th>\n",
       "      <td>20.828212</td>\n",
       "      <td>12.306452</td>\n",
       "      <td>1.957962</td>\n",
       "      <td>92.815063</td>\n",
       "      <td>92.815063</td>\n",
       "      <td>7.105427e-14</td>\n",
       "    </tr>\n",
       "  </tbody>\n",
       "</table>\n",
       "</div>"
      ],
      "text/plain": [
       "               C          F         T   Recovery  calculated_recovery  \\\n",
       "6316   19.940793  11.195380  2.206963  90.278487            90.278487   \n",
       "13473  18.594617   7.401109  0.798903  93.210342            93.210342   \n",
       "12407  20.201165  11.916421  2.396125  90.643794            90.643794   \n",
       "5399   22.025795  10.897425  1.950168  90.080026            90.080026   \n",
       "6386   20.828212  12.306452  1.957962  92.815063            92.815063   \n",
       "\n",
       "               diff  \n",
       "6316   7.105427e-14  \n",
       "13473  7.105427e-14  \n",
       "12407  7.105427e-14  \n",
       "5399   7.105427e-14  \n",
       "6386   7.105427e-14  "
      ]
     },
     "metadata": {},
     "output_type": "display_data"
    },
    {
     "name": "stdout",
     "output_type": "stream",
     "text": [
      "9.83758577644259e-15\n"
     ]
    }
   ],
   "source": [
    "data_recovery['calculated_recovery'] = data_recovery.apply(lambda x: recovery(x['C'], x['F'], x['T']), axis=1)\n",
    "data_recovery['diff'] = np.abs(data_recovery['calculated_recovery'] - data_recovery['Recovery'])\n",
    "display(data_recovery.sort_values(by='diff', ascending=False).head())\n",
    "print(data_recovery['diff'].sum() / data_recovery.shape[0])"
   ]
  },
  {
   "cell_type": "markdown",
   "metadata": {},
   "source": [
    "Эффективность вычислена правильно, незначительная разница появилась из-за особенности вычислений на Python."
   ]
  },
  {
   "cell_type": "markdown",
   "metadata": {},
   "source": [
    "### Обработка данных"
   ]
  },
  {
   "cell_type": "markdown",
   "metadata": {},
   "source": [
    "Прежде чем обрабатывать данные, на всякий случай сохраним оригинальные датасеты в других переменных."
   ]
  },
  {
   "cell_type": "code",
   "execution_count": 15,
   "metadata": {},
   "outputs": [],
   "source": [
    "data_full_orig = data_full.copy()\n",
    "data_train_orig = data_train.copy()\n",
    "data_test_orig = data_test.copy()"
   ]
  },
  {
   "cell_type": "markdown",
   "metadata": {},
   "source": [
    "Вспомним результат обзора `data_full`, который также можно применить и к `data_train`:\n",
    "\n",
    "Пропущенные значения заменить на ноль в следующих стобцах:\n",
    "* `secondary_cleaner.output.tail_sol`\n",
    "* `primary_cleaner.output.concentrate_sol`   \n",
    "* `final.output.concentrate_sol`          \n",
    "* `rougher.input.floatbank11_xanthate`      \n",
    "\n",
    "Прочие пропуски удалить, если их число не превышает 10%.\n",
    "\n",
    "Столбцы `rougher.state.floatbank10_b_level, rougher.state.floatbank10_d_level, rougher.state.floatbank10_e_level, rougher.state.floatbank10_f_level` удалить."
   ]
  },
  {
   "cell_type": "code",
   "execution_count": 16,
   "metadata": {},
   "outputs": [],
   "source": [
    "columns = ['secondary_cleaner.output.tail_sol','primary_cleaner.output.concentrate_sol',\n",
    "           'final.output.concentrate_sol','rougher.input.floatbank11_xanthate']\n",
    "data_full[columns] = data_full[columns].fillna(0)\n",
    "data_train[columns] = data_train[columns].fillna(0)"
   ]
  },
  {
   "cell_type": "code",
   "execution_count": 17,
   "metadata": {},
   "outputs": [],
   "source": [
    "columns = ['rougher.state.floatbank10_b_level', 'rougher.state.floatbank10_d_level', \n",
    "           'rougher.state.floatbank10_e_level', 'rougher.state.floatbank10_f_level']\n",
    "data_full = data_full.drop(columns, axis=1)\n",
    "data_train = data_train.drop(columns, axis=1)\n",
    "data_test = data_test.drop(columns, axis=1)"
   ]
  },
  {
   "cell_type": "code",
   "execution_count": 18,
   "metadata": {},
   "outputs": [
    {
     "data": {
      "text/plain": [
       "((19439, 83), (14579, 83), (4860, 49))"
      ]
     },
     "execution_count": 18,
     "metadata": {},
     "output_type": "execute_result"
    }
   ],
   "source": [
    "data_full.shape, data_train.shape, data_test.shape"
   ]
  },
  {
   "cell_type": "code",
   "execution_count": 19,
   "metadata": {},
   "outputs": [
    {
     "name": "stdout",
     "output_type": "stream",
     "text": [
      "0.0873501723339678\n",
      "0.08683723163454284\n",
      "0.07695473251028806\n"
     ]
    }
   ],
   "source": [
    "print(data_full.isna().sum().sum() / data_full.shape[0])\n",
    "print(data_train.isna().sum().sum() / data_train.shape[0])\n",
    "print(data_test.isna().sum().sum() / data_test.shape[0])"
   ]
  },
  {
   "cell_type": "markdown",
   "metadata": {},
   "source": [
    "Пропусков меньше 10%, можно удалить."
   ]
  },
  {
   "cell_type": "code",
   "execution_count": 20,
   "metadata": {},
   "outputs": [],
   "source": [
    "data_full = data_full.dropna().reset_index(drop=True)\n",
    "data_train = data_train.dropna().reset_index(drop=True)\n",
    "data_test = data_test.dropna().reset_index(drop=True)"
   ]
  },
  {
   "cell_type": "code",
   "execution_count": 21,
   "metadata": {},
   "outputs": [
    {
     "data": {
      "text/plain": [
       "(0, 0, 0)"
      ]
     },
     "execution_count": 21,
     "metadata": {},
     "output_type": "execute_result"
    }
   ],
   "source": [
    "data_full.isna().sum().sum(), data_train.isna().sum().sum(), data_test.isna().sum().sum()"
   ]
  },
  {
   "cell_type": "markdown",
   "metadata": {},
   "source": [
    "### Вывод"
   ]
  },
  {
   "cell_type": "markdown",
   "metadata": {},
   "source": [
    "В `data_full` и `data_train` пропущенные значения были заменеы на ноль в следующих стобцах:\n",
    "* `secondary_cleaner.output.tail_sol`\n",
    "* `primary_cleaner.output.concentrate_sol`   \n",
    "* `final.output.concentrate_sol`          \n",
    "* `rougher.input.floatbank11_xanthate`      \n",
    "\n",
    "Прочие пропуски во всех датасетах были удалены, их количество не превышало 10%.\n",
    "\n",
    "Коллинеарные столбцы `rougher.state.floatbank10_b_level, rougher.state.floatbank10_d_level, rougher.state.floatbank10_e_level, rougher.state.floatbank10_f_level` были удалены из всех датасетов.\n",
    "\n",
    "`data_test` не содержит результаты флотации и очисток, а также расчётные характеристики. Можно считать, что это данные процессов, которые пока только планируются.\n",
    "\n",
    "Столбец `rougher.output.recovery` вычислен правильно."
   ]
  },
  {
   "cell_type": "markdown",
   "metadata": {},
   "source": [
    "## Анализ данных"
   ]
  },
  {
   "cell_type": "markdown",
   "metadata": {},
   "source": [
    "### Анализ концентрации металлов"
   ]
  },
  {
   "cell_type": "markdown",
   "metadata": {},
   "source": [
    "Посмотрите, как меняется концентрация металлов (Au, Ag, Pb) на различных этапах: в сырье, в черновом концентрате, в концентрате после первой очистки и в финальном концентрате.   \n",
    "Какие особенности имеют распределения? Опишите выводы."
   ]
  },
  {
   "cell_type": "code",
   "execution_count": 22,
   "metadata": {},
   "outputs": [],
   "source": [
    "elems = ['au','ag','pb']\n",
    "columns = []\n",
    "for elem in elems:\n",
    "    columns.append([f'rougher.input.feed_{elem}', \n",
    "                    f'rougher.output.concentrate_{elem}',\n",
    "                    f'primary_cleaner.output.concentrate_{elem}', \n",
    "                    f'final.output.concentrate_{elem}'])"
   ]
  },
  {
   "cell_type": "code",
   "execution_count": 23,
   "metadata": {},
   "outputs": [],
   "source": [
    "concentration = []\n",
    "for column in columns:\n",
    "    concentration.append(data_full[column])"
   ]
  },
  {
   "cell_type": "code",
   "execution_count": 24,
   "metadata": {},
   "outputs": [],
   "source": [
    "columns = ['Сырьё','Черновой концентрат','Первая очистка','Финальный']"
   ]
  },
  {
   "cell_type": "code",
   "execution_count": 25,
   "metadata": {
    "scrolled": true
   },
   "outputs": [],
   "source": [
    "for i in range(3):\n",
    "    concentration[i].columns = columns"
   ]
  },
  {
   "cell_type": "code",
   "execution_count": 26,
   "metadata": {},
   "outputs": [
    {
     "data": {
      "image/png": "[encoded data removed]",
      "text/plain": [
       "<Figure size 1000x400 with 1 Axes>"
      ]
     },
     "metadata": {},
     "output_type": "display_data"
    },
    {
     "data": {
      "image/png": "[encoded data removed]",
      "text/plain": [
       "<Figure size 1000x400 with 1 Axes>"
      ]
     },
     "metadata": {},
     "output_type": "display_data"
    },
    {
     "data": {
      "image/png": "[encoded data removed]",
      "text/plain": [
       "<Figure size 1000x400 with 1 Axes>"
      ]
     },
     "metadata": {},
     "output_type": "display_data"
    }
   ],
   "source": [
    "for i in range(3):\n",
    "    concentration[i].plot(kind='hist', bins=100,alpha=0.5,\n",
    "                         title=f'Доля {elems[i]} на этапах обработки',\n",
    "                         ylabel='Доля',\n",
    "                         figsize=(10,4))"
   ]
  },
  {
   "cell_type": "markdown",
   "metadata": {},
   "source": [
    "В первую очередь, я обратила внимание на то, что во всех столбцах, кроме сырья, есть довольно большое количество нулевых значений. Вероятно, это какие-то неявные пропуски. \n",
    "\n",
    "Доля золота с каждой обработкой в среднем значительно растёт.\n",
    "У сырья золота есть два пика: около 10 и около 7. Остальные доли распределены нормально. Пик после черновой и финальной обработки более узкий.   \n",
    "В среднем в финале доля золота составляет 45%.\n",
    "\n",
    "Доля серебра в сырье также имеет два пика: около 10 и около 7.  \n",
    "После флотации значения в среднем увеличиваются, но распределение ещё не нормальное. А вот после первой очиски в среднем становятся такими же, как были в сырье, но уже более нормально распределены. \n",
    "А в финале доля серебра в среднем ниже, чем в сырье: примерно 5%.\n",
    "\n",
    "Доля свинца в сырье распределена почти нормально, среднее значение примерно 3%, есть слабо выраженный пик около 5%.  \n",
    "После первой обработки доля свинца в среднем увеличивается, распределение уже меньше похоже на нормальное.  \n",
    "После первой очистки появляются очень широки пологие края, среднее значение немного увеличивается.\n",
    "В финале в среднем доля свинца составляет 9-11%, такая же как после первой очистки. Распределение имеет два пика и довольно широкие хвосты, хоть уже и меньшие, чем после первой очистки."
   ]
  },
  {
   "cell_type": "markdown",
   "metadata": {},
   "source": [
    "### Анализ распределения размеров гранул"
   ]
  },
  {
   "cell_type": "markdown",
   "metadata": {},
   "source": [
    "Сравните распределения размеров гранул исходного сырья на обучающей и тестовой выборках. Если распределения сильно отличаются друг от друга, оценка модели будет неправильной."
   ]
  },
  {
   "cell_type": "code",
   "execution_count": 27,
   "metadata": {},
   "outputs": [
    {
     "data": {
      "image/png": "[encoded data removed]",
      "text/plain": [
       "<Figure size 1000x100 with 1 Axes>"
      ]
     },
     "metadata": {},
     "output_type": "display_data"
    },
    {
     "data": {
      "image/png": "[encoded data removed]",
      "text/plain": [
       "<Figure size 1000x100 with 1 Axes>"
      ]
     },
     "metadata": {},
     "output_type": "display_data"
    }
   ],
   "source": [
    "plt.figure(figsize=(10, 1))\n",
    "plt.title('Тренировочные гранулы')\n",
    "plt.xlim(-10,400)\n",
    "plt.boxplot(data_train['rougher.input.feed_size'], vert=False);\n",
    "\n",
    "plt.figure(figsize=(10, 1))\n",
    "plt.title('Тестовые гранулы')\n",
    "plt.xlim(-10,400)\n",
    "plt.boxplot(data_test['rougher.input.feed_size'], vert=False);"
   ]
  },
  {
   "cell_type": "markdown",
   "metadata": {},
   "source": [
    "В тренировочных данных гораздо больше выбросов, но сами ящики почти одинаковые."
   ]
  },
  {
   "cell_type": "code",
   "execution_count": 28,
   "metadata": {},
   "outputs": [
    {
     "name": "stdout",
     "output_type": "stream",
     "text": [
      "Тренировочные Q1, Q2, Q3:\n",
      "47.1 54.0 63.5\n",
      "Тестовые Q1, Q2, Q3:\n",
      "47.6 55.2 65.8\n"
     ]
    }
   ],
   "source": [
    "print('Тренировочные Q1, Q2, Q3:')\n",
    "print(data_train['rougher.input.feed_size'].quantile(0.25).round(1), \n",
    "     data_train['rougher.input.feed_size'].quantile(0.5).round(1),\n",
    "     data_train['rougher.input.feed_size'].quantile(0.75).round(1))\n",
    "\n",
    "print('Тестовые Q1, Q2, Q3:')\n",
    "print(data_test['rougher.input.feed_size'].quantile(0.25).round(1), \n",
    "     data_test['rougher.input.feed_size'].quantile(0.5).round(1),\n",
    "     data_test['rougher.input.feed_size'].quantile(0.75).round(1))"
   ]
  },
  {
   "cell_type": "markdown",
   "metadata": {},
   "source": [
    "Квартили почти одинаковые."
   ]
  },
  {
   "cell_type": "markdown",
   "metadata": {},
   "source": [
    "### Анализ суммарной концентрации металлов"
   ]
  },
  {
   "cell_type": "markdown",
   "metadata": {},
   "source": [
    "Исследуйте суммарную концентрацию металлов на разных стадиях: в сырье, в черновом концентрате, в концентрате после первой очистки и в финальном концентрате."
   ]
  },
  {
   "cell_type": "code",
   "execution_count": 29,
   "metadata": {},
   "outputs": [],
   "source": [
    "concentration_sum = pd.DataFrame()\n",
    "concentration_sum['Сырьё'] = data_full['rougher.input.feed_au']\n",
    "concentration_sum['Черновой концентрат'] = data_full['rougher.output.concentrate_au']\n",
    "concentration_sum['Первая очистка'] = data_full['primary_cleaner.output.concentrate_au']\n",
    "concentration_sum['Финальный'] = data_full['final.output.concentrate_au']\n",
    "\n",
    "for elem in ['ag','pb']:\n",
    "    concentration_sum['Сырьё'] += data_full[f'rougher.input.feed_{elem}']\n",
    "    concentration_sum['Черновой концентрат'] += data_full[f'rougher.output.concentrate_{elem}']\n",
    "    concentration_sum['Первая очистка'] += data_full[f'primary_cleaner.output.concentrate_{elem}']\n",
    "    concentration_sum['Финальный'] += data_full[f'final.output.concentrate_{elem}']"
   ]
  },
  {
   "cell_type": "code",
   "execution_count": 30,
   "metadata": {},
   "outputs": [
    {
     "data": {
      "image/png": "[encoded data removed]",
      "text/plain": [
       "<Figure size 1000x400 with 1 Axes>"
      ]
     },
     "metadata": {},
     "output_type": "display_data"
    }
   ],
   "source": [
    "concentration_sum.plot(kind='hist', bins=100,alpha=0.5,\n",
    "                         title='Доля металлов на этапах обработки',\n",
    "                         ylabel='Доля',\n",
    "                         figsize=(10,4));"
   ]
  },
  {
   "cell_type": "markdown",
   "metadata": {},
   "source": [
    "С каждым этапом растёт среднее значение доли металлов. Распределение становится всё больше похожим на нормальное, а также уменьшается дисперсия.  "
   ]
  },
  {
   "cell_type": "markdown",
   "metadata": {},
   "source": [
    "### Вывод"
   ]
  },
  {
   "cell_type": "markdown",
   "metadata": {},
   "source": [
    "Доля золота в процессе обработки в среднем вырастает с 8% до 45%.  \n",
    "Доля серебра в процессе обработки уменьшается: примерно с 8% до 5%.  \n",
    "Доля свинца в среднем растёт с 3% до 10%.  \n",
    "\n",
    "Суммарная доля металлов в среднем вырастает с 20% до 60%.\n",
    "\n",
    "Размеры гранул в тренировочной и тестовой выборках распределены одинаково. Можно приступать к обучению моделей."
   ]
  },
  {
   "cell_type": "markdown",
   "metadata": {},
   "source": [
    "## Модель"
   ]
  },
  {
   "cell_type": "code",
   "execution_count": 44,
   "metadata": {},
   "outputs": [],
   "source": [
    "data_full = data_full_orig.copy()\n",
    "data_train = data_train_orig.copy()\n",
    "data_test = data_test_orig.copy()"
   ]
  },
  {
   "cell_type": "markdown",
   "metadata": {},
   "source": [
    "Устраняем коллинеарные признаки"
   ]
  },
  {
   "cell_type": "code",
   "execution_count": 45,
   "metadata": {},
   "outputs": [],
   "source": [
    "columns = ['rougher.state.floatbank10_b_level', 'rougher.state.floatbank10_d_level', \n",
    "           'rougher.state.floatbank10_e_level', 'rougher.state.floatbank10_f_level']\n",
    "data_full = data_full.drop(columns, axis=1)\n",
    "data_train = data_train.drop(columns, axis=1)\n",
    "data_test = data_test.drop(columns, axis=1)"
   ]
  },
  {
   "cell_type": "markdown",
   "metadata": {},
   "source": [
    "Заполняем пропуски"
   ]
  },
  {
   "cell_type": "code",
   "execution_count": 46,
   "metadata": {},
   "outputs": [],
   "source": [
    "data_full = data_full.ffill()\n",
    "data_train = data_train.ffill()\n",
    "data_test = data_test.ffill()"
   ]
  },
  {
   "cell_type": "markdown",
   "metadata": {},
   "source": [
    "Удаляем околонулевые значения (< 0.1)  \n",
    "`data_full` я здесь не трогаю, для обучения модели это не нужно."
   ]
  },
  {
   "cell_type": "code",
   "execution_count": 47,
   "metadata": {},
   "outputs": [],
   "source": [
    "shape = data_train.shape[0]"
   ]
  },
  {
   "cell_type": "code",
   "execution_count": 48,
   "metadata": {},
   "outputs": [],
   "source": [
    "elems = ['au','ag','pb']\n",
    "for elem in elems:\n",
    "    data_train = data_train.drop(data_train[data_train[f'rougher.input.feed_{elem}'] < 0.1].index)\n",
    "    data_train = data_train.drop(data_train[data_train[f'rougher.output.concentrate_{elem}'] < 0.1].index)\n",
    "    data_train = data_train.drop(data_train[data_train[f'primary_cleaner.output.concentrate_{elem}'] < 0.1].index)\n",
    "    data_train = data_train.drop(data_train[data_train[f'final.output.concentrate_{elem}'] < 0.1].index)"
   ]
  },
  {
   "cell_type": "code",
   "execution_count": 49,
   "metadata": {},
   "outputs": [
    {
     "name": "stdout",
     "output_type": "stream",
     "text": [
      "Доля удалённых строк: 0.048151450716784394\n"
     ]
    }
   ],
   "source": [
    "print('Доля удалённых строк:', 1 - data_train.shape[0] / shape)"
   ]
  },
  {
   "cell_type": "markdown",
   "metadata": {},
   "source": [
    "Удалено примерно 4%"
   ]
  },
  {
   "cell_type": "code",
   "execution_count": 50,
   "metadata": {},
   "outputs": [
    {
     "data": {
      "image/png": "[encoded data removed]",
      "text/plain": [
       "<Figure size 1000x400 with 1 Axes>"
      ]
     },
     "metadata": {},
     "output_type": "display_data"
    }
   ],
   "source": [
    "concentration_sum = pd.DataFrame()\n",
    "concentration_sum['Сырьё'] = data_train['rougher.input.feed_au']\n",
    "concentration_sum['Черновой концентрат'] = data_train['rougher.output.concentrate_au']\n",
    "concentration_sum['Первая очистка'] = data_train['primary_cleaner.output.concentrate_au']\n",
    "concentration_sum['Финальный'] = data_train['final.output.concentrate_au']\n",
    "\n",
    "for elem in ['ag','pb']:\n",
    "    concentration_sum['Сырьё'] += data_train[f'rougher.input.feed_{elem}']\n",
    "    concentration_sum['Черновой концентрат'] += data_train[f'rougher.output.concentrate_{elem}']\n",
    "    concentration_sum['Первая очистка'] += data_train[f'primary_cleaner.output.concentrate_{elem}']\n",
    "    concentration_sum['Финальный'] += data_train[f'final.output.concentrate_{elem}']\n",
    "\n",
    "concentration_sum.plot(kind='hist', bins=100,alpha=0.5,\n",
    "                     title='Доля металлов на этапах обработки',\n",
    "                     ylabel='Доля',\n",
    "                     figsize=(10,4));"
   ]
  },
  {
   "cell_type": "code",
   "execution_count": 51,
   "metadata": {
    "tags": []
   },
   "outputs": [],
   "source": [
    "features = data_test.columns.delete(0)\n",
    "target = ['rougher.output.recovery', 'final.output.recovery']\n",
    "x = data_train[features]\n",
    "y = data_train[target]"
   ]
  },
  {
   "cell_type": "code",
   "execution_count": 52,
   "metadata": {
    "scrolled": true,
    "tags": []
   },
   "outputs": [
    {
     "data": {
      "text/plain": [
       "Index(['rougher.input.feed_au', 'rougher.input.feed_ag',\n",
       "       'rougher.input.feed_pb', 'rougher.input.feed_sol',\n",
       "       'rougher.input.feed_rate', 'rougher.input.feed_size',\n",
       "       'rougher.input.floatbank10_sulfate',\n",
       "       'rougher.input.floatbank10_xanthate', 'rougher.state.floatbank10_a_air',\n",
       "       'rougher.state.floatbank10_a_level', 'rougher.state.floatbank10_b_air',\n",
       "       'rougher.state.floatbank10_c_air', 'rougher.state.floatbank10_c_level',\n",
       "       'rougher.state.floatbank10_d_air', 'rougher.state.floatbank10_e_air',\n",
       "       'rougher.state.floatbank10_f_air', 'rougher.input.floatbank11_sulfate',\n",
       "       'rougher.input.floatbank11_xanthate', 'primary_cleaner.input.sulfate',\n",
       "       'primary_cleaner.input.depressant', 'primary_cleaner.input.feed_size',\n",
       "       'primary_cleaner.input.xanthate',\n",
       "       'primary_cleaner.state.floatbank8_a_air',\n",
       "       'primary_cleaner.state.floatbank8_a_level',\n",
       "       'primary_cleaner.state.floatbank8_b_air',\n",
       "       'primary_cleaner.state.floatbank8_b_level',\n",
       "       'primary_cleaner.state.floatbank8_c_air',\n",
       "       'primary_cleaner.state.floatbank8_c_level',\n",
       "       'primary_cleaner.state.floatbank8_d_air',\n",
       "       'primary_cleaner.state.floatbank8_d_level',\n",
       "       'secondary_cleaner.state.floatbank2_a_air',\n",
       "       'secondary_cleaner.state.floatbank2_a_level',\n",
       "       'secondary_cleaner.state.floatbank2_b_air',\n",
       "       'secondary_cleaner.state.floatbank2_b_level',\n",
       "       'secondary_cleaner.state.floatbank3_a_air',\n",
       "       'secondary_cleaner.state.floatbank3_a_level',\n",
       "       'secondary_cleaner.state.floatbank3_b_air',\n",
       "       'secondary_cleaner.state.floatbank3_b_level',\n",
       "       'secondary_cleaner.state.floatbank4_a_air',\n",
       "       'secondary_cleaner.state.floatbank4_a_level',\n",
       "       'secondary_cleaner.state.floatbank4_b_air',\n",
       "       'secondary_cleaner.state.floatbank4_b_level',\n",
       "       'secondary_cleaner.state.floatbank5_a_air',\n",
       "       'secondary_cleaner.state.floatbank5_a_level',\n",
       "       'secondary_cleaner.state.floatbank5_b_air',\n",
       "       'secondary_cleaner.state.floatbank5_b_level',\n",
       "       'secondary_cleaner.state.floatbank6_a_air',\n",
       "       'secondary_cleaner.state.floatbank6_a_level'],\n",
       "      dtype='object')"
      ]
     },
     "execution_count": 52,
     "metadata": {},
     "output_type": "execute_result"
    }
   ],
   "source": [
    "x.columns"
   ]
  },
  {
   "cell_type": "markdown",
   "metadata": {},
   "source": [
    "###  Функция sMAPE"
   ]
  },
  {
   "cell_type": "code",
   "execution_count": 55,
   "metadata": {
    "tags": []
   },
   "outputs": [],
   "source": [
    "def sum_sMAPE(target, prediction):\n",
    "    target = target.to_numpy()\n",
    "    N = target.shape[0]\n",
    "    \n",
    "    numerator = np.abs(target - prediction)\n",
    "    denominator = (np.abs(target) + np.abs(prediction)) / 2\n",
    "    denominator += 10 ** -10\n",
    "    \n",
    "    result = (numerator/denominator) * 100 / N\n",
    "    \n",
    "    sMAPE_rough = result[:, 0].sum()\n",
    "    sMAPE_fin = result[:, 1].sum()\n",
    "    \n",
    "    return 0.25 * sMAPE_rough + 0.75 * sMAPE_fin"
   ]
  },
  {
   "cell_type": "code",
   "execution_count": 56,
   "metadata": {
    "tags": []
   },
   "outputs": [],
   "source": [
    "score = make_scorer(sum_sMAPE)"
   ]
  },
  {
   "cell_type": "markdown",
   "metadata": {},
   "source": [
    "### Дерево решений"
   ]
  },
  {
   "cell_type": "code",
   "execution_count": 57,
   "metadata": {
    "tags": []
   },
   "outputs": [
    {
     "name": "stdout",
     "output_type": "stream",
     "text": [
      "Среднее sMAPE наилучшего дерева на кросс-валидации: 8.842536079484464\n",
      "Глубина дерева: 1\n",
      "CPU times: total: 15.4 s\n",
      "Wall time: 15.8 s\n"
     ]
    }
   ],
   "source": [
    "%%time\n",
    "best_tree = None\n",
    "best_result = 10000\n",
    "best_depth = 0\n",
    "for depth in range(1, 15):\n",
    "    model = DecisionTreeRegressor(random_state=12345, max_depth=depth)\n",
    "    scores = cross_val_score(model, x, y, cv=4, scoring=score)\n",
    "    result = pd.Series(scores).mean()\n",
    "    if result < best_result:\n",
    "        best_tree = model\n",
    "        best_result = result\n",
    "        best_depth = depth\n",
    "print(\"Среднее sMAPE наилучшего дерева на кросс-валидации:\", best_result)\n",
    "print(\"Глубина дерева:\", best_depth)"
   ]
  },
  {
   "cell_type": "markdown",
   "metadata": {},
   "source": [
    "### Случайный лес"
   ]
  },
  {
   "cell_type": "code",
   "execution_count": 66,
   "metadata": {
    "tags": []
   },
   "outputs": [
    {
     "name": "stdout",
     "output_type": "stream",
     "text": [
      "Среднее sMAPE наилучшего леса на кросс-валидации: 8.56803645368738\n",
      "Количество деревьев: 50\n",
      "Максимальная глубина: 3\n",
      "CPU times: total: 12min 51s\n",
      "Wall time: 12min 52s\n"
     ]
    }
   ],
   "source": [
    "%%time\n",
    "best_forest = None\n",
    "best_result_forest = 10000\n",
    "best_est_forest = 0\n",
    "best_depth_forest = 0\n",
    "\n",
    "for est in range(10, 51, 10):\n",
    "    for depth in range (1, 11):\n",
    "        model = RandomForestRegressor(random_state=12345, n_estimators=est, max_depth=depth)\n",
    "        scores = cross_val_score(model, x, y, cv=4, scoring=score)\n",
    "        result = pd.Series(scores).mean()\n",
    "        if result < best_result_forest:\n",
    "            best_forest = model\n",
    "            best_result_forest = result\n",
    "            best_est_forest = est\n",
    "            best_depth_forest = depth\n",
    "\n",
    "print(\"Среднее sMAPE наилучшего леса на кросс-валидации:\", best_result_forest)\n",
    "print(\"Количество деревьев:\", best_est_forest) \n",
    "print(\"Максимальная глубина:\", best_depth_forest)"
   ]
  },
  {
   "cell_type": "markdown",
   "metadata": {},
   "source": [
    "### Линейная регрессия "
   ]
  },
  {
   "cell_type": "code",
   "execution_count": 67,
   "metadata": {
    "tags": []
   },
   "outputs": [
    {
     "name": "stdout",
     "output_type": "stream",
     "text": [
      "Среднее sMAPE линейной регрессии на кросс-валидации: 9.613216670318904\n"
     ]
    }
   ],
   "source": [
    "linear = LinearRegression()\n",
    "scores = cross_val_score(linear, x, y, cv=4, scoring=score)\n",
    "result_linear = pd.Series(scores).mean()\n",
    "print(\"Среднее sMAPE линейной регрессии на кросс-валидации:\", result_linear)"
   ]
  },
  {
   "cell_type": "markdown",
   "metadata": {},
   "source": [
    "### Catboost"
   ]
  },
  {
   "cell_type": "code",
   "execution_count": 68,
   "metadata": {
    "tags": []
   },
   "outputs": [],
   "source": [
    "params = {'loss_function': 'MultiRMSE', \n",
    "          'eval_metric': 'MultiRMSE'}"
   ]
  },
  {
   "cell_type": "code",
   "execution_count": 69,
   "metadata": {
    "tags": []
   },
   "outputs": [
    {
     "name": "stdout",
     "output_type": "stream",
     "text": [
      "Среднее sMAPE кэтбуста на кросс-валидации: 9.439658065390141\n"
     ]
    }
   ],
   "source": [
    "cat = CatBoostRegressor(**params,iterations=i, verbose=False)\n",
    "scores_cat = cross_val_score(cat, x, y, cv=4, scoring=score)\n",
    "result_cat = pd.Series(scores_cat).mean()\n",
    "print(\"Среднее sMAPE кэтбуста на кросс-валидации:\", result_cat)"
   ]
  },
  {
   "cell_type": "markdown",
   "metadata": {},
   "source": [
    "### Выбор лучшей модели"
   ]
  },
  {
   "cell_type": "code",
   "execution_count": 70,
   "metadata": {
    "tags": []
   },
   "outputs": [
    {
     "data": {
      "image/png": "[encoded data removed]",
      "text/plain": [
       "<Figure size 640x480 with 1 Axes>"
      ]
     },
     "metadata": {},
     "output_type": "display_data"
    }
   ],
   "source": [
    "results = {'Дерево':best_result, 'Лес':best_result_forest, 'Линейная':result_linear, 'Кэтбуст':result_cat}\n",
    "results = pd.Series(results)\n",
    "results.plot.bar(rot=0)\n",
    "plt.title('sMAPE лучших моделей')\n",
    "plt.grid(True)\n",
    "plt.show()"
   ]
  },
  {
   "cell_type": "code",
   "execution_count": 72,
   "metadata": {
    "tags": []
   },
   "outputs": [],
   "source": [
    "best_forest.fit(x, y);"
   ]
  },
  {
   "cell_type": "code",
   "execution_count": 73,
   "metadata": {
    "tags": []
   },
   "outputs": [
    {
     "data": {
      "text/plain": [
       "7.165325470266197"
      ]
     },
     "execution_count": 73,
     "metadata": {},
     "output_type": "execute_result"
    }
   ],
   "source": [
    "sum_sMAPE(y, best_forest.predict(x))"
   ]
  },
  {
   "cell_type": "markdown",
   "metadata": {},
   "source": [
    "Посмотрим, что будет на тестовой выборке."
   ]
  },
  {
   "cell_type": "code",
   "execution_count": 74,
   "metadata": {
    "tags": []
   },
   "outputs": [],
   "source": [
    "data_test = data_test.set_index('date')\n",
    "data_test.index = pd.to_datetime(data_test.index,format= '%Y-%m-%d %H:%M:%S')\n",
    "data_test.index  = data_test.index.astype('int64') // 10 ** 9"
   ]
  },
  {
   "cell_type": "code",
   "execution_count": 76,
   "metadata": {
    "tags": []
   },
   "outputs": [],
   "source": [
    "test_predict = best_forest.predict(data_test)"
   ]
  },
  {
   "cell_type": "code",
   "execution_count": 78,
   "metadata": {
    "tags": []
   },
   "outputs": [
    {
     "data": {
      "image/png": "[encoded data removed]",
      "text/plain": [
       "<Figure size 1000x300 with 1 Axes>"
      ]
     },
     "metadata": {},
     "output_type": "display_data"
    }
   ],
   "source": [
    "test_predict = pd.DataFrame(test_predict)\n",
    "test_predict.columns=('rougher', 'final')\n",
    "test_predict.plot(kind='hist', bins=100,alpha=0.5,\n",
    "                         title='Предсказанная эффективность',\n",
    "                         ylabel='Эффективнось',\n",
    "                         figsize=(10,3));"
   ]
  },
  {
   "cell_type": "markdown",
   "metadata": {},
   "source": [
    "Выберем целевые параметры из полного датасета и сравним с предсказаниями"
   ]
  },
  {
   "cell_type": "code",
   "execution_count": 79,
   "metadata": {
    "tags": []
   },
   "outputs": [],
   "source": [
    "data = data_full_orig.copy()\n",
    "data = data.set_index('date')\n",
    "data.index = pd.to_datetime(data.index,format= '%Y-%m-%d %H:%M:%S')\n",
    "data.index  = data.index.astype('int64') // 10 ** 9"
   ]
  },
  {
   "cell_type": "code",
   "execution_count": 80,
   "metadata": {
    "tags": []
   },
   "outputs": [],
   "source": [
    "y_test = data.loc[data_test.index,['rougher.output.recovery','final.output.recovery']]"
   ]
  },
  {
   "cell_type": "code",
   "execution_count": 82,
   "metadata": {
    "tags": []
   },
   "outputs": [
    {
     "data": {
      "text/plain": [
       "7.329629149979221"
      ]
     },
     "execution_count": 82,
     "metadata": {},
     "output_type": "execute_result"
    }
   ],
   "source": [
    "sum_sMAPE(y_test, test_predict.to_numpy())"
   ]
  },
  {
   "cell_type": "code",
   "execution_count": 83,
   "metadata": {
    "tags": []
   },
   "outputs": [],
   "source": [
    "dummy_regr = DummyRegressor(strategy=\"mean\")"
   ]
  },
  {
   "cell_type": "code",
   "execution_count": 84,
   "metadata": {
    "tags": []
   },
   "outputs": [],
   "source": [
    "dummy_regr.fit(x, y);"
   ]
  },
  {
   "cell_type": "code",
   "execution_count": 85,
   "metadata": {
    "tags": []
   },
   "outputs": [
    {
     "data": {
      "text/plain": [
       "8.467439486233149"
      ]
     },
     "execution_count": 85,
     "metadata": {},
     "output_type": "execute_result"
    }
   ],
   "source": [
    "dummy_predict = dummy_regr.predict(data_test)\n",
    "sum_sMAPE(y_test, dummy_predict)"
   ]
  },
  {
   "cell_type": "markdown",
   "metadata": {},
   "source": [
    "Наша модель проходит проверку на адекватность."
   ]
  },
  {
   "cell_type": "markdown",
   "metadata": {},
   "source": [
    "## Вывод"
   ]
  },
  {
   "cell_type": "markdown",
   "metadata": {},
   "source": [
    "**Обработка данных**  \n",
    "\n",
    "Во всех наборах пропуски были заполнены из соседних строк.\n",
    "\n",
    "Были удалены строки с неявными пропусками из тренировочного набора. Однако в тестовом наборе они остались. \n",
    "\n",
    "Коллинеарные столбцы rougher.state.floatbank10_b_level, rougher.state.floatbank10_d_level, rougher.state.floatbank10_e_level, rougher.state.floatbank10_f_level были удалены из всех датасетов.\n",
    "\n",
    "data_test не содержит результаты флотации и очисток, а также расчётные характеристики.\n",
    "\n",
    "Столбец rougher.output.recovery вычислен правильно.\n",
    "***\n",
    "\n",
    "**Анализ данных**  \n",
    "\n",
    "Доля золота в процессе обработки в среднем вырастает с 8% до 45%.\n",
    "Доля серебра в процессе обработки уменьшается: примерно с 8% до 5%.\n",
    "Доля свинца в среднем растёт с 3% до 10%.\n",
    "\n",
    "Суммарная доля металлов в среднем вырастает с 20% до 60%.\n",
    "\n",
    "Размеры гранул в тренировочной и тестовой выборках распределены одинаково. Можно приступать к обучению моделей.\n",
    "***\n",
    "\n",
    "**Модель**\n",
    "\n",
    "Лучший результат показала следующая модель:  \n",
    "Случайный лес   \n",
    "Количество деревьев: 50   \n",
    "Максимальная глубина: 3   \n",
    "\n",
    "sMAPE на тренировочной выборке:  \n",
    "    7.17   \n",
    "sMAPE на тестовой выборке:    \n",
    "    7.33  "
   ]
  }
 ],
 "metadata": {
  "ExecuteTimeLog": [
   {
    "duration": 5460,
    "start_time": "2023-06-08T13:13:40.529Z"
   },
   {
    "duration": 3404,
    "start_time": "2023-06-08T13:13:45.991Z"
   },
   {
    "duration": 166,
    "start_time": "2023-06-08T13:13:49.397Z"
   },
   {
    "duration": 11,
    "start_time": "2023-06-08T13:13:49.565Z"
   },
   {
    "duration": 1358,
    "start_time": "2023-06-08T13:13:49.578Z"
   },
   {
    "duration": 124,
    "start_time": "2023-06-08T13:13:50.938Z"
   },
   {
    "duration": 183,
    "start_time": "2023-06-08T13:13:51.065Z"
   },
   {
    "duration": 124,
    "start_time": "2023-06-08T13:13:51.250Z"
   },
   {
    "duration": 1172,
    "start_time": "2023-06-08T13:13:51.376Z"
   },
   {
    "duration": 151,
    "start_time": "2023-06-08T13:13:52.552Z"
   },
   {
    "duration": 4,
    "start_time": "2023-06-08T13:13:52.706Z"
   },
   {
    "duration": 35,
    "start_time": "2023-06-08T13:13:52.712Z"
   },
   {
    "duration": 24,
    "start_time": "2023-06-08T13:13:52.749Z"
   },
   {
    "duration": 201,
    "start_time": "2023-06-08T13:13:52.775Z"
   },
   {
    "duration": 10,
    "start_time": "2023-06-08T13:13:52.978Z"
   },
   {
    "duration": 48,
    "start_time": "2023-06-08T13:13:52.990Z"
   },
   {
    "duration": 32,
    "start_time": "2023-06-08T13:13:53.041Z"
   },
   {
    "duration": 26,
    "start_time": "2023-06-08T13:13:53.075Z"
   },
   {
    "duration": 91,
    "start_time": "2023-06-08T13:13:53.103Z"
   },
   {
    "duration": 97,
    "start_time": "2023-06-08T13:13:53.196Z"
   },
   {
    "duration": 27,
    "start_time": "2023-06-08T13:13:53.295Z"
   },
   {
    "duration": 11,
    "start_time": "2023-06-08T13:13:53.324Z"
   },
   {
    "duration": 11,
    "start_time": "2023-06-08T13:13:53.336Z"
   },
   {
    "duration": 6,
    "start_time": "2023-06-08T13:13:53.349Z"
   },
   {
    "duration": 8,
    "start_time": "2023-06-08T13:13:53.357Z"
   },
   {
    "duration": 2546,
    "start_time": "2023-06-08T13:13:53.367Z"
   },
   {
    "duration": 212,
    "start_time": "2023-06-08T13:13:55.915Z"
   },
   {
    "duration": 19,
    "start_time": "2023-06-08T13:13:56.130Z"
   },
   {
    "duration": 13,
    "start_time": "2023-06-08T13:13:56.151Z"
   },
   {
    "duration": 1069,
    "start_time": "2023-06-08T13:13:56.165Z"
   },
   {
    "duration": 11,
    "start_time": "2023-06-08T13:13:57.235Z"
   },
   {
    "duration": 19,
    "start_time": "2023-06-08T13:13:57.248Z"
   },
   {
    "duration": 21,
    "start_time": "2023-06-08T13:13:57.269Z"
   },
   {
    "duration": 20,
    "start_time": "2023-06-08T13:13:57.292Z"
   },
   {
    "duration": 16,
    "start_time": "2023-06-08T13:20:33.072Z"
   },
   {
    "duration": 1728,
    "start_time": "2023-06-08T13:30:07.919Z"
   },
   {
    "duration": 2197,
    "start_time": "2023-06-08T13:30:09.649Z"
   },
   {
    "duration": 171,
    "start_time": "2023-06-08T13:30:11.848Z"
   },
   {
    "duration": 10,
    "start_time": "2023-06-08T13:30:12.022Z"
   },
   {
    "duration": 1340,
    "start_time": "2023-06-08T13:30:12.034Z"
   },
   {
    "duration": 131,
    "start_time": "2023-06-08T13:30:13.377Z"
   },
   {
    "duration": 167,
    "start_time": "2023-06-08T13:30:13.510Z"
   },
   {
    "duration": 133,
    "start_time": "2023-06-08T13:30:13.679Z"
   },
   {
    "duration": 1101,
    "start_time": "2023-06-08T13:30:13.813Z"
   },
   {
    "duration": 132,
    "start_time": "2023-06-08T13:30:14.917Z"
   },
   {
    "duration": 5,
    "start_time": "2023-06-08T13:30:15.051Z"
   },
   {
    "duration": 44,
    "start_time": "2023-06-08T13:30:15.058Z"
   },
   {
    "duration": 45,
    "start_time": "2023-06-08T13:30:15.104Z"
   },
   {
    "duration": 212,
    "start_time": "2023-06-08T13:30:15.151Z"
   },
   {
    "duration": 16,
    "start_time": "2023-06-08T13:30:15.365Z"
   },
   {
    "duration": 23,
    "start_time": "2023-06-08T13:30:15.384Z"
   },
   {
    "duration": 23,
    "start_time": "2023-06-08T13:30:15.409Z"
   },
   {
    "duration": 17,
    "start_time": "2023-06-08T13:30:15.434Z"
   },
   {
    "duration": 26,
    "start_time": "2023-06-08T13:30:15.453Z"
   },
   {
    "duration": 37,
    "start_time": "2023-06-08T13:30:15.481Z"
   },
   {
    "duration": 17,
    "start_time": "2023-06-08T13:30:15.520Z"
   },
   {
    "duration": 26,
    "start_time": "2023-06-08T13:30:15.539Z"
   },
   {
    "duration": 17,
    "start_time": "2023-06-08T13:30:15.567Z"
   },
   {
    "duration": 17,
    "start_time": "2023-06-08T13:30:15.585Z"
   },
   {
    "duration": 14,
    "start_time": "2023-06-08T13:30:15.604Z"
   },
   {
    "duration": 2832,
    "start_time": "2023-06-08T13:30:15.620Z"
   },
   {
    "duration": 224,
    "start_time": "2023-06-08T13:30:18.453Z"
   },
   {
    "duration": 12,
    "start_time": "2023-06-08T13:30:18.680Z"
   },
   {
    "duration": 21,
    "start_time": "2023-06-08T13:30:18.695Z"
   },
   {
    "duration": 1060,
    "start_time": "2023-06-08T13:30:18.718Z"
   },
   {
    "duration": 16,
    "start_time": "2023-06-08T13:32:53.597Z"
   },
   {
    "duration": 7372,
    "start_time": "2023-06-08T13:38:33.597Z"
   },
   {
    "duration": 7628,
    "start_time": "2023-06-08T13:39:40.393Z"
   },
   {
    "duration": 130,
    "start_time": "2023-06-08T13:39:52.108Z"
   },
   {
    "duration": 6,
    "start_time": "2023-06-08T13:39:55.593Z"
   },
   {
    "duration": 23,
    "start_time": "2023-06-08T13:39:56.301Z"
   },
   {
    "duration": 99,
    "start_time": "2023-06-08T13:40:09.696Z"
   },
   {
    "duration": 6,
    "start_time": "2023-06-08T13:40:39.128Z"
   },
   {
    "duration": 13,
    "start_time": "2023-06-08T13:40:44.545Z"
   },
   {
    "duration": 4,
    "start_time": "2023-06-08T13:40:46.457Z"
   },
   {
    "duration": 14,
    "start_time": "2023-06-08T13:40:46.844Z"
   },
   {
    "duration": 11,
    "start_time": "2023-06-08T13:40:55.103Z"
   },
   {
    "duration": 9,
    "start_time": "2023-06-08T13:41:04.892Z"
   },
   {
    "duration": 10,
    "start_time": "2023-06-08T13:41:08.687Z"
   },
   {
    "duration": 4,
    "start_time": "2023-06-08T13:41:15.856Z"
   },
   {
    "duration": 6,
    "start_time": "2023-06-08T13:41:24.454Z"
   },
   {
    "duration": 13,
    "start_time": "2023-06-08T13:41:31.591Z"
   },
   {
    "duration": 13,
    "start_time": "2023-06-08T13:41:36.889Z"
   },
   {
    "duration": 11,
    "start_time": "2023-06-08T13:41:50.305Z"
   },
   {
    "duration": 76,
    "start_time": "2023-06-08T13:42:16.093Z"
   },
   {
    "duration": 7904,
    "start_time": "2023-06-08T13:42:20.758Z"
   },
   {
    "duration": 7754,
    "start_time": "2023-06-08T13:42:43.847Z"
   },
   {
    "duration": 3,
    "start_time": "2023-06-08T13:42:53.209Z"
   },
   {
    "duration": 5662,
    "start_time": "2023-06-08T13:42:53.904Z"
   },
   {
    "duration": 19,
    "start_time": "2023-06-08T13:43:14.288Z"
   },
   {
    "duration": 18,
    "start_time": "2023-06-08T13:43:22.993Z"
   },
   {
    "duration": 5732,
    "start_time": "2023-06-08T13:43:31.561Z"
   },
   {
    "duration": 21,
    "start_time": "2023-06-08T13:43:58.122Z"
   },
   {
    "duration": 8,
    "start_time": "2023-06-08T13:44:09.098Z"
   },
   {
    "duration": 6,
    "start_time": "2023-06-08T13:44:48.756Z"
   },
   {
    "duration": 5519,
    "start_time": "2023-06-08T13:45:13.489Z"
   },
   {
    "duration": 5438,
    "start_time": "2023-06-08T13:46:06.238Z"
   },
   {
    "duration": 3,
    "start_time": "2023-06-08T13:48:06.993Z"
   },
   {
    "duration": 17,
    "start_time": "2023-06-08T13:50:34.194Z"
   },
   {
    "duration": 26,
    "start_time": "2023-06-08T13:50:39.209Z"
   },
   {
    "duration": 3,
    "start_time": "2023-06-08T13:50:40.704Z"
   },
   {
    "duration": 24,
    "start_time": "2023-06-08T13:50:44.992Z"
   },
   {
    "duration": 143,
    "start_time": "2023-06-08T13:52:08.351Z"
   },
   {
    "duration": 3,
    "start_time": "2023-06-08T13:52:25.352Z"
   },
   {
    "duration": 73,
    "start_time": "2023-06-08T13:53:22.671Z"
   },
   {
    "duration": 4,
    "start_time": "2023-06-08T13:53:24.831Z"
   },
   {
    "duration": 4,
    "start_time": "2023-06-08T13:53:31.594Z"
   },
   {
    "duration": 9,
    "start_time": "2023-06-08T13:53:34.258Z"
   },
   {
    "duration": 4,
    "start_time": "2023-06-08T13:55:52.838Z"
   },
   {
    "duration": 4,
    "start_time": "2023-06-08T13:56:03.507Z"
   },
   {
    "duration": 3,
    "start_time": "2023-06-08T13:56:05.753Z"
   },
   {
    "duration": 21,
    "start_time": "2023-06-08T13:56:11.608Z"
   },
   {
    "duration": 16,
    "start_time": "2023-06-08T13:56:12.251Z"
   },
   {
    "duration": 30,
    "start_time": "2023-06-08T13:56:12.951Z"
   },
   {
    "duration": 3,
    "start_time": "2023-06-08T13:56:14.293Z"
   },
   {
    "duration": 71,
    "start_time": "2023-06-08T13:56:14.612Z"
   },
   {
    "duration": 3,
    "start_time": "2023-06-08T13:56:14.951Z"
   },
   {
    "duration": 8,
    "start_time": "2023-06-08T13:56:17.627Z"
   },
   {
    "duration": 7,
    "start_time": "2023-06-08T13:56:20.072Z"
   },
   {
    "duration": 1400,
    "start_time": "2023-06-08T13:56:44.509Z"
   },
   {
    "duration": 179,
    "start_time": "2023-06-08T13:57:02.093Z"
   },
   {
    "duration": 3,
    "start_time": "2023-06-08T14:00:35.492Z"
   },
   {
    "duration": 49748,
    "start_time": "2023-06-08T14:00:36.596Z"
   },
   {
    "duration": 2404752,
    "start_time": "2023-06-08T14:01:26.348Z"
   },
   {
    "duration": 3711,
    "start_time": "2023-06-08T14:41:31.101Z"
   },
   {
    "duration": 3,
    "start_time": "2023-06-08T14:41:34.814Z"
   },
   {
    "duration": 5507,
    "start_time": "2023-06-08T14:41:34.818Z"
   },
   {
    "duration": 968,
    "start_time": "2023-06-08T14:41:40.327Z"
   },
   {
    "duration": 121,
    "start_time": "2023-06-08T14:45:56.188Z"
   },
   {
    "duration": 608,
    "start_time": "2023-06-08T14:47:36.777Z"
   },
   {
    "duration": 357,
    "start_time": "2023-06-08T14:47:41.608Z"
   },
   {
    "duration": 21,
    "start_time": "2023-06-08T14:48:36.729Z"
   },
   {
    "duration": 527,
    "start_time": "2023-06-08T14:48:37.482Z"
   },
   {
    "duration": 13,
    "start_time": "2023-06-08T14:48:46.696Z"
   },
   {
    "duration": 15,
    "start_time": "2023-06-08T14:48:47.135Z"
   },
   {
    "duration": 5,
    "start_time": "2023-06-08T14:48:47.696Z"
   },
   {
    "duration": 198,
    "start_time": "2023-06-08T14:48:49.927Z"
   },
   {
    "duration": 500,
    "start_time": "2023-06-08T14:53:13.423Z"
   },
   {
    "duration": 672,
    "start_time": "2023-06-08T14:55:00.615Z"
   },
   {
    "duration": 469,
    "start_time": "2023-06-08T14:56:21.542Z"
   },
   {
    "duration": 6,
    "start_time": "2023-06-08T15:05:14.895Z"
   },
   {
    "duration": 194,
    "start_time": "2023-06-08T15:05:25.333Z"
   },
   {
    "duration": 249,
    "start_time": "2023-06-08T15:06:16.229Z"
   },
   {
    "duration": 188,
    "start_time": "2023-06-08T15:06:20.116Z"
   },
   {
    "duration": 224,
    "start_time": "2023-06-08T15:06:31.597Z"
   },
   {
    "duration": 209,
    "start_time": "2023-06-08T15:06:35.109Z"
   },
   {
    "duration": 204,
    "start_time": "2023-06-08T15:06:38.961Z"
   },
   {
    "duration": 201,
    "start_time": "2023-06-08T15:06:42.653Z"
   },
   {
    "duration": 219,
    "start_time": "2023-06-08T15:06:45.069Z"
   },
   {
    "duration": 208,
    "start_time": "2023-06-08T15:06:50.121Z"
   },
   {
    "duration": 365,
    "start_time": "2023-06-08T15:06:54.031Z"
   },
   {
    "duration": 200,
    "start_time": "2023-06-08T15:06:57.548Z"
   },
   {
    "duration": 201,
    "start_time": "2023-06-08T15:07:00.039Z"
   },
   {
    "duration": 224,
    "start_time": "2023-06-08T15:07:03.717Z"
   },
   {
    "duration": 136,
    "start_time": "2023-06-08T15:07:23.436Z"
   },
   {
    "duration": 237,
    "start_time": "2023-06-08T15:07:55.265Z"
   },
   {
    "duration": 209,
    "start_time": "2023-06-08T15:08:07.415Z"
   },
   {
    "duration": 204,
    "start_time": "2023-06-08T15:08:15.719Z"
   },
   {
    "duration": 204,
    "start_time": "2023-06-08T15:08:21.789Z"
   },
   {
    "duration": 196,
    "start_time": "2023-06-08T15:08:24.703Z"
   },
   {
    "duration": 226,
    "start_time": "2023-06-08T15:08:28.333Z"
   },
   {
    "duration": 219,
    "start_time": "2023-06-08T15:08:31.660Z"
   },
   {
    "duration": 12,
    "start_time": "2023-06-08T15:09:59.379Z"
   },
   {
    "duration": 13,
    "start_time": "2023-06-08T15:10:07.544Z"
   },
   {
    "duration": 13,
    "start_time": "2023-06-08T15:10:18.056Z"
   },
   {
    "duration": 12,
    "start_time": "2023-06-08T15:10:26.740Z"
   },
   {
    "duration": 9,
    "start_time": "2023-06-08T15:10:41.029Z"
   },
   {
    "duration": 9,
    "start_time": "2023-06-08T15:10:49.051Z"
   },
   {
    "duration": 12,
    "start_time": "2023-06-08T15:11:10.648Z"
   },
   {
    "duration": 11,
    "start_time": "2023-06-08T15:11:35.253Z"
   },
   {
    "duration": 15,
    "start_time": "2023-06-08T15:11:53.217Z"
   },
   {
    "duration": 14,
    "start_time": "2023-06-08T15:12:30.456Z"
   },
   {
    "duration": 424,
    "start_time": "2023-06-08T15:13:54.757Z"
   },
   {
    "duration": 803,
    "start_time": "2023-06-08T15:16:17.032Z"
   },
   {
    "duration": 668,
    "start_time": "2023-06-08T15:17:44.743Z"
   },
   {
    "duration": 12,
    "start_time": "2023-06-08T15:28:28.299Z"
   },
   {
    "duration": 218,
    "start_time": "2023-06-08T15:28:54.696Z"
   },
   {
    "duration": 270,
    "start_time": "2023-06-08T15:29:21.087Z"
   },
   {
    "duration": 263,
    "start_time": "2023-06-08T15:30:38.335Z"
   },
   {
    "duration": 268,
    "start_time": "2023-06-08T15:30:45.497Z"
   },
   {
    "duration": 246,
    "start_time": "2023-06-08T15:31:25.999Z"
   },
   {
    "duration": 247,
    "start_time": "2023-06-08T15:31:40.986Z"
   },
   {
    "duration": 244,
    "start_time": "2023-06-08T15:32:20.303Z"
   },
   {
    "duration": 1150,
    "start_time": "2023-06-08T15:32:34.487Z"
   },
   {
    "duration": 18,
    "start_time": "2023-06-08T15:32:58.593Z"
   },
   {
    "duration": 2172,
    "start_time": "2023-06-08T15:33:04.394Z"
   },
   {
    "duration": 7,
    "start_time": "2023-06-08T15:33:13.809Z"
   },
   {
    "duration": 9,
    "start_time": "2023-06-08T15:33:38.215Z"
   },
   {
    "duration": 1704,
    "start_time": "2023-06-08T15:34:20.585Z"
   },
   {
    "duration": 416,
    "start_time": "2023-06-08T15:34:40.441Z"
   },
   {
    "duration": 279,
    "start_time": "2023-06-08T15:35:05.130Z"
   },
   {
    "duration": 276,
    "start_time": "2023-06-08T15:35:28.788Z"
   },
   {
    "duration": 292,
    "start_time": "2023-06-08T15:35:37.082Z"
   },
   {
    "duration": 278,
    "start_time": "2023-06-08T15:35:45.768Z"
   },
   {
    "duration": 283,
    "start_time": "2023-06-08T15:36:33.047Z"
   },
   {
    "duration": 293,
    "start_time": "2023-06-08T15:36:53.671Z"
   },
   {
    "duration": 267,
    "start_time": "2023-06-08T15:37:33.817Z"
   },
   {
    "duration": 270,
    "start_time": "2023-06-08T15:37:55.053Z"
   },
   {
    "duration": 286,
    "start_time": "2023-06-08T15:44:45.237Z"
   },
   {
    "duration": 270,
    "start_time": "2023-06-08T15:48:08.425Z"
   },
   {
    "duration": 283,
    "start_time": "2023-06-08T15:48:23.743Z"
   },
   {
    "duration": 287,
    "start_time": "2023-06-08T15:48:28.708Z"
   },
   {
    "duration": 266,
    "start_time": "2023-06-08T15:48:48.097Z"
   },
   {
    "duration": 7,
    "start_time": "2023-06-08T15:49:00.008Z"
   },
   {
    "duration": 263,
    "start_time": "2023-06-08T15:49:20.246Z"
   },
   {
    "duration": 4,
    "start_time": "2023-06-08T15:49:44.553Z"
   },
   {
    "duration": 277,
    "start_time": "2023-06-08T15:49:49.210Z"
   },
   {
    "duration": 268,
    "start_time": "2023-06-08T15:49:53.594Z"
   },
   {
    "duration": 6,
    "start_time": "2023-06-08T15:50:07.045Z"
   },
   {
    "duration": 6,
    "start_time": "2023-06-08T15:50:22.549Z"
   },
   {
    "duration": 288,
    "start_time": "2023-06-08T15:50:27.108Z"
   },
   {
    "duration": 318,
    "start_time": "2023-06-08T15:50:46.813Z"
   },
   {
    "duration": 260,
    "start_time": "2023-06-08T15:52:14.112Z"
   },
   {
    "duration": 18,
    "start_time": "2023-06-08T15:52:33.026Z"
   },
   {
    "duration": 20,
    "start_time": "2023-06-08T15:52:40.009Z"
   },
   {
    "duration": 486,
    "start_time": "2023-06-08T15:53:00.104Z"
   },
   {
    "duration": 23,
    "start_time": "2023-06-08T15:53:06.386Z"
   },
   {
    "duration": 97,
    "start_time": "2023-06-08T15:53:30.943Z"
   },
   {
    "duration": 37,
    "start_time": "2023-06-08T15:53:41.543Z"
   },
   {
    "duration": 502,
    "start_time": "2023-06-08T15:53:43.568Z"
   },
   {
    "duration": 12,
    "start_time": "2023-06-08T15:53:47.486Z"
   },
   {
    "duration": 27,
    "start_time": "2023-06-08T15:54:46.624Z"
   },
   {
    "duration": 5,
    "start_time": "2023-06-08T15:54:47.000Z"
   },
   {
    "duration": 910,
    "start_time": "2023-06-08T15:54:47.821Z"
   },
   {
    "duration": 532,
    "start_time": "2023-06-08T15:54:51.450Z"
   },
   {
    "duration": 56,
    "start_time": "2023-06-08T15:54:56.463Z"
   },
   {
    "duration": 18,
    "start_time": "2023-06-08T15:55:34.170Z"
   },
   {
    "duration": 28,
    "start_time": "2023-06-08T15:56:47.536Z"
   },
   {
    "duration": 31,
    "start_time": "2023-06-08T15:56:51.774Z"
   },
   {
    "duration": 293,
    "start_time": "2023-06-08T15:57:24.100Z"
   },
   {
    "duration": 1235,
    "start_time": "2023-06-08T15:57:51.030Z"
   },
   {
    "duration": 328,
    "start_time": "2023-06-08T15:58:00.391Z"
   },
   {
    "duration": 1764,
    "start_time": "2023-06-08T16:06:13.266Z"
   },
   {
    "duration": 594,
    "start_time": "2023-06-08T16:07:14.601Z"
   },
   {
    "duration": 700,
    "start_time": "2023-06-08T16:08:57.612Z"
   },
   {
    "duration": 650,
    "start_time": "2023-06-08T16:10:22.597Z"
   },
   {
    "duration": 674,
    "start_time": "2023-06-08T16:11:34.766Z"
   },
   {
    "duration": 582,
    "start_time": "2023-06-08T16:11:51.459Z"
   },
   {
    "duration": 546,
    "start_time": "2023-06-08T16:27:54.369Z"
   },
   {
    "duration": 513,
    "start_time": "2023-06-08T16:47:35.189Z"
   },
   {
    "duration": 729,
    "start_time": "2023-06-08T16:47:47.705Z"
   },
   {
    "duration": 719,
    "start_time": "2023-06-08T16:48:09.970Z"
   },
   {
    "duration": 503,
    "start_time": "2023-06-08T16:48:23.980Z"
   },
   {
    "duration": 469,
    "start_time": "2023-06-08T16:50:40.328Z"
   },
   {
    "duration": 3804,
    "start_time": "2023-06-09T11:36:36.905Z"
   },
   {
    "duration": 2319,
    "start_time": "2023-06-09T11:36:40.711Z"
   },
   {
    "duration": 201,
    "start_time": "2023-06-09T11:36:43.033Z"
   },
   {
    "duration": 33,
    "start_time": "2023-06-09T11:36:43.236Z"
   },
   {
    "duration": 1459,
    "start_time": "2023-06-09T11:36:43.271Z"
   },
   {
    "duration": 167,
    "start_time": "2023-06-09T11:36:44.732Z"
   },
   {
    "duration": 166,
    "start_time": "2023-06-09T11:36:44.901Z"
   },
   {
    "duration": 142,
    "start_time": "2023-06-09T11:36:45.068Z"
   },
   {
    "duration": 1229,
    "start_time": "2023-06-09T11:36:45.212Z"
   },
   {
    "duration": 143,
    "start_time": "2023-06-09T11:36:46.443Z"
   },
   {
    "duration": 5,
    "start_time": "2023-06-09T11:36:46.588Z"
   },
   {
    "duration": 22,
    "start_time": "2023-06-09T11:36:46.594Z"
   },
   {
    "duration": 17,
    "start_time": "2023-06-09T11:36:46.618Z"
   },
   {
    "duration": 214,
    "start_time": "2023-06-09T11:36:46.638Z"
   },
   {
    "duration": 20,
    "start_time": "2023-06-09T11:36:46.857Z"
   },
   {
    "duration": 15,
    "start_time": "2023-06-09T11:36:46.885Z"
   },
   {
    "duration": 38,
    "start_time": "2023-06-09T11:36:46.902Z"
   },
   {
    "duration": 8,
    "start_time": "2023-06-09T11:36:46.942Z"
   },
   {
    "duration": 38,
    "start_time": "2023-06-09T11:36:46.952Z"
   },
   {
    "duration": 36,
    "start_time": "2023-06-09T11:36:46.992Z"
   },
   {
    "duration": 17,
    "start_time": "2023-06-09T11:36:47.029Z"
   },
   {
    "duration": 11,
    "start_time": "2023-06-09T11:36:47.048Z"
   },
   {
    "duration": 23,
    "start_time": "2023-06-09T11:36:47.061Z"
   },
   {
    "duration": 3,
    "start_time": "2023-06-09T11:36:47.086Z"
   },
   {
    "duration": 5,
    "start_time": "2023-06-09T11:36:47.091Z"
   },
   {
    "duration": 3092,
    "start_time": "2023-06-09T11:36:47.097Z"
   },
   {
    "duration": 238,
    "start_time": "2023-06-09T11:36:50.191Z"
   },
   {
    "duration": 39,
    "start_time": "2023-06-09T11:36:50.431Z"
   },
   {
    "duration": 17,
    "start_time": "2023-06-09T11:36:50.477Z"
   },
   {
    "duration": 1128,
    "start_time": "2023-06-09T11:36:50.496Z"
   },
   {
    "duration": 16,
    "start_time": "2023-06-09T11:36:51.626Z"
   },
   {
    "duration": 40,
    "start_time": "2023-06-09T11:36:51.644Z"
   },
   {
    "duration": 37,
    "start_time": "2023-06-09T11:36:51.686Z"
   },
   {
    "duration": 3,
    "start_time": "2023-06-09T11:36:51.725Z"
   },
   {
    "duration": 100,
    "start_time": "2023-06-09T11:36:51.729Z"
   },
   {
    "duration": 7,
    "start_time": "2023-06-09T11:36:51.831Z"
   },
   {
    "duration": 963,
    "start_time": "2023-06-09T11:36:51.840Z"
   },
   {
    "duration": 9,
    "start_time": "2023-06-09T11:36:52.805Z"
   },
   {
    "duration": 20,
    "start_time": "2023-06-09T11:36:52.815Z"
   },
   {
    "duration": 17,
    "start_time": "2023-06-09T11:37:56.697Z"
   },
   {
    "duration": 27,
    "start_time": "2023-06-09T11:37:58.378Z"
   }
  ],
  "kernelspec": {
   "display_name": "Python 3 (ipykernel)",
   "language": "python",
   "name": "python3"
  },
  "language_info": {
   "codemirror_mode": {
    "name": "ipython",
    "version": 3
   },
   "file_extension": ".py",
   "mimetype": "text/x-python",
   "name": "python",
   "nbconvert_exporter": "python",
   "pygments_lexer": "ipython3",
   "version": "3.9.18"
  },
  "toc": {
   "base_numbering": 1,
   "nav_menu": {},
   "number_sections": true,
   "sideBar": true,
   "skip_h1_title": true,
   "title_cell": "Содержание",
   "title_sidebar": "Contents",
   "toc_cell": true,
   "toc_position": {
    "height": "calc(100% - 180px)",
    "left": "10px",
    "top": "150px",
    "width": "211.188px"
   },
   "toc_section_display": true,
   "toc_window_display": true
  }
 },
 "nbformat": 4,
 "nbformat_minor": 4
}
