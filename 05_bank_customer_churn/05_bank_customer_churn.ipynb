{
 "cells": [
  {
   "cell_type": "markdown",
   "metadata": {
    "tags": [],
    "toc": true
   },
   "source": [
    "<h1>Содержание<span class=\"tocSkip\"></span></h1>\n",
    "<div class=\"toc\"><ul class=\"toc-item\"><li><span><a href=\"#Подготовка-данных\" data-toc-modified-id=\"Подготовка-данных-1\"><span class=\"toc-item-num\">1&nbsp;&nbsp;</span>Подготовка данных</a></span><ul class=\"toc-item\"><li><span><a href=\"#Загрузка-и-обзор-данных\" data-toc-modified-id=\"Загрузка-и-обзор-данных-1.1\"><span class=\"toc-item-num\">1.1&nbsp;&nbsp;</span>Загрузка и обзор данных</a></span></li><li><span><a href=\"#Удалаение-столбцов\" data-toc-modified-id=\"Удалаение-столбцов-1.2\"><span class=\"toc-item-num\">1.2&nbsp;&nbsp;</span>Удалаение столбцов</a></span></li><li><span><a href=\"#Разделение-на-выборки\" data-toc-modified-id=\"Разделение-на-выборки-1.3\"><span class=\"toc-item-num\">1.3&nbsp;&nbsp;</span>Разделение на выборки</a></span></li><li><span><a href=\"#Кодирование-данных\" data-toc-modified-id=\"Кодирование-данных-1.4\"><span class=\"toc-item-num\">1.4&nbsp;&nbsp;</span>Кодирование данных</a></span></li><li><span><a href=\"#Масштабирование-признаков\" data-toc-modified-id=\"Масштабирование-признаков-1.5\"><span class=\"toc-item-num\">1.5&nbsp;&nbsp;</span>Масштабирование признаков</a></span></li><li><span><a href=\"#Вывод\" data-toc-modified-id=\"Вывод-1.6\"><span class=\"toc-item-num\">1.6&nbsp;&nbsp;</span>Вывод</a></span></li></ul></li><li><span><a href=\"#Исследование-задачи\" data-toc-modified-id=\"Исследование-задачи-2\"><span class=\"toc-item-num\">2&nbsp;&nbsp;</span>Исследование задачи</a></span><ul class=\"toc-item\"><li><span><a href=\"#Логистическая-регрессия\" data-toc-modified-id=\"Логистическая-регрессия-2.1\"><span class=\"toc-item-num\">2.1&nbsp;&nbsp;</span>Логистическая регрессия</a></span></li><li><span><a href=\"#Рандомный-лес\" data-toc-modified-id=\"Рандомный-лес-2.2\"><span class=\"toc-item-num\">2.2&nbsp;&nbsp;</span>Рандомный лес</a></span></li><li><span><a href=\"#AUC-ROC\" data-toc-modified-id=\"AUC-ROC-2.3\"><span class=\"toc-item-num\">2.3&nbsp;&nbsp;</span>AUC-ROC</a></span></li><li><span><a href=\"#Выбор-порога\" data-toc-modified-id=\"Выбор-порога-2.4\"><span class=\"toc-item-num\">2.4&nbsp;&nbsp;</span>Выбор порога</a></span></li><li><span><a href=\"#Вывод\" data-toc-modified-id=\"Вывод-2.5\"><span class=\"toc-item-num\">2.5&nbsp;&nbsp;</span>Вывод</a></span></li></ul></li><li><span><a href=\"#Борьба-с-дисбалансом\" data-toc-modified-id=\"Борьба-с-дисбалансом-3\"><span class=\"toc-item-num\">3&nbsp;&nbsp;</span>Борьба с дисбалансом</a></span><ul class=\"toc-item\"><li><span><a href=\"#Взвешивание-классов\" data-toc-modified-id=\"Взвешивание-классов-3.1\"><span class=\"toc-item-num\">3.1&nbsp;&nbsp;</span>Взвешивание классов</a></span></li><li><span><a href=\"#Увеличение-выборки\" data-toc-modified-id=\"Увеличение-выборки-3.2\"><span class=\"toc-item-num\">3.2&nbsp;&nbsp;</span>Увеличение выборки</a></span></li><li><span><a href=\"#Уменьшение-выборки\" data-toc-modified-id=\"Уменьшение-выборки-3.3\"><span class=\"toc-item-num\">3.3&nbsp;&nbsp;</span>Уменьшение выборки</a></span></li><li><span><a href=\"#Вывод\" data-toc-modified-id=\"Вывод-3.4\"><span class=\"toc-item-num\">3.4&nbsp;&nbsp;</span>Вывод</a></span></li></ul></li><li><span><a href=\"#Тестирование-модели\" data-toc-modified-id=\"Тестирование-модели-4\"><span class=\"toc-item-num\">4&nbsp;&nbsp;</span>Тестирование модели</a></span></li><li><span><a href=\"#Вывод\" data-toc-modified-id=\"Вывод-5\"><span class=\"toc-item-num\">5&nbsp;&nbsp;</span>Вывод</a></span></li></ul></div>"
   ]
  },
  {
   "cell_type": "markdown",
   "metadata": {},
   "source": [
    "# Отток клиентов"
   ]
  },
  {
   "cell_type": "markdown",
   "metadata": {},
   "source": [
    "Из «Бета-Банка» стали уходить клиенты. Каждый месяц. Немного, но заметно. Банковские маркетологи посчитали: сохранять текущих клиентов дешевле, чем привлекать новых.\n",
    "\n",
    "Нужно спрогнозировать, уйдёт клиент из банка в ближайшее время или нет. Вам предоставлены исторические данные о поведении клиентов и расторжении договоров с банком. \n",
    "\n",
    "Постройте модель с предельно большим значением *F1*-меры. Чтобы сдать проект успешно, нужно довести метрику до 0.59. Проверьте *F1*-меру на тестовой выборке самостоятельно.\n",
    "\n",
    "Дополнительно измеряйте *AUC-ROC*, сравнивайте её значение с *F1*-мерой.\n",
    "\n",
    "Источник данных: [https://www.kaggle.com/barelydedicated/bank-customer-churn-modeling](https://www.kaggle.com/barelydedicated/bank-customer-churn-modeling)"
   ]
  },
  {
   "cell_type": "markdown",
   "metadata": {},
   "source": [
    "**Признаки**\n",
    "* RowNumber — индекс строки в данных\n",
    "* CustomerId — уникальный идентификатор клиента\n",
    "* Surname — фамилия\n",
    "* CreditScore — кредитный рейтинг\n",
    "* Geography — страна проживания\n",
    "* Gender — пол\n",
    "* Age — возраст\n",
    "* Tenure — сколько лет человек является клиентом банка\n",
    "* Balance — баланс на счёте\n",
    "* NumOfProducts — количество продуктов банка, используемых клиентом\n",
    "* HasCrCard — наличие кредитной карты\n",
    "* IsActiveMember — активность клиента \n",
    "* EstimatedSalary — предполагаемая зарплата \n",
    "\n",
    "**Целевой признак**\n",
    "* Exited — факт ухода клиента"
   ]
  },
  {
   "cell_type": "markdown",
   "metadata": {},
   "source": [
    "## Подготовка данных"
   ]
  },
  {
   "cell_type": "code",
   "execution_count": 153,
   "metadata": {
    "tags": []
   },
   "outputs": [],
   "source": [
    "import pandas as pd\n",
    "import numpy as np\n",
    "from matplotlib import pyplot as plt\n",
    "from sklearn.metrics import f1_score, roc_curve, roc_auc_score\n",
    "from sklearn.model_selection import train_test_split\n",
    "from sklearn.tree import DecisionTreeClassifier\n",
    "from sklearn.ensemble import RandomForestClassifier\n",
    "from sklearn.linear_model import LogisticRegression\n",
    "from sklearn.preprocessing import StandardScaler\n",
    "from sklearn.utils import shuffle"
   ]
  },
  {
   "cell_type": "markdown",
   "metadata": {},
   "source": [
    "### Загрузка и обзор данных"
   ]
  },
  {
   "cell_type": "code",
   "execution_count": 154,
   "metadata": {
    "tags": []
   },
   "outputs": [],
   "source": [
    "try:\n",
    "    data = pd.read_csv('/datasets/Churn.csv')\n",
    "except:\n",
    "    data = pd.read_csv('https://code.s3.yandex.net/datasets/Churn.csv')\n",
    "    \n",
    "#kaggle_data = pd.read_csv('Churn_Modelling.csv')"
   ]
  },
  {
   "cell_type": "code",
   "execution_count": 155,
   "metadata": {
    "tags": []
   },
   "outputs": [
    {
     "data": {
      "text/html": [
       "<div>\n",
       "<style scoped>\n",
       "    .dataframe tbody tr th:only-of-type {\n",
       "        vertical-align: middle;\n",
       "    }\n",
       "\n",
       "    .dataframe tbody tr th {\n",
       "        vertical-align: top;\n",
       "    }\n",
       "\n",
       "    .dataframe thead th {\n",
       "        text-align: right;\n",
       "    }\n",
       "</style>\n",
       "<table border=\"1\" class=\"dataframe\">\n",
       "  <thead>\n",
       "    <tr style=\"text-align: right;\">\n",
       "      <th></th>\n",
       "      <th>RowNumber</th>\n",
       "      <th>CustomerId</th>\n",
       "      <th>Surname</th>\n",
       "      <th>CreditScore</th>\n",
       "      <th>Geography</th>\n",
       "      <th>Gender</th>\n",
       "      <th>Age</th>\n",
       "      <th>Tenure</th>\n",
       "      <th>Balance</th>\n",
       "      <th>NumOfProducts</th>\n",
       "      <th>HasCrCard</th>\n",
       "      <th>IsActiveMember</th>\n",
       "      <th>EstimatedSalary</th>\n",
       "      <th>Exited</th>\n",
       "    </tr>\n",
       "  </thead>\n",
       "  <tbody>\n",
       "    <tr>\n",
       "      <th>0</th>\n",
       "      <td>1</td>\n",
       "      <td>15634602</td>\n",
       "      <td>Hargrave</td>\n",
       "      <td>619</td>\n",
       "      <td>France</td>\n",
       "      <td>Female</td>\n",
       "      <td>42</td>\n",
       "      <td>2.0</td>\n",
       "      <td>0.00</td>\n",
       "      <td>1</td>\n",
       "      <td>1</td>\n",
       "      <td>1</td>\n",
       "      <td>101348.88</td>\n",
       "      <td>1</td>\n",
       "    </tr>\n",
       "    <tr>\n",
       "      <th>1</th>\n",
       "      <td>2</td>\n",
       "      <td>15647311</td>\n",
       "      <td>Hill</td>\n",
       "      <td>608</td>\n",
       "      <td>Spain</td>\n",
       "      <td>Female</td>\n",
       "      <td>41</td>\n",
       "      <td>1.0</td>\n",
       "      <td>83807.86</td>\n",
       "      <td>1</td>\n",
       "      <td>0</td>\n",
       "      <td>1</td>\n",
       "      <td>112542.58</td>\n",
       "      <td>0</td>\n",
       "    </tr>\n",
       "    <tr>\n",
       "      <th>2</th>\n",
       "      <td>3</td>\n",
       "      <td>15619304</td>\n",
       "      <td>Onio</td>\n",
       "      <td>502</td>\n",
       "      <td>France</td>\n",
       "      <td>Female</td>\n",
       "      <td>42</td>\n",
       "      <td>8.0</td>\n",
       "      <td>159660.80</td>\n",
       "      <td>3</td>\n",
       "      <td>1</td>\n",
       "      <td>0</td>\n",
       "      <td>113931.57</td>\n",
       "      <td>1</td>\n",
       "    </tr>\n",
       "    <tr>\n",
       "      <th>3</th>\n",
       "      <td>4</td>\n",
       "      <td>15701354</td>\n",
       "      <td>Boni</td>\n",
       "      <td>699</td>\n",
       "      <td>France</td>\n",
       "      <td>Female</td>\n",
       "      <td>39</td>\n",
       "      <td>1.0</td>\n",
       "      <td>0.00</td>\n",
       "      <td>2</td>\n",
       "      <td>0</td>\n",
       "      <td>0</td>\n",
       "      <td>93826.63</td>\n",
       "      <td>0</td>\n",
       "    </tr>\n",
       "    <tr>\n",
       "      <th>4</th>\n",
       "      <td>5</td>\n",
       "      <td>15737888</td>\n",
       "      <td>Mitchell</td>\n",
       "      <td>850</td>\n",
       "      <td>Spain</td>\n",
       "      <td>Female</td>\n",
       "      <td>43</td>\n",
       "      <td>2.0</td>\n",
       "      <td>125510.82</td>\n",
       "      <td>1</td>\n",
       "      <td>1</td>\n",
       "      <td>1</td>\n",
       "      <td>79084.10</td>\n",
       "      <td>0</td>\n",
       "    </tr>\n",
       "  </tbody>\n",
       "</table>\n",
       "</div>"
      ],
      "text/plain": [
       "   RowNumber  CustomerId   Surname  CreditScore Geography  Gender  Age  \\\n",
       "0          1    15634602  Hargrave          619    France  Female   42   \n",
       "1          2    15647311      Hill          608     Spain  Female   41   \n",
       "2          3    15619304      Onio          502    France  Female   42   \n",
       "3          4    15701354      Boni          699    France  Female   39   \n",
       "4          5    15737888  Mitchell          850     Spain  Female   43   \n",
       "\n",
       "   Tenure    Balance  NumOfProducts  HasCrCard  IsActiveMember  \\\n",
       "0     2.0       0.00              1          1               1   \n",
       "1     1.0   83807.86              1          0               1   \n",
       "2     8.0  159660.80              3          1               0   \n",
       "3     1.0       0.00              2          0               0   \n",
       "4     2.0  125510.82              1          1               1   \n",
       "\n",
       "   EstimatedSalary  Exited  \n",
       "0        101348.88       1  \n",
       "1        112542.58       0  \n",
       "2        113931.57       1  \n",
       "3         93826.63       0  \n",
       "4         79084.10       0  "
      ]
     },
     "execution_count": 155,
     "metadata": {},
     "output_type": "execute_result"
    }
   ],
   "source": [
    "data.head()"
   ]
  },
  {
   "cell_type": "code",
   "execution_count": 156,
   "metadata": {
    "tags": []
   },
   "outputs": [
    {
     "name": "stdout",
     "output_type": "stream",
     "text": [
      "<class 'pandas.core.frame.DataFrame'>\n",
      "RangeIndex: 10000 entries, 0 to 9999\n",
      "Data columns (total 14 columns):\n",
      " #   Column           Non-Null Count  Dtype  \n",
      "---  ------           --------------  -----  \n",
      " 0   RowNumber        10000 non-null  int64  \n",
      " 1   CustomerId       10000 non-null  int64  \n",
      " 2   Surname          10000 non-null  object \n",
      " 3   CreditScore      10000 non-null  int64  \n",
      " 4   Geography        10000 non-null  object \n",
      " 5   Gender           10000 non-null  object \n",
      " 6   Age              10000 non-null  int64  \n",
      " 7   Tenure           9091 non-null   float64\n",
      " 8   Balance          10000 non-null  float64\n",
      " 9   NumOfProducts    10000 non-null  int64  \n",
      " 10  HasCrCard        10000 non-null  int64  \n",
      " 11  IsActiveMember   10000 non-null  int64  \n",
      " 12  EstimatedSalary  10000 non-null  float64\n",
      " 13  Exited           10000 non-null  int64  \n",
      "dtypes: float64(3), int64(8), object(3)\n",
      "memory usage: 1.1+ MB\n"
     ]
    }
   ],
   "source": [
    "data.info()"
   ]
  },
  {
   "cell_type": "code",
   "execution_count": 157,
   "metadata": {
    "tags": []
   },
   "outputs": [
    {
     "data": {
      "text/html": [
       "<div>\n",
       "<style scoped>\n",
       "    .dataframe tbody tr th:only-of-type {\n",
       "        vertical-align: middle;\n",
       "    }\n",
       "\n",
       "    .dataframe tbody tr th {\n",
       "        vertical-align: top;\n",
       "    }\n",
       "\n",
       "    .dataframe thead th {\n",
       "        text-align: right;\n",
       "    }\n",
       "</style>\n",
       "<table border=\"1\" class=\"dataframe\">\n",
       "  <thead>\n",
       "    <tr style=\"text-align: right;\">\n",
       "      <th></th>\n",
       "      <th>RowNumber</th>\n",
       "      <th>CustomerId</th>\n",
       "      <th>CreditScore</th>\n",
       "      <th>Age</th>\n",
       "      <th>Tenure</th>\n",
       "      <th>Balance</th>\n",
       "      <th>NumOfProducts</th>\n",
       "      <th>HasCrCard</th>\n",
       "      <th>IsActiveMember</th>\n",
       "      <th>EstimatedSalary</th>\n",
       "      <th>Exited</th>\n",
       "    </tr>\n",
       "  </thead>\n",
       "  <tbody>\n",
       "    <tr>\n",
       "      <th>count</th>\n",
       "      <td>10000.00000</td>\n",
       "      <td>1.000000e+04</td>\n",
       "      <td>10000.000000</td>\n",
       "      <td>10000.000000</td>\n",
       "      <td>9091.000000</td>\n",
       "      <td>10000.000000</td>\n",
       "      <td>10000.000000</td>\n",
       "      <td>10000.00000</td>\n",
       "      <td>10000.000000</td>\n",
       "      <td>10000.000000</td>\n",
       "      <td>10000.000000</td>\n",
       "    </tr>\n",
       "    <tr>\n",
       "      <th>mean</th>\n",
       "      <td>5000.50000</td>\n",
       "      <td>1.569094e+07</td>\n",
       "      <td>650.528800</td>\n",
       "      <td>38.921800</td>\n",
       "      <td>4.997690</td>\n",
       "      <td>76485.889288</td>\n",
       "      <td>1.530200</td>\n",
       "      <td>0.70550</td>\n",
       "      <td>0.515100</td>\n",
       "      <td>100090.239881</td>\n",
       "      <td>0.203700</td>\n",
       "    </tr>\n",
       "    <tr>\n",
       "      <th>std</th>\n",
       "      <td>2886.89568</td>\n",
       "      <td>7.193619e+04</td>\n",
       "      <td>96.653299</td>\n",
       "      <td>10.487806</td>\n",
       "      <td>2.894723</td>\n",
       "      <td>62397.405202</td>\n",
       "      <td>0.581654</td>\n",
       "      <td>0.45584</td>\n",
       "      <td>0.499797</td>\n",
       "      <td>57510.492818</td>\n",
       "      <td>0.402769</td>\n",
       "    </tr>\n",
       "    <tr>\n",
       "      <th>min</th>\n",
       "      <td>1.00000</td>\n",
       "      <td>1.556570e+07</td>\n",
       "      <td>350.000000</td>\n",
       "      <td>18.000000</td>\n",
       "      <td>0.000000</td>\n",
       "      <td>0.000000</td>\n",
       "      <td>1.000000</td>\n",
       "      <td>0.00000</td>\n",
       "      <td>0.000000</td>\n",
       "      <td>11.580000</td>\n",
       "      <td>0.000000</td>\n",
       "    </tr>\n",
       "    <tr>\n",
       "      <th>25%</th>\n",
       "      <td>2500.75000</td>\n",
       "      <td>1.562853e+07</td>\n",
       "      <td>584.000000</td>\n",
       "      <td>32.000000</td>\n",
       "      <td>2.000000</td>\n",
       "      <td>0.000000</td>\n",
       "      <td>1.000000</td>\n",
       "      <td>0.00000</td>\n",
       "      <td>0.000000</td>\n",
       "      <td>51002.110000</td>\n",
       "      <td>0.000000</td>\n",
       "    </tr>\n",
       "    <tr>\n",
       "      <th>50%</th>\n",
       "      <td>5000.50000</td>\n",
       "      <td>1.569074e+07</td>\n",
       "      <td>652.000000</td>\n",
       "      <td>37.000000</td>\n",
       "      <td>5.000000</td>\n",
       "      <td>97198.540000</td>\n",
       "      <td>1.000000</td>\n",
       "      <td>1.00000</td>\n",
       "      <td>1.000000</td>\n",
       "      <td>100193.915000</td>\n",
       "      <td>0.000000</td>\n",
       "    </tr>\n",
       "    <tr>\n",
       "      <th>75%</th>\n",
       "      <td>7500.25000</td>\n",
       "      <td>1.575323e+07</td>\n",
       "      <td>718.000000</td>\n",
       "      <td>44.000000</td>\n",
       "      <td>7.000000</td>\n",
       "      <td>127644.240000</td>\n",
       "      <td>2.000000</td>\n",
       "      <td>1.00000</td>\n",
       "      <td>1.000000</td>\n",
       "      <td>149388.247500</td>\n",
       "      <td>0.000000</td>\n",
       "    </tr>\n",
       "    <tr>\n",
       "      <th>max</th>\n",
       "      <td>10000.00000</td>\n",
       "      <td>1.581569e+07</td>\n",
       "      <td>850.000000</td>\n",
       "      <td>92.000000</td>\n",
       "      <td>10.000000</td>\n",
       "      <td>250898.090000</td>\n",
       "      <td>4.000000</td>\n",
       "      <td>1.00000</td>\n",
       "      <td>1.000000</td>\n",
       "      <td>199992.480000</td>\n",
       "      <td>1.000000</td>\n",
       "    </tr>\n",
       "  </tbody>\n",
       "</table>\n",
       "</div>"
      ],
      "text/plain": [
       "         RowNumber    CustomerId   CreditScore           Age       Tenure  \\\n",
       "count  10000.00000  1.000000e+04  10000.000000  10000.000000  9091.000000   \n",
       "mean    5000.50000  1.569094e+07    650.528800     38.921800     4.997690   \n",
       "std     2886.89568  7.193619e+04     96.653299     10.487806     2.894723   \n",
       "min        1.00000  1.556570e+07    350.000000     18.000000     0.000000   \n",
       "25%     2500.75000  1.562853e+07    584.000000     32.000000     2.000000   \n",
       "50%     5000.50000  1.569074e+07    652.000000     37.000000     5.000000   \n",
       "75%     7500.25000  1.575323e+07    718.000000     44.000000     7.000000   \n",
       "max    10000.00000  1.581569e+07    850.000000     92.000000    10.000000   \n",
       "\n",
       "             Balance  NumOfProducts    HasCrCard  IsActiveMember  \\\n",
       "count   10000.000000   10000.000000  10000.00000    10000.000000   \n",
       "mean    76485.889288       1.530200      0.70550        0.515100   \n",
       "std     62397.405202       0.581654      0.45584        0.499797   \n",
       "min         0.000000       1.000000      0.00000        0.000000   \n",
       "25%         0.000000       1.000000      0.00000        0.000000   \n",
       "50%     97198.540000       1.000000      1.00000        1.000000   \n",
       "75%    127644.240000       2.000000      1.00000        1.000000   \n",
       "max    250898.090000       4.000000      1.00000        1.000000   \n",
       "\n",
       "       EstimatedSalary        Exited  \n",
       "count     10000.000000  10000.000000  \n",
       "mean     100090.239881      0.203700  \n",
       "std       57510.492818      0.402769  \n",
       "min          11.580000      0.000000  \n",
       "25%       51002.110000      0.000000  \n",
       "50%      100193.915000      0.000000  \n",
       "75%      149388.247500      0.000000  \n",
       "max      199992.480000      1.000000  "
      ]
     },
     "execution_count": 157,
     "metadata": {},
     "output_type": "execute_result"
    }
   ],
   "source": [
    "data.describe()"
   ]
  },
  {
   "cell_type": "code",
   "execution_count": 158,
   "metadata": {
    "tags": []
   },
   "outputs": [
    {
     "data": {
      "image/png": "[encoded data removed]",
      "text/plain": [
       "<Figure size 576x72 with 1 Axes>"
      ]
     },
     "metadata": {
      "needs_background": "light"
     },
     "output_type": "display_data"
    },
    {
     "data": {
      "image/png": "[encoded data removed]",
      "text/plain": [
       "<Figure size 576x72 with 1 Axes>"
      ]
     },
     "metadata": {
      "needs_background": "light"
     },
     "output_type": "display_data"
    },
    {
     "data": {
      "image/png": "[encoded data removed]",
      "text/plain": [
       "<Figure size 576x72 with 1 Axes>"
      ]
     },
     "metadata": {
      "needs_background": "light"
     },
     "output_type": "display_data"
    },
    {
     "data": {
      "image/png": "[encoded data removed]",
      "text/plain": [
       "<Figure size 576x72 with 1 Axes>"
      ]
     },
     "metadata": {
      "needs_background": "light"
     },
     "output_type": "display_data"
    },
    {
     "data": {
      "image/png": "[encoded data removed]",
      "text/plain": [
       "<Figure size 576x72 with 1 Axes>"
      ]
     },
     "metadata": {
      "needs_background": "light"
     },
     "output_type": "display_data"
    },
    {
     "data": {
      "image/png": "[encoded data removed]",
      "text/plain": [
       "<Figure size 576x72 with 1 Axes>"
      ]
     },
     "metadata": {
      "needs_background": "light"
     },
     "output_type": "display_data"
    }
   ],
   "source": [
    "columns = ['CreditScore','Age','Tenure','Balance','NumOfProducts','EstimatedSalary']\n",
    "for c in columns:\n",
    "    data[c].plot.box(vert=False, figsize=(8, 1))\n",
    "    plt.show()"
   ]
  },
  {
   "cell_type": "markdown",
   "metadata": {
    "tags": []
   },
   "source": [
    "Значительных выбросов нет"
   ]
  },
  {
   "cell_type": "markdown",
   "metadata": {},
   "source": [
    "Если скачать представленный датасет с сайта kaggle, то пропусков в столбце tenure нет.   \n",
    "Я посмоетрела какие значения пропущены. Ниже представлены пропущенные значения столбца Tenure и их количество:\n",
    "| Tenure | Count |\n",
    "| -- | --- |\n",
    "4|     104  \n",
    "7  |   103  \n",
    "9   |  102  \n",
    "2   |   98   \n",
    "8   |   92  \n",
    "6   |  86  \n",
    "5   |  85  \n",
    "1   |  83  \n",
    "3   |  81  \n",
    "10  |  44  \n",
    "0   |  31 \n",
    "\n",
    "Никакой закономерности здесь не видно. Скорее всего данные по какой-то причине потерялись.  \n",
    "Самым верным решением было бы использовать оригинальный датасет с kaggle.   \n",
    "Так как прямую ссылку для скачивания с kaggle я использовать не могу, то будем работать с тем что есть. Строки с пропусками придётся удалить."
   ]
  },
  {
   "cell_type": "code",
   "execution_count": 159,
   "metadata": {
    "tags": []
   },
   "outputs": [
    {
     "data": {
      "text/plain": [
       "0"
      ]
     },
     "execution_count": 159,
     "metadata": {},
     "output_type": "execute_result"
    }
   ],
   "source": [
    "data = data.dropna().reset_index(drop=True)\n",
    "data.isna().sum().sum()"
   ]
  },
  {
   "cell_type": "markdown",
   "metadata": {},
   "source": [
    "### Удалаение столбцов"
   ]
  },
  {
   "cell_type": "markdown",
   "metadata": {},
   "source": [
    "В первую очередь избавимся от столбцов с фамилиями и ID клиентов, а также от номера записи. Эти данные не несут в себе никакой информации для анализа. "
   ]
  },
  {
   "cell_type": "code",
   "execution_count": 160,
   "metadata": {
    "tags": []
   },
   "outputs": [
    {
     "data": {
      "text/plain": [
       "Index(['CreditScore', 'Geography', 'Gender', 'Age', 'Tenure', 'Balance',\n",
       "       'NumOfProducts', 'HasCrCard', 'IsActiveMember', 'EstimatedSalary',\n",
       "       'Exited'],\n",
       "      dtype='object')"
      ]
     },
     "execution_count": 160,
     "metadata": {},
     "output_type": "execute_result"
    }
   ],
   "source": [
    "data = data.drop(['RowNumber','CustomerId','Surname'], axis=1)\n",
    "data.columns"
   ]
  },
  {
   "cell_type": "markdown",
   "metadata": {},
   "source": [
    "### Разделение на выборки"
   ]
  },
  {
   "cell_type": "markdown",
   "metadata": {},
   "source": [
    "Перед началом работы, отделим 20% данных в тестовую выборку. Эти данные я не буду трогать до финального тестирования."
   ]
  },
  {
   "cell_type": "code",
   "execution_count": 161,
   "metadata": {},
   "outputs": [
    {
     "name": "stdout",
     "output_type": "stream",
     "text": [
      "(9091,) (9091, 10)\n"
     ]
    }
   ],
   "source": [
    "target = data['Exited']\n",
    "features = data.drop('Exited', axis=1)\n",
    "print(target.shape, features.shape)"
   ]
  },
  {
   "cell_type": "code",
   "execution_count": 162,
   "metadata": {},
   "outputs": [
    {
     "name": "stdout",
     "output_type": "stream",
     "text": [
      "(7272, 10) (7272,) (1819, 10) (1819,)\n"
     ]
    }
   ],
   "source": [
    "features_train, features_test, target_train,target_test= train_test_split(features, target, test_size=0.20, random_state=12345)\n",
    "target_test = data_test['Exited']\n",
    "features_test = data_test.drop('Exited', axis=1)\n",
    "print(features_train.shape, target_train.shape, features_test.shape, target_test.shape)"
   ]
  },
  {
   "cell_type": "markdown",
   "metadata": {},
   "source": [
    "Оставшиеся данные разделим на тренировочную и валидационную выборки."
   ]
  },
  {
   "cell_type": "code",
   "execution_count": 163,
   "metadata": {},
   "outputs": [
    {
     "name": "stdout",
     "output_type": "stream",
     "text": [
      "(5454, 10) (5454,) (1818, 10) (1818,)\n"
     ]
    }
   ],
   "source": [
    "features_train, features_valid, target_train, target_valid = train_test_split(\n",
    "    features_train, target_train, test_size=0.25, random_state=12345)\n",
    "print(features_train.shape, target_train.shape, features_valid.shape, target_valid.shape)"
   ]
  },
  {
   "cell_type": "markdown",
   "metadata": {},
   "source": [
    "### Кодирование данных"
   ]
  },
  {
   "cell_type": "markdown",
   "metadata": {},
   "source": [
    "Осталось разбораться только со столбцами со страной и с полом. Посмотрим сколько разных значений есть в этих столбцах."
   ]
  },
  {
   "cell_type": "code",
   "execution_count": 164,
   "metadata": {
    "tags": []
   },
   "outputs": [
    {
     "data": {
      "text/plain": [
       "array(['France', 'Spain', 'Germany'], dtype=object)"
      ]
     },
     "execution_count": 164,
     "metadata": {},
     "output_type": "execute_result"
    }
   ],
   "source": [
    "data['Geography'].unique()"
   ]
  },
  {
   "cell_type": "code",
   "execution_count": 165,
   "metadata": {
    "tags": []
   },
   "outputs": [
    {
     "data": {
      "text/plain": [
       "array(['Female', 'Male'], dtype=object)"
      ]
     },
     "execution_count": 165,
     "metadata": {},
     "output_type": "execute_result"
    }
   ],
   "source": [
    "data['Gender'].unique()"
   ]
  },
  {
   "cell_type": "markdown",
   "metadata": {},
   "source": [
    "Всего три страны. Можно применить OHE, так как он универсальный и подойдёт для любой модели обучения. Если бы в списке были все 190+ страны мира, то такой подход уже был бы неудобен.    \n",
    "Если закодировать страны цифрами, то страна, получившая большее значение, будет казаться \"больше\" и \"лучше\".   \n",
    "Пола, как ожидалось, всего два, даже нет пропусков. OHE тоже подходит."
   ]
  },
  {
   "cell_type": "code",
   "execution_count": 166,
   "metadata": {
    "tags": []
   },
   "outputs": [],
   "source": [
    "features_train = pd.get_dummies(features_train, drop_first=True)\n",
    "features_valid = pd.get_dummies(features_valid, drop_first=True)\n",
    "features_test = pd.get_dummies(features_test, drop_first=True)"
   ]
  },
  {
   "cell_type": "code",
   "execution_count": 167,
   "metadata": {
    "tags": []
   },
   "outputs": [
    {
     "data": {
      "text/html": [
       "<div>\n",
       "<style scoped>\n",
       "    .dataframe tbody tr th:only-of-type {\n",
       "        vertical-align: middle;\n",
       "    }\n",
       "\n",
       "    .dataframe tbody tr th {\n",
       "        vertical-align: top;\n",
       "    }\n",
       "\n",
       "    .dataframe thead th {\n",
       "        text-align: right;\n",
       "    }\n",
       "</style>\n",
       "<table border=\"1\" class=\"dataframe\">\n",
       "  <thead>\n",
       "    <tr style=\"text-align: right;\">\n",
       "      <th></th>\n",
       "      <th>CreditScore</th>\n",
       "      <th>Age</th>\n",
       "      <th>Tenure</th>\n",
       "      <th>Balance</th>\n",
       "      <th>NumOfProducts</th>\n",
       "      <th>HasCrCard</th>\n",
       "      <th>IsActiveMember</th>\n",
       "      <th>EstimatedSalary</th>\n",
       "      <th>Geography_Germany</th>\n",
       "      <th>Geography_Spain</th>\n",
       "      <th>Gender_Male</th>\n",
       "    </tr>\n",
       "  </thead>\n",
       "  <tbody>\n",
       "    <tr>\n",
       "      <th>3353</th>\n",
       "      <td>629</td>\n",
       "      <td>44</td>\n",
       "      <td>6.0</td>\n",
       "      <td>125512.98</td>\n",
       "      <td>2</td>\n",
       "      <td>0</td>\n",
       "      <td>0</td>\n",
       "      <td>79082.76</td>\n",
       "      <td>0</td>\n",
       "      <td>1</td>\n",
       "      <td>0</td>\n",
       "    </tr>\n",
       "    <tr>\n",
       "      <th>6176</th>\n",
       "      <td>614</td>\n",
       "      <td>35</td>\n",
       "      <td>1.0</td>\n",
       "      <td>0.00</td>\n",
       "      <td>2</td>\n",
       "      <td>1</td>\n",
       "      <td>1</td>\n",
       "      <td>3342.62</td>\n",
       "      <td>0</td>\n",
       "      <td>0</td>\n",
       "      <td>0</td>\n",
       "    </tr>\n",
       "    <tr>\n",
       "      <th>4020</th>\n",
       "      <td>666</td>\n",
       "      <td>36</td>\n",
       "      <td>3.0</td>\n",
       "      <td>0.00</td>\n",
       "      <td>2</td>\n",
       "      <td>1</td>\n",
       "      <td>0</td>\n",
       "      <td>35156.54</td>\n",
       "      <td>0</td>\n",
       "      <td>0</td>\n",
       "      <td>1</td>\n",
       "    </tr>\n",
       "    <tr>\n",
       "      <th>535</th>\n",
       "      <td>683</td>\n",
       "      <td>57</td>\n",
       "      <td>5.0</td>\n",
       "      <td>162448.69</td>\n",
       "      <td>1</td>\n",
       "      <td>0</td>\n",
       "      <td>0</td>\n",
       "      <td>9221.78</td>\n",
       "      <td>1</td>\n",
       "      <td>0</td>\n",
       "      <td>0</td>\n",
       "    </tr>\n",
       "    <tr>\n",
       "      <th>1661</th>\n",
       "      <td>737</td>\n",
       "      <td>36</td>\n",
       "      <td>9.0</td>\n",
       "      <td>0.00</td>\n",
       "      <td>1</td>\n",
       "      <td>0</td>\n",
       "      <td>1</td>\n",
       "      <td>188670.90</td>\n",
       "      <td>0</td>\n",
       "      <td>0</td>\n",
       "      <td>1</td>\n",
       "    </tr>\n",
       "  </tbody>\n",
       "</table>\n",
       "</div>"
      ],
      "text/plain": [
       "      CreditScore  Age  Tenure    Balance  NumOfProducts  HasCrCard  \\\n",
       "3353          629   44     6.0  125512.98              2          0   \n",
       "6176          614   35     1.0       0.00              2          1   \n",
       "4020          666   36     3.0       0.00              2          1   \n",
       "535           683   57     5.0  162448.69              1          0   \n",
       "1661          737   36     9.0       0.00              1          0   \n",
       "\n",
       "      IsActiveMember  EstimatedSalary  Geography_Germany  Geography_Spain  \\\n",
       "3353               0         79082.76                  0                1   \n",
       "6176               1          3342.62                  0                0   \n",
       "4020               0         35156.54                  0                0   \n",
       "535                0          9221.78                  1                0   \n",
       "1661               1        188670.90                  0                0   \n",
       "\n",
       "      Gender_Male  \n",
       "3353            0  \n",
       "6176            0  \n",
       "4020            1  \n",
       "535             0  \n",
       "1661            1  "
      ]
     },
     "execution_count": 167,
     "metadata": {},
     "output_type": "execute_result"
    }
   ],
   "source": [
    "features_train.head()"
   ]
  },
  {
   "cell_type": "markdown",
   "metadata": {},
   "source": [
    "### Масштабирование признаков"
   ]
  },
  {
   "cell_type": "markdown",
   "metadata": {},
   "source": [
    "Значения разных столбцов имеют разный порядок значений. Данные следует масштабировать.   \n",
    "Так как в таблице остались только численные значения, можно применить масштабирование ко всей таблице целиком. Отделим только целевой признак, он нам нужен в первоначальном варианте."
   ]
  },
  {
   "cell_type": "code",
   "execution_count": 168,
   "metadata": {
    "tags": []
   },
   "outputs": [],
   "source": [
    "columns = list(set(list(features_train.columns))-set(['Exited']))\n",
    "scaler = StandardScaler()\n",
    "scaler.fit(features_train[columns]) \n",
    "\n",
    "features_train[columns] = scaler.transform(features_train[columns])\n",
    "features_valid[columns] = scaler.transform(features_valid[columns])\n",
    "features_test[columns] = scaler.transform(features_test[columns])"
   ]
  },
  {
   "cell_type": "code",
   "execution_count": 169,
   "metadata": {
    "tags": []
   },
   "outputs": [
    {
     "data": {
      "text/html": [
       "<div>\n",
       "<style scoped>\n",
       "    .dataframe tbody tr th:only-of-type {\n",
       "        vertical-align: middle;\n",
       "    }\n",
       "\n",
       "    .dataframe tbody tr th {\n",
       "        vertical-align: top;\n",
       "    }\n",
       "\n",
       "    .dataframe thead th {\n",
       "        text-align: right;\n",
       "    }\n",
       "</style>\n",
       "<table border=\"1\" class=\"dataframe\">\n",
       "  <thead>\n",
       "    <tr style=\"text-align: right;\">\n",
       "      <th></th>\n",
       "      <th>CreditScore</th>\n",
       "      <th>Age</th>\n",
       "      <th>Tenure</th>\n",
       "      <th>Balance</th>\n",
       "      <th>NumOfProducts</th>\n",
       "      <th>HasCrCard</th>\n",
       "      <th>IsActiveMember</th>\n",
       "      <th>EstimatedSalary</th>\n",
       "      <th>Geography_Germany</th>\n",
       "      <th>Geography_Spain</th>\n",
       "      <th>Gender_Male</th>\n",
       "    </tr>\n",
       "  </thead>\n",
       "  <tbody>\n",
       "    <tr>\n",
       "      <th>3353</th>\n",
       "      <td>-0.203819</td>\n",
       "      <td>0.471273</td>\n",
       "      <td>0.352316</td>\n",
       "      <td>0.786022</td>\n",
       "      <td>0.782369</td>\n",
       "      <td>-1.545860</td>\n",
       "      <td>-1.016640</td>\n",
       "      <td>-0.357205</td>\n",
       "      <td>-0.579750</td>\n",
       "      <td>1.763526</td>\n",
       "      <td>-1.089828</td>\n",
       "    </tr>\n",
       "    <tr>\n",
       "      <th>6176</th>\n",
       "      <td>-0.357513</td>\n",
       "      <td>-0.384930</td>\n",
       "      <td>-1.373506</td>\n",
       "      <td>-1.230577</td>\n",
       "      <td>0.782369</td>\n",
       "      <td>0.646889</td>\n",
       "      <td>0.983632</td>\n",
       "      <td>-1.671048</td>\n",
       "      <td>-0.579750</td>\n",
       "      <td>-0.567046</td>\n",
       "      <td>-1.089828</td>\n",
       "    </tr>\n",
       "    <tr>\n",
       "      <th>4020</th>\n",
       "      <td>0.175290</td>\n",
       "      <td>-0.289797</td>\n",
       "      <td>-0.683177</td>\n",
       "      <td>-1.230577</td>\n",
       "      <td>0.782369</td>\n",
       "      <td>0.646889</td>\n",
       "      <td>-1.016640</td>\n",
       "      <td>-1.119181</td>\n",
       "      <td>-0.579750</td>\n",
       "      <td>-0.567046</td>\n",
       "      <td>0.917576</td>\n",
       "    </tr>\n",
       "    <tr>\n",
       "      <th>535</th>\n",
       "      <td>0.349476</td>\n",
       "      <td>1.708010</td>\n",
       "      <td>0.007151</td>\n",
       "      <td>1.379462</td>\n",
       "      <td>-0.914942</td>\n",
       "      <td>-1.545860</td>\n",
       "      <td>-1.016640</td>\n",
       "      <td>-1.569064</td>\n",
       "      <td>1.724882</td>\n",
       "      <td>-0.567046</td>\n",
       "      <td>-1.089828</td>\n",
       "    </tr>\n",
       "    <tr>\n",
       "      <th>1661</th>\n",
       "      <td>0.902771</td>\n",
       "      <td>-0.289797</td>\n",
       "      <td>1.387809</td>\n",
       "      <td>-1.230577</td>\n",
       "      <td>-0.914942</td>\n",
       "      <td>-1.545860</td>\n",
       "      <td>0.983632</td>\n",
       "      <td>1.543790</td>\n",
       "      <td>-0.579750</td>\n",
       "      <td>-0.567046</td>\n",
       "      <td>0.917576</td>\n",
       "    </tr>\n",
       "  </tbody>\n",
       "</table>\n",
       "</div>"
      ],
      "text/plain": [
       "      CreditScore       Age    Tenure   Balance  NumOfProducts  HasCrCard  \\\n",
       "3353    -0.203819  0.471273  0.352316  0.786022       0.782369  -1.545860   \n",
       "6176    -0.357513 -0.384930 -1.373506 -1.230577       0.782369   0.646889   \n",
       "4020     0.175290 -0.289797 -0.683177 -1.230577       0.782369   0.646889   \n",
       "535      0.349476  1.708010  0.007151  1.379462      -0.914942  -1.545860   \n",
       "1661     0.902771 -0.289797  1.387809 -1.230577      -0.914942  -1.545860   \n",
       "\n",
       "      IsActiveMember  EstimatedSalary  Geography_Germany  Geography_Spain  \\\n",
       "3353       -1.016640        -0.357205          -0.579750         1.763526   \n",
       "6176        0.983632        -1.671048          -0.579750        -0.567046   \n",
       "4020       -1.016640        -1.119181          -0.579750        -0.567046   \n",
       "535        -1.016640        -1.569064           1.724882        -0.567046   \n",
       "1661        0.983632         1.543790          -0.579750        -0.567046   \n",
       "\n",
       "      Gender_Male  \n",
       "3353    -1.089828  \n",
       "6176    -1.089828  \n",
       "4020     0.917576  \n",
       "535     -1.089828  \n",
       "1661     0.917576  "
      ]
     },
     "execution_count": 169,
     "metadata": {},
     "output_type": "execute_result"
    }
   ],
   "source": [
    "features_train.head()"
   ]
  },
  {
   "cell_type": "markdown",
   "metadata": {},
   "source": [
    "Теперь таблица выглядит готовой для обучения."
   ]
  },
  {
   "cell_type": "markdown",
   "metadata": {},
   "source": [
    "### Вывод"
   ]
  },
  {
   "cell_type": "markdown",
   "metadata": {
    "tags": []
   },
   "source": [
    "Данные выглядят нормально, без выбросов и неадекватных значений.  \n",
    "Пропуски есть только в столбце Tenure. Восстановить их можно, загрузив оригинальный датасет с сайта kaggle.  \n",
    "Столбцы с номером записи, фамилией и ID клиента были удалены. Так как они не содержат информации важной для обучения.  \n",
    "К столбцам Geography и Gender был применён метод One-Hot Encoding, для преобразования строковых данных в численные.  \n",
    "Все признаки были приведены к одному масштабу."
   ]
  },
  {
   "cell_type": "markdown",
   "metadata": {},
   "source": [
    "## Исследование задачи"
   ]
  },
  {
   "cell_type": "code",
   "execution_count": 170,
   "metadata": {
    "tags": []
   },
   "outputs": [
    {
     "data": {
      "text/plain": [
       "0    5787\n",
       "1    1485\n",
       "Name: Exited, dtype: int64"
      ]
     },
     "execution_count": 170,
     "metadata": {},
     "output_type": "execute_result"
    }
   ],
   "source": [
    "data_train['Exited'].value_counts()"
   ]
  },
  {
   "cell_type": "markdown",
   "metadata": {},
   "source": [
    "Отношение классов примерно 80:20. Не самый критичный уровень дисбаланса, но наверняка плохо повлияет на обучение."
   ]
  },
  {
   "cell_type": "markdown",
   "metadata": {},
   "source": [
    "### Логистическая регрессия"
   ]
  },
  {
   "cell_type": "markdown",
   "metadata": {},
   "source": [
    "Найдём лучшую модель логистичесткой регрессии. Сравнивать модели будем по f1-мере."
   ]
  },
  {
   "cell_type": "code",
   "execution_count": 171,
   "metadata": {
    "tags": []
   },
   "outputs": [
    {
     "name": "stdout",
     "output_type": "stream",
     "text": [
      "Лучший результат:\n",
      "F1: 0.3004115226337448 \n",
      "Итераций 100\n",
      "CPU times: user 393 ms, sys: 546 ms, total: 939 ms\n",
      "Wall time: 878 ms\n"
     ]
    }
   ],
   "source": [
    "%%time\n",
    "best_linear_model = None\n",
    "best_linear_result = 0\n",
    "best_linear_iter = 0\n",
    "\n",
    "for i in range(100,1001,100):        \n",
    "    linear = LogisticRegression(solver='liblinear', max_iter=i, random_state=123)\n",
    "    linear.fit(features_train, target_train)\n",
    "    linear_prediction = linear.predict(features_valid)\n",
    "    result = f1_score(target_valid, linear_prediction)\n",
    "    if result > best_linear_result:\n",
    "        best_linear_model = linear\n",
    "        best_linear_result = result\n",
    "        best_linear_iter = i\n",
    "\n",
    "print('Лучший результат:\\nF1:', best_linear_result, '\\nИтераций', best_linear_iter)"
   ]
  },
  {
   "cell_type": "markdown",
   "metadata": {
    "tags": []
   },
   "source": [
    "Пока результат далёк от желаемого, решающее дерево пропустим, возмём сразу лес."
   ]
  },
  {
   "cell_type": "markdown",
   "metadata": {},
   "source": [
    "### Рандомный лес"
   ]
  },
  {
   "cell_type": "code",
   "execution_count": 172,
   "metadata": {
    "tags": []
   },
   "outputs": [
    {
     "name": "stdout",
     "output_type": "stream",
     "text": [
      "Лучший результат:\n",
      "F1: 0.5444839857651246 \n",
      "Число деревьев 40 \n",
      "Глубина:  10\n",
      "CPU times: user 6.09 s, sys: 86.6 ms, total: 6.18 s\n",
      "Wall time: 7.18 s\n"
     ]
    }
   ],
   "source": [
    "%%time\n",
    "best_forest_model = None\n",
    "best_forest_result = 0\n",
    "best_forest_depth = 0\n",
    "best_forest_est = 0\n",
    "\n",
    "for est in range(10, 51, 10):\n",
    "    for depth in range(1,11):\n",
    "        forest = RandomForestClassifier(n_estimators=est, max_depth=depth, random_state=123)\n",
    "        forest.fit(features_train, target_train)\n",
    "        forest_prediction = forest.predict(features_valid)\n",
    "        result = f1_score(target_valid, forest_prediction)\n",
    "        if result > best_forest_result:\n",
    "                best_forest_model = forest\n",
    "                best_forest_result = result\n",
    "                best_forest_depth = depth\n",
    "                best_forest_est = est\n",
    "            \n",
    "print('Лучший результат:\\nF1:', best_forest_result,'\\nЧисло деревьев',best_forest_est, '\\nГлубина: ', best_forest_depth)"
   ]
  },
  {
   "cell_type": "markdown",
   "metadata": {},
   "source": [
    "F1 = 0.54! Уже неплохо, и это без балансировки классов.  \n",
    "Теперь взглянем на AUC-ROC кривую."
   ]
  },
  {
   "cell_type": "markdown",
   "metadata": {},
   "source": [
    "### AUC-ROC"
   ]
  },
  {
   "cell_type": "code",
   "execution_count": 173,
   "metadata": {
    "tags": []
   },
   "outputs": [],
   "source": [
    "probabilities = best_forest_model.predict_proba(features_valid)[:, 1]"
   ]
  },
  {
   "cell_type": "code",
   "execution_count": 174,
   "metadata": {
    "tags": []
   },
   "outputs": [
    {
     "data": {
      "image/png": "[encoded data removed]",
      "text/plain": [
       "<Figure size 432x288 with 1 Axes>"
      ]
     },
     "metadata": {
      "needs_background": "light"
     },
     "output_type": "display_data"
    }
   ],
   "source": [
    "fpr, tpr, thresholds = roc_curve(target_valid, probabilities)\n",
    "plt.figure()\n",
    "\n",
    "# ROC-кривая моей модели\n",
    "plt.plot(fpr,tpr)\n",
    "\n",
    "# ROC-кривая случайной модели (выглядит как прямая)\n",
    "plt.plot([0, 1], [0, 1], linestyle='--')\n",
    "\n",
    "plt.xlim([0,1])\n",
    "plt.ylim([0,1])\n",
    "\n",
    "#   оси \"False Positive Rate\" и \"True Positive Rate\" >\n",
    "plt.xlabel(\"False Positive Rate\")\n",
    "plt.ylabel(\"True Positive Rate\")\n",
    "# заголовок \"ROC-кривая\"\n",
    "plt.title(\"ROC-кривая\")\n",
    "plt.show()"
   ]
  },
  {
   "cell_type": "code",
   "execution_count": 175,
   "metadata": {
    "tags": []
   },
   "outputs": [
    {
     "data": {
      "text/plain": [
       "0.8486382077104878"
      ]
     },
     "execution_count": 175,
     "metadata": {},
     "output_type": "execute_result"
    }
   ],
   "source": [
    "roc_auc_score(target_valid, probabilities)"
   ]
  },
  {
   "cell_type": "markdown",
   "metadata": {},
   "source": [
    "Неплохое значение, осталось найти лучший порог."
   ]
  },
  {
   "cell_type": "markdown",
   "metadata": {},
   "source": [
    "### Выбор порога"
   ]
  },
  {
   "cell_type": "markdown",
   "metadata": {},
   "source": [
    "Переберём значения порога от 0 до 1 с шагом 0.01 и сравним f1 меру."
   ]
  },
  {
   "cell_type": "code",
   "execution_count": 176,
   "metadata": {
    "tags": []
   },
   "outputs": [
    {
     "name": "stdout",
     "output_type": "stream",
     "text": [
      "Лучший порог: 0.27 \n",
      "F1: 0.6049543676662321\n"
     ]
    }
   ],
   "source": [
    "best_f1_score = 0\n",
    "best_threshold = 0\n",
    "for threshold in np.arange(0, 1, 0.01):\n",
    "    predicted_valid = probabilities > threshold\n",
    "    score = f1_score(target_valid, predicted_valid)\n",
    "    if best_f1_score < score:\n",
    "        best_f1_score = score\n",
    "        best_threshold = threshold\n",
    "print('Лучший порог:',best_threshold,'\\nF1:', best_f1_score)"
   ]
  },
  {
   "cell_type": "markdown",
   "metadata": {},
   "source": [
    "Вот это результат. Если бы задача была толкьо получить f1 выше 0.59, то мы бы уже справились.  \n",
    "Однако следует помнить, что мы ещё не проверяли модель на тестовых данных. "
   ]
  },
  {
   "cell_type": "markdown",
   "metadata": {},
   "source": [
    "### Вывод"
   ]
  },
  {
   "cell_type": "markdown",
   "metadata": {},
   "source": [
    "На валидационных данных удалось получить значение F1 равное 0.605. Лучший результат показала следующая модель:   \n",
    "**Рандомный лес**\n",
    "* Число деревьев: 40 \n",
    "* Глубина:  10\n",
    "* Порог: 0.27"
   ]
  },
  {
   "cell_type": "markdown",
   "metadata": {},
   "source": [
    "## Борьба с дисбалансом"
   ]
  },
  {
   "cell_type": "markdown",
   "metadata": {},
   "source": [
    "### Взвешивание классов"
   ]
  },
  {
   "cell_type": "code",
   "execution_count": 177,
   "metadata": {
    "tags": []
   },
   "outputs": [
    {
     "name": "stdout",
     "output_type": "stream",
     "text": [
      "Логистическая регрессия\n",
      "Лучший результат:\n",
      "F1: 0.49458128078817737 \n",
      "Итераций 100\n",
      "CPU times: user 426 ms, sys: 587 ms, total: 1.01 s\n",
      "Wall time: 999 ms\n"
     ]
    }
   ],
   "source": [
    "%%time\n",
    "best_linear_model_weighted = None\n",
    "best_linear_result = 0\n",
    "best_linear_iter = 0\n",
    "\n",
    "for i in range(100,1001,100):        \n",
    "    linear = LogisticRegression(solver='liblinear', max_iter=i, class_weight='balanced', random_state=123)\n",
    "    linear.fit(features_train, target_train)\n",
    "    linear_prediction = linear.predict(features_valid)\n",
    "    result = f1_score(target_valid, linear_prediction)\n",
    "    if result > best_linear_result:\n",
    "        best_linear_model_weighted = linear\n",
    "        best_linear_result = result\n",
    "        best_linear_iter = i\n",
    "\n",
    "print('Логистическая регрессия')\n",
    "print('Лучший результат:\\nF1:', best_linear_result, '\\nИтераций', best_linear_iter)"
   ]
  },
  {
   "cell_type": "code",
   "execution_count": 178,
   "metadata": {
    "tags": []
   },
   "outputs": [
    {
     "name": "stdout",
     "output_type": "stream",
     "text": [
      "Рандомный лес\n",
      "Лчший результат:\n",
      "F1: 0.608089260808926 \n",
      "Число деревьев 30 \n",
      "Глубина:  10\n",
      "CPU times: user 5.88 s, sys: 76.5 ms, total: 5.95 s\n",
      "Wall time: 5.97 s\n"
     ]
    }
   ],
   "source": [
    "%%time\n",
    "best_forest_model_weighted = None\n",
    "best_forest_result = 0\n",
    "best_forest_depth = 0\n",
    "best_forest_est = 0\n",
    "\n",
    "for est in range(10, 51, 10):\n",
    "    for depth in range(1,11):\n",
    "        forest = RandomForestClassifier(n_estimators=est, max_depth=depth, class_weight='balanced', random_state=123)\n",
    "        forest.fit(features_train, target_train)\n",
    "        forest_prediction = forest.predict(features_valid)\n",
    "        result = f1_score(target_valid, forest_prediction)\n",
    "        if result > best_forest_result:\n",
    "                best_forest_model_weighted = forest\n",
    "                best_forest_result = result\n",
    "                best_forest_depth = depth\n",
    "                best_forest_est = est\n",
    "            \n",
    "print(\"Рандомный лес\")\n",
    "print('Лчший результат:\\nF1:', best_forest_result,'\\nЧисло деревьев',best_forest_est, '\\nГлубина: ', best_forest_depth)"
   ]
  },
  {
   "cell_type": "markdown",
   "metadata": {},
   "source": [
    "Подберём порог для леса"
   ]
  },
  {
   "cell_type": "code",
   "execution_count": 179,
   "metadata": {
    "tags": []
   },
   "outputs": [
    {
     "name": "stdout",
     "output_type": "stream",
     "text": [
      "Лучший порог: 0.51 \n",
      "F1: 0.6116642958748223\n",
      "ROC-AUC: 0.8474442638004487\n"
     ]
    }
   ],
   "source": [
    "probabilities_weighted = best_forest_model_weighted.predict_proba(features_valid)[:, 1]\n",
    "\n",
    "best_f1_score_weighted = 0\n",
    "best_threshold_weighted = 0\n",
    "for threshold in np.arange(0, 1, 0.01):\n",
    "    predicted_valid = probabilities_weighted > threshold\n",
    "    score = f1_score(target_valid, predicted_valid)\n",
    "    if best_f1_score_weighted < score:\n",
    "        best_f1_score_weighted = score\n",
    "        best_threshold_weighted = threshold\n",
    "print('Лучший порог:',best_threshold_weighted,'\\nF1:', best_f1_score_weighted)\n",
    "print('ROC-AUC:', roc_auc_score(target_valid, probabilities_weighted))"
   ]
  },
  {
   "cell_type": "markdown",
   "metadata": {},
   "source": [
    "Значение порога для взвешенных данных окзалось очень близко к 0.5"
   ]
  },
  {
   "cell_type": "markdown",
   "metadata": {},
   "source": [
    "### Увеличение выборки"
   ]
  },
  {
   "cell_type": "markdown",
   "metadata": {},
   "source": [
    "Увеличим тренироваочную выборку, уравняв пропорции классов."
   ]
  },
  {
   "cell_type": "code",
   "execution_count": 180,
   "metadata": {
    "tags": []
   },
   "outputs": [
    {
     "data": {
      "text/plain": [
       "1    4476\n",
       "0    4335\n",
       "Name: Exited, dtype: int64"
      ]
     },
     "execution_count": 180,
     "metadata": {},
     "output_type": "execute_result"
    }
   ],
   "source": [
    "def upsample(features, target, repeat):\n",
    "    features_zeros = features[target == 0]\n",
    "    features_ones = features[target == 1]\n",
    "    target_zeros = target[target == 0]\n",
    "    target_ones = target[target == 1]\n",
    "\n",
    "    features_upsampled = pd.concat([features_zeros] + [features_ones] * repeat)\n",
    "    target_upsampled = pd.concat([target_zeros] + [target_ones] * repeat)\n",
    "    \n",
    "    features_upsampled, target_upsampled = shuffle(\n",
    "        features_upsampled, target_upsampled, random_state=12345)\n",
    "    \n",
    "    return features_upsampled, target_upsampled\n",
    "\n",
    "features_upsampled, target_upsampled = upsample(features_train, target_train, 4)\n",
    "\n",
    "target_upsampled.value_counts()"
   ]
  },
  {
   "cell_type": "code",
   "execution_count": 181,
   "metadata": {
    "tags": []
   },
   "outputs": [
    {
     "name": "stdout",
     "output_type": "stream",
     "text": [
      "Логистическая регрессия\n",
      "Лучший результат:\n",
      "F1: 0.4951830443159922 \n",
      "Итераций 100\n",
      "CPU times: user 548 ms, sys: 679 ms, total: 1.23 s\n",
      "Wall time: 1.2 s\n"
     ]
    }
   ],
   "source": [
    "%%time\n",
    "best_linear_model_upsampled = None\n",
    "best_linear_result = 0\n",
    "best_linear_iter = 0\n",
    "\n",
    "for i in range(100,1001,100):        \n",
    "    linear = LogisticRegression(solver='liblinear', max_iter=i, random_state=123)\n",
    "    linear.fit(features_upsampled, target_upsampled)\n",
    "    linear_prediction = linear.predict(features_valid)\n",
    "    result = f1_score(target_valid, linear_prediction)\n",
    "    if result > best_linear_result:\n",
    "        best_linear_model_upsampled = linear\n",
    "        best_linear_result = result\n",
    "        best_linear_iter = i\n",
    "\n",
    "print('Логистическая регрессия')\n",
    "print('Лучший результат:\\nF1:', best_linear_result, '\\nИтераций', best_linear_iter)"
   ]
  },
  {
   "cell_type": "code",
   "execution_count": 182,
   "metadata": {
    "tags": []
   },
   "outputs": [
    {
     "name": "stdout",
     "output_type": "stream",
     "text": [
      "Рандомный лес\n",
      "Лучший результат:\n",
      "F1: 0.6054181389870436 \n",
      "Число деревьев 20 \n",
      "Глубина:  8\n",
      "CPU times: user 7.67 s, sys: 94.5 ms, total: 7.76 s\n",
      "Wall time: 7.82 s\n"
     ]
    }
   ],
   "source": [
    "%%time\n",
    "best_forest_model_upsampled = None\n",
    "best_forest_result = 0\n",
    "best_forest_depth = 0\n",
    "best_forest_est = 0\n",
    "\n",
    "for est in range(10, 51, 10):\n",
    "    for depth in range(1,11):\n",
    "        forest = RandomForestClassifier(n_estimators=est, max_depth=depth, random_state=123)\n",
    "        forest.fit(features_upsampled, target_upsampled)\n",
    "        forest_prediction = forest.predict(features_valid)\n",
    "        result = f1_score(target_valid, forest_prediction)\n",
    "        if result > best_forest_result:\n",
    "                best_forest_model_upsampled = forest\n",
    "                best_forest_result = result\n",
    "                best_forest_depth = depth\n",
    "                best_forest_est = est\n",
    "            \n",
    "print(\"Рандомный лес\")\n",
    "print('Лучший результат:\\nF1:', best_forest_result,'\\nЧисло деревьев',best_forest_est, '\\nГлубина: ', best_forest_depth)"
   ]
  },
  {
   "cell_type": "markdown",
   "metadata": {},
   "source": [
    "Подберём порог для леса"
   ]
  },
  {
   "cell_type": "code",
   "execution_count": 183,
   "metadata": {
    "tags": []
   },
   "outputs": [
    {
     "name": "stdout",
     "output_type": "stream",
     "text": [
      "Лучший порог: 0.54 \n",
      "F1: 0.6167512690355329\n",
      "ROC-AUC: 0.8504493519396649\n"
     ]
    }
   ],
   "source": [
    "probabilities_upsampled = best_forest_model_upsampled.predict_proba(features_valid)[:, 1]\n",
    "\n",
    "best_f1_score_upsampled = 0\n",
    "best_threshold_upsampled = 0\n",
    "for threshold in np.arange(0, 1, 0.01):\n",
    "    predicted_valid = probabilities_upsampled > threshold\n",
    "    score = f1_score(target_valid, predicted_valid)\n",
    "    if best_f1_score_upsampled < score:\n",
    "        best_f1_score_upsampled = score\n",
    "        best_threshold_upsampled = threshold\n",
    "print('Лучший порог:',best_threshold_upsampled,'\\nF1:', best_f1_score_upsampled)\n",
    "print('ROC-AUC:', roc_auc_score(target_valid, probabilities_upsampled))"
   ]
  },
  {
   "cell_type": "markdown",
   "metadata": {},
   "source": [
    "Снова порог ближе к 0.5. А значение F1 получилось немного выше."
   ]
  },
  {
   "cell_type": "markdown",
   "metadata": {},
   "source": [
    "### Уменьшение выборки"
   ]
  },
  {
   "cell_type": "markdown",
   "metadata": {},
   "source": [
    "Теперь уменьшим тренироваочную выборку, уравняв пропорции классов."
   ]
  },
  {
   "cell_type": "code",
   "execution_count": 184,
   "metadata": {
    "tags": []
   },
   "outputs": [
    {
     "data": {
      "text/plain": [
       "1    1119\n",
       "0    1084\n",
       "Name: Exited, dtype: int64"
      ]
     },
     "execution_count": 184,
     "metadata": {},
     "output_type": "execute_result"
    }
   ],
   "source": [
    "def downsample(features, target, fraction):\n",
    "    features_zeros = features[target == 0]\n",
    "    features_ones = features[target == 1]\n",
    "    target_zeros = target[target == 0]\n",
    "    target_ones = target[target == 1]\n",
    "\n",
    "    features_downsampled = pd.concat(\n",
    "        [features_zeros.sample(frac=fraction, random_state=12345)] + [features_ones])\n",
    "    target_downsampled = pd.concat(\n",
    "        [target_zeros.sample(frac=fraction, random_state=12345)] + [target_ones])\n",
    "    \n",
    "    features_downsampled, target_downsampled = shuffle(\n",
    "        features_downsampled, target_downsampled, random_state=12345)\n",
    "    \n",
    "    return features_downsampled, target_downsampled\n",
    "\n",
    "features_downsampled, target_downsampled = downsample(features_train, target_train, 0.25)\n",
    "\n",
    "target_downsampled.value_counts()"
   ]
  },
  {
   "cell_type": "code",
   "execution_count": 185,
   "metadata": {
    "tags": []
   },
   "outputs": [
    {
     "name": "stdout",
     "output_type": "stream",
     "text": [
      "Логистическая регрессия\n",
      "Лучший результат:\n",
      "F1: 0.5 \n",
      "Итераций 100\n",
      "CPU times: user 355 ms, sys: 471 ms, total: 827 ms\n",
      "Wall time: 777 ms\n"
     ]
    }
   ],
   "source": [
    "%%time\n",
    "best_linear_model_downsampled = None\n",
    "best_linear_result = 0\n",
    "best_linear_iter = 0\n",
    "\n",
    "for i in range(100,1001,100):        \n",
    "    linear = LogisticRegression(solver='liblinear', max_iter=i, random_state=123)\n",
    "    linear.fit(features_downsampled, target_downsampled)\n",
    "    linear_prediction = linear.predict(features_valid)\n",
    "    result = f1_score(target_valid, linear_prediction)\n",
    "    if result > best_linear_result:\n",
    "        best_linear_model_downsampled = linear\n",
    "        best_linear_result = result\n",
    "        best_linear_iter = i\n",
    "\n",
    "print('Логистическая регрессия')\n",
    "print('Лучший результат:\\nF1:', best_linear_result, '\\nИтераций', best_linear_iter)"
   ]
  },
  {
   "cell_type": "code",
   "execution_count": 186,
   "metadata": {
    "tags": []
   },
   "outputs": [
    {
     "name": "stdout",
     "output_type": "stream",
     "text": [
      "Рандомный лес\n",
      "Лучший результат:\n",
      "F1: 0.5902004454342985 \n",
      "Число деревьев 50 \n",
      "Глубина:  9\n",
      "CPU times: user 3.62 s, sys: 39.4 ms, total: 3.66 s\n",
      "Wall time: 3.68 s\n"
     ]
    }
   ],
   "source": [
    "%%time\n",
    "best_forest_model_downsampled = None\n",
    "best_forest_result = 0\n",
    "best_forest_depth = 0\n",
    "best_forest_est = 0\n",
    "\n",
    "for est in range(10, 51, 10):\n",
    "    for depth in range(1,11):\n",
    "        forest = RandomForestClassifier(n_estimators=est, max_depth=depth, random_state=123)\n",
    "        forest.fit(features_downsampled, target_downsampled)\n",
    "        forest_prediction = forest.predict(features_valid)\n",
    "        result = f1_score(target_valid, forest_prediction)\n",
    "        if result > best_forest_result:\n",
    "                best_forest_model_downsampled = forest\n",
    "                best_forest_result = result\n",
    "                best_forest_depth = depth\n",
    "                best_forest_est = est\n",
    "            \n",
    "print(\"Рандомный лес\")\n",
    "print('Лучший результат:\\nF1:', best_forest_result,'\\nЧисло деревьев',best_forest_est, '\\nГлубина: ', best_forest_depth)"
   ]
  },
  {
   "cell_type": "markdown",
   "metadata": {},
   "source": [
    "Подберём порог для леса"
   ]
  },
  {
   "cell_type": "code",
   "execution_count": 187,
   "metadata": {
    "tags": []
   },
   "outputs": [
    {
     "name": "stdout",
     "output_type": "stream",
     "text": [
      "Лучший порог: 0.65 \n",
      "F1: 0.5967016491754124\n",
      "ROC-AUC: 0.8483879405079106\n"
     ]
    }
   ],
   "source": [
    "probabilities_downsampled = best_forest_model_downsampled.predict_proba(features_valid)[:, 1]\n",
    "\n",
    "best_f1_score_downsampled = 0\n",
    "best_threshold_downsampled = 0\n",
    "for threshold in np.arange(0, 1, 0.01):\n",
    "    predicted_valid = probabilities_downsampled > threshold\n",
    "    score = f1_score(target_valid, predicted_valid)\n",
    "    if best_f1_score_downsampled < score:\n",
    "        best_f1_score_downsampled = score\n",
    "        best_threshold_downsampled = threshold\n",
    "print('Лучший порог:',best_threshold_downsampled,'\\nF1:', best_f1_score_downsampled)\n",
    "print('ROC-AUC:', roc_auc_score(target_valid, probabilities_downsampled))"
   ]
  },
  {
   "cell_type": "markdown",
   "metadata": {},
   "source": [
    "Здесь значение порога значительно больше 0.5. А F1 меньше, чем у несбалансированной выборки."
   ]
  },
  {
   "cell_type": "markdown",
   "metadata": {},
   "source": [
    "### Вывод"
   ]
  },
  {
   "cell_type": "markdown",
   "metadata": {
    "tags": []
   },
   "source": [
    "Посмотрим на графиках метрики всех моделей."
   ]
  },
  {
   "cell_type": "code",
   "execution_count": 198,
   "metadata": {
    "tags": []
   },
   "outputs": [
    {
     "data": {
      "image/png": "[encoded data removed]",
      "text/plain": [
       "<Figure size 576x216 with 1 Axes>"
      ]
     },
     "metadata": {
      "needs_background": "light"
     },
     "output_type": "display_data"
    },
    {
     "data": {
      "image/png": "[encoded data removed]",
      "text/plain": [
       "<Figure size 576x216 with 1 Axes>"
      ]
     },
     "metadata": {
      "needs_background": "light"
     },
     "output_type": "display_data"
    }
   ],
   "source": [
    "summary = {'f1' : [0.6049543676662321, 0.6116642958748223, 0.6167512690355329, 0.5967016491754124],\n",
    "    'ROC_AUC' : [0.8486382077104878, 0.8474442638004487, 0.8504493519396649, 0.8483879405079106]}\n",
    "index = [\"Несбалансированная\", \"Взвешенная\", \"Увеличенная\", \"Уменьшенная\"]\n",
    "summary = pd.DataFrame(summary, index=index)\n",
    "#summary['f1'] -= 0.59\n",
    "#summary['ROC_AUC'] -= 0.84\n",
    "summary['f1'].plot.bar(rot=0, figsize=(8,3))\n",
    "plt.ylim(0.59,0.62)\n",
    "plt.title('f1')\n",
    "plt.show();\n",
    "summary['ROC_AUC'].plot.bar(rot=0, figsize=(8,3),color='red')\n",
    "plt.ylim(0.845,0.851)\n",
    "plt.title('ROC_AUC')\n",
    "plt.show();"
   ]
  },
  {
   "cell_type": "markdown",
   "metadata": {},
   "source": [
    "На валидационных данных удалось получить значение F1 равное 0.616. Эта же модель показала наибольшее значение метрики AUC-ROC.    \n",
    "\n",
    "**Рандомный лес с увеличением выборки**\n",
    "* Число деревьев 20 \n",
    "* Глубина:  8\n",
    "* Лучший порог: 0.54 \n",
    "* F1: 0.6167512690355329\n",
    "* ROC-AUC: 0.8504493519396649 "
   ]
  },
  {
   "cell_type": "markdown",
   "metadata": {},
   "source": [
    "## Тестирование модели"
   ]
  },
  {
   "cell_type": "markdown",
   "metadata": {},
   "source": [
    "Проведём два испытания: только на тестовой выборке и на всём датасете целиком."
   ]
  },
  {
   "cell_type": "code",
   "execution_count": 189,
   "metadata": {
    "tags": []
   },
   "outputs": [
    {
     "name": "stdout",
     "output_type": "stream",
     "text": [
      "F1: 0.6075\n"
     ]
    }
   ],
   "source": [
    "probabilities_test = best_forest_model_upsampled.predict_proba(features_test)[:, 1]\n",
    "predicted_test = probabilities_test > best_threshold_upsampled\n",
    "f1_score_test = f1_score(target_test, predicted_test)\n",
    "print(\"F1:\",f1_score_test)"
   ]
  },
  {
   "cell_type": "markdown",
   "metadata": {},
   "source": [
    "На тестовой выборке удалось получит значение F1 > 0.59."
   ]
  },
  {
   "cell_type": "code",
   "execution_count": 193,
   "metadata": {
    "tags": []
   },
   "outputs": [
    {
     "name": "stdout",
     "output_type": "stream",
     "text": [
      "F1: 0.6741293532338308\n"
     ]
    }
   ],
   "source": [
    "target_full=  pd.concat([target_train]+ [target_valid]+ [target_test])\n",
    "features_full =  pd.concat([features_train]+ [features_valid]+[features_test])\n",
    "probabilities_full = best_forest_model_upsampled.predict_proba(features_full)[:, 1]\n",
    "predicted_full = probabilities_full > best_threshold_upsampled\n",
    "f1_score_full = f1_score(target_full, predicted_full)\n",
    "print(\"F1:\",f1_score_full)"
   ]
  },
  {
   "cell_type": "markdown",
   "metadata": {},
   "source": [
    "На всей выборке значение F1 равно 0.674. "
   ]
  },
  {
   "cell_type": "markdown",
   "metadata": {},
   "source": [
    "## Вывод"
   ]
  },
  {
   "cell_type": "markdown",
   "metadata": {},
   "source": [
    "**Подготовка данных**  \n",
    "Данные выглядят нормально, без выбросов и неадекватных значений.  \n",
    "Пропуски есть только в столбце Tenure. Восстановить их можно, загрузив оригинальный датасет с сайта kaggle.  \n",
    "Столбцы с номером записи, фамилией и ID клиента были удалены. Так как они не содержат информации важной для обучения.  \n",
    "К столбцам Geography и Gender был применён метод One-Hot Encoding, для преобразования строковых данных в численные.  \n",
    "Все признаки были приведены к одному масштабу.  \n",
    "\n",
    "***\n",
    "\n",
    "**Несбалансированные данные**  \n",
    "На валидационных данных удалось получить значение F1 равное 0.605. Лучший результат показала следующая модель:   \n",
    "\n",
    "Рандомный лес\n",
    "* Число деревьев: 40 \n",
    "* Глубина:  10\n",
    "* Порог: 0.27\n",
    "\n",
    "***\n",
    "\n",
    "**Сбалансированные данные**   \n",
    "На валидационных данных удалось получить значение F1 равное 0.616. Эта же модель показала наибольшее значение метрики AUC-ROC.    \n",
    "\n",
    "Рандомный лес с увеличением выборки\n",
    "* Число деревьев 20 \n",
    "* Глубина:  8\n",
    "* Лучший порог: 0.54 \n",
    "* F1: 0.6167512690355329\n",
    "* ROC-AUC: 0.8504493519396649 \n",
    "\n",
    "***\n",
    "\n",
    "**Тестирование модели**\n",
    "\n",
    "Модель показала следующий результат:\n",
    "* F1 тестовой выборки: 0.608  \n",
    "* F1 всего датасета: 0.674"
   ]
  }
 ],
 "metadata": {
  "ExecuteTimeLog": [
   {
    "duration": 156,
    "start_time": "2023-06-01T06:07:07.717Z"
   },
   {
    "duration": 45,
    "start_time": "2023-06-01T06:07:12.824Z"
   },
   {
    "duration": 1511,
    "start_time": "2023-06-01T06:07:21.743Z"
   },
   {
    "duration": 87,
    "start_time": "2023-06-01T06:07:28.054Z"
   },
   {
    "duration": 82,
    "start_time": "2023-06-01T06:07:33.450Z"
   },
   {
    "duration": 38,
    "start_time": "2023-06-01T06:07:42.285Z"
   },
   {
    "duration": 24,
    "start_time": "2023-06-01T06:07:42.904Z"
   },
   {
    "duration": 12,
    "start_time": "2023-06-01T06:07:43.587Z"
   },
   {
    "duration": 46,
    "start_time": "2023-06-01T06:07:43.957Z"
   },
   {
    "duration": 879,
    "start_time": "2023-06-01T06:07:44.361Z"
   },
   {
    "duration": 13,
    "start_time": "2023-06-01T06:07:51.901Z"
   },
   {
    "duration": 12,
    "start_time": "2023-06-01T06:07:58.999Z"
   },
   {
    "duration": 7,
    "start_time": "2023-06-01T06:08:04.699Z"
   },
   {
    "duration": 7,
    "start_time": "2023-06-01T06:08:11.300Z"
   },
   {
    "duration": 14,
    "start_time": "2023-06-01T06:10:18.704Z"
   },
   {
    "duration": 5,
    "start_time": "2023-06-01T06:10:23.891Z"
   },
   {
    "duration": 7,
    "start_time": "2023-06-01T06:10:24.428Z"
   },
   {
    "duration": 7,
    "start_time": "2023-06-01T06:10:50.804Z"
   },
   {
    "duration": 3,
    "start_time": "2023-06-01T06:12:19.207Z"
   },
   {
    "duration": 60,
    "start_time": "2023-06-01T06:12:19.212Z"
   },
   {
    "duration": 14,
    "start_time": "2023-06-01T06:12:19.274Z"
   },
   {
    "duration": 19,
    "start_time": "2023-06-01T06:12:19.290Z"
   },
   {
    "duration": 37,
    "start_time": "2023-06-01T06:12:19.311Z"
   },
   {
    "duration": 501,
    "start_time": "2023-06-01T06:12:19.349Z"
   },
   {
    "duration": 13,
    "start_time": "2023-06-01T06:12:19.852Z"
   },
   {
    "duration": 37,
    "start_time": "2023-06-01T06:12:19.867Z"
   },
   {
    "duration": 5,
    "start_time": "2023-06-01T06:12:57.635Z"
   },
   {
    "duration": 15,
    "start_time": "2023-06-01T06:13:12.643Z"
   },
   {
    "duration": 13,
    "start_time": "2023-06-01T06:13:32.429Z"
   },
   {
    "duration": 14,
    "start_time": "2023-06-01T06:13:42.842Z"
   },
   {
    "duration": 4,
    "start_time": "2023-06-01T06:13:58.958Z"
   },
   {
    "duration": 68,
    "start_time": "2023-06-01T06:13:58.964Z"
   },
   {
    "duration": 17,
    "start_time": "2023-06-01T06:13:59.034Z"
   },
   {
    "duration": 19,
    "start_time": "2023-06-01T06:13:59.054Z"
   },
   {
    "duration": 59,
    "start_time": "2023-06-01T06:13:59.074Z"
   },
   {
    "duration": 578,
    "start_time": "2023-06-01T06:13:59.134Z"
   },
   {
    "duration": 17,
    "start_time": "2023-06-01T06:13:59.714Z"
   },
   {
    "duration": 9,
    "start_time": "2023-06-01T06:14:06.718Z"
   },
   {
    "duration": 4,
    "start_time": "2023-06-01T06:14:18.042Z"
   },
   {
    "duration": 6,
    "start_time": "2023-06-01T06:14:33.422Z"
   },
   {
    "duration": 7,
    "start_time": "2023-06-01T06:14:34.813Z"
   },
   {
    "duration": 6,
    "start_time": "2023-06-01T06:14:35.935Z"
   },
   {
    "duration": 17,
    "start_time": "2023-06-01T06:16:36.373Z"
   },
   {
    "duration": 14,
    "start_time": "2023-06-01T06:16:37.269Z"
   },
   {
    "duration": 13,
    "start_time": "2023-06-01T06:19:06.345Z"
   },
   {
    "duration": 6,
    "start_time": "2023-06-01T06:19:10.964Z"
   },
   {
    "duration": 9,
    "start_time": "2023-06-01T06:19:11.672Z"
   },
   {
    "duration": 4,
    "start_time": "2023-06-01T06:19:20.833Z"
   },
   {
    "duration": 4,
    "start_time": "2023-06-01T06:19:39.835Z"
   },
   {
    "duration": 4,
    "start_time": "2023-06-01T06:21:22.961Z"
   },
   {
    "duration": 56,
    "start_time": "2023-06-01T06:21:22.980Z"
   },
   {
    "duration": 13,
    "start_time": "2023-06-01T06:21:23.038Z"
   },
   {
    "duration": 125,
    "start_time": "2023-06-01T06:21:23.053Z"
   },
   {
    "duration": 49,
    "start_time": "2023-06-01T06:21:23.179Z"
   },
   {
    "duration": 620,
    "start_time": "2023-06-01T06:21:23.230Z"
   },
   {
    "duration": 12,
    "start_time": "2023-06-01T06:21:23.852Z"
   },
   {
    "duration": 32,
    "start_time": "2023-06-01T06:21:23.865Z"
   },
   {
    "duration": 65,
    "start_time": "2023-06-01T06:21:23.899Z"
   },
   {
    "duration": 48,
    "start_time": "2023-06-01T06:21:23.965Z"
   },
   {
    "duration": 52,
    "start_time": "2023-06-01T06:21:24.015Z"
   },
   {
    "duration": 123,
    "start_time": "2023-06-01T06:21:24.069Z"
   },
   {
    "duration": 47,
    "start_time": "2023-06-01T06:21:24.193Z"
   },
   {
    "duration": 33,
    "start_time": "2023-06-01T06:21:24.242Z"
   },
   {
    "duration": 11,
    "start_time": "2023-06-01T06:21:24.278Z"
   },
   {
    "duration": 62,
    "start_time": "2023-06-01T06:21:24.291Z"
   },
   {
    "duration": 30,
    "start_time": "2023-06-01T06:21:24.355Z"
   },
   {
    "duration": 26,
    "start_time": "2023-06-01T06:21:24.388Z"
   },
   {
    "duration": 1013,
    "start_time": "2023-06-01T06:21:24.416Z"
   },
   {
    "duration": 6440,
    "start_time": "2023-06-01T06:21:25.431Z"
   },
   {
    "duration": 20,
    "start_time": "2023-06-01T06:21:31.925Z"
   },
   {
    "duration": 309,
    "start_time": "2023-06-01T06:21:31.947Z"
   },
   {
    "duration": 6,
    "start_time": "2023-06-01T06:21:32.257Z"
   },
   {
    "duration": 277,
    "start_time": "2023-06-01T06:21:32.264Z"
   },
   {
    "duration": 881,
    "start_time": "2023-06-01T06:21:32.543Z"
   },
   {
    "duration": 5979,
    "start_time": "2023-06-01T06:21:33.427Z"
   },
   {
    "duration": 165,
    "start_time": "2023-06-01T06:21:39.408Z"
   },
   {
    "duration": 17,
    "start_time": "2023-06-01T06:21:39.575Z"
   },
   {
    "duration": 0,
    "start_time": "2023-06-01T06:21:39.594Z"
   },
   {
    "duration": 0,
    "start_time": "2023-06-01T06:21:39.595Z"
   },
   {
    "duration": 0,
    "start_time": "2023-06-01T06:21:39.597Z"
   },
   {
    "duration": 0,
    "start_time": "2023-06-01T06:21:39.598Z"
   },
   {
    "duration": 0,
    "start_time": "2023-06-01T06:21:39.599Z"
   },
   {
    "duration": 0,
    "start_time": "2023-06-01T06:21:39.600Z"
   },
   {
    "duration": 0,
    "start_time": "2023-06-01T06:21:39.625Z"
   },
   {
    "duration": 0,
    "start_time": "2023-06-01T06:21:39.626Z"
   },
   {
    "duration": 0,
    "start_time": "2023-06-01T06:21:39.628Z"
   },
   {
    "duration": 0,
    "start_time": "2023-06-01T06:21:39.629Z"
   },
   {
    "duration": 13,
    "start_time": "2023-06-01T06:23:10.675Z"
   },
   {
    "duration": 4,
    "start_time": "2023-06-01T06:23:14.536Z"
   },
   {
    "duration": 43,
    "start_time": "2023-06-01T06:23:14.542Z"
   },
   {
    "duration": 13,
    "start_time": "2023-06-01T06:23:14.587Z"
   },
   {
    "duration": 22,
    "start_time": "2023-06-01T06:23:14.602Z"
   },
   {
    "duration": 42,
    "start_time": "2023-06-01T06:23:14.625Z"
   },
   {
    "duration": 559,
    "start_time": "2023-06-01T06:23:14.668Z"
   },
   {
    "duration": 12,
    "start_time": "2023-06-01T06:23:15.229Z"
   },
   {
    "duration": 13,
    "start_time": "2023-06-01T06:23:15.242Z"
   },
   {
    "duration": 8,
    "start_time": "2023-06-01T06:23:15.258Z"
   },
   {
    "duration": 12,
    "start_time": "2023-06-01T06:23:15.267Z"
   },
   {
    "duration": 8,
    "start_time": "2023-06-01T06:23:15.281Z"
   },
   {
    "duration": 5,
    "start_time": "2023-06-01T06:23:15.291Z"
   },
   {
    "duration": 9,
    "start_time": "2023-06-01T06:23:15.325Z"
   },
   {
    "duration": 21,
    "start_time": "2023-06-01T06:23:15.335Z"
   },
   {
    "duration": 11,
    "start_time": "2023-06-01T06:23:15.358Z"
   },
   {
    "duration": 18,
    "start_time": "2023-06-01T06:23:26.619Z"
   },
   {
    "duration": 35,
    "start_time": "2023-06-01T06:23:54.195Z"
   },
   {
    "duration": 13,
    "start_time": "2023-06-01T06:23:55.320Z"
   },
   {
    "duration": 20,
    "start_time": "2023-06-01T06:24:23.803Z"
   },
   {
    "duration": 16,
    "start_time": "2023-06-01T06:24:28.461Z"
   },
   {
    "duration": 13,
    "start_time": "2023-06-01T06:24:36.581Z"
   },
   {
    "duration": 17,
    "start_time": "2023-06-01T06:24:47.854Z"
   },
   {
    "duration": 14,
    "start_time": "2023-06-01T06:24:48.688Z"
   },
   {
    "duration": 4,
    "start_time": "2023-06-01T06:24:59.446Z"
   },
   {
    "duration": 54,
    "start_time": "2023-06-01T06:24:59.452Z"
   },
   {
    "duration": 103,
    "start_time": "2023-06-01T06:24:59.508Z"
   },
   {
    "duration": 26,
    "start_time": "2023-06-01T06:24:59.613Z"
   },
   {
    "duration": 56,
    "start_time": "2023-06-01T06:24:59.640Z"
   },
   {
    "duration": 575,
    "start_time": "2023-06-01T06:24:59.698Z"
   },
   {
    "duration": 15,
    "start_time": "2023-06-01T06:25:00.275Z"
   },
   {
    "duration": 29,
    "start_time": "2023-06-01T06:25:00.291Z"
   },
   {
    "duration": 36,
    "start_time": "2023-06-01T06:25:00.322Z"
   },
   {
    "duration": 43,
    "start_time": "2023-06-01T06:25:00.360Z"
   },
   {
    "duration": 55,
    "start_time": "2023-06-01T06:25:00.405Z"
   },
   {
    "duration": 71,
    "start_time": "2023-06-01T06:25:00.462Z"
   },
   {
    "duration": 54,
    "start_time": "2023-06-01T06:25:00.535Z"
   },
   {
    "duration": 67,
    "start_time": "2023-06-01T06:25:00.591Z"
   },
   {
    "duration": 42,
    "start_time": "2023-06-01T06:25:00.659Z"
   },
   {
    "duration": 129,
    "start_time": "2023-06-01T06:25:00.703Z"
   },
   {
    "duration": 14,
    "start_time": "2023-06-01T06:25:03.119Z"
   },
   {
    "duration": 4,
    "start_time": "2023-06-01T06:25:38.626Z"
   },
   {
    "duration": 77,
    "start_time": "2023-06-01T06:25:38.632Z"
   },
   {
    "duration": 12,
    "start_time": "2023-06-01T06:25:38.711Z"
   },
   {
    "duration": 30,
    "start_time": "2023-06-01T06:25:38.725Z"
   },
   {
    "duration": 52,
    "start_time": "2023-06-01T06:25:38.758Z"
   },
   {
    "duration": 544,
    "start_time": "2023-06-01T06:25:38.812Z"
   },
   {
    "duration": 13,
    "start_time": "2023-06-01T06:25:39.358Z"
   },
   {
    "duration": 5,
    "start_time": "2023-06-01T06:25:39.373Z"
   },
   {
    "duration": 14,
    "start_time": "2023-06-01T06:25:39.379Z"
   },
   {
    "duration": 38,
    "start_time": "2023-06-01T06:25:39.394Z"
   },
   {
    "duration": 22,
    "start_time": "2023-06-01T06:25:39.435Z"
   },
   {
    "duration": 61,
    "start_time": "2023-06-01T06:25:39.459Z"
   },
   {
    "duration": 24,
    "start_time": "2023-06-01T06:25:39.522Z"
   },
   {
    "duration": 22,
    "start_time": "2023-06-01T06:25:39.548Z"
   },
   {
    "duration": 12,
    "start_time": "2023-06-01T06:25:39.572Z"
   },
   {
    "duration": 41,
    "start_time": "2023-06-01T06:25:39.585Z"
   },
   {
    "duration": 14,
    "start_time": "2023-06-01T06:25:39.628Z"
   },
   {
    "duration": 4,
    "start_time": "2023-06-01T06:25:50.183Z"
   },
   {
    "duration": 92,
    "start_time": "2023-06-01T06:25:50.189Z"
   },
   {
    "duration": 12,
    "start_time": "2023-06-01T06:25:50.283Z"
   },
   {
    "duration": 46,
    "start_time": "2023-06-01T06:25:50.297Z"
   },
   {
    "duration": 68,
    "start_time": "2023-06-01T06:25:50.344Z"
   },
   {
    "duration": 663,
    "start_time": "2023-06-01T06:25:50.414Z"
   },
   {
    "duration": 16,
    "start_time": "2023-06-01T06:25:51.079Z"
   },
   {
    "duration": 33,
    "start_time": "2023-06-01T06:25:51.097Z"
   },
   {
    "duration": 49,
    "start_time": "2023-06-01T06:25:51.132Z"
   },
   {
    "duration": 61,
    "start_time": "2023-06-01T06:25:51.183Z"
   },
   {
    "duration": 101,
    "start_time": "2023-06-01T06:25:51.245Z"
   },
   {
    "duration": 71,
    "start_time": "2023-06-01T06:25:51.348Z"
   },
   {
    "duration": 56,
    "start_time": "2023-06-01T06:25:51.421Z"
   },
   {
    "duration": 42,
    "start_time": "2023-06-01T06:25:51.478Z"
   },
   {
    "duration": 20,
    "start_time": "2023-06-01T06:25:51.521Z"
   },
   {
    "duration": 71,
    "start_time": "2023-06-01T06:25:51.543Z"
   },
   {
    "duration": 13,
    "start_time": "2023-06-01T06:25:51.616Z"
   },
   {
    "duration": 4,
    "start_time": "2023-06-01T06:26:06.705Z"
   },
   {
    "duration": 68,
    "start_time": "2023-06-01T06:26:06.710Z"
   },
   {
    "duration": 12,
    "start_time": "2023-06-01T06:26:06.779Z"
   },
   {
    "duration": 32,
    "start_time": "2023-06-01T06:26:06.793Z"
   },
   {
    "duration": 42,
    "start_time": "2023-06-01T06:26:06.828Z"
   },
   {
    "duration": 529,
    "start_time": "2023-06-01T06:26:06.872Z"
   },
   {
    "duration": 11,
    "start_time": "2023-06-01T06:26:07.403Z"
   },
   {
    "duration": 40,
    "start_time": "2023-06-01T06:26:07.424Z"
   },
   {
    "duration": 25,
    "start_time": "2023-06-01T06:26:07.465Z"
   },
   {
    "duration": 36,
    "start_time": "2023-06-01T06:26:07.491Z"
   },
   {
    "duration": 56,
    "start_time": "2023-06-01T06:26:07.529Z"
   },
   {
    "duration": 47,
    "start_time": "2023-06-01T06:26:07.587Z"
   },
   {
    "duration": 45,
    "start_time": "2023-06-01T06:26:07.636Z"
   },
   {
    "duration": 44,
    "start_time": "2023-06-01T06:26:07.684Z"
   },
   {
    "duration": 12,
    "start_time": "2023-06-01T06:26:07.729Z"
   },
   {
    "duration": 57,
    "start_time": "2023-06-01T06:26:07.743Z"
   },
   {
    "duration": 12,
    "start_time": "2023-06-01T06:26:07.802Z"
   },
   {
    "duration": 17,
    "start_time": "2023-06-01T06:26:07.816Z"
   },
   {
    "duration": 898,
    "start_time": "2023-06-01T06:26:07.834Z"
   },
   {
    "duration": 7184,
    "start_time": "2023-06-01T06:26:08.735Z"
   },
   {
    "duration": 20,
    "start_time": "2023-06-01T06:26:15.921Z"
   },
   {
    "duration": 130,
    "start_time": "2023-06-01T06:26:15.942Z"
   },
   {
    "duration": 6,
    "start_time": "2023-06-01T06:26:16.074Z"
   },
   {
    "duration": 137,
    "start_time": "2023-06-01T06:26:16.082Z"
   },
   {
    "duration": 1005,
    "start_time": "2023-06-01T06:26:16.225Z"
   },
   {
    "duration": 6060,
    "start_time": "2023-06-01T06:26:17.234Z"
   },
   {
    "duration": 155,
    "start_time": "2023-06-01T06:26:23.296Z"
   },
   {
    "duration": 23,
    "start_time": "2023-06-01T06:26:23.452Z"
   },
   {
    "duration": 1256,
    "start_time": "2023-06-01T06:26:23.477Z"
   },
   {
    "duration": 7829,
    "start_time": "2023-06-01T06:26:24.735Z"
   },
   {
    "duration": 135,
    "start_time": "2023-06-01T06:26:32.565Z"
   },
   {
    "duration": 11,
    "start_time": "2023-06-01T06:26:32.701Z"
   },
   {
    "duration": 816,
    "start_time": "2023-06-01T06:26:32.714Z"
   },
   {
    "duration": 3775,
    "start_time": "2023-06-01T06:26:33.532Z"
   },
   {
    "duration": 152,
    "start_time": "2023-06-01T06:26:37.309Z"
   },
   {
    "duration": 313,
    "start_time": "2023-06-01T06:26:37.462Z"
   },
   {
    "duration": 17,
    "start_time": "2023-06-01T06:26:37.777Z"
   },
   {
    "duration": 39,
    "start_time": "2023-06-01T06:26:37.796Z"
   },
   {
    "duration": 12,
    "start_time": "2023-06-01T06:29:10.915Z"
   },
   {
    "duration": 12,
    "start_time": "2023-06-01T06:29:56.577Z"
   },
   {
    "duration": 32,
    "start_time": "2023-06-01T06:30:09.577Z"
   },
   {
    "duration": 347,
    "start_time": "2023-06-01T06:32:32.930Z"
   },
   {
    "duration": 244,
    "start_time": "2023-06-01T06:33:00.216Z"
   },
   {
    "duration": 222,
    "start_time": "2023-06-01T06:33:04.510Z"
   },
   {
    "duration": 340,
    "start_time": "2023-06-01T06:34:34.785Z"
   },
   {
    "duration": 268,
    "start_time": "2023-06-01T06:34:40.884Z"
   },
   {
    "duration": 11380,
    "start_time": "2023-06-04T08:28:56.088Z"
   },
   {
    "duration": 16,
    "start_time": "2023-06-04T08:29:48.371Z"
   },
   {
    "duration": 11,
    "start_time": "2023-06-04T08:30:02.973Z"
   },
   {
    "duration": 4,
    "start_time": "2023-06-04T08:30:06.858Z"
   },
   {
    "duration": 245,
    "start_time": "2023-06-04T08:31:06.849Z"
   },
   {
    "duration": 5006,
    "start_time": "2023-06-04T08:32:23.386Z"
   },
   {
    "duration": 43,
    "start_time": "2023-06-04T08:32:56.526Z"
   },
   {
    "duration": 81606,
    "start_time": "2023-06-04T08:33:34.134Z"
   },
   {
    "duration": 1144,
    "start_time": "2023-06-04T08:36:36.072Z"
   },
   {
    "duration": 4,
    "start_time": "2023-06-04T08:37:13.173Z"
   },
   {
    "duration": 132,
    "start_time": "2023-06-04T08:37:20.704Z"
   },
   {
    "duration": 3,
    "start_time": "2023-06-04T08:40:38.101Z"
   },
   {
    "duration": 46,
    "start_time": "2023-06-04T08:40:51.851Z"
   },
   {
    "duration": 45,
    "start_time": "2023-06-04T08:41:01.746Z"
   },
   {
    "duration": 81,
    "start_time": "2023-06-04T08:41:05.590Z"
   },
   {
    "duration": 48,
    "start_time": "2023-06-04T08:41:59.936Z"
   },
   {
    "duration": 4,
    "start_time": "2023-06-04T08:42:22.569Z"
   },
   {
    "duration": 4,
    "start_time": "2023-06-04T08:42:49.783Z"
   },
   {
    "duration": 110,
    "start_time": "2023-06-04T08:42:53.093Z"
   },
   {
    "duration": 135,
    "start_time": "2023-06-04T08:42:55.804Z"
   },
   {
    "duration": 4,
    "start_time": "2023-06-04T08:42:57.736Z"
   },
   {
    "duration": 64,
    "start_time": "2023-06-04T08:43:19.310Z"
   },
   {
    "duration": 23,
    "start_time": "2023-06-04T08:43:46.776Z"
   },
   {
    "duration": 37,
    "start_time": "2023-06-04T08:44:05.573Z"
   },
   {
    "duration": 19,
    "start_time": "2023-06-04T08:44:29.910Z"
   },
   {
    "duration": 62,
    "start_time": "2023-06-04T08:44:56.933Z"
   }
  ],
  "kernelspec": {
   "display_name": "Python 3 (ipykernel)",
   "language": "python",
   "name": "python3"
  },
  "language_info": {
   "codemirror_mode": {
    "name": "ipython",
    "version": 3
   },
   "file_extension": ".py",
   "mimetype": "text/x-python",
   "name": "python",
   "nbconvert_exporter": "python",
   "pygments_lexer": "ipython3",
   "version": "3.9.18"
  },
  "toc": {
   "base_numbering": 1,
   "nav_menu": {},
   "number_sections": true,
   "sideBar": true,
   "skip_h1_title": true,
   "title_cell": "Содержание",
   "title_sidebar": "Contents",
   "toc_cell": true,
   "toc_position": {
    "height": "calc(100% - 180px)",
    "left": "10px",
    "top": "150px",
    "width": "249.4px"
   },
   "toc_section_display": true,
   "toc_window_display": true
  },
  "toc-autonumbering": true
 },
 "nbformat": 4,
 "nbformat_minor": 4
}
