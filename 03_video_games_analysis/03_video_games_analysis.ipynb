{
 "cells": [
  {
   "cell_type": "markdown",
   "id": "89500622",
   "metadata": {
    "toc": true
   },
   "source": [
    "<h1>Table of Contents<span class=\"tocSkip\"></span></h1>\n",
    "<div class=\"toc\"><ul class=\"toc-item\"><li><span><a href=\"#Описание-проекта\" data-toc-modified-id=\"Описание-проекта-1\"><span class=\"toc-item-num\">1&nbsp;&nbsp;</span>Описание проекта</a></span></li><li><span><a href=\"#Загрузка-данных\" data-toc-modified-id=\"Загрузка-данных-2\"><span class=\"toc-item-num\">2&nbsp;&nbsp;</span>Загрузка данных</a></span></li><li><span><a href=\"#Подготовка-данных\" data-toc-modified-id=\"Подготовка-данных-3\"><span class=\"toc-item-num\">3&nbsp;&nbsp;</span>Подготовка данных</a></span><ul class=\"toc-item\"><li><span><a href=\"#Приведение-названий-столбцов-к-нижнему-регистру\" data-toc-modified-id=\"Приведение-названий-столбцов-к-нижнему-регистру-3.1\"><span class=\"toc-item-num\">3.1&nbsp;&nbsp;</span>Приведение названий столбцов к нижнему регистру</a></span></li><li><span><a href=\"#Преобразование-типов-данных\" data-toc-modified-id=\"Преобразование-типов-данных-3.2\"><span class=\"toc-item-num\">3.2&nbsp;&nbsp;</span>Преобразование типов данных</a></span></li><li><span><a href=\"#Обработка-пропусков\" data-toc-modified-id=\"Обработка-пропусков-3.3\"><span class=\"toc-item-num\">3.3&nbsp;&nbsp;</span>Обработка пропусков</a></span></li><li><span><a href=\"#Создание-стобца-суммарных-продаж\" data-toc-modified-id=\"Создание-стобца-суммарных-продаж-3.4\"><span class=\"toc-item-num\">3.4&nbsp;&nbsp;</span>Создание стобца суммарных продаж</a></span></li><li><span><a href=\"#Поиск-дубликатов\" data-toc-modified-id=\"Поиск-дубликатов-3.5\"><span class=\"toc-item-num\">3.5&nbsp;&nbsp;</span>Поиск дубликатов</a></span></li><li><span><a href=\"#Вывод\" data-toc-modified-id=\"Вывод-3.6\"><span class=\"toc-item-num\">3.6&nbsp;&nbsp;</span>Вывод</a></span></li></ul></li><li><span><a href=\"#Исследовательский-анализ-данных\" data-toc-modified-id=\"Исследовательский-анализ-данных-4\"><span class=\"toc-item-num\">4&nbsp;&nbsp;</span>Исследовательский анализ данных</a></span><ul class=\"toc-item\"><li><span><a href=\"#Анализ-по-годам\" data-toc-modified-id=\"Анализ-по-годам-4.1\"><span class=\"toc-item-num\">4.1&nbsp;&nbsp;</span>Анализ по годам</a></span></li><li><span><a href=\"#Анализ-платформ\" data-toc-modified-id=\"Анализ-платформ-4.2\"><span class=\"toc-item-num\">4.2&nbsp;&nbsp;</span>Анализ платформ</a></span></li><li><span><a href=\"#Выбор-актуального-периода\" data-toc-modified-id=\"Выбор-актуального-периода-4.3\"><span class=\"toc-item-num\">4.3&nbsp;&nbsp;</span>Выбор актуального периода</a></span></li><li><span><a href=\"#Выбор-потенциально-прибыльных-платформ\" data-toc-modified-id=\"Выбор-потенциально-прибыльных-платформ-4.4\"><span class=\"toc-item-num\">4.4&nbsp;&nbsp;</span>Выбор потенциально прибыльных платформ</a></span></li><li><span><a href=\"#Глобальные-продажи-по-платформам\" data-toc-modified-id=\"Глобальные-продажи-по-платформам-4.5\"><span class=\"toc-item-num\">4.5&nbsp;&nbsp;</span>Глобальные продажи по платформам</a></span></li><li><span><a href=\"#Влияние-отзывов-на-продажи-на-самой-популярной-платформе\" data-toc-modified-id=\"Влияние-отзывов-на-продажи-на-самой-популярной-платформе-4.6\"><span class=\"toc-item-num\">4.6&nbsp;&nbsp;</span>Влияние отзывов на продажи на самой популярной платформе</a></span></li><li><span><a href=\"#Влияние-отзывов-на-продажи-остальных-платформах\" data-toc-modified-id=\"Влияние-отзывов-на-продажи-остальных-платформах-4.7\"><span class=\"toc-item-num\">4.7&nbsp;&nbsp;</span>Влияние отзывов на продажи остальных платформах</a></span></li><li><span><a href=\"#Влияние-отзывов-на-продажи-на-платформе-PS3\" data-toc-modified-id=\"Влияние-отзывов-на-продажи-на-платформе-PS3-4.8\"><span class=\"toc-item-num\">4.8&nbsp;&nbsp;</span>Влияние отзывов на продажи на платформе PS3</a></span></li><li><span><a href=\"#Влияние-отзывов-на-продажи-на-платформе-XOne\" data-toc-modified-id=\"Влияние-отзывов-на-продажи-на-платформе-XOne-4.9\"><span class=\"toc-item-num\">4.9&nbsp;&nbsp;</span>Влияние отзывов на продажи на платформе XOne</a></span></li><li><span><a href=\"#Анализ-жанров\" data-toc-modified-id=\"Анализ-жанров-4.10\"><span class=\"toc-item-num\">4.10&nbsp;&nbsp;</span>Анализ жанров</a></span></li><li><span><a href=\"#Вывод\" data-toc-modified-id=\"Вывод-4.11\"><span class=\"toc-item-num\">4.11&nbsp;&nbsp;</span>Вывод</a></span></li></ul></li><li><span><a href=\"#Портрет-пользователя-по-регионам\" data-toc-modified-id=\"Портрет-пользователя-по-регионам-5\"><span class=\"toc-item-num\">5&nbsp;&nbsp;</span>Портрет пользователя по регионам</a></span><ul class=\"toc-item\"><li><span><a href=\"#Самые-популярные-платформы\" data-toc-modified-id=\"Самые-популярные-платформы-5.1\"><span class=\"toc-item-num\">5.1&nbsp;&nbsp;</span>Самые популярные платформы</a></span></li><li><span><a href=\"#Самые-популярные-жанры\" data-toc-modified-id=\"Самые-популярные-жанры-5.2\"><span class=\"toc-item-num\">5.2&nbsp;&nbsp;</span>Самые популярные жанры</a></span></li><li><span><a href=\"#Влияние-рейтинга-ESRB-на-продажи\" data-toc-modified-id=\"Влияние-рейтинга-ESRB-на-продажи-5.3\"><span class=\"toc-item-num\">5.3&nbsp;&nbsp;</span>Влияние рейтинга ESRB на продажи</a></span></li><li><span><a href=\"#Вывод\" data-toc-modified-id=\"Вывод-5.4\"><span class=\"toc-item-num\">5.4&nbsp;&nbsp;</span>Вывод</a></span></li></ul></li><li><span><a href=\"#Проверка-гипотез\" data-toc-modified-id=\"Проверка-гипотез-6\"><span class=\"toc-item-num\">6&nbsp;&nbsp;</span>Проверка гипотез</a></span><ul class=\"toc-item\"><li><span><a href=\"#Сравнение-рейтинга-Xbox-One-и-PC\" data-toc-modified-id=\"Сравнение-рейтинга-Xbox-One-и-PC-6.1\"><span class=\"toc-item-num\">6.1&nbsp;&nbsp;</span>Сравнение рейтинга Xbox One и PC</a></span></li><li><span><a href=\"#Сравнение-рейтинга-Action-и-Sports\" data-toc-modified-id=\"Сравнение-рейтинга-Action-и-Sports-6.2\"><span class=\"toc-item-num\">6.2&nbsp;&nbsp;</span>Сравнение рейтинга Action и Sports</a></span></li><li><span><a href=\"#Вывод\" data-toc-modified-id=\"Вывод-6.3\"><span class=\"toc-item-num\">6.3&nbsp;&nbsp;</span>Вывод</a></span></li></ul></li><li><span><a href=\"#Вывод\" data-toc-modified-id=\"Вывод-7\"><span class=\"toc-item-num\">7&nbsp;&nbsp;</span>Вывод</a></span></li><li><span><a href=\"#Бонус\" data-toc-modified-id=\"Бонус-8\"><span class=\"toc-item-num\">8&nbsp;&nbsp;</span>Бонус</a></span></li></ul></div>"
   ]
  },
  {
   "cell_type": "markdown",
   "id": "168957c9",
   "metadata": {},
   "source": [
    "## Анализ рынка компьютерных игр"
   ]
  },
  {
   "cell_type": "markdown",
   "id": "63ec43a0",
   "metadata": {},
   "source": [
    "### Описание проекта"
   ]
  },
  {
   "cell_type": "markdown",
   "id": "4b7dd706",
   "metadata": {},
   "source": [
    "Вы работаете в интернет-магазине «Стримчик», который продаёт по всему миру компьютерные игры. Из открытых источников доступны исторические данные о продажах игр, оценки пользователей и экспертов, жанры и платформы (например, Xbox или PlayStation). Вам нужно выявить определяющие успешность игры закономерности. Это позволит сделать ставку на потенциально популярный продукт и спланировать рекламные кампании.\n",
    "\n",
    "Перед вами данные до 2016 года. Представим, что сейчас декабрь 2016 г., и вы планируете кампанию на 2017-й. Нужно отработать принцип работы с данными. Неважно, прогнозируете ли вы продажи на 2017 год по данным 2016-го или же 2027-й — по данным 2026 года.\n",
    "\n",
    "В наборе данных попадается аббревиатура ESRB (Entertainment Software Rating Board) — это ассоциация, определяющая возрастной рейтинг компьютерных игр. ESRB оценивает игровой контент и присваивает ему подходящую возрастную категорию, например, «Для взрослых», «Для детей младшего возраста» или «Для подростков»."
   ]
  },
  {
   "cell_type": "markdown",
   "id": "9214de54-d4f4-4d55-96c8-988a37541210",
   "metadata": {},
   "source": [
    "Описание данных\n",
    "\n",
    "* `Name` — название игры\n",
    "* `Platform` — платформа\n",
    "* `Year_of_Release` — год выпуска\n",
    "* `Genre` — жанр игры\n",
    "* `NA_sales` — продажи в Северной Америке (миллионы проданных копий)\n",
    "* `EU_sales` — продажи в Европе (миллионы проданных копий)\n",
    "* `JP_sales` — продажи в Японии (миллионы проданных копий)\n",
    "* `Other_sales` — продажи в других странах (миллионы проданных копий)\n",
    "* `Critic_Score` — оценка критиков (максимум 100)\n",
    "* `User_Score` — оценка пользователей (максимум 10)\n",
    "* `Rating` — рейтинг от организации ESRB (англ. Entertainment Software Rating Board). Эта ассоциация определяет рейтинг компьютерных игр и присваивает им подходящую возрастную категорию.\n",
    "\n",
    "Данные за 2016 год могут быть неполными."
   ]
  },
  {
   "cell_type": "markdown",
   "id": "a6eaf281",
   "metadata": {},
   "source": [
    "### Загрузка данных"
   ]
  },
  {
   "cell_type": "code",
   "execution_count": 1,
   "id": "e62db8d6",
   "metadata": {},
   "outputs": [],
   "source": [
    "import pandas as pd\n",
    "import matplotlib.pyplot as plt\n",
    "from scipy import stats as st\n",
    "#import numpy as np "
   ]
  },
  {
   "cell_type": "code",
   "execution_count": 2,
   "id": "3daef99c",
   "metadata": {},
   "outputs": [],
   "source": [
    "try:\n",
    "    data = pd.read_csv('/datasets/games.csv')\n",
    "except:\n",
    "    data= pd.read_csv('https://code.s3.yandex.net/datasets/games.csv')"
   ]
  },
  {
   "cell_type": "code",
   "execution_count": 3,
   "id": "5827cff9",
   "metadata": {},
   "outputs": [
    {
     "data": {
      "text/html": [
       "<div>\n",
       "<style scoped>\n",
       "    .dataframe tbody tr th:only-of-type {\n",
       "        vertical-align: middle;\n",
       "    }\n",
       "\n",
       "    .dataframe tbody tr th {\n",
       "        vertical-align: top;\n",
       "    }\n",
       "\n",
       "    .dataframe thead th {\n",
       "        text-align: right;\n",
       "    }\n",
       "</style>\n",
       "<table border=\"1\" class=\"dataframe\">\n",
       "  <thead>\n",
       "    <tr style=\"text-align: right;\">\n",
       "      <th></th>\n",
       "      <th>Name</th>\n",
       "      <th>Platform</th>\n",
       "      <th>Year_of_Release</th>\n",
       "      <th>Genre</th>\n",
       "      <th>NA_sales</th>\n",
       "      <th>EU_sales</th>\n",
       "      <th>JP_sales</th>\n",
       "      <th>Other_sales</th>\n",
       "      <th>Critic_Score</th>\n",
       "      <th>User_Score</th>\n",
       "      <th>Rating</th>\n",
       "    </tr>\n",
       "  </thead>\n",
       "  <tbody>\n",
       "    <tr>\n",
       "      <th>0</th>\n",
       "      <td>Wii Sports</td>\n",
       "      <td>Wii</td>\n",
       "      <td>2006.0</td>\n",
       "      <td>Sports</td>\n",
       "      <td>41.36</td>\n",
       "      <td>28.96</td>\n",
       "      <td>3.77</td>\n",
       "      <td>8.45</td>\n",
       "      <td>76.0</td>\n",
       "      <td>8</td>\n",
       "      <td>E</td>\n",
       "    </tr>\n",
       "    <tr>\n",
       "      <th>1</th>\n",
       "      <td>Super Mario Bros.</td>\n",
       "      <td>NES</td>\n",
       "      <td>1985.0</td>\n",
       "      <td>Platform</td>\n",
       "      <td>29.08</td>\n",
       "      <td>3.58</td>\n",
       "      <td>6.81</td>\n",
       "      <td>0.77</td>\n",
       "      <td>NaN</td>\n",
       "      <td>NaN</td>\n",
       "      <td>NaN</td>\n",
       "    </tr>\n",
       "    <tr>\n",
       "      <th>2</th>\n",
       "      <td>Mario Kart Wii</td>\n",
       "      <td>Wii</td>\n",
       "      <td>2008.0</td>\n",
       "      <td>Racing</td>\n",
       "      <td>15.68</td>\n",
       "      <td>12.76</td>\n",
       "      <td>3.79</td>\n",
       "      <td>3.29</td>\n",
       "      <td>82.0</td>\n",
       "      <td>8.3</td>\n",
       "      <td>E</td>\n",
       "    </tr>\n",
       "    <tr>\n",
       "      <th>3</th>\n",
       "      <td>Wii Sports Resort</td>\n",
       "      <td>Wii</td>\n",
       "      <td>2009.0</td>\n",
       "      <td>Sports</td>\n",
       "      <td>15.61</td>\n",
       "      <td>10.93</td>\n",
       "      <td>3.28</td>\n",
       "      <td>2.95</td>\n",
       "      <td>80.0</td>\n",
       "      <td>8</td>\n",
       "      <td>E</td>\n",
       "    </tr>\n",
       "    <tr>\n",
       "      <th>4</th>\n",
       "      <td>Pokemon Red/Pokemon Blue</td>\n",
       "      <td>GB</td>\n",
       "      <td>1996.0</td>\n",
       "      <td>Role-Playing</td>\n",
       "      <td>11.27</td>\n",
       "      <td>8.89</td>\n",
       "      <td>10.22</td>\n",
       "      <td>1.00</td>\n",
       "      <td>NaN</td>\n",
       "      <td>NaN</td>\n",
       "      <td>NaN</td>\n",
       "    </tr>\n",
       "  </tbody>\n",
       "</table>\n",
       "</div>"
      ],
      "text/plain": [
       "                       Name Platform  Year_of_Release         Genre  NA_sales  \\\n",
       "0                Wii Sports      Wii           2006.0        Sports     41.36   \n",
       "1         Super Mario Bros.      NES           1985.0      Platform     29.08   \n",
       "2            Mario Kart Wii      Wii           2008.0        Racing     15.68   \n",
       "3         Wii Sports Resort      Wii           2009.0        Sports     15.61   \n",
       "4  Pokemon Red/Pokemon Blue       GB           1996.0  Role-Playing     11.27   \n",
       "\n",
       "   EU_sales  JP_sales  Other_sales  Critic_Score User_Score Rating  \n",
       "0     28.96      3.77         8.45          76.0          8      E  \n",
       "1      3.58      6.81         0.77           NaN        NaN    NaN  \n",
       "2     12.76      3.79         3.29          82.0        8.3      E  \n",
       "3     10.93      3.28         2.95          80.0          8      E  \n",
       "4      8.89     10.22         1.00           NaN        NaN    NaN  "
      ]
     },
     "execution_count": 3,
     "metadata": {},
     "output_type": "execute_result"
    }
   ],
   "source": [
    "data.head()"
   ]
  },
  {
   "cell_type": "code",
   "execution_count": 4,
   "id": "d1f4fd03",
   "metadata": {},
   "outputs": [
    {
     "name": "stdout",
     "output_type": "stream",
     "text": [
      "<class 'pandas.core.frame.DataFrame'>\n",
      "RangeIndex: 16715 entries, 0 to 16714\n",
      "Data columns (total 11 columns):\n",
      " #   Column           Non-Null Count  Dtype  \n",
      "---  ------           --------------  -----  \n",
      " 0   Name             16713 non-null  object \n",
      " 1   Platform         16715 non-null  object \n",
      " 2   Year_of_Release  16446 non-null  float64\n",
      " 3   Genre            16713 non-null  object \n",
      " 4   NA_sales         16715 non-null  float64\n",
      " 5   EU_sales         16715 non-null  float64\n",
      " 6   JP_sales         16715 non-null  float64\n",
      " 7   Other_sales      16715 non-null  float64\n",
      " 8   Critic_Score     8137 non-null   float64\n",
      " 9   User_Score       10014 non-null  object \n",
      " 10  Rating           9949 non-null   object \n",
      "dtypes: float64(6), object(5)\n",
      "memory usage: 1.4+ MB\n"
     ]
    }
   ],
   "source": [
    "data.info()"
   ]
  },
  {
   "cell_type": "code",
   "execution_count": 5,
   "id": "49c33b82",
   "metadata": {},
   "outputs": [
    {
     "data": {
      "text/html": [
       "<div>\n",
       "<style scoped>\n",
       "    .dataframe tbody tr th:only-of-type {\n",
       "        vertical-align: middle;\n",
       "    }\n",
       "\n",
       "    .dataframe tbody tr th {\n",
       "        vertical-align: top;\n",
       "    }\n",
       "\n",
       "    .dataframe thead th {\n",
       "        text-align: right;\n",
       "    }\n",
       "</style>\n",
       "<table border=\"1\" class=\"dataframe\">\n",
       "  <thead>\n",
       "    <tr style=\"text-align: right;\">\n",
       "      <th></th>\n",
       "      <th>Year_of_Release</th>\n",
       "      <th>NA_sales</th>\n",
       "      <th>EU_sales</th>\n",
       "      <th>JP_sales</th>\n",
       "      <th>Other_sales</th>\n",
       "      <th>Critic_Score</th>\n",
       "    </tr>\n",
       "  </thead>\n",
       "  <tbody>\n",
       "    <tr>\n",
       "      <th>count</th>\n",
       "      <td>16446.000000</td>\n",
       "      <td>16715.000000</td>\n",
       "      <td>16715.000000</td>\n",
       "      <td>16715.000000</td>\n",
       "      <td>16715.000000</td>\n",
       "      <td>8137.000000</td>\n",
       "    </tr>\n",
       "    <tr>\n",
       "      <th>mean</th>\n",
       "      <td>2006.484616</td>\n",
       "      <td>0.263377</td>\n",
       "      <td>0.145060</td>\n",
       "      <td>0.077617</td>\n",
       "      <td>0.047342</td>\n",
       "      <td>68.967679</td>\n",
       "    </tr>\n",
       "    <tr>\n",
       "      <th>std</th>\n",
       "      <td>5.877050</td>\n",
       "      <td>0.813604</td>\n",
       "      <td>0.503339</td>\n",
       "      <td>0.308853</td>\n",
       "      <td>0.186731</td>\n",
       "      <td>13.938165</td>\n",
       "    </tr>\n",
       "    <tr>\n",
       "      <th>min</th>\n",
       "      <td>1980.000000</td>\n",
       "      <td>0.000000</td>\n",
       "      <td>0.000000</td>\n",
       "      <td>0.000000</td>\n",
       "      <td>0.000000</td>\n",
       "      <td>13.000000</td>\n",
       "    </tr>\n",
       "    <tr>\n",
       "      <th>25%</th>\n",
       "      <td>2003.000000</td>\n",
       "      <td>0.000000</td>\n",
       "      <td>0.000000</td>\n",
       "      <td>0.000000</td>\n",
       "      <td>0.000000</td>\n",
       "      <td>60.000000</td>\n",
       "    </tr>\n",
       "    <tr>\n",
       "      <th>50%</th>\n",
       "      <td>2007.000000</td>\n",
       "      <td>0.080000</td>\n",
       "      <td>0.020000</td>\n",
       "      <td>0.000000</td>\n",
       "      <td>0.010000</td>\n",
       "      <td>71.000000</td>\n",
       "    </tr>\n",
       "    <tr>\n",
       "      <th>75%</th>\n",
       "      <td>2010.000000</td>\n",
       "      <td>0.240000</td>\n",
       "      <td>0.110000</td>\n",
       "      <td>0.040000</td>\n",
       "      <td>0.030000</td>\n",
       "      <td>79.000000</td>\n",
       "    </tr>\n",
       "    <tr>\n",
       "      <th>max</th>\n",
       "      <td>2016.000000</td>\n",
       "      <td>41.360000</td>\n",
       "      <td>28.960000</td>\n",
       "      <td>10.220000</td>\n",
       "      <td>10.570000</td>\n",
       "      <td>98.000000</td>\n",
       "    </tr>\n",
       "  </tbody>\n",
       "</table>\n",
       "</div>"
      ],
      "text/plain": [
       "       Year_of_Release      NA_sales      EU_sales      JP_sales  \\\n",
       "count     16446.000000  16715.000000  16715.000000  16715.000000   \n",
       "mean       2006.484616      0.263377      0.145060      0.077617   \n",
       "std           5.877050      0.813604      0.503339      0.308853   \n",
       "min        1980.000000      0.000000      0.000000      0.000000   \n",
       "25%        2003.000000      0.000000      0.000000      0.000000   \n",
       "50%        2007.000000      0.080000      0.020000      0.000000   \n",
       "75%        2010.000000      0.240000      0.110000      0.040000   \n",
       "max        2016.000000     41.360000     28.960000     10.220000   \n",
       "\n",
       "        Other_sales  Critic_Score  \n",
       "count  16715.000000   8137.000000  \n",
       "mean       0.047342     68.967679  \n",
       "std        0.186731     13.938165  \n",
       "min        0.000000     13.000000  \n",
       "25%        0.000000     60.000000  \n",
       "50%        0.010000     71.000000  \n",
       "75%        0.030000     79.000000  \n",
       "max       10.570000     98.000000  "
      ]
     },
     "execution_count": 5,
     "metadata": {},
     "output_type": "execute_result"
    }
   ],
   "source": [
    "data.describe()"
   ]
  },
  {
   "cell_type": "markdown",
   "id": "f7bb5e48",
   "metadata": {},
   "source": [
    "Датасет за 1980-2016 года. Значения квартилей по всем регионам очень низкие, больше 75% игр плохо продаются. "
   ]
  },
  {
   "cell_type": "markdown",
   "id": "80c8acda",
   "metadata": {},
   "source": [
    "### Подготовка данных"
   ]
  },
  {
   "cell_type": "markdown",
   "id": "cfb60547",
   "metadata": {},
   "source": [
    "#### Приведение названий столбцов к нижнему регистру"
   ]
  },
  {
   "cell_type": "markdown",
   "id": "368332cd",
   "metadata": {},
   "source": [
    "Замените названия столбцов (приведите к нижнему регистру);"
   ]
  },
  {
   "cell_type": "code",
   "execution_count": 6,
   "id": "b8ce2aa3",
   "metadata": {},
   "outputs": [],
   "source": [
    "data.columns = data.columns.str.lower()"
   ]
  },
  {
   "cell_type": "code",
   "execution_count": 7,
   "id": "359fa2db",
   "metadata": {},
   "outputs": [
    {
     "data": {
      "text/html": [
       "<div>\n",
       "<style scoped>\n",
       "    .dataframe tbody tr th:only-of-type {\n",
       "        vertical-align: middle;\n",
       "    }\n",
       "\n",
       "    .dataframe tbody tr th {\n",
       "        vertical-align: top;\n",
       "    }\n",
       "\n",
       "    .dataframe thead th {\n",
       "        text-align: right;\n",
       "    }\n",
       "</style>\n",
       "<table border=\"1\" class=\"dataframe\">\n",
       "  <thead>\n",
       "    <tr style=\"text-align: right;\">\n",
       "      <th></th>\n",
       "      <th>name</th>\n",
       "      <th>platform</th>\n",
       "      <th>year_of_release</th>\n",
       "      <th>genre</th>\n",
       "      <th>na_sales</th>\n",
       "      <th>eu_sales</th>\n",
       "      <th>jp_sales</th>\n",
       "      <th>other_sales</th>\n",
       "      <th>critic_score</th>\n",
       "      <th>user_score</th>\n",
       "      <th>rating</th>\n",
       "    </tr>\n",
       "  </thead>\n",
       "  <tbody>\n",
       "    <tr>\n",
       "      <th>0</th>\n",
       "      <td>Wii Sports</td>\n",
       "      <td>Wii</td>\n",
       "      <td>2006.0</td>\n",
       "      <td>Sports</td>\n",
       "      <td>41.36</td>\n",
       "      <td>28.96</td>\n",
       "      <td>3.77</td>\n",
       "      <td>8.45</td>\n",
       "      <td>76.0</td>\n",
       "      <td>8</td>\n",
       "      <td>E</td>\n",
       "    </tr>\n",
       "    <tr>\n",
       "      <th>1</th>\n",
       "      <td>Super Mario Bros.</td>\n",
       "      <td>NES</td>\n",
       "      <td>1985.0</td>\n",
       "      <td>Platform</td>\n",
       "      <td>29.08</td>\n",
       "      <td>3.58</td>\n",
       "      <td>6.81</td>\n",
       "      <td>0.77</td>\n",
       "      <td>NaN</td>\n",
       "      <td>NaN</td>\n",
       "      <td>NaN</td>\n",
       "    </tr>\n",
       "    <tr>\n",
       "      <th>2</th>\n",
       "      <td>Mario Kart Wii</td>\n",
       "      <td>Wii</td>\n",
       "      <td>2008.0</td>\n",
       "      <td>Racing</td>\n",
       "      <td>15.68</td>\n",
       "      <td>12.76</td>\n",
       "      <td>3.79</td>\n",
       "      <td>3.29</td>\n",
       "      <td>82.0</td>\n",
       "      <td>8.3</td>\n",
       "      <td>E</td>\n",
       "    </tr>\n",
       "    <tr>\n",
       "      <th>3</th>\n",
       "      <td>Wii Sports Resort</td>\n",
       "      <td>Wii</td>\n",
       "      <td>2009.0</td>\n",
       "      <td>Sports</td>\n",
       "      <td>15.61</td>\n",
       "      <td>10.93</td>\n",
       "      <td>3.28</td>\n",
       "      <td>2.95</td>\n",
       "      <td>80.0</td>\n",
       "      <td>8</td>\n",
       "      <td>E</td>\n",
       "    </tr>\n",
       "    <tr>\n",
       "      <th>4</th>\n",
       "      <td>Pokemon Red/Pokemon Blue</td>\n",
       "      <td>GB</td>\n",
       "      <td>1996.0</td>\n",
       "      <td>Role-Playing</td>\n",
       "      <td>11.27</td>\n",
       "      <td>8.89</td>\n",
       "      <td>10.22</td>\n",
       "      <td>1.00</td>\n",
       "      <td>NaN</td>\n",
       "      <td>NaN</td>\n",
       "      <td>NaN</td>\n",
       "    </tr>\n",
       "  </tbody>\n",
       "</table>\n",
       "</div>"
      ],
      "text/plain": [
       "                       name platform  year_of_release         genre  na_sales  \\\n",
       "0                Wii Sports      Wii           2006.0        Sports     41.36   \n",
       "1         Super Mario Bros.      NES           1985.0      Platform     29.08   \n",
       "2            Mario Kart Wii      Wii           2008.0        Racing     15.68   \n",
       "3         Wii Sports Resort      Wii           2009.0        Sports     15.61   \n",
       "4  Pokemon Red/Pokemon Blue       GB           1996.0  Role-Playing     11.27   \n",
       "\n",
       "   eu_sales  jp_sales  other_sales  critic_score user_score rating  \n",
       "0     28.96      3.77         8.45          76.0          8      E  \n",
       "1      3.58      6.81         0.77           NaN        NaN    NaN  \n",
       "2     12.76      3.79         3.29          82.0        8.3      E  \n",
       "3     10.93      3.28         2.95          80.0          8      E  \n",
       "4      8.89     10.22         1.00           NaN        NaN    NaN  "
      ]
     },
     "execution_count": 7,
     "metadata": {},
     "output_type": "execute_result"
    }
   ],
   "source": [
    "data.head()"
   ]
  },
  {
   "cell_type": "markdown",
   "id": "ca08876b",
   "metadata": {},
   "source": [
    "#### Преобразование типов данных"
   ]
  },
  {
   "cell_type": "markdown",
   "id": "e6af660b",
   "metadata": {},
   "source": [
    "Преобразуйте данные в нужные типы. Опишите, в каких столбцах заменили тип данных и почему;"
   ]
  },
  {
   "cell_type": "code",
   "execution_count": 8,
   "id": "011e58fa",
   "metadata": {},
   "outputs": [
    {
     "name": "stdout",
     "output_type": "stream",
     "text": [
      "<class 'pandas.core.frame.DataFrame'>\n",
      "RangeIndex: 16715 entries, 0 to 16714\n",
      "Data columns (total 11 columns):\n",
      " #   Column           Non-Null Count  Dtype  \n",
      "---  ------           --------------  -----  \n",
      " 0   name             16713 non-null  object \n",
      " 1   platform         16715 non-null  object \n",
      " 2   year_of_release  16446 non-null  float64\n",
      " 3   genre            16713 non-null  object \n",
      " 4   na_sales         16715 non-null  float64\n",
      " 5   eu_sales         16715 non-null  float64\n",
      " 6   jp_sales         16715 non-null  float64\n",
      " 7   other_sales      16715 non-null  float64\n",
      " 8   critic_score     8137 non-null   float64\n",
      " 9   user_score       10014 non-null  object \n",
      " 10  rating           9949 non-null   object \n",
      "dtypes: float64(6), object(5)\n",
      "memory usage: 1.4+ MB\n"
     ]
    }
   ],
   "source": [
    "data.info()"
   ]
  },
  {
   "cell_type": "markdown",
   "id": "a47a9055",
   "metadata": {},
   "source": [
    "Нужно заменить тип у `year_of_release` на `int`, так как год всегда целое число.    \\\n",
    "Столбцы `critic_score, user_score` привести к числовому значению."
   ]
  },
  {
   "cell_type": "code",
   "execution_count": 9,
   "id": "1d7ba76f",
   "metadata": {},
   "outputs": [],
   "source": [
    "data['year_of_release'] = data['year_of_release'].astype(pd.Int16Dtype(), errors='ignore')"
   ]
  },
  {
   "cell_type": "code",
   "execution_count": 10,
   "id": "73b061b5",
   "metadata": {},
   "outputs": [],
   "source": [
    "data['user_score'] = pd.to_numeric(data['user_score'], errors='ignore').convert_dtypes()\n",
    "data['critic_score'] = pd.to_numeric(data['critic_score'], errors='ignore').convert_dtypes()"
   ]
  },
  {
   "cell_type": "code",
   "execution_count": 11,
   "id": "20a1de57",
   "metadata": {},
   "outputs": [
    {
     "name": "stdout",
     "output_type": "stream",
     "text": [
      "<class 'pandas.core.frame.DataFrame'>\n",
      "RangeIndex: 16715 entries, 0 to 16714\n",
      "Data columns (total 11 columns):\n",
      " #   Column           Non-Null Count  Dtype  \n",
      "---  ------           --------------  -----  \n",
      " 0   name             16713 non-null  object \n",
      " 1   platform         16715 non-null  object \n",
      " 2   year_of_release  16446 non-null  Int16  \n",
      " 3   genre            16713 non-null  object \n",
      " 4   na_sales         16715 non-null  float64\n",
      " 5   eu_sales         16715 non-null  float64\n",
      " 6   jp_sales         16715 non-null  float64\n",
      " 7   other_sales      16715 non-null  float64\n",
      " 8   critic_score     8137 non-null   Int64  \n",
      " 9   user_score       10014 non-null  string \n",
      " 10  rating           9949 non-null   object \n",
      "dtypes: Int16(1), Int64(1), float64(4), object(4), string(1)\n",
      "memory usage: 1.3+ MB\n"
     ]
    }
   ],
   "source": [
    "data.info()"
   ]
  },
  {
   "cell_type": "markdown",
   "id": "74005a71",
   "metadata": {},
   "source": [
    "В столбце user_score остались строковые данные, поищем какие."
   ]
  },
  {
   "cell_type": "code",
   "execution_count": 12,
   "id": "d62040c4",
   "metadata": {},
   "outputs": [
    {
     "data": {
      "text/plain": [
       "<StringArray>\n",
       "[  '8',  <NA>, '8.3', '8.5', '6.6', '8.4', '8.6', '7.7', '6.3', '7.4', '8.2',\n",
       "   '9', '7.9', '8.1', '8.7', '7.1', '3.4', '5.3', '4.8', '3.2', '8.9', '6.4',\n",
       " '7.8', '7.5', '2.6', '7.2', '9.2',   '7', '7.3', '4.3', '7.6', '5.7',   '5',\n",
       " '9.1', '6.5', 'tbd', '8.8', '6.9', '9.4', '6.8', '6.1', '6.7', '5.4',   '4',\n",
       " '4.9', '4.5', '9.3', '6.2', '4.2',   '6', '3.7', '4.1', '5.8', '5.6', '5.5',\n",
       " '4.4', '4.6', '5.9', '3.9', '3.1', '2.9', '5.2', '3.3', '4.7', '5.1', '3.5',\n",
       " '2.5', '1.9',   '3', '2.7', '2.2',   '2', '9.5', '2.1', '3.6', '2.8', '1.8',\n",
       " '3.8',   '0', '1.6', '9.6', '2.4', '1.7', '1.1', '0.3', '1.5', '0.7', '1.2',\n",
       " '2.3', '0.5', '1.3', '0.2', '0.6', '1.4', '0.9',   '1', '9.7']\n",
       "Length: 97, dtype: string"
      ]
     },
     "execution_count": 12,
     "metadata": {},
     "output_type": "execute_result"
    }
   ],
   "source": [
    "data['user_score'].unique()"
   ]
  },
  {
   "cell_type": "code",
   "execution_count": 13,
   "id": "9d1867d6",
   "metadata": {},
   "outputs": [
    {
     "data": {
      "text/plain": [
       "2424"
      ]
     },
     "execution_count": 13,
     "metadata": {},
     "output_type": "execute_result"
    }
   ],
   "source": [
    "data[data['user_score']=='tbd']['user_score'].count()"
   ]
  },
  {
   "cell_type": "markdown",
   "id": "9929f371",
   "metadata": {},
   "source": [
    "tbd означает to be determined (подлежит уточнению). Для нас эти данные равносильны пропуску, восстановить или заполнить их невозможно, заменим на NA.  \n",
    "Таких данных очень много, но уточнить мы их не можем."
   ]
  },
  {
   "cell_type": "code",
   "execution_count": 14,
   "id": "0f319b05",
   "metadata": {},
   "outputs": [],
   "source": [
    "data['user_score']= data['user_score'].replace('tbd', pd.NA)\n",
    "data['user_score'] = pd.to_numeric(data['user_score'], errors='ignore').convert_dtypes()"
   ]
  },
  {
   "cell_type": "code",
   "execution_count": 15,
   "id": "d6ceabc3",
   "metadata": {},
   "outputs": [
    {
     "name": "stdout",
     "output_type": "stream",
     "text": [
      "<class 'pandas.core.frame.DataFrame'>\n",
      "RangeIndex: 16715 entries, 0 to 16714\n",
      "Data columns (total 11 columns):\n",
      " #   Column           Non-Null Count  Dtype  \n",
      "---  ------           --------------  -----  \n",
      " 0   name             16713 non-null  object \n",
      " 1   platform         16715 non-null  object \n",
      " 2   year_of_release  16446 non-null  Int16  \n",
      " 3   genre            16713 non-null  object \n",
      " 4   na_sales         16715 non-null  float64\n",
      " 5   eu_sales         16715 non-null  float64\n",
      " 6   jp_sales         16715 non-null  float64\n",
      " 7   other_sales      16715 non-null  float64\n",
      " 8   critic_score     8137 non-null   Int64  \n",
      " 9   user_score       7590 non-null   Float64\n",
      " 10  rating           9949 non-null   object \n",
      "dtypes: Float64(1), Int16(1), Int64(1), float64(4), object(4)\n",
      "memory usage: 1.4+ MB\n"
     ]
    }
   ],
   "source": [
    "data.info()"
   ]
  },
  {
   "cell_type": "markdown",
   "id": "74a99de9",
   "metadata": {},
   "source": [
    "#### Обработка пропусков"
   ]
  },
  {
   "cell_type": "markdown",
   "id": "9b04f06c",
   "metadata": {},
   "source": [
    "Обработайте пропуски при необходимости:\n",
    "* Объясните, почему заполнили пропуски определённым образом или почему не стали это делать;\n",
    "* Опишите причины, которые могли привести к пропускам;\n",
    "* Обратите внимание на аббревиатуру 'tbd' в столбце с оценкой пользователей. Отдельно разберите это значение и опишите, как его обработать;"
   ]
  },
  {
   "cell_type": "code",
   "execution_count": 16,
   "id": "6093a0b7",
   "metadata": {},
   "outputs": [
    {
     "data": {
      "text/plain": [
       "name                  2\n",
       "platform              0\n",
       "year_of_release     269\n",
       "genre                 2\n",
       "na_sales              0\n",
       "eu_sales              0\n",
       "jp_sales              0\n",
       "other_sales           0\n",
       "critic_score       8578\n",
       "user_score         9125\n",
       "rating             6766\n",
       "dtype: int64"
      ]
     },
     "execution_count": 16,
     "metadata": {},
     "output_type": "execute_result"
    }
   ],
   "source": [
    "data.isna().sum()"
   ]
  },
  {
   "cell_type": "markdown",
   "id": "540370ad",
   "metadata": {},
   "source": [
    "Рассмотрим две безымянные игры."
   ]
  },
  {
   "cell_type": "code",
   "execution_count": 17,
   "id": "42631eb3",
   "metadata": {},
   "outputs": [
    {
     "data": {
      "text/html": [
       "<div>\n",
       "<style scoped>\n",
       "    .dataframe tbody tr th:only-of-type {\n",
       "        vertical-align: middle;\n",
       "    }\n",
       "\n",
       "    .dataframe tbody tr th {\n",
       "        vertical-align: top;\n",
       "    }\n",
       "\n",
       "    .dataframe thead th {\n",
       "        text-align: right;\n",
       "    }\n",
       "</style>\n",
       "<table border=\"1\" class=\"dataframe\">\n",
       "  <thead>\n",
       "    <tr style=\"text-align: right;\">\n",
       "      <th></th>\n",
       "      <th>name</th>\n",
       "      <th>platform</th>\n",
       "      <th>year_of_release</th>\n",
       "      <th>genre</th>\n",
       "      <th>na_sales</th>\n",
       "      <th>eu_sales</th>\n",
       "      <th>jp_sales</th>\n",
       "      <th>other_sales</th>\n",
       "      <th>critic_score</th>\n",
       "      <th>user_score</th>\n",
       "      <th>rating</th>\n",
       "    </tr>\n",
       "  </thead>\n",
       "  <tbody>\n",
       "    <tr>\n",
       "      <th>659</th>\n",
       "      <td>NaN</td>\n",
       "      <td>GEN</td>\n",
       "      <td>1993</td>\n",
       "      <td>NaN</td>\n",
       "      <td>1.78</td>\n",
       "      <td>0.53</td>\n",
       "      <td>0.00</td>\n",
       "      <td>0.08</td>\n",
       "      <td>&lt;NA&gt;</td>\n",
       "      <td>&lt;NA&gt;</td>\n",
       "      <td>NaN</td>\n",
       "    </tr>\n",
       "    <tr>\n",
       "      <th>14244</th>\n",
       "      <td>NaN</td>\n",
       "      <td>GEN</td>\n",
       "      <td>1993</td>\n",
       "      <td>NaN</td>\n",
       "      <td>0.00</td>\n",
       "      <td>0.00</td>\n",
       "      <td>0.03</td>\n",
       "      <td>0.00</td>\n",
       "      <td>&lt;NA&gt;</td>\n",
       "      <td>&lt;NA&gt;</td>\n",
       "      <td>NaN</td>\n",
       "    </tr>\n",
       "  </tbody>\n",
       "</table>\n",
       "</div>"
      ],
      "text/plain": [
       "      name platform  year_of_release genre  na_sales  eu_sales  jp_sales  \\\n",
       "659    NaN      GEN             1993   NaN      1.78      0.53      0.00   \n",
       "14244  NaN      GEN             1993   NaN      0.00      0.00      0.03   \n",
       "\n",
       "       other_sales  critic_score  user_score rating  \n",
       "659           0.08          <NA>        <NA>    NaN  \n",
       "14244         0.00          <NA>        <NA>    NaN  "
      ]
     },
     "execution_count": 17,
     "metadata": {},
     "output_type": "execute_result"
    }
   ],
   "source": [
    "data[data['name'].isna()]"
   ]
  },
  {
   "cell_type": "markdown",
   "id": "7715e8b4",
   "metadata": {},
   "source": [
    "Две очень старые игры 1993 года, от них можно избавиться.  \n",
    "Также, только у этих игр не указан жанр. А значит мы избавимся сразу и от пропусков в столбце жанра."
   ]
  },
  {
   "cell_type": "code",
   "execution_count": 18,
   "id": "4eb4afa0",
   "metadata": {},
   "outputs": [],
   "source": [
    "data = data.drop(data[data['name'].isna()].index)"
   ]
  },
  {
   "cell_type": "markdown",
   "id": "496604d0",
   "metadata": {},
   "source": [
    "Теперь посмотрим на игры без года выпуска."
   ]
  },
  {
   "cell_type": "code",
   "execution_count": 19,
   "id": "597a52e0",
   "metadata": {},
   "outputs": [
    {
     "data": {
      "text/html": [
       "<div>\n",
       "<style scoped>\n",
       "    .dataframe tbody tr th:only-of-type {\n",
       "        vertical-align: middle;\n",
       "    }\n",
       "\n",
       "    .dataframe tbody tr th {\n",
       "        vertical-align: top;\n",
       "    }\n",
       "\n",
       "    .dataframe thead th {\n",
       "        text-align: right;\n",
       "    }\n",
       "</style>\n",
       "<table border=\"1\" class=\"dataframe\">\n",
       "  <thead>\n",
       "    <tr style=\"text-align: right;\">\n",
       "      <th></th>\n",
       "      <th>name</th>\n",
       "      <th>platform</th>\n",
       "      <th>year_of_release</th>\n",
       "      <th>genre</th>\n",
       "      <th>na_sales</th>\n",
       "      <th>eu_sales</th>\n",
       "      <th>jp_sales</th>\n",
       "      <th>other_sales</th>\n",
       "      <th>critic_score</th>\n",
       "      <th>user_score</th>\n",
       "      <th>rating</th>\n",
       "    </tr>\n",
       "  </thead>\n",
       "  <tbody>\n",
       "    <tr>\n",
       "      <th>183</th>\n",
       "      <td>Madden NFL 2004</td>\n",
       "      <td>PS2</td>\n",
       "      <td>&lt;NA&gt;</td>\n",
       "      <td>Sports</td>\n",
       "      <td>4.26</td>\n",
       "      <td>0.26</td>\n",
       "      <td>0.01</td>\n",
       "      <td>0.71</td>\n",
       "      <td>94</td>\n",
       "      <td>8.5</td>\n",
       "      <td>E</td>\n",
       "    </tr>\n",
       "    <tr>\n",
       "      <th>377</th>\n",
       "      <td>FIFA Soccer 2004</td>\n",
       "      <td>PS2</td>\n",
       "      <td>&lt;NA&gt;</td>\n",
       "      <td>Sports</td>\n",
       "      <td>0.59</td>\n",
       "      <td>2.36</td>\n",
       "      <td>0.04</td>\n",
       "      <td>0.51</td>\n",
       "      <td>84</td>\n",
       "      <td>6.4</td>\n",
       "      <td>E</td>\n",
       "    </tr>\n",
       "    <tr>\n",
       "      <th>456</th>\n",
       "      <td>LEGO Batman: The Videogame</td>\n",
       "      <td>Wii</td>\n",
       "      <td>&lt;NA&gt;</td>\n",
       "      <td>Action</td>\n",
       "      <td>1.80</td>\n",
       "      <td>0.97</td>\n",
       "      <td>0.00</td>\n",
       "      <td>0.29</td>\n",
       "      <td>74</td>\n",
       "      <td>7.9</td>\n",
       "      <td>E10+</td>\n",
       "    </tr>\n",
       "    <tr>\n",
       "      <th>475</th>\n",
       "      <td>wwe Smackdown vs. Raw 2006</td>\n",
       "      <td>PS2</td>\n",
       "      <td>&lt;NA&gt;</td>\n",
       "      <td>Fighting</td>\n",
       "      <td>1.57</td>\n",
       "      <td>1.02</td>\n",
       "      <td>0.00</td>\n",
       "      <td>0.41</td>\n",
       "      <td>&lt;NA&gt;</td>\n",
       "      <td>&lt;NA&gt;</td>\n",
       "      <td>NaN</td>\n",
       "    </tr>\n",
       "    <tr>\n",
       "      <th>609</th>\n",
       "      <td>Space Invaders</td>\n",
       "      <td>2600</td>\n",
       "      <td>&lt;NA&gt;</td>\n",
       "      <td>Shooter</td>\n",
       "      <td>2.36</td>\n",
       "      <td>0.14</td>\n",
       "      <td>0.00</td>\n",
       "      <td>0.03</td>\n",
       "      <td>&lt;NA&gt;</td>\n",
       "      <td>&lt;NA&gt;</td>\n",
       "      <td>NaN</td>\n",
       "    </tr>\n",
       "  </tbody>\n",
       "</table>\n",
       "</div>"
      ],
      "text/plain": [
       "                           name platform  year_of_release     genre  na_sales  \\\n",
       "183             Madden NFL 2004      PS2             <NA>    Sports      4.26   \n",
       "377            FIFA Soccer 2004      PS2             <NA>    Sports      0.59   \n",
       "456  LEGO Batman: The Videogame      Wii             <NA>    Action      1.80   \n",
       "475  wwe Smackdown vs. Raw 2006      PS2             <NA>  Fighting      1.57   \n",
       "609              Space Invaders     2600             <NA>   Shooter      2.36   \n",
       "\n",
       "     eu_sales  jp_sales  other_sales  critic_score  user_score rating  \n",
       "183      0.26      0.01         0.71            94         8.5      E  \n",
       "377      2.36      0.04         0.51            84         6.4      E  \n",
       "456      0.97      0.00         0.29            74         7.9   E10+  \n",
       "475      1.02      0.00         0.41          <NA>        <NA>    NaN  \n",
       "609      0.14      0.00         0.03          <NA>        <NA>    NaN  "
      ]
     },
     "execution_count": 19,
     "metadata": {},
     "output_type": "execute_result"
    }
   ],
   "source": [
    "data[data['year_of_release'].isna()].head()"
   ]
  },
  {
   "cell_type": "markdown",
   "id": "63866ca7",
   "metadata": {},
   "source": [
    "Забавный факт: **Madden NFL 2004** вышла в 2003 году.  \n",
    "Данные о годе выпуска можно восстановить с помощью интернета, однако восстанавливать таким образом данные о 269 играх проблематично. Придётся оставить как есть.  "
   ]
  },
  {
   "cell_type": "code",
   "execution_count": 20,
   "id": "f956485e",
   "metadata": {},
   "outputs": [
    {
     "data": {
      "image/png": "[encoded data removed]",
      "text/plain": [
       "<Figure size 720x288 with 2 Axes>"
      ]
     },
     "metadata": {
      "needs_background": "light"
     },
     "output_type": "display_data"
    },
    {
     "data": {
      "image/png": "[encoded data removed]",
      "text/plain": [
       "<Figure size 720x288 with 2 Axes>"
      ]
     },
     "metadata": {
      "needs_background": "light"
     },
     "output_type": "display_data"
    }
   ],
   "source": [
    "fig, axs = plt.subplots(1,2, figsize=(10, 4))\n",
    "(\n",
    "    data[data['critic_score'].isna()]['platform']\n",
    "    .value_counts().sort_values().tail(10)\n",
    "    .plot(kind='barh',ax=axs[0],title='Пропуски в оценках критиков по платформе', xlabel='Платформа', ylabel='Число пропусков')\n",
    ")\n",
    "(\n",
    "    data[data['critic_score'].isna()]['year_of_release']\n",
    "    .value_counts().sort_values().tail(10)\n",
    "    .plot(kind='barh',ax=axs[1],title='Пропуски в оценках критиков по году', xlabel='Год', ylabel='Число пропусков')\n",
    ")\n",
    "plt.show()\n",
    "\n",
    "fig, axs = plt.subplots(1,2, figsize=(10, 4))\n",
    "(\n",
    "    data[data['user_score'].isna()]['platform']\n",
    "     .value_counts().sort_values().tail(10)\n",
    "     .plot(kind='barh',ax=axs[0],title='Пропуски в оценках игроков по платформе', xlabel='Платформа', ylabel='Число пропусков')\n",
    ")\n",
    "(\n",
    "    data[data['user_score'].isna()]['year_of_release']\n",
    "    .value_counts().sort_values().tail(10)\n",
    "    .plot(kind='barh',ax=axs[1],title='Пропуски в оценках игроков по году', xlabel='Год', ylabel='Число пропусков')\n",
    ")\n",
    "plt.show()"
   ]
  },
  {
   "cell_type": "markdown",
   "id": "fa12476e",
   "metadata": {},
   "source": [
    "Графики для игроков и критиков почти одинаковые. Разве что отзывы от критиков за 2015-2016 года попали в топ пропусков, а от пользователей нет.\n",
    "\n",
    "Платформы, лидирующие в списках это довольно старые консоли.  \n",
    "Больше всего пропусков в 2006-2011 году.  \n",
    "\n",
    "Неизвестно из какого ресурса брались оценки. Особенно для игр, продававшихся не через онлайн площадки, а на физических носителях (таких среди пропусков большинство).  \n",
    "Для большинства игр скорее всего существует оценка от критиков с того или иного ресурса (журналы, сайты и т.п.). Однако, также как и с годом выпуска, собрать эти данные быстро нереально. \n",
    "\n",
    "Пытаться заполнять пропуск медианными значениями не стоит, так как пропущено более половины данных.\n",
    "\n",
    "Пропуски также придётся оставить как есть."
   ]
  },
  {
   "cell_type": "code",
   "execution_count": 21,
   "id": "dec12959",
   "metadata": {},
   "outputs": [
    {
     "data": {
      "image/png": "[encoded data removed]",
      "text/plain": [
       "<Figure size 720x288 with 2 Axes>"
      ]
     },
     "metadata": {
      "needs_background": "light"
     },
     "output_type": "display_data"
    }
   ],
   "source": [
    "fig, axs = plt.subplots(1,2, figsize=(10, 4))\n",
    "(\n",
    "    data[data['rating'].isna()]['platform']\n",
    "     .value_counts().sort_values().tail(10)\n",
    "     .plot(kind='barh',ax=axs[0],title='Пропуски в рейтинге по платформе', xlabel='Платформа', ylabel='Число пропусков')\n",
    ")\n",
    "(\n",
    "    data[data['rating'].isna()]['year_of_release']\n",
    "    .value_counts().sort_values().tail(10)\n",
    "    .plot(kind='barh',ax=axs[1],title='Пропуски в рейтинге по году', xlabel='Год', ylabel='Число пропусков')\n",
    ")\n",
    "plt.show()"
   ]
  },
  {
   "cell_type": "markdown",
   "id": "913a8356",
   "metadata": {},
   "source": [
    "Здесь также лидируют довольно старые консоли.  \n",
    "В датасете представлен рейтинг ESRB, который хоть и не является обязательным, но без него выпустить игру в США будет проблематично.  \n",
    "\n",
    "Например, игра **Call of Duty: Black Ops 3**, для которой нет рейтинга в датасете имеет рейтинг **M** на сайте ESRB. Т.е. эти данные существуют, но не попали в датасет. Для более старых игр или игр ориентированных не на американский рынок рейтинга может вообще не быть.\n"
   ]
  },
  {
   "cell_type": "markdown",
   "id": "a37dea8f",
   "metadata": {},
   "source": [
    "#### Создание стобца суммарных продаж"
   ]
  },
  {
   "cell_type": "markdown",
   "id": "f0c9a312",
   "metadata": {},
   "source": [
    "Посчитайте суммарные продажи во всех регионах и запишите их в отдельный столбец."
   ]
  },
  {
   "cell_type": "code",
   "execution_count": 22,
   "id": "bf49fe97",
   "metadata": {},
   "outputs": [
    {
     "data": {
      "text/html": [
       "<div>\n",
       "<style scoped>\n",
       "    .dataframe tbody tr th:only-of-type {\n",
       "        vertical-align: middle;\n",
       "    }\n",
       "\n",
       "    .dataframe tbody tr th {\n",
       "        vertical-align: top;\n",
       "    }\n",
       "\n",
       "    .dataframe thead th {\n",
       "        text-align: right;\n",
       "    }\n",
       "</style>\n",
       "<table border=\"1\" class=\"dataframe\">\n",
       "  <thead>\n",
       "    <tr style=\"text-align: right;\">\n",
       "      <th></th>\n",
       "      <th>name</th>\n",
       "      <th>platform</th>\n",
       "      <th>year_of_release</th>\n",
       "      <th>genre</th>\n",
       "      <th>na_sales</th>\n",
       "      <th>eu_sales</th>\n",
       "      <th>jp_sales</th>\n",
       "      <th>other_sales</th>\n",
       "      <th>critic_score</th>\n",
       "      <th>user_score</th>\n",
       "      <th>rating</th>\n",
       "      <th>sum_sales</th>\n",
       "    </tr>\n",
       "  </thead>\n",
       "  <tbody>\n",
       "    <tr>\n",
       "      <th>0</th>\n",
       "      <td>Wii Sports</td>\n",
       "      <td>Wii</td>\n",
       "      <td>2006</td>\n",
       "      <td>Sports</td>\n",
       "      <td>41.36</td>\n",
       "      <td>28.96</td>\n",
       "      <td>3.77</td>\n",
       "      <td>8.45</td>\n",
       "      <td>76</td>\n",
       "      <td>8.0</td>\n",
       "      <td>E</td>\n",
       "      <td>82.54</td>\n",
       "    </tr>\n",
       "    <tr>\n",
       "      <th>1</th>\n",
       "      <td>Super Mario Bros.</td>\n",
       "      <td>NES</td>\n",
       "      <td>1985</td>\n",
       "      <td>Platform</td>\n",
       "      <td>29.08</td>\n",
       "      <td>3.58</td>\n",
       "      <td>6.81</td>\n",
       "      <td>0.77</td>\n",
       "      <td>&lt;NA&gt;</td>\n",
       "      <td>&lt;NA&gt;</td>\n",
       "      <td>NaN</td>\n",
       "      <td>40.24</td>\n",
       "    </tr>\n",
       "    <tr>\n",
       "      <th>2</th>\n",
       "      <td>Mario Kart Wii</td>\n",
       "      <td>Wii</td>\n",
       "      <td>2008</td>\n",
       "      <td>Racing</td>\n",
       "      <td>15.68</td>\n",
       "      <td>12.76</td>\n",
       "      <td>3.79</td>\n",
       "      <td>3.29</td>\n",
       "      <td>82</td>\n",
       "      <td>8.3</td>\n",
       "      <td>E</td>\n",
       "      <td>35.52</td>\n",
       "    </tr>\n",
       "    <tr>\n",
       "      <th>3</th>\n",
       "      <td>Wii Sports Resort</td>\n",
       "      <td>Wii</td>\n",
       "      <td>2009</td>\n",
       "      <td>Sports</td>\n",
       "      <td>15.61</td>\n",
       "      <td>10.93</td>\n",
       "      <td>3.28</td>\n",
       "      <td>2.95</td>\n",
       "      <td>80</td>\n",
       "      <td>8.0</td>\n",
       "      <td>E</td>\n",
       "      <td>32.77</td>\n",
       "    </tr>\n",
       "    <tr>\n",
       "      <th>4</th>\n",
       "      <td>Pokemon Red/Pokemon Blue</td>\n",
       "      <td>GB</td>\n",
       "      <td>1996</td>\n",
       "      <td>Role-Playing</td>\n",
       "      <td>11.27</td>\n",
       "      <td>8.89</td>\n",
       "      <td>10.22</td>\n",
       "      <td>1.00</td>\n",
       "      <td>&lt;NA&gt;</td>\n",
       "      <td>&lt;NA&gt;</td>\n",
       "      <td>NaN</td>\n",
       "      <td>31.38</td>\n",
       "    </tr>\n",
       "  </tbody>\n",
       "</table>\n",
       "</div>"
      ],
      "text/plain": [
       "                       name platform  year_of_release         genre  na_sales  \\\n",
       "0                Wii Sports      Wii             2006        Sports     41.36   \n",
       "1         Super Mario Bros.      NES             1985      Platform     29.08   \n",
       "2            Mario Kart Wii      Wii             2008        Racing     15.68   \n",
       "3         Wii Sports Resort      Wii             2009        Sports     15.61   \n",
       "4  Pokemon Red/Pokemon Blue       GB             1996  Role-Playing     11.27   \n",
       "\n",
       "   eu_sales  jp_sales  other_sales  critic_score  user_score rating  sum_sales  \n",
       "0     28.96      3.77         8.45            76         8.0      E      82.54  \n",
       "1      3.58      6.81         0.77          <NA>        <NA>    NaN      40.24  \n",
       "2     12.76      3.79         3.29            82         8.3      E      35.52  \n",
       "3     10.93      3.28         2.95            80         8.0      E      32.77  \n",
       "4      8.89     10.22         1.00          <NA>        <NA>    NaN      31.38  "
      ]
     },
     "execution_count": 22,
     "metadata": {},
     "output_type": "execute_result"
    }
   ],
   "source": [
    "data['sum_sales'] = data['na_sales'] + data['eu_sales'] + data['jp_sales'] + data['other_sales']\n",
    "data.head()"
   ]
  },
  {
   "cell_type": "markdown",
   "id": "ea77f990",
   "metadata": {},
   "source": [
    "#### Поиск дубликатов"
   ]
  },
  {
   "cell_type": "code",
   "execution_count": 23,
   "id": "c1e0bb69",
   "metadata": {},
   "outputs": [
    {
     "data": {
      "text/html": [
       "<div>\n",
       "<style scoped>\n",
       "    .dataframe tbody tr th:only-of-type {\n",
       "        vertical-align: middle;\n",
       "    }\n",
       "\n",
       "    .dataframe tbody tr th {\n",
       "        vertical-align: top;\n",
       "    }\n",
       "\n",
       "    .dataframe thead th {\n",
       "        text-align: right;\n",
       "    }\n",
       "</style>\n",
       "<table border=\"1\" class=\"dataframe\">\n",
       "  <thead>\n",
       "    <tr style=\"text-align: right;\">\n",
       "      <th></th>\n",
       "      <th>name</th>\n",
       "      <th>platform</th>\n",
       "      <th>year_of_release</th>\n",
       "      <th>genre</th>\n",
       "      <th>na_sales</th>\n",
       "      <th>eu_sales</th>\n",
       "      <th>jp_sales</th>\n",
       "      <th>other_sales</th>\n",
       "      <th>critic_score</th>\n",
       "      <th>user_score</th>\n",
       "      <th>rating</th>\n",
       "      <th>sum_sales</th>\n",
       "    </tr>\n",
       "  </thead>\n",
       "  <tbody>\n",
       "    <tr>\n",
       "      <th>16230</th>\n",
       "      <td>Madden NFL 13</td>\n",
       "      <td>PS3</td>\n",
       "      <td>2012</td>\n",
       "      <td>Sports</td>\n",
       "      <td>0.0</td>\n",
       "      <td>0.01</td>\n",
       "      <td>0.0</td>\n",
       "      <td>0.0</td>\n",
       "      <td>83</td>\n",
       "      <td>5.5</td>\n",
       "      <td>E</td>\n",
       "      <td>0.01</td>\n",
       "    </tr>\n",
       "  </tbody>\n",
       "</table>\n",
       "</div>"
      ],
      "text/plain": [
       "                name platform  year_of_release   genre  na_sales  eu_sales  \\\n",
       "16230  Madden NFL 13      PS3             2012  Sports       0.0      0.01   \n",
       "\n",
       "       jp_sales  other_sales  critic_score  user_score rating  sum_sales  \n",
       "16230       0.0          0.0            83         5.5      E       0.01  "
      ]
     },
     "execution_count": 23,
     "metadata": {},
     "output_type": "execute_result"
    }
   ],
   "source": [
    "data[data.loc[:,['name', 'platform', 'year_of_release']].duplicated()]"
   ]
  },
  {
   "cell_type": "markdown",
   "id": "62b1509c",
   "metadata": {},
   "source": [
    "Тут дубликат всего один."
   ]
  },
  {
   "cell_type": "code",
   "execution_count": 24,
   "id": "b24910d1",
   "metadata": {},
   "outputs": [
    {
     "data": {
      "text/html": [
       "<div>\n",
       "<style scoped>\n",
       "    .dataframe tbody tr th:only-of-type {\n",
       "        vertical-align: middle;\n",
       "    }\n",
       "\n",
       "    .dataframe tbody tr th {\n",
       "        vertical-align: top;\n",
       "    }\n",
       "\n",
       "    .dataframe thead th {\n",
       "        text-align: right;\n",
       "    }\n",
       "</style>\n",
       "<table border=\"1\" class=\"dataframe\">\n",
       "  <thead>\n",
       "    <tr style=\"text-align: right;\">\n",
       "      <th></th>\n",
       "      <th>name</th>\n",
       "      <th>platform</th>\n",
       "      <th>year_of_release</th>\n",
       "      <th>genre</th>\n",
       "      <th>na_sales</th>\n",
       "      <th>eu_sales</th>\n",
       "      <th>jp_sales</th>\n",
       "      <th>other_sales</th>\n",
       "      <th>critic_score</th>\n",
       "      <th>user_score</th>\n",
       "      <th>rating</th>\n",
       "      <th>sum_sales</th>\n",
       "    </tr>\n",
       "  </thead>\n",
       "  <tbody>\n",
       "    <tr>\n",
       "      <th>1591</th>\n",
       "      <td>Need for Speed: Most Wanted</td>\n",
       "      <td>X360</td>\n",
       "      <td>2005</td>\n",
       "      <td>Racing</td>\n",
       "      <td>1.0</td>\n",
       "      <td>0.13</td>\n",
       "      <td>0.02</td>\n",
       "      <td>0.10</td>\n",
       "      <td>83</td>\n",
       "      <td>8.5</td>\n",
       "      <td>T</td>\n",
       "      <td>1.25</td>\n",
       "    </tr>\n",
       "    <tr>\n",
       "      <th>4127</th>\n",
       "      <td>Sonic the Hedgehog</td>\n",
       "      <td>PS3</td>\n",
       "      <td>&lt;NA&gt;</td>\n",
       "      <td>Platform</td>\n",
       "      <td>0.0</td>\n",
       "      <td>0.48</td>\n",
       "      <td>0.00</td>\n",
       "      <td>0.00</td>\n",
       "      <td>43</td>\n",
       "      <td>4.1</td>\n",
       "      <td>E10+</td>\n",
       "      <td>0.48</td>\n",
       "    </tr>\n",
       "    <tr>\n",
       "      <th>11715</th>\n",
       "      <td>Need for Speed: Most Wanted</td>\n",
       "      <td>PC</td>\n",
       "      <td>2012</td>\n",
       "      <td>Racing</td>\n",
       "      <td>0.0</td>\n",
       "      <td>0.06</td>\n",
       "      <td>0.00</td>\n",
       "      <td>0.02</td>\n",
       "      <td>82</td>\n",
       "      <td>8.5</td>\n",
       "      <td>T</td>\n",
       "      <td>0.08</td>\n",
       "    </tr>\n",
       "    <tr>\n",
       "      <th>16230</th>\n",
       "      <td>Madden NFL 13</td>\n",
       "      <td>PS3</td>\n",
       "      <td>2012</td>\n",
       "      <td>Sports</td>\n",
       "      <td>0.0</td>\n",
       "      <td>0.01</td>\n",
       "      <td>0.00</td>\n",
       "      <td>0.00</td>\n",
       "      <td>83</td>\n",
       "      <td>5.5</td>\n",
       "      <td>E</td>\n",
       "      <td>0.01</td>\n",
       "    </tr>\n",
       "  </tbody>\n",
       "</table>\n",
       "</div>"
      ],
      "text/plain": [
       "                              name platform  year_of_release     genre  \\\n",
       "1591   Need for Speed: Most Wanted     X360             2005    Racing   \n",
       "4127            Sonic the Hedgehog      PS3             <NA>  Platform   \n",
       "11715  Need for Speed: Most Wanted       PC             2012    Racing   \n",
       "16230                Madden NFL 13      PS3             2012    Sports   \n",
       "\n",
       "       na_sales  eu_sales  jp_sales  other_sales  critic_score  user_score  \\\n",
       "1591        1.0      0.13      0.02         0.10            83         8.5   \n",
       "4127        0.0      0.48      0.00         0.00            43         4.1   \n",
       "11715       0.0      0.06      0.00         0.02            82         8.5   \n",
       "16230       0.0      0.01      0.00         0.00            83         5.5   \n",
       "\n",
       "      rating  sum_sales  \n",
       "1591       T       1.25  \n",
       "4127    E10+       0.48  \n",
       "11715      T       0.08  \n",
       "16230      E       0.01  "
      ]
     },
     "execution_count": 24,
     "metadata": {},
     "output_type": "execute_result"
    }
   ],
   "source": [
    "data[data.loc[:,['name', 'platform']].duplicated()]"
   ]
  },
  {
   "cell_type": "markdown",
   "id": "ffba562e",
   "metadata": {},
   "source": [
    "А так уже четыре, посмотрим на них."
   ]
  },
  {
   "cell_type": "code",
   "execution_count": 25,
   "id": "fa7edece",
   "metadata": {},
   "outputs": [
    {
     "data": {
      "text/html": [
       "<div>\n",
       "<style scoped>\n",
       "    .dataframe tbody tr th:only-of-type {\n",
       "        vertical-align: middle;\n",
       "    }\n",
       "\n",
       "    .dataframe tbody tr th {\n",
       "        vertical-align: top;\n",
       "    }\n",
       "\n",
       "    .dataframe thead th {\n",
       "        text-align: right;\n",
       "    }\n",
       "</style>\n",
       "<table border=\"1\" class=\"dataframe\">\n",
       "  <thead>\n",
       "    <tr style=\"text-align: right;\">\n",
       "      <th></th>\n",
       "      <th>name</th>\n",
       "      <th>platform</th>\n",
       "      <th>year_of_release</th>\n",
       "      <th>genre</th>\n",
       "      <th>na_sales</th>\n",
       "      <th>eu_sales</th>\n",
       "      <th>jp_sales</th>\n",
       "      <th>other_sales</th>\n",
       "      <th>critic_score</th>\n",
       "      <th>user_score</th>\n",
       "      <th>rating</th>\n",
       "      <th>sum_sales</th>\n",
       "    </tr>\n",
       "  </thead>\n",
       "  <tbody>\n",
       "    <tr>\n",
       "      <th>1745</th>\n",
       "      <td>Sonic the Hedgehog</td>\n",
       "      <td>PS3</td>\n",
       "      <td>2006</td>\n",
       "      <td>Platform</td>\n",
       "      <td>0.41</td>\n",
       "      <td>0.06</td>\n",
       "      <td>0.04</td>\n",
       "      <td>0.66</td>\n",
       "      <td>43</td>\n",
       "      <td>4.1</td>\n",
       "      <td>E10+</td>\n",
       "      <td>1.17</td>\n",
       "    </tr>\n",
       "    <tr>\n",
       "      <th>4127</th>\n",
       "      <td>Sonic the Hedgehog</td>\n",
       "      <td>PS3</td>\n",
       "      <td>&lt;NA&gt;</td>\n",
       "      <td>Platform</td>\n",
       "      <td>0.00</td>\n",
       "      <td>0.48</td>\n",
       "      <td>0.00</td>\n",
       "      <td>0.00</td>\n",
       "      <td>43</td>\n",
       "      <td>4.1</td>\n",
       "      <td>E10+</td>\n",
       "      <td>0.48</td>\n",
       "    </tr>\n",
       "  </tbody>\n",
       "</table>\n",
       "</div>"
      ],
      "text/plain": [
       "                    name platform  year_of_release     genre  na_sales  \\\n",
       "1745  Sonic the Hedgehog      PS3             2006  Platform      0.41   \n",
       "4127  Sonic the Hedgehog      PS3             <NA>  Platform      0.00   \n",
       "\n",
       "      eu_sales  jp_sales  other_sales  critic_score  user_score rating  \\\n",
       "1745      0.06      0.04         0.66            43         4.1   E10+   \n",
       "4127      0.48      0.00         0.00            43         4.1   E10+   \n",
       "\n",
       "      sum_sales  \n",
       "1745       1.17  \n",
       "4127       0.48  "
      ]
     },
     "metadata": {},
     "output_type": "display_data"
    },
    {
     "data": {
      "text/html": [
       "<div>\n",
       "<style scoped>\n",
       "    .dataframe tbody tr th:only-of-type {\n",
       "        vertical-align: middle;\n",
       "    }\n",
       "\n",
       "    .dataframe tbody tr th {\n",
       "        vertical-align: top;\n",
       "    }\n",
       "\n",
       "    .dataframe thead th {\n",
       "        text-align: right;\n",
       "    }\n",
       "</style>\n",
       "<table border=\"1\" class=\"dataframe\">\n",
       "  <thead>\n",
       "    <tr style=\"text-align: right;\">\n",
       "      <th></th>\n",
       "      <th>name</th>\n",
       "      <th>platform</th>\n",
       "      <th>year_of_release</th>\n",
       "      <th>genre</th>\n",
       "      <th>na_sales</th>\n",
       "      <th>eu_sales</th>\n",
       "      <th>jp_sales</th>\n",
       "      <th>other_sales</th>\n",
       "      <th>critic_score</th>\n",
       "      <th>user_score</th>\n",
       "      <th>rating</th>\n",
       "      <th>sum_sales</th>\n",
       "    </tr>\n",
       "  </thead>\n",
       "  <tbody>\n",
       "    <tr>\n",
       "      <th>5972</th>\n",
       "      <td>Need for Speed: Most Wanted</td>\n",
       "      <td>PC</td>\n",
       "      <td>2005</td>\n",
       "      <td>Racing</td>\n",
       "      <td>0.02</td>\n",
       "      <td>0.23</td>\n",
       "      <td>0.0</td>\n",
       "      <td>0.04</td>\n",
       "      <td>82</td>\n",
       "      <td>8.5</td>\n",
       "      <td>T</td>\n",
       "      <td>0.29</td>\n",
       "    </tr>\n",
       "    <tr>\n",
       "      <th>11715</th>\n",
       "      <td>Need for Speed: Most Wanted</td>\n",
       "      <td>PC</td>\n",
       "      <td>2012</td>\n",
       "      <td>Racing</td>\n",
       "      <td>0.00</td>\n",
       "      <td>0.06</td>\n",
       "      <td>0.0</td>\n",
       "      <td>0.02</td>\n",
       "      <td>82</td>\n",
       "      <td>8.5</td>\n",
       "      <td>T</td>\n",
       "      <td>0.08</td>\n",
       "    </tr>\n",
       "  </tbody>\n",
       "</table>\n",
       "</div>"
      ],
      "text/plain": [
       "                              name platform  year_of_release   genre  \\\n",
       "5972   Need for Speed: Most Wanted       PC             2005  Racing   \n",
       "11715  Need for Speed: Most Wanted       PC             2012  Racing   \n",
       "\n",
       "       na_sales  eu_sales  jp_sales  other_sales  critic_score  user_score  \\\n",
       "5972       0.02      0.23       0.0         0.04            82         8.5   \n",
       "11715      0.00      0.06       0.0         0.02            82         8.5   \n",
       "\n",
       "      rating  sum_sales  \n",
       "5972       T       0.29  \n",
       "11715      T       0.08  "
      ]
     },
     "metadata": {},
     "output_type": "display_data"
    },
    {
     "data": {
      "text/html": [
       "<div>\n",
       "<style scoped>\n",
       "    .dataframe tbody tr th:only-of-type {\n",
       "        vertical-align: middle;\n",
       "    }\n",
       "\n",
       "    .dataframe tbody tr th {\n",
       "        vertical-align: top;\n",
       "    }\n",
       "\n",
       "    .dataframe thead th {\n",
       "        text-align: right;\n",
       "    }\n",
       "</style>\n",
       "<table border=\"1\" class=\"dataframe\">\n",
       "  <thead>\n",
       "    <tr style=\"text-align: right;\">\n",
       "      <th></th>\n",
       "      <th>name</th>\n",
       "      <th>platform</th>\n",
       "      <th>year_of_release</th>\n",
       "      <th>genre</th>\n",
       "      <th>na_sales</th>\n",
       "      <th>eu_sales</th>\n",
       "      <th>jp_sales</th>\n",
       "      <th>other_sales</th>\n",
       "      <th>critic_score</th>\n",
       "      <th>user_score</th>\n",
       "      <th>rating</th>\n",
       "      <th>sum_sales</th>\n",
       "    </tr>\n",
       "  </thead>\n",
       "  <tbody>\n",
       "    <tr>\n",
       "      <th>1190</th>\n",
       "      <td>Need for Speed: Most Wanted</td>\n",
       "      <td>X360</td>\n",
       "      <td>2012</td>\n",
       "      <td>Racing</td>\n",
       "      <td>0.62</td>\n",
       "      <td>0.78</td>\n",
       "      <td>0.01</td>\n",
       "      <td>0.15</td>\n",
       "      <td>83</td>\n",
       "      <td>8.5</td>\n",
       "      <td>T</td>\n",
       "      <td>1.56</td>\n",
       "    </tr>\n",
       "    <tr>\n",
       "      <th>1591</th>\n",
       "      <td>Need for Speed: Most Wanted</td>\n",
       "      <td>X360</td>\n",
       "      <td>2005</td>\n",
       "      <td>Racing</td>\n",
       "      <td>1.00</td>\n",
       "      <td>0.13</td>\n",
       "      <td>0.02</td>\n",
       "      <td>0.10</td>\n",
       "      <td>83</td>\n",
       "      <td>8.5</td>\n",
       "      <td>T</td>\n",
       "      <td>1.25</td>\n",
       "    </tr>\n",
       "  </tbody>\n",
       "</table>\n",
       "</div>"
      ],
      "text/plain": [
       "                             name platform  year_of_release   genre  na_sales  \\\n",
       "1190  Need for Speed: Most Wanted     X360             2012  Racing      0.62   \n",
       "1591  Need for Speed: Most Wanted     X360             2005  Racing      1.00   \n",
       "\n",
       "      eu_sales  jp_sales  other_sales  critic_score  user_score rating  \\\n",
       "1190      0.78      0.01         0.15            83         8.5      T   \n",
       "1591      0.13      0.02         0.10            83         8.5      T   \n",
       "\n",
       "      sum_sales  \n",
       "1190       1.56  \n",
       "1591       1.25  "
      ]
     },
     "metadata": {},
     "output_type": "display_data"
    },
    {
     "data": {
      "text/html": [
       "<div>\n",
       "<style scoped>\n",
       "    .dataframe tbody tr th:only-of-type {\n",
       "        vertical-align: middle;\n",
       "    }\n",
       "\n",
       "    .dataframe tbody tr th {\n",
       "        vertical-align: top;\n",
       "    }\n",
       "\n",
       "    .dataframe thead th {\n",
       "        text-align: right;\n",
       "    }\n",
       "</style>\n",
       "<table border=\"1\" class=\"dataframe\">\n",
       "  <thead>\n",
       "    <tr style=\"text-align: right;\">\n",
       "      <th></th>\n",
       "      <th>name</th>\n",
       "      <th>platform</th>\n",
       "      <th>year_of_release</th>\n",
       "      <th>genre</th>\n",
       "      <th>na_sales</th>\n",
       "      <th>eu_sales</th>\n",
       "      <th>jp_sales</th>\n",
       "      <th>other_sales</th>\n",
       "      <th>critic_score</th>\n",
       "      <th>user_score</th>\n",
       "      <th>rating</th>\n",
       "      <th>sum_sales</th>\n",
       "    </tr>\n",
       "  </thead>\n",
       "  <tbody>\n",
       "    <tr>\n",
       "      <th>604</th>\n",
       "      <td>Madden NFL 13</td>\n",
       "      <td>PS3</td>\n",
       "      <td>2012</td>\n",
       "      <td>Sports</td>\n",
       "      <td>2.11</td>\n",
       "      <td>0.22</td>\n",
       "      <td>0.0</td>\n",
       "      <td>0.23</td>\n",
       "      <td>83</td>\n",
       "      <td>5.5</td>\n",
       "      <td>E</td>\n",
       "      <td>2.56</td>\n",
       "    </tr>\n",
       "    <tr>\n",
       "      <th>16230</th>\n",
       "      <td>Madden NFL 13</td>\n",
       "      <td>PS3</td>\n",
       "      <td>2012</td>\n",
       "      <td>Sports</td>\n",
       "      <td>0.00</td>\n",
       "      <td>0.01</td>\n",
       "      <td>0.0</td>\n",
       "      <td>0.00</td>\n",
       "      <td>83</td>\n",
       "      <td>5.5</td>\n",
       "      <td>E</td>\n",
       "      <td>0.01</td>\n",
       "    </tr>\n",
       "  </tbody>\n",
       "</table>\n",
       "</div>"
      ],
      "text/plain": [
       "                name platform  year_of_release   genre  na_sales  eu_sales  \\\n",
       "604    Madden NFL 13      PS3             2012  Sports      2.11      0.22   \n",
       "16230  Madden NFL 13      PS3             2012  Sports      0.00      0.01   \n",
       "\n",
       "       jp_sales  other_sales  critic_score  user_score rating  sum_sales  \n",
       "604         0.0         0.23            83         5.5      E       2.56  \n",
       "16230       0.0         0.00            83         5.5      E       0.01  "
      ]
     },
     "metadata": {},
     "output_type": "display_data"
    }
   ],
   "source": [
    "display(data.loc[(data['name'] == 'Sonic the Hedgehog') & (data['platform'] == 'PS3')])\n",
    "display(data.loc[(data['name'] == 'Need for Speed: Most Wanted') & (data['platform'] == 'PC')])\n",
    "display(data.loc[(data['name'] == 'Need for Speed: Most Wanted') & (data['platform'] == 'X360')])\n",
    "display(data.loc[(data['name'] == 'Madden NFL 13') & (data['platform'] == 'PS3')])"
   ]
  },
  {
   "cell_type": "markdown",
   "id": "5d4fac4a",
   "metadata": {},
   "source": [
    "`Need for Speed: Most Wanted` не дубликат, это перезапуск игры.   \n",
    "`Madden NFL 13` и `Sonic the Hedgehog` дубликаты, следует сложить показатели продаж и удалить вторую запись.\t"
   ]
  },
  {
   "cell_type": "code",
   "execution_count": 26,
   "id": "e0f8c53f",
   "metadata": {},
   "outputs": [
    {
     "data": {
      "text/html": [
       "<div>\n",
       "<style scoped>\n",
       "    .dataframe tbody tr th:only-of-type {\n",
       "        vertical-align: middle;\n",
       "    }\n",
       "\n",
       "    .dataframe tbody tr th {\n",
       "        vertical-align: top;\n",
       "    }\n",
       "\n",
       "    .dataframe thead th {\n",
       "        text-align: right;\n",
       "    }\n",
       "</style>\n",
       "<table border=\"1\" class=\"dataframe\">\n",
       "  <thead>\n",
       "    <tr style=\"text-align: right;\">\n",
       "      <th></th>\n",
       "      <th>name</th>\n",
       "      <th>platform</th>\n",
       "      <th>year_of_release</th>\n",
       "      <th>genre</th>\n",
       "      <th>na_sales</th>\n",
       "      <th>eu_sales</th>\n",
       "      <th>jp_sales</th>\n",
       "      <th>other_sales</th>\n",
       "      <th>critic_score</th>\n",
       "      <th>user_score</th>\n",
       "      <th>rating</th>\n",
       "      <th>sum_sales</th>\n",
       "    </tr>\n",
       "  </thead>\n",
       "  <tbody>\n",
       "    <tr>\n",
       "      <th>1745</th>\n",
       "      <td>Sonic the Hedgehog</td>\n",
       "      <td>PS3</td>\n",
       "      <td>2006</td>\n",
       "      <td>Platform</td>\n",
       "      <td>0.41</td>\n",
       "      <td>0.54</td>\n",
       "      <td>0.04</td>\n",
       "      <td>0.66</td>\n",
       "      <td>43</td>\n",
       "      <td>4.1</td>\n",
       "      <td>E10+</td>\n",
       "      <td>1.17</td>\n",
       "    </tr>\n",
       "  </tbody>\n",
       "</table>\n",
       "</div>"
      ],
      "text/plain": [
       "                    name platform  year_of_release     genre  na_sales  \\\n",
       "1745  Sonic the Hedgehog      PS3             2006  Platform      0.41   \n",
       "\n",
       "      eu_sales  jp_sales  other_sales  critic_score  user_score rating  \\\n",
       "1745      0.54      0.04         0.66            43         4.1   E10+   \n",
       "\n",
       "      sum_sales  \n",
       "1745       1.17  "
      ]
     },
     "metadata": {},
     "output_type": "display_data"
    },
    {
     "data": {
      "text/html": [
       "<div>\n",
       "<style scoped>\n",
       "    .dataframe tbody tr th:only-of-type {\n",
       "        vertical-align: middle;\n",
       "    }\n",
       "\n",
       "    .dataframe tbody tr th {\n",
       "        vertical-align: top;\n",
       "    }\n",
       "\n",
       "    .dataframe thead th {\n",
       "        text-align: right;\n",
       "    }\n",
       "</style>\n",
       "<table border=\"1\" class=\"dataframe\">\n",
       "  <thead>\n",
       "    <tr style=\"text-align: right;\">\n",
       "      <th></th>\n",
       "      <th>name</th>\n",
       "      <th>platform</th>\n",
       "      <th>year_of_release</th>\n",
       "      <th>genre</th>\n",
       "      <th>na_sales</th>\n",
       "      <th>eu_sales</th>\n",
       "      <th>jp_sales</th>\n",
       "      <th>other_sales</th>\n",
       "      <th>critic_score</th>\n",
       "      <th>user_score</th>\n",
       "      <th>rating</th>\n",
       "      <th>sum_sales</th>\n",
       "    </tr>\n",
       "  </thead>\n",
       "  <tbody>\n",
       "    <tr>\n",
       "      <th>604</th>\n",
       "      <td>Madden NFL 13</td>\n",
       "      <td>PS3</td>\n",
       "      <td>2012</td>\n",
       "      <td>Sports</td>\n",
       "      <td>2.11</td>\n",
       "      <td>0.23</td>\n",
       "      <td>0.0</td>\n",
       "      <td>0.23</td>\n",
       "      <td>83</td>\n",
       "      <td>5.5</td>\n",
       "      <td>E</td>\n",
       "      <td>2.56</td>\n",
       "    </tr>\n",
       "  </tbody>\n",
       "</table>\n",
       "</div>"
      ],
      "text/plain": [
       "              name platform  year_of_release   genre  na_sales  eu_sales  \\\n",
       "604  Madden NFL 13      PS3             2012  Sports      2.11      0.23   \n",
       "\n",
       "     jp_sales  other_sales  critic_score  user_score rating  sum_sales  \n",
       "604       0.0         0.23            83         5.5      E       2.56  "
      ]
     },
     "metadata": {},
     "output_type": "display_data"
    }
   ],
   "source": [
    "data.loc[1745,'eu_sales'] += 0.48\n",
    "data.loc[604,'eu_sales'] += 0.01\n",
    "data = data.drop(index=[4127, 16230])\n",
    "display(data.loc[(data['name'] == 'Sonic the Hedgehog') & (data['platform'] == 'PS3')])\n",
    "display(data.loc[(data['name'] == 'Madden NFL 13') & (data['platform'] == 'PS3')])"
   ]
  },
  {
   "cell_type": "markdown",
   "id": "58920f87",
   "metadata": {},
   "source": [
    "#### Вывод"
   ]
  },
  {
   "cell_type": "markdown",
   "id": "5f2b755d",
   "metadata": {},
   "source": [
    "В данных очень много пропусков.  \n",
    "Пропуски можно разделить на два вида: которые теоретически можно и нельзя восстановить.  \n",
    "Точно можно восстановить год выпуска для всех игр.  \n",
    "Рейтинг можно восстановить только для игр, которые проходили рецензирование в ESRB. Неизвестно какой процент пропусков можно восстановить и почему вообще какие-то игры были пропущены.  \n",
    "Пользовательскую оценку для старых игр, выходивших на физических носителях собрать вряд ли реально.  \n",
    "Оценку от критиков скорее всего можно найти по большинству игр. Другой вопрос каким журналам и сайтам мы доверяем в этом вопросе и откуда брались данные для датасета."
   ]
  },
  {
   "cell_type": "markdown",
   "id": "6f9a247c",
   "metadata": {},
   "source": [
    "### Исследовательский анализ данных"
   ]
  },
  {
   "cell_type": "markdown",
   "id": "0c18a921",
   "metadata": {},
   "source": [
    "#### Анализ по годам"
   ]
  },
  {
   "cell_type": "markdown",
   "id": "6a566c32",
   "metadata": {},
   "source": [
    "Посмотрите, сколько игр выпускалось в разные годы. Важны ли данные за все периоды?"
   ]
  },
  {
   "cell_type": "code",
   "execution_count": 28,
   "id": "4f6962b3",
   "metadata": {},
   "outputs": [
    {
     "data": {
      "image/png": "[encoded data removed]",
      "text/plain": [
       "<Figure size 720x288 with 1 Axes>"
      ]
     },
     "metadata": {
      "needs_background": "light"
     },
     "output_type": "display_data"
    }
   ],
   "source": [
    "(data.groupby('year_of_release')['name'].count()\n",
    "    .plot(kind='bar', figsize=(10,4),title='Количество игр по годам', xlabel='Год', ylabel='Число игр'))\n",
    "plt.show()"
   ]
  },
  {
   "cell_type": "markdown",
   "id": "46254fcc",
   "metadata": {},
   "source": [
    "До 1994 игр было очень мало. Что логично в компьютерные игры было просто не на чем играть.  \n",
    "В 2002 году видно резкий рост количества игр. Пик приходится на 2008-2009 год.  \n",
    "Интересно с чем связано резкое падения количества игр в 2010. Либо разработчики игр стали переводить количество в качество, либо в датасете учтены не все игры.   \n",
    "\n",
    "Данные до 2002 года скорее всего уже не актуальны. С тех пор игровая индустрия сильно изменилась, да и самих данных до 2002 года не так много."
   ]
  },
  {
   "cell_type": "code",
   "execution_count": 29,
   "id": "a4076b35",
   "metadata": {},
   "outputs": [
    {
     "data": {
      "image/png": "[encoded data removed]",
      "text/plain": [
       "<Figure size 720x288 with 1 Axes>"
      ]
     },
     "metadata": {
      "needs_background": "light"
     },
     "output_type": "display_data"
    }
   ],
   "source": [
    "(data.groupby('year_of_release')['sum_sales'].sum()\n",
    "    .plot(kind='bar', figsize=(10,4),title='Количество проданных копий по годам', xlabel='Год', ylabel='Млн. копий'))\n",
    "plt.show()"
   ]
  },
  {
   "cell_type": "markdown",
   "id": "bc7deda4",
   "metadata": {},
   "source": [
    "График покупок выглядит почти также, хотя можно было бы предположить, что количество купленных копий не так сильно упадёт."
   ]
  },
  {
   "cell_type": "markdown",
   "id": "8a4cd5c9",
   "metadata": {},
   "source": [
    "#### Анализ платформ"
   ]
  },
  {
   "cell_type": "markdown",
   "id": "2c0e8ee3",
   "metadata": {},
   "source": [
    "Посмотрите, как менялись продажи по платформам. Выберите платформы с наибольшими суммарными продажами и постройте распределение по годам. За какой характерный срок появляются новые и исчезают старые платформы?"
   ]
  },
  {
   "cell_type": "code",
   "execution_count": 30,
   "id": "7331bf08",
   "metadata": {},
   "outputs": [
    {
     "data": {
      "image/png": "[encoded data removed]",
      "text/plain": [
       "<Figure size 720x288 with 1 Axes>"
      ]
     },
     "metadata": {
      "needs_background": "light"
     },
     "output_type": "display_data"
    }
   ],
   "source": [
    "(data.loc[data['year_of_release'] > 2001].groupby('platform')['sum_sales'].sum().sort_values(ascending=False)\n",
    "    .plot(kind='bar', figsize=(10,4),title='Суммарное число продаж по платформам', xlabel='Платформа', ylabel='Млн. копий'))\n",
    "plt.show()"
   ]
  },
  {
   "cell_type": "markdown",
   "id": "e291c02a",
   "metadata": {},
   "source": [
    "Сильно выделяются первые пять платформ.  \n",
    "Примечательно отсутствие `PC` в топе. Либо многие игры для ПК не попали в датасет. Либо и прада в указанном временном промежутке консоли так сильно лидировали по продажам."
   ]
  },
  {
   "cell_type": "code",
   "execution_count": 31,
   "id": "d4e08ffc",
   "metadata": {},
   "outputs": [],
   "source": [
    "platforms = ['DS','PS2', 'PS3', 'Wii', 'X360']\n",
    "platform_sales_data = data.loc[(data['platform'].isin(platforms)) & (data['year_of_release'] > 2001)\n",
    "                               ,['platform','year_of_release','sum_sales']]"
   ]
  },
  {
   "cell_type": "code",
   "execution_count": 32,
   "id": "09b0f239",
   "metadata": {},
   "outputs": [
    {
     "data": {
      "image/png": "[encoded data removed]",
      "text/plain": [
       "<Figure size 720x360 with 1 Axes>"
      ]
     },
     "metadata": {
      "needs_background": "light"
     },
     "output_type": "display_data"
    }
   ],
   "source": [
    "pd.pivot_table(platform_sales_data,index = 'year_of_release',\n",
    "               columns = 'platform',aggfunc ='sum').plot.bar(figsize=(10,5))\n",
    "plt.title('Число продаж по годам для платформ')\n",
    "plt.xlabel('Год')\n",
    "plt.ylabel('Млн. копий')\n",
    "plt.legend(platforms);"
   ]
  },
  {
   "cell_type": "markdown",
   "id": "92566513",
   "metadata": {},
   "source": [
    "Первым в глаза бросается то, что все эти платформы совсем не популярны в 2015-2016 году. Пики их популярности давно прошли. \n",
    "* PS2: пик в 2002-2004 году, продажи до 2010 года, выпуск консоли был в 2000 году, он не попал на график;\n",
    "* DS: пик в 2005-2008 году, продажи с 2004 до 2013 года;\n",
    "* PS3: пик в 2011 году, продажи с 2006 до 2016 года;\n",
    "* Wii: пик в 2009 году, продажи с 2006 до 2015 год;\n",
    "* X360: пик в 2010 году, продажи с 2005 до 2015 года."
   ]
  },
  {
   "cell_type": "markdown",
   "id": "5e25e5c3",
   "metadata": {},
   "source": [
    "Срок жизни крупных платформ составляет 9-10 лет."
   ]
  },
  {
   "cell_type": "markdown",
   "id": "311fd73f",
   "metadata": {},
   "source": [
    "#### Выбор актуального периода"
   ]
  },
  {
   "cell_type": "markdown",
   "id": "93a13f55",
   "metadata": {},
   "source": [
    "Возьмите данные за соответствующий актуальный период. Актуальный период определите самостоятельно в результате исследования предыдущих вопросов. Основной фактор — эти данные помогут построить прогноз на 2017 год.\n",
    "Не учитывайте в работе данные за предыдущие годы."
   ]
  },
  {
   "cell_type": "markdown",
   "id": "88d90594",
   "metadata": {},
   "source": [
    "Я буду рассматривать данные с 2013 года.   \n",
    "Так как в это время стали терять популярность платформы старого поколения, а значит им на смену должны были прийти новые.  \n",
    "Можно было взять ещё меньший промежуток, но у нас тогда останется совсем мало данных. И, например, предпочтения по жанрам могли со временем меняться не так сильно, как поколения консолей."
   ]
  },
  {
   "cell_type": "code",
   "execution_count": 33,
   "id": "9e816311",
   "metadata": {},
   "outputs": [],
   "source": [
    "data_full = data.copy()"
   ]
  },
  {
   "cell_type": "code",
   "execution_count": 34,
   "id": "ac9b46b0",
   "metadata": {},
   "outputs": [],
   "source": [
    "data = data[data['year_of_release'] >= 2013]"
   ]
  },
  {
   "cell_type": "markdown",
   "id": "c2a71b4d",
   "metadata": {},
   "source": [
    "#### Выбор потенциально прибыльных платформ"
   ]
  },
  {
   "cell_type": "markdown",
   "id": "5732c26f",
   "metadata": {},
   "source": [
    "Какие платформы лидируют по продажам, растут или падают? Выберите несколько потенциально прибыльных платформ."
   ]
  },
  {
   "cell_type": "markdown",
   "id": "954f3024",
   "metadata": {},
   "source": [
    "Поищем платформы, на которых продажи растут. 2016 год в исследовании не участвует, так как за него данные неполные."
   ]
  },
  {
   "cell_type": "code",
   "execution_count": 35,
   "id": "801fd390",
   "metadata": {},
   "outputs": [
    {
     "data": {
      "text/plain": [
       "['PS4', 'XOne']"
      ]
     },
     "execution_count": 35,
     "metadata": {},
     "output_type": "execute_result"
    }
   ],
   "source": [
    "def increasing(sum):\n",
    "    try:\n",
    "        for i in range(2014,2016):\n",
    "            if sum[i] <= sum[i-1]:\n",
    "                return False\n",
    "        return True\n",
    "    except:\n",
    "        return False\n",
    "\n",
    "platforms = data['platform'].unique()\n",
    "increasing_platforms = []\n",
    "for platform in platforms:\n",
    "    if increasing(data[data['platform']==platform].groupby('year_of_release')['sum_sales'].sum()):\n",
    "        increasing_platforms.append(platform)\n",
    "increasing_platforms"
   ]
  },
  {
   "cell_type": "markdown",
   "id": "db66f009",
   "metadata": {},
   "source": [
    "Теперь взглянем на общую популярность платформ."
   ]
  },
  {
   "cell_type": "code",
   "execution_count": 36,
   "id": "ccd74df4",
   "metadata": {},
   "outputs": [
    {
     "data": {
      "image/png": "[encoded data removed]",
      "text/plain": [
       "<Figure size 720x288 with 1 Axes>"
      ]
     },
     "metadata": {
      "needs_background": "light"
     },
     "output_type": "display_data"
    }
   ],
   "source": [
    "(data.groupby('platform')['sum_sales'].sum().sort_values(ascending=False)\n",
    "    .plot(kind='bar', figsize=(10,4),title='Суммарное число продаж по платформам', xlabel='Платформа', ylabel='Млн. копий'))\n",
    "plt.show()"
   ]
  },
  {
   "cell_type": "markdown",
   "id": "8685af02",
   "metadata": {},
   "source": [
    "PS4 безоговорочный лидер по числу проданных копий. А также мы выяснили что популярность этой платформы росла с каждым годом.  \n",
    "PS3 ещё держится в топе, но её популярность падает, что логично с приходом нового поколения консоли.\n",
    "XOne третья в списке, а также её популярность растёт. На эту платформу также следует обратить внимание. X360 в сумме не сильно отстаёт от более современной версии, но её популярность падает.\n",
    "Построим график продаж по годам для `PS4 и XOne` добавим к ним также `3DS и WiiU`. Они входят в топ-6 продаж, но их популярность не растёт. Однако про них мы пока ничего не знаем, лучше взглянуть."
   ]
  },
  {
   "cell_type": "code",
   "execution_count": 37,
   "id": "7a983eea",
   "metadata": {},
   "outputs": [],
   "source": [
    "platforms = ['3DS', 'PS4', 'WiiU', 'XOne']\n",
    "platform_sales_data = data.loc[(data['platform'].isin(platforms))\n",
    "                               ,['platform','year_of_release','sum_sales']]"
   ]
  },
  {
   "cell_type": "code",
   "execution_count": 38,
   "id": "e335fb22",
   "metadata": {},
   "outputs": [
    {
     "data": {
      "image/png": "[encoded data removed]",
      "text/plain": [
       "<Figure size 720x360 with 1 Axes>"
      ]
     },
     "metadata": {
      "needs_background": "light"
     },
     "output_type": "display_data"
    }
   ],
   "source": [
    "pd.pivot_table(platform_sales_data,index = 'year_of_release',\n",
    "               columns = 'platform',aggfunc ='sum').plot.bar(figsize=(10,5),rot=0)\n",
    "plt.title('Число продаж по годам для платформ')\n",
    "plt.xlabel('Год')\n",
    "plt.ylabel('Млн. копий')\n",
    "plt.legend(platforms);"
   ]
  },
  {
   "cell_type": "markdown",
   "id": "9787870e",
   "metadata": {},
   "source": [
    "В 2014 году PS4 резко набрала популярность и только увеличила её в 2015. Скорее всего эта платформа всё ещё будет популярна в 2017.  \n",
    "У XOne не такой активный рост, но всё таки популярность платформы росла. Также следует ожидать, что платформа будет популярна в 2017 году.  \n",
    "Популярность 3DS сильно упала с 2013 года и скорее всего продолжит падать.\n",
    "Популярность WiiU менялась не сильно, однако она падает. И в целом число продаж в разы меньше чем у PS4 или XOne. Также за 2016 год WiiU набрала совсем примерно треть продаж 2015го года, в то время как другие платфомы набрали примерно половину."
   ]
  },
  {
   "cell_type": "markdown",
   "id": "99091c3b",
   "metadata": {},
   "source": [
    "Отдельно отметим отсутствие в списке популярных платформ PC. По данному датасету платформа вообще не перспективная. Я подозреваю что здесь нет и половины игр, реально выходивших на PC в это время. Например в Steam в 2015 году вышло 3000 игр. Показатели нашего датасета даже не близки к этим числам. Поэтому я решила не добавлять PC в обзоры.  \n",
    "\n",
    "Ниже я рассмотрела популярность PC по сравнению с другими платформами."
   ]
  },
  {
   "cell_type": "code",
   "execution_count": 39,
   "id": "a1c0d39e",
   "metadata": {},
   "outputs": [],
   "source": [
    "platforms = ['3DS', 'PS4', 'WiiU', 'XOne', 'PC']\n",
    "platform_sales_data = data.loc[(data['platform'].isin(platforms))\n",
    "                               ,['platform','year_of_release','sum_sales']]"
   ]
  },
  {
   "cell_type": "code",
   "execution_count": 40,
   "id": "a4d3fe84",
   "metadata": {},
   "outputs": [
    {
     "data": {
      "image/png": "[encoded data removed]",
      "text/plain": [
       "<Figure size 720x360 with 1 Axes>"
      ]
     },
     "metadata": {
      "needs_background": "light"
     },
     "output_type": "display_data"
    }
   ],
   "source": [
    "pd.pivot_table(platform_sales_data,index = 'year_of_release',\n",
    "               columns = 'platform',aggfunc ='sum').plot.bar(figsize=(10,5))\n",
    "plt.title('Число продаж по годам для платформ')\n",
    "plt.xlabel('Год')\n",
    "plt.ylabel('Млн. копий');"
   ]
  },
  {
   "cell_type": "markdown",
   "id": "58353df4",
   "metadata": {},
   "source": [
    "Как видно, если верить нашему датасету, PC угасающая платформа, менее популярная, чем WiiU.  \n",
    "Единственное что я считаю допстимым сделать в этой ситуации - это сделать вывод о недостаточном сборе данных по играм на ПК.  "
   ]
  },
  {
   "cell_type": "markdown",
   "id": "a5f0f9e0",
   "metadata": {},
   "source": [
    "#### Глобальные продажи по платформам"
   ]
  },
  {
   "cell_type": "markdown",
   "id": "541d5c0a",
   "metadata": {},
   "source": [
    "Постройте график «ящик с усами» по глобальным продажам игр в разбивке по платформам. Опишите результат."
   ]
  },
  {
   "cell_type": "code",
   "execution_count": 41,
   "id": "59cc1b3a",
   "metadata": {},
   "outputs": [
    {
     "data": {
      "image/png": "[encoded data removed]",
      "text/plain": [
       "<Figure size 1296x720 with 1 Axes>"
      ]
     },
     "metadata": {
      "needs_background": "light"
     },
     "output_type": "display_data"
    }
   ],
   "source": [
    "data.boxplot(by='platform', column='sum_sales', figsize=(18, 10))\n",
    "plt.title('Глобальные продажи игр по платформам')\n",
    "plt.xlabel('Платформа')\n",
    "plt.ylabel('Млн. копий');"
   ]
  },
  {
   "cell_type": "markdown",
   "id": "87cafd03",
   "metadata": {},
   "source": [
    "Самые популярные игры выходили на PS3, X360, PS4 и 3DS.   \n",
    "DS и PSP совсем не могут похвастаться хитами.   \n",
    "Отрежем выбросы, чтобы поближе взглнуть на квартили."
   ]
  },
  {
   "cell_type": "code",
   "execution_count": 42,
   "id": "19c6d344",
   "metadata": {},
   "outputs": [
    {
     "data": {
      "image/png": "[encoded data removed]",
      "text/plain": [
       "<Figure size 1440x720 with 1 Axes>"
      ]
     },
     "metadata": {
      "needs_background": "light"
     },
     "output_type": "display_data"
    }
   ],
   "source": [
    "data.boxplot(by='platform', column='sum_sales', figsize=(20, 10))\n",
    "plt.ylim(0, 2)\n",
    "plt.title('Глобальные продажи игр по платформам')\n",
    "plt.xlabel('Платформа')\n",
    "plt.ylabel('Млн. копий')\n",
    "plt.show();"
   ]
  },
  {
   "cell_type": "markdown",
   "id": "fc5480fe",
   "metadata": {},
   "source": [
    "Медианное значение отличается не слишком сильно. У всех кроме `XOne` оно лежит в пределах 0.25 млн, `XOne` немного превысил эту планку. \n",
    "А вот Q3 уже имеет более значитаельные различия.  \n",
    "У самых непопулярных платформ `PSP, PSV, PC, DS, 3DS` он также не превышает 0.3 млн.   \n",
    "У `PS4, Wii, X360` Q3 примерно равен 0.75 млн. Немного от них отстают `XOne, WiiU` с примерно 0.6 и 0.7 соответственно."
   ]
  },
  {
   "cell_type": "markdown",
   "id": "02d0bc9b",
   "metadata": {},
   "source": [
    "#### Влияние отзывов на продажи на самой популярной платформе"
   ]
  },
  {
   "cell_type": "markdown",
   "id": "1cbd9a77",
   "metadata": {},
   "source": [
    "Посмотрите, как влияют на продажи внутри одной популярной платформы отзывы пользователей и критиков. Постройте диаграмму рассеяния и посчитайте корреляцию между отзывами и продажами. Сформулируйте выводы."
   ]
  },
  {
   "cell_type": "markdown",
   "id": "4dc2745b",
   "metadata": {},
   "source": [
    "Самая популярная платформа это PS4."
   ]
  },
  {
   "cell_type": "code",
   "execution_count": 43,
   "id": "2ace0b07",
   "metadata": {},
   "outputs": [],
   "source": [
    "data_ps4 = data.loc[data['platform'] == 'PS4',['critic_score','user_score','sum_sales']]"
   ]
  },
  {
   "cell_type": "code",
   "execution_count": 44,
   "id": "331845f4",
   "metadata": {},
   "outputs": [
    {
     "data": {
      "image/png": "[encoded data removed]",
      "text/plain": [
       "<Figure size 432x288 with 9 Axes>"
      ]
     },
     "metadata": {
      "needs_background": "light"
     },
     "output_type": "display_data"
    }
   ],
   "source": [
    "pd.plotting.scatter_matrix(data_ps4, alpha=0.5);"
   ]
  },
  {
   "cell_type": "code",
   "execution_count": 45,
   "id": "9dc9e202",
   "metadata": {},
   "outputs": [
    {
     "data": {
      "text/html": [
       "<style  type=\"text/css\" >\n",
       "#T_d1a2b_row0_col0{\n",
       "            background-color:  #b40426;\n",
       "            color:  #f1f1f1;\n",
       "        }#T_d1a2b_row1_col0{\n",
       "            background-color:  #c7d7f0;\n",
       "            color:  #000000;\n",
       "        }#T_d1a2b_row2_col0{\n",
       "            background-color:  #3b4cc0;\n",
       "            color:  #f1f1f1;\n",
       "        }</style><table id=\"T_d1a2b_\" ><thead>    <tr>        <th class=\"blank level0\" ></th>        <th class=\"col_heading level0 col0\" >sum_sales</th>    </tr></thead><tbody>\n",
       "                <tr>\n",
       "                        <th id=\"T_d1a2b_level0_row0\" class=\"row_heading level0 row0\" >sum_sales</th>\n",
       "                        <td id=\"T_d1a2b_row0_col0\" class=\"data row0 col0\" >1.0</td>\n",
       "            </tr>\n",
       "            <tr>\n",
       "                        <th id=\"T_d1a2b_level0_row1\" class=\"row_heading level0 row1\" >critic_score</th>\n",
       "                        <td id=\"T_d1a2b_row1_col0\" class=\"data row1 col0\" >0.4</td>\n",
       "            </tr>\n",
       "            <tr>\n",
       "                        <th id=\"T_d1a2b_level0_row2\" class=\"row_heading level0 row2\" >user_score</th>\n",
       "                        <td id=\"T_d1a2b_row2_col0\" class=\"data row2 col0\" >-0.0</td>\n",
       "            </tr>\n",
       "    </tbody></table>"
      ],
      "text/plain": [
       "<pandas.io.formats.style.Styler at 0x7f9e5e45ed90>"
      ]
     },
     "execution_count": 45,
     "metadata": {},
     "output_type": "execute_result"
    }
   ],
   "source": [
    "(data_ps4.corr()['sum_sales'].sort_values(ascending=False).to_frame()\n",
    "     .style.set_precision(1).background_gradient('coolwarm'))"
   ]
  },
  {
   "cell_type": "markdown",
   "id": "de7ef709",
   "metadata": {},
   "source": [
    "По графику видно, что у самых продаваемых игр хорошие отзывы от критиков. А вот непопулярные игры получали как высокие, так и низкие оценки от критиков.  \n",
    "Корреляция продаж и озывов критиков есть, но слабая.   \n",
    "Корреляция продаж и отзывов пользователей нулевая. Игроки, в отличии от критиков, могут низко оценить популярную игру. Хотя по графику видно, что отзывы критиков и пользователей имеют прямую корреляцию, видимо достатчно слабую."
   ]
  },
  {
   "cell_type": "markdown",
   "id": "c8da3353",
   "metadata": {},
   "source": [
    "####  Влияние отзывов на продажи остальных платформах"
   ]
  },
  {
   "cell_type": "markdown",
   "id": "428a0264",
   "metadata": {},
   "source": [
    "Соотнесите выводы с продажами игр на других платформах."
   ]
  },
  {
   "cell_type": "code",
   "execution_count": 46,
   "id": "07669c21",
   "metadata": {},
   "outputs": [],
   "source": [
    "data_not_ps4 = data.loc[data['platform'] != 'PS4',['critic_score','user_score','sum_sales']]"
   ]
  },
  {
   "cell_type": "code",
   "execution_count": 47,
   "id": "990b002e",
   "metadata": {},
   "outputs": [
    {
     "data": {
      "image/png": "[encoded data removed]",
      "text/plain": [
       "<Figure size 432x288 with 9 Axes>"
      ]
     },
     "metadata": {
      "needs_background": "light"
     },
     "output_type": "display_data"
    }
   ],
   "source": [
    "pd.plotting.scatter_matrix(data_not_ps4, alpha=0.5);"
   ]
  },
  {
   "cell_type": "code",
   "execution_count": 48,
   "id": "74ba4113",
   "metadata": {},
   "outputs": [
    {
     "data": {
      "text/html": [
       "<style  type=\"text/css\" >\n",
       "#T_20501_row0_col0{\n",
       "            background-color:  #b40426;\n",
       "            color:  #f1f1f1;\n",
       "        }#T_20501_row1_col0{\n",
       "            background-color:  #98b9ff;\n",
       "            color:  #000000;\n",
       "        }#T_20501_row2_col0{\n",
       "            background-color:  #3b4cc0;\n",
       "            color:  #f1f1f1;\n",
       "        }</style><table id=\"T_20501_\" ><thead>    <tr>        <th class=\"blank level0\" ></th>        <th class=\"col_heading level0 col0\" >sum_sales</th>    </tr></thead><tbody>\n",
       "                <tr>\n",
       "                        <th id=\"T_20501_level0_row0\" class=\"row_heading level0 row0\" >sum_sales</th>\n",
       "                        <td id=\"T_20501_row0_col0\" class=\"data row0 col0\" >1.0</td>\n",
       "            </tr>\n",
       "            <tr>\n",
       "                        <th id=\"T_20501_level0_row1\" class=\"row_heading level0 row1\" >critic_score</th>\n",
       "                        <td id=\"T_20501_row1_col0\" class=\"data row1 col0\" >0.3</td>\n",
       "            </tr>\n",
       "            <tr>\n",
       "                        <th id=\"T_20501_level0_row2\" class=\"row_heading level0 row2\" >user_score</th>\n",
       "                        <td id=\"T_20501_row2_col0\" class=\"data row2 col0\" >-0.0</td>\n",
       "            </tr>\n",
       "    </tbody></table>"
      ],
      "text/plain": [
       "<pandas.io.formats.style.Styler at 0x7f9e5e08ed00>"
      ]
     },
     "execution_count": 48,
     "metadata": {},
     "output_type": "execute_result"
    }
   ],
   "source": [
    "data_not_ps4.corr()['sum_sales'].sort_values(ascending=False).to_frame().style.set_precision(1).background_gradient('coolwarm')"
   ]
  },
  {
   "cell_type": "markdown",
   "id": "a153650f",
   "metadata": {},
   "source": [
    "В целом значения похожи, разве что корреляция продаж с отзывами критиков ещё более слабая."
   ]
  },
  {
   "cell_type": "markdown",
   "id": "728fd646",
   "metadata": {},
   "source": [
    "#### Влияние отзывов на продажи на платформе PS3"
   ]
  },
  {
   "cell_type": "code",
   "execution_count": 49,
   "id": "7a7c9403",
   "metadata": {},
   "outputs": [
    {
     "data": {
      "image/png": "[encoded data removed]",
      "text/plain": [
       "<Figure size 432x288 with 9 Axes>"
      ]
     },
     "metadata": {
      "needs_background": "light"
     },
     "output_type": "display_data"
    }
   ],
   "source": [
    "data_ps3 = data.loc[data['platform'] == 'PS3',['critic_score','user_score','sum_sales']]\n",
    "pd.plotting.scatter_matrix(data_ps3, alpha=0.5);"
   ]
  },
  {
   "cell_type": "code",
   "execution_count": 50,
   "id": "6809519f",
   "metadata": {},
   "outputs": [
    {
     "data": {
      "text/html": [
       "<style  type=\"text/css\" >\n",
       "#T_047d8_row0_col0{\n",
       "            background-color:  #b40426;\n",
       "            color:  #f1f1f1;\n",
       "        }#T_047d8_row1_col0{\n",
       "            background-color:  #aac7fd;\n",
       "            color:  #000000;\n",
       "        }#T_047d8_row2_col0{\n",
       "            background-color:  #3b4cc0;\n",
       "            color:  #f1f1f1;\n",
       "        }</style><table id=\"T_047d8_\" ><thead>    <tr>        <th class=\"blank level0\" ></th>        <th class=\"col_heading level0 col0\" >sum_sales</th>    </tr></thead><tbody>\n",
       "                <tr>\n",
       "                        <th id=\"T_047d8_level0_row0\" class=\"row_heading level0 row0\" >sum_sales</th>\n",
       "                        <td id=\"T_047d8_row0_col0\" class=\"data row0 col0\" >1.0</td>\n",
       "            </tr>\n",
       "            <tr>\n",
       "                        <th id=\"T_047d8_level0_row1\" class=\"row_heading level0 row1\" >critic_score</th>\n",
       "                        <td id=\"T_047d8_row1_col0\" class=\"data row1 col0\" >0.3</td>\n",
       "            </tr>\n",
       "            <tr>\n",
       "                        <th id=\"T_047d8_level0_row2\" class=\"row_heading level0 row2\" >user_score</th>\n",
       "                        <td id=\"T_047d8_row2_col0\" class=\"data row2 col0\" >0.0</td>\n",
       "            </tr>\n",
       "    </tbody></table>"
      ],
      "text/plain": [
       "<pandas.io.formats.style.Styler at 0x7f9e5dfa77c0>"
      ]
     },
     "execution_count": 50,
     "metadata": {},
     "output_type": "execute_result"
    }
   ],
   "source": [
    "(data_ps3.corr()['sum_sales'].sort_values(ascending=False).to_frame()\n",
    "     .style.set_precision(1).background_gradient('coolwarm'))"
   ]
  },
  {
   "cell_type": "markdown",
   "id": "51baefaa",
   "metadata": {},
   "source": [
    "В целом значения похожи на значения для PS4, только корреляция продаж с отзывами критиков ещё более слабая."
   ]
  },
  {
   "cell_type": "markdown",
   "id": "6ad75917",
   "metadata": {},
   "source": [
    "#### Влияние отзывов на продажи на платформе XOne"
   ]
  },
  {
   "cell_type": "code",
   "execution_count": 51,
   "id": "05ff518b",
   "metadata": {},
   "outputs": [
    {
     "data": {
      "image/png": "[encoded data removed]",
      "text/plain": [
       "<Figure size 432x288 with 9 Axes>"
      ]
     },
     "metadata": {
      "needs_background": "light"
     },
     "output_type": "display_data"
    }
   ],
   "source": [
    "data_XOne = data.loc[data['platform'] == 'XOne',['critic_score','user_score','sum_sales']]\n",
    "pd.plotting.scatter_matrix(data_XOne, alpha=0.5);"
   ]
  },
  {
   "cell_type": "code",
   "execution_count": 52,
   "id": "6cccc338",
   "metadata": {},
   "outputs": [
    {
     "data": {
      "text/html": [
       "<style  type=\"text/css\" >\n",
       "#T_59922_row0_col0{\n",
       "            background-color:  #b40426;\n",
       "            color:  #f1f1f1;\n",
       "        }#T_59922_row1_col0{\n",
       "            background-color:  #d1dae9;\n",
       "            color:  #000000;\n",
       "        }#T_59922_row2_col0{\n",
       "            background-color:  #3b4cc0;\n",
       "            color:  #f1f1f1;\n",
       "        }</style><table id=\"T_59922_\" ><thead>    <tr>        <th class=\"blank level0\" ></th>        <th class=\"col_heading level0 col0\" >sum_sales</th>    </tr></thead><tbody>\n",
       "                <tr>\n",
       "                        <th id=\"T_59922_level0_row0\" class=\"row_heading level0 row0\" >sum_sales</th>\n",
       "                        <td id=\"T_59922_row0_col0\" class=\"data row0 col0\" >1.0</td>\n",
       "            </tr>\n",
       "            <tr>\n",
       "                        <th id=\"T_59922_level0_row1\" class=\"row_heading level0 row1\" >critic_score</th>\n",
       "                        <td id=\"T_59922_row1_col0\" class=\"data row1 col0\" >0.4</td>\n",
       "            </tr>\n",
       "            <tr>\n",
       "                        <th id=\"T_59922_level0_row2\" class=\"row_heading level0 row2\" >user_score</th>\n",
       "                        <td id=\"T_59922_row2_col0\" class=\"data row2 col0\" >-0.1</td>\n",
       "            </tr>\n",
       "    </tbody></table>"
      ],
      "text/plain": [
       "<pandas.io.formats.style.Styler at 0x7f9e5daff280>"
      ]
     },
     "execution_count": 52,
     "metadata": {},
     "output_type": "execute_result"
    }
   ],
   "source": [
    "(data_XOne.corr()['sum_sales'].sort_values(ascending=False).to_frame()\n",
    "     .style.set_precision(1).background_gradient('coolwarm'))"
   ]
  },
  {
   "cell_type": "markdown",
   "id": "71f3d114",
   "metadata": {},
   "source": [
    "Значения корреляции такие же, как для PS4. А графики менее кучные, из-за отсутсвия сильных выбросов с очень популярными играми."
   ]
  },
  {
   "cell_type": "markdown",
   "id": "75f70ddd",
   "metadata": {},
   "source": [
    "#### Анализ жанров"
   ]
  },
  {
   "cell_type": "markdown",
   "id": "985055b0",
   "metadata": {},
   "source": [
    "Посмотрите на общее распределение игр по жанрам. Что можно сказать о самых прибыльных жанрах? Выделяются ли жанры с высокими и низкими продажами?"
   ]
  },
  {
   "cell_type": "code",
   "execution_count": 53,
   "id": "3a96eea3",
   "metadata": {},
   "outputs": [
    {
     "data": {
      "image/png": "[encoded data removed]",
      "text/plain": [
       "<Figure size 432x288 with 1 Axes>"
      ]
     },
     "metadata": {
      "needs_background": "light"
     },
     "output_type": "display_data"
    }
   ],
   "source": [
    "data.groupby('genre')['sum_sales'].sum().sort_values().plot(kind='barh')\n",
    "plt.title('Число продаж по жанрам')\n",
    "plt.xlabel('Млн. копий')\n",
    "plt.ylabel('Жанр');"
   ]
  },
  {
   "cell_type": "markdown",
   "id": "f9b7de64",
   "metadata": {},
   "source": [
    "Экшены и шутеры пользуются повышенным спросом. От них отстают спортивные игры и РПГ.  \n",
    "Остальные жанры малопопулярные. Среди них самый непопулярный это паззлы."
   ]
  },
  {
   "cell_type": "code",
   "execution_count": 54,
   "id": "e7060251",
   "metadata": {},
   "outputs": [
    {
     "data": {
      "image/png": "[encoded data removed]",
      "text/plain": [
       "<Figure size 1296x720 with 1 Axes>"
      ]
     },
     "metadata": {
      "needs_background": "light"
     },
     "output_type": "display_data"
    }
   ],
   "source": [
    "data.boxplot(by='genre', column='sum_sales', figsize=(18, 10))\n",
    "plt.title('Глобальные продажи игр по жанрам')\n",
    "plt.xlabel('Жанр')\n",
    "plt.ylabel('Млн. копий');"
   ]
  },
  {
   "cell_type": "markdown",
   "id": "f9ebded2",
   "metadata": {},
   "source": [
    "Самые хитовые игры с продажами выше 15 млн копий выходили только в жанре Action.  \n",
    "Жанры RPG и Shooter имеют экземпляры с продажами от 10 до 15 млн. копий.  \n",
    "Жанры Fighting, Racing, Simulation и Sports имеют экземпляры с продажами от 5 до 10 млн. копий.  \n",
    "Жанры Adventure, Platform, Puzzle и Strategy никогда не перешаггивали отметку в 5 млн. копий."
   ]
  },
  {
   "cell_type": "code",
   "execution_count": 55,
   "id": "f2a63498",
   "metadata": {},
   "outputs": [
    {
     "data": {
      "image/png": "[encoded data removed]",
      "text/plain": [
       "<Figure size 1440x720 with 1 Axes>"
      ]
     },
     "metadata": {
      "needs_background": "light"
     },
     "output_type": "display_data"
    }
   ],
   "source": [
    "data.boxplot(by='genre', column='sum_sales', figsize=(20, 10))\n",
    "plt.ylim(0, 1.5)\n",
    "plt.title('Глобальные продажи игр по жанрам')\n",
    "plt.xlabel('Жанр')\n",
    "plt.ylabel('Млн. копий')\n",
    "plt.show();"
   ]
  },
  {
   "cell_type": "markdown",
   "id": "1a23cdc6",
   "metadata": {},
   "source": [
    "Самое лучшие показатель у жанра Shooter: медиана примерно 0.45 млн., Q3 чуть больше 1.4 млн, а Q1 превышает медиану большинства других жанров.  \n",
    "Жанры Platform и Sports имеют медиану чуть меньше 0.25 млн, а вот Q3 у Sports выше - 0.75 против 0.6 у Platform.   \n",
    "Жанры Action, Fighting, Misc, Racing, RPG, Simulation имеют медиану в районе 0.10-0.15 млн. копий. Значение Q3 в диапазоне 0.3-0.4 млн. копий.  \n",
    "Жанр Strategy отстаёт, его Q3 чуть меньше 0.25 млн. А вот показатели Adventure и Puzzle совсем плохие: Q3 меньше 0.15 млн. копий."
   ]
  },
  {
   "cell_type": "markdown",
   "id": "7f7c00d5",
   "metadata": {},
   "source": [
    "#### Вывод"
   ]
  },
  {
   "cell_type": "markdown",
   "id": "aa74d0c5",
   "metadata": {},
   "source": [
    "По количеству игр пик приходится на 2008-2009 года, до этого был постепенный рост, а в 2010 резкий спад.  \n",
    "Интересно было бы взглянуть на цены игр. Возможно игр стало меньше, но они стали дороже.  \n",
    "За всё время самые популярные платформы это PS2, 'X360, PS3', Wii, DS. Однако их популярность давно прошла и сейчас на этих платформах игры почти не продаются.  \n",
    "\n",
    "Для анализа более актуальных данных был выбран период с 2013 года. \n",
    "Самой популярной платформой за это время является PS4. Также довольно популярна платформа XOne. \n",
    "Также у PS4 и XOne в последние года росла популярность. Значит следует ожидать что и в 2017 году эти платформы будут в топе по популярности.  \n",
    "\n",
    "В период с 2013 по 2016 год самые популярные игры выходили на PS3, X360, PS4 и 3DS. А вот DS и PSP совсем не могут похвастаться хитами.  \n",
    "Медианное число проданных копий каждой игры не сильно отличается между платформами. И лежит в пределах 0.3 млн. \n",
    "Третий квартиль числа проданных копий отличается сильнее. У самых непопулярных платформ PSP, PSV, PC, DS, 3DS он также не превышает 0.3 млн. У PS4, Wii, X360 Q3 примерно равен 0.75 млн. Немного от них отстают XOne, WiiU с примерно 0.6 и 0.7 соответственно.  \n",
    "\n",
    "Корреляция продаж и озывов критиков есть, но слабая. У самых продаваемых игр хорошие отзывы от критиков. А вот непопулярные игры получали как высокие, так и низкие оценки от критиков.\n",
    "Корреляция продаж и отзывов пользователей нулевая. Игроки, в отличии от критиков, могут низко оценить популярную игру.   \n",
    "\n",
    "Экшены и шутеры пользуются повышенным спросом. От них отстают спортивные игры и РПГ.\n",
    "Остальные жанры малопопулярные. Среди них самый непопулярный это паззлы."
   ]
  },
  {
   "cell_type": "markdown",
   "id": "9f45649d",
   "metadata": {},
   "source": [
    "### Портрет пользователя по регионам"
   ]
  },
  {
   "cell_type": "markdown",
   "id": "c048f511",
   "metadata": {},
   "source": [
    "#### Самые популярные платформы"
   ]
  },
  {
   "cell_type": "code",
   "execution_count": 56,
   "id": "76fba220",
   "metadata": {},
   "outputs": [
    {
     "data": {
      "image/png": "[encoded data removed]",
      "text/plain": [
       "<Figure size 432x288 with 1 Axes>"
      ]
     },
     "metadata": {
      "needs_background": "light"
     },
     "output_type": "display_data"
    }
   ],
   "source": [
    "(data.groupby('platform')[['na_sales','eu_sales','jp_sales']].sum()\n",
    "    .sort_values(by='na_sales', ascending=False).plot.bar(rot=0, xlabel='Платформа', ylabel='Млн. копий'));"
   ]
  },
  {
   "cell_type": "markdown",
   "id": "3f6e5f38",
   "metadata": {},
   "source": [
    "Японский рынок очень сильно отличается от Америки и Европы.   \n",
    "Самая популярная в Европе и Америке платформа - PS4, в Японии - 3DS.  \n",
    "Топ-5 платформ по регионам:\n",
    "* Америка: PS4, XOne, X360, PS3, 3DS\n",
    "* Европа: PS4, PS3, XOne, X360, 3DS\n",
    "* Япония: 3DS, PS3, PSV, PS4, WiiU\n",
    "\n",
    "Европа от Америки отличается только тем, что PS3 там обходит XOne и X360 по популярности.   \n",
    "В Японии же более популярны портативные консоли: 3DS, PSV, WiiU. А из домашних консолей присутсвуют только PS3 и PS4. "
   ]
  },
  {
   "cell_type": "code",
   "execution_count": 57,
   "id": "d3dbf0d1",
   "metadata": {},
   "outputs": [],
   "source": [
    "def create_top_5_and_other(series):\n",
    "    series = series.sort_values(ascending=False)\n",
    "    sum = pd.Series(series.tail(-5).sum(), index=['Other'])\n",
    "    series = series.head(5)\n",
    "    series = series.append(sum)\n",
    "    return series"
   ]
  },
  {
   "cell_type": "code",
   "execution_count": 58,
   "id": "a93baddd",
   "metadata": {},
   "outputs": [],
   "source": [
    "na_platform = create_top_5_and_other(data.groupby('platform')['na_sales'].sum())\n",
    "eu_platform = create_top_5_and_other(data.groupby('platform')['eu_sales'].sum())\n",
    "jp_platform = create_top_5_and_other(data.groupby('platform')['jp_sales'].sum())"
   ]
  },
  {
   "cell_type": "code",
   "execution_count": 59,
   "id": "a53ab951",
   "metadata": {},
   "outputs": [
    {
     "data": {
      "image/png": "[encoded data removed]",
      "text/plain": [
       "<Figure size 720x288 with 3 Axes>"
      ]
     },
     "metadata": {},
     "output_type": "display_data"
    }
   ],
   "source": [
    "fig, axs = plt.subplots(1,3, figsize=(10, 4))\n",
    "na_platform.plot(kind='pie',ax=axs[0], title='Северная Америка', autopct='%1.0f%%',ylabel='')\n",
    "eu_platform.plot(kind='pie',ax=axs[1], title='Европа', autopct='%1.0f%%',ylabel='')\n",
    "jp_platform.plot(kind='pie',ax=axs[2], title='Япония', autopct='%1.0f%%',ylabel='')\n",
    "fig.suptitle('Обзор рынка платформ')\n",
    "plt.show()"
   ]
  },
  {
   "cell_type": "markdown",
   "id": "7c6b7fe2",
   "metadata": {},
   "source": [
    "Так лучше понятно, что рынок Северной Америки распределён более равномерно. В Европе PS4 занипает треть рынка. А в Японии 3DS занимает почти половину."
   ]
  },
  {
   "cell_type": "markdown",
   "id": "0341a470",
   "metadata": {},
   "source": [
    "#### Самые популярные жанры"
   ]
  },
  {
   "cell_type": "code",
   "execution_count": 60,
   "id": "9164eeea",
   "metadata": {},
   "outputs": [
    {
     "data": {
      "image/png": "[encoded data removed]",
      "text/plain": [
       "<Figure size 432x288 with 1 Axes>"
      ]
     },
     "metadata": {
      "needs_background": "light"
     },
     "output_type": "display_data"
    }
   ],
   "source": [
    "(data.groupby('genre')[['na_sales','eu_sales','jp_sales']].sum()\n",
    "    .sort_values(by='na_sales', ascending=False).plot.bar(xlabel='Жанр', ylabel='Млн. копий'));"
   ]
  },
  {
   "cell_type": "markdown",
   "id": "3a315073",
   "metadata": {},
   "source": [
    "Здесь снова почти одинаковые Европа и Америка и отличающаяся Япония.   \n",
    "Самые популярные жанры: в Европе и Америке по убыванию:. \n",
    "* Европа: action, shooter, sports, RPG, racing\n",
    "* Америка: action, shooter, sports, RPG, misc\n",
    "* Япония: RPG, action, misc, fighting, shooter"
   ]
  },
  {
   "cell_type": "code",
   "execution_count": 61,
   "id": "78817fb0",
   "metadata": {},
   "outputs": [],
   "source": [
    "na_genre = create_top_5_and_other(data.groupby('genre')['na_sales'].sum())\n",
    "eu_genre = create_top_5_and_other(data.groupby('genre')['eu_sales'].sum())\n",
    "jp_genre = create_top_5_and_other(data.groupby('genre')['jp_sales'].sum())"
   ]
  },
  {
   "cell_type": "code",
   "execution_count": 62,
   "id": "8aa0bcbf",
   "metadata": {},
   "outputs": [
    {
     "data": {
      "image/png": "[encoded data removed]",
      "text/plain": [
       "<Figure size 720x288 with 3 Axes>"
      ]
     },
     "metadata": {},
     "output_type": "display_data"
    }
   ],
   "source": [
    "fig, axs = plt.subplots(1,3, figsize=(10, 4))\n",
    "na_genre.plot(kind='pie',ax=axs[0], title='Северная Америка', autopct='%1.0f%%',ylabel='')\n",
    "eu_genre.plot(kind='pie',ax=axs[1], title='Европа', autopct='%1.0f%%',ylabel='')\n",
    "jp_genre.plot(kind='pie',ax=axs[2], title='Япония', autopct='%1.0f%%',ylabel='')\n",
    "fig.suptitle('Обзор рынка жанров')\n",
    "plt.show()"
   ]
  },
  {
   "cell_type": "markdown",
   "id": "4b2da41b",
   "metadata": {},
   "source": [
    "Распределение жанров в Америке и Европе почти одинаковое: экшн и шутеры занимают половину рынка.  \n",
    "В Японии чуть больше трети приходится на RPG и чуть меньше трети на экшн."
   ]
  },
  {
   "cell_type": "markdown",
   "id": "81ec4825",
   "metadata": {},
   "source": [
    "#### Влияние рейтинга ESRB на продажи"
   ]
  },
  {
   "cell_type": "code",
   "execution_count": 63,
   "id": "bec4f48e",
   "metadata": {},
   "outputs": [
    {
     "data": {
      "image/png": "[encoded data removed]",
      "text/plain": [
       "<Figure size 432x288 with 1 Axes>"
      ]
     },
     "metadata": {
      "needs_background": "light"
     },
     "output_type": "display_data"
    }
   ],
   "source": [
    "(data.groupby('rating')[['na_sales','eu_sales','jp_sales']].sum()\n",
    "    .sort_values(by='na_sales', ascending=False).plot.bar(xlabel='Рейтинг', ylabel='Млн. копий'));"
   ]
  },
  {
   "cell_type": "markdown",
   "id": "fc09cc8c",
   "metadata": {},
   "source": [
    "Возрастные ограничения рейтингов: E - 0+, E10+ - 10+, T - 13+, M - 17+.\n",
    "Популярность рейтингов по регионам:\n",
    "* Америка: M, E, E10+, T\n",
    "* Европа: M, E, E10+, T\n",
    "* Япония: T, E, M, E10+\n",
    "\n",
    "В Америке и Европе самый популярный рейтинг M - для взрослых. В Японии T - для подростков."
   ]
  },
  {
   "cell_type": "code",
   "execution_count": 64,
   "id": "3bab1c40",
   "metadata": {},
   "outputs": [],
   "source": [
    "na_rating = data.groupby('rating', dropna=False)['na_sales'].sum()\n",
    "eu_rating = data.groupby('rating', dropna=False)['eu_sales'].sum()\n",
    "jp_rating = data.groupby('rating', dropna=False)['jp_sales'].sum()"
   ]
  },
  {
   "cell_type": "code",
   "execution_count": 65,
   "id": "79791f70",
   "metadata": {},
   "outputs": [
    {
     "data": {
      "image/png": "[encoded data removed]",
      "text/plain": [
       "<Figure size 720x288 with 3 Axes>"
      ]
     },
     "metadata": {},
     "output_type": "display_data"
    }
   ],
   "source": [
    "fig, axs = plt.subplots(1,3, figsize=(10, 4))\n",
    "na_rating.plot(kind='pie',ax=axs[0], title='Северная Америка', autopct='%1.0f%%',ylabel='')\n",
    "eu_rating.plot(kind='pie',ax=axs[1], title='Европа', autopct='%1.0f%%',ylabel='')\n",
    "jp_rating.plot(kind='pie',ax=axs[2], title='Япония', autopct='%1.0f%%',ylabel='')\n",
    "fig.suptitle('Обзор рынка по рейтингу')\n",
    "plt.show()"
   ]
  },
  {
   "cell_type": "markdown",
   "id": "6350cafa",
   "metadata": {},
   "source": [
    "Пропущенных значений и правда много, особенно в Японии."
   ]
  },
  {
   "cell_type": "markdown",
   "id": "3868cab8",
   "metadata": {},
   "source": [
    "#### Вывод"
   ]
  },
  {
   "cell_type": "markdown",
   "id": "f9fa6bf8",
   "metadata": {},
   "source": [
    "Американский пользователь отличается от европейского, но не очень сильно. А вот японские пользователи имеют совсем другие предпочтения.  \n",
    "\n",
    "В Европе и Америке играют на домашних консолях, самая популярная PS4. В Америке более популярен XBox, а в Европе на втором месте PS3. В Японии более популярны портативные консоли: 3DS, PSV, WiiU. А из домашних консолей присутсвуют только PS3 и PS4.  \n",
    "В Европе и Америке совпадают четыре самых популярнх жанра: action, shooter, sports, RPG. В Японии популярны RPG и action, остальные жанры сильно отстают.  \n",
    "В Америке и Европе самый популярный возрастной рейтинг M - для взрослых. В Японии T - для подростков. Второй по популярности рейтинг у всех игроков E - для любой аудитории."
   ]
  },
  {
   "cell_type": "markdown",
   "id": "d8fc7876",
   "metadata": {},
   "source": [
    "### Проверка гипотез"
   ]
  },
  {
   "cell_type": "markdown",
   "id": "b33f9d5f",
   "metadata": {},
   "source": [
    "Нулевая гипотеза всегда означет отсутствие различий. Неважно что мы хотим проверить. Поэтому в обоих проверках в нулевой гипотезе будет говориться о равенстве значений.  \n",
    "В обоих гипотезах мы хотим выяснить одинаковые рейтинги или разные. Для этого подойдёт двусторонняя альтернативная гипотеза: рейтинги неравны, неважно какой из них больше.   \n",
    "Обе выборки независимые, поэтому используем проверку гипотезы о равенстве среднего двух генеральных совокупностей.  \n",
    "Пороговое значение выберем 5%, по 2.5% с каждой стороны. Рейтинг число небольшое, поэтому 1% может не хватить для различия."
   ]
  },
  {
   "cell_type": "markdown",
   "id": "b0a4f5ef",
   "metadata": {},
   "source": [
    "#### Сравнение рейтинга Xbox One и PC"
   ]
  },
  {
   "cell_type": "markdown",
   "id": "dd751a55",
   "metadata": {},
   "source": [
    "* $H_0$: Средние пользовательские рейтинги платформ Xbox One и PC одинаковые;\n",
    "* $H_1$: Средние пользовательские рейтинги платформ Xbox One и PC разные."
   ]
  },
  {
   "cell_type": "code",
   "execution_count": 68,
   "id": "30fcf425",
   "metadata": {},
   "outputs": [
    {
     "name": "stdout",
     "output_type": "stream",
     "text": [
      "p-значение: 0.1401\n",
      "Не получилось отвергнуть нулевую гипотезу\n",
      "Средние пользовательские рейтинги платформ Xbox One и PC одинаковые\n"
     ]
    }
   ],
   "source": [
    "alpha = 0.05\n",
    "XOne = data.loc[(data['platform']=='XOne') & (~data['user_score'].isna()),'user_score']\n",
    "PC = data.loc[(data['platform']=='PC') & (~data['user_score'].isna()),'user_score']\n",
    "\n",
    "results = st.ttest_ind(XOne, PC, alternative='two-sided')\n",
    "\n",
    "print('p-значение:', results.pvalue.round(4))\n",
    "if results.pvalue < alpha: \n",
    "    print('Отвергаем нулевую гипотезу')\n",
    "    print('Средние пользовательские рейтинги платформ Xbox One и PC разные')\n",
    "else:\n",
    "    print('Не получилось отвергнуть нулевую гипотезу')\n",
    "    print('Средние пользовательские рейтинги платформ Xbox One и PC одинаковые')"
   ]
  },
  {
   "cell_type": "markdown",
   "id": "2d440a1b",
   "metadata": {},
   "source": [
    "p-значение — вероятность при верной нулевой гипотезе получить наблюдаемое значение или более удалённое от того, которое предположили в $H_0$. <br>\n",
    "        \n",
    "Маленькое значение в данном случае будет означать, что выборочное среднее одной выборки будет сильно отличаться от выборочного среднего второй выборки. А большое значение (около 1) наоборот, что значения скорее всего равны. <br>\n",
    "        \n",
    "Чтобы отвергнуть нулевую гипотезу мы должны быть уверены что полученное значение не является случайным отклонением. Доверительный уровень у нас установлен в 5%, 14% больше этого значения, значит мы не принимаем отклонение от гипотезы как статистически значимое."
   ]
  },
  {
   "cell_type": "markdown",
   "id": "7d09be95",
   "metadata": {},
   "source": [
    "#### Сравнение рейтинга Action и Sports"
   ]
  },
  {
   "cell_type": "markdown",
   "id": "a5477878",
   "metadata": {},
   "source": [
    "* $H_0$: Средние пользовательские рейтинги жанров Action и Sports одинаковые;\n",
    "* $H_1$: Средние пользовательские рейтинги жанров Action и Sports разные."
   ]
  },
  {
   "cell_type": "code",
   "execution_count": 70,
   "id": "48ccedba",
   "metadata": {},
   "outputs": [
    {
     "name": "stdout",
     "output_type": "stream",
     "text": [
      "p-значение: 0.0\n",
      "Отвергаем нулевую гипотезу\n",
      "Средние пользовательские рейтинги жанров Action и Sports разные\n"
     ]
    }
   ],
   "source": [
    "alpha = 0.05\n",
    "Action = data.loc[(data['genre']=='Action') & (~data['user_score'].isna()),'user_score']\n",
    "Sports = data.loc[(data['genre']=='Sports') & (~data['user_score'].isna()),'user_score']\n",
    "\n",
    "results = st.ttest_ind(Action, Sports, alternative='two-sided')\n",
    "\n",
    "print('p-значение:', results.pvalue.round(4))\n",
    "if results.pvalue < alpha: \n",
    "    print('Отвергаем нулевую гипотезу')\n",
    "    print('Средние пользовательские рейтинги жанров Action и Sports разные')\n",
    "else:\n",
    "    print('Не получилось отвергнуть нулевую гипотезу')\n",
    "    print('Средние пользовательские рейтинги жанров Action и Sports одинаковые')"
   ]
  },
  {
   "cell_type": "markdown",
   "id": "9cf1d447",
   "metadata": {},
   "source": [
    "#### Вывод"
   ]
  },
  {
   "cell_type": "markdown",
   "id": "b1beb434",
   "metadata": {},
   "source": [
    "Оба предположения не удалось опровергнуть:   \n",
    "Средние пользовательские рейтинги платформ Xbox One и PC одинаковые.  \n",
    "Средние пользовательские рейтинги жанров Action и Sports разные.  "
   ]
  },
  {
   "cell_type": "markdown",
   "id": "289b10b9",
   "metadata": {},
   "source": [
    "### Вывод"
   ]
  },
  {
   "cell_type": "markdown",
   "id": "08124e5e",
   "metadata": {},
   "source": [
    "**Пропуски в данных** \n",
    "\n",
    "В данных очень много пропусков.  \n",
    "Пропуски можно разделить на два вида: которые теоретически можно и нельзя восстановить.  \n",
    "Точно можно восстановить год выпуска для всех игр.  \n",
    "Рейтинг можно восстановить только для игр, которые проходили рецензирование в ESRB. Неизвестно какой процент пропусков можно восстановить и почему вообще какие-то игры были пропущены.  \n",
    "Пользовательскую оценку для старых игр, выходивших на физических носителях собрать вряд ли реально.  \n",
    "Оценку от критиков скорее всего можно найти по большинству игр. Другой вопрос каким журналам и сайтам мы доверяем в этом вопросе и откуда брались данные для датасета.  \n",
    "\n",
    "Многих пропусков можно было избежать при более тщательном сборе данных.\n",
    "\n",
    "Также в данных очень мало записей об играх на PC. Для адекватного анализа этих данных недостаточно.\n",
    "\n",
    "**Исследовательский  анализ**\n",
    "\n",
    "По количеству игр пик приходится на 2008-2009 года, до этого был постепенный рост, а в 2010 резкий спад.  \n",
    "Интересно было бы взглянуть на цены игр. Возможно игр стало меньше, но они стали дороже.  \n",
    "За всё время самые популярные платформы это PS2, 'X360, PS3', Wii, DS. Однако их популярность давно прошла и сейчас на этих платформах игры почти не продаются.  \n",
    "\n",
    "Для анализа более актуальных данных был выбран период с 2013 года. \n",
    "Самой популярной платформой за это время является PS4. Также довольно популярна платформа XOne. \n",
    "Также у PS4 и XOne в последние года росла популярность. Значит следует ожидать что и в 2017 году эти платформы будут в топе по популярности.  \n",
    "\n",
    "В период с 2013 по 2016 год самые популярные игры выходили на PS3, X360, PS4 и 3DS. А вот DS и PSP совсем не могут похвастаться хитами.  \n",
    "Медианное число проданных копий каждой игры не сильно отличается между платформами. И лежит в пределах 0.3 млн. \n",
    "Третий квартиль числа проданных копий отличается сильнее. У самых непопулярных платформ PSP, PSV, PC, DS, 3DS он также не превышает 0.3 млн. У PS4, Wii, X360 Q3 примерно равен 0.75 млн. Немного от них отстают XOne, WiiU с примерно 0.6 и 0.7 соответственно.  \n",
    "\n",
    "Корреляция продаж и озывов критиков есть, но слабая. У самых продаваемых игр хорошие отзывы от критиков. А вот непопулярные игры получали как высокие, так и низкие оценки от критиков.\n",
    "Корреляция продаж и отзывов пользователей нулевая. Игроки, в отличии от критиков, могут низко оценить популярную игру.   \n",
    "\n",
    "Экшены и шутеры пользуются повышенным спросом. От них отстают спортивные игры и РПГ.\n",
    "Остальные жанры малопопулярные. Среди них самый непопулярный это паззлы.  \n",
    "\n",
    "**Портрет пользователя по регионам**\n",
    "\n",
    "Американский пользователь отличается от европейского, но не очень сильно. А вот японские пользователи имеют совсем другие предпочтения.  \n",
    "\n",
    "В Европе и Америке играют на домашних консолях, самая популярная PS4. В Америке более популярен XBox, а в Европе на втором месте PS3. В Японии более популярны портативные консоли: 3DS, PSV, WiiU. А из домашних консолей присутсвуют только PS3 и PS4.  \n",
    "В Европе и Америке совпадают четыре самых популярнх жанра: action, shooter, sports, RPG. В Японии популярны RPG и action, остальные жанры сильно отстают.  \n",
    "В Америке и Европе самый популярный возрастной рейтинг M - для взрослых. В Японии T - для подростков. Второй по популярности рейтинг у всех игроков E - для любой аудитории.\n",
    "\n",
    "**Проверка гипотез**\n",
    "\n",
    "Оба предположения не удалось опровергнуть:   \n",
    "Средние пользовательские рейтинги платформ Xbox One и PC одинаковые.  \n",
    "Средние пользовательские рейтинги жанров Action и Sports разные.  "
   ]
  },
  {
   "cell_type": "code",
   "execution_count": null,
   "id": "fcf1655b-4e16-4473-b99d-c63fa0975606",
   "metadata": {},
   "outputs": [],
   "source": []
  }
 ],
 "metadata": {
  "ExecuteTimeLog": [
   {
    "duration": 1146,
    "start_time": "2023-05-03T23:16:26.923Z"
   },
   {
    "duration": 49,
    "start_time": "2023-05-03T23:16:28.071Z"
   },
   {
    "duration": 19,
    "start_time": "2023-05-03T23:16:28.122Z"
   },
   {
    "duration": 3,
    "start_time": "2023-05-03T23:16:28.143Z"
   },
   {
    "duration": 18,
    "start_time": "2023-05-03T23:16:28.149Z"
   },
   {
    "duration": 41,
    "start_time": "2023-05-03T23:16:28.169Z"
   },
   {
    "duration": 6,
    "start_time": "2023-05-03T23:16:28.213Z"
   },
   {
    "duration": 27,
    "start_time": "2023-05-03T23:16:28.221Z"
   },
   {
    "duration": 18,
    "start_time": "2023-05-03T23:16:28.250Z"
   },
   {
    "duration": 8,
    "start_time": "2023-05-03T23:16:28.270Z"
   },
   {
    "duration": 15,
    "start_time": "2023-05-03T23:16:28.279Z"
   },
   {
    "duration": 12,
    "start_time": "2023-05-03T23:16:28.296Z"
   },
   {
    "duration": 13,
    "start_time": "2023-05-03T23:16:28.310Z"
   },
   {
    "duration": 9,
    "start_time": "2023-05-03T23:16:28.326Z"
   },
   {
    "duration": 24,
    "start_time": "2023-05-03T23:16:28.337Z"
   },
   {
    "duration": 30,
    "start_time": "2023-05-03T23:16:28.363Z"
   },
   {
    "duration": 20,
    "start_time": "2023-05-03T23:16:28.395Z"
   },
   {
    "duration": 593,
    "start_time": "2023-05-03T23:16:28.417Z"
   },
   {
    "duration": 293,
    "start_time": "2023-05-03T23:16:29.011Z"
   },
   {
    "duration": 19,
    "start_time": "2023-05-03T23:16:29.306Z"
   },
   {
    "duration": 378,
    "start_time": "2023-05-03T23:16:29.326Z"
   },
   {
    "duration": 820,
    "start_time": "2023-05-03T23:16:29.706Z"
   },
   {
    "duration": 473,
    "start_time": "2023-05-03T23:16:30.528Z"
   },
   {
    "duration": 9,
    "start_time": "2023-05-03T23:16:31.003Z"
   },
   {
    "duration": 622,
    "start_time": "2023-05-03T23:16:31.013Z"
   },
   {
    "duration": 3,
    "start_time": "2023-05-03T23:16:31.637Z"
   },
   {
    "duration": 17,
    "start_time": "2023-05-03T23:16:31.642Z"
   },
   {
    "duration": 38,
    "start_time": "2023-05-03T23:16:31.661Z"
   },
   {
    "duration": 215,
    "start_time": "2023-05-03T23:16:31.701Z"
   },
   {
    "duration": 6,
    "start_time": "2023-05-03T23:16:31.918Z"
   },
   {
    "duration": 232,
    "start_time": "2023-05-03T23:16:31.927Z"
   },
   {
    "duration": 334,
    "start_time": "2023-05-03T23:16:32.161Z"
   },
   {
    "duration": 346,
    "start_time": "2023-05-03T23:16:32.497Z"
   },
   {
    "duration": 5,
    "start_time": "2023-05-03T23:16:32.844Z"
   },
   {
    "duration": 576,
    "start_time": "2023-05-03T23:16:32.851Z"
   },
   {
    "duration": 49,
    "start_time": "2023-05-03T23:16:33.429Z"
   },
   {
    "duration": 16,
    "start_time": "2023-05-03T23:16:33.480Z"
   },
   {
    "duration": 503,
    "start_time": "2023-05-03T23:16:33.498Z"
   },
   {
    "duration": 13,
    "start_time": "2023-05-03T23:16:34.003Z"
   },
   {
    "duration": 200,
    "start_time": "2023-05-03T23:16:34.017Z"
   },
   {
    "duration": 249,
    "start_time": "2023-05-03T23:16:34.220Z"
   },
   {
    "duration": 255,
    "start_time": "2023-05-03T23:16:34.471Z"
   },
   {
    "duration": 184,
    "start_time": "2023-05-03T23:16:34.728Z"
   },
   {
    "duration": 118,
    "start_time": "2023-05-03T23:16:34.914Z"
   },
   {
    "duration": 0,
    "start_time": "2023-05-03T23:16:35.034Z"
   },
   {
    "duration": 1193,
    "start_time": "2023-05-03T23:16:50.595Z"
   },
   {
    "duration": 71,
    "start_time": "2023-05-03T23:16:51.792Z"
   },
   {
    "duration": 22,
    "start_time": "2023-05-03T23:16:51.865Z"
   },
   {
    "duration": 3,
    "start_time": "2023-05-03T23:16:51.890Z"
   },
   {
    "duration": 18,
    "start_time": "2023-05-03T23:16:51.896Z"
   },
   {
    "duration": 16,
    "start_time": "2023-05-03T23:16:51.916Z"
   },
   {
    "duration": 5,
    "start_time": "2023-05-03T23:16:51.934Z"
   },
   {
    "duration": 12,
    "start_time": "2023-05-03T23:16:51.941Z"
   },
   {
    "duration": 44,
    "start_time": "2023-05-03T23:16:51.955Z"
   },
   {
    "duration": 7,
    "start_time": "2023-05-03T23:16:52.001Z"
   },
   {
    "duration": 15,
    "start_time": "2023-05-03T23:16:52.009Z"
   },
   {
    "duration": 14,
    "start_time": "2023-05-03T23:16:52.026Z"
   },
   {
    "duration": 15,
    "start_time": "2023-05-03T23:16:52.042Z"
   },
   {
    "duration": 42,
    "start_time": "2023-05-03T23:16:52.061Z"
   },
   {
    "duration": 25,
    "start_time": "2023-05-03T23:16:52.105Z"
   },
   {
    "duration": 12,
    "start_time": "2023-05-03T23:16:52.132Z"
   },
   {
    "duration": 15,
    "start_time": "2023-05-03T23:16:52.146Z"
   },
   {
    "duration": 616,
    "start_time": "2023-05-03T23:16:52.163Z"
   },
   {
    "duration": 284,
    "start_time": "2023-05-03T23:16:52.780Z"
   },
   {
    "duration": 28,
    "start_time": "2023-05-03T23:16:53.066Z"
   },
   {
    "duration": 13,
    "start_time": "2023-05-03T23:16:53.096Z"
   },
   {
    "duration": 343,
    "start_time": "2023-05-03T23:16:53.111Z"
   },
   {
    "duration": 425,
    "start_time": "2023-05-03T23:16:53.455Z"
   },
   {
    "duration": 220,
    "start_time": "2023-05-03T23:16:53.883Z"
   },
   {
    "duration": 10,
    "start_time": "2023-05-03T23:16:54.105Z"
   },
   {
    "duration": 385,
    "start_time": "2023-05-03T23:16:54.117Z"
   },
   {
    "duration": 5,
    "start_time": "2023-05-03T23:16:54.504Z"
   },
   {
    "duration": 9,
    "start_time": "2023-05-03T23:16:54.511Z"
   },
   {
    "duration": 37,
    "start_time": "2023-05-03T23:16:54.521Z"
   },
   {
    "duration": 188,
    "start_time": "2023-05-03T23:16:54.560Z"
   },
   {
    "duration": 6,
    "start_time": "2023-05-03T23:16:54.750Z"
   },
   {
    "duration": 220,
    "start_time": "2023-05-03T23:16:54.758Z"
   },
   {
    "duration": 430,
    "start_time": "2023-05-03T23:16:54.980Z"
   },
   {
    "duration": 700,
    "start_time": "2023-05-03T23:16:55.412Z"
   },
   {
    "duration": 7,
    "start_time": "2023-05-03T23:16:56.115Z"
   },
   {
    "duration": 1101,
    "start_time": "2023-05-03T23:16:56.124Z"
   },
   {
    "duration": 49,
    "start_time": "2023-05-03T23:16:57.227Z"
   },
   {
    "duration": 19,
    "start_time": "2023-05-03T23:16:57.278Z"
   },
   {
    "duration": 508,
    "start_time": "2023-05-03T23:16:57.299Z"
   },
   {
    "duration": 13,
    "start_time": "2023-05-03T23:16:57.809Z"
   },
   {
    "duration": 203,
    "start_time": "2023-05-03T23:16:57.826Z"
   },
   {
    "duration": 259,
    "start_time": "2023-05-03T23:16:58.031Z"
   },
   {
    "duration": 266,
    "start_time": "2023-05-03T23:16:58.294Z"
   },
   {
    "duration": 195,
    "start_time": "2023-05-03T23:16:58.561Z"
   },
   {
    "duration": 128,
    "start_time": "2023-05-03T23:16:58.758Z"
   },
   {
    "duration": 0,
    "start_time": "2023-05-03T23:16:58.893Z"
   },
   {
    "duration": 2172,
    "start_time": "2023-05-04T11:30:25.550Z"
   },
   {
    "duration": 90,
    "start_time": "2023-05-04T11:30:27.724Z"
   },
   {
    "duration": 74,
    "start_time": "2023-05-04T11:30:27.816Z"
   },
   {
    "duration": 3,
    "start_time": "2023-05-04T11:30:27.892Z"
   },
   {
    "duration": 18,
    "start_time": "2023-05-04T11:30:27.898Z"
   },
   {
    "duration": 91,
    "start_time": "2023-05-04T11:30:27.918Z"
   },
   {
    "duration": 7,
    "start_time": "2023-05-04T11:30:28.011Z"
   },
   {
    "duration": 73,
    "start_time": "2023-05-04T11:30:28.020Z"
   },
   {
    "duration": 14,
    "start_time": "2023-05-04T11:30:28.095Z"
   },
   {
    "duration": 8,
    "start_time": "2023-05-04T11:30:28.111Z"
   },
   {
    "duration": 75,
    "start_time": "2023-05-04T11:30:28.121Z"
   },
   {
    "duration": 21,
    "start_time": "2023-05-04T11:30:28.198Z"
   },
   {
    "duration": 77,
    "start_time": "2023-05-04T11:30:28.222Z"
   },
   {
    "duration": 14,
    "start_time": "2023-05-04T11:30:28.306Z"
   },
   {
    "duration": 77,
    "start_time": "2023-05-04T11:30:28.322Z"
   },
   {
    "duration": 9,
    "start_time": "2023-05-04T11:30:28.401Z"
   },
   {
    "duration": 76,
    "start_time": "2023-05-04T11:30:28.412Z"
   },
   {
    "duration": 1714,
    "start_time": "2023-05-04T11:30:28.491Z"
   },
   {
    "duration": 1307,
    "start_time": "2023-05-04T11:30:30.209Z"
   },
   {
    "duration": 28,
    "start_time": "2023-05-04T11:30:31.590Z"
   },
   {
    "duration": 22,
    "start_time": "2023-05-04T11:30:31.688Z"
   },
   {
    "duration": 1087,
    "start_time": "2023-05-04T11:30:31.712Z"
   },
   {
    "duration": 813,
    "start_time": "2023-05-04T11:30:32.801Z"
   },
   {
    "duration": 478,
    "start_time": "2023-05-04T11:30:33.616Z"
   },
   {
    "duration": 12,
    "start_time": "2023-05-04T11:30:34.097Z"
   },
   {
    "duration": 804,
    "start_time": "2023-05-04T11:30:34.112Z"
   },
   {
    "duration": 3,
    "start_time": "2023-05-04T11:30:34.918Z"
   },
   {
    "duration": 70,
    "start_time": "2023-05-04T11:30:34.923Z"
   },
   {
    "duration": 99,
    "start_time": "2023-05-04T11:30:34.995Z"
   },
   {
    "duration": 395,
    "start_time": "2023-05-04T11:30:35.096Z"
   },
   {
    "duration": 8,
    "start_time": "2023-05-04T11:30:35.493Z"
   },
   {
    "duration": 495,
    "start_time": "2023-05-04T11:30:35.503Z"
   },
   {
    "duration": 698,
    "start_time": "2023-05-04T11:30:36.000Z"
   },
   {
    "duration": 809,
    "start_time": "2023-05-04T11:30:36.700Z"
   },
   {
    "duration": 7,
    "start_time": "2023-05-04T11:30:37.510Z"
   },
   {
    "duration": 1137,
    "start_time": "2023-05-04T11:30:37.518Z"
   },
   {
    "duration": 63,
    "start_time": "2023-05-04T11:30:38.657Z"
   },
   {
    "duration": 7,
    "start_time": "2023-05-04T11:30:38.721Z"
   },
   {
    "duration": 522,
    "start_time": "2023-05-04T11:30:38.730Z"
   },
   {
    "duration": 13,
    "start_time": "2023-05-04T11:30:39.254Z"
   },
   {
    "duration": 190,
    "start_time": "2023-05-04T11:30:39.271Z"
   },
   {
    "duration": 238,
    "start_time": "2023-05-04T11:30:39.463Z"
   },
   {
    "duration": 270,
    "start_time": "2023-05-04T11:30:39.703Z"
   },
   {
    "duration": 198,
    "start_time": "2023-05-04T11:30:39.974Z"
   },
   {
    "duration": 161,
    "start_time": "2023-05-04T11:30:40.174Z"
   },
   {
    "duration": 0,
    "start_time": "2023-05-04T11:30:40.338Z"
   },
   {
    "duration": 39,
    "start_time": "2023-05-04T12:45:36.861Z"
   },
   {
    "duration": 9,
    "start_time": "2023-05-04T12:46:22.618Z"
   },
   {
    "duration": 110,
    "start_time": "2023-05-04T12:47:07.618Z"
   },
   {
    "duration": 31,
    "start_time": "2023-05-04T12:47:14.565Z"
   },
   {
    "duration": 9,
    "start_time": "2023-05-04T12:47:31.608Z"
   },
   {
    "duration": 14,
    "start_time": "2023-05-04T12:47:41.960Z"
   },
   {
    "duration": 23,
    "start_time": "2023-05-04T12:48:13.060Z"
   },
   {
    "duration": 6,
    "start_time": "2023-05-04T12:48:56.290Z"
   },
   {
    "duration": 13,
    "start_time": "2023-05-04T12:49:02.964Z"
   },
   {
    "duration": 7,
    "start_time": "2023-05-04T12:49:15.420Z"
   },
   {
    "duration": 5,
    "start_time": "2023-05-04T12:49:26.780Z"
   },
   {
    "duration": 1225,
    "start_time": "2023-05-04T12:51:16.252Z"
   },
   {
    "duration": 50,
    "start_time": "2023-05-04T12:51:17.488Z"
   },
   {
    "duration": 21,
    "start_time": "2023-05-04T12:51:17.540Z"
   },
   {
    "duration": 5,
    "start_time": "2023-05-04T12:51:17.563Z"
   },
   {
    "duration": 24,
    "start_time": "2023-05-04T12:51:17.570Z"
   },
   {
    "duration": 17,
    "start_time": "2023-05-04T12:51:17.595Z"
   },
   {
    "duration": 4,
    "start_time": "2023-05-04T12:51:17.614Z"
   },
   {
    "duration": 10,
    "start_time": "2023-05-04T12:51:17.620Z"
   },
   {
    "duration": 15,
    "start_time": "2023-05-04T12:51:17.632Z"
   },
   {
    "duration": 45,
    "start_time": "2023-05-04T12:51:17.648Z"
   },
   {
    "duration": 19,
    "start_time": "2023-05-04T12:51:17.694Z"
   },
   {
    "duration": 15,
    "start_time": "2023-05-04T12:51:17.715Z"
   },
   {
    "duration": 15,
    "start_time": "2023-05-04T12:51:17.732Z"
   },
   {
    "duration": 40,
    "start_time": "2023-05-04T12:51:17.750Z"
   },
   {
    "duration": 17,
    "start_time": "2023-05-04T12:51:17.792Z"
   },
   {
    "duration": 8,
    "start_time": "2023-05-04T12:51:17.811Z"
   },
   {
    "duration": 17,
    "start_time": "2023-05-04T12:51:17.821Z"
   },
   {
    "duration": 665,
    "start_time": "2023-05-04T12:51:17.840Z"
   },
   {
    "duration": 300,
    "start_time": "2023-05-04T12:51:18.506Z"
   },
   {
    "duration": 20,
    "start_time": "2023-05-04T12:51:18.808Z"
   },
   {
    "duration": 14,
    "start_time": "2023-05-04T12:51:18.830Z"
   },
   {
    "duration": 356,
    "start_time": "2023-05-04T12:51:18.846Z"
   },
   {
    "duration": 406,
    "start_time": "2023-05-04T12:51:19.204Z"
   },
   {
    "duration": 233,
    "start_time": "2023-05-04T12:51:19.611Z"
   },
   {
    "duration": 8,
    "start_time": "2023-05-04T12:51:19.845Z"
   },
   {
    "duration": 424,
    "start_time": "2023-05-04T12:51:19.855Z"
   },
   {
    "duration": 13,
    "start_time": "2023-05-04T12:51:20.281Z"
   },
   {
    "duration": 6,
    "start_time": "2023-05-04T12:51:20.296Z"
   },
   {
    "duration": 45,
    "start_time": "2023-05-04T12:51:20.304Z"
   },
   {
    "duration": 244,
    "start_time": "2023-05-04T12:51:20.351Z"
   },
   {
    "duration": 6,
    "start_time": "2023-05-04T12:51:20.597Z"
   },
   {
    "duration": 228,
    "start_time": "2023-05-04T12:51:20.605Z"
   },
   {
    "duration": 331,
    "start_time": "2023-05-04T12:51:20.836Z"
   },
   {
    "duration": 361,
    "start_time": "2023-05-04T12:51:21.169Z"
   },
   {
    "duration": 6,
    "start_time": "2023-05-04T12:51:21.533Z"
   },
   {
    "duration": 661,
    "start_time": "2023-05-04T12:51:21.541Z"
   },
   {
    "duration": 54,
    "start_time": "2023-05-04T12:51:22.204Z"
   },
   {
    "duration": 7,
    "start_time": "2023-05-04T12:51:22.259Z"
   },
   {
    "duration": 544,
    "start_time": "2023-05-04T12:51:22.268Z"
   },
   {
    "duration": 13,
    "start_time": "2023-05-04T12:51:22.814Z"
   },
   {
    "duration": 197,
    "start_time": "2023-05-04T12:51:22.831Z"
   },
   {
    "duration": 246,
    "start_time": "2023-05-04T12:51:23.030Z"
   },
   {
    "duration": 273,
    "start_time": "2023-05-04T12:51:23.279Z"
   },
   {
    "duration": 194,
    "start_time": "2023-05-04T12:51:23.555Z"
   },
   {
    "duration": 129,
    "start_time": "2023-05-04T12:51:23.752Z"
   },
   {
    "duration": 0,
    "start_time": "2023-05-04T12:51:23.883Z"
   },
   {
    "duration": 17,
    "start_time": "2023-05-04T12:53:32.412Z"
   },
   {
    "duration": 10,
    "start_time": "2023-05-04T12:53:35.937Z"
   },
   {
    "duration": 23,
    "start_time": "2023-05-04T12:53:47.351Z"
   },
   {
    "duration": 106,
    "start_time": "2023-05-04T12:53:58.451Z"
   },
   {
    "duration": 22,
    "start_time": "2023-05-04T12:54:04.681Z"
   },
   {
    "duration": 119,
    "start_time": "2023-05-04T12:54:11.690Z"
   },
   {
    "duration": 22,
    "start_time": "2023-05-04T12:54:19.370Z"
   },
   {
    "duration": 8,
    "start_time": "2023-05-04T13:06:02.506Z"
   },
   {
    "duration": 1276,
    "start_time": "2023-05-04T13:09:14.456Z"
   },
   {
    "duration": 52,
    "start_time": "2023-05-04T13:09:15.734Z"
   },
   {
    "duration": 22,
    "start_time": "2023-05-04T13:09:15.788Z"
   },
   {
    "duration": 4,
    "start_time": "2023-05-04T13:09:15.811Z"
   },
   {
    "duration": 19,
    "start_time": "2023-05-04T13:09:15.818Z"
   },
   {
    "duration": 20,
    "start_time": "2023-05-04T13:09:15.838Z"
   },
   {
    "duration": 29,
    "start_time": "2023-05-04T13:09:15.860Z"
   },
   {
    "duration": 13,
    "start_time": "2023-05-04T13:09:15.892Z"
   },
   {
    "duration": 23,
    "start_time": "2023-05-04T13:09:15.906Z"
   },
   {
    "duration": 13,
    "start_time": "2023-05-04T13:09:15.932Z"
   },
   {
    "duration": 17,
    "start_time": "2023-05-04T13:09:15.947Z"
   },
   {
    "duration": 30,
    "start_time": "2023-05-04T13:09:15.965Z"
   },
   {
    "duration": 14,
    "start_time": "2023-05-04T13:09:15.997Z"
   },
   {
    "duration": 24,
    "start_time": "2023-05-04T13:09:16.015Z"
   },
   {
    "duration": 26,
    "start_time": "2023-05-04T13:09:16.041Z"
   },
   {
    "duration": 27,
    "start_time": "2023-05-04T13:09:16.069Z"
   },
   {
    "duration": 32,
    "start_time": "2023-05-04T13:09:16.098Z"
   },
   {
    "duration": 635,
    "start_time": "2023-05-04T13:09:16.132Z"
   },
   {
    "duration": 305,
    "start_time": "2023-05-04T13:09:16.770Z"
   },
   {
    "duration": 24,
    "start_time": "2023-05-04T13:09:17.077Z"
   },
   {
    "duration": 15,
    "start_time": "2023-05-04T13:09:17.102Z"
   },
   {
    "duration": 344,
    "start_time": "2023-05-04T13:09:17.119Z"
   },
   {
    "duration": 410,
    "start_time": "2023-05-04T13:09:17.465Z"
   },
   {
    "duration": 232,
    "start_time": "2023-05-04T13:09:17.877Z"
   },
   {
    "duration": 8,
    "start_time": "2023-05-04T13:09:18.111Z"
   },
   {
    "duration": 430,
    "start_time": "2023-05-04T13:09:18.121Z"
   },
   {
    "duration": 4,
    "start_time": "2023-05-04T13:09:18.554Z"
   },
   {
    "duration": 6,
    "start_time": "2023-05-04T13:09:18.560Z"
   },
   {
    "duration": 51,
    "start_time": "2023-05-04T13:09:18.569Z"
   },
   {
    "duration": 195,
    "start_time": "2023-05-04T13:09:18.622Z"
   },
   {
    "duration": 8,
    "start_time": "2023-05-04T13:09:18.819Z"
   },
   {
    "duration": 242,
    "start_time": "2023-05-04T13:09:18.828Z"
   },
   {
    "duration": 331,
    "start_time": "2023-05-04T13:09:19.072Z"
   },
   {
    "duration": 358,
    "start_time": "2023-05-04T13:09:19.405Z"
   },
   {
    "duration": 6,
    "start_time": "2023-05-04T13:09:19.765Z"
   },
   {
    "duration": 725,
    "start_time": "2023-05-04T13:09:19.773Z"
   },
   {
    "duration": 54,
    "start_time": "2023-05-04T13:09:20.500Z"
   },
   {
    "duration": 7,
    "start_time": "2023-05-04T13:09:20.556Z"
   },
   {
    "duration": 571,
    "start_time": "2023-05-04T13:09:20.565Z"
   },
   {
    "duration": 13,
    "start_time": "2023-05-04T13:09:21.138Z"
   },
   {
    "duration": 209,
    "start_time": "2023-05-04T13:09:21.155Z"
   },
   {
    "duration": 289,
    "start_time": "2023-05-04T13:09:21.365Z"
   },
   {
    "duration": 276,
    "start_time": "2023-05-04T13:09:21.656Z"
   },
   {
    "duration": 212,
    "start_time": "2023-05-04T13:09:21.934Z"
   },
   {
    "duration": 24,
    "start_time": "2023-05-04T13:09:22.148Z"
   },
   {
    "duration": 22,
    "start_time": "2023-05-04T13:09:22.174Z"
   },
   {
    "duration": 10,
    "start_time": "2023-05-04T13:09:22.198Z"
   },
   {
    "duration": 161,
    "start_time": "2023-05-04T13:19:36.068Z"
   },
   {
    "duration": 1423,
    "start_time": "2023-05-04T13:19:44.163Z"
   },
   {
    "duration": 212,
    "start_time": "2023-05-04T13:19:45.589Z"
   },
   {
    "duration": 24,
    "start_time": "2023-05-04T13:19:45.803Z"
   },
   {
    "duration": 17,
    "start_time": "2023-05-04T13:19:45.956Z"
   },
   {
    "duration": 34,
    "start_time": "2023-05-04T13:19:53.650Z"
   },
   {
    "duration": 4,
    "start_time": "2023-05-04T13:20:10.493Z"
   },
   {
    "duration": 18,
    "start_time": "2023-05-04T13:20:11.209Z"
   },
   {
    "duration": 16,
    "start_time": "2023-05-04T13:20:17.156Z"
   },
   {
    "duration": 6,
    "start_time": "2023-05-04T13:20:18.402Z"
   },
   {
    "duration": 10,
    "start_time": "2023-05-04T13:20:18.673Z"
   },
   {
    "duration": 16,
    "start_time": "2023-05-04T13:20:19.125Z"
   },
   {
    "duration": 17,
    "start_time": "2023-05-04T13:20:20.032Z"
   },
   {
    "duration": 9,
    "start_time": "2023-05-04T13:20:20.494Z"
   },
   {
    "duration": 14,
    "start_time": "2023-05-04T13:20:21.402Z"
   },
   {
    "duration": 21,
    "start_time": "2023-05-04T13:20:22.324Z"
   },
   {
    "duration": 11,
    "start_time": "2023-05-04T13:20:23.884Z"
   },
   {
    "duration": 17,
    "start_time": "2023-05-04T13:20:24.869Z"
   },
   {
    "duration": 21,
    "start_time": "2023-05-04T13:20:25.741Z"
   },
   {
    "duration": 35,
    "start_time": "2023-05-04T13:20:27.130Z"
   },
   {
    "duration": 749,
    "start_time": "2023-05-04T13:20:28.275Z"
   },
   {
    "duration": 315,
    "start_time": "2023-05-04T13:20:32.661Z"
   },
   {
    "duration": 18,
    "start_time": "2023-05-04T13:21:39.681Z"
   },
   {
    "duration": 13,
    "start_time": "2023-05-04T13:22:10.325Z"
   },
   {
    "duration": 14,
    "start_time": "2023-05-04T13:22:13.980Z"
   },
   {
    "duration": 22,
    "start_time": "2023-05-04T13:22:23.515Z"
   },
   {
    "duration": 13,
    "start_time": "2023-05-04T13:27:50.134Z"
   },
   {
    "duration": 72,
    "start_time": "2023-05-04T13:28:18.939Z"
   },
   {
    "duration": 10,
    "start_time": "2023-05-04T13:28:40.811Z"
   },
   {
    "duration": 11,
    "start_time": "2023-05-04T13:28:59.586Z"
   },
   {
    "duration": 19,
    "start_time": "2023-05-04T13:29:05.076Z"
   },
   {
    "duration": 26,
    "start_time": "2023-05-04T13:29:09.703Z"
   },
   {
    "duration": 11,
    "start_time": "2023-05-04T13:29:12.009Z"
   },
   {
    "duration": 38,
    "start_time": "2023-05-04T13:29:25.931Z"
   },
   {
    "duration": 43,
    "start_time": "2023-05-04T13:29:48.140Z"
   },
   {
    "duration": 32,
    "start_time": "2023-05-04T13:30:05.527Z"
   },
   {
    "duration": 5,
    "start_time": "2023-05-04T13:31:38.498Z"
   },
   {
    "duration": 49,
    "start_time": "2023-05-04T13:31:44.609Z"
   },
   {
    "duration": 30,
    "start_time": "2023-05-04T13:32:32.594Z"
   },
   {
    "duration": 74,
    "start_time": "2023-05-04T13:33:45.838Z"
   },
   {
    "duration": 73,
    "start_time": "2023-05-04T13:35:07.310Z"
   },
   {
    "duration": 24,
    "start_time": "2023-05-04T13:35:16.884Z"
   },
   {
    "duration": 63,
    "start_time": "2023-05-04T13:35:50.700Z"
   },
   {
    "duration": 94,
    "start_time": "2023-05-04T13:36:01.290Z"
   },
   {
    "duration": 51,
    "start_time": "2023-05-04T13:39:56.496Z"
   },
   {
    "duration": 63,
    "start_time": "2023-05-04T13:40:08.618Z"
   },
   {
    "duration": 56,
    "start_time": "2023-05-04T13:40:31.439Z"
   },
   {
    "duration": 56,
    "start_time": "2023-05-04T13:40:49.993Z"
   },
   {
    "duration": 57,
    "start_time": "2023-05-04T13:41:25.503Z"
   },
   {
    "duration": 5,
    "start_time": "2023-05-04T13:41:40.336Z"
   },
   {
    "duration": 72,
    "start_time": "2023-05-04T13:41:40.786Z"
   },
   {
    "duration": 16,
    "start_time": "2023-05-04T13:41:41.063Z"
   },
   {
    "duration": 18,
    "start_time": "2023-05-04T13:41:41.413Z"
   },
   {
    "duration": 52,
    "start_time": "2023-05-04T13:41:41.610Z"
   },
   {
    "duration": 4,
    "start_time": "2023-05-04T13:41:42.628Z"
   },
   {
    "duration": 21,
    "start_time": "2023-05-04T13:41:43.098Z"
   },
   {
    "duration": 22,
    "start_time": "2023-05-04T13:41:43.715Z"
   },
   {
    "duration": 5,
    "start_time": "2023-05-04T13:41:44.076Z"
   },
   {
    "duration": 11,
    "start_time": "2023-05-04T13:41:44.260Z"
   },
   {
    "duration": 18,
    "start_time": "2023-05-04T13:41:44.460Z"
   },
   {
    "duration": 11,
    "start_time": "2023-05-04T13:41:44.862Z"
   },
   {
    "duration": 10,
    "start_time": "2023-05-04T13:41:45.062Z"
   },
   {
    "duration": 19,
    "start_time": "2023-05-04T13:41:45.417Z"
   },
   {
    "duration": 32,
    "start_time": "2023-05-04T13:41:45.838Z"
   },
   {
    "duration": 13,
    "start_time": "2023-05-04T13:41:46.463Z"
   },
   {
    "duration": 22,
    "start_time": "2023-05-04T13:41:46.892Z"
   },
   {
    "duration": 10,
    "start_time": "2023-05-04T13:41:47.308Z"
   },
   {
    "duration": 22,
    "start_time": "2023-05-04T13:41:47.699Z"
   },
   {
    "duration": 662,
    "start_time": "2023-05-04T13:41:48.132Z"
   },
   {
    "duration": 408,
    "start_time": "2023-05-04T13:41:49.083Z"
   },
   {
    "duration": 21,
    "start_time": "2023-05-04T13:41:50.462Z"
   },
   {
    "duration": 34,
    "start_time": "2023-05-04T13:41:52.261Z"
   },
   {
    "duration": 35,
    "start_time": "2023-05-04T13:42:00.213Z"
   },
   {
    "duration": 35,
    "start_time": "2023-05-04T13:42:03.977Z"
   },
   {
    "duration": 85,
    "start_time": "2023-05-04T13:42:05.821Z"
   },
   {
    "duration": 64,
    "start_time": "2023-05-04T13:42:07.234Z"
   },
   {
    "duration": 17,
    "start_time": "2023-05-04T13:43:25.483Z"
   },
   {
    "duration": 52,
    "start_time": "2023-05-04T13:43:29.592Z"
   },
   {
    "duration": 48,
    "start_time": "2023-05-04T13:43:36.085Z"
   },
   {
    "duration": 4,
    "start_time": "2023-05-04T13:43:44.738Z"
   },
   {
    "duration": 89,
    "start_time": "2023-05-04T13:43:44.744Z"
   },
   {
    "duration": 24,
    "start_time": "2023-05-04T13:43:44.835Z"
   },
   {
    "duration": 28,
    "start_time": "2023-05-04T13:43:44.861Z"
   },
   {
    "duration": 51,
    "start_time": "2023-05-04T13:43:44.891Z"
   },
   {
    "duration": 5,
    "start_time": "2023-05-04T13:43:44.948Z"
   },
   {
    "duration": 28,
    "start_time": "2023-05-04T13:43:44.954Z"
   },
   {
    "duration": 20,
    "start_time": "2023-05-04T13:43:44.984Z"
   },
   {
    "duration": 20,
    "start_time": "2023-05-04T13:43:45.008Z"
   },
   {
    "duration": 26,
    "start_time": "2023-05-04T13:43:45.030Z"
   },
   {
    "duration": 44,
    "start_time": "2023-05-04T13:43:45.061Z"
   },
   {
    "duration": 13,
    "start_time": "2023-05-04T13:43:45.108Z"
   },
   {
    "duration": 15,
    "start_time": "2023-05-04T13:43:45.123Z"
   },
   {
    "duration": 32,
    "start_time": "2023-05-04T13:43:45.140Z"
   },
   {
    "duration": 17,
    "start_time": "2023-05-04T13:43:45.175Z"
   },
   {
    "duration": 16,
    "start_time": "2023-05-04T13:43:45.196Z"
   },
   {
    "duration": 43,
    "start_time": "2023-05-04T13:43:45.215Z"
   },
   {
    "duration": 21,
    "start_time": "2023-05-04T13:43:45.261Z"
   },
   {
    "duration": 30,
    "start_time": "2023-05-04T13:43:45.284Z"
   },
   {
    "duration": 665,
    "start_time": "2023-05-04T13:43:45.316Z"
   },
   {
    "duration": 328,
    "start_time": "2023-05-04T13:43:45.983Z"
   },
   {
    "duration": 31,
    "start_time": "2023-05-04T13:43:46.313Z"
   },
   {
    "duration": 55,
    "start_time": "2023-05-04T13:43:46.346Z"
   },
   {
    "duration": 25,
    "start_time": "2023-05-04T13:43:46.406Z"
   },
   {
    "duration": 71,
    "start_time": "2023-05-04T13:43:46.433Z"
   },
   {
    "duration": 48,
    "start_time": "2023-05-04T13:43:49.313Z"
   },
   {
    "duration": 411,
    "start_time": "2023-05-04T13:54:20.168Z"
   },
   {
    "duration": 8,
    "start_time": "2023-05-04T13:55:20.540Z"
   },
   {
    "duration": 509,
    "start_time": "2023-05-04T13:55:22.624Z"
   },
   {
    "duration": 5,
    "start_time": "2023-05-04T13:55:31.734Z"
   },
   {
    "duration": 7,
    "start_time": "2023-05-04T13:55:32.025Z"
   },
   {
    "duration": 35,
    "start_time": "2023-05-04T13:55:34.181Z"
   },
   {
    "duration": 198,
    "start_time": "2023-05-04T13:55:34.661Z"
   },
   {
    "duration": 8,
    "start_time": "2023-05-04T13:55:35.232Z"
   },
   {
    "duration": 225,
    "start_time": "2023-05-04T13:55:35.586Z"
   },
   {
    "duration": 7,
    "start_time": "2023-05-04T13:55:37.843Z"
   },
   {
    "duration": 230,
    "start_time": "2023-05-04T13:55:38.391Z"
   },
   {
    "duration": 253,
    "start_time": "2023-05-04T13:55:53.674Z"
   },
   {
    "duration": 99,
    "start_time": "2023-05-04T14:01:54.844Z"
   },
   {
    "duration": 6,
    "start_time": "2023-05-04T14:02:01.721Z"
   },
   {
    "duration": 503,
    "start_time": "2023-05-04T14:02:02.034Z"
   },
   {
    "duration": 103,
    "start_time": "2023-05-04T14:02:03.604Z"
   },
   {
    "duration": 185,
    "start_time": "2023-05-04T14:02:22.928Z"
   },
   {
    "duration": 484,
    "start_time": "2023-05-04T14:02:42.977Z"
   },
   {
    "duration": 14,
    "start_time": "2023-05-04T14:02:44.962Z"
   },
   {
    "duration": 487,
    "start_time": "2023-05-04T14:03:21.213Z"
   },
   {
    "duration": 13,
    "start_time": "2023-05-04T14:03:21.824Z"
   },
   {
    "duration": 484,
    "start_time": "2023-05-04T14:03:47.086Z"
   },
   {
    "duration": 9,
    "start_time": "2023-05-04T14:12:53.237Z"
   },
   {
    "duration": 9,
    "start_time": "2023-05-04T14:13:17.564Z"
   },
   {
    "duration": 8,
    "start_time": "2023-05-04T14:13:21.589Z"
   },
   {
    "duration": 15,
    "start_time": "2023-05-04T14:16:37.819Z"
   },
   {
    "duration": 17,
    "start_time": "2023-05-04T14:16:45.651Z"
   },
   {
    "duration": 17,
    "start_time": "2023-05-04T14:16:57.375Z"
   },
   {
    "duration": 390,
    "start_time": "2023-05-04T14:17:14.796Z"
   },
   {
    "duration": 20,
    "start_time": "2023-05-04T14:17:19.519Z"
   },
   {
    "duration": 18,
    "start_time": "2023-05-04T14:17:23.664Z"
   },
   {
    "duration": 16,
    "start_time": "2023-05-04T14:18:16.939Z"
   },
   {
    "duration": 4,
    "start_time": "2023-05-04T14:19:08.538Z"
   },
   {
    "duration": 61,
    "start_time": "2023-05-04T14:19:08.944Z"
   },
   {
    "duration": 17,
    "start_time": "2023-05-04T14:19:10.353Z"
   },
   {
    "duration": 33,
    "start_time": "2023-05-04T14:19:10.372Z"
   },
   {
    "duration": 45,
    "start_time": "2023-05-04T14:19:10.407Z"
   },
   {
    "duration": 5,
    "start_time": "2023-05-04T14:19:10.963Z"
   },
   {
    "duration": 17,
    "start_time": "2023-05-04T14:19:11.457Z"
   },
   {
    "duration": 17,
    "start_time": "2023-05-04T14:19:12.199Z"
   },
   {
    "duration": 6,
    "start_time": "2023-05-04T14:19:12.731Z"
   },
   {
    "duration": 10,
    "start_time": "2023-05-04T14:19:13.018Z"
   },
   {
    "duration": 17,
    "start_time": "2023-05-04T14:19:13.271Z"
   },
   {
    "duration": 9,
    "start_time": "2023-05-04T14:19:13.799Z"
   },
   {
    "duration": 9,
    "start_time": "2023-05-04T14:19:14.024Z"
   },
   {
    "duration": 13,
    "start_time": "2023-05-04T14:19:14.553Z"
   },
   {
    "duration": 14,
    "start_time": "2023-05-04T14:19:15.066Z"
   },
   {
    "duration": 11,
    "start_time": "2023-05-04T14:19:15.939Z"
   },
   {
    "duration": 18,
    "start_time": "2023-05-04T14:19:16.956Z"
   },
   {
    "duration": 10,
    "start_time": "2023-05-04T14:19:17.765Z"
   },
   {
    "duration": 18,
    "start_time": "2023-05-04T14:19:18.689Z"
   },
   {
    "duration": 811,
    "start_time": "2023-05-04T14:19:19.676Z"
   },
   {
    "duration": 317,
    "start_time": "2023-05-04T14:19:20.536Z"
   },
   {
    "duration": 21,
    "start_time": "2023-05-04T14:19:21.957Z"
   },
   {
    "duration": 30,
    "start_time": "2023-05-04T14:19:23.107Z"
   },
   {
    "duration": 22,
    "start_time": "2023-05-04T14:19:23.899Z"
   },
   {
    "duration": 81,
    "start_time": "2023-05-04T14:19:25.127Z"
   },
   {
    "duration": 51,
    "start_time": "2023-05-04T14:19:25.721Z"
   },
   {
    "duration": 21,
    "start_time": "2023-05-04T14:19:26.611Z"
   },
   {
    "duration": 399,
    "start_time": "2023-05-04T14:19:30.355Z"
   },
   {
    "duration": 374,
    "start_time": "2023-05-04T14:19:31.131Z"
   },
   {
    "duration": 235,
    "start_time": "2023-05-04T14:19:32.363Z"
   },
   {
    "duration": 10,
    "start_time": "2023-05-04T14:19:33.056Z"
   },
   {
    "duration": 543,
    "start_time": "2023-05-04T14:19:33.376Z"
   },
   {
    "duration": 4,
    "start_time": "2023-05-04T14:19:34.960Z"
   },
   {
    "duration": 6,
    "start_time": "2023-05-04T14:19:35.218Z"
   },
   {
    "duration": 42,
    "start_time": "2023-05-04T14:19:36.524Z"
   },
   {
    "duration": 200,
    "start_time": "2023-05-04T14:19:37.257Z"
   },
   {
    "duration": 9,
    "start_time": "2023-05-04T14:19:38.052Z"
   },
   {
    "duration": 255,
    "start_time": "2023-05-04T14:19:38.316Z"
   },
   {
    "duration": 7,
    "start_time": "2023-05-04T14:19:41.104Z"
   },
   {
    "duration": 286,
    "start_time": "2023-05-04T14:19:41.448Z"
   },
   {
    "duration": 364,
    "start_time": "2023-05-04T14:19:43.335Z"
   },
   {
    "duration": 401,
    "start_time": "2023-05-04T14:19:44.060Z"
   },
   {
    "duration": 6,
    "start_time": "2023-05-04T14:19:46.219Z"
   },
   {
    "duration": 588,
    "start_time": "2023-05-04T14:19:46.500Z"
   },
   {
    "duration": 16,
    "start_time": "2023-05-04T14:19:47.091Z"
   },
   {
    "duration": 7,
    "start_time": "2023-05-04T14:19:47.861Z"
   },
   {
    "duration": 763,
    "start_time": "2023-05-04T14:19:48.127Z"
   },
   {
    "duration": 13,
    "start_time": "2023-05-04T14:19:48.892Z"
   },
   {
    "duration": 573,
    "start_time": "2023-05-04T14:19:49.547Z"
   },
   {
    "duration": 29,
    "start_time": "2023-05-04T14:19:50.122Z"
   },
   {
    "duration": 562,
    "start_time": "2023-05-04T14:19:50.595Z"
   },
   {
    "duration": 16,
    "start_time": "2023-05-04T14:19:51.160Z"
   },
   {
    "duration": 206,
    "start_time": "2023-05-04T14:19:53.462Z"
   },
   {
    "duration": 255,
    "start_time": "2023-05-04T14:20:13.479Z"
   },
   {
    "duration": 18,
    "start_time": "2023-05-04T14:20:14.092Z"
   },
   {
    "duration": 13,
    "start_time": "2023-05-04T14:21:18.623Z"
   },
   {
    "duration": 10,
    "start_time": "2023-05-04T14:21:29.602Z"
   },
   {
    "duration": 9,
    "start_time": "2023-05-04T14:22:27.365Z"
   },
   {
    "duration": 16,
    "start_time": "2023-05-04T14:23:00.386Z"
   },
   {
    "duration": 22,
    "start_time": "2023-05-04T14:24:27.861Z"
   },
   {
    "duration": 18,
    "start_time": "2023-05-04T14:24:37.144Z"
   },
   {
    "duration": 14,
    "start_time": "2023-05-04T14:25:45.808Z"
   },
   {
    "duration": 10,
    "start_time": "2023-05-04T14:25:59.427Z"
   },
   {
    "duration": 7,
    "start_time": "2023-05-04T14:26:11.660Z"
   },
   {
    "duration": 9,
    "start_time": "2023-05-04T14:26:34.372Z"
   },
   {
    "duration": 8,
    "start_time": "2023-05-04T14:28:01.169Z"
   },
   {
    "duration": 4,
    "start_time": "2023-05-04T14:28:15.031Z"
   },
   {
    "duration": 9,
    "start_time": "2023-05-04T14:28:44.967Z"
   },
   {
    "duration": 10,
    "start_time": "2023-05-04T14:28:49.297Z"
   },
   {
    "duration": 16,
    "start_time": "2023-05-04T14:29:19.774Z"
   },
   {
    "duration": 612,
    "start_time": "2023-05-04T14:31:46.905Z"
   },
   {
    "duration": 377,
    "start_time": "2023-05-04T14:31:55.885Z"
   },
   {
    "duration": 344,
    "start_time": "2023-05-04T14:32:24.622Z"
   },
   {
    "duration": 54,
    "start_time": "2023-05-04T14:32:55.132Z"
   },
   {
    "duration": 299,
    "start_time": "2023-05-04T14:33:19.901Z"
   },
   {
    "duration": 354,
    "start_time": "2023-05-04T14:33:59.130Z"
   },
   {
    "duration": 387,
    "start_time": "2023-05-04T14:34:17.887Z"
   },
   {
    "duration": 509,
    "start_time": "2023-05-04T14:34:37.205Z"
   },
   {
    "duration": 355,
    "start_time": "2023-05-04T14:34:46.370Z"
   },
   {
    "duration": 383,
    "start_time": "2023-05-04T14:35:29.996Z"
   },
   {
    "duration": 325,
    "start_time": "2023-05-04T14:36:46.464Z"
   },
   {
    "duration": 333,
    "start_time": "2023-05-04T14:37:31.948Z"
   },
   {
    "duration": 311,
    "start_time": "2023-05-04T14:37:41.787Z"
   },
   {
    "duration": 454,
    "start_time": "2023-05-04T14:37:47.438Z"
   },
   {
    "duration": 124,
    "start_time": "2023-05-04T14:37:57.796Z"
   },
   {
    "duration": 379,
    "start_time": "2023-05-04T14:38:10.386Z"
   },
   {
    "duration": 386,
    "start_time": "2023-05-04T14:40:36.533Z"
   },
   {
    "duration": 12,
    "start_time": "2023-05-04T14:40:40.300Z"
   },
   {
    "duration": 360,
    "start_time": "2023-05-04T14:40:40.916Z"
   },
   {
    "duration": 409,
    "start_time": "2023-05-04T14:40:55.147Z"
   },
   {
    "duration": 547,
    "start_time": "2023-05-04T14:41:26.519Z"
   },
   {
    "duration": 416,
    "start_time": "2023-05-04T14:41:31.519Z"
   },
   {
    "duration": 343,
    "start_time": "2023-05-04T14:41:48.078Z"
   },
   {
    "duration": 398,
    "start_time": "2023-05-04T14:41:51.471Z"
   },
   {
    "duration": 345,
    "start_time": "2023-05-04T14:41:57.059Z"
   },
   {
    "duration": 362,
    "start_time": "2023-05-04T14:42:01.631Z"
   },
   {
    "duration": 526,
    "start_time": "2023-05-04T14:42:09.532Z"
   },
   {
    "duration": 342,
    "start_time": "2023-05-04T14:42:13.292Z"
   },
   {
    "duration": 416,
    "start_time": "2023-05-04T14:42:26.694Z"
   },
   {
    "duration": 343,
    "start_time": "2023-05-04T14:45:54.534Z"
   },
   {
    "duration": 28,
    "start_time": "2023-05-04T14:45:56.338Z"
   },
   {
    "duration": 378,
    "start_time": "2023-05-04T14:45:56.509Z"
   },
   {
    "duration": 13,
    "start_time": "2023-05-04T14:46:20.256Z"
   },
   {
    "duration": 315,
    "start_time": "2023-05-04T14:46:21.313Z"
   },
   {
    "duration": 17,
    "start_time": "2023-05-04T14:51:01.357Z"
   },
   {
    "duration": 638,
    "start_time": "2023-05-04T14:51:01.941Z"
   },
   {
    "duration": 28,
    "start_time": "2023-05-04T14:52:42.438Z"
   },
   {
    "duration": 33,
    "start_time": "2023-05-04T14:53:36.565Z"
   },
   {
    "duration": 125,
    "start_time": "2023-05-04T14:59:26.506Z"
   },
   {
    "duration": 36,
    "start_time": "2023-05-04T15:08:05.175Z"
   },
   {
    "duration": 4,
    "start_time": "2023-05-04T15:08:10.998Z"
   },
   {
    "duration": 60,
    "start_time": "2023-05-04T15:08:11.004Z"
   },
   {
    "duration": 15,
    "start_time": "2023-05-04T15:08:11.066Z"
   },
   {
    "duration": 28,
    "start_time": "2023-05-04T15:08:11.083Z"
   },
   {
    "duration": 49,
    "start_time": "2023-05-04T15:08:11.113Z"
   },
   {
    "duration": 3,
    "start_time": "2023-05-04T15:08:11.164Z"
   },
   {
    "duration": 45,
    "start_time": "2023-05-04T15:08:11.169Z"
   },
   {
    "duration": 32,
    "start_time": "2023-05-04T15:08:11.216Z"
   },
   {
    "duration": 10,
    "start_time": "2023-05-04T15:08:11.251Z"
   },
   {
    "duration": 19,
    "start_time": "2023-05-04T15:08:11.264Z"
   },
   {
    "duration": 24,
    "start_time": "2023-05-04T15:08:11.285Z"
   },
   {
    "duration": 36,
    "start_time": "2023-05-04T15:08:11.311Z"
   },
   {
    "duration": 30,
    "start_time": "2023-05-04T15:08:11.350Z"
   },
   {
    "duration": 14,
    "start_time": "2023-05-04T15:08:11.385Z"
   },
   {
    "duration": 30,
    "start_time": "2023-05-04T15:08:11.401Z"
   },
   {
    "duration": 17,
    "start_time": "2023-05-04T15:08:11.433Z"
   },
   {
    "duration": 28,
    "start_time": "2023-05-04T15:08:11.452Z"
   },
   {
    "duration": 14,
    "start_time": "2023-05-04T15:08:11.482Z"
   },
   {
    "duration": 25,
    "start_time": "2023-05-04T15:08:11.498Z"
   },
   {
    "duration": 719,
    "start_time": "2023-05-04T15:08:11.525Z"
   },
   {
    "duration": 305,
    "start_time": "2023-05-04T15:08:12.247Z"
   },
   {
    "duration": 20,
    "start_time": "2023-05-04T15:08:12.555Z"
   },
   {
    "duration": 26,
    "start_time": "2023-05-04T15:08:12.578Z"
   },
   {
    "duration": 50,
    "start_time": "2023-05-04T15:08:12.606Z"
   },
   {
    "duration": 102,
    "start_time": "2023-05-04T15:08:12.658Z"
   },
   {
    "duration": 43,
    "start_time": "2023-05-04T15:08:12.762Z"
   },
   {
    "duration": 44,
    "start_time": "2023-05-04T15:08:12.807Z"
   },
   {
    "duration": 341,
    "start_time": "2023-05-04T15:08:12.853Z"
   },
   {
    "duration": 478,
    "start_time": "2023-05-04T15:08:13.197Z"
   },
   {
    "duration": 236,
    "start_time": "2023-05-04T15:08:13.676Z"
   },
   {
    "duration": 10,
    "start_time": "2023-05-04T15:08:13.914Z"
   },
   {
    "duration": 394,
    "start_time": "2023-05-04T15:08:13.926Z"
   },
   {
    "duration": 4,
    "start_time": "2023-05-04T15:08:14.322Z"
   },
   {
    "duration": 22,
    "start_time": "2023-05-04T15:08:14.328Z"
   },
   {
    "duration": 45,
    "start_time": "2023-05-04T15:08:14.352Z"
   },
   {
    "duration": 180,
    "start_time": "2023-05-04T15:08:14.399Z"
   },
   {
    "duration": 7,
    "start_time": "2023-05-04T15:08:14.581Z"
   },
   {
    "duration": 244,
    "start_time": "2023-05-04T15:08:14.590Z"
   },
   {
    "duration": 11,
    "start_time": "2023-05-04T15:08:14.836Z"
   },
   {
    "duration": 254,
    "start_time": "2023-05-04T15:08:14.849Z"
   },
   {
    "duration": 359,
    "start_time": "2023-05-04T15:08:15.110Z"
   },
   {
    "duration": 373,
    "start_time": "2023-05-04T15:08:15.471Z"
   },
   {
    "duration": 9,
    "start_time": "2023-05-04T15:08:15.847Z"
   },
   {
    "duration": 816,
    "start_time": "2023-05-04T15:08:15.858Z"
   },
   {
    "duration": 16,
    "start_time": "2023-05-04T15:08:16.676Z"
   },
   {
    "duration": 45,
    "start_time": "2023-05-04T15:08:16.694Z"
   },
   {
    "duration": 573,
    "start_time": "2023-05-04T15:08:16.741Z"
   },
   {
    "duration": 27,
    "start_time": "2023-05-04T15:08:17.317Z"
   },
   {
    "duration": 533,
    "start_time": "2023-05-04T15:08:17.346Z"
   },
   {
    "duration": 13,
    "start_time": "2023-05-04T15:08:17.881Z"
   },
   {
    "duration": 702,
    "start_time": "2023-05-04T15:08:17.896Z"
   },
   {
    "duration": 14,
    "start_time": "2023-05-04T15:08:18.600Z"
   },
   {
    "duration": 200,
    "start_time": "2023-05-04T15:08:18.615Z"
   },
   {
    "duration": 262,
    "start_time": "2023-05-04T15:08:18.817Z"
   },
   {
    "duration": 3,
    "start_time": "2023-05-04T15:08:19.082Z"
   },
   {
    "duration": 27,
    "start_time": "2023-05-04T15:08:19.087Z"
   },
   {
    "duration": 325,
    "start_time": "2023-05-04T15:08:19.116Z"
   },
   {
    "duration": 259,
    "start_time": "2023-05-04T15:08:19.443Z"
   },
   {
    "duration": 11,
    "start_time": "2023-05-04T15:08:19.704Z"
   },
   {
    "duration": 332,
    "start_time": "2023-05-04T15:08:19.716Z"
   },
   {
    "duration": 199,
    "start_time": "2023-05-04T15:08:20.051Z"
   },
   {
    "duration": 8,
    "start_time": "2023-05-04T15:08:20.253Z"
   },
   {
    "duration": 294,
    "start_time": "2023-05-04T15:08:20.263Z"
   },
   {
    "duration": 18,
    "start_time": "2023-05-04T15:08:20.559Z"
   },
   {
    "duration": 25,
    "start_time": "2023-05-04T15:08:20.579Z"
   },
   {
    "duration": 23,
    "start_time": "2023-05-04T15:08:34.431Z"
   },
   {
    "duration": 11,
    "start_time": "2023-05-04T15:08:34.968Z"
   },
   {
    "duration": 10,
    "start_time": "2023-05-04T15:08:40.679Z"
   },
   {
    "duration": 11,
    "start_time": "2023-05-04T15:08:44.575Z"
   },
   {
    "duration": 11,
    "start_time": "2023-05-04T15:08:46.581Z"
   },
   {
    "duration": 11,
    "start_time": "2023-05-04T15:08:48.051Z"
   },
   {
    "duration": 10,
    "start_time": "2023-05-04T15:08:51.064Z"
   },
   {
    "duration": 575,
    "start_time": "2023-05-04T15:27:12.830Z"
   },
   {
    "duration": 511,
    "start_time": "2023-05-04T15:31:19.737Z"
   },
   {
    "duration": 448,
    "start_time": "2023-05-04T15:31:34.785Z"
   },
   {
    "duration": 406,
    "start_time": "2023-05-04T15:31:41.193Z"
   },
   {
    "duration": 428,
    "start_time": "2023-05-04T15:31:48.417Z"
   },
   {
    "duration": 534,
    "start_time": "2023-05-04T15:40:22.324Z"
   },
   {
    "duration": 310,
    "start_time": "2023-05-04T15:50:59.683Z"
   },
   {
    "duration": 2051,
    "start_time": "2023-05-05T10:58:40.073Z"
   },
   {
    "duration": 127,
    "start_time": "2023-05-05T10:58:42.126Z"
   },
   {
    "duration": 69,
    "start_time": "2023-05-05T10:58:42.254Z"
   },
   {
    "duration": 14,
    "start_time": "2023-05-05T10:58:42.325Z"
   },
   {
    "duration": 91,
    "start_time": "2023-05-05T10:58:42.340Z"
   },
   {
    "duration": 4,
    "start_time": "2023-05-05T10:58:42.433Z"
   },
   {
    "duration": 86,
    "start_time": "2023-05-05T10:58:42.439Z"
   },
   {
    "duration": 23,
    "start_time": "2023-05-05T10:58:42.527Z"
   },
   {
    "duration": 5,
    "start_time": "2023-05-05T10:58:42.551Z"
   },
   {
    "duration": 61,
    "start_time": "2023-05-05T10:58:42.558Z"
   },
   {
    "duration": 15,
    "start_time": "2023-05-05T10:58:42.621Z"
   },
   {
    "duration": 7,
    "start_time": "2023-05-05T10:58:42.637Z"
   },
   {
    "duration": 67,
    "start_time": "2023-05-05T10:58:42.646Z"
   },
   {
    "duration": 12,
    "start_time": "2023-05-05T10:58:42.715Z"
   },
   {
    "duration": 13,
    "start_time": "2023-05-05T10:58:42.728Z"
   },
   {
    "duration": 76,
    "start_time": "2023-05-05T10:58:42.743Z"
   },
   {
    "duration": 16,
    "start_time": "2023-05-05T10:58:42.820Z"
   },
   {
    "duration": 75,
    "start_time": "2023-05-05T10:58:42.837Z"
   },
   {
    "duration": 18,
    "start_time": "2023-05-05T10:58:42.914Z"
   },
   {
    "duration": 1220,
    "start_time": "2023-05-05T10:58:42.934Z"
   },
   {
    "duration": 530,
    "start_time": "2023-05-05T10:58:44.212Z"
   },
   {
    "duration": 71,
    "start_time": "2023-05-05T10:58:44.744Z"
   },
   {
    "duration": 22,
    "start_time": "2023-05-05T10:58:44.817Z"
   },
   {
    "duration": 84,
    "start_time": "2023-05-05T10:58:44.841Z"
   },
   {
    "duration": 120,
    "start_time": "2023-05-05T10:58:44.927Z"
   },
   {
    "duration": 94,
    "start_time": "2023-05-05T10:58:45.049Z"
   },
   {
    "duration": 70,
    "start_time": "2023-05-05T10:58:45.145Z"
   },
   {
    "duration": 626,
    "start_time": "2023-05-05T10:58:45.219Z"
   },
   {
    "duration": 789,
    "start_time": "2023-05-05T10:58:45.846Z"
   },
   {
    "duration": 410,
    "start_time": "2023-05-05T10:58:46.637Z"
   },
   {
    "duration": 63,
    "start_time": "2023-05-05T10:58:47.049Z"
   },
   {
    "duration": 715,
    "start_time": "2023-05-05T10:58:47.114Z"
   },
   {
    "duration": 3,
    "start_time": "2023-05-05T10:58:47.831Z"
   },
   {
    "duration": 19,
    "start_time": "2023-05-05T10:58:47.836Z"
   },
   {
    "duration": 82,
    "start_time": "2023-05-05T10:58:47.857Z"
   },
   {
    "duration": 371,
    "start_time": "2023-05-05T10:58:47.941Z"
   },
   {
    "duration": 6,
    "start_time": "2023-05-05T10:58:48.314Z"
   },
   {
    "duration": 413,
    "start_time": "2023-05-05T10:58:48.321Z"
   },
   {
    "duration": 78,
    "start_time": "2023-05-05T10:58:48.736Z"
   },
   {
    "duration": 642,
    "start_time": "2023-05-05T10:58:48.816Z"
   },
   {
    "duration": 922,
    "start_time": "2023-05-05T10:58:49.512Z"
   },
   {
    "duration": 1194,
    "start_time": "2023-05-05T10:58:50.436Z"
   },
   {
    "duration": 84,
    "start_time": "2023-05-05T10:58:51.633Z"
   },
   {
    "duration": 2992,
    "start_time": "2023-05-05T10:58:51.720Z"
   },
   {
    "duration": 121,
    "start_time": "2023-05-05T10:58:54.714Z"
   },
   {
    "duration": 6,
    "start_time": "2023-05-05T10:58:54.912Z"
   },
   {
    "duration": 1894,
    "start_time": "2023-05-05T10:58:54.920Z"
   },
   {
    "duration": 13,
    "start_time": "2023-05-05T10:58:56.816Z"
   },
   {
    "duration": 1581,
    "start_time": "2023-05-05T10:58:56.831Z"
   },
   {
    "duration": 17,
    "start_time": "2023-05-05T10:58:58.415Z"
   },
   {
    "duration": 2188,
    "start_time": "2023-05-05T10:58:58.434Z"
   },
   {
    "duration": 88,
    "start_time": "2023-05-05T10:59:00.624Z"
   },
   {
    "duration": 506,
    "start_time": "2023-05-05T10:59:00.714Z"
   },
   {
    "duration": 1092,
    "start_time": "2023-05-05T10:59:01.222Z"
   },
   {
    "duration": 1022,
    "start_time": "2023-05-05T10:59:02.316Z"
   },
   {
    "duration": 725,
    "start_time": "2023-05-05T10:59:03.412Z"
   },
   {
    "duration": 73,
    "start_time": "2023-05-05T10:59:04.139Z"
   },
   {
    "duration": 12,
    "start_time": "2023-05-05T10:59:04.214Z"
   },
   {
    "duration": 992,
    "start_time": "2023-05-05T10:59:04.228Z"
   },
   {
    "duration": 719,
    "start_time": "2023-05-05T10:59:05.222Z"
   },
   {
    "duration": 14,
    "start_time": "2023-05-05T10:59:06.016Z"
   },
   {
    "duration": 1497,
    "start_time": "2023-05-05T10:59:06.032Z"
   },
   {
    "duration": 583,
    "start_time": "2023-05-05T10:59:07.531Z"
   },
   {
    "duration": 9,
    "start_time": "2023-05-05T10:59:08.116Z"
   },
   {
    "duration": 798,
    "start_time": "2023-05-05T10:59:08.127Z"
   },
   {
    "duration": 87,
    "start_time": "2023-05-05T10:59:08.927Z"
   },
   {
    "duration": 106,
    "start_time": "2023-05-05T10:59:09.018Z"
   },
   {
    "duration": 12,
    "start_time": "2023-05-05T10:59:09.126Z"
   },
   {
    "duration": 11,
    "start_time": "2023-05-05T10:59:09.213Z"
   },
   {
    "duration": 10,
    "start_time": "2023-05-05T11:04:40.362Z"
   },
   {
    "duration": 11,
    "start_time": "2023-05-05T11:04:53.147Z"
   },
   {
    "duration": 10,
    "start_time": "2023-05-05T11:05:04.163Z"
   },
   {
    "duration": 8,
    "start_time": "2023-05-05T11:05:14.667Z"
   },
   {
    "duration": 8,
    "start_time": "2023-05-05T11:05:17.483Z"
   },
   {
    "duration": 7,
    "start_time": "2023-05-05T11:07:44.825Z"
   },
   {
    "duration": 1148,
    "start_time": "2023-05-05T11:10:25.145Z"
   },
   {
    "duration": 52,
    "start_time": "2023-05-05T11:10:26.295Z"
   },
   {
    "duration": 19,
    "start_time": "2023-05-05T11:10:26.349Z"
   },
   {
    "duration": 16,
    "start_time": "2023-05-05T11:10:26.371Z"
   },
   {
    "duration": 47,
    "start_time": "2023-05-05T11:10:26.388Z"
   },
   {
    "duration": 4,
    "start_time": "2023-05-05T11:10:26.436Z"
   },
   {
    "duration": 22,
    "start_time": "2023-05-05T11:10:26.442Z"
   },
   {
    "duration": 22,
    "start_time": "2023-05-05T11:10:26.466Z"
   },
   {
    "duration": 26,
    "start_time": "2023-05-05T11:10:26.490Z"
   },
   {
    "duration": 8,
    "start_time": "2023-05-05T11:10:26.520Z"
   },
   {
    "duration": 14,
    "start_time": "2023-05-05T11:10:26.530Z"
   },
   {
    "duration": 8,
    "start_time": "2023-05-05T11:10:26.545Z"
   },
   {
    "duration": 8,
    "start_time": "2023-05-05T11:10:26.554Z"
   },
   {
    "duration": 54,
    "start_time": "2023-05-05T11:10:26.564Z"
   },
   {
    "duration": 16,
    "start_time": "2023-05-05T11:10:26.621Z"
   },
   {
    "duration": 15,
    "start_time": "2023-05-05T11:10:26.640Z"
   },
   {
    "duration": 32,
    "start_time": "2023-05-05T11:10:26.656Z"
   },
   {
    "duration": 10,
    "start_time": "2023-05-05T11:10:26.689Z"
   },
   {
    "duration": 27,
    "start_time": "2023-05-05T11:10:26.700Z"
   },
   {
    "duration": 607,
    "start_time": "2023-05-05T11:10:26.729Z"
   },
   {
    "duration": 295,
    "start_time": "2023-05-05T11:10:27.338Z"
   },
   {
    "duration": 20,
    "start_time": "2023-05-05T11:10:27.635Z"
   },
   {
    "duration": 20,
    "start_time": "2023-05-05T11:10:27.657Z"
   },
   {
    "duration": 44,
    "start_time": "2023-05-05T11:10:27.679Z"
   },
   {
    "duration": 56,
    "start_time": "2023-05-05T11:10:27.725Z"
   },
   {
    "duration": 34,
    "start_time": "2023-05-05T11:10:27.811Z"
   },
   {
    "duration": 14,
    "start_time": "2023-05-05T11:10:27.847Z"
   },
   {
    "duration": 507,
    "start_time": "2023-05-05T11:10:27.865Z"
   },
   {
    "duration": 459,
    "start_time": "2023-05-05T11:10:28.374Z"
   },
   {
    "duration": 295,
    "start_time": "2023-05-05T11:10:28.834Z"
   },
   {
    "duration": 10,
    "start_time": "2023-05-05T11:10:29.131Z"
   },
   {
    "duration": 708,
    "start_time": "2023-05-05T11:10:29.144Z"
   },
   {
    "duration": 3,
    "start_time": "2023-05-05T11:10:29.854Z"
   },
   {
    "duration": 7,
    "start_time": "2023-05-05T11:10:29.859Z"
   },
   {
    "duration": 54,
    "start_time": "2023-05-05T11:10:29.867Z"
   },
   {
    "duration": 178,
    "start_time": "2023-05-05T11:10:29.923Z"
   },
   {
    "duration": 11,
    "start_time": "2023-05-05T11:10:30.103Z"
   },
   {
    "duration": 219,
    "start_time": "2023-05-05T11:10:30.116Z"
   },
   {
    "duration": 7,
    "start_time": "2023-05-05T11:10:30.337Z"
   },
   {
    "duration": 266,
    "start_time": "2023-05-05T11:10:30.346Z"
   },
   {
    "duration": 343,
    "start_time": "2023-05-05T11:10:30.614Z"
   },
   {
    "duration": 356,
    "start_time": "2023-05-05T11:10:30.959Z"
   },
   {
    "duration": 6,
    "start_time": "2023-05-05T11:10:31.317Z"
   },
   {
    "duration": 590,
    "start_time": "2023-05-05T11:10:31.325Z"
   },
   {
    "duration": 48,
    "start_time": "2023-05-05T11:10:31.917Z"
   },
   {
    "duration": 6,
    "start_time": "2023-05-05T11:10:31.967Z"
   },
   {
    "duration": 498,
    "start_time": "2023-05-05T11:10:31.975Z"
   },
   {
    "duration": 13,
    "start_time": "2023-05-05T11:10:32.475Z"
   },
   {
    "duration": 499,
    "start_time": "2023-05-05T11:10:32.490Z"
   },
   {
    "duration": 20,
    "start_time": "2023-05-05T11:10:32.991Z"
   },
   {
    "duration": 591,
    "start_time": "2023-05-05T11:10:33.013Z"
   },
   {
    "duration": 16,
    "start_time": "2023-05-05T11:10:33.606Z"
   },
   {
    "duration": 202,
    "start_time": "2023-05-05T11:10:33.624Z"
   },
   {
    "duration": 334,
    "start_time": "2023-05-05T11:10:33.829Z"
   },
   {
    "duration": 352,
    "start_time": "2023-05-05T11:10:34.165Z"
   },
   {
    "duration": 242,
    "start_time": "2023-05-05T11:10:34.519Z"
   },
   {
    "duration": 4,
    "start_time": "2023-05-05T11:10:34.763Z"
   },
   {
    "duration": 15,
    "start_time": "2023-05-05T11:10:34.769Z"
   },
   {
    "duration": 309,
    "start_time": "2023-05-05T11:10:34.787Z"
   },
   {
    "duration": 257,
    "start_time": "2023-05-05T11:10:35.099Z"
   },
   {
    "duration": 12,
    "start_time": "2023-05-05T11:10:35.358Z"
   },
   {
    "duration": 442,
    "start_time": "2023-05-05T11:10:35.372Z"
   },
   {
    "duration": 197,
    "start_time": "2023-05-05T11:10:35.816Z"
   },
   {
    "duration": 8,
    "start_time": "2023-05-05T11:10:36.016Z"
   },
   {
    "duration": 292,
    "start_time": "2023-05-05T11:10:36.026Z"
   },
   {
    "duration": 19,
    "start_time": "2023-05-05T11:10:36.319Z"
   },
   {
    "duration": 22,
    "start_time": "2023-05-05T11:10:36.340Z"
   },
   {
    "duration": 9,
    "start_time": "2023-05-05T11:10:36.363Z"
   },
   {
    "duration": 38,
    "start_time": "2023-05-05T11:10:36.374Z"
   },
   {
    "duration": 10,
    "start_time": "2023-05-05T11:10:36.414Z"
   },
   {
    "duration": 51,
    "start_time": "2023-05-05T11:10:36.426Z"
   },
   {
    "duration": 3,
    "start_time": "2023-05-05T11:10:36.479Z"
   },
   {
    "duration": 11,
    "start_time": "2023-05-05T11:10:36.484Z"
   },
   {
    "duration": 108,
    "start_time": "2023-05-05T11:10:36.498Z"
   },
   {
    "duration": 0,
    "start_time": "2023-05-05T11:10:36.608Z"
   },
   {
    "duration": 0,
    "start_time": "2023-05-05T11:10:36.609Z"
   },
   {
    "duration": 0,
    "start_time": "2023-05-05T11:10:36.609Z"
   },
   {
    "duration": 0,
    "start_time": "2023-05-05T11:10:36.610Z"
   },
   {
    "duration": 0,
    "start_time": "2023-05-05T11:10:36.610Z"
   },
   {
    "duration": 0,
    "start_time": "2023-05-05T11:10:36.612Z"
   },
   {
    "duration": 1206,
    "start_time": "2023-05-05T11:10:51.881Z"
   },
   {
    "duration": 51,
    "start_time": "2023-05-05T11:10:53.089Z"
   },
   {
    "duration": 20,
    "start_time": "2023-05-05T11:10:53.142Z"
   },
   {
    "duration": 15,
    "start_time": "2023-05-05T11:10:53.164Z"
   },
   {
    "duration": 51,
    "start_time": "2023-05-05T11:10:53.181Z"
   },
   {
    "duration": 3,
    "start_time": "2023-05-05T11:10:53.234Z"
   },
   {
    "duration": 30,
    "start_time": "2023-05-05T11:10:53.239Z"
   },
   {
    "duration": 16,
    "start_time": "2023-05-05T11:10:53.271Z"
   },
   {
    "duration": 5,
    "start_time": "2023-05-05T11:10:53.289Z"
   },
   {
    "duration": 10,
    "start_time": "2023-05-05T11:10:53.313Z"
   },
   {
    "duration": 15,
    "start_time": "2023-05-05T11:10:53.325Z"
   },
   {
    "duration": 7,
    "start_time": "2023-05-05T11:10:53.342Z"
   },
   {
    "duration": 8,
    "start_time": "2023-05-05T11:10:53.351Z"
   },
   {
    "duration": 51,
    "start_time": "2023-05-05T11:10:53.361Z"
   },
   {
    "duration": 15,
    "start_time": "2023-05-05T11:10:53.414Z"
   },
   {
    "duration": 9,
    "start_time": "2023-05-05T11:10:53.431Z"
   },
   {
    "duration": 16,
    "start_time": "2023-05-05T11:10:53.442Z"
   },
   {
    "duration": 12,
    "start_time": "2023-05-05T11:10:53.460Z"
   },
   {
    "duration": 53,
    "start_time": "2023-05-05T11:10:53.475Z"
   },
   {
    "duration": 586,
    "start_time": "2023-05-05T11:10:53.530Z"
   },
   {
    "duration": 275,
    "start_time": "2023-05-05T11:10:54.118Z"
   },
   {
    "duration": 27,
    "start_time": "2023-05-05T11:10:54.395Z"
   },
   {
    "duration": 21,
    "start_time": "2023-05-05T11:10:54.424Z"
   },
   {
    "duration": 20,
    "start_time": "2023-05-05T11:10:54.447Z"
   },
   {
    "duration": 91,
    "start_time": "2023-05-05T11:10:54.469Z"
   },
   {
    "duration": 53,
    "start_time": "2023-05-05T11:10:54.563Z"
   },
   {
    "duration": 15,
    "start_time": "2023-05-05T11:10:54.617Z"
   },
   {
    "duration": 339,
    "start_time": "2023-05-05T11:10:54.636Z"
   },
   {
    "duration": 424,
    "start_time": "2023-05-05T11:10:54.976Z"
   },
   {
    "duration": 209,
    "start_time": "2023-05-05T11:10:55.402Z"
   },
   {
    "duration": 8,
    "start_time": "2023-05-05T11:10:55.613Z"
   },
   {
    "duration": 361,
    "start_time": "2023-05-05T11:10:55.623Z"
   },
   {
    "duration": 3,
    "start_time": "2023-05-05T11:10:55.986Z"
   },
   {
    "duration": 6,
    "start_time": "2023-05-05T11:10:55.991Z"
   },
   {
    "duration": 37,
    "start_time": "2023-05-05T11:10:55.999Z"
   },
   {
    "duration": 188,
    "start_time": "2023-05-05T11:10:56.038Z"
   },
   {
    "duration": 7,
    "start_time": "2023-05-05T11:10:56.228Z"
   },
   {
    "duration": 208,
    "start_time": "2023-05-05T11:10:56.237Z"
   },
   {
    "duration": 6,
    "start_time": "2023-05-05T11:10:56.447Z"
   },
   {
    "duration": 236,
    "start_time": "2023-05-05T11:10:56.455Z"
   },
   {
    "duration": 343,
    "start_time": "2023-05-05T11:10:56.694Z"
   },
   {
    "duration": 343,
    "start_time": "2023-05-05T11:10:57.039Z"
   },
   {
    "duration": 5,
    "start_time": "2023-05-05T11:10:57.384Z"
   },
   {
    "duration": 587,
    "start_time": "2023-05-05T11:10:57.391Z"
   },
   {
    "duration": 56,
    "start_time": "2023-05-05T11:10:57.979Z"
   },
   {
    "duration": 8,
    "start_time": "2023-05-05T11:10:58.036Z"
   },
   {
    "duration": 530,
    "start_time": "2023-05-05T11:10:58.046Z"
   },
   {
    "duration": 13,
    "start_time": "2023-05-05T11:10:58.578Z"
   },
   {
    "duration": 551,
    "start_time": "2023-05-05T11:10:58.593Z"
   },
   {
    "duration": 12,
    "start_time": "2023-05-05T11:10:59.146Z"
   },
   {
    "duration": 589,
    "start_time": "2023-05-05T11:10:59.160Z"
   },
   {
    "duration": 12,
    "start_time": "2023-05-05T11:10:59.750Z"
   },
   {
    "duration": 186,
    "start_time": "2023-05-05T11:10:59.764Z"
   },
   {
    "duration": 332,
    "start_time": "2023-05-05T11:10:59.952Z"
   },
   {
    "duration": 359,
    "start_time": "2023-05-05T11:11:00.286Z"
   },
   {
    "duration": 284,
    "start_time": "2023-05-05T11:11:00.647Z"
   },
   {
    "duration": 3,
    "start_time": "2023-05-05T11:11:00.933Z"
   },
   {
    "duration": 21,
    "start_time": "2023-05-05T11:11:00.938Z"
   },
   {
    "duration": 329,
    "start_time": "2023-05-05T11:11:00.961Z"
   },
   {
    "duration": 251,
    "start_time": "2023-05-05T11:11:01.292Z"
   },
   {
    "duration": 10,
    "start_time": "2023-05-05T11:11:01.545Z"
   },
   {
    "duration": 421,
    "start_time": "2023-05-05T11:11:01.556Z"
   },
   {
    "duration": 181,
    "start_time": "2023-05-05T11:11:01.979Z"
   },
   {
    "duration": 7,
    "start_time": "2023-05-05T11:11:02.162Z"
   },
   {
    "duration": 279,
    "start_time": "2023-05-05T11:11:02.170Z"
   },
   {
    "duration": 16,
    "start_time": "2023-05-05T11:11:02.450Z"
   },
   {
    "duration": 39,
    "start_time": "2023-05-05T11:11:02.468Z"
   },
   {
    "duration": 11,
    "start_time": "2023-05-05T11:11:02.511Z"
   },
   {
    "duration": 46,
    "start_time": "2023-05-05T11:11:02.524Z"
   },
   {
    "duration": 15,
    "start_time": "2023-05-05T11:11:02.572Z"
   },
   {
    "duration": 86,
    "start_time": "2023-05-05T11:11:02.589Z"
   },
   {
    "duration": 4,
    "start_time": "2023-05-05T11:11:02.677Z"
   },
   {
    "duration": 40,
    "start_time": "2023-05-05T11:11:02.683Z"
   },
   {
    "duration": 19,
    "start_time": "2023-05-05T11:11:02.724Z"
   },
   {
    "duration": 31,
    "start_time": "2023-05-05T11:11:02.745Z"
   },
   {
    "duration": 26,
    "start_time": "2023-05-05T11:11:02.778Z"
   },
   {
    "duration": 703,
    "start_time": "2023-05-05T11:11:02.806Z"
   },
   {
    "duration": 698,
    "start_time": "2023-05-05T11:11:03.511Z"
   },
   {
    "duration": 698,
    "start_time": "2023-05-05T11:11:04.211Z"
   }
  ],
  "kernelspec": {
   "display_name": "Python 3 (ipykernel)",
   "language": "python",
   "name": "python3"
  },
  "language_info": {
   "codemirror_mode": {
    "name": "ipython",
    "version": 3
   },
   "file_extension": ".py",
   "mimetype": "text/x-python",
   "name": "python",
   "nbconvert_exporter": "python",
   "pygments_lexer": "ipython3",
   "version": "3.9.18"
  },
  "toc": {
   "base_numbering": 1,
   "nav_menu": {},
   "number_sections": true,
   "sideBar": true,
   "skip_h1_title": true,
   "title_cell": "Table of Contents",
   "title_sidebar": "Contents",
   "toc_cell": true,
   "toc_position": {
    "height": "calc(100% - 180px)",
    "left": "10px",
    "top": "150px",
    "width": "248px"
   },
   "toc_section_display": true,
   "toc_window_display": true
  }
 },
 "nbformat": 4,
 "nbformat_minor": 5
}
