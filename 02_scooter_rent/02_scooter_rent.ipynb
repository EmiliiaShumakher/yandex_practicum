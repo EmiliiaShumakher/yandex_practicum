{
 "cells": [
  {
   "cell_type": "markdown",
   "id": "a1e0a1c5-7e9a-4299-9855-32cf439a18a5",
   "metadata": {},
   "source": [
    "# Статистический анализ данных"
   ]
  },
  {
   "cell_type": "markdown",
   "id": "db0fae27-214a-46dd-b077-1526c4f6561d",
   "metadata": {},
   "source": [
    "## Анализ сервиса аренды самокатов GoFast"
   ]
  },
  {
   "cell_type": "markdown",
   "id": "b94bb7ad-5198-4fc3-bc3b-f1438f8eb35d",
   "metadata": {},
   "source": [
    "Вы аналитик популярного сервиса аренды самокатов GoFast. Вам передали данные о некоторых пользователях из нескольких городов, а также об их поездках. Проанализируйте данные и проверьте некоторые гипотезы, которые могут помочь бизнесу вырасти.  \n",
    "Чтобы совершать поездки по городу, пользователи сервиса GoFast пользуются мобильным приложением. Сервисом можно пользоваться:  \n",
    "* без подписки  \n",
    "    - абонентская плата отсутствует;  \n",
    "    - стоимость одной минуты поездки — 8 рублей;  \n",
    "    - стоимость старта (начала поездки) — 50 рублей;  \n",
    "* с подпиской Ultra  \n",
    "    - абонентская плата — 199 рублей в месяц;  \n",
    "    - стоимость одной минуты поездки — 6 рублей;  \n",
    "    - стоимость старта — бесплатно."
   ]
  },
  {
   "cell_type": "markdown",
   "id": "c7a400a3-0ad0-4193-b970-409c984effa2",
   "metadata": {},
   "source": [
    "Описание данных  \n",
    "В основных данных есть информация о пользователях, их поездках и подписках. Есть и дополнительная информация — о количестве обращений пользователей в техподдержку сервиса до и после обновления технической инфраструктуры.  \n",
    "Пользователи — `users_go.csv`   \n",
    "Поездки — `rides_go.csv`  \n",
    "Подписки — `subscriptions_go.csv`  "
   ]
  },
  {
   "cell_type": "code",
   "execution_count": 1,
   "id": "ecc875db",
   "metadata": {},
   "outputs": [],
   "source": [
    "import pandas as pd\n",
    "import matplotlib.pyplot as plt\n",
    "from scipy import stats as st"
   ]
  },
  {
   "cell_type": "markdown",
   "id": "c42cbe00",
   "metadata": {},
   "source": [
    "### Загрузка данных"
   ]
  },
  {
   "cell_type": "code",
   "execution_count": 4,
   "id": "eff9f206",
   "metadata": {},
   "outputs": [],
   "source": [
    "try:\n",
    "    data_users = pd.read_csv('/datasets/users_go.csv')\n",
    "except:\n",
    "    data_users = pd.read_csv('https://code.s3.yandex.net/datasets/users_go.csv')"
   ]
  },
  {
   "cell_type": "code",
   "execution_count": 5,
   "id": "ce11762b",
   "metadata": {},
   "outputs": [],
   "source": [
    "try:\n",
    "    data_rides = pd.read_csv('/datasets/rides_go.csv')\n",
    "except:\n",
    "    data_rides = pd.read_csv('https://code.s3.yandex.net/datasets/rides_go.csv')"
   ]
  },
  {
   "cell_type": "code",
   "execution_count": 6,
   "id": "5cc3b77e",
   "metadata": {},
   "outputs": [],
   "source": [
    "try:\n",
    "    data_subscriptions = pd.read_csv('/datasets/subscriptions_go.csv')\n",
    "except:\n",
    "    data_subscriptions = pd.read_csv('https://code.s3.yandex.net/datasets/subscriptions_go.csv')"
   ]
  },
  {
   "cell_type": "markdown",
   "id": "4a154a90",
   "metadata": {},
   "source": [
    "Выведем первые строки каждого набора данных. Изучим общую информацию о каждом датафрейме."
   ]
  },
  {
   "cell_type": "code",
   "execution_count": 7,
   "id": "978d5322",
   "metadata": {},
   "outputs": [
    {
     "data": {
      "text/html": [
       "<div>\n",
       "<style scoped>\n",
       "    .dataframe tbody tr th:only-of-type {\n",
       "        vertical-align: middle;\n",
       "    }\n",
       "\n",
       "    .dataframe tbody tr th {\n",
       "        vertical-align: top;\n",
       "    }\n",
       "\n",
       "    .dataframe thead th {\n",
       "        text-align: right;\n",
       "    }\n",
       "</style>\n",
       "<table border=\"1\" class=\"dataframe\">\n",
       "  <thead>\n",
       "    <tr style=\"text-align: right;\">\n",
       "      <th></th>\n",
       "      <th>user_id</th>\n",
       "      <th>name</th>\n",
       "      <th>age</th>\n",
       "      <th>city</th>\n",
       "      <th>subscription_type</th>\n",
       "    </tr>\n",
       "  </thead>\n",
       "  <tbody>\n",
       "    <tr>\n",
       "      <th>0</th>\n",
       "      <td>1</td>\n",
       "      <td>Кира</td>\n",
       "      <td>22</td>\n",
       "      <td>Тюмень</td>\n",
       "      <td>ultra</td>\n",
       "    </tr>\n",
       "    <tr>\n",
       "      <th>1</th>\n",
       "      <td>2</td>\n",
       "      <td>Станислав</td>\n",
       "      <td>31</td>\n",
       "      <td>Омск</td>\n",
       "      <td>ultra</td>\n",
       "    </tr>\n",
       "    <tr>\n",
       "      <th>2</th>\n",
       "      <td>3</td>\n",
       "      <td>Алексей</td>\n",
       "      <td>20</td>\n",
       "      <td>Москва</td>\n",
       "      <td>ultra</td>\n",
       "    </tr>\n",
       "    <tr>\n",
       "      <th>3</th>\n",
       "      <td>4</td>\n",
       "      <td>Константин</td>\n",
       "      <td>26</td>\n",
       "      <td>Ростов-на-Дону</td>\n",
       "      <td>ultra</td>\n",
       "    </tr>\n",
       "    <tr>\n",
       "      <th>4</th>\n",
       "      <td>5</td>\n",
       "      <td>Адель</td>\n",
       "      <td>28</td>\n",
       "      <td>Омск</td>\n",
       "      <td>ultra</td>\n",
       "    </tr>\n",
       "  </tbody>\n",
       "</table>\n",
       "</div>"
      ],
      "text/plain": [
       "   user_id        name  age            city subscription_type\n",
       "0        1        Кира   22          Тюмень             ultra\n",
       "1        2   Станислав   31            Омск             ultra\n",
       "2        3     Алексей   20          Москва             ultra\n",
       "3        4  Константин   26  Ростов-на-Дону             ultra\n",
       "4        5       Адель   28            Омск             ultra"
      ]
     },
     "execution_count": 7,
     "metadata": {},
     "output_type": "execute_result"
    }
   ],
   "source": [
    "data_users.head()"
   ]
  },
  {
   "cell_type": "code",
   "execution_count": 8,
   "id": "36b6b171",
   "metadata": {},
   "outputs": [
    {
     "name": "stdout",
     "output_type": "stream",
     "text": [
      "<class 'pandas.core.frame.DataFrame'>\n",
      "RangeIndex: 1565 entries, 0 to 1564\n",
      "Data columns (total 5 columns):\n",
      " #   Column             Non-Null Count  Dtype \n",
      "---  ------             --------------  ----- \n",
      " 0   user_id            1565 non-null   int64 \n",
      " 1   name               1565 non-null   object\n",
      " 2   age                1565 non-null   int64 \n",
      " 3   city               1565 non-null   object\n",
      " 4   subscription_type  1565 non-null   object\n",
      "dtypes: int64(2), object(3)\n",
      "memory usage: 61.3+ KB\n"
     ]
    }
   ],
   "source": [
    "data_users.info()"
   ]
  },
  {
   "cell_type": "code",
   "execution_count": 9,
   "id": "678d07c3",
   "metadata": {},
   "outputs": [
    {
     "data": {
      "text/html": [
       "<div>\n",
       "<style scoped>\n",
       "    .dataframe tbody tr th:only-of-type {\n",
       "        vertical-align: middle;\n",
       "    }\n",
       "\n",
       "    .dataframe tbody tr th {\n",
       "        vertical-align: top;\n",
       "    }\n",
       "\n",
       "    .dataframe thead th {\n",
       "        text-align: right;\n",
       "    }\n",
       "</style>\n",
       "<table border=\"1\" class=\"dataframe\">\n",
       "  <thead>\n",
       "    <tr style=\"text-align: right;\">\n",
       "      <th></th>\n",
       "      <th>user_id</th>\n",
       "      <th>age</th>\n",
       "    </tr>\n",
       "  </thead>\n",
       "  <tbody>\n",
       "    <tr>\n",
       "      <th>count</th>\n",
       "      <td>1565.000000</td>\n",
       "      <td>1565.000000</td>\n",
       "    </tr>\n",
       "    <tr>\n",
       "      <th>mean</th>\n",
       "      <td>762.633866</td>\n",
       "      <td>24.922045</td>\n",
       "    </tr>\n",
       "    <tr>\n",
       "      <th>std</th>\n",
       "      <td>443.260155</td>\n",
       "      <td>4.553496</td>\n",
       "    </tr>\n",
       "    <tr>\n",
       "      <th>min</th>\n",
       "      <td>1.000000</td>\n",
       "      <td>12.000000</td>\n",
       "    </tr>\n",
       "    <tr>\n",
       "      <th>25%</th>\n",
       "      <td>378.000000</td>\n",
       "      <td>22.000000</td>\n",
       "    </tr>\n",
       "    <tr>\n",
       "      <th>50%</th>\n",
       "      <td>762.000000</td>\n",
       "      <td>25.000000</td>\n",
       "    </tr>\n",
       "    <tr>\n",
       "      <th>75%</th>\n",
       "      <td>1146.000000</td>\n",
       "      <td>28.000000</td>\n",
       "    </tr>\n",
       "    <tr>\n",
       "      <th>max</th>\n",
       "      <td>1534.000000</td>\n",
       "      <td>43.000000</td>\n",
       "    </tr>\n",
       "  </tbody>\n",
       "</table>\n",
       "</div>"
      ],
      "text/plain": [
       "           user_id          age\n",
       "count  1565.000000  1565.000000\n",
       "mean    762.633866    24.922045\n",
       "std     443.260155     4.553496\n",
       "min       1.000000    12.000000\n",
       "25%     378.000000    22.000000\n",
       "50%     762.000000    25.000000\n",
       "75%    1146.000000    28.000000\n",
       "max    1534.000000    43.000000"
      ]
     },
     "execution_count": 9,
     "metadata": {},
     "output_type": "execute_result"
    }
   ],
   "source": [
    "data_users.describe()"
   ]
  },
  {
   "cell_type": "markdown",
   "id": "35303c5d",
   "metadata": {},
   "source": [
    "Все столбцы заполнены без пропусков.   \n",
    "Странным значением мне кажется минимальный возраст 12 лет. Если самокат электрический, то их выдают в прокат только с 14 лет."
   ]
  },
  {
   "cell_type": "code",
   "execution_count": 10,
   "id": "c1043b5a",
   "metadata": {},
   "outputs": [
    {
     "data": {
      "text/html": [
       "<div>\n",
       "<style scoped>\n",
       "    .dataframe tbody tr th:only-of-type {\n",
       "        vertical-align: middle;\n",
       "    }\n",
       "\n",
       "    .dataframe tbody tr th {\n",
       "        vertical-align: top;\n",
       "    }\n",
       "\n",
       "    .dataframe thead th {\n",
       "        text-align: right;\n",
       "    }\n",
       "</style>\n",
       "<table border=\"1\" class=\"dataframe\">\n",
       "  <thead>\n",
       "    <tr style=\"text-align: right;\">\n",
       "      <th></th>\n",
       "      <th>user_id</th>\n",
       "      <th>distance</th>\n",
       "      <th>duration</th>\n",
       "      <th>date</th>\n",
       "    </tr>\n",
       "  </thead>\n",
       "  <tbody>\n",
       "    <tr>\n",
       "      <th>0</th>\n",
       "      <td>1</td>\n",
       "      <td>4409.919140</td>\n",
       "      <td>25.599769</td>\n",
       "      <td>2021-01-01</td>\n",
       "    </tr>\n",
       "    <tr>\n",
       "      <th>1</th>\n",
       "      <td>1</td>\n",
       "      <td>2617.592153</td>\n",
       "      <td>15.816871</td>\n",
       "      <td>2021-01-18</td>\n",
       "    </tr>\n",
       "    <tr>\n",
       "      <th>2</th>\n",
       "      <td>1</td>\n",
       "      <td>754.159807</td>\n",
       "      <td>6.232113</td>\n",
       "      <td>2021-04-20</td>\n",
       "    </tr>\n",
       "    <tr>\n",
       "      <th>3</th>\n",
       "      <td>1</td>\n",
       "      <td>2694.783254</td>\n",
       "      <td>18.511000</td>\n",
       "      <td>2021-08-11</td>\n",
       "    </tr>\n",
       "    <tr>\n",
       "      <th>4</th>\n",
       "      <td>1</td>\n",
       "      <td>4028.687306</td>\n",
       "      <td>26.265803</td>\n",
       "      <td>2021-08-28</td>\n",
       "    </tr>\n",
       "  </tbody>\n",
       "</table>\n",
       "</div>"
      ],
      "text/plain": [
       "   user_id     distance   duration        date\n",
       "0        1  4409.919140  25.599769  2021-01-01\n",
       "1        1  2617.592153  15.816871  2021-01-18\n",
       "2        1   754.159807   6.232113  2021-04-20\n",
       "3        1  2694.783254  18.511000  2021-08-11\n",
       "4        1  4028.687306  26.265803  2021-08-28"
      ]
     },
     "execution_count": 10,
     "metadata": {},
     "output_type": "execute_result"
    }
   ],
   "source": [
    "data_rides.head()"
   ]
  },
  {
   "cell_type": "code",
   "execution_count": 11,
   "id": "7e94a7a7",
   "metadata": {},
   "outputs": [
    {
     "name": "stdout",
     "output_type": "stream",
     "text": [
      "<class 'pandas.core.frame.DataFrame'>\n",
      "RangeIndex: 18068 entries, 0 to 18067\n",
      "Data columns (total 4 columns):\n",
      " #   Column    Non-Null Count  Dtype  \n",
      "---  ------    --------------  -----  \n",
      " 0   user_id   18068 non-null  int64  \n",
      " 1   distance  18068 non-null  float64\n",
      " 2   duration  18068 non-null  float64\n",
      " 3   date      18068 non-null  object \n",
      "dtypes: float64(2), int64(1), object(1)\n",
      "memory usage: 564.8+ KB\n"
     ]
    }
   ],
   "source": [
    "data_rides.info()"
   ]
  },
  {
   "cell_type": "code",
   "execution_count": 12,
   "id": "1368a6b5",
   "metadata": {},
   "outputs": [
    {
     "data": {
      "text/html": [
       "<div>\n",
       "<style scoped>\n",
       "    .dataframe tbody tr th:only-of-type {\n",
       "        vertical-align: middle;\n",
       "    }\n",
       "\n",
       "    .dataframe tbody tr th {\n",
       "        vertical-align: top;\n",
       "    }\n",
       "\n",
       "    .dataframe thead th {\n",
       "        text-align: right;\n",
       "    }\n",
       "</style>\n",
       "<table border=\"1\" class=\"dataframe\">\n",
       "  <thead>\n",
       "    <tr style=\"text-align: right;\">\n",
       "      <th></th>\n",
       "      <th>user_id</th>\n",
       "      <th>distance</th>\n",
       "      <th>duration</th>\n",
       "    </tr>\n",
       "  </thead>\n",
       "  <tbody>\n",
       "    <tr>\n",
       "      <th>count</th>\n",
       "      <td>18068.000000</td>\n",
       "      <td>18068.000000</td>\n",
       "      <td>18068.000000</td>\n",
       "    </tr>\n",
       "    <tr>\n",
       "      <th>mean</th>\n",
       "      <td>842.869936</td>\n",
       "      <td>3070.659976</td>\n",
       "      <td>17.805011</td>\n",
       "    </tr>\n",
       "    <tr>\n",
       "      <th>std</th>\n",
       "      <td>434.734317</td>\n",
       "      <td>1116.831209</td>\n",
       "      <td>6.091051</td>\n",
       "    </tr>\n",
       "    <tr>\n",
       "      <th>min</th>\n",
       "      <td>1.000000</td>\n",
       "      <td>0.855683</td>\n",
       "      <td>0.500000</td>\n",
       "    </tr>\n",
       "    <tr>\n",
       "      <th>25%</th>\n",
       "      <td>487.000000</td>\n",
       "      <td>2543.226360</td>\n",
       "      <td>13.597563</td>\n",
       "    </tr>\n",
       "    <tr>\n",
       "      <th>50%</th>\n",
       "      <td>889.000000</td>\n",
       "      <td>3133.609994</td>\n",
       "      <td>17.678395</td>\n",
       "    </tr>\n",
       "    <tr>\n",
       "      <th>75%</th>\n",
       "      <td>1213.250000</td>\n",
       "      <td>3776.222735</td>\n",
       "      <td>21.724800</td>\n",
       "    </tr>\n",
       "    <tr>\n",
       "      <th>max</th>\n",
       "      <td>1534.000000</td>\n",
       "      <td>7211.007745</td>\n",
       "      <td>40.823963</td>\n",
       "    </tr>\n",
       "  </tbody>\n",
       "</table>\n",
       "</div>"
      ],
      "text/plain": [
       "            user_id      distance      duration\n",
       "count  18068.000000  18068.000000  18068.000000\n",
       "mean     842.869936   3070.659976     17.805011\n",
       "std      434.734317   1116.831209      6.091051\n",
       "min        1.000000      0.855683      0.500000\n",
       "25%      487.000000   2543.226360     13.597563\n",
       "50%      889.000000   3133.609994     17.678395\n",
       "75%     1213.250000   3776.222735     21.724800\n",
       "max     1534.000000   7211.007745     40.823963"
      ]
     },
     "execution_count": 12,
     "metadata": {},
     "output_type": "execute_result"
    }
   ],
   "source": [
    "data_rides.describe()"
   ]
  },
  {
   "cell_type": "markdown",
   "id": "fc4a0dfe",
   "metadata": {},
   "source": [
    "Минимальная длительность ровно 0.5 минуты, возможно это автоматическая отмена поездки по какой-то причине?   \n",
    "Минимальное расстояние меньше метра также странное.  \n",
    "Пропусков также нет."
   ]
  },
  {
   "cell_type": "code",
   "execution_count": 13,
   "id": "abf2891f",
   "metadata": {},
   "outputs": [
    {
     "data": {
      "text/html": [
       "<div>\n",
       "<style scoped>\n",
       "    .dataframe tbody tr th:only-of-type {\n",
       "        vertical-align: middle;\n",
       "    }\n",
       "\n",
       "    .dataframe tbody tr th {\n",
       "        vertical-align: top;\n",
       "    }\n",
       "\n",
       "    .dataframe thead th {\n",
       "        text-align: right;\n",
       "    }\n",
       "</style>\n",
       "<table border=\"1\" class=\"dataframe\">\n",
       "  <thead>\n",
       "    <tr style=\"text-align: right;\">\n",
       "      <th></th>\n",
       "      <th>minute_price</th>\n",
       "      <th>start_ride_price</th>\n",
       "      <th>subscription_fee</th>\n",
       "    </tr>\n",
       "    <tr>\n",
       "      <th>subscription_type</th>\n",
       "      <th></th>\n",
       "      <th></th>\n",
       "      <th></th>\n",
       "    </tr>\n",
       "  </thead>\n",
       "  <tbody>\n",
       "    <tr>\n",
       "      <th>free</th>\n",
       "      <td>8</td>\n",
       "      <td>50</td>\n",
       "      <td>0</td>\n",
       "    </tr>\n",
       "    <tr>\n",
       "      <th>ultra</th>\n",
       "      <td>6</td>\n",
       "      <td>0</td>\n",
       "      <td>199</td>\n",
       "    </tr>\n",
       "  </tbody>\n",
       "</table>\n",
       "</div>"
      ],
      "text/plain": [
       "                   minute_price  start_ride_price  subscription_fee\n",
       "subscription_type                                                  \n",
       "free                          8                50                 0\n",
       "ultra                         6                 0               199"
      ]
     },
     "execution_count": 13,
     "metadata": {},
     "output_type": "execute_result"
    }
   ],
   "source": [
    "data_subscriptions = data_subscriptions.set_index('subscription_type')\n",
    "data_subscriptions"
   ]
  },
  {
   "cell_type": "markdown",
   "id": "d6ce2180",
   "metadata": {},
   "source": [
    "Здесь информация о двух существующих типах подписки."
   ]
  },
  {
   "cell_type": "markdown",
   "id": "e95ebca7",
   "metadata": {},
   "source": [
    "### Предобработка данных"
   ]
  },
  {
   "cell_type": "markdown",
   "id": "570c95e4-c6f0-4b54-9527-738dfdec7e92",
   "metadata": {},
   "source": [
    "Приведите столбец date к типу даты Pandas."
   ]
  },
  {
   "cell_type": "code",
   "execution_count": 14,
   "id": "bf59119d",
   "metadata": {},
   "outputs": [],
   "source": [
    "data_rides['date'] = pd.to_datetime(data_rides['date'], format='%Y-%m-%d', errors='raise')"
   ]
  },
  {
   "cell_type": "code",
   "execution_count": 15,
   "id": "76502fcc",
   "metadata": {},
   "outputs": [
    {
     "name": "stdout",
     "output_type": "stream",
     "text": [
      "<class 'pandas.core.frame.DataFrame'>\n",
      "RangeIndex: 18068 entries, 0 to 18067\n",
      "Data columns (total 4 columns):\n",
      " #   Column    Non-Null Count  Dtype         \n",
      "---  ------    --------------  -----         \n",
      " 0   user_id   18068 non-null  int64         \n",
      " 1   distance  18068 non-null  float64       \n",
      " 2   duration  18068 non-null  float64       \n",
      " 3   date      18068 non-null  datetime64[ns]\n",
      "dtypes: datetime64[ns](1), float64(2), int64(1)\n",
      "memory usage: 564.8 KB\n"
     ]
    }
   ],
   "source": [
    "data_rides.info()"
   ]
  },
  {
   "cell_type": "markdown",
   "id": "4185b745-27ad-46e7-9cc1-b29f4159af4d",
   "metadata": {},
   "source": [
    "Создайте новый столбец с номером месяца на основе столбца date."
   ]
  },
  {
   "cell_type": "code",
   "execution_count": 16,
   "id": "078dd667",
   "metadata": {},
   "outputs": [
    {
     "data": {
      "text/html": [
       "<div>\n",
       "<style scoped>\n",
       "    .dataframe tbody tr th:only-of-type {\n",
       "        vertical-align: middle;\n",
       "    }\n",
       "\n",
       "    .dataframe tbody tr th {\n",
       "        vertical-align: top;\n",
       "    }\n",
       "\n",
       "    .dataframe thead th {\n",
       "        text-align: right;\n",
       "    }\n",
       "</style>\n",
       "<table border=\"1\" class=\"dataframe\">\n",
       "  <thead>\n",
       "    <tr style=\"text-align: right;\">\n",
       "      <th></th>\n",
       "      <th>user_id</th>\n",
       "      <th>distance</th>\n",
       "      <th>duration</th>\n",
       "      <th>date</th>\n",
       "      <th>month</th>\n",
       "    </tr>\n",
       "  </thead>\n",
       "  <tbody>\n",
       "    <tr>\n",
       "      <th>0</th>\n",
       "      <td>1</td>\n",
       "      <td>4409.919140</td>\n",
       "      <td>25.599769</td>\n",
       "      <td>2021-01-01</td>\n",
       "      <td>1</td>\n",
       "    </tr>\n",
       "    <tr>\n",
       "      <th>1</th>\n",
       "      <td>1</td>\n",
       "      <td>2617.592153</td>\n",
       "      <td>15.816871</td>\n",
       "      <td>2021-01-18</td>\n",
       "      <td>1</td>\n",
       "    </tr>\n",
       "    <tr>\n",
       "      <th>2</th>\n",
       "      <td>1</td>\n",
       "      <td>754.159807</td>\n",
       "      <td>6.232113</td>\n",
       "      <td>2021-04-20</td>\n",
       "      <td>4</td>\n",
       "    </tr>\n",
       "    <tr>\n",
       "      <th>3</th>\n",
       "      <td>1</td>\n",
       "      <td>2694.783254</td>\n",
       "      <td>18.511000</td>\n",
       "      <td>2021-08-11</td>\n",
       "      <td>8</td>\n",
       "    </tr>\n",
       "    <tr>\n",
       "      <th>4</th>\n",
       "      <td>1</td>\n",
       "      <td>4028.687306</td>\n",
       "      <td>26.265803</td>\n",
       "      <td>2021-08-28</td>\n",
       "      <td>8</td>\n",
       "    </tr>\n",
       "  </tbody>\n",
       "</table>\n",
       "</div>"
      ],
      "text/plain": [
       "   user_id     distance   duration       date  month\n",
       "0        1  4409.919140  25.599769 2021-01-01      1\n",
       "1        1  2617.592153  15.816871 2021-01-18      1\n",
       "2        1   754.159807   6.232113 2021-04-20      4\n",
       "3        1  2694.783254  18.511000 2021-08-11      8\n",
       "4        1  4028.687306  26.265803 2021-08-28      8"
      ]
     },
     "execution_count": 16,
     "metadata": {},
     "output_type": "execute_result"
    }
   ],
   "source": [
    "data_rides['month'] = data_rides['date'].dt.month\n",
    "data_rides.head()"
   ]
  },
  {
   "cell_type": "markdown",
   "id": "45c301fc-a6d7-49f0-bfde-602047d3bfe0",
   "metadata": {},
   "source": [
    "Проверьте наличие пропущенных значений и дубликатов в датафреймах. Обработайте их, если такие значения присутствуют."
   ]
  },
  {
   "cell_type": "code",
   "execution_count": 17,
   "id": "4527e8c9",
   "metadata": {},
   "outputs": [
    {
     "data": {
      "text/plain": [
       "user_id     0\n",
       "distance    0\n",
       "duration    0\n",
       "date        0\n",
       "month       0\n",
       "dtype: int64"
      ]
     },
     "execution_count": 17,
     "metadata": {},
     "output_type": "execute_result"
    }
   ],
   "source": [
    "data_rides.isna().sum()"
   ]
  },
  {
   "cell_type": "code",
   "execution_count": 18,
   "id": "8fad712d",
   "metadata": {},
   "outputs": [
    {
     "data": {
      "text/plain": [
       "user_id              0\n",
       "name                 0\n",
       "age                  0\n",
       "city                 0\n",
       "subscription_type    0\n",
       "dtype: int64"
      ]
     },
     "execution_count": 18,
     "metadata": {},
     "output_type": "execute_result"
    }
   ],
   "source": [
    "data_users.isna().sum()"
   ]
  },
  {
   "cell_type": "markdown",
   "id": "471d4fd1",
   "metadata": {},
   "source": [
    "Пропусков нет"
   ]
  },
  {
   "cell_type": "code",
   "execution_count": 19,
   "id": "402bc880",
   "metadata": {},
   "outputs": [
    {
     "data": {
      "text/plain": [
       "31"
      ]
     },
     "execution_count": 19,
     "metadata": {},
     "output_type": "execute_result"
    }
   ],
   "source": [
    "data_users.duplicated().sum()"
   ]
  },
  {
   "cell_type": "code",
   "execution_count": 20,
   "id": "34363414",
   "metadata": {},
   "outputs": [],
   "source": [
    "data_users = data_users.drop_duplicates().reset_index(drop=True)"
   ]
  },
  {
   "cell_type": "code",
   "execution_count": 21,
   "id": "507d75f2",
   "metadata": {},
   "outputs": [
    {
     "data": {
      "text/plain": [
       "0"
      ]
     },
     "execution_count": 21,
     "metadata": {},
     "output_type": "execute_result"
    }
   ],
   "source": [
    "data_users.duplicated().sum()"
   ]
  },
  {
   "cell_type": "code",
   "execution_count": 22,
   "id": "9a9eef22",
   "metadata": {},
   "outputs": [
    {
     "data": {
      "text/plain": [
       "1       1\n",
       "1020    1\n",
       "1029    1\n",
       "1028    1\n",
       "1027    1\n",
       "       ..\n",
       "510     1\n",
       "509     1\n",
       "508     1\n",
       "507     1\n",
       "1534    1\n",
       "Name: user_id, Length: 1534, dtype: int64"
      ]
     },
     "execution_count": 22,
     "metadata": {},
     "output_type": "execute_result"
    }
   ],
   "source": [
    "data_users['user_id'].value_counts()"
   ]
  },
  {
   "cell_type": "markdown",
   "id": "49ef0f91",
   "metadata": {},
   "source": [
    "Все id встречаются по одному разу, значит дубликатов нет. "
   ]
  },
  {
   "cell_type": "code",
   "execution_count": 23,
   "id": "e1d831b8",
   "metadata": {},
   "outputs": [
    {
     "data": {
      "text/plain": [
       "0"
      ]
     },
     "execution_count": 23,
     "metadata": {},
     "output_type": "execute_result"
    }
   ],
   "source": [
    "data_rides.duplicated().sum()"
   ]
  },
  {
   "cell_type": "markdown",
   "id": "212593c7",
   "metadata": {},
   "source": [
    "### Исследовательский анализ данных"
   ]
  },
  {
   "cell_type": "markdown",
   "id": "9c7eebbb",
   "metadata": {},
   "source": [
    "Опишите и визуализируйте общую информацию о пользователях и поездках"
   ]
  },
  {
   "cell_type": "markdown",
   "id": "f57cf90c",
   "metadata": {},
   "source": [
    "Частота встречаемости городов"
   ]
  },
  {
   "cell_type": "code",
   "execution_count": 24,
   "id": "6f421c9b",
   "metadata": {},
   "outputs": [
    {
     "data": {
      "image/png": "[encoded data removed]",
      "text/plain": [
       "<Figure size 432x288 with 1 Axes>"
      ]
     },
     "metadata": {
      "needs_background": "light"
     },
     "output_type": "display_data"
    }
   ],
   "source": [
    "data_users['city'].value_counts().sort_values().plot(kind='barh', \n",
    "                                   title='Соотношение пользователей по городам', \n",
    "                                   xlabel='Пользователи',\n",
    "                                   ylabel='Город');"
   ]
  },
  {
   "cell_type": "markdown",
   "id": "aab8dd01",
   "metadata": {},
   "source": [
    "Неожиданно, но в Москве меньше всего пользователей. Интересно, как обстоит дело с числом поездок по городам?"
   ]
  },
  {
   "cell_type": "code",
   "execution_count": 25,
   "id": "04932e85",
   "metadata": {},
   "outputs": [
    {
     "data": {
      "image/png": "[encoded data removed]",
      "text/plain": [
       "<Figure size 432x288 with 1 Axes>"
      ]
     },
     "metadata": {
      "needs_background": "light"
     },
     "output_type": "display_data"
    }
   ],
   "source": [
    "(data_users.merge(data_rides, how='left', on='user_id')['city'].value_counts().\n",
    "    sort_values().plot(kind='barh', \n",
    "                                   title='Соотношение числа поездок по городам', \n",
    "                                   xlabel='Поездки',\n",
    "                                   ylabel='Город'));"
   ]
  },
  {
   "cell_type": "markdown",
   "id": "8f7b956b",
   "metadata": {},
   "source": [
    "Только Тюмень обошла Омск, остальной порядок городов остался таким же."
   ]
  },
  {
   "cell_type": "markdown",
   "id": "1a6b7b45",
   "metadata": {},
   "source": [
    "Соотношение пользователей с подпиской и без подписки;"
   ]
  },
  {
   "cell_type": "code",
   "execution_count": 26,
   "id": "c7f1036a",
   "metadata": {},
   "outputs": [
    {
     "data": {
      "image/png": "[encoded data removed]",
      "text/plain": [
       "<Figure size 432x288 with 1 Axes>"
      ]
     },
     "metadata": {
      "needs_background": "light"
     },
     "output_type": "display_data"
    }
   ],
   "source": [
    "(data_users['subscription_type'].value_counts().\n",
    " sort_values(ascending=False).plot(kind='bar', \n",
    "                                   title='Соотношение пользователей с подпиской и без подписки', \n",
    "                                   xlabel='Тип подписки', \n",
    "                                   ylabel='Пользователи'));"
   ]
  },
  {
   "cell_type": "markdown",
   "id": "c2b1f1e8",
   "metadata": {},
   "source": [
    "Бесплатных подписчиков больше, что ожидаемо.   \n",
    "Однако всё же платная подписка есть почти у половины пользователей, значит она очень привлекательная для пользователей?"
   ]
  },
  {
   "cell_type": "code",
   "execution_count": 27,
   "id": "5e23442b",
   "metadata": {},
   "outputs": [
    {
     "name": "stdout",
     "output_type": "stream",
     "text": [
      "Доля пользователей с подпиской: 0.46\n",
      "Доля пользователей без подписки: 0.54\n"
     ]
    }
   ],
   "source": [
    "free = data_users['subscription_type'].value_counts()[0]\n",
    "ultra = data_users['subscription_type'].value_counts()[1]\n",
    "print('Доля пользователей с подпиской:', round(ultra/(free+ultra),2))\n",
    "print('Доля пользователей без подписки:', round(free/(free+ultra),2))"
   ]
  },
  {
   "cell_type": "markdown",
   "id": "d81d25a3",
   "metadata": {},
   "source": [
    "Возраст пользователей;"
   ]
  },
  {
   "cell_type": "code",
   "execution_count": 28,
   "id": "a4256442",
   "metadata": {},
   "outputs": [
    {
     "data": {
      "image/png": "[encoded data removed]",
      "text/plain": [
       "<Figure size 432x288 with 1 Axes>"
      ]
     },
     "metadata": {
      "needs_background": "light"
     },
     "output_type": "display_data"
    }
   ],
   "source": [
    "data_users['age'].plot(kind='hist', bins=30, \n",
    "                                   title='Возраст пользователей', \n",
    "                                   xlabel='Возраст', \n",
    "                                   ylabel='Пользователи');"
   ]
  },
  {
   "cell_type": "markdown",
   "id": "15f1936a",
   "metadata": {},
   "source": [
    "Распределение похоже на нормальное.  \n",
    "Самый частый возраст - 25 лет.  \n",
    "все пользователи младше 45 лет и старше 12. Однако наличие 12- и 13-летних пользователей для меня необычно. Хотелось бы узнать у поставщика данных не ошибка ли это. Но пока буду считать, что регистрация возможна с 12 лет."
   ]
  },
  {
   "cell_type": "markdown",
   "id": "f07c5400",
   "metadata": {},
   "source": [
    "Расстояние, которое пользователь преодолел за одну поездку;"
   ]
  },
  {
   "cell_type": "code",
   "execution_count": 29,
   "id": "d41ade6c",
   "metadata": {},
   "outputs": [
    {
     "data": {
      "image/png": "[encoded data removed]",
      "text/plain": [
       "<Figure size 432x288 with 1 Axes>"
      ]
     },
     "metadata": {
      "needs_background": "light"
     },
     "output_type": "display_data"
    }
   ],
   "source": [
    "data_rides['distance'].plot(kind='hist', bins=50, \n",
    "                                   title='Расстояние поездок', \n",
    "                                   xlabel='Расстояние', \n",
    "                                   ylabel='Пользователи');"
   ]
  },
  {
   "cell_type": "markdown",
   "id": "0a5a1399",
   "metadata": {},
   "source": [
    "Выделяется два вида поездок: короткие и длинные. Короткие от 0 до 1500м, длинные от 1500 до 7000м.  \n",
    "Возможно люди с разными подписками совершают разные поездки. Например, на бесплатной подписке короткие поездки очень дорогие из-за платного старта.  \n",
    "Интересно, что переходные значения между видами поездок в районе 1500м встречаются довольно редко.  \n",
    "Также выделяется небольшой пик около 4000м."
   ]
  },
  {
   "cell_type": "markdown",
   "id": "c46927ce",
   "metadata": {},
   "source": [
    "Продолжительность поездок."
   ]
  },
  {
   "cell_type": "code",
   "execution_count": 30,
   "id": "06ddf4ee",
   "metadata": {},
   "outputs": [
    {
     "data": {
      "image/png": "[encoded data removed]",
      "text/plain": [
       "<Figure size 432x288 with 1 Axes>"
      ]
     },
     "metadata": {
      "needs_background": "light"
     },
     "output_type": "display_data"
    }
   ],
   "source": [
    "data_rides['duration'].plot(kind='hist', bins=60, \n",
    "                                   title='Продолжительность поездок', \n",
    "                                   xlabel='Продолжительность', \n",
    "                                   ylabel='Пользователи');"
   ]
  },
  {
   "cell_type": "markdown",
   "id": "326b6e0e",
   "metadata": {},
   "source": [
    "Распределение почти нормальное, за исключением всплеска около 0. Проверим, не имеют ли эти поездки длительнось 0.5 минуты, которую мы уже отметили при обзоре данных."
   ]
  },
  {
   "cell_type": "code",
   "execution_count": 31,
   "id": "ebaab7a2",
   "metadata": {},
   "outputs": [
    {
     "data": {
      "text/plain": [
       "95"
      ]
     },
     "execution_count": 31,
     "metadata": {},
     "output_type": "execute_result"
    }
   ],
   "source": [
    "data_rides.loc[data_rides['duration'] == 0.5,'duration'].count()"
   ]
  },
  {
   "cell_type": "code",
   "execution_count": 32,
   "id": "ad720a50",
   "metadata": {},
   "outputs": [
    {
     "data": {
      "text/plain": [
       "95"
      ]
     },
     "execution_count": 32,
     "metadata": {},
     "output_type": "execute_result"
    }
   ],
   "source": [
    "data_rides.loc[data_rides['duration'] < 2,'duration'].count()"
   ]
  },
  {
   "cell_type": "markdown",
   "id": "1cb6f51a",
   "metadata": {},
   "source": [
    "И правда, все очень короткие поездки длились ровно 0.5 минут. Скорее всего это автоматически отменённые поездки и от них лучше избавиться."
   ]
  },
  {
   "cell_type": "code",
   "execution_count": 33,
   "id": "a8acd759",
   "metadata": {},
   "outputs": [],
   "source": [
    "data_rides = data_rides.drop(data_rides[data_rides['duration'] == 0.5].index)"
   ]
  },
  {
   "cell_type": "markdown",
   "id": "4ef51331",
   "metadata": {},
   "source": [
    "### Объединение данных"
   ]
  },
  {
   "cell_type": "markdown",
   "id": "f14727b1",
   "metadata": {},
   "source": [
    "Объедините данные о пользователях, поездках и подписках в один датафрейм. Для этого воспользуйтесь методом merge()."
   ]
  },
  {
   "cell_type": "code",
   "execution_count": 34,
   "id": "aafbaf74",
   "metadata": {},
   "outputs": [
    {
     "data": {
      "text/html": [
       "<div>\n",
       "<style scoped>\n",
       "    .dataframe tbody tr th:only-of-type {\n",
       "        vertical-align: middle;\n",
       "    }\n",
       "\n",
       "    .dataframe tbody tr th {\n",
       "        vertical-align: top;\n",
       "    }\n",
       "\n",
       "    .dataframe thead th {\n",
       "        text-align: right;\n",
       "    }\n",
       "</style>\n",
       "<table border=\"1\" class=\"dataframe\">\n",
       "  <thead>\n",
       "    <tr style=\"text-align: right;\">\n",
       "      <th></th>\n",
       "      <th>user_id</th>\n",
       "      <th>name</th>\n",
       "      <th>age</th>\n",
       "      <th>city</th>\n",
       "      <th>subscription_type</th>\n",
       "      <th>distance</th>\n",
       "      <th>duration</th>\n",
       "      <th>date</th>\n",
       "      <th>month</th>\n",
       "    </tr>\n",
       "  </thead>\n",
       "  <tbody>\n",
       "    <tr>\n",
       "      <th>0</th>\n",
       "      <td>1</td>\n",
       "      <td>Кира</td>\n",
       "      <td>22</td>\n",
       "      <td>Тюмень</td>\n",
       "      <td>ultra</td>\n",
       "      <td>4409.919140</td>\n",
       "      <td>25.599769</td>\n",
       "      <td>2021-01-01</td>\n",
       "      <td>1</td>\n",
       "    </tr>\n",
       "    <tr>\n",
       "      <th>1</th>\n",
       "      <td>1</td>\n",
       "      <td>Кира</td>\n",
       "      <td>22</td>\n",
       "      <td>Тюмень</td>\n",
       "      <td>ultra</td>\n",
       "      <td>2617.592153</td>\n",
       "      <td>15.816871</td>\n",
       "      <td>2021-01-18</td>\n",
       "      <td>1</td>\n",
       "    </tr>\n",
       "    <tr>\n",
       "      <th>2</th>\n",
       "      <td>1</td>\n",
       "      <td>Кира</td>\n",
       "      <td>22</td>\n",
       "      <td>Тюмень</td>\n",
       "      <td>ultra</td>\n",
       "      <td>754.159807</td>\n",
       "      <td>6.232113</td>\n",
       "      <td>2021-04-20</td>\n",
       "      <td>4</td>\n",
       "    </tr>\n",
       "    <tr>\n",
       "      <th>3</th>\n",
       "      <td>1</td>\n",
       "      <td>Кира</td>\n",
       "      <td>22</td>\n",
       "      <td>Тюмень</td>\n",
       "      <td>ultra</td>\n",
       "      <td>2694.783254</td>\n",
       "      <td>18.511000</td>\n",
       "      <td>2021-08-11</td>\n",
       "      <td>8</td>\n",
       "    </tr>\n",
       "    <tr>\n",
       "      <th>4</th>\n",
       "      <td>1</td>\n",
       "      <td>Кира</td>\n",
       "      <td>22</td>\n",
       "      <td>Тюмень</td>\n",
       "      <td>ultra</td>\n",
       "      <td>4028.687306</td>\n",
       "      <td>26.265803</td>\n",
       "      <td>2021-08-28</td>\n",
       "      <td>8</td>\n",
       "    </tr>\n",
       "  </tbody>\n",
       "</table>\n",
       "</div>"
      ],
      "text/plain": [
       "   user_id  name  age    city subscription_type     distance   duration  \\\n",
       "0        1  Кира   22  Тюмень             ultra  4409.919140  25.599769   \n",
       "1        1  Кира   22  Тюмень             ultra  2617.592153  15.816871   \n",
       "2        1  Кира   22  Тюмень             ultra   754.159807   6.232113   \n",
       "3        1  Кира   22  Тюмень             ultra  2694.783254  18.511000   \n",
       "4        1  Кира   22  Тюмень             ultra  4028.687306  26.265803   \n",
       "\n",
       "        date  month  \n",
       "0 2021-01-01      1  \n",
       "1 2021-01-18      1  \n",
       "2 2021-04-20      4  \n",
       "3 2021-08-11      8  \n",
       "4 2021-08-28      8  "
      ]
     },
     "execution_count": 34,
     "metadata": {},
     "output_type": "execute_result"
    }
   ],
   "source": [
    "data = data_users.merge(data_rides, how='left', on='user_id')\n",
    "data.head()"
   ]
  },
  {
   "cell_type": "code",
   "execution_count": 35,
   "id": "9f2137c8",
   "metadata": {},
   "outputs": [
    {
     "name": "stdout",
     "output_type": "stream",
     "text": [
      "Строк было 17973\n",
      "Строк стало 17973\n"
     ]
    }
   ],
   "source": [
    "print('Строк было',data_rides.shape[0])\n",
    "print('Строк стало',data.shape[0])"
   ]
  },
  {
   "cell_type": "code",
   "execution_count": 36,
   "id": "ae36103b",
   "metadata": {},
   "outputs": [
    {
     "name": "stdout",
     "output_type": "stream",
     "text": [
      "<class 'pandas.core.frame.DataFrame'>\n",
      "Int64Index: 17973 entries, 0 to 17972\n",
      "Data columns (total 9 columns):\n",
      " #   Column             Non-Null Count  Dtype         \n",
      "---  ------             --------------  -----         \n",
      " 0   user_id            17973 non-null  int64         \n",
      " 1   name               17973 non-null  object        \n",
      " 2   age                17973 non-null  int64         \n",
      " 3   city               17973 non-null  object        \n",
      " 4   subscription_type  17973 non-null  object        \n",
      " 5   distance           17973 non-null  float64       \n",
      " 6   duration           17973 non-null  float64       \n",
      " 7   date               17973 non-null  datetime64[ns]\n",
      " 8   month              17973 non-null  int64         \n",
      "dtypes: datetime64[ns](1), float64(2), int64(3), object(3)\n",
      "memory usage: 1.4+ MB\n"
     ]
    }
   ],
   "source": [
    "data.info()"
   ]
  },
  {
   "cell_type": "markdown",
   "id": "3f9829a1",
   "metadata": {},
   "source": [
    "Все строки склеились, пропусков нет."
   ]
  },
  {
   "cell_type": "markdown",
   "id": "2c82b5f5",
   "metadata": {},
   "source": [
    "Создайте ещё два датафрейма из датафрейма: c данными о пользователях без подписки; с данными о пользователях с подпиской."
   ]
  },
  {
   "cell_type": "code",
   "execution_count": 37,
   "id": "ea42e6a6",
   "metadata": {},
   "outputs": [
    {
     "data": {
      "text/html": [
       "<div>\n",
       "<style scoped>\n",
       "    .dataframe tbody tr th:only-of-type {\n",
       "        vertical-align: middle;\n",
       "    }\n",
       "\n",
       "    .dataframe tbody tr th {\n",
       "        vertical-align: top;\n",
       "    }\n",
       "\n",
       "    .dataframe thead th {\n",
       "        text-align: right;\n",
       "    }\n",
       "</style>\n",
       "<table border=\"1\" class=\"dataframe\">\n",
       "  <thead>\n",
       "    <tr style=\"text-align: right;\">\n",
       "      <th></th>\n",
       "      <th>user_id</th>\n",
       "      <th>name</th>\n",
       "      <th>age</th>\n",
       "      <th>city</th>\n",
       "      <th>subscription_type</th>\n",
       "      <th>distance</th>\n",
       "      <th>duration</th>\n",
       "      <th>date</th>\n",
       "      <th>month</th>\n",
       "    </tr>\n",
       "  </thead>\n",
       "  <tbody>\n",
       "    <tr>\n",
       "      <th>6500</th>\n",
       "      <td>700</td>\n",
       "      <td>Айдар</td>\n",
       "      <td>22</td>\n",
       "      <td>Омск</td>\n",
       "      <td>free</td>\n",
       "      <td>2515.690719</td>\n",
       "      <td>14.944286</td>\n",
       "      <td>2021-01-02</td>\n",
       "      <td>1</td>\n",
       "    </tr>\n",
       "    <tr>\n",
       "      <th>6501</th>\n",
       "      <td>700</td>\n",
       "      <td>Айдар</td>\n",
       "      <td>22</td>\n",
       "      <td>Омск</td>\n",
       "      <td>free</td>\n",
       "      <td>846.932642</td>\n",
       "      <td>16.234663</td>\n",
       "      <td>2021-02-01</td>\n",
       "      <td>2</td>\n",
       "    </tr>\n",
       "    <tr>\n",
       "      <th>6502</th>\n",
       "      <td>700</td>\n",
       "      <td>Айдар</td>\n",
       "      <td>22</td>\n",
       "      <td>Омск</td>\n",
       "      <td>free</td>\n",
       "      <td>4004.434142</td>\n",
       "      <td>20.016628</td>\n",
       "      <td>2021-02-04</td>\n",
       "      <td>2</td>\n",
       "    </tr>\n",
       "    <tr>\n",
       "      <th>6503</th>\n",
       "      <td>700</td>\n",
       "      <td>Айдар</td>\n",
       "      <td>22</td>\n",
       "      <td>Омск</td>\n",
       "      <td>free</td>\n",
       "      <td>1205.911290</td>\n",
       "      <td>9.782872</td>\n",
       "      <td>2021-02-10</td>\n",
       "      <td>2</td>\n",
       "    </tr>\n",
       "    <tr>\n",
       "      <th>6504</th>\n",
       "      <td>700</td>\n",
       "      <td>Айдар</td>\n",
       "      <td>22</td>\n",
       "      <td>Омск</td>\n",
       "      <td>free</td>\n",
       "      <td>3047.379435</td>\n",
       "      <td>17.427673</td>\n",
       "      <td>2021-02-14</td>\n",
       "      <td>2</td>\n",
       "    </tr>\n",
       "  </tbody>\n",
       "</table>\n",
       "</div>"
      ],
      "text/plain": [
       "      user_id   name  age  city subscription_type     distance   duration  \\\n",
       "6500      700  Айдар   22  Омск              free  2515.690719  14.944286   \n",
       "6501      700  Айдар   22  Омск              free   846.932642  16.234663   \n",
       "6502      700  Айдар   22  Омск              free  4004.434142  20.016628   \n",
       "6503      700  Айдар   22  Омск              free  1205.911290   9.782872   \n",
       "6504      700  Айдар   22  Омск              free  3047.379435  17.427673   \n",
       "\n",
       "           date  month  \n",
       "6500 2021-01-02      1  \n",
       "6501 2021-02-01      2  \n",
       "6502 2021-02-04      2  \n",
       "6503 2021-02-10      2  \n",
       "6504 2021-02-14      2  "
      ]
     },
     "execution_count": 37,
     "metadata": {},
     "output_type": "execute_result"
    }
   ],
   "source": [
    "data_free = data[data['subscription_type'] == 'free']\n",
    "data_free.head()"
   ]
  },
  {
   "cell_type": "code",
   "execution_count": 38,
   "id": "09129234",
   "metadata": {},
   "outputs": [
    {
     "data": {
      "text/html": [
       "<div>\n",
       "<style scoped>\n",
       "    .dataframe tbody tr th:only-of-type {\n",
       "        vertical-align: middle;\n",
       "    }\n",
       "\n",
       "    .dataframe tbody tr th {\n",
       "        vertical-align: top;\n",
       "    }\n",
       "\n",
       "    .dataframe thead th {\n",
       "        text-align: right;\n",
       "    }\n",
       "</style>\n",
       "<table border=\"1\" class=\"dataframe\">\n",
       "  <thead>\n",
       "    <tr style=\"text-align: right;\">\n",
       "      <th></th>\n",
       "      <th>user_id</th>\n",
       "      <th>name</th>\n",
       "      <th>age</th>\n",
       "      <th>city</th>\n",
       "      <th>subscription_type</th>\n",
       "      <th>distance</th>\n",
       "      <th>duration</th>\n",
       "      <th>date</th>\n",
       "      <th>month</th>\n",
       "    </tr>\n",
       "  </thead>\n",
       "  <tbody>\n",
       "    <tr>\n",
       "      <th>0</th>\n",
       "      <td>1</td>\n",
       "      <td>Кира</td>\n",
       "      <td>22</td>\n",
       "      <td>Тюмень</td>\n",
       "      <td>ultra</td>\n",
       "      <td>4409.919140</td>\n",
       "      <td>25.599769</td>\n",
       "      <td>2021-01-01</td>\n",
       "      <td>1</td>\n",
       "    </tr>\n",
       "    <tr>\n",
       "      <th>1</th>\n",
       "      <td>1</td>\n",
       "      <td>Кира</td>\n",
       "      <td>22</td>\n",
       "      <td>Тюмень</td>\n",
       "      <td>ultra</td>\n",
       "      <td>2617.592153</td>\n",
       "      <td>15.816871</td>\n",
       "      <td>2021-01-18</td>\n",
       "      <td>1</td>\n",
       "    </tr>\n",
       "    <tr>\n",
       "      <th>2</th>\n",
       "      <td>1</td>\n",
       "      <td>Кира</td>\n",
       "      <td>22</td>\n",
       "      <td>Тюмень</td>\n",
       "      <td>ultra</td>\n",
       "      <td>754.159807</td>\n",
       "      <td>6.232113</td>\n",
       "      <td>2021-04-20</td>\n",
       "      <td>4</td>\n",
       "    </tr>\n",
       "    <tr>\n",
       "      <th>3</th>\n",
       "      <td>1</td>\n",
       "      <td>Кира</td>\n",
       "      <td>22</td>\n",
       "      <td>Тюмень</td>\n",
       "      <td>ultra</td>\n",
       "      <td>2694.783254</td>\n",
       "      <td>18.511000</td>\n",
       "      <td>2021-08-11</td>\n",
       "      <td>8</td>\n",
       "    </tr>\n",
       "    <tr>\n",
       "      <th>4</th>\n",
       "      <td>1</td>\n",
       "      <td>Кира</td>\n",
       "      <td>22</td>\n",
       "      <td>Тюмень</td>\n",
       "      <td>ultra</td>\n",
       "      <td>4028.687306</td>\n",
       "      <td>26.265803</td>\n",
       "      <td>2021-08-28</td>\n",
       "      <td>8</td>\n",
       "    </tr>\n",
       "  </tbody>\n",
       "</table>\n",
       "</div>"
      ],
      "text/plain": [
       "   user_id  name  age    city subscription_type     distance   duration  \\\n",
       "0        1  Кира   22  Тюмень             ultra  4409.919140  25.599769   \n",
       "1        1  Кира   22  Тюмень             ultra  2617.592153  15.816871   \n",
       "2        1  Кира   22  Тюмень             ultra   754.159807   6.232113   \n",
       "3        1  Кира   22  Тюмень             ultra  2694.783254  18.511000   \n",
       "4        1  Кира   22  Тюмень             ultra  4028.687306  26.265803   \n",
       "\n",
       "        date  month  \n",
       "0 2021-01-01      1  \n",
       "1 2021-01-18      1  \n",
       "2 2021-04-20      4  \n",
       "3 2021-08-11      8  \n",
       "4 2021-08-28      8  "
      ]
     },
     "execution_count": 38,
     "metadata": {},
     "output_type": "execute_result"
    }
   ],
   "source": [
    "data_ultra = data[data['subscription_type'] == 'ultra']\n",
    "data_ultra.head()"
   ]
  },
  {
   "cell_type": "markdown",
   "id": "b6695033",
   "metadata": {},
   "source": [
    "##### Визуализируйте информацию о расстоянии и времени поездок для пользователей обеих категорий."
   ]
  },
  {
   "cell_type": "code",
   "execution_count": 39,
   "id": "6bf288b5",
   "metadata": {},
   "outputs": [
    {
     "data": {
      "image/png": "[encoded data removed]",
      "text/plain": [
       "<Figure size 432x288 with 1 Axes>"
      ]
     },
     "metadata": {
      "needs_background": "light"
     },
     "output_type": "display_data"
    }
   ],
   "source": [
    "plt.title('Расстояние поездок')\n",
    "plt.xlabel('Пользователи')\n",
    "plt.ylabel('Расстояние')\n",
    "plt.hist(data_ultra.loc[:,['distance']], bins=50, alpha=0.5);\n",
    "plt.hist(data_free.loc[:,['distance']], bins=50, alpha=0.5);\n",
    "plt.legend(['С подпиской','Без подписки']);"
   ]
  },
  {
   "cell_type": "code",
   "execution_count": 40,
   "id": "9d82e453",
   "metadata": {},
   "outputs": [
    {
     "data": {
      "image/png": "[encoded data removed]",
      "text/plain": [
       "<Figure size 432x288 with 1 Axes>"
      ]
     },
     "metadata": {
      "needs_background": "light"
     },
     "output_type": "display_data"
    }
   ],
   "source": [
    "plt.title('Длительность поездок')\n",
    "plt.xlabel('Длительность')\n",
    "plt.ylabel('Пользователи')\n",
    "plt.hist(data_ultra.loc[:,['duration']], bins=50, alpha=0.5);\n",
    "plt.hist(data_free.loc[:,['duration']], bins=50, alpha=0.5);\n",
    "plt.legend(['С подпиской','Без подписки']);"
   ]
  },
  {
   "cell_type": "markdown",
   "id": "9dba66ca",
   "metadata": {},
   "source": [
    "Распределение по времени осталось похожим на нормальное в обоих вариантах.  \n",
    "Похоже, что премиум подписчики реже совершают короткие поездки, хотя для них они совсем недорогие.   \n",
    "Возможно премиум покупают те, кто совершает длинные поездки.  \n",
    "Также у премиум подписчиков гораздо более острый пик около 3км и небольшой пик около 4км. У бесплатных подписчиков рассстояние от 2 до 4 км распределено более равномерно."
   ]
  },
  {
   "cell_type": "markdown",
   "id": "e9f8891b",
   "metadata": {},
   "source": [
    "Вообще странно, что длительность распределена нормально, в то время как расстояние имеет два вида. Проведём небольшое исследование скорости поездок."
   ]
  },
  {
   "cell_type": "code",
   "execution_count": 41,
   "id": "cfe43265",
   "metadata": {},
   "outputs": [],
   "source": [
    "test = data.loc[:, ['distance', 'duration','date']].copy()"
   ]
  },
  {
   "cell_type": "code",
   "execution_count": 42,
   "id": "4bf938f4",
   "metadata": {},
   "outputs": [],
   "source": [
    "test['speed'] = test['distance'] / test['duration'] / 1000 * 60"
   ]
  },
  {
   "cell_type": "code",
   "execution_count": 43,
   "id": "4a39841d",
   "metadata": {},
   "outputs": [
    {
     "data": {
      "image/png": "[encoded data removed]",
      "text/plain": [
       "<Figure size 432x288 with 1 Axes>"
      ]
     },
     "metadata": {
      "needs_background": "light"
     },
     "output_type": "display_data"
    }
   ],
   "source": [
    "test['speed'].plot(kind='hist', bins=60, \n",
    "                                   title='Скорость поездок', \n",
    "                                   xlabel='Скорость', \n",
    "                                   ylabel='Пользователи');"
   ]
  },
  {
   "cell_type": "markdown",
   "id": "314c8cfd",
   "metadata": {},
   "source": [
    "Больше похоже на распределение расстояний, посмотрим отдельно на скорости коротких и длинных поездок."
   ]
  },
  {
   "cell_type": "code",
   "execution_count": 44,
   "id": "b4e07104",
   "metadata": {},
   "outputs": [
    {
     "data": {
      "image/png": "[encoded data removed]",
      "text/plain": [
       "<Figure size 432x288 with 1 Axes>"
      ]
     },
     "metadata": {
      "needs_background": "light"
     },
     "output_type": "display_data"
    }
   ],
   "source": [
    "test.loc[test['distance'] < 1500,'speed'].plot(kind='hist', bins=30, \n",
    "                                   title='Скорость коротких поездок', \n",
    "                                   xlabel='Скорость', \n",
    "                                   ylabel='Пользователи');"
   ]
  },
  {
   "cell_type": "code",
   "execution_count": 45,
   "id": "fb63ba94",
   "metadata": {},
   "outputs": [
    {
     "data": {
      "text/plain": [
       "4.18"
      ]
     },
     "execution_count": 45,
     "metadata": {},
     "output_type": "execute_result"
    }
   ],
   "source": [
    "test.loc[test['distance'] < 1500,'speed'].median().round(2)"
   ]
  },
  {
   "cell_type": "code",
   "execution_count": 46,
   "id": "85cb5b71",
   "metadata": {},
   "outputs": [
    {
     "data": {
      "image/png": "[encoded data removed]",
      "text/plain": [
       "<Figure size 432x288 with 1 Axes>"
      ]
     },
     "metadata": {
      "needs_background": "light"
     },
     "output_type": "display_data"
    }
   ],
   "source": [
    "test.loc[test['distance'] >= 1500,'speed'].plot(kind='hist', bins=30, \n",
    "                                   title='Скорость длинных поездок', \n",
    "                                   xlabel='Скорость', \n",
    "                                   ylabel='Пользователи');"
   ]
  },
  {
   "cell_type": "code",
   "execution_count": 47,
   "id": "5bdf4e31",
   "metadata": {},
   "outputs": [
    {
     "data": {
      "text/plain": [
       "10.63"
      ]
     },
     "execution_count": 47,
     "metadata": {},
     "output_type": "execute_result"
    }
   ],
   "source": [
    "test.loc[test['distance'] >= 1500,'speed'].median().round(2)"
   ]
  },
  {
   "cell_type": "markdown",
   "id": "540d2c9a",
   "metadata": {},
   "source": [
    "Большинство коротких поездок совершалось со средней скоростью ниже 10км/ч, медианная скорость 4.18км/ч.   \n",
    "А вот длинные, почти все быстрее 5км/ч, медианная скорость 10.63км/ч."
   ]
  },
  {
   "cell_type": "markdown",
   "id": "3f1055c0",
   "metadata": {},
   "source": [
    "Вспомним, что оплата происходит поминутно и не зависит от проделанного пути. Поэтому логично, что нормальное распределение именно у времени поездки.  \n",
    "А вот расстояние и скорость есть разные. Есть те, кто в среднем не разгоняется выше 5км/ч и те кто катается побыстрее. И чем выше скорость, тем большее расстояние человек проезжает."
   ]
  },
  {
   "cell_type": "markdown",
   "id": "402d620f",
   "metadata": {},
   "source": [
    "### Подсчёт выручки"
   ]
  },
  {
   "cell_type": "markdown",
   "id": "868be63f",
   "metadata": {},
   "source": [
    "Создайте датафрейм с агрегированными данными о поездках на основе датафрейма с объединёнными данными из шага 4: найдите суммарное расстояние, количество поездок и суммарное время для каждого пользователя за каждый месяц."
   ]
  },
  {
   "cell_type": "code",
   "execution_count": 48,
   "id": "efa7ffb8",
   "metadata": {},
   "outputs": [
    {
     "data": {
      "text/html": [
       "<div>\n",
       "<style scoped>\n",
       "    .dataframe tbody tr th:only-of-type {\n",
       "        vertical-align: middle;\n",
       "    }\n",
       "\n",
       "    .dataframe tbody tr th {\n",
       "        vertical-align: top;\n",
       "    }\n",
       "\n",
       "    .dataframe thead th {\n",
       "        text-align: right;\n",
       "    }\n",
       "</style>\n",
       "<table border=\"1\" class=\"dataframe\">\n",
       "  <thead>\n",
       "    <tr style=\"text-align: right;\">\n",
       "      <th></th>\n",
       "      <th>user_id</th>\n",
       "      <th>month</th>\n",
       "      <th>distance_sum</th>\n",
       "      <th>number_of_rides</th>\n",
       "      <th>duration_sum</th>\n",
       "      <th>subscription_type</th>\n",
       "    </tr>\n",
       "  </thead>\n",
       "  <tbody>\n",
       "    <tr>\n",
       "      <th>0</th>\n",
       "      <td>1</td>\n",
       "      <td>1</td>\n",
       "      <td>7027.511294</td>\n",
       "      <td>2</td>\n",
       "      <td>41.416640</td>\n",
       "      <td>ultra</td>\n",
       "    </tr>\n",
       "    <tr>\n",
       "      <th>1</th>\n",
       "      <td>1</td>\n",
       "      <td>4</td>\n",
       "      <td>754.159807</td>\n",
       "      <td>1</td>\n",
       "      <td>6.232113</td>\n",
       "      <td>ultra</td>\n",
       "    </tr>\n",
       "    <tr>\n",
       "      <th>2</th>\n",
       "      <td>1</td>\n",
       "      <td>8</td>\n",
       "      <td>6723.470560</td>\n",
       "      <td>2</td>\n",
       "      <td>44.776802</td>\n",
       "      <td>ultra</td>\n",
       "    </tr>\n",
       "    <tr>\n",
       "      <th>3</th>\n",
       "      <td>1</td>\n",
       "      <td>10</td>\n",
       "      <td>5809.911100</td>\n",
       "      <td>2</td>\n",
       "      <td>31.578017</td>\n",
       "      <td>ultra</td>\n",
       "    </tr>\n",
       "    <tr>\n",
       "      <th>4</th>\n",
       "      <td>1</td>\n",
       "      <td>11</td>\n",
       "      <td>7003.499363</td>\n",
       "      <td>3</td>\n",
       "      <td>53.397424</td>\n",
       "      <td>ultra</td>\n",
       "    </tr>\n",
       "  </tbody>\n",
       "</table>\n",
       "</div>"
      ],
      "text/plain": [
       "   user_id  month  distance_sum  number_of_rides  duration_sum  \\\n",
       "0        1      1   7027.511294                2     41.416640   \n",
       "1        1      4    754.159807                1      6.232113   \n",
       "2        1      8   6723.470560                2     44.776802   \n",
       "3        1     10   5809.911100                2     31.578017   \n",
       "4        1     11   7003.499363                3     53.397424   \n",
       "\n",
       "  subscription_type  \n",
       "0             ultra  \n",
       "1             ultra  \n",
       "2             ultra  \n",
       "3             ultra  \n",
       "4             ultra  "
      ]
     },
     "execution_count": 48,
     "metadata": {},
     "output_type": "execute_result"
    }
   ],
   "source": [
    "data_pivot = data.pivot_table(index=['user_id', 'month'], \n",
    "                 values=['distance','duration','subscription_type'], \n",
    "                 aggfunc={\n",
    "                     'subscription_type': 'first',\n",
    "                     'distance' : 'sum',\n",
    "                     'duration': ['sum', 'count']\n",
    "                 })\n",
    "data_pivot.columns = ['distance_sum', 'number_of_rides', 'duration_sum','subscription_type']\n",
    "data_pivot = data_pivot.reset_index()\n",
    "data_pivot.head()"
   ]
  },
  {
   "cell_type": "markdown",
   "id": "85298d95",
   "metadata": {},
   "source": [
    "В этот же датафрейм добавьте столбец с помесячной выручкой, которую принёс каждый пользователь — обратитесь к информации об условиях оплаты для подписчиков и и тех, у кого нет подписки. Минуты при подсчёте стоимости округляются до ближайшего целого числа."
   ]
  },
  {
   "cell_type": "code",
   "execution_count": 49,
   "id": "16a2bf22",
   "metadata": {
    "scrolled": true
   },
   "outputs": [],
   "source": [
    "def revenue(row):\n",
    "    subscription_type = data_users.loc[data_users['user_id'] == row['user_id'],'subscription_type'].iloc[0]\n",
    "    subscription_fee = data_subscriptions.loc[subscription_type,'subscription_fee']\n",
    "    minute_price = data_subscriptions.loc[subscription_type,'minute_price']\n",
    "    start_ride_price = data_subscriptions.loc[subscription_type,'start_ride_price']\n",
    "    return subscription_fee + start_ride_price*row['number_of_rides'] + minute_price*round(row['duration_sum'],0)\n",
    "data_pivot['revenue'] = data_pivot.agg(axis=1, func=revenue)"
   ]
  },
  {
   "cell_type": "code",
   "execution_count": 50,
   "id": "26afcacb",
   "metadata": {},
   "outputs": [
    {
     "data": {
      "text/html": [
       "<div>\n",
       "<style scoped>\n",
       "    .dataframe tbody tr th:only-of-type {\n",
       "        vertical-align: middle;\n",
       "    }\n",
       "\n",
       "    .dataframe tbody tr th {\n",
       "        vertical-align: top;\n",
       "    }\n",
       "\n",
       "    .dataframe thead th {\n",
       "        text-align: right;\n",
       "    }\n",
       "</style>\n",
       "<table border=\"1\" class=\"dataframe\">\n",
       "  <thead>\n",
       "    <tr style=\"text-align: right;\">\n",
       "      <th></th>\n",
       "      <th>user_id</th>\n",
       "      <th>month</th>\n",
       "      <th>distance_sum</th>\n",
       "      <th>number_of_rides</th>\n",
       "      <th>duration_sum</th>\n",
       "      <th>subscription_type</th>\n",
       "      <th>revenue</th>\n",
       "    </tr>\n",
       "  </thead>\n",
       "  <tbody>\n",
       "    <tr>\n",
       "      <th>0</th>\n",
       "      <td>1</td>\n",
       "      <td>1</td>\n",
       "      <td>7027.511294</td>\n",
       "      <td>2</td>\n",
       "      <td>41.416640</td>\n",
       "      <td>ultra</td>\n",
       "      <td>445.0</td>\n",
       "    </tr>\n",
       "    <tr>\n",
       "      <th>1</th>\n",
       "      <td>1</td>\n",
       "      <td>4</td>\n",
       "      <td>754.159807</td>\n",
       "      <td>1</td>\n",
       "      <td>6.232113</td>\n",
       "      <td>ultra</td>\n",
       "      <td>235.0</td>\n",
       "    </tr>\n",
       "    <tr>\n",
       "      <th>2</th>\n",
       "      <td>1</td>\n",
       "      <td>8</td>\n",
       "      <td>6723.470560</td>\n",
       "      <td>2</td>\n",
       "      <td>44.776802</td>\n",
       "      <td>ultra</td>\n",
       "      <td>469.0</td>\n",
       "    </tr>\n",
       "    <tr>\n",
       "      <th>3</th>\n",
       "      <td>1</td>\n",
       "      <td>10</td>\n",
       "      <td>5809.911100</td>\n",
       "      <td>2</td>\n",
       "      <td>31.578017</td>\n",
       "      <td>ultra</td>\n",
       "      <td>391.0</td>\n",
       "    </tr>\n",
       "    <tr>\n",
       "      <th>4</th>\n",
       "      <td>1</td>\n",
       "      <td>11</td>\n",
       "      <td>7003.499363</td>\n",
       "      <td>3</td>\n",
       "      <td>53.397424</td>\n",
       "      <td>ultra</td>\n",
       "      <td>517.0</td>\n",
       "    </tr>\n",
       "  </tbody>\n",
       "</table>\n",
       "</div>"
      ],
      "text/plain": [
       "   user_id  month  distance_sum  number_of_rides  duration_sum  \\\n",
       "0        1      1   7027.511294                2     41.416640   \n",
       "1        1      4    754.159807                1      6.232113   \n",
       "2        1      8   6723.470560                2     44.776802   \n",
       "3        1     10   5809.911100                2     31.578017   \n",
       "4        1     11   7003.499363                3     53.397424   \n",
       "\n",
       "  subscription_type  revenue  \n",
       "0             ultra    445.0  \n",
       "1             ultra    235.0  \n",
       "2             ultra    469.0  \n",
       "3             ultra    391.0  \n",
       "4             ultra    517.0  "
      ]
     },
     "execution_count": 50,
     "metadata": {},
     "output_type": "execute_result"
    }
   ],
   "source": [
    "data_pivot.head()"
   ]
  },
  {
   "cell_type": "markdown",
   "id": "41545ac0",
   "metadata": {},
   "source": [
    "### Проверка гипотез"
   ]
  },
  {
   "cell_type": "markdown",
   "id": "8cb3fc3f",
   "metadata": {},
   "source": [
    "Время поездок"
   ]
  },
  {
   "cell_type": "markdown",
   "id": "c764fd6c",
   "metadata": {},
   "source": [
    "6.1  Важно понять, тратят ли пользователи с подпиской больше времени на поездки? Если да, то действительно ли пользователи с подпиской «выгоднее» для компании. Проверьте гипотезу. Используйте исходные данные о продолжительности каждой сессии — отдельно для подписчиков и тех, у кого нет подписки."
   ]
  },
  {
   "cell_type": "markdown",
   "id": "6b7cdc8c",
   "metadata": {},
   "source": [
    "$H_0$: средние значения длительности поездок равны.  \n",
    "$H_1$: среднее значение длительности поездок пользователей с подпиской больше, чем среднее значение длительности поездок пользователей без подписки"
   ]
  },
  {
   "cell_type": "code",
   "execution_count": 51,
   "id": "3e7d0f12",
   "metadata": {},
   "outputs": [
    {
     "name": "stdout",
     "output_type": "stream",
     "text": [
      "p-значение: 4.704468074453899e-28\n",
      "Отвергаем нулевую гипотезу\n"
     ]
    }
   ],
   "source": [
    "alpha = 0.01\n",
    "results = st.ttest_ind(data_ultra['duration'], data_free['duration'], alternative='greater')\n",
    "print('p-значение:', results.pvalue)\n",
    "if results.pvalue < alpha: \n",
    "    print('Отвергаем нулевую гипотезу')\n",
    "else:\n",
    "    print('Не получилось отвергнуть нулевую гипотезу')"
   ]
  },
  {
   "cell_type": "markdown",
   "id": "63e5afc5",
   "metadata": {},
   "source": [
    "У платных пописчиков средняя длительность поездки выше."
   ]
  },
  {
   "cell_type": "code",
   "execution_count": 52,
   "id": "20ee7add",
   "metadata": {},
   "outputs": [
    {
     "name": "stdout",
     "output_type": "stream",
     "text": [
      "Среднее с подпиской: 18.17815320055055\n",
      "Среднее без подписки: 17.383807372851628\n"
     ]
    }
   ],
   "source": [
    "# Проверим точные значения, так как выборка достаточно маленькая\n",
    "print('Среднее с подпиской:', data_ultra['duration'].median())\n",
    "print('Среднее без подписки:', data_free['duration'].median())"
   ]
  },
  {
   "cell_type": "markdown",
   "id": "977d4048",
   "metadata": {
    "jp-MarkdownHeadingCollapsed": true
   },
   "source": [
    "Цена 18-минутной поездки с подпиской равна 18*6 = 108 рублей.  \n",
    "Цена 17-минутной поездки без подписки равна 50 + 17*8 = 186 рублей.  \n",
    "Таким образом бесплатные пользователи выгоднее.  \n",
    "Чтобы проверить это не зная точное значение медианы проведём ещё одно исследование."
   ]
  },
  {
   "cell_type": "markdown",
   "id": "ae4da1f2",
   "metadata": {},
   "source": [
    "$H_0$: средние цены поездок равны.  \n",
    "$H_1$: средняя цена поездки пользователей с подпиской ниже, чем средняя цена поездки пользователей без подписки"
   ]
  },
  {
   "cell_type": "code",
   "execution_count": 53,
   "id": "138c19a4",
   "metadata": {},
   "outputs": [
    {
     "name": "stdout",
     "output_type": "stream",
     "text": [
      "p-значение: 0.0\n",
      "Отвергаем нулевую гипотезу\n"
     ]
    }
   ],
   "source": [
    "alpha = 0.01\n",
    "results = st.ttest_ind((data_ultra['duration']*6), (50+data_free['duration']*8), alternative='less')\n",
    "print('p-значение:', results.pvalue)\n",
    "if results.pvalue < alpha: \n",
    "    print('Отвергаем нулевую гипотезу')\n",
    "else:\n",
    "    print('Не получилось отвергнуть нулевую гипотезу')"
   ]
  },
  {
   "cell_type": "markdown",
   "id": "414aed3a",
   "metadata": {},
   "source": [
    "Платные подписчики невыгодны, но тут не учитывается цена подписки. Так что следует сравнивать ежемесячный доход."
   ]
  },
  {
   "cell_type": "markdown",
   "id": "ce5c62bc",
   "metadata": {},
   "source": [
    "Исследуем среднее значение revenue."
   ]
  },
  {
   "cell_type": "code",
   "execution_count": 54,
   "id": "8d09e9b8",
   "metadata": {},
   "outputs": [
    {
     "data": {
      "text/html": [
       "<div>\n",
       "<style scoped>\n",
       "    .dataframe tbody tr th:only-of-type {\n",
       "        vertical-align: middle;\n",
       "    }\n",
       "\n",
       "    .dataframe tbody tr th {\n",
       "        vertical-align: top;\n",
       "    }\n",
       "\n",
       "    .dataframe thead th {\n",
       "        text-align: right;\n",
       "    }\n",
       "</style>\n",
       "<table border=\"1\" class=\"dataframe\">\n",
       "  <thead>\n",
       "    <tr style=\"text-align: right;\">\n",
       "      <th></th>\n",
       "      <th>revenue</th>\n",
       "      <th>number_of_rides</th>\n",
       "    </tr>\n",
       "    <tr>\n",
       "      <th>subscription_type</th>\n",
       "      <th></th>\n",
       "      <th></th>\n",
       "    </tr>\n",
       "  </thead>\n",
       "  <tbody>\n",
       "    <tr>\n",
       "      <th>free</th>\n",
       "      <td>2182514.0</td>\n",
       "      <td>11473</td>\n",
       "    </tr>\n",
       "    <tr>\n",
       "      <th>ultra</th>\n",
       "      <td>1625253.0</td>\n",
       "      <td>6500</td>\n",
       "    </tr>\n",
       "  </tbody>\n",
       "</table>\n",
       "</div>"
      ],
      "text/plain": [
       "                     revenue  number_of_rides\n",
       "subscription_type                            \n",
       "free               2182514.0            11473\n",
       "ultra              1625253.0             6500"
      ]
     },
     "execution_count": 54,
     "metadata": {},
     "output_type": "execute_result"
    }
   ],
   "source": [
    "data_revenue_sum = data_pivot.loc[:,['revenue','number_of_rides','subscription_type']].groupby('subscription_type').sum()\n",
    "data_revenue_sum"
   ]
  },
  {
   "cell_type": "code",
   "execution_count": 55,
   "id": "c243e4ed",
   "metadata": {},
   "outputs": [
    {
     "name": "stdout",
     "output_type": "stream",
     "text": [
      "Средняя выручка за поездку без подписки 190.23\n",
      "Средняя выручка за поездку с подпиской 250.04\n"
     ]
    }
   ],
   "source": [
    "free_revenue_mean = data_revenue_sum.loc['free','revenue'] / data_revenue_sum.loc['free','number_of_rides']\n",
    "ultra_revenue_mean = data_revenue_sum.loc['ultra','revenue'] / data_revenue_sum.loc['ultra','number_of_rides']\n",
    "print('Средняя выручка за поездку без подписки', free_revenue_mean.round(2))\n",
    "print('Средняя выручка за поездку с подпиской', ultra_revenue_mean.round(2))"
   ]
  },
  {
   "cell_type": "markdown",
   "id": "93413f0f",
   "metadata": {},
   "source": [
    "Пользователь с подпиской всё таки выгоднее."
   ]
  },
  {
   "cell_type": "markdown",
   "id": "4b940630",
   "metadata": {},
   "source": [
    "Неучтённая стоимось подписки сильно изменила значения. Я подумала что пользователи, купившие подписку катаются хотя бы неслько раз в месяц. И тогда влияние цены подписки на цену поездки не было бы столь значительным.  \n",
    "Это мне урок о том, что между \"я подумала\" и \"на самом деле\" может быть большая разница и все мысли обязательно надо проверять."
   ]
  },
  {
   "cell_type": "code",
   "execution_count": 56,
   "id": "4c2dd094",
   "metadata": {},
   "outputs": [
    {
     "data": {
      "image/png": "[encoded data removed]",
      "text/plain": [
       "<Figure size 1080x144 with 1 Axes>"
      ]
     },
     "metadata": {
      "needs_background": "light"
     },
     "output_type": "display_data"
    }
   ],
   "source": [
    "(data_pivot.loc[data_pivot['subscription_type'] == 'ultra',['user_id','number_of_rides']]\n",
    " .groupby('user_id').mean()\n",
    " .boxplot(vert = False,figsize = (15,2)));"
   ]
  },
  {
   "cell_type": "markdown",
   "id": "1335298b",
   "metadata": {},
   "source": [
    "Медианное значение числа поездок в месяц у платных подписчков меньше 1.5, а наибольшее значение всего 3. Отсюда такое сильное влияние цены подписки на цену поездки."
   ]
  },
  {
   "cell_type": "markdown",
   "id": "52b68830",
   "metadata": {},
   "source": [
    "Расстояние поездок"
   ]
  },
  {
   "cell_type": "markdown",
   "id": "047f463d",
   "metadata": {},
   "source": [
    "6.2 Расстояние одной поездки в 3130 метров — оптимальное с точки зрения износа самоката. Можно ли сказать, что расстояние, которое проезжают пользователи с подпиской за одну поездку, меньше 3130 метров? Проверьте гипотезу и сделайте выводы."
   ]
  },
  {
   "cell_type": "markdown",
   "id": "8ea9257c",
   "metadata": {},
   "source": [
    "$H_0$ Средняя поездка у пользователей с подпиской равна 3130 метра.   \n",
    "$H_1$ Средняя поездка у пользователей с подпиской меньше 3130 метра."
   ]
  },
  {
   "cell_type": "code",
   "execution_count": 57,
   "id": "676fd24e",
   "metadata": {},
   "outputs": [
    {
     "name": "stdout",
     "output_type": "stream",
     "text": [
      "p-значение: 0.08046311521502146\n",
      "Не отвергаем нулевую гипотезу\n"
     ]
    }
   ],
   "source": [
    "alpha = 0.05\n",
    "results = st.ttest_1samp(data_ultra['distance'], 3130, alternative='less')\n",
    "print('p-значение:', results.pvalue)\n",
    "if (results.pvalue < alpha):\n",
    "    print('Отвергаем нулевую гипотезу')\n",
    "else:\n",
    "    print('Не отвергаем нулевую гипотезу') "
   ]
  },
  {
   "cell_type": "markdown",
   "id": "900f106c",
   "metadata": {},
   "source": [
    "Расстояние, которое проезжают пользователи с подпиской за одну поездку, не меньше 3130 метров. "
   ]
  },
  {
   "cell_type": "markdown",
   "id": "247afe71",
   "metadata": {},
   "source": [
    "Выручка с подписок"
   ]
  },
  {
   "cell_type": "markdown",
   "id": "e40579d2",
   "metadata": {},
   "source": [
    "6.3. Проверьте гипотезу о том, будет ли выручка от пользователей с подпиской выше, чем выручка от пользователей без подписки. Сделайте вывод."
   ]
  },
  {
   "cell_type": "markdown",
   "id": "8a462863",
   "metadata": {},
   "source": [
    "$H_0$ Выручка от пользователей с подпиской равна выручке от пользователей без подписки.  \n",
    "$H_1$ Выручка от пользователей с подпиской выше, чем выручка от пользователей без подписки."
   ]
  },
  {
   "cell_type": "code",
   "execution_count": 58,
   "id": "722a1063",
   "metadata": {},
   "outputs": [
    {
     "name": "stdout",
     "output_type": "stream",
     "text": [
      "p-значение: 3.896683338141335e-36\n",
      "Отвергаем нулевую гипотезу\n"
     ]
    }
   ],
   "source": [
    "alpha = 0.01\n",
    "ultra_revenue = data_pivot.loc[data_pivot['subscription_type']=='ultra','revenue']\n",
    "free_revenue = data_pivot.loc[data_pivot['subscription_type']=='free','revenue']\n",
    "\n",
    "results = st.ttest_ind(ultra_revenue, free_revenue, alternative='greater')\n",
    "\n",
    "print('p-значение:', results.pvalue)\n",
    "if results.pvalue < alpha: \n",
    "    print('Отвергаем нулевую гипотезу')\n",
    "else:\n",
    "    print('Не получилось отвергнуть нулевую гипотезу')"
   ]
  },
  {
   "cell_type": "markdown",
   "id": "e94a0c50",
   "metadata": {},
   "source": [
    "Выручка от пользователей с подпиской выше, чем выручка от пользователей без подписки."
   ]
  },
  {
   "cell_type": "markdown",
   "id": "95e127b4",
   "metadata": {},
   "source": [
    "Обновление приложения"
   ]
  },
  {
   "cell_type": "markdown",
   "id": "601eced2",
   "metadata": {},
   "source": [
    "6.4. Представьте такую ситуацию: техническая команда сервиса обновила сервера, с которыми взаимодействует мобильное приложение. Она надеется, что из-за этого количество обращений в техподдержку значимо снизилось. Некоторый файл содержит для каждого пользователя данные о количестве обращений до обновления и после него. Какой тест вам понадобился бы для проверки этой гипотезы?"
   ]
  },
  {
   "cell_type": "markdown",
   "id": "f11ea393",
   "metadata": {},
   "source": [
    "$H_0$ Количество обращений в техподдержку не изменилось.  \n",
    "$H_1$ Количество обращений в техподдержку значимо снизилось.  "
   ]
  },
  {
   "cell_type": "code",
   "execution_count": 59,
   "id": "2d30ba2f",
   "metadata": {},
   "outputs": [
    {
     "name": "stdout",
     "output_type": "stream",
     "text": [
      "p-значение: 1.0\n",
      "Не получилось отвергнуть нулевую гипотезу\n"
     ]
    },
    {
     "name": "stderr",
     "output_type": "stream",
     "text": [
      "/tmp/ipykernel_31/3857148275.py:6: RuntimeWarning: Precision loss occurred in moment calculation due to catastrophic cancellation. This occurs when the data are nearly identical. Results may be unreliable.\n",
      "  results = st.ttest_rel(before, after, alternative= 'greater') # тест для зависимых выборок\n"
     ]
    }
   ],
   "source": [
    "before = [1, 2, 3] #значения до изменений\n",
    "after = [2, 3, 4] #значения после изменений\n",
    "\n",
    "alpha = 0.05\n",
    "\n",
    "results = st.ttest_rel(before, after, alternative= 'greater') # тест для зависимых выборок\n",
    "\n",
    "print('p-значение:', results.pvalue)\n",
    "\n",
    "if results.pvalue < alpha:\n",
    "    print('Отвергаем нулевую гипотезу')\n",
    "else:\n",
    "    print('Не получилось отвергнуть нулевую гипотезу')"
   ]
  },
  {
   "cell_type": "markdown",
   "id": "61213c5e",
   "metadata": {},
   "source": [
    "### Распределения (необязательное задание)"
   ]
  },
  {
   "cell_type": "markdown",
   "id": "3fec32d7",
   "metadata": {},
   "source": [
    "##### Акция на беспланый месяц"
   ]
  },
  {
   "cell_type": "markdown",
   "id": "8ff70cbb",
   "metadata": {},
   "source": [
    "7.1 Отделу маркетинга GoFast поставили задачу: нужно провести акцию с раздачей промокодов на один бесплатный месяц подписки, в рамках которой как минимум 100 существующих клиентов должны продлить эту подписку. То есть по завершении периода действия подписки пользователь может либо отказаться от неё, либо продлить, совершив соотвествующий платёж. \n",
    "Эта акция уже проводилась ранее и по итогу выяснилось, что после бесплатного пробного периода подписку продлевают 10% пользователей. Выясните, какое минимальное количество промокодов нужно разослать, чтобы вероятность не выполнить план была примерно 5%. Подберите параметры распределения, описывающего эту ситуацию, постройте график распределения и сформулируйте ответ на вопрос о количестве промокодов."
   ]
  },
  {
   "cell_type": "markdown",
   "id": "5217fc62",
   "metadata": {},
   "source": [
    "Построим график вероятности получить меньше 100 подписок для различного числа купонов. На этом графике мы хотим найти значение 0.05.\n",
    "Распределение аппроксимируем нормальным."
   ]
  },
  {
   "cell_type": "code",
   "execution_count": 60,
   "id": "f010ed0f",
   "metadata": {},
   "outputs": [
    {
     "data": {
      "text/plain": [
       "Text(0, 0.5, 'Вероятность')"
      ]
     },
     "execution_count": 60,
     "metadata": {},
     "output_type": "execute_result"
    },
    {
     "data": {
      "image/png": "[encoded data removed]",
      "text/plain": [
       "<Figure size 432x288 with 1 Axes>"
      ]
     },
     "metadata": {
      "needs_background": "light"
     },
     "output_type": "display_data"
    }
   ],
   "source": [
    "from math import sqrt\n",
    "\n",
    "p = 0.1\n",
    "\n",
    "result = []\n",
    "\n",
    "for n in range(500, 1500, 10):\n",
    "    mu = n*p\n",
    "    sigma = sqrt(n * p * (1 - p))\n",
    "    distr = st.norm(mu, sigma) \n",
    "    result.append(distr.cdf(100))\n",
    "\n",
    "plt.grid(zorder=0)\n",
    "plt.plot(range(500, 1500, 10),result, 'bo');\n",
    "plt.title('Вероятнось получить меньше 100 подписок')\n",
    "plt.xlabel('Число купонов')\n",
    "plt.ylabel('Вероятность')"
   ]
  },
  {
   "cell_type": "markdown",
   "id": "b70d3df5",
   "metadata": {},
   "source": [
    "Нужное значение где-то около 1200."
   ]
  },
  {
   "cell_type": "code",
   "execution_count": 61,
   "id": "ee447803",
   "metadata": {},
   "outputs": [
    {
     "data": {
      "text/plain": [
       "Text(0, 0.5, 'Вероятность')"
      ]
     },
     "execution_count": 61,
     "metadata": {},
     "output_type": "execute_result"
    },
    {
     "data": {
      "image/png": "[encoded data removed]",
      "text/plain": [
       "<Figure size 432x288 with 1 Axes>"
      ]
     },
     "metadata": {
      "needs_background": "light"
     },
     "output_type": "display_data"
    }
   ],
   "source": [
    "result = []\n",
    "n_range = range(1150, 1250, 10)\n",
    "for n in n_range:\n",
    "    mu = n*p\n",
    "    sigma = sqrt(n * p * (1 - p))\n",
    "    distr = st.norm(mu, sigma) \n",
    "    result.append(distr.cdf(100))\n",
    "    \n",
    "plt.grid(zorder=0)\n",
    "plt.plot(n_range, result, 'bo');\n",
    "plt.title('Вероятнось получить меньше 100 подписок')\n",
    "plt.xlabel('Число купонов')\n",
    "plt.ylabel('Вероятность')"
   ]
  },
  {
   "cell_type": "code",
   "execution_count": 62,
   "id": "8069a130",
   "metadata": {},
   "outputs": [
    {
     "data": {
      "text/plain": [
       "Text(0, 0.5, 'Вероятность')"
      ]
     },
     "execution_count": 62,
     "metadata": {},
     "output_type": "execute_result"
    },
    {
     "data": {
      "image/png": "[encoded data removed]",
      "text/plain": [
       "<Figure size 432x288 with 1 Axes>"
      ]
     },
     "metadata": {
      "needs_background": "light"
     },
     "output_type": "display_data"
    }
   ],
   "source": [
    "result = []\n",
    "n_range = range(1165, 1175, 1)\n",
    "for n in n_range:\n",
    "    mu = n*p\n",
    "    sigma = sqrt(n * p * (1 - p))\n",
    "    distr = st.norm(mu, sigma) \n",
    "    result.append(distr.cdf(100))\n",
    "    \n",
    "plt.grid(zorder=0)\n",
    "plt.plot(n_range, result, 'bo');\n",
    "plt.title('Вероятнось получить меньше 100 подписок')\n",
    "plt.xlabel('Число купонов')\n",
    "plt.ylabel('Вероятность')"
   ]
  },
  {
   "cell_type": "code",
   "execution_count": 63,
   "id": "93910791",
   "metadata": {},
   "outputs": [
    {
     "name": "stdout",
     "output_type": "stream",
     "text": [
      "Если разослать 1169 промокодов, то вероятность получить меньше 100 пописок = 0.0497\n"
     ]
    }
   ],
   "source": [
    "n = 1169\n",
    "mu = n*p\n",
    "sigma = sqrt(n * p * (1 - p))\n",
    "\n",
    "distr = st.norm(mu, sigma) \n",
    "\n",
    "result = distr.cdf(100)\n",
    "print('Если разослать', n, 'промокодов, то вероятность получить меньше 100 пописок =', result.round(4))"
   ]
  },
  {
   "cell_type": "markdown",
   "id": "d9d3c4fa",
   "metadata": {},
   "source": [
    "Смотреть на графики как-то неудобно, особенно если мы хотим точное значение. Гораздо логичнее было бы задать изначальные рамки, например 100 и 2000 купонов. А затем провести двоичный поиск, так как функция не возрастает и значения отсортированы."
   ]
  },
  {
   "cell_type": "markdown",
   "id": "5530b4eb",
   "metadata": {},
   "source": [
    "##### Push-уведомления "
   ]
  },
  {
   "cell_type": "markdown",
   "id": "a3f744e2",
   "metadata": {},
   "source": [
    "7.2 Отдел маркетинга рассылает клиентам push-уведомления в мобильном приложении. Клиенты могут открыть его или не открывать. Известно, что уведомления открывают около 40% получивших клиентов. Отдел планирует разослать 1 млн уведомлений. С помощью аппроксимации постройте примерный график распределения и оцените вероятность того, что уведомление откроют не более 399,5 тыс. пользователей."
   ]
  },
  {
   "cell_type": "code",
   "execution_count": 64,
   "id": "77ebcdd0",
   "metadata": {},
   "outputs": [
    {
     "data": {
      "text/plain": [
       "Text(0, 0.5, 'Вероятность')"
      ]
     },
     "execution_count": 64,
     "metadata": {},
     "output_type": "execute_result"
    },
    {
     "data": {
      "image/png": "[encoded data removed]",
      "text/plain": [
       "<Figure size 432x288 with 1 Axes>"
      ]
     },
     "metadata": {
      "needs_background": "light"
     },
     "output_type": "display_data"
    }
   ],
   "source": [
    "from scipy.stats import norm\n",
    "n = 1000000\n",
    "p = 0.4\n",
    "mu = n*p\n",
    "sigma = sqrt(n * p * (1 - p))\n",
    "\n",
    "distr = st.norm(mu, sigma) \n",
    "\n",
    "left = int(n * p - 4 * sqrt(n * p * (1 - p)))\n",
    "right = int(n * p + 4 * sqrt(n * p * (1 - p)))\n",
    "x = list(range(max(0, left), right))\n",
    "\n",
    "plt.grid(zorder=0)\n",
    "plt.plot(x, norm.cdf(x, mu, sigma), 'b-');\n",
    "plt.title('Вероятнось открытия уведомлений')\n",
    "plt.xlabel('Открыто уведомлений')\n",
    "plt.ylabel('Вероятность')"
   ]
  },
  {
   "cell_type": "code",
   "execution_count": 65,
   "id": "33de1926",
   "metadata": {},
   "outputs": [
    {
     "data": {
      "text/plain": [
       "0.15371708296369768"
      ]
     },
     "execution_count": 65,
     "metadata": {},
     "output_type": "execute_result"
    }
   ],
   "source": [
    "distr.cdf(399500)"
   ]
  },
  {
   "cell_type": "markdown",
   "id": "46d10d80",
   "metadata": {},
   "source": [
    "Вероятность того, что уведомление откроют не более 399,5 тыс. пользователей примерно равна 15%."
   ]
  },
  {
   "cell_type": "markdown",
   "id": "3e270e92",
   "metadata": {},
   "source": [
    "### Вывод"
   ]
  },
  {
   "cell_type": "markdown",
   "id": "6c81144d",
   "metadata": {},
   "source": [
    "Предоставленные данные без пропусков и почти без выбросов.  \n",
    "В данных присутствуют записи об автоматически отменённых поездках, длительностью ровно 30 секунд. Такие поездки следует исключить из датасета.  \n",
    "Минимальный возраст пользователя 12 лет. Следует уточнить, реальное ли это значение.  \n",
    "В данных присутствовало несколько дубликатов пользователей, которые были удалены.  \n",
    "\n",
    "Больше всего пользователей зарегистрировано в Пятигорске, а меньше всего в Москве.  \n",
    "Пользователей без подписки больше, чем пользователей с попиской, но не на много. Пописка есть у 46% пользователей.  \n",
    "Возраст пользователей распределён нормально. Самый частый возраст - 25 лет. Диапазон значений от 12 до 45 лет.  \n",
    "По расстоянию поездки можно разделить на два вида: короткие и длинные. Короткие от 0 до 1500м, длинные от 1500 до 7000м. Переходные значения между видами поездок в районе 1500м встречаются довольно редко.  \n",
    "Длительность поездок распределена нормально самое частое значение 15-20 минут. Все поездки были не дольше 45 минут.  \n",
    "\n",
    "Если рассматривать отдельно пользователей с подпиской и без неё, то распределение времени останется похожим на нормальное в обоих вариантах. Но премиум подписчики реже совершают короткие поездки, хотя для них они совсем недорогие.  \n",
    "\n",
    "После проверки гипотез были получены следующие выводы:\n",
    "* У платных пописчиков средняя длительность поездки выше.\n",
    "* Расстояние, которое проезжают пользователи с подпиской за одну поездку, не меньше 3130 метров.\n",
    "* Выручка от пользователей с подпиской выше, чем выручка от пользователей без подписки.\n",
    "\n",
    "Если разослать 1169 промокодов, то вероятность получить меньше 100 пописок = 0.0497.  \n",
    "Вероятность того, что уведомление откроют не более 399,5 тыс. пользователей примерно равна 15%.  "
   ]
  }
 ],
 "metadata": {
  "ExecuteTimeLog": [
   {
    "duration": 2952,
    "start_time": "2023-05-01T05:09:56.471Z"
   },
   {
    "duration": 131,
    "start_time": "2023-05-01T05:09:59.427Z"
   },
   {
    "duration": 205,
    "start_time": "2023-05-01T05:09:59.560Z"
   },
   {
    "duration": 75,
    "start_time": "2023-05-01T05:09:59.768Z"
   },
   {
    "duration": 16,
    "start_time": "2023-05-01T05:09:59.846Z"
   },
   {
    "duration": 59,
    "start_time": "2023-05-01T05:09:59.864Z"
   },
   {
    "duration": 19,
    "start_time": "2023-05-01T05:09:59.926Z"
   },
   {
    "duration": 26,
    "start_time": "2023-05-01T05:09:59.947Z"
   },
   {
    "duration": 38,
    "start_time": "2023-05-01T05:09:59.975Z"
   },
   {
    "duration": 45,
    "start_time": "2023-05-01T05:10:00.017Z"
   },
   {
    "duration": 72,
    "start_time": "2023-05-01T05:10:00.064Z"
   },
   {
    "duration": 76,
    "start_time": "2023-05-01T05:10:00.138Z"
   },
   {
    "duration": 22,
    "start_time": "2023-05-01T05:10:00.225Z"
   },
   {
    "duration": 84,
    "start_time": "2023-05-01T05:10:00.249Z"
   },
   {
    "duration": 40,
    "start_time": "2023-05-01T05:10:00.337Z"
   },
   {
    "duration": 22,
    "start_time": "2023-05-01T05:10:00.380Z"
   },
   {
    "duration": 39,
    "start_time": "2023-05-01T05:10:00.405Z"
   },
   {
    "duration": 28,
    "start_time": "2023-05-01T05:10:00.447Z"
   },
   {
    "duration": 46,
    "start_time": "2023-05-01T05:10:00.477Z"
   },
   {
    "duration": 32,
    "start_time": "2023-05-01T05:10:00.525Z"
   },
   {
    "duration": 21,
    "start_time": "2023-05-01T05:10:00.559Z"
   },
   {
    "duration": 269,
    "start_time": "2023-05-01T05:10:00.583Z"
   },
   {
    "duration": 148,
    "start_time": "2023-05-01T05:10:00.855Z"
   },
   {
    "duration": 272,
    "start_time": "2023-05-01T05:10:01.005Z"
   },
   {
    "duration": 242,
    "start_time": "2023-05-01T05:10:01.279Z"
   },
   {
    "duration": 258,
    "start_time": "2023-05-01T05:10:01.523Z"
   },
   {
    "duration": 15,
    "start_time": "2023-05-01T05:10:01.785Z"
   },
   {
    "duration": 36,
    "start_time": "2023-05-01T05:10:01.805Z"
   },
   {
    "duration": 20,
    "start_time": "2023-05-01T05:10:01.843Z"
   },
   {
    "duration": 80,
    "start_time": "2023-05-01T05:10:01.865Z"
   },
   {
    "duration": 17,
    "start_time": "2023-05-01T05:10:01.949Z"
   },
   {
    "duration": 34,
    "start_time": "2023-05-01T05:10:01.967Z"
   },
   {
    "duration": 473,
    "start_time": "2023-05-01T05:10:02.003Z"
   },
   {
    "duration": 749,
    "start_time": "2023-05-01T05:10:02.478Z"
   },
   {
    "duration": 5,
    "start_time": "2023-05-01T05:10:03.231Z"
   },
   {
    "duration": 6,
    "start_time": "2023-05-01T05:10:03.238Z"
   },
   {
    "duration": 319,
    "start_time": "2023-05-01T05:10:03.247Z"
   },
   {
    "duration": 304,
    "start_time": "2023-05-01T05:10:03.569Z"
   },
   {
    "duration": 37,
    "start_time": "2023-05-01T05:10:03.875Z"
   },
   {
    "duration": 259,
    "start_time": "2023-05-01T05:10:03.914Z"
   },
   {
    "duration": 8,
    "start_time": "2023-05-01T05:10:04.176Z"
   },
   {
    "duration": 78,
    "start_time": "2023-05-01T05:10:04.191Z"
   },
   {
    "duration": 5165,
    "start_time": "2023-05-01T05:10:04.272Z"
   },
   {
    "duration": 10,
    "start_time": "2023-05-01T05:10:09.439Z"
   },
   {
    "duration": 7,
    "start_time": "2023-05-01T05:10:09.450Z"
   },
   {
    "duration": 31,
    "start_time": "2023-05-01T05:10:09.458Z"
   },
   {
    "duration": 8,
    "start_time": "2023-05-01T05:10:09.491Z"
   },
   {
    "duration": 14,
    "start_time": "2023-05-01T05:10:09.501Z"
   },
   {
    "duration": 6,
    "start_time": "2023-05-01T05:10:09.516Z"
   },
   {
    "duration": 332,
    "start_time": "2023-05-01T05:10:09.524Z"
   },
   {
    "duration": 161,
    "start_time": "2023-05-01T05:10:09.858Z"
   },
   {
    "duration": 126,
    "start_time": "2023-05-01T05:10:10.020Z"
   },
   {
    "duration": 6,
    "start_time": "2023-05-01T05:10:10.148Z"
   },
   {
    "duration": 198,
    "start_time": "2023-05-01T05:10:10.156Z"
   },
   {
    "duration": 5,
    "start_time": "2023-05-01T05:10:10.356Z"
   },
   {
    "duration": 18,
    "start_time": "2023-05-01T05:16:29.745Z"
   },
   {
    "duration": 24,
    "start_time": "2023-05-01T05:25:37.837Z"
   },
   {
    "duration": 25,
    "start_time": "2023-05-01T05:26:48.816Z"
   },
   {
    "duration": 44,
    "start_time": "2023-05-01T09:08:11.809Z"
   },
   {
    "duration": 1276,
    "start_time": "2023-05-01T09:08:19.652Z"
   },
   {
    "duration": 77,
    "start_time": "2023-05-01T09:08:20.930Z"
   },
   {
    "duration": 74,
    "start_time": "2023-05-01T09:08:21.009Z"
   },
   {
    "duration": 53,
    "start_time": "2023-05-01T09:08:21.085Z"
   },
   {
    "duration": 19,
    "start_time": "2023-05-01T09:08:21.140Z"
   },
   {
    "duration": 18,
    "start_time": "2023-05-01T09:08:21.161Z"
   },
   {
    "duration": 19,
    "start_time": "2023-05-01T09:08:21.181Z"
   },
   {
    "duration": 8,
    "start_time": "2023-05-01T09:08:21.202Z"
   },
   {
    "duration": 41,
    "start_time": "2023-05-01T09:08:21.211Z"
   },
   {
    "duration": 18,
    "start_time": "2023-05-01T09:08:21.254Z"
   },
   {
    "duration": 8,
    "start_time": "2023-05-01T09:08:21.273Z"
   },
   {
    "duration": 12,
    "start_time": "2023-05-01T09:08:21.283Z"
   },
   {
    "duration": 11,
    "start_time": "2023-05-01T09:08:21.296Z"
   },
   {
    "duration": 27,
    "start_time": "2023-05-01T09:08:21.309Z"
   },
   {
    "duration": 6,
    "start_time": "2023-05-01T09:08:21.337Z"
   },
   {
    "duration": 8,
    "start_time": "2023-05-01T09:08:21.345Z"
   },
   {
    "duration": 8,
    "start_time": "2023-05-01T09:08:21.355Z"
   },
   {
    "duration": 8,
    "start_time": "2023-05-01T09:08:21.364Z"
   },
   {
    "duration": 9,
    "start_time": "2023-05-01T09:08:21.373Z"
   },
   {
    "duration": 8,
    "start_time": "2023-05-01T09:08:21.383Z"
   },
   {
    "duration": 7,
    "start_time": "2023-05-01T09:08:21.393Z"
   },
   {
    "duration": 159,
    "start_time": "2023-05-01T09:08:21.402Z"
   },
   {
    "duration": 124,
    "start_time": "2023-05-01T09:08:21.563Z"
   },
   {
    "duration": 165,
    "start_time": "2023-05-01T09:08:21.689Z"
   },
   {
    "duration": 188,
    "start_time": "2023-05-01T09:08:21.856Z"
   },
   {
    "duration": 238,
    "start_time": "2023-05-01T09:08:22.046Z"
   },
   {
    "duration": 6,
    "start_time": "2023-05-01T09:08:22.286Z"
   },
   {
    "duration": 6,
    "start_time": "2023-05-01T09:08:22.295Z"
   },
   {
    "duration": 14,
    "start_time": "2023-05-01T09:08:22.302Z"
   },
   {
    "duration": 41,
    "start_time": "2023-05-01T09:08:22.317Z"
   },
   {
    "duration": 16,
    "start_time": "2023-05-01T09:08:25.254Z"
   },
   {
    "duration": 72,
    "start_time": "2023-05-01T09:24:14.000Z"
   },
   {
    "duration": 5,
    "start_time": "2023-05-01T09:24:18.958Z"
   },
   {
    "duration": 28,
    "start_time": "2023-05-01T09:24:19.005Z"
   },
   {
    "duration": 27,
    "start_time": "2023-05-01T09:24:19.036Z"
   },
   {
    "duration": 16,
    "start_time": "2023-05-01T09:24:19.065Z"
   },
   {
    "duration": 9,
    "start_time": "2023-05-01T09:24:19.082Z"
   },
   {
    "duration": 11,
    "start_time": "2023-05-01T09:24:19.094Z"
   },
   {
    "duration": 15,
    "start_time": "2023-05-01T09:24:19.107Z"
   },
   {
    "duration": 17,
    "start_time": "2023-05-01T09:24:19.124Z"
   },
   {
    "duration": 21,
    "start_time": "2023-05-01T09:24:19.144Z"
   },
   {
    "duration": 22,
    "start_time": "2023-05-01T09:24:19.167Z"
   },
   {
    "duration": 7,
    "start_time": "2023-05-01T09:24:19.190Z"
   },
   {
    "duration": 8,
    "start_time": "2023-05-01T09:24:19.198Z"
   },
   {
    "duration": 27,
    "start_time": "2023-05-01T09:24:19.207Z"
   },
   {
    "duration": 14,
    "start_time": "2023-05-01T09:24:19.236Z"
   },
   {
    "duration": 7,
    "start_time": "2023-05-01T09:24:19.254Z"
   },
   {
    "duration": 8,
    "start_time": "2023-05-01T09:24:19.262Z"
   },
   {
    "duration": 6,
    "start_time": "2023-05-01T09:24:19.272Z"
   },
   {
    "duration": 6,
    "start_time": "2023-05-01T09:24:19.280Z"
   },
   {
    "duration": 11,
    "start_time": "2023-05-01T09:24:19.287Z"
   },
   {
    "duration": 37,
    "start_time": "2023-05-01T09:24:19.300Z"
   },
   {
    "duration": 7,
    "start_time": "2023-05-01T09:24:19.339Z"
   },
   {
    "duration": 139,
    "start_time": "2023-05-01T09:24:19.347Z"
   },
   {
    "duration": 125,
    "start_time": "2023-05-01T09:24:19.488Z"
   },
   {
    "duration": 170,
    "start_time": "2023-05-01T09:24:19.614Z"
   },
   {
    "duration": 190,
    "start_time": "2023-05-01T09:24:19.785Z"
   },
   {
    "duration": 207,
    "start_time": "2023-05-01T09:24:19.977Z"
   },
   {
    "duration": 4,
    "start_time": "2023-05-01T09:24:20.186Z"
   },
   {
    "duration": 10,
    "start_time": "2023-05-01T09:24:20.192Z"
   },
   {
    "duration": 12,
    "start_time": "2023-05-01T09:24:20.204Z"
   },
   {
    "duration": 28,
    "start_time": "2023-05-01T09:24:20.217Z"
   },
   {
    "duration": 13,
    "start_time": "2023-05-01T09:24:20.246Z"
   },
   {
    "duration": 11,
    "start_time": "2023-05-01T09:24:20.261Z"
   },
   {
    "duration": 883,
    "start_time": "2023-05-01T09:24:24.105Z"
   },
   {
    "duration": 415,
    "start_time": "2023-05-01T09:24:33.999Z"
   },
   {
    "duration": 328,
    "start_time": "2023-05-01T09:24:41.900Z"
   },
   {
    "duration": 207,
    "start_time": "2023-05-01T09:25:01.143Z"
   },
   {
    "duration": 315,
    "start_time": "2023-05-01T09:25:12.303Z"
   },
   {
    "duration": 357,
    "start_time": "2023-05-01T09:25:19.943Z"
   },
   {
    "duration": 367,
    "start_time": "2023-05-01T09:25:42.857Z"
   },
   {
    "duration": 227,
    "start_time": "2023-05-01T09:25:49.944Z"
   },
   {
    "duration": 213,
    "start_time": "2023-05-01T09:26:04.852Z"
   },
   {
    "duration": 74,
    "start_time": "2023-05-01T09:26:52.601Z"
   },
   {
    "duration": 181,
    "start_time": "2023-05-01T09:26:58.926Z"
   },
   {
    "duration": 260,
    "start_time": "2023-05-01T09:27:06.604Z"
   },
   {
    "duration": 261,
    "start_time": "2023-05-01T09:28:56.522Z"
   },
   {
    "duration": 474,
    "start_time": "2023-05-01T09:29:04.903Z"
   },
   {
    "duration": 316,
    "start_time": "2023-05-01T09:29:30.402Z"
   },
   {
    "duration": 291,
    "start_time": "2023-05-01T09:29:38.034Z"
   },
   {
    "duration": 295,
    "start_time": "2023-05-01T09:29:58.206Z"
   },
   {
    "duration": 271,
    "start_time": "2023-05-01T09:30:19.500Z"
   },
   {
    "duration": 308,
    "start_time": "2023-05-01T09:30:25.192Z"
   },
   {
    "duration": 9,
    "start_time": "2023-05-01T09:31:49.301Z"
   },
   {
    "duration": 3,
    "start_time": "2023-05-01T09:31:54.521Z"
   },
   {
    "duration": 54,
    "start_time": "2023-05-01T09:31:54.527Z"
   },
   {
    "duration": 28,
    "start_time": "2023-05-01T09:31:54.583Z"
   },
   {
    "duration": 17,
    "start_time": "2023-05-01T09:31:54.613Z"
   },
   {
    "duration": 11,
    "start_time": "2023-05-01T09:31:54.632Z"
   },
   {
    "duration": 19,
    "start_time": "2023-05-01T09:31:54.645Z"
   },
   {
    "duration": 24,
    "start_time": "2023-05-01T09:31:54.666Z"
   },
   {
    "duration": 9,
    "start_time": "2023-05-01T09:31:54.692Z"
   },
   {
    "duration": 188,
    "start_time": "2023-05-01T09:31:54.704Z"
   },
   {
    "duration": 20,
    "start_time": "2023-05-01T09:31:54.893Z"
   },
   {
    "duration": 7,
    "start_time": "2023-05-01T09:31:54.914Z"
   },
   {
    "duration": 6,
    "start_time": "2023-05-01T09:31:54.935Z"
   },
   {
    "duration": 19,
    "start_time": "2023-05-01T09:31:54.943Z"
   },
   {
    "duration": 9,
    "start_time": "2023-05-01T09:31:54.964Z"
   },
   {
    "duration": 5,
    "start_time": "2023-05-01T09:31:54.975Z"
   },
   {
    "duration": 6,
    "start_time": "2023-05-01T09:31:54.981Z"
   },
   {
    "duration": 7,
    "start_time": "2023-05-01T09:31:54.988Z"
   },
   {
    "duration": 38,
    "start_time": "2023-05-01T09:31:54.996Z"
   },
   {
    "duration": 9,
    "start_time": "2023-05-01T09:31:55.037Z"
   },
   {
    "duration": 21,
    "start_time": "2023-05-01T09:31:55.048Z"
   },
   {
    "duration": 8,
    "start_time": "2023-05-01T09:31:55.070Z"
   },
   {
    "duration": 144,
    "start_time": "2023-05-01T09:31:55.079Z"
   },
   {
    "duration": 130,
    "start_time": "2023-05-01T09:31:55.225Z"
   },
   {
    "duration": 156,
    "start_time": "2023-05-01T09:31:55.358Z"
   },
   {
    "duration": 183,
    "start_time": "2023-05-01T09:31:55.515Z"
   },
   {
    "duration": 212,
    "start_time": "2023-05-01T09:31:55.700Z"
   },
   {
    "duration": 4,
    "start_time": "2023-05-01T09:31:55.913Z"
   },
   {
    "duration": 18,
    "start_time": "2023-05-01T09:31:55.919Z"
   },
   {
    "duration": 8,
    "start_time": "2023-05-01T09:31:55.939Z"
   },
   {
    "duration": 28,
    "start_time": "2023-05-01T09:31:55.949Z"
   },
   {
    "duration": 13,
    "start_time": "2023-05-01T09:31:55.978Z"
   },
   {
    "duration": 11,
    "start_time": "2023-05-01T09:31:55.992Z"
   },
   {
    "duration": 310,
    "start_time": "2023-05-01T09:31:56.004Z"
   },
   {
    "duration": 300,
    "start_time": "2023-05-01T09:31:56.316Z"
   },
   {
    "duration": 4,
    "start_time": "2023-05-01T09:31:56.618Z"
   },
   {
    "duration": 13,
    "start_time": "2023-05-01T09:31:56.623Z"
   },
   {
    "duration": 186,
    "start_time": "2023-05-01T09:31:56.639Z"
   },
   {
    "duration": 178,
    "start_time": "2023-05-01T09:31:56.826Z"
   },
   {
    "duration": 6,
    "start_time": "2023-05-01T09:31:57.005Z"
   },
   {
    "duration": 305,
    "start_time": "2023-05-01T09:31:57.012Z"
   },
   {
    "duration": 16,
    "start_time": "2023-05-01T09:31:57.318Z"
   },
   {
    "duration": 52,
    "start_time": "2023-05-01T09:31:57.337Z"
   },
   {
    "duration": 4062,
    "start_time": "2023-05-01T09:32:02.064Z"
   },
   {
    "duration": 4075,
    "start_time": "2023-05-01T09:32:40.499Z"
   },
   {
    "duration": 3886,
    "start_time": "2023-05-01T09:32:50.497Z"
   },
   {
    "duration": 4154,
    "start_time": "2023-05-01T09:33:00.010Z"
   },
   {
    "duration": 10,
    "start_time": "2023-05-01T09:33:37.897Z"
   },
   {
    "duration": 4324,
    "start_time": "2023-05-01T09:33:44.540Z"
   },
   {
    "duration": 12,
    "start_time": "2023-05-01T09:33:48.867Z"
   },
   {
    "duration": 118,
    "start_time": "2023-05-01T09:41:20.479Z"
   },
   {
    "duration": 109,
    "start_time": "2023-05-01T09:41:27.483Z"
   },
   {
    "duration": 111,
    "start_time": "2023-05-01T09:41:36.120Z"
   },
   {
    "duration": 80,
    "start_time": "2023-05-01T09:42:12.198Z"
   },
   {
    "duration": 142,
    "start_time": "2023-05-01T09:42:16.126Z"
   },
   {
    "duration": 255,
    "start_time": "2023-05-01T09:42:19.582Z"
   },
   {
    "duration": 114,
    "start_time": "2023-05-01T09:42:52.106Z"
   },
   {
    "duration": 4,
    "start_time": "2023-05-01T09:43:15.701Z"
   },
   {
    "duration": 187,
    "start_time": "2023-05-01T09:43:18.284Z"
   },
   {
    "duration": 140,
    "start_time": "2023-05-01T09:44:24.045Z"
   },
   {
    "duration": 148,
    "start_time": "2023-05-01T09:44:46.060Z"
   },
   {
    "duration": 164,
    "start_time": "2023-05-01T09:45:28.552Z"
   },
   {
    "duration": 151,
    "start_time": "2023-05-01T09:45:38.179Z"
   },
   {
    "duration": 144,
    "start_time": "2023-05-01T09:45:56.648Z"
   },
   {
    "duration": 112,
    "start_time": "2023-05-01T09:46:11.028Z"
   },
   {
    "duration": 143,
    "start_time": "2023-05-01T09:46:17.293Z"
   },
   {
    "duration": 177,
    "start_time": "2023-05-01T09:46:25.321Z"
   },
   {
    "duration": 148,
    "start_time": "2023-05-01T09:56:37.366Z"
   },
   {
    "duration": 171,
    "start_time": "2023-05-01T09:56:47.513Z"
   },
   {
    "duration": 1908,
    "start_time": "2023-05-01T09:58:40.724Z"
   },
   {
    "duration": 162,
    "start_time": "2023-05-01T09:59:00.115Z"
   },
   {
    "duration": 193,
    "start_time": "2023-05-01T09:59:57.751Z"
   },
   {
    "duration": 465,
    "start_time": "2023-05-01T10:00:35.263Z"
   },
   {
    "duration": 286,
    "start_time": "2023-05-01T10:01:05.310Z"
   },
   {
    "duration": 163,
    "start_time": "2023-05-01T10:01:41.349Z"
   },
   {
    "duration": 184,
    "start_time": "2023-05-01T10:01:55.819Z"
   },
   {
    "duration": 156,
    "start_time": "2023-05-01T10:02:05.012Z"
   },
   {
    "duration": 140,
    "start_time": "2023-05-01T10:02:12.547Z"
   },
   {
    "duration": 208,
    "start_time": "2023-05-01T10:03:32.712Z"
   },
   {
    "duration": 126,
    "start_time": "2023-05-01T10:03:40.054Z"
   },
   {
    "duration": 137,
    "start_time": "2023-05-01T10:03:43.303Z"
   },
   {
    "duration": 168,
    "start_time": "2023-05-01T10:07:00.737Z"
   },
   {
    "duration": 149,
    "start_time": "2023-05-01T10:07:15.919Z"
   },
   {
    "duration": 293,
    "start_time": "2023-05-01T10:11:12.852Z"
   },
   {
    "duration": 142,
    "start_time": "2023-05-01T10:11:17.154Z"
   },
   {
    "duration": 12,
    "start_time": "2023-05-01T10:13:39.034Z"
   },
   {
    "duration": 27,
    "start_time": "2023-05-01T10:14:00.734Z"
   },
   {
    "duration": 16,
    "start_time": "2023-05-01T10:14:09.498Z"
   },
   {
    "duration": 154,
    "start_time": "2023-05-01T10:14:39.323Z"
   },
   {
    "duration": 126,
    "start_time": "2023-05-01T10:14:53.631Z"
   },
   {
    "duration": 365,
    "start_time": "2023-05-01T10:14:59.401Z"
   },
   {
    "duration": 146,
    "start_time": "2023-05-01T10:15:03.674Z"
   },
   {
    "duration": 138,
    "start_time": "2023-05-01T10:15:26.810Z"
   },
   {
    "duration": 13,
    "start_time": "2023-05-01T10:15:39.200Z"
   },
   {
    "duration": 16,
    "start_time": "2023-05-01T10:15:46.501Z"
   },
   {
    "duration": 149,
    "start_time": "2023-05-01T10:16:00.215Z"
   },
   {
    "duration": 6,
    "start_time": "2023-05-01T10:21:19.551Z"
   },
   {
    "duration": 4,
    "start_time": "2023-05-01T10:21:37.150Z"
   },
   {
    "duration": 5,
    "start_time": "2023-05-01T10:21:48.427Z"
   },
   {
    "duration": 6,
    "start_time": "2023-05-01T10:23:01.656Z"
   },
   {
    "duration": 6,
    "start_time": "2023-05-01T10:23:35.535Z"
   },
   {
    "duration": 4,
    "start_time": "2023-05-01T10:25:14.299Z"
   },
   {
    "duration": 10,
    "start_time": "2023-05-01T10:26:11.904Z"
   },
   {
    "duration": 10,
    "start_time": "2023-05-01T10:26:35.831Z"
   },
   {
    "duration": 12,
    "start_time": "2023-05-01T10:26:56.569Z"
   },
   {
    "duration": 6,
    "start_time": "2023-05-01T10:27:01.914Z"
   },
   {
    "duration": 3,
    "start_time": "2023-05-01T10:27:10.328Z"
   },
   {
    "duration": 32,
    "start_time": "2023-05-01T10:27:10.333Z"
   },
   {
    "duration": 26,
    "start_time": "2023-05-01T10:27:10.367Z"
   },
   {
    "duration": 17,
    "start_time": "2023-05-01T10:27:10.395Z"
   },
   {
    "duration": 8,
    "start_time": "2023-05-01T10:27:10.414Z"
   },
   {
    "duration": 24,
    "start_time": "2023-05-01T10:27:10.423Z"
   },
   {
    "duration": 22,
    "start_time": "2023-05-01T10:27:10.448Z"
   },
   {
    "duration": 8,
    "start_time": "2023-05-01T10:27:10.471Z"
   },
   {
    "duration": 13,
    "start_time": "2023-05-01T10:27:10.481Z"
   },
   {
    "duration": 20,
    "start_time": "2023-05-01T10:27:10.495Z"
   },
   {
    "duration": 24,
    "start_time": "2023-05-01T10:27:10.517Z"
   },
   {
    "duration": 9,
    "start_time": "2023-05-01T10:27:10.542Z"
   },
   {
    "duration": 10,
    "start_time": "2023-05-01T10:27:10.553Z"
   },
   {
    "duration": 10,
    "start_time": "2023-05-01T10:27:10.564Z"
   },
   {
    "duration": 6,
    "start_time": "2023-05-01T10:27:10.575Z"
   },
   {
    "duration": 6,
    "start_time": "2023-05-01T10:27:10.582Z"
   },
   {
    "duration": 52,
    "start_time": "2023-05-01T10:27:10.589Z"
   },
   {
    "duration": 13,
    "start_time": "2023-05-01T10:27:10.643Z"
   },
   {
    "duration": 9,
    "start_time": "2023-05-01T10:27:10.658Z"
   },
   {
    "duration": 11,
    "start_time": "2023-05-01T10:27:10.669Z"
   },
   {
    "duration": 9,
    "start_time": "2023-05-01T10:27:10.681Z"
   },
   {
    "duration": 150,
    "start_time": "2023-05-01T10:27:10.691Z"
   },
   {
    "duration": 154,
    "start_time": "2023-05-01T10:27:10.842Z"
   },
   {
    "duration": 138,
    "start_time": "2023-05-01T10:27:10.998Z"
   },
   {
    "duration": 6,
    "start_time": "2023-05-01T10:27:11.138Z"
   },
   {
    "duration": 183,
    "start_time": "2023-05-01T10:27:11.146Z"
   },
   {
    "duration": 203,
    "start_time": "2023-05-01T10:27:11.335Z"
   },
   {
    "duration": 233,
    "start_time": "2023-05-01T10:27:11.540Z"
   },
   {
    "duration": 6,
    "start_time": "2023-05-01T10:27:11.776Z"
   },
   {
    "duration": 7,
    "start_time": "2023-05-01T10:27:11.784Z"
   },
   {
    "duration": 13,
    "start_time": "2023-05-01T10:27:11.793Z"
   },
   {
    "duration": 34,
    "start_time": "2023-05-01T10:27:11.807Z"
   },
   {
    "duration": 4,
    "start_time": "2023-05-01T10:27:11.842Z"
   },
   {
    "duration": 4,
    "start_time": "2023-05-01T10:27:17.606Z"
   },
   {
    "duration": 13,
    "start_time": "2023-05-01T10:27:17.912Z"
   },
   {
    "duration": 13,
    "start_time": "2023-05-01T10:27:26.736Z"
   },
   {
    "duration": 9,
    "start_time": "2023-05-01T10:34:49.447Z"
   },
   {
    "duration": 7,
    "start_time": "2023-05-01T10:35:06.079Z"
   },
   {
    "duration": 7,
    "start_time": "2023-05-01T10:37:24.502Z"
   },
   {
    "duration": 1710,
    "start_time": "2023-05-02T06:30:33.782Z"
   },
   {
    "duration": 124,
    "start_time": "2023-05-02T06:30:35.499Z"
   },
   {
    "duration": 100,
    "start_time": "2023-05-02T06:30:35.625Z"
   },
   {
    "duration": 101,
    "start_time": "2023-05-02T06:30:35.727Z"
   },
   {
    "duration": 39,
    "start_time": "2023-05-02T06:30:35.831Z"
   },
   {
    "duration": 14,
    "start_time": "2023-05-02T06:30:35.872Z"
   },
   {
    "duration": 19,
    "start_time": "2023-05-02T06:30:35.888Z"
   },
   {
    "duration": 65,
    "start_time": "2023-05-02T06:30:35.909Z"
   },
   {
    "duration": 24,
    "start_time": "2023-05-02T06:30:35.976Z"
   },
   {
    "duration": 81,
    "start_time": "2023-05-02T06:30:36.002Z"
   },
   {
    "duration": 12,
    "start_time": "2023-05-02T06:30:36.088Z"
   },
   {
    "duration": 11,
    "start_time": "2023-05-02T06:30:36.102Z"
   },
   {
    "duration": 21,
    "start_time": "2023-05-02T06:30:36.165Z"
   },
   {
    "duration": 16,
    "start_time": "2023-05-02T06:30:36.195Z"
   },
   {
    "duration": 64,
    "start_time": "2023-05-02T06:30:36.213Z"
   },
   {
    "duration": 8,
    "start_time": "2023-05-02T06:30:36.280Z"
   },
   {
    "duration": 12,
    "start_time": "2023-05-02T06:30:36.291Z"
   },
   {
    "duration": 7,
    "start_time": "2023-05-02T06:30:36.305Z"
   },
   {
    "duration": 53,
    "start_time": "2023-05-02T06:30:36.314Z"
   },
   {
    "duration": 10,
    "start_time": "2023-05-02T06:30:36.369Z"
   },
   {
    "duration": 12,
    "start_time": "2023-05-02T06:30:36.381Z"
   },
   {
    "duration": 409,
    "start_time": "2023-05-02T06:30:36.396Z"
   },
   {
    "duration": 483,
    "start_time": "2023-05-02T06:30:36.807Z"
   },
   {
    "duration": 312,
    "start_time": "2023-05-02T06:30:37.292Z"
   },
   {
    "duration": 60,
    "start_time": "2023-05-02T06:30:37.606Z"
   },
   {
    "duration": 423,
    "start_time": "2023-05-02T06:30:37.672Z"
   },
   {
    "duration": 501,
    "start_time": "2023-05-02T06:30:38.102Z"
   },
   {
    "duration": 661,
    "start_time": "2023-05-02T06:30:38.605Z"
   },
   {
    "duration": 11,
    "start_time": "2023-05-02T06:30:39.268Z"
   },
   {
    "duration": 13,
    "start_time": "2023-05-02T06:30:39.281Z"
   },
   {
    "duration": 7,
    "start_time": "2023-05-02T06:30:39.296Z"
   },
   {
    "duration": 80,
    "start_time": "2023-05-02T06:30:39.305Z"
   },
   {
    "duration": 9,
    "start_time": "2023-05-02T06:30:39.387Z"
   },
   {
    "duration": 71,
    "start_time": "2023-05-02T06:30:39.398Z"
   },
   {
    "duration": 22,
    "start_time": "2023-05-02T06:30:39.477Z"
   },
   {
    "duration": 70,
    "start_time": "2023-05-02T06:30:39.501Z"
   },
   {
    "duration": 883,
    "start_time": "2023-05-02T06:30:39.579Z"
   },
   {
    "duration": 913,
    "start_time": "2023-05-02T06:30:40.465Z"
   },
   {
    "duration": 7,
    "start_time": "2023-05-02T06:30:41.380Z"
   },
   {
    "duration": 9,
    "start_time": "2023-05-02T06:30:41.390Z"
   },
   {
    "duration": 461,
    "start_time": "2023-05-02T06:30:41.404Z"
   },
   {
    "duration": 196,
    "start_time": "2023-05-02T06:30:41.868Z"
   },
   {
    "duration": 13,
    "start_time": "2023-05-02T06:30:42.075Z"
   },
   {
    "duration": 186,
    "start_time": "2023-05-02T06:30:42.092Z"
   },
   {
    "duration": 10,
    "start_time": "2023-05-02T06:30:42.287Z"
   },
   {
    "duration": 39,
    "start_time": "2023-05-02T06:30:42.298Z"
   },
   {
    "duration": 4509,
    "start_time": "2023-05-02T06:30:42.338Z"
   },
   {
    "duration": 21,
    "start_time": "2023-05-02T06:30:46.849Z"
   },
   {
    "duration": 17,
    "start_time": "2023-05-02T06:30:46.874Z"
   },
   {
    "duration": 6,
    "start_time": "2023-05-02T06:30:46.893Z"
   },
   {
    "duration": 13,
    "start_time": "2023-05-02T06:30:46.900Z"
   },
   {
    "duration": 5,
    "start_time": "2023-05-02T06:30:46.916Z"
   },
   {
    "duration": 9,
    "start_time": "2023-05-02T06:30:46.922Z"
   },
   {
    "duration": 6,
    "start_time": "2023-05-02T06:30:46.933Z"
   },
   {
    "duration": 313,
    "start_time": "2023-05-02T06:30:46.941Z"
   },
   {
    "duration": 187,
    "start_time": "2023-05-02T06:30:47.255Z"
   },
   {
    "duration": 155,
    "start_time": "2023-05-02T06:30:47.444Z"
   },
   {
    "duration": 5,
    "start_time": "2023-05-02T06:30:47.601Z"
   },
   {
    "duration": 185,
    "start_time": "2023-05-02T06:30:47.608Z"
   },
   {
    "duration": 6,
    "start_time": "2023-05-02T06:30:47.799Z"
   },
   {
    "duration": 1236,
    "start_time": "2023-05-02T07:41:08.284Z"
   },
   {
    "duration": 105,
    "start_time": "2023-05-02T07:41:09.522Z"
   },
   {
    "duration": 68,
    "start_time": "2023-05-02T07:41:09.629Z"
   },
   {
    "duration": 59,
    "start_time": "2023-05-02T07:41:09.698Z"
   },
   {
    "duration": 19,
    "start_time": "2023-05-02T07:41:09.760Z"
   },
   {
    "duration": 20,
    "start_time": "2023-05-02T07:41:09.780Z"
   },
   {
    "duration": 29,
    "start_time": "2023-05-02T07:41:09.802Z"
   },
   {
    "duration": 10,
    "start_time": "2023-05-02T07:41:09.833Z"
   },
   {
    "duration": 46,
    "start_time": "2023-05-02T07:41:09.844Z"
   },
   {
    "duration": 20,
    "start_time": "2023-05-02T07:41:09.892Z"
   },
   {
    "duration": 7,
    "start_time": "2023-05-02T07:41:09.914Z"
   },
   {
    "duration": 9,
    "start_time": "2023-05-02T07:41:09.923Z"
   },
   {
    "duration": 15,
    "start_time": "2023-05-02T07:41:09.934Z"
   },
   {
    "duration": 22,
    "start_time": "2023-05-02T07:41:09.952Z"
   },
   {
    "duration": 20,
    "start_time": "2023-05-02T07:41:09.975Z"
   },
   {
    "duration": 7,
    "start_time": "2023-05-02T07:41:09.997Z"
   },
   {
    "duration": 12,
    "start_time": "2023-05-02T07:41:10.006Z"
   },
   {
    "duration": 5,
    "start_time": "2023-05-02T07:41:10.019Z"
   },
   {
    "duration": 7,
    "start_time": "2023-05-02T07:41:10.026Z"
   },
   {
    "duration": 6,
    "start_time": "2023-05-02T07:41:10.034Z"
   },
   {
    "duration": 14,
    "start_time": "2023-05-02T07:41:10.042Z"
   },
   {
    "duration": 167,
    "start_time": "2023-05-02T07:41:10.057Z"
   },
   {
    "duration": 16936,
    "start_time": "2023-05-02T07:41:20.455Z"
   },
   {
    "duration": 169,
    "start_time": "2023-05-02T07:41:37.393Z"
   },
   {
    "duration": 160,
    "start_time": "2023-05-02T07:42:02.644Z"
   },
   {
    "duration": 161,
    "start_time": "2023-05-02T07:42:08.121Z"
   },
   {
    "duration": 183,
    "start_time": "2023-05-02T07:42:13.283Z"
   },
   {
    "duration": 112,
    "start_time": "2023-05-02T07:42:16.454Z"
   },
   {
    "duration": 6,
    "start_time": "2023-05-02T07:42:18.434Z"
   },
   {
    "duration": 165,
    "start_time": "2023-05-02T07:42:19.943Z"
   },
   {
    "duration": 2783,
    "start_time": "2023-05-02T07:44:03.232Z"
   },
   {
    "duration": 1236,
    "start_time": "2023-05-02T07:44:17.015Z"
   },
   {
    "duration": 26,
    "start_time": "2023-05-02T07:44:18.254Z"
   },
   {
    "duration": 24,
    "start_time": "2023-05-02T07:44:18.282Z"
   },
   {
    "duration": 13,
    "start_time": "2023-05-02T07:44:18.308Z"
   },
   {
    "duration": 12,
    "start_time": "2023-05-02T07:44:18.323Z"
   },
   {
    "duration": 18,
    "start_time": "2023-05-02T07:44:18.336Z"
   },
   {
    "duration": 58,
    "start_time": "2023-05-02T07:44:18.356Z"
   },
   {
    "duration": 53,
    "start_time": "2023-05-02T07:44:18.416Z"
   },
   {
    "duration": 76,
    "start_time": "2023-05-02T07:44:18.471Z"
   },
   {
    "duration": 18,
    "start_time": "2023-05-02T07:44:18.549Z"
   },
   {
    "duration": 6,
    "start_time": "2023-05-02T07:44:18.568Z"
   },
   {
    "duration": 16,
    "start_time": "2023-05-02T07:44:18.576Z"
   },
   {
    "duration": 9,
    "start_time": "2023-05-02T07:44:18.593Z"
   },
   {
    "duration": 10,
    "start_time": "2023-05-02T07:44:18.605Z"
   },
   {
    "duration": 5,
    "start_time": "2023-05-02T07:44:18.617Z"
   },
   {
    "duration": 9,
    "start_time": "2023-05-02T07:44:18.624Z"
   },
   {
    "duration": 6,
    "start_time": "2023-05-02T07:44:18.635Z"
   },
   {
    "duration": 8,
    "start_time": "2023-05-02T07:44:18.643Z"
   },
   {
    "duration": 7,
    "start_time": "2023-05-02T07:44:18.653Z"
   },
   {
    "duration": 39,
    "start_time": "2023-05-02T07:44:18.662Z"
   },
   {
    "duration": 16,
    "start_time": "2023-05-02T07:44:18.703Z"
   },
   {
    "duration": 158,
    "start_time": "2023-05-02T07:44:18.721Z"
   },
   {
    "duration": 3216,
    "start_time": "2023-05-02T07:44:18.881Z"
   },
   {
    "duration": 410,
    "start_time": "2023-05-02T07:44:22.099Z"
   },
   {
    "duration": 226,
    "start_time": "2023-05-02T07:44:22.511Z"
   },
   {
    "duration": 60,
    "start_time": "2023-05-02T07:44:22.738Z"
   },
   {
    "duration": 271,
    "start_time": "2023-05-02T07:44:22.800Z"
   },
   {
    "duration": 190,
    "start_time": "2023-05-02T07:44:23.073Z"
   },
   {
    "duration": 228,
    "start_time": "2023-05-02T07:44:23.266Z"
   },
   {
    "duration": 5,
    "start_time": "2023-05-02T07:44:23.496Z"
   },
   {
    "duration": 5,
    "start_time": "2023-05-02T07:44:23.503Z"
   },
   {
    "duration": 9,
    "start_time": "2023-05-02T07:44:23.510Z"
   },
   {
    "duration": 15,
    "start_time": "2023-05-02T07:44:23.521Z"
   },
   {
    "duration": 4,
    "start_time": "2023-05-02T07:44:23.538Z"
   },
   {
    "duration": 12,
    "start_time": "2023-05-02T07:44:23.543Z"
   },
   {
    "duration": 132,
    "start_time": "2023-05-02T07:44:23.556Z"
   },
   {
    "duration": 18,
    "start_time": "2023-05-02T07:44:23.695Z"
   },
   {
    "duration": 308,
    "start_time": "2023-05-02T07:44:23.715Z"
   },
   {
    "duration": 356,
    "start_time": "2023-05-02T07:44:24.025Z"
   },
   {
    "duration": 13,
    "start_time": "2023-05-02T07:44:24.382Z"
   },
   {
    "duration": 14,
    "start_time": "2023-05-02T07:44:24.399Z"
   },
   {
    "duration": 221,
    "start_time": "2023-05-02T07:44:24.415Z"
   },
   {
    "duration": 178,
    "start_time": "2023-05-02T07:44:24.637Z"
   },
   {
    "duration": 102,
    "start_time": "2023-05-02T07:44:24.817Z"
   },
   {
    "duration": 0,
    "start_time": "2023-05-02T07:44:24.921Z"
   },
   {
    "duration": 0,
    "start_time": "2023-05-02T07:44:24.922Z"
   },
   {
    "duration": 0,
    "start_time": "2023-05-02T07:44:24.923Z"
   },
   {
    "duration": 0,
    "start_time": "2023-05-02T07:44:24.924Z"
   },
   {
    "duration": 0,
    "start_time": "2023-05-02T07:44:24.925Z"
   },
   {
    "duration": 0,
    "start_time": "2023-05-02T07:44:24.926Z"
   },
   {
    "duration": 0,
    "start_time": "2023-05-02T07:44:24.927Z"
   },
   {
    "duration": 0,
    "start_time": "2023-05-02T07:44:24.928Z"
   },
   {
    "duration": 0,
    "start_time": "2023-05-02T07:44:24.929Z"
   },
   {
    "duration": 0,
    "start_time": "2023-05-02T07:44:24.931Z"
   },
   {
    "duration": 0,
    "start_time": "2023-05-02T07:44:24.932Z"
   },
   {
    "duration": 0,
    "start_time": "2023-05-02T07:44:24.933Z"
   },
   {
    "duration": 0,
    "start_time": "2023-05-02T07:44:24.934Z"
   },
   {
    "duration": 0,
    "start_time": "2023-05-02T07:44:24.935Z"
   },
   {
    "duration": 0,
    "start_time": "2023-05-02T07:44:24.937Z"
   },
   {
    "duration": 0,
    "start_time": "2023-05-02T07:44:24.938Z"
   },
   {
    "duration": 0,
    "start_time": "2023-05-02T07:44:24.939Z"
   },
   {
    "duration": 2,
    "start_time": "2023-05-02T07:51:47.716Z"
   },
   {
    "duration": 2,
    "start_time": "2023-05-02T07:52:26.759Z"
   },
   {
    "duration": 9,
    "start_time": "2023-05-02T07:52:53.117Z"
   },
   {
    "duration": 8784,
    "start_time": "2023-05-02T07:53:12.401Z"
   },
   {
    "duration": 1205,
    "start_time": "2023-05-02T07:53:50.915Z"
   },
   {
    "duration": 8381,
    "start_time": "2023-05-02T07:53:52.414Z"
   },
   {
    "duration": 5,
    "start_time": "2023-05-02T07:54:50.717Z"
   },
   {
    "duration": 135,
    "start_time": "2023-05-02T07:55:05.203Z"
   },
   {
    "duration": 3,
    "start_time": "2023-05-02T07:55:09.937Z"
   },
   {
    "duration": 29,
    "start_time": "2023-05-02T07:55:09.942Z"
   },
   {
    "duration": 25,
    "start_time": "2023-05-02T07:55:09.972Z"
   },
   {
    "duration": 13,
    "start_time": "2023-05-02T07:55:09.999Z"
   },
   {
    "duration": 16,
    "start_time": "2023-05-02T07:55:10.014Z"
   },
   {
    "duration": 10,
    "start_time": "2023-05-02T07:55:10.032Z"
   },
   {
    "duration": 33,
    "start_time": "2023-05-02T07:55:10.043Z"
   },
   {
    "duration": 7,
    "start_time": "2023-05-02T07:55:10.077Z"
   },
   {
    "duration": 12,
    "start_time": "2023-05-02T07:55:10.085Z"
   },
   {
    "duration": 13,
    "start_time": "2023-05-02T07:55:10.098Z"
   },
   {
    "duration": 6,
    "start_time": "2023-05-02T07:55:10.113Z"
   },
   {
    "duration": 7,
    "start_time": "2023-05-02T07:55:10.120Z"
   },
   {
    "duration": 7,
    "start_time": "2023-05-02T07:55:10.128Z"
   },
   {
    "duration": 8,
    "start_time": "2023-05-02T07:55:10.137Z"
   },
   {
    "duration": 5,
    "start_time": "2023-05-02T07:55:10.147Z"
   },
   {
    "duration": 5,
    "start_time": "2023-05-02T07:55:10.153Z"
   },
   {
    "duration": 6,
    "start_time": "2023-05-02T07:55:10.194Z"
   },
   {
    "duration": 4,
    "start_time": "2023-05-02T07:55:10.201Z"
   },
   {
    "duration": 5,
    "start_time": "2023-05-02T07:55:10.207Z"
   },
   {
    "duration": 5,
    "start_time": "2023-05-02T07:55:10.214Z"
   },
   {
    "duration": 16,
    "start_time": "2023-05-02T07:55:10.220Z"
   },
   {
    "duration": 157,
    "start_time": "2023-05-02T07:55:10.237Z"
   },
   {
    "duration": 143,
    "start_time": "2023-05-02T07:55:17.345Z"
   },
   {
    "duration": 135,
    "start_time": "2023-05-02T07:55:24.738Z"
   },
   {
    "duration": 124,
    "start_time": "2023-05-02T07:56:42.605Z"
   },
   {
    "duration": 141,
    "start_time": "2023-05-02T07:56:52.713Z"
   },
   {
    "duration": 130,
    "start_time": "2023-05-02T07:57:09.404Z"
   },
   {
    "duration": 148,
    "start_time": "2023-05-02T07:57:27.014Z"
   },
   {
    "duration": 168,
    "start_time": "2023-05-02T07:57:44.647Z"
   },
   {
    "duration": 4,
    "start_time": "2023-05-02T08:07:29.696Z"
   },
   {
    "duration": 2,
    "start_time": "2023-05-02T08:10:14.344Z"
   },
   {
    "duration": 15,
    "start_time": "2023-05-02T08:10:14.348Z"
   },
   {
    "duration": 4,
    "start_time": "2023-05-02T08:10:14.365Z"
   },
   {
    "duration": 27,
    "start_time": "2023-05-02T08:10:14.371Z"
   },
   {
    "duration": 23,
    "start_time": "2023-05-02T08:10:14.399Z"
   },
   {
    "duration": 13,
    "start_time": "2023-05-02T08:10:14.423Z"
   },
   {
    "duration": 6,
    "start_time": "2023-05-02T08:10:14.438Z"
   },
   {
    "duration": 9,
    "start_time": "2023-05-02T08:10:14.446Z"
   },
   {
    "duration": 11,
    "start_time": "2023-05-02T08:10:14.457Z"
   },
   {
    "duration": 17,
    "start_time": "2023-05-02T08:10:14.469Z"
   },
   {
    "duration": 17,
    "start_time": "2023-05-02T08:10:14.487Z"
   },
   {
    "duration": 15,
    "start_time": "2023-05-02T08:10:14.506Z"
   },
   {
    "duration": 6,
    "start_time": "2023-05-02T08:10:14.522Z"
   },
   {
    "duration": 6,
    "start_time": "2023-05-02T08:10:14.530Z"
   },
   {
    "duration": 7,
    "start_time": "2023-05-02T08:10:14.538Z"
   },
   {
    "duration": 10,
    "start_time": "2023-05-02T08:10:14.546Z"
   },
   {
    "duration": 5,
    "start_time": "2023-05-02T08:10:14.557Z"
   },
   {
    "duration": 35,
    "start_time": "2023-05-02T08:10:14.563Z"
   },
   {
    "duration": 10,
    "start_time": "2023-05-02T08:10:14.599Z"
   },
   {
    "duration": 4,
    "start_time": "2023-05-02T08:10:14.611Z"
   },
   {
    "duration": 16,
    "start_time": "2023-05-02T08:10:14.616Z"
   },
   {
    "duration": 6,
    "start_time": "2023-05-02T08:10:14.634Z"
   },
   {
    "duration": 7,
    "start_time": "2023-05-02T08:10:14.641Z"
   },
   {
    "duration": 146,
    "start_time": "2023-05-02T08:10:14.651Z"
   },
   {
    "duration": 141,
    "start_time": "2023-05-02T08:10:14.798Z"
   },
   {
    "duration": 247,
    "start_time": "2023-05-02T08:10:14.940Z"
   },
   {
    "duration": 5,
    "start_time": "2023-05-02T08:10:15.194Z"
   },
   {
    "duration": 155,
    "start_time": "2023-05-02T08:10:15.200Z"
   },
   {
    "duration": 185,
    "start_time": "2023-05-02T08:10:15.356Z"
   },
   {
    "duration": 202,
    "start_time": "2023-05-02T08:10:15.543Z"
   },
   {
    "duration": 5,
    "start_time": "2023-05-02T08:10:15.747Z"
   },
   {
    "duration": 7,
    "start_time": "2023-05-02T08:10:15.753Z"
   },
   {
    "duration": 7,
    "start_time": "2023-05-02T08:10:15.762Z"
   },
   {
    "duration": 34,
    "start_time": "2023-05-02T08:10:15.770Z"
   },
   {
    "duration": 4,
    "start_time": "2023-05-02T08:10:15.805Z"
   },
   {
    "duration": 13,
    "start_time": "2023-05-02T08:10:15.811Z"
   },
   {
    "duration": 12,
    "start_time": "2023-05-02T08:10:15.825Z"
   },
   {
    "duration": 20,
    "start_time": "2023-05-02T08:10:15.838Z"
   },
   {
    "duration": 298,
    "start_time": "2023-05-02T08:10:15.860Z"
   },
   {
    "duration": 265,
    "start_time": "2023-05-02T08:10:16.159Z"
   },
   {
    "duration": 4,
    "start_time": "2023-05-02T08:10:16.425Z"
   },
   {
    "duration": 6,
    "start_time": "2023-05-02T08:10:16.430Z"
   },
   {
    "duration": 177,
    "start_time": "2023-05-02T08:10:16.438Z"
   },
   {
    "duration": 291,
    "start_time": "2023-05-02T08:10:16.616Z"
   },
   {
    "duration": 13,
    "start_time": "2023-05-02T08:10:16.909Z"
   },
   {
    "duration": 0,
    "start_time": "2023-05-02T08:10:16.923Z"
   },
   {
    "duration": 0,
    "start_time": "2023-05-02T08:10:16.924Z"
   },
   {
    "duration": 0,
    "start_time": "2023-05-02T08:10:16.925Z"
   },
   {
    "duration": 0,
    "start_time": "2023-05-02T08:10:16.926Z"
   },
   {
    "duration": 0,
    "start_time": "2023-05-02T08:10:16.928Z"
   },
   {
    "duration": 0,
    "start_time": "2023-05-02T08:10:16.929Z"
   },
   {
    "duration": 0,
    "start_time": "2023-05-02T08:10:16.930Z"
   },
   {
    "duration": 0,
    "start_time": "2023-05-02T08:10:16.931Z"
   },
   {
    "duration": 0,
    "start_time": "2023-05-02T08:10:16.932Z"
   },
   {
    "duration": 0,
    "start_time": "2023-05-02T08:10:16.933Z"
   },
   {
    "duration": 0,
    "start_time": "2023-05-02T08:10:16.934Z"
   },
   {
    "duration": 0,
    "start_time": "2023-05-02T08:10:16.936Z"
   },
   {
    "duration": 0,
    "start_time": "2023-05-02T08:10:16.937Z"
   },
   {
    "duration": 0,
    "start_time": "2023-05-02T08:10:16.938Z"
   },
   {
    "duration": 0,
    "start_time": "2023-05-02T08:10:16.939Z"
   },
   {
    "duration": 0,
    "start_time": "2023-05-02T08:10:16.940Z"
   },
   {
    "duration": 0,
    "start_time": "2023-05-02T08:10:16.941Z"
   },
   {
    "duration": 198,
    "start_time": "2023-05-02T08:12:13.998Z"
   },
   {
    "duration": 150,
    "start_time": "2023-05-02T08:12:22.209Z"
   },
   {
    "duration": 123,
    "start_time": "2023-05-02T08:14:08.260Z"
   },
   {
    "duration": 107,
    "start_time": "2023-05-02T08:14:11.764Z"
   },
   {
    "duration": 132,
    "start_time": "2023-05-02T08:14:17.862Z"
   },
   {
    "duration": 139,
    "start_time": "2023-05-02T08:15:23.959Z"
   },
   {
    "duration": 141,
    "start_time": "2023-05-02T08:16:29.484Z"
   },
   {
    "duration": 167,
    "start_time": "2023-05-02T08:16:56.583Z"
   },
   {
    "duration": 123,
    "start_time": "2023-05-02T08:17:53.582Z"
   },
   {
    "duration": 126,
    "start_time": "2023-05-02T08:18:00.063Z"
   },
   {
    "duration": 129,
    "start_time": "2023-05-02T08:18:32.317Z"
   },
   {
    "duration": 101,
    "start_time": "2023-05-02T08:19:37.157Z"
   },
   {
    "duration": 138,
    "start_time": "2023-05-02T08:19:50.931Z"
   },
   {
    "duration": 152,
    "start_time": "2023-05-02T08:20:07.359Z"
   },
   {
    "duration": 99,
    "start_time": "2023-05-02T08:20:10.742Z"
   },
   {
    "duration": 127,
    "start_time": "2023-05-02T08:20:14.401Z"
   },
   {
    "duration": 127,
    "start_time": "2023-05-02T08:21:12.525Z"
   },
   {
    "duration": 132,
    "start_time": "2023-05-02T08:21:29.344Z"
   },
   {
    "duration": 124,
    "start_time": "2023-05-02T08:22:03.848Z"
   },
   {
    "duration": 141,
    "start_time": "2023-05-02T08:22:12.924Z"
   },
   {
    "duration": 265,
    "start_time": "2023-05-02T08:23:56.815Z"
   },
   {
    "duration": 125,
    "start_time": "2023-05-02T08:24:12.184Z"
   },
   {
    "duration": 126,
    "start_time": "2023-05-02T08:24:25.507Z"
   },
   {
    "duration": 125,
    "start_time": "2023-05-02T08:24:39.544Z"
   },
   {
    "duration": 133,
    "start_time": "2023-05-02T08:24:45.458Z"
   },
   {
    "duration": 93,
    "start_time": "2023-05-02T08:27:42.802Z"
   },
   {
    "duration": 13,
    "start_time": "2023-05-02T08:29:03.736Z"
   },
   {
    "duration": 12,
    "start_time": "2023-05-02T08:29:21.496Z"
   },
   {
    "duration": 12,
    "start_time": "2023-05-02T08:29:22.560Z"
   },
   {
    "duration": 3,
    "start_time": "2023-05-02T08:29:32.625Z"
   },
   {
    "duration": 12,
    "start_time": "2023-05-02T08:29:32.630Z"
   },
   {
    "duration": 14,
    "start_time": "2023-05-02T08:29:32.644Z"
   },
   {
    "duration": 47,
    "start_time": "2023-05-02T08:29:32.660Z"
   },
   {
    "duration": 23,
    "start_time": "2023-05-02T08:29:32.710Z"
   },
   {
    "duration": 14,
    "start_time": "2023-05-02T08:29:32.735Z"
   },
   {
    "duration": 10,
    "start_time": "2023-05-02T08:29:32.751Z"
   },
   {
    "duration": 13,
    "start_time": "2023-05-02T08:29:32.763Z"
   },
   {
    "duration": 29,
    "start_time": "2023-05-02T08:29:32.777Z"
   },
   {
    "duration": 11,
    "start_time": "2023-05-02T08:29:32.808Z"
   },
   {
    "duration": 38,
    "start_time": "2023-05-02T08:29:32.821Z"
   },
   {
    "duration": 29,
    "start_time": "2023-05-02T08:29:32.861Z"
   },
   {
    "duration": 10,
    "start_time": "2023-05-02T08:29:32.892Z"
   },
   {
    "duration": 22,
    "start_time": "2023-05-02T08:29:32.904Z"
   },
   {
    "duration": 10,
    "start_time": "2023-05-02T08:29:32.928Z"
   },
   {
    "duration": 9,
    "start_time": "2023-05-02T08:29:32.940Z"
   },
   {
    "duration": 6,
    "start_time": "2023-05-02T08:29:32.951Z"
   },
   {
    "duration": 5,
    "start_time": "2023-05-02T08:29:32.959Z"
   },
   {
    "duration": 29,
    "start_time": "2023-05-02T08:29:32.966Z"
   },
   {
    "duration": 4,
    "start_time": "2023-05-02T08:29:32.997Z"
   },
   {
    "duration": 22,
    "start_time": "2023-05-02T08:29:33.003Z"
   },
   {
    "duration": 21,
    "start_time": "2023-05-02T08:29:33.027Z"
   },
   {
    "duration": 21,
    "start_time": "2023-05-02T08:29:33.050Z"
   },
   {
    "duration": 159,
    "start_time": "2023-05-02T08:29:33.073Z"
   },
   {
    "duration": 134,
    "start_time": "2023-05-02T08:29:33.234Z"
   },
   {
    "duration": 130,
    "start_time": "2023-05-02T08:29:33.370Z"
   },
   {
    "duration": 6,
    "start_time": "2023-05-02T08:29:33.502Z"
   },
   {
    "duration": 174,
    "start_time": "2023-05-02T08:29:33.510Z"
   },
   {
    "duration": 186,
    "start_time": "2023-05-02T08:29:33.686Z"
   },
   {
    "duration": 234,
    "start_time": "2023-05-02T08:29:33.875Z"
   },
   {
    "duration": 6,
    "start_time": "2023-05-02T08:29:34.111Z"
   },
   {
    "duration": 10,
    "start_time": "2023-05-02T08:29:34.119Z"
   },
   {
    "duration": 15,
    "start_time": "2023-05-02T08:29:34.131Z"
   },
   {
    "duration": 19,
    "start_time": "2023-05-02T08:29:34.150Z"
   },
   {
    "duration": 23,
    "start_time": "2023-05-02T08:29:34.171Z"
   },
   {
    "duration": 19,
    "start_time": "2023-05-02T08:29:34.196Z"
   },
   {
    "duration": 18,
    "start_time": "2023-05-02T08:29:34.217Z"
   },
   {
    "duration": 14,
    "start_time": "2023-05-02T08:29:34.237Z"
   },
   {
    "duration": 309,
    "start_time": "2023-05-02T08:29:34.252Z"
   },
   {
    "duration": 426,
    "start_time": "2023-05-02T08:29:34.563Z"
   },
   {
    "duration": 4,
    "start_time": "2023-05-02T08:29:34.993Z"
   },
   {
    "duration": 9,
    "start_time": "2023-05-02T08:29:34.998Z"
   },
   {
    "duration": 185,
    "start_time": "2023-05-02T08:29:35.009Z"
   },
   {
    "duration": 181,
    "start_time": "2023-05-02T08:29:35.195Z"
   },
   {
    "duration": 25,
    "start_time": "2023-05-02T08:29:35.378Z"
   },
   {
    "duration": 0,
    "start_time": "2023-05-02T08:29:35.404Z"
   },
   {
    "duration": 0,
    "start_time": "2023-05-02T08:29:35.405Z"
   },
   {
    "duration": 0,
    "start_time": "2023-05-02T08:29:35.407Z"
   },
   {
    "duration": 0,
    "start_time": "2023-05-02T08:29:35.408Z"
   },
   {
    "duration": 0,
    "start_time": "2023-05-02T08:29:35.409Z"
   },
   {
    "duration": 0,
    "start_time": "2023-05-02T08:29:35.410Z"
   },
   {
    "duration": 0,
    "start_time": "2023-05-02T08:29:35.412Z"
   },
   {
    "duration": 0,
    "start_time": "2023-05-02T08:29:35.413Z"
   },
   {
    "duration": 0,
    "start_time": "2023-05-02T08:29:35.414Z"
   },
   {
    "duration": 0,
    "start_time": "2023-05-02T08:29:35.415Z"
   },
   {
    "duration": 0,
    "start_time": "2023-05-02T08:29:35.417Z"
   },
   {
    "duration": 0,
    "start_time": "2023-05-02T08:29:35.417Z"
   },
   {
    "duration": 0,
    "start_time": "2023-05-02T08:29:35.419Z"
   },
   {
    "duration": 0,
    "start_time": "2023-05-02T08:29:35.420Z"
   },
   {
    "duration": 0,
    "start_time": "2023-05-02T08:29:35.421Z"
   },
   {
    "duration": 0,
    "start_time": "2023-05-02T08:29:35.422Z"
   },
   {
    "duration": 0,
    "start_time": "2023-05-02T08:29:35.423Z"
   },
   {
    "duration": 0,
    "start_time": "2023-05-02T08:29:35.424Z"
   },
   {
    "duration": 0,
    "start_time": "2023-05-02T08:29:35.425Z"
   },
   {
    "duration": 10,
    "start_time": "2023-05-02T08:29:45.048Z"
   },
   {
    "duration": 2,
    "start_time": "2023-05-02T08:29:49.403Z"
   },
   {
    "duration": 8,
    "start_time": "2023-05-02T08:29:49.407Z"
   },
   {
    "duration": 3,
    "start_time": "2023-05-02T08:29:49.417Z"
   },
   {
    "duration": 27,
    "start_time": "2023-05-02T08:29:49.422Z"
   },
   {
    "duration": 25,
    "start_time": "2023-05-02T08:29:49.451Z"
   },
   {
    "duration": 13,
    "start_time": "2023-05-02T08:29:49.478Z"
   },
   {
    "duration": 8,
    "start_time": "2023-05-02T08:29:49.493Z"
   },
   {
    "duration": 11,
    "start_time": "2023-05-02T08:29:49.503Z"
   },
   {
    "duration": 18,
    "start_time": "2023-05-02T08:29:49.516Z"
   },
   {
    "duration": 7,
    "start_time": "2023-05-02T08:29:49.535Z"
   },
   {
    "duration": 12,
    "start_time": "2023-05-02T08:29:49.543Z"
   },
   {
    "duration": 37,
    "start_time": "2023-05-02T08:29:49.557Z"
   },
   {
    "duration": 7,
    "start_time": "2023-05-02T08:29:49.596Z"
   },
   {
    "duration": 8,
    "start_time": "2023-05-02T08:29:49.605Z"
   },
   {
    "duration": 8,
    "start_time": "2023-05-02T08:29:49.614Z"
   },
   {
    "duration": 12,
    "start_time": "2023-05-02T08:29:49.624Z"
   },
   {
    "duration": 6,
    "start_time": "2023-05-02T08:29:49.637Z"
   },
   {
    "duration": 7,
    "start_time": "2023-05-02T08:29:49.644Z"
   },
   {
    "duration": 10,
    "start_time": "2023-05-02T08:29:49.653Z"
   },
   {
    "duration": 30,
    "start_time": "2023-05-02T08:29:49.664Z"
   },
   {
    "duration": 5,
    "start_time": "2023-05-02T08:29:49.696Z"
   },
   {
    "duration": 30,
    "start_time": "2023-05-02T08:29:49.703Z"
   },
   {
    "duration": 20,
    "start_time": "2023-05-02T08:29:49.734Z"
   },
   {
    "duration": 138,
    "start_time": "2023-05-02T08:29:49.756Z"
   },
   {
    "duration": 125,
    "start_time": "2023-05-02T08:29:49.896Z"
   },
   {
    "duration": 126,
    "start_time": "2023-05-02T08:29:50.023Z"
   },
   {
    "duration": 5,
    "start_time": "2023-05-02T08:29:50.151Z"
   },
   {
    "duration": 167,
    "start_time": "2023-05-02T08:29:50.157Z"
   },
   {
    "duration": 183,
    "start_time": "2023-05-02T08:29:50.326Z"
   },
   {
    "duration": 197,
    "start_time": "2023-05-02T08:29:50.510Z"
   },
   {
    "duration": 5,
    "start_time": "2023-05-02T08:29:50.709Z"
   },
   {
    "duration": 49,
    "start_time": "2023-05-02T08:29:50.716Z"
   },
   {
    "duration": 31,
    "start_time": "2023-05-02T08:29:50.767Z"
   },
   {
    "duration": 25,
    "start_time": "2023-05-02T08:29:50.800Z"
   },
   {
    "duration": 14,
    "start_time": "2023-05-02T08:29:50.827Z"
   },
   {
    "duration": 10,
    "start_time": "2023-05-02T08:29:50.843Z"
   },
   {
    "duration": 16,
    "start_time": "2023-05-02T08:29:50.854Z"
   },
   {
    "duration": 14,
    "start_time": "2023-05-02T08:29:50.871Z"
   },
   {
    "duration": 414,
    "start_time": "2023-05-02T08:29:50.887Z"
   },
   {
    "duration": 294,
    "start_time": "2023-05-02T08:29:51.304Z"
   },
   {
    "duration": 4,
    "start_time": "2023-05-02T08:29:51.601Z"
   },
   {
    "duration": 23,
    "start_time": "2023-05-02T08:29:51.607Z"
   },
   {
    "duration": 174,
    "start_time": "2023-05-02T08:29:51.632Z"
   },
   {
    "duration": 189,
    "start_time": "2023-05-02T08:29:51.807Z"
   },
   {
    "duration": 14,
    "start_time": "2023-05-02T08:29:51.998Z"
   },
   {
    "duration": 0,
    "start_time": "2023-05-02T08:29:52.014Z"
   },
   {
    "duration": 0,
    "start_time": "2023-05-02T08:29:52.016Z"
   },
   {
    "duration": 0,
    "start_time": "2023-05-02T08:29:52.017Z"
   },
   {
    "duration": 0,
    "start_time": "2023-05-02T08:29:52.018Z"
   },
   {
    "duration": 0,
    "start_time": "2023-05-02T08:29:52.019Z"
   },
   {
    "duration": 0,
    "start_time": "2023-05-02T08:29:52.020Z"
   },
   {
    "duration": 0,
    "start_time": "2023-05-02T08:29:52.021Z"
   },
   {
    "duration": 1,
    "start_time": "2023-05-02T08:29:52.022Z"
   },
   {
    "duration": 13,
    "start_time": "2023-05-02T08:29:54.135Z"
   },
   {
    "duration": 29,
    "start_time": "2023-05-02T08:30:01.799Z"
   },
   {
    "duration": 3191,
    "start_time": "2023-05-02T08:30:04.670Z"
   },
   {
    "duration": 9,
    "start_time": "2023-05-02T08:30:07.863Z"
   },
   {
    "duration": 6,
    "start_time": "2023-05-02T08:30:09.038Z"
   },
   {
    "duration": 5,
    "start_time": "2023-05-02T08:30:10.296Z"
   },
   {
    "duration": 6,
    "start_time": "2023-05-02T08:30:12.320Z"
   },
   {
    "duration": 13,
    "start_time": "2023-05-02T08:30:14.230Z"
   },
   {
    "duration": 13,
    "start_time": "2023-05-02T08:30:21.603Z"
   },
   {
    "duration": 15,
    "start_time": "2023-05-02T08:30:33.500Z"
   },
   {
    "duration": 14,
    "start_time": "2023-05-02T08:30:42.297Z"
   },
   {
    "duration": 15,
    "start_time": "2023-05-02T08:30:58.596Z"
   },
   {
    "duration": 10,
    "start_time": "2023-05-02T08:31:09.913Z"
   },
   {
    "duration": 6,
    "start_time": "2023-05-02T08:31:52.239Z"
   },
   {
    "duration": 10,
    "start_time": "2023-05-02T08:31:59.151Z"
   },
   {
    "duration": 5,
    "start_time": "2023-05-02T08:32:27.379Z"
   },
   {
    "duration": 2,
    "start_time": "2023-05-02T08:32:43.559Z"
   },
   {
    "duration": 5,
    "start_time": "2023-05-02T08:33:34.864Z"
   },
   {
    "duration": 4,
    "start_time": "2023-05-02T08:33:46.525Z"
   },
   {
    "duration": 9,
    "start_time": "2023-05-02T08:38:24.798Z"
   },
   {
    "duration": 109,
    "start_time": "2023-05-02T08:38:41.700Z"
   },
   {
    "duration": 100,
    "start_time": "2023-05-02T08:39:08.132Z"
   },
   {
    "duration": 96,
    "start_time": "2023-05-02T08:39:13.650Z"
   },
   {
    "duration": 96,
    "start_time": "2023-05-02T08:41:46.711Z"
   },
   {
    "duration": 109,
    "start_time": "2023-05-02T08:42:08.908Z"
   },
   {
    "duration": 104,
    "start_time": "2023-05-02T08:42:12.709Z"
   },
   {
    "duration": 10,
    "start_time": "2023-05-02T08:44:44.358Z"
   },
   {
    "duration": 4,
    "start_time": "2023-05-02T08:44:54.710Z"
   },
   {
    "duration": 231,
    "start_time": "2023-05-02T08:44:56.410Z"
   },
   {
    "duration": 1182,
    "start_time": "2023-05-03T04:09:52.556Z"
   },
   {
    "duration": 5,
    "start_time": "2023-05-03T04:09:53.740Z"
   },
   {
    "duration": 11,
    "start_time": "2023-05-03T04:09:53.747Z"
   },
   {
    "duration": 115,
    "start_time": "2023-05-03T04:09:53.760Z"
   },
   {
    "duration": 65,
    "start_time": "2023-05-03T04:09:53.877Z"
   },
   {
    "duration": 58,
    "start_time": "2023-05-03T04:09:53.944Z"
   },
   {
    "duration": 10,
    "start_time": "2023-05-03T04:09:54.003Z"
   },
   {
    "duration": 10,
    "start_time": "2023-05-03T04:09:54.015Z"
   },
   {
    "duration": 16,
    "start_time": "2023-05-03T04:09:54.026Z"
   },
   {
    "duration": 9,
    "start_time": "2023-05-03T04:09:54.044Z"
   },
   {
    "duration": 12,
    "start_time": "2023-05-03T04:09:54.054Z"
   },
   {
    "duration": 39,
    "start_time": "2023-05-03T04:09:54.068Z"
   },
   {
    "duration": 8,
    "start_time": "2023-05-03T04:09:54.109Z"
   },
   {
    "duration": 11,
    "start_time": "2023-05-03T04:09:54.118Z"
   },
   {
    "duration": 10,
    "start_time": "2023-05-03T04:09:54.131Z"
   },
   {
    "duration": 51,
    "start_time": "2023-05-03T04:09:54.143Z"
   },
   {
    "duration": 7,
    "start_time": "2023-05-03T04:09:54.196Z"
   },
   {
    "duration": 7,
    "start_time": "2023-05-03T04:09:54.205Z"
   },
   {
    "duration": 12,
    "start_time": "2023-05-03T04:09:54.214Z"
   },
   {
    "duration": 5,
    "start_time": "2023-05-03T04:09:54.228Z"
   },
   {
    "duration": 5,
    "start_time": "2023-05-03T04:09:54.235Z"
   },
   {
    "duration": 53,
    "start_time": "2023-05-03T04:09:54.241Z"
   },
   {
    "duration": 8,
    "start_time": "2023-05-03T04:09:54.296Z"
   },
   {
    "duration": 230,
    "start_time": "2023-05-03T04:09:54.305Z"
   },
   {
    "duration": 271,
    "start_time": "2023-05-03T04:09:54.537Z"
   },
   {
    "duration": 213,
    "start_time": "2023-05-03T04:09:54.810Z"
   },
   {
    "duration": 6,
    "start_time": "2023-05-03T04:09:55.025Z"
   },
   {
    "duration": 293,
    "start_time": "2023-05-03T04:09:55.033Z"
   },
   {
    "duration": 367,
    "start_time": "2023-05-03T04:09:55.327Z"
   },
   {
    "duration": 254,
    "start_time": "2023-05-03T04:09:55.696Z"
   },
   {
    "duration": 6,
    "start_time": "2023-05-03T04:09:55.951Z"
   },
   {
    "duration": 5,
    "start_time": "2023-05-03T04:09:55.958Z"
   },
   {
    "duration": 7,
    "start_time": "2023-05-03T04:09:55.964Z"
   },
   {
    "duration": 32,
    "start_time": "2023-05-03T04:09:55.972Z"
   },
   {
    "duration": 3,
    "start_time": "2023-05-03T04:09:56.005Z"
   },
   {
    "duration": 12,
    "start_time": "2023-05-03T04:09:56.009Z"
   },
   {
    "duration": 13,
    "start_time": "2023-05-03T04:09:56.022Z"
   },
   {
    "duration": 10,
    "start_time": "2023-05-03T04:09:56.036Z"
   },
   {
    "duration": 281,
    "start_time": "2023-05-03T04:09:56.047Z"
   },
   {
    "duration": 329,
    "start_time": "2023-05-03T04:09:56.329Z"
   },
   {
    "duration": 4,
    "start_time": "2023-05-03T04:09:56.659Z"
   },
   {
    "duration": 9,
    "start_time": "2023-05-03T04:09:56.664Z"
   },
   {
    "duration": 158,
    "start_time": "2023-05-03T04:09:56.675Z"
   },
   {
    "duration": 156,
    "start_time": "2023-05-03T04:09:56.835Z"
   },
   {
    "duration": 6,
    "start_time": "2023-05-03T04:09:56.993Z"
   },
   {
    "duration": 142,
    "start_time": "2023-05-03T04:09:57.000Z"
   },
   {
    "duration": 7,
    "start_time": "2023-05-03T04:09:57.143Z"
   },
   {
    "duration": 48,
    "start_time": "2023-05-03T04:09:57.152Z"
   },
   {
    "duration": 3527,
    "start_time": "2023-05-03T04:09:57.202Z"
   },
   {
    "duration": 11,
    "start_time": "2023-05-03T04:10:00.731Z"
   },
   {
    "duration": 38,
    "start_time": "2023-05-03T04:10:00.743Z"
   },
   {
    "duration": 46,
    "start_time": "2023-05-03T04:10:00.782Z"
   },
   {
    "duration": 36,
    "start_time": "2023-05-03T04:10:00.830Z"
   },
   {
    "duration": 41,
    "start_time": "2023-05-03T04:10:00.867Z"
   },
   {
    "duration": 69,
    "start_time": "2023-05-03T04:10:00.910Z"
   },
   {
    "duration": 133,
    "start_time": "2023-05-03T04:10:00.981Z"
   },
   {
    "duration": 4,
    "start_time": "2023-05-03T04:10:01.116Z"
   },
   {
    "duration": 26,
    "start_time": "2023-05-03T04:10:01.122Z"
   },
   {
    "duration": 33,
    "start_time": "2023-05-03T04:10:01.150Z"
   },
   {
    "duration": 231,
    "start_time": "2023-05-03T04:10:01.185Z"
   },
   {
    "duration": 140,
    "start_time": "2023-05-03T04:10:01.418Z"
   },
   {
    "duration": 125,
    "start_time": "2023-05-03T04:10:01.560Z"
   },
   {
    "duration": 8,
    "start_time": "2023-05-03T04:10:01.687Z"
   },
   {
    "duration": 178,
    "start_time": "2023-05-03T04:10:01.697Z"
   },
   {
    "duration": 4,
    "start_time": "2023-05-03T04:10:01.877Z"
   }
  ],
  "kernelspec": {
   "display_name": "Python 3 (ipykernel)",
   "language": "python",
   "name": "python3"
  },
  "language_info": {
   "codemirror_mode": {
    "name": "ipython",
    "version": 3
   },
   "file_extension": ".py",
   "mimetype": "text/x-python",
   "name": "python",
   "nbconvert_exporter": "python",
   "pygments_lexer": "ipython3",
   "version": "3.9.18"
  },
  "toc": {
   "base_numbering": 1,
   "nav_menu": {},
   "number_sections": true,
   "sideBar": true,
   "skip_h1_title": true,
   "title_cell": "Table of Contents",
   "title_sidebar": "Contents",
   "toc_cell": false,
   "toc_position": {
    "height": "calc(100% - 180px)",
    "left": "10px",
    "top": "150px",
    "width": "213.969px"
   },
   "toc_section_display": true,
   "toc_window_display": true
  }
 },
 "nbformat": 4,
 "nbformat_minor": 5
}
