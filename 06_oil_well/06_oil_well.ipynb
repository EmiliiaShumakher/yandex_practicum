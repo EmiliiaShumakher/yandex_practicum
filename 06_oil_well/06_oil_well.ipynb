{
 "cells": [
  {
   "cell_type": "markdown",
   "metadata": {
    "toc": true
   },
   "source": [
    "<h1>Содержание<span class=\"tocSkip\"></span></h1>\n",
    "<div class=\"toc\"><ul class=\"toc-item\"><li><span><a href=\"#Описание-проекта\" data-toc-modified-id=\"Описание-проекта-1\"><span class=\"toc-item-num\">1&nbsp;&nbsp;</span>Описание проекта</a></span></li><li><span><a href=\"#Загрузка-и-подготовка-данных\" data-toc-modified-id=\"Загрузка-и-подготовка-данных-2\"><span class=\"toc-item-num\">2&nbsp;&nbsp;</span>Загрузка и подготовка данных</a></span></li><li><span><a href=\"#Обучение-и-проверка-модели\" data-toc-modified-id=\"Обучение-и-проверка-модели-3\"><span class=\"toc-item-num\">3&nbsp;&nbsp;</span>Обучение и проверка модели</a></span></li><li><span><a href=\"#Подготовка-к-расчёту-прибыли\" data-toc-modified-id=\"Подготовка-к-расчёту-прибыли-4\"><span class=\"toc-item-num\">4&nbsp;&nbsp;</span>Подготовка к расчёту прибыли</a></span></li><li><span><a href=\"#Расчёт-прибыли\" data-toc-modified-id=\"Расчёт-прибыли-5\"><span class=\"toc-item-num\">5&nbsp;&nbsp;</span>Расчёт прибыли</a></span></li><li><span><a href=\"#Расчёт-рисков\" data-toc-modified-id=\"Расчёт-рисков-6\"><span class=\"toc-item-num\">6&nbsp;&nbsp;</span>Расчёт рисков</a></span></li><li><span><a href=\"#Вывод\" data-toc-modified-id=\"Вывод-7\"><span class=\"toc-item-num\">7&nbsp;&nbsp;</span>Вывод</a></span></li><li><span><a href=\"#P.S.-Риск-равен-0?\" data-toc-modified-id=\"P.S.-Риск-равен-0?-8\"><span class=\"toc-item-num\">8&nbsp;&nbsp;</span>P.S. Риск равен 0?</a></span></li><li><span><a href=\"#Чек-лист-готовности-проекта\" data-toc-modified-id=\"Чек-лист-готовности-проекта-9\"><span class=\"toc-item-num\">9&nbsp;&nbsp;</span>Чек-лист готовности проекта</a></span></li></ul></div>"
   ]
  },
  {
   "cell_type": "markdown",
   "metadata": {},
   "source": [
    "# Выбор локации для скважины"
   ]
  },
  {
   "cell_type": "markdown",
   "metadata": {},
   "source": [
    "## Описание проекта"
   ]
  },
  {
   "cell_type": "markdown",
   "metadata": {},
   "source": [
    "Допустим, вы работаете в добывающей компании «ГлавРосГосНефть». Нужно решить, где бурить новую скважину.\n",
    "\n",
    "Вам предоставлены пробы нефти в трёх регионах: в каждом 10 000 месторождений, где измерили качество нефти и объём её запасов. Постройте модель машинного обучения, которая поможет определить регион, где добыча принесёт наибольшую прибыль. Проанализируйте возможную прибыль и риски техникой *Bootstrap.*\n",
    "\n",
    "Шаги для выбора локации:\n",
    "\n",
    "- В избранном регионе ищут месторождения, для каждого определяют значения признаков;\n",
    "- Строят модель и оценивают объём запасов;\n",
    "- Выбирают месторождения с самым высокими оценками значений. Количество месторождений зависит от бюджета компании и стоимости разработки одной скважины;\n",
    "- Прибыль равна суммарной прибыли отобранных месторождений."
   ]
  },
  {
   "cell_type": "markdown",
   "metadata": {},
   "source": [
    "Условия задачи:\n",
    "* Для обучения модели подходит только линейная регрессия (остальные — недостаточно предсказуемые).\n",
    "* При разведке региона исследуют 500 точек, из которых с помощью машинного обучения выбирают 200 лучших для разработки.\n",
    "* Бюджет на разработку скважин в регионе — 10 млрд рублей.\n",
    "* При нынешних ценах один баррель сырья приносит 450 рублей дохода. Доход с каждой единицы продукта составляет 450 тыс. рублей, поскольку объём указан в тысячах баррелей.\n",
    "* После оценки рисков нужно оставить лишь те регионы, в которых вероятность убытков меньше 2.5%. Среди них выбирают регион с наибольшей средней прибылью."
   ]
  },
  {
   "cell_type": "markdown",
   "metadata": {},
   "source": [
    "## Загрузка и подготовка данных"
   ]
  },
  {
   "cell_type": "code",
   "execution_count": 1,
   "metadata": {},
   "outputs": [],
   "source": [
    "import pandas as pd\n",
    "import numpy as np\n",
    "from matplotlib import pyplot as plt\n",
    "from sklearn.model_selection import train_test_split\n",
    "from sklearn.linear_model import LinearRegression\n",
    "from sklearn.metrics import r2_score, mean_absolute_error, mean_squared_error\n",
    "from numpy.random import RandomState"
   ]
  },
  {
   "cell_type": "code",
   "execution_count": 2,
   "metadata": {},
   "outputs": [],
   "source": [
    "try:\n",
    "    data_0 = pd.read_csv('/datasets/geo_data_0.csv')\n",
    "    data_1 = pd.read_csv('/datasets/geo_data_1.csv')\n",
    "    data_2 = pd.read_csv('/datasets/geo_data_2.csv')\n",
    "except:\n",
    "    data_0 = pd.read_csv('https://code.s3.yandex.net/datasets/geo_data_0.csv')\n",
    "    data_1 = pd.read_csv('https://code.s3.yandex.net/datasets/geo_data_1.csv')\n",
    "    data_2 = pd.read_csv('https://code.s3.yandex.net/datasets/geo_data_2.csv')"
   ]
  },
  {
   "cell_type": "code",
   "execution_count": 3,
   "metadata": {},
   "outputs": [],
   "source": [
    "def review(data, i):\n",
    "    print('Регион',i)\n",
    "    display(data.head(3))\n",
    "    display(data.describe())\n",
    "    display(data.info())\n",
    "    columns = ['f0','f1','f2','product']\n",
    "    for c in columns:\n",
    "        data[c].plot.box(vert=False, figsize=(6, 0.5))\n",
    "        plt.show()"
   ]
  },
  {
   "cell_type": "code",
   "execution_count": 4,
   "metadata": {},
   "outputs": [
    {
     "name": "stdout",
     "output_type": "stream",
     "text": [
      "Регион 0\n"
     ]
    },
    {
     "data": {
      "text/html": [
       "<div>\n",
       "<style scoped>\n",
       "    .dataframe tbody tr th:only-of-type {\n",
       "        vertical-align: middle;\n",
       "    }\n",
       "\n",
       "    .dataframe tbody tr th {\n",
       "        vertical-align: top;\n",
       "    }\n",
       "\n",
       "    .dataframe thead th {\n",
       "        text-align: right;\n",
       "    }\n",
       "</style>\n",
       "<table border=\"1\" class=\"dataframe\">\n",
       "  <thead>\n",
       "    <tr style=\"text-align: right;\">\n",
       "      <th></th>\n",
       "      <th>id</th>\n",
       "      <th>f0</th>\n",
       "      <th>f1</th>\n",
       "      <th>f2</th>\n",
       "      <th>product</th>\n",
       "    </tr>\n",
       "  </thead>\n",
       "  <tbody>\n",
       "    <tr>\n",
       "      <th>0</th>\n",
       "      <td>txEyH</td>\n",
       "      <td>0.705745</td>\n",
       "      <td>-0.497823</td>\n",
       "      <td>1.221170</td>\n",
       "      <td>105.280062</td>\n",
       "    </tr>\n",
       "    <tr>\n",
       "      <th>1</th>\n",
       "      <td>2acmU</td>\n",
       "      <td>1.334711</td>\n",
       "      <td>-0.340164</td>\n",
       "      <td>4.365080</td>\n",
       "      <td>73.037750</td>\n",
       "    </tr>\n",
       "    <tr>\n",
       "      <th>2</th>\n",
       "      <td>409Wp</td>\n",
       "      <td>1.022732</td>\n",
       "      <td>0.151990</td>\n",
       "      <td>1.419926</td>\n",
       "      <td>85.265647</td>\n",
       "    </tr>\n",
       "  </tbody>\n",
       "</table>\n",
       "</div>"
      ],
      "text/plain": [
       "      id        f0        f1        f2     product\n",
       "0  txEyH  0.705745 -0.497823  1.221170  105.280062\n",
       "1  2acmU  1.334711 -0.340164  4.365080   73.037750\n",
       "2  409Wp  1.022732  0.151990  1.419926   85.265647"
      ]
     },
     "metadata": {},
     "output_type": "display_data"
    },
    {
     "data": {
      "text/html": [
       "<div>\n",
       "<style scoped>\n",
       "    .dataframe tbody tr th:only-of-type {\n",
       "        vertical-align: middle;\n",
       "    }\n",
       "\n",
       "    .dataframe tbody tr th {\n",
       "        vertical-align: top;\n",
       "    }\n",
       "\n",
       "    .dataframe thead th {\n",
       "        text-align: right;\n",
       "    }\n",
       "</style>\n",
       "<table border=\"1\" class=\"dataframe\">\n",
       "  <thead>\n",
       "    <tr style=\"text-align: right;\">\n",
       "      <th></th>\n",
       "      <th>f0</th>\n",
       "      <th>f1</th>\n",
       "      <th>f2</th>\n",
       "      <th>product</th>\n",
       "    </tr>\n",
       "  </thead>\n",
       "  <tbody>\n",
       "    <tr>\n",
       "      <th>count</th>\n",
       "      <td>100000.000000</td>\n",
       "      <td>100000.000000</td>\n",
       "      <td>100000.000000</td>\n",
       "      <td>100000.000000</td>\n",
       "    </tr>\n",
       "    <tr>\n",
       "      <th>mean</th>\n",
       "      <td>0.500419</td>\n",
       "      <td>0.250143</td>\n",
       "      <td>2.502647</td>\n",
       "      <td>92.500000</td>\n",
       "    </tr>\n",
       "    <tr>\n",
       "      <th>std</th>\n",
       "      <td>0.871832</td>\n",
       "      <td>0.504433</td>\n",
       "      <td>3.248248</td>\n",
       "      <td>44.288691</td>\n",
       "    </tr>\n",
       "    <tr>\n",
       "      <th>min</th>\n",
       "      <td>-1.408605</td>\n",
       "      <td>-0.848218</td>\n",
       "      <td>-12.088328</td>\n",
       "      <td>0.000000</td>\n",
       "    </tr>\n",
       "    <tr>\n",
       "      <th>25%</th>\n",
       "      <td>-0.072580</td>\n",
       "      <td>-0.200881</td>\n",
       "      <td>0.287748</td>\n",
       "      <td>56.497507</td>\n",
       "    </tr>\n",
       "    <tr>\n",
       "      <th>50%</th>\n",
       "      <td>0.502360</td>\n",
       "      <td>0.250252</td>\n",
       "      <td>2.515969</td>\n",
       "      <td>91.849972</td>\n",
       "    </tr>\n",
       "    <tr>\n",
       "      <th>75%</th>\n",
       "      <td>1.073581</td>\n",
       "      <td>0.700646</td>\n",
       "      <td>4.715088</td>\n",
       "      <td>128.564089</td>\n",
       "    </tr>\n",
       "    <tr>\n",
       "      <th>max</th>\n",
       "      <td>2.362331</td>\n",
       "      <td>1.343769</td>\n",
       "      <td>16.003790</td>\n",
       "      <td>185.364347</td>\n",
       "    </tr>\n",
       "  </tbody>\n",
       "</table>\n",
       "</div>"
      ],
      "text/plain": [
       "                  f0             f1             f2        product\n",
       "count  100000.000000  100000.000000  100000.000000  100000.000000\n",
       "mean        0.500419       0.250143       2.502647      92.500000\n",
       "std         0.871832       0.504433       3.248248      44.288691\n",
       "min        -1.408605      -0.848218     -12.088328       0.000000\n",
       "25%        -0.072580      -0.200881       0.287748      56.497507\n",
       "50%         0.502360       0.250252       2.515969      91.849972\n",
       "75%         1.073581       0.700646       4.715088     128.564089\n",
       "max         2.362331       1.343769      16.003790     185.364347"
      ]
     },
     "metadata": {},
     "output_type": "display_data"
    },
    {
     "name": "stdout",
     "output_type": "stream",
     "text": [
      "<class 'pandas.core.frame.DataFrame'>\n",
      "RangeIndex: 100000 entries, 0 to 99999\n",
      "Data columns (total 5 columns):\n",
      " #   Column   Non-Null Count   Dtype  \n",
      "---  ------   --------------   -----  \n",
      " 0   id       100000 non-null  object \n",
      " 1   f0       100000 non-null  float64\n",
      " 2   f1       100000 non-null  float64\n",
      " 3   f2       100000 non-null  float64\n",
      " 4   product  100000 non-null  float64\n",
      "dtypes: float64(4), object(1)\n",
      "memory usage: 3.8+ MB\n"
     ]
    },
    {
     "data": {
      "text/plain": [
       "None"
      ]
     },
     "metadata": {},
     "output_type": "display_data"
    },
    {
     "data": {
      "image/png": "[encoded data removed]",
      "text/plain": [
       "<Figure size 432x36 with 1 Axes>"
      ]
     },
     "metadata": {
      "needs_background": "light"
     },
     "output_type": "display_data"
    },
    {
     "data": {
      "image/png": "[encoded data removed]",
      "text/plain": [
       "<Figure size 432x36 with 1 Axes>"
      ]
     },
     "metadata": {
      "needs_background": "light"
     },
     "output_type": "display_data"
    },
    {
     "data": {
      "image/png": "[encoded data removed]",
      "text/plain": [
       "<Figure size 432x36 with 1 Axes>"
      ]
     },
     "metadata": {
      "needs_background": "light"
     },
     "output_type": "display_data"
    },
    {
     "data": {
      "image/png": "[encoded data removed]",
      "text/plain": [
       "<Figure size 432x36 with 1 Axes>"
      ]
     },
     "metadata": {
      "needs_background": "light"
     },
     "output_type": "display_data"
    }
   ],
   "source": [
    "review(data_0, 0)"
   ]
  },
  {
   "cell_type": "code",
   "execution_count": 5,
   "metadata": {},
   "outputs": [
    {
     "name": "stdout",
     "output_type": "stream",
     "text": [
      "Регион 1\n"
     ]
    },
    {
     "data": {
      "text/html": [
       "<div>\n",
       "<style scoped>\n",
       "    .dataframe tbody tr th:only-of-type {\n",
       "        vertical-align: middle;\n",
       "    }\n",
       "\n",
       "    .dataframe tbody tr th {\n",
       "        vertical-align: top;\n",
       "    }\n",
       "\n",
       "    .dataframe thead th {\n",
       "        text-align: right;\n",
       "    }\n",
       "</style>\n",
       "<table border=\"1\" class=\"dataframe\">\n",
       "  <thead>\n",
       "    <tr style=\"text-align: right;\">\n",
       "      <th></th>\n",
       "      <th>id</th>\n",
       "      <th>f0</th>\n",
       "      <th>f1</th>\n",
       "      <th>f2</th>\n",
       "      <th>product</th>\n",
       "    </tr>\n",
       "  </thead>\n",
       "  <tbody>\n",
       "    <tr>\n",
       "      <th>0</th>\n",
       "      <td>kBEdx</td>\n",
       "      <td>-15.001348</td>\n",
       "      <td>-8.276000</td>\n",
       "      <td>-0.005876</td>\n",
       "      <td>3.179103</td>\n",
       "    </tr>\n",
       "    <tr>\n",
       "      <th>1</th>\n",
       "      <td>62mP7</td>\n",
       "      <td>14.272088</td>\n",
       "      <td>-3.475083</td>\n",
       "      <td>0.999183</td>\n",
       "      <td>26.953261</td>\n",
       "    </tr>\n",
       "    <tr>\n",
       "      <th>2</th>\n",
       "      <td>vyE1P</td>\n",
       "      <td>6.263187</td>\n",
       "      <td>-5.948386</td>\n",
       "      <td>5.001160</td>\n",
       "      <td>134.766305</td>\n",
       "    </tr>\n",
       "  </tbody>\n",
       "</table>\n",
       "</div>"
      ],
      "text/plain": [
       "      id         f0        f1        f2     product\n",
       "0  kBEdx -15.001348 -8.276000 -0.005876    3.179103\n",
       "1  62mP7  14.272088 -3.475083  0.999183   26.953261\n",
       "2  vyE1P   6.263187 -5.948386  5.001160  134.766305"
      ]
     },
     "metadata": {},
     "output_type": "display_data"
    },
    {
     "data": {
      "text/html": [
       "<div>\n",
       "<style scoped>\n",
       "    .dataframe tbody tr th:only-of-type {\n",
       "        vertical-align: middle;\n",
       "    }\n",
       "\n",
       "    .dataframe tbody tr th {\n",
       "        vertical-align: top;\n",
       "    }\n",
       "\n",
       "    .dataframe thead th {\n",
       "        text-align: right;\n",
       "    }\n",
       "</style>\n",
       "<table border=\"1\" class=\"dataframe\">\n",
       "  <thead>\n",
       "    <tr style=\"text-align: right;\">\n",
       "      <th></th>\n",
       "      <th>f0</th>\n",
       "      <th>f1</th>\n",
       "      <th>f2</th>\n",
       "      <th>product</th>\n",
       "    </tr>\n",
       "  </thead>\n",
       "  <tbody>\n",
       "    <tr>\n",
       "      <th>count</th>\n",
       "      <td>100000.000000</td>\n",
       "      <td>100000.000000</td>\n",
       "      <td>100000.000000</td>\n",
       "      <td>100000.000000</td>\n",
       "    </tr>\n",
       "    <tr>\n",
       "      <th>mean</th>\n",
       "      <td>1.141296</td>\n",
       "      <td>-4.796579</td>\n",
       "      <td>2.494541</td>\n",
       "      <td>68.825000</td>\n",
       "    </tr>\n",
       "    <tr>\n",
       "      <th>std</th>\n",
       "      <td>8.965932</td>\n",
       "      <td>5.119872</td>\n",
       "      <td>1.703572</td>\n",
       "      <td>45.944423</td>\n",
       "    </tr>\n",
       "    <tr>\n",
       "      <th>min</th>\n",
       "      <td>-31.609576</td>\n",
       "      <td>-26.358598</td>\n",
       "      <td>-0.018144</td>\n",
       "      <td>0.000000</td>\n",
       "    </tr>\n",
       "    <tr>\n",
       "      <th>25%</th>\n",
       "      <td>-6.298551</td>\n",
       "      <td>-8.267985</td>\n",
       "      <td>1.000021</td>\n",
       "      <td>26.953261</td>\n",
       "    </tr>\n",
       "    <tr>\n",
       "      <th>50%</th>\n",
       "      <td>1.153055</td>\n",
       "      <td>-4.813172</td>\n",
       "      <td>2.011479</td>\n",
       "      <td>57.085625</td>\n",
       "    </tr>\n",
       "    <tr>\n",
       "      <th>75%</th>\n",
       "      <td>8.621015</td>\n",
       "      <td>-1.332816</td>\n",
       "      <td>3.999904</td>\n",
       "      <td>107.813044</td>\n",
       "    </tr>\n",
       "    <tr>\n",
       "      <th>max</th>\n",
       "      <td>29.421755</td>\n",
       "      <td>18.734063</td>\n",
       "      <td>5.019721</td>\n",
       "      <td>137.945408</td>\n",
       "    </tr>\n",
       "  </tbody>\n",
       "</table>\n",
       "</div>"
      ],
      "text/plain": [
       "                  f0             f1             f2        product\n",
       "count  100000.000000  100000.000000  100000.000000  100000.000000\n",
       "mean        1.141296      -4.796579       2.494541      68.825000\n",
       "std         8.965932       5.119872       1.703572      45.944423\n",
       "min       -31.609576     -26.358598      -0.018144       0.000000\n",
       "25%        -6.298551      -8.267985       1.000021      26.953261\n",
       "50%         1.153055      -4.813172       2.011479      57.085625\n",
       "75%         8.621015      -1.332816       3.999904     107.813044\n",
       "max        29.421755      18.734063       5.019721     137.945408"
      ]
     },
     "metadata": {},
     "output_type": "display_data"
    },
    {
     "name": "stdout",
     "output_type": "stream",
     "text": [
      "<class 'pandas.core.frame.DataFrame'>\n",
      "RangeIndex: 100000 entries, 0 to 99999\n",
      "Data columns (total 5 columns):\n",
      " #   Column   Non-Null Count   Dtype  \n",
      "---  ------   --------------   -----  \n",
      " 0   id       100000 non-null  object \n",
      " 1   f0       100000 non-null  float64\n",
      " 2   f1       100000 non-null  float64\n",
      " 3   f2       100000 non-null  float64\n",
      " 4   product  100000 non-null  float64\n",
      "dtypes: float64(4), object(1)\n",
      "memory usage: 3.8+ MB\n"
     ]
    },
    {
     "data": {
      "text/plain": [
       "None"
      ]
     },
     "metadata": {},
     "output_type": "display_data"
    },
    {
     "data": {
      "image/png": "[encoded data removed]",
      "text/plain": [
       "<Figure size 432x36 with 1 Axes>"
      ]
     },
     "metadata": {
      "needs_background": "light"
     },
     "output_type": "display_data"
    },
    {
     "data": {
      "image/png": "[encoded data removed]",
      "text/plain": [
       "<Figure size 432x36 with 1 Axes>"
      ]
     },
     "metadata": {
      "needs_background": "light"
     },
     "output_type": "display_data"
    },
    {
     "data": {
      "image/png": "[encoded data removed]",
      "text/plain": [
       "<Figure size 432x36 with 1 Axes>"
      ]
     },
     "metadata": {
      "needs_background": "light"
     },
     "output_type": "display_data"
    },
    {
     "data": {
      "image/png": "[encoded data removed]",
      "text/plain": [
       "<Figure size 432x36 with 1 Axes>"
      ]
     },
     "metadata": {
      "needs_background": "light"
     },
     "output_type": "display_data"
    }
   ],
   "source": [
    "review(data_1, 1)"
   ]
  },
  {
   "cell_type": "code",
   "execution_count": 6,
   "metadata": {},
   "outputs": [
    {
     "name": "stdout",
     "output_type": "stream",
     "text": [
      "Регион 2\n"
     ]
    },
    {
     "data": {
      "text/html": [
       "<div>\n",
       "<style scoped>\n",
       "    .dataframe tbody tr th:only-of-type {\n",
       "        vertical-align: middle;\n",
       "    }\n",
       "\n",
       "    .dataframe tbody tr th {\n",
       "        vertical-align: top;\n",
       "    }\n",
       "\n",
       "    .dataframe thead th {\n",
       "        text-align: right;\n",
       "    }\n",
       "</style>\n",
       "<table border=\"1\" class=\"dataframe\">\n",
       "  <thead>\n",
       "    <tr style=\"text-align: right;\">\n",
       "      <th></th>\n",
       "      <th>id</th>\n",
       "      <th>f0</th>\n",
       "      <th>f1</th>\n",
       "      <th>f2</th>\n",
       "      <th>product</th>\n",
       "    </tr>\n",
       "  </thead>\n",
       "  <tbody>\n",
       "    <tr>\n",
       "      <th>0</th>\n",
       "      <td>fwXo0</td>\n",
       "      <td>-1.146987</td>\n",
       "      <td>0.963328</td>\n",
       "      <td>-0.828965</td>\n",
       "      <td>27.758673</td>\n",
       "    </tr>\n",
       "    <tr>\n",
       "      <th>1</th>\n",
       "      <td>WJtFt</td>\n",
       "      <td>0.262778</td>\n",
       "      <td>0.269839</td>\n",
       "      <td>-2.530187</td>\n",
       "      <td>56.069697</td>\n",
       "    </tr>\n",
       "    <tr>\n",
       "      <th>2</th>\n",
       "      <td>ovLUW</td>\n",
       "      <td>0.194587</td>\n",
       "      <td>0.289035</td>\n",
       "      <td>-5.586433</td>\n",
       "      <td>62.871910</td>\n",
       "    </tr>\n",
       "  </tbody>\n",
       "</table>\n",
       "</div>"
      ],
      "text/plain": [
       "      id        f0        f1        f2    product\n",
       "0  fwXo0 -1.146987  0.963328 -0.828965  27.758673\n",
       "1  WJtFt  0.262778  0.269839 -2.530187  56.069697\n",
       "2  ovLUW  0.194587  0.289035 -5.586433  62.871910"
      ]
     },
     "metadata": {},
     "output_type": "display_data"
    },
    {
     "data": {
      "text/html": [
       "<div>\n",
       "<style scoped>\n",
       "    .dataframe tbody tr th:only-of-type {\n",
       "        vertical-align: middle;\n",
       "    }\n",
       "\n",
       "    .dataframe tbody tr th {\n",
       "        vertical-align: top;\n",
       "    }\n",
       "\n",
       "    .dataframe thead th {\n",
       "        text-align: right;\n",
       "    }\n",
       "</style>\n",
       "<table border=\"1\" class=\"dataframe\">\n",
       "  <thead>\n",
       "    <tr style=\"text-align: right;\">\n",
       "      <th></th>\n",
       "      <th>f0</th>\n",
       "      <th>f1</th>\n",
       "      <th>f2</th>\n",
       "      <th>product</th>\n",
       "    </tr>\n",
       "  </thead>\n",
       "  <tbody>\n",
       "    <tr>\n",
       "      <th>count</th>\n",
       "      <td>100000.000000</td>\n",
       "      <td>100000.000000</td>\n",
       "      <td>100000.000000</td>\n",
       "      <td>100000.000000</td>\n",
       "    </tr>\n",
       "    <tr>\n",
       "      <th>mean</th>\n",
       "      <td>0.002023</td>\n",
       "      <td>-0.002081</td>\n",
       "      <td>2.495128</td>\n",
       "      <td>95.000000</td>\n",
       "    </tr>\n",
       "    <tr>\n",
       "      <th>std</th>\n",
       "      <td>1.732045</td>\n",
       "      <td>1.730417</td>\n",
       "      <td>3.473445</td>\n",
       "      <td>44.749921</td>\n",
       "    </tr>\n",
       "    <tr>\n",
       "      <th>min</th>\n",
       "      <td>-8.760004</td>\n",
       "      <td>-7.084020</td>\n",
       "      <td>-11.970335</td>\n",
       "      <td>0.000000</td>\n",
       "    </tr>\n",
       "    <tr>\n",
       "      <th>25%</th>\n",
       "      <td>-1.162288</td>\n",
       "      <td>-1.174820</td>\n",
       "      <td>0.130359</td>\n",
       "      <td>59.450441</td>\n",
       "    </tr>\n",
       "    <tr>\n",
       "      <th>50%</th>\n",
       "      <td>0.009424</td>\n",
       "      <td>-0.009482</td>\n",
       "      <td>2.484236</td>\n",
       "      <td>94.925613</td>\n",
       "    </tr>\n",
       "    <tr>\n",
       "      <th>75%</th>\n",
       "      <td>1.158535</td>\n",
       "      <td>1.163678</td>\n",
       "      <td>4.858794</td>\n",
       "      <td>130.595027</td>\n",
       "    </tr>\n",
       "    <tr>\n",
       "      <th>max</th>\n",
       "      <td>7.238262</td>\n",
       "      <td>7.844801</td>\n",
       "      <td>16.739402</td>\n",
       "      <td>190.029838</td>\n",
       "    </tr>\n",
       "  </tbody>\n",
       "</table>\n",
       "</div>"
      ],
      "text/plain": [
       "                  f0             f1             f2        product\n",
       "count  100000.000000  100000.000000  100000.000000  100000.000000\n",
       "mean        0.002023      -0.002081       2.495128      95.000000\n",
       "std         1.732045       1.730417       3.473445      44.749921\n",
       "min        -8.760004      -7.084020     -11.970335       0.000000\n",
       "25%        -1.162288      -1.174820       0.130359      59.450441\n",
       "50%         0.009424      -0.009482       2.484236      94.925613\n",
       "75%         1.158535       1.163678       4.858794     130.595027\n",
       "max         7.238262       7.844801      16.739402     190.029838"
      ]
     },
     "metadata": {},
     "output_type": "display_data"
    },
    {
     "name": "stdout",
     "output_type": "stream",
     "text": [
      "<class 'pandas.core.frame.DataFrame'>\n",
      "RangeIndex: 100000 entries, 0 to 99999\n",
      "Data columns (total 5 columns):\n",
      " #   Column   Non-Null Count   Dtype  \n",
      "---  ------   --------------   -----  \n",
      " 0   id       100000 non-null  object \n",
      " 1   f0       100000 non-null  float64\n",
      " 2   f1       100000 non-null  float64\n",
      " 3   f2       100000 non-null  float64\n",
      " 4   product  100000 non-null  float64\n",
      "dtypes: float64(4), object(1)\n",
      "memory usage: 3.8+ MB\n"
     ]
    },
    {
     "data": {
      "text/plain": [
       "None"
      ]
     },
     "metadata": {},
     "output_type": "display_data"
    },
    {
     "data": {
      "image/png": "[encoded data removed]",
      "text/plain": [
       "<Figure size 432x36 with 1 Axes>"
      ]
     },
     "metadata": {
      "needs_background": "light"
     },
     "output_type": "display_data"
    },
    {
     "data": {
      "image/png": "[encoded data removed]",
      "text/plain": [
       "<Figure size 432x36 with 1 Axes>"
      ]
     },
     "metadata": {
      "needs_background": "light"
     },
     "output_type": "display_data"
    },
    {
     "data": {
      "image/png": "[encoded data removed]",
      "text/plain": [
       "<Figure size 432x36 with 1 Axes>"
      ]
     },
     "metadata": {
      "needs_background": "light"
     },
     "output_type": "display_data"
    },
    {
     "data": {
      "image/png": "[encoded data removed]",
      "text/plain": [
       "<Figure size 432x36 with 1 Axes>"
      ]
     },
     "metadata": {
      "needs_background": "light"
     },
     "output_type": "display_data"
    }
   ],
   "source": [
    "review(data_2, 2)"
   ]
  },
  {
   "cell_type": "markdown",
   "metadata": {},
   "source": [
    "Данные без пропусков и выбросов. "
   ]
  },
  {
   "cell_type": "code",
   "execution_count": 7,
   "metadata": {},
   "outputs": [
    {
     "name": "stdout",
     "output_type": "stream",
     "text": [
      "0\n",
      "0\n",
      "0\n"
     ]
    }
   ],
   "source": [
    "print(data_0.duplicated().sum())\n",
    "print(data_1.duplicated().sum())\n",
    "print(data_2.duplicated().sum())"
   ]
  },
  {
   "cell_type": "markdown",
   "metadata": {},
   "source": [
    "Явных дубликатов нет"
   ]
  },
  {
   "cell_type": "code",
   "execution_count": 8,
   "metadata": {},
   "outputs": [
    {
     "name": "stdout",
     "output_type": "stream",
     "text": [
      "10\n",
      "4\n",
      "4\n"
     ]
    }
   ],
   "source": [
    "print(data_0['id'].duplicated().sum())\n",
    "print(data_1['id'].duplicated().sum())\n",
    "print(data_2['id'].duplicated().sum())"
   ]
  },
  {
   "cell_type": "markdown",
   "metadata": {},
   "source": [
    "Есть несколько записей с одинаковыми id скважин. Непонятно какой из вариантов считать верным.  \n",
    "Так как количество таких записей ничтожно мало, можно их удалить."
   ]
  },
  {
   "cell_type": "code",
   "execution_count": 9,
   "metadata": {},
   "outputs": [
    {
     "name": "stdout",
     "output_type": "stream",
     "text": [
      "0\n",
      "0\n",
      "0\n"
     ]
    }
   ],
   "source": [
    "data_0.drop(data_0[data_0['id'].duplicated()].index, inplace=True)\n",
    "data_1.drop(data_1[data_1['id'].duplicated()].index, inplace=True)\n",
    "data_2.drop(data_2[data_2['id'].duplicated()].index, inplace=True)\n",
    "print(data_0['id'].duplicated().sum())\n",
    "print(data_1['id'].duplicated().sum())\n",
    "print(data_2['id'].duplicated().sum())"
   ]
  },
  {
   "cell_type": "code",
   "execution_count": 10,
   "metadata": {},
   "outputs": [
    {
     "data": {
      "text/html": [
       "<style  type=\"text/css\" >\n",
       "#T_113c3_row0_col0,#T_113c3_row1_col1,#T_113c3_row2_col2,#T_113c3_row3_col3{\n",
       "            background-color:  #b40426;\n",
       "            color:  #f1f1f1;\n",
       "        }#T_113c3_row0_col1,#T_113c3_row0_col2,#T_113c3_row1_col0,#T_113c3_row1_col3{\n",
       "            background-color:  #3b4cc0;\n",
       "            color:  #f1f1f1;\n",
       "        }#T_113c3_row0_col3{\n",
       "            background-color:  #98b9ff;\n",
       "            color:  #000000;\n",
       "        }#T_113c3_row1_col2{\n",
       "            background-color:  #3c4ec2;\n",
       "            color:  #f1f1f1;\n",
       "        }#T_113c3_row2_col0{\n",
       "            background-color:  #9fbfff;\n",
       "            color:  #000000;\n",
       "        }#T_113c3_row2_col1{\n",
       "            background-color:  #a1c0ff;\n",
       "            color:  #000000;\n",
       "        }#T_113c3_row2_col3{\n",
       "            background-color:  #edd2c3;\n",
       "            color:  #000000;\n",
       "        }#T_113c3_row3_col0{\n",
       "            background-color:  #c1d4f4;\n",
       "            color:  #000000;\n",
       "        }#T_113c3_row3_col1{\n",
       "            background-color:  #7295f4;\n",
       "            color:  #000000;\n",
       "        }#T_113c3_row3_col2{\n",
       "            background-color:  #d9dce1;\n",
       "            color:  #000000;\n",
       "        }</style><table id=\"T_113c3_\" ><thead>    <tr>        <th class=\"blank level0\" ></th>        <th class=\"col_heading level0 col0\" >f0</th>        <th class=\"col_heading level0 col1\" >f1</th>        <th class=\"col_heading level0 col2\" >f2</th>        <th class=\"col_heading level0 col3\" >product</th>    </tr></thead><tbody>\n",
       "                <tr>\n",
       "                        <th id=\"T_113c3_level0_row0\" class=\"row_heading level0 row0\" >f0</th>\n",
       "                        <td id=\"T_113c3_row0_col0\" class=\"data row0 col0\" >1.000000</td>\n",
       "                        <td id=\"T_113c3_row0_col1\" class=\"data row0 col1\" >-0.440717</td>\n",
       "                        <td id=\"T_113c3_row0_col2\" class=\"data row0 col2\" >-0.003211</td>\n",
       "                        <td id=\"T_113c3_row0_col3\" class=\"data row0 col3\" >0.143504</td>\n",
       "            </tr>\n",
       "            <tr>\n",
       "                        <th id=\"T_113c3_level0_row1\" class=\"row_heading level0 row1\" >f1</th>\n",
       "                        <td id=\"T_113c3_row1_col0\" class=\"data row1 col0\" >-0.440717</td>\n",
       "                        <td id=\"T_113c3_row1_col1\" class=\"data row1 col1\" >1.000000</td>\n",
       "                        <td id=\"T_113c3_row1_col2\" class=\"data row1 col2\" >0.001764</td>\n",
       "                        <td id=\"T_113c3_row1_col3\" class=\"data row1 col3\" >-0.192351</td>\n",
       "            </tr>\n",
       "            <tr>\n",
       "                        <th id=\"T_113c3_level0_row2\" class=\"row_heading level0 row2\" >f2</th>\n",
       "                        <td id=\"T_113c3_row2_col0\" class=\"data row2 col0\" >-0.003211</td>\n",
       "                        <td id=\"T_113c3_row2_col1\" class=\"data row2 col1\" >0.001764</td>\n",
       "                        <td id=\"T_113c3_row2_col2\" class=\"data row2 col2\" >1.000000</td>\n",
       "                        <td id=\"T_113c3_row2_col3\" class=\"data row2 col3\" >0.483631</td>\n",
       "            </tr>\n",
       "            <tr>\n",
       "                        <th id=\"T_113c3_level0_row3\" class=\"row_heading level0 row3\" >product</th>\n",
       "                        <td id=\"T_113c3_row3_col0\" class=\"data row3 col0\" >0.143504</td>\n",
       "                        <td id=\"T_113c3_row3_col1\" class=\"data row3 col1\" >-0.192351</td>\n",
       "                        <td id=\"T_113c3_row3_col2\" class=\"data row3 col2\" >0.483631</td>\n",
       "                        <td id=\"T_113c3_row3_col3\" class=\"data row3 col3\" >1.000000</td>\n",
       "            </tr>\n",
       "    </tbody></table>"
      ],
      "text/plain": [
       "<pandas.io.formats.style.Styler at 0x7f6c3826fb20>"
      ]
     },
     "execution_count": 10,
     "metadata": {},
     "output_type": "execute_result"
    }
   ],
   "source": [
    "data_0.corr().style.background_gradient(cmap='coolwarm',axis=0)  "
   ]
  },
  {
   "cell_type": "code",
   "execution_count": 11,
   "metadata": {},
   "outputs": [
    {
     "data": {
      "text/html": [
       "<style  type=\"text/css\" >\n",
       "#T_5116d_row0_col0,#T_5116d_row1_col1,#T_5116d_row2_col2,#T_5116d_row2_col3,#T_5116d_row3_col2,#T_5116d_row3_col3{\n",
       "            background-color:  #b40426;\n",
       "            color:  #f1f1f1;\n",
       "        }#T_5116d_row0_col1{\n",
       "            background-color:  #779af7;\n",
       "            color:  #000000;\n",
       "        }#T_5116d_row0_col2,#T_5116d_row0_col3,#T_5116d_row1_col2,#T_5116d_row3_col0,#T_5116d_row3_col1{\n",
       "            background-color:  #3b4cc0;\n",
       "            color:  #f1f1f1;\n",
       "        }#T_5116d_row1_col0{\n",
       "            background-color:  #7da0f9;\n",
       "            color:  #000000;\n",
       "        }#T_5116d_row1_col3{\n",
       "            background-color:  #4055c8;\n",
       "            color:  #f1f1f1;\n",
       "        }#T_5116d_row2_col0{\n",
       "            background-color:  #4358cb;\n",
       "            color:  #f1f1f1;\n",
       "        }#T_5116d_row2_col1{\n",
       "            background-color:  #3c4ec2;\n",
       "            color:  #f1f1f1;\n",
       "        }</style><table id=\"T_5116d_\" ><thead>    <tr>        <th class=\"blank level0\" ></th>        <th class=\"col_heading level0 col0\" >f0</th>        <th class=\"col_heading level0 col1\" >f1</th>        <th class=\"col_heading level0 col2\" >f2</th>        <th class=\"col_heading level0 col3\" >product</th>    </tr></thead><tbody>\n",
       "                <tr>\n",
       "                        <th id=\"T_5116d_level0_row0\" class=\"row_heading level0 row0\" >f0</th>\n",
       "                        <td id=\"T_5116d_row0_col0\" class=\"data row0 col0\" >1.000000</td>\n",
       "                        <td id=\"T_5116d_row0_col1\" class=\"data row0 col1\" >0.182279</td>\n",
       "                        <td id=\"T_5116d_row0_col2\" class=\"data row0 col2\" >-0.001810</td>\n",
       "                        <td id=\"T_5116d_row0_col3\" class=\"data row0 col3\" >-0.030523</td>\n",
       "            </tr>\n",
       "            <tr>\n",
       "                        <th id=\"T_5116d_level0_row1\" class=\"row_heading level0 row1\" >f1</th>\n",
       "                        <td id=\"T_5116d_row1_col0\" class=\"data row1 col0\" >0.182279</td>\n",
       "                        <td id=\"T_5116d_row1_col1\" class=\"data row1 col1\" >1.000000</td>\n",
       "                        <td id=\"T_5116d_row1_col2\" class=\"data row1 col2\" >-0.002594</td>\n",
       "                        <td id=\"T_5116d_row1_col3\" class=\"data row1 col3\" >-0.010154</td>\n",
       "            </tr>\n",
       "            <tr>\n",
       "                        <th id=\"T_5116d_level0_row2\" class=\"row_heading level0 row2\" >f2</th>\n",
       "                        <td id=\"T_5116d_row2_col0\" class=\"data row2 col0\" >-0.001810</td>\n",
       "                        <td id=\"T_5116d_row2_col1\" class=\"data row2 col1\" >-0.002594</td>\n",
       "                        <td id=\"T_5116d_row2_col2\" class=\"data row2 col2\" >1.000000</td>\n",
       "                        <td id=\"T_5116d_row2_col3\" class=\"data row2 col3\" >0.999397</td>\n",
       "            </tr>\n",
       "            <tr>\n",
       "                        <th id=\"T_5116d_level0_row3\" class=\"row_heading level0 row3\" >product</th>\n",
       "                        <td id=\"T_5116d_row3_col0\" class=\"data row3 col0\" >-0.030523</td>\n",
       "                        <td id=\"T_5116d_row3_col1\" class=\"data row3 col1\" >-0.010154</td>\n",
       "                        <td id=\"T_5116d_row3_col2\" class=\"data row3 col2\" >0.999397</td>\n",
       "                        <td id=\"T_5116d_row3_col3\" class=\"data row3 col3\" >1.000000</td>\n",
       "            </tr>\n",
       "    </tbody></table>"
      ],
      "text/plain": [
       "<pandas.io.formats.style.Styler at 0x7f6bb323a400>"
      ]
     },
     "execution_count": 11,
     "metadata": {},
     "output_type": "execute_result"
    }
   ],
   "source": [
    "data_1.corr().style.background_gradient(cmap='coolwarm',axis=0)  "
   ]
  },
  {
   "cell_type": "code",
   "execution_count": 12,
   "metadata": {},
   "outputs": [
    {
     "data": {
      "text/html": [
       "<style  type=\"text/css\" >\n",
       "#T_675d7_row0_col0,#T_675d7_row1_col1,#T_675d7_row2_col2,#T_675d7_row3_col3{\n",
       "            background-color:  #b40426;\n",
       "            color:  #f1f1f1;\n",
       "        }#T_675d7_row0_col1,#T_675d7_row0_col2,#T_675d7_row0_col3,#T_675d7_row1_col0,#T_675d7_row1_col2,#T_675d7_row1_col3,#T_675d7_row2_col0,#T_675d7_row2_col1,#T_675d7_row3_col0,#T_675d7_row3_col1{\n",
       "            background-color:  #3b4cc0;\n",
       "            color:  #f1f1f1;\n",
       "        }#T_675d7_row2_col3,#T_675d7_row3_col2{\n",
       "            background-color:  #cedaeb;\n",
       "            color:  #000000;\n",
       "        }</style><table id=\"T_675d7_\" ><thead>    <tr>        <th class=\"blank level0\" ></th>        <th class=\"col_heading level0 col0\" >f0</th>        <th class=\"col_heading level0 col1\" >f1</th>        <th class=\"col_heading level0 col2\" >f2</th>        <th class=\"col_heading level0 col3\" >product</th>    </tr></thead><tbody>\n",
       "                <tr>\n",
       "                        <th id=\"T_675d7_level0_row0\" class=\"row_heading level0 row0\" >f0</th>\n",
       "                        <td id=\"T_675d7_row0_col0\" class=\"data row0 col0\" >1.000000</td>\n",
       "                        <td id=\"T_675d7_row0_col1\" class=\"data row0 col1\" >0.000506</td>\n",
       "                        <td id=\"T_675d7_row0_col2\" class=\"data row0 col2\" >-0.000452</td>\n",
       "                        <td id=\"T_675d7_row0_col3\" class=\"data row0 col3\" >-0.001978</td>\n",
       "            </tr>\n",
       "            <tr>\n",
       "                        <th id=\"T_675d7_level0_row1\" class=\"row_heading level0 row1\" >f1</th>\n",
       "                        <td id=\"T_675d7_row1_col0\" class=\"data row1 col0\" >0.000506</td>\n",
       "                        <td id=\"T_675d7_row1_col1\" class=\"data row1 col1\" >1.000000</td>\n",
       "                        <td id=\"T_675d7_row1_col2\" class=\"data row1 col2\" >0.000753</td>\n",
       "                        <td id=\"T_675d7_row1_col3\" class=\"data row1 col3\" >-0.001055</td>\n",
       "            </tr>\n",
       "            <tr>\n",
       "                        <th id=\"T_675d7_level0_row2\" class=\"row_heading level0 row2\" >f2</th>\n",
       "                        <td id=\"T_675d7_row2_col0\" class=\"data row2 col0\" >-0.000452</td>\n",
       "                        <td id=\"T_675d7_row2_col1\" class=\"data row2 col1\" >0.000753</td>\n",
       "                        <td id=\"T_675d7_row2_col2\" class=\"data row2 col2\" >1.000000</td>\n",
       "                        <td id=\"T_675d7_row2_col3\" class=\"data row2 col3\" >0.445867</td>\n",
       "            </tr>\n",
       "            <tr>\n",
       "                        <th id=\"T_675d7_level0_row3\" class=\"row_heading level0 row3\" >product</th>\n",
       "                        <td id=\"T_675d7_row3_col0\" class=\"data row3 col0\" >-0.001978</td>\n",
       "                        <td id=\"T_675d7_row3_col1\" class=\"data row3 col1\" >-0.001055</td>\n",
       "                        <td id=\"T_675d7_row3_col2\" class=\"data row3 col2\" >0.445867</td>\n",
       "                        <td id=\"T_675d7_row3_col3\" class=\"data row3 col3\" >1.000000</td>\n",
       "            </tr>\n",
       "    </tbody></table>"
      ],
      "text/plain": [
       "<pandas.io.formats.style.Styler at 0x7f6bb30755b0>"
      ]
     },
     "execution_count": 12,
     "metadata": {},
     "output_type": "execute_result"
    }
   ],
   "source": [
    "data_2.corr().style.background_gradient(cmap='coolwarm',axis=0)  "
   ]
  },
  {
   "cell_type": "markdown",
   "metadata": {},
   "source": [
    "Параметр f2 сильно коррелирует с целевым признаком.   \n",
    "А в регионе 1 корреляция почти 100%. Это позволит получить очень точные предсказания для этого региона. "
   ]
  },
  {
   "cell_type": "markdown",
   "metadata": {},
   "source": [
    "Теперь разделим данные на выборки"
   ]
  },
  {
   "cell_type": "code",
   "execution_count": 13,
   "metadata": {},
   "outputs": [],
   "source": [
    "target_0 = data_0['product']\n",
    "features_0 = data_0[['f0','f1','f2']]\n",
    "target_1 = data_1['product']\n",
    "features_1 = data_1[['f0','f1','f2']]\n",
    "target_2 = data_2['product']\n",
    "features_2 = data_2[['f0','f1','f2']]"
   ]
  },
  {
   "cell_type": "code",
   "execution_count": 14,
   "metadata": {},
   "outputs": [
    {
     "name": "stdout",
     "output_type": "stream",
     "text": [
      "0: (74992, 3) (24998, 3) (74992,) (24998,)\n",
      "1: (74997, 3) (24999, 3) (74997,) (24999,)\n",
      "2: (74997, 3) (24999, 3) (74997,) (24999,)\n"
     ]
    }
   ],
   "source": [
    "features_train_0, features_valid_0, target_train_0, target_valid_0 = train_test_split(\n",
    "    features_0, target_0, test_size=0.25, random_state=12345)\n",
    "print('0:',features_train_0.shape, features_valid_0.shape, target_train_0.shape, target_valid_0.shape)\n",
    "features_train_1, features_valid_1, target_train_1, target_valid_1 = train_test_split(\n",
    "    features_1, target_1, test_size=0.25, random_state=12345)\n",
    "print('1:',features_train_1.shape, features_valid_1.shape, target_train_1.shape, target_valid_1.shape)\n",
    "features_train_2, features_valid_2, target_train_2, target_valid_2 = train_test_split(\n",
    "    features_2, target_2, test_size=0.25, random_state=12345)\n",
    "print('2:',features_train_2.shape, features_valid_2.shape, target_train_2.shape, target_valid_2.shape)"
   ]
  },
  {
   "cell_type": "markdown",
   "metadata": {},
   "source": [
    "Так как значения параметров `f0, f1, f2` одного порядка, масштабировать данные не нужно."
   ]
  },
  {
   "cell_type": "markdown",
   "metadata": {},
   "source": [
    "## Обучение и проверка модели"
   ]
  },
  {
   "cell_type": "code",
   "execution_count": 15,
   "metadata": {},
   "outputs": [
    {
     "name": "stdout",
     "output_type": "stream",
     "text": [
      "R2 0: 0.2723923460817068\n",
      "MAE 0: 31.141028675220266\n",
      "RMS 1: 37.853527328872964\n",
      "Predicted values mean: 92.78915638280621\n"
     ]
    }
   ],
   "source": [
    "model_0 = LinearRegression()\n",
    "model_0.fit(features_train_0, target_train_0)\n",
    "predicted_valid_0 = model_0.predict(features_valid_0)\n",
    "r2_0 = r2_score(target_valid_0, predicted_valid_0)\n",
    "mae_0 = mean_absolute_error(target_valid_0, predicted_valid_0)\n",
    "rmse_0 = mean_squared_error(target_valid_0, predicted_valid_0) ** 0.5\n",
    "pvm_0 = predicted_valid_0.mean()\n",
    "print('R2 0:', r2_0)\n",
    "print('MAE 0:', mae_0)\n",
    "print('RMS 1:', rmse_0)\n",
    "print('Predicted values mean:', pvm_0)"
   ]
  },
  {
   "cell_type": "code",
   "execution_count": 16,
   "metadata": {},
   "outputs": [
    {
     "name": "stdout",
     "output_type": "stream",
     "text": [
      "R2 1: 0.9996222988190184\n",
      "MAE 1: 0.7193530096516099\n",
      "RMS 1: 0.892059264771703\n",
      "Predicted values mean: 69.17831957030432\n"
     ]
    }
   ],
   "source": [
    "model_1 = LinearRegression()\n",
    "model_1.fit(features_train_1, target_train_1)\n",
    "predicted_valid_1 = model_1.predict(features_valid_1)\n",
    "r2_1 = r2_score(target_valid_1, predicted_valid_1)\n",
    "mae_1 = mean_absolute_error(target_valid_1, predicted_valid_1)\n",
    "rmse_1 = mean_squared_error(target_valid_1, predicted_valid_1) ** 0.5\n",
    "pvm_1 = predicted_valid_1.mean()\n",
    "print('R2 1:', r2_1)\n",
    "print('MAE 1:', mae_1)\n",
    "print('RMS 1:', rmse_1)\n",
    "print('Predicted values mean:', pvm_1)"
   ]
  },
  {
   "cell_type": "code",
   "execution_count": 17,
   "metadata": {},
   "outputs": [
    {
     "name": "stdout",
     "output_type": "stream",
     "text": [
      "R2 2: 0.19556241810202346\n",
      "MAE 2: 32.83139014902301\n",
      "RMS 1: 40.07585073246016\n",
      "Predicted values mean: 94.86572480562035\n"
     ]
    }
   ],
   "source": [
    "model_2 = LinearRegression()\n",
    "model_2.fit(features_train_2, target_train_2)\n",
    "predicted_valid_2 = model_2.predict(features_valid_2)\n",
    "r2_2 = r2_score(target_valid_2, predicted_valid_2)\n",
    "mae_2 = mean_absolute_error(target_valid_2, predicted_valid_2)\n",
    "rmse_2 = mean_squared_error(target_valid_2, predicted_valid_2) ** 0.5\n",
    "pvm_2 = predicted_valid_2.mean()\n",
    "print('R2 2:', r2_2)\n",
    "print('MAE 2:', mae_2)\n",
    "print('RMS 1:', rmse_2)\n",
    "print('Predicted values mean:', pvm_2)"
   ]
  },
  {
   "cell_type": "markdown",
   "metadata": {},
   "source": [
    "Как и ожидалось, из-за сильной корреляции целевого параметра с признаком f2 в регионе 1 модель получила очень хорошие показатели: R2 = 0.9996  \n",
    "В регионе 0 и 2 показатели значительно хуже: R2 = 0.272, R2 = 0.196 соответственно.\n",
    "\n",
    "Однако среднее количество сырья в первом регионе наименьшее: всего 69.2.   \n",
    "В регионе 0 и 2 среднее значение значительно выше и почти одинаковое: 92.8 и 94.5 соответственно."
   ]
  },
  {
   "cell_type": "markdown",
   "metadata": {},
   "source": [
    "## Подготовка к расчёту прибыли"
   ]
  },
  {
   "cell_type": "code",
   "execution_count": 18,
   "metadata": {},
   "outputs": [],
   "source": [
    "# бюджет на регион\n",
    "budget = 10 ** 10\n",
    "# количество скважин для разработки\n",
    "dev_wells = 200\n",
    "# цена разработки одной скважины \n",
    "#считаю что стоимость взятия проб очень низкая по сравнению с разработкой\n",
    "one_well_cost = budget / dev_wells\n",
    "# количеств скважин для взятия проб\n",
    "samp_wells = 500 \n",
    "# цена за тысячу баррелей\n",
    "barrel_cost = 450000"
   ]
  },
  {
   "cell_type": "markdown",
   "metadata": {},
   "source": [
    "Вычислим достаточный объём сырья для безубыточной разработки новой скважины:  \n",
    "product > 111,(1)"
   ]
  },
  {
   "cell_type": "code",
   "execution_count": 19,
   "metadata": {},
   "outputs": [
    {
     "data": {
      "text/plain": [
       "111.11111111111111"
      ]
     },
     "execution_count": 19,
     "metadata": {},
     "output_type": "execute_result"
    }
   ],
   "source": [
    "profit_threshold = one_well_cost / barrel_cost\n",
    "profit_threshold"
   ]
  },
  {
   "cell_type": "code",
   "execution_count": 21,
   "metadata": {},
   "outputs": [
    {
     "name": "stdout",
     "output_type": "stream",
     "text": [
      "Среднее количество запасов в каждом регионе:\n",
      "0: 92.49968421774354\n",
      "1: 68.82391591804064\n",
      "2: 94.99834211933378\n"
     ]
    }
   ],
   "source": [
    "print('Среднее количество запасов в каждом регионе:')\n",
    "print('0:', data_0['product'].mean())\n",
    "print('1:', data_1['product'].mean())\n",
    "print('2:', data_2['product'].mean())"
   ]
  },
  {
   "cell_type": "markdown",
   "metadata": {},
   "source": [
    "Среднее значение во всех регионах ниже порога прибыльности.\n"
   ]
  },
  {
   "cell_type": "markdown",
   "metadata": {},
   "source": [
    "## Расчёт прибыли"
   ]
  },
  {
   "cell_type": "markdown",
   "metadata": {},
   "source": [
    "Чтобы автоматизировать процесс, сохраню значения target в массив."
   ]
  },
  {
   "cell_type": "code",
   "execution_count": 22,
   "metadata": {},
   "outputs": [],
   "source": [
    "target_valid = [target_valid_0, target_valid_1, target_valid_2]"
   ]
  },
  {
   "cell_type": "markdown",
   "metadata": {},
   "source": [
    "Теперь можно переписать подсчёт прибыли."
   ]
  },
  {
   "cell_type": "code",
   "execution_count": 23,
   "metadata": {},
   "outputs": [],
   "source": [
    "def calculate_profit(wells, region):\n",
    "    profit = (target_valid[region][wells.index]*barrel_cost-one_well_cost).sum()\n",
    "    return profit"
   ]
  },
  {
   "cell_type": "markdown",
   "metadata": {},
   "source": [
    "Приведём предсказания к типу Series и восстановим изначальные индексы"
   ]
  },
  {
   "cell_type": "code",
   "execution_count": 24,
   "metadata": {},
   "outputs": [],
   "source": [
    "ser_pred_0 = pd.Series(predicted_valid_0)\n",
    "ser_pred_0.index = target_valid_0.index\n",
    "ser_pred_1 = pd.Series(predicted_valid_1)\n",
    "ser_pred_1.index = target_valid_1.index\n",
    "ser_pred_2 = pd.Series(predicted_valid_2)\n",
    "ser_pred_2.index = target_valid_2.index"
   ]
  },
  {
   "cell_type": "markdown",
   "metadata": {},
   "source": [
    "Для каждого региона выберем наилучшие значения из предсказанных, и вычислим для них прибыль."
   ]
  },
  {
   "cell_type": "code",
   "execution_count": 25,
   "metadata": {},
   "outputs": [
    {
     "name": "stdout",
     "output_type": "stream",
     "text": [
      "(200,)\n",
      "(200,)\n",
      "(200,)\n",
      "Максимальный объём сырья в регионе 0: 29700.4 тыс. баррелей\n",
      "Максимальная предсказанная прибыль в регионе 0: 3.37 млрд. руб.\n",
      "Максимальный объём сырья в регионе 1: 27589.1 тыс. баррелей\n",
      "Максимальная предсказанная прибыль в регионе 1: 2.42 млрд. руб.\n",
      "Максимальный объём сырья в регионе 2: 27780.6 тыс. баррелей\n",
      "Максимальная предсказанная прибыль в регионе 2: 2.5 млрд. руб.\n"
     ]
    }
   ],
   "source": [
    "best_pred_wells_0 = ser_pred_0.sort_values().tail(200)\n",
    "max_pred_profit_0 = calculate_profit(best_pred_wells_0,0)\n",
    "best_pred_wells_1 = ser_pred_1.sort_values().tail(200)\n",
    "max_pred_profit_1 = calculate_profit(best_pred_wells_1,1)\n",
    "best_pred_wells_2 = ser_pred_2.sort_values().tail(200)\n",
    "max_pred_profit_2 = calculate_profit(best_pred_wells_2,2)\n",
    "\n",
    "print('Максимальный объём сырья в регионе 0:',target_valid[0][best_pred_wells_0.index].sum().round(1),'тыс. баррелей')\n",
    "print('Максимальная предсказанная прибыль в регионе 0:',(max_pred_profit_0/10**9).round(2),'млрд. руб.')\n",
    "print('Максимальный объём сырья в регионе 1:',target_valid[1][best_pred_wells_1.index].sum().round(1),'тыс. баррелей')\n",
    "print('Максимальная предсказанная прибыль в регионе 1:',(max_pred_profit_1/10**9).round(2),'млрд. руб.')\n",
    "print('Максимальный объём сырья в регионе 2:',target_valid[2][best_pred_wells_2.index].sum().round(1),'тыс. баррелей')\n",
    "print('Максимальная предсказанная прибыль в регионе 2:',(max_pred_profit_2/10**9).round(2),'млрд. руб.')"
   ]
  },
  {
   "cell_type": "markdown",
   "metadata": {},
   "source": [
    "## Расчёт рисков"
   ]
  },
  {
   "cell_type": "code",
   "execution_count": 26,
   "metadata": {},
   "outputs": [],
   "source": [
    "state = RandomState(12345) \n",
    "# число выборок для бустстрапа\n",
    "boost_n = 1000\n",
    "# доверительный двусторонний интервал\n",
    "alpha = 0.05 / 2"
   ]
  },
  {
   "cell_type": "markdown",
   "metadata": {},
   "source": [
    "Объявим функцию бустстрапа.   \n",
    "Она будет выбирать 500 скважин из предсказанных значений. Затем из них брать 200 лучших. Для лучших будет вычисляться прибыль.   \n",
    "Операция повторяется 1000 раз, затем вычисляется среднее значение прибыли, риск получить убыток, а также границы доверительного интервала."
   ]
  },
  {
   "cell_type": "code",
   "execution_count": 27,
   "metadata": {},
   "outputs": [],
   "source": [
    "def booststrap(predicted_valid, region):\n",
    "    values = []\n",
    "    profit = []\n",
    "    for i in range(boost_n):\n",
    "            subsample = predicted_valid.sample(n=samp_wells, replace=True, random_state=state)\n",
    "            subsample = subsample.sort_values().tail(200)\n",
    "            profit.append(calculate_profit(subsample, region))\n",
    "    profit = pd.Series(profit)\n",
    "    risk = profit.apply(lambda x: x < 0).sum()/len(profit)*100\n",
    "    lower = profit.quantile(alpha)\n",
    "    upper = profit.quantile(1-alpha)\n",
    "    mean = profit.mean()\n",
    "    return risk, lower, upper, mean, profit"
   ]
  },
  {
   "cell_type": "code",
   "execution_count": 28,
   "metadata": {},
   "outputs": [],
   "source": [
    "# вывод результатов на экран\n",
    "def print_booststrap(region, risk, lower, upper, mean):\n",
    "    print('Регион:', region)\n",
    "    print(\"Средняя выручка:\", (mean/10**9).round(2),'млрд. руб.')\n",
    "    print(\"95%-й доверительный интервал:\", (lower/10**9).round(3),'-',(upper/10**9).round(3),'млрд. руб.')\n",
    "    print(\"Риск:\", risk,'%')\n",
    "    print()"
   ]
  },
  {
   "cell_type": "code",
   "execution_count": null,
   "metadata": {},
   "outputs": [],
   "source": [
    "risk_0, lower_0, upper_0, mean_0, profit_0 = booststrap(ser_pred_0, 0)\n",
    "risk_1, lower_1, upper_1, mean_1, profit_1 = booststrap(ser_pred_1, 1)\n",
    "risk_2, lower_2, upper_2, mean_2, profit_2 = booststrap(ser_pred_2, 2)"
   ]
  },
  {
   "cell_type": "code",
   "execution_count": 30,
   "metadata": {},
   "outputs": [
    {
     "name": "stdout",
     "output_type": "stream",
     "text": [
      "Регион: 0\n",
      "Средняя выручка: 0.38 млрд. руб.\n",
      "95%-й доверительный интервал: -0.143 - 0.891 млрд. руб.\n",
      "Риск: 7.7 %\n",
      "\n",
      "Регион: 1\n",
      "Средняя выручка: 0.48 млрд. руб.\n",
      "95%-й доверительный интервал: 0.074 - 0.918 млрд. руб.\n",
      "Риск: 0.6 %\n",
      "\n",
      "Регион: 2\n",
      "Средняя выручка: 0.32 млрд. руб.\n",
      "95%-й доверительный интервал: -0.216 - 0.811 млрд. руб.\n",
      "Риск: 12.4 %\n",
      "\n"
     ]
    }
   ],
   "source": [
    "print_booststrap(0, risk_0, lower_0, upper_0, mean_0)\n",
    "print_booststrap(1, risk_1, lower_1, upper_1, mean_1)\n",
    "print_booststrap(2, risk_2, lower_2, upper_2, mean_2)"
   ]
  },
  {
   "cell_type": "code",
   "execution_count": 31,
   "metadata": {},
   "outputs": [
    {
     "data": {
      "image/png": "[encoded data removed]",
      "text/plain": [
       "<Figure size 432x288 with 1 Axes>"
      ]
     },
     "metadata": {
      "needs_background": "light"
     },
     "output_type": "display_data"
    },
    {
     "data": {
      "image/png": "[encoded data removed]",
      "text/plain": [
       "<Figure size 432x288 with 1 Axes>"
      ]
     },
     "metadata": {
      "needs_background": "light"
     },
     "output_type": "display_data"
    },
    {
     "data": {
      "image/png": "[encoded data removed]",
      "text/plain": [
       "<Figure size 432x288 with 1 Axes>"
      ]
     },
     "metadata": {
      "needs_background": "light"
     },
     "output_type": "display_data"
    }
   ],
   "source": [
    "data_dict = {}\n",
    "data_dict['region'] = ['Регион 0','Регион 1','Регион 2']\n",
    "data_dict['lower'] = [lower_0,lower_1,lower_2]\n",
    "data_dict['upper'] = [upper_0,upper_1,upper_2]\n",
    "data_dict['mean'] = [mean_0 / 10**9, mean_1 / 10**9, mean_2 / 10**9]\n",
    "data_dict['risk'] = [risk_0,risk_1,risk_2]\n",
    "dataset = pd.DataFrame(data_dict)\n",
    "\n",
    "for lower,upper,y in zip(dataset['lower'],dataset['upper'],range(len(dataset))):\n",
    "    plt.plot((lower,upper),(y,y),'ro-',color='orange')\n",
    "plt.yticks(range(len(dataset)),list(dataset['region']))\n",
    "plt.title('Доверительный интервал')\n",
    "plt.show();\n",
    "\n",
    "plt.bar(data_dict['region'],data_dict['mean'])\n",
    "plt.ylim(0.0,0.5)\n",
    "plt.title('Средняя выручка')\n",
    "plt.show();\n",
    "\n",
    "plt.bar(data_dict['region'],data_dict['risk'],color='red')\n",
    "plt.ylim(0,12.5)\n",
    "plt.title('Риск')\n",
    "plt.show();"
   ]
  },
  {
   "cell_type": "markdown",
   "metadata": {},
   "source": [
    "Построим распределение выборочных прибылей"
   ]
  },
  {
   "cell_type": "code",
   "execution_count": 32,
   "metadata": {},
   "outputs": [
    {
     "data": {
      "image/png": "[encoded data removed]",
      "text/plain": [
       "<Figure size 576x288 with 1 Axes>"
      ]
     },
     "metadata": {
      "needs_background": "light"
     },
     "output_type": "display_data"
    }
   ],
   "source": [
    "profits = pd.DataFrame({'Регион 0':profit_0, 'Регион 1':profit_1, 'Регион 2':profit_2} )\n",
    "profits.plot.box(vert=False, figsize=(8, 4), grid=True);\n",
    "plt.xlabel('Прибыль млрд. руб.')\n",
    "plt.show();"
   ]
  },
  {
   "cell_type": "markdown",
   "metadata": {},
   "source": [
    "Регион 1 является абсолютным победителем по значению средней выручки, риска и границам доверительного интервала. <br /> \n",
    "Только в Регионе 1 нижняя граница доверительного интервала болше нуля. <br /> \n",
    "Как видно по ящикам, граница усов у Региона 1 всё же меньше 0 и есть отрицательный выброс. Однако риск получить убыток всего 0.6%. <br /> \n",
    "В Регионе 0 есть выброс выше 1.25 млрд., однако риски получить убыток слишком велики. Вряд ли нам удастся случайно найти высокую прибыль."
   ]
  },
  {
   "cell_type": "markdown",
   "metadata": {},
   "source": [
    "## Вывод"
   ]
  },
  {
   "cell_type": "markdown",
   "metadata": {},
   "source": [
    "**Подготовка данных**    \n",
    "Данные без пропусков и выбросов. Явных дубликатов нет, несколько дубликатов id удалены.   \n",
    "Параметр f2 сильно коррелирует с целевым признаком. А в регионе 1 корреляция почти 100%  \n",
    "***\n",
    "**Обучение и проверка модели**  \n",
    "Из-за сильной корреляции целевого параметра с признаком f2 в регионе 1 модель получила очень хорошие показатели: R2 = 0.9996  \n",
    "В регионе 0 и 2 показатели значительно хуже: R2 = 0.272, R2 = 0.196 соответственно.    \n",
    "\n",
    "Однако среднее количество сырья в первом регионе наименьшее: всего 69    .2.\n",
    "В регионе 0 и 2 среднее значение значительно выше и почти одинаковое: 92.8 и 94.5 соответственно.    \n",
    "***\n",
    "**Расчёт рисков**  \n",
    "Регион: 0  \n",
    "Средняя выручка: 0.38 млрд. руб.  \n",
    "95%-й доверительный интервал: -0.143 - 0.891 млрд. руб.  \n",
    "Риск: 7.7 %  \n",
    "\n",
    "Регион: 1  \n",
    "Средняя выручка: 0.48 млрд. руб.  \n",
    "95%-й доверительный интервал: 0.074 - 0.918 млрд. руб.  \n",
    "Риск: 0.6 %  \n",
    "\n",
    "Регион: 2  \n",
    "Средняя выручка: 0.32 млрд. руб.  \n",
    "95%-й доверительный интервал: -0.216 - 0.811 млрд. руб.  \n",
    "Риск: 12.4 %  \n",
    "\n",
    "Регион 1 является абсолютным победителем по значению средней выручки, риска и границам доверительного интервала.\n",
    "Только в Регионе 1 нижняя граница доверительного интервала болше нуля.  \n",
    "***\n",
    "**Итог**  \n",
    "**Регион 1** самый перспективный для разработки."
   ]
  }
 ],
 "metadata": {
  "ExecuteTimeLog": [
   {
    "duration": 8,
    "start_time": "2023-06-06T09:53:45.644Z"
   },
   {
    "duration": 10,
    "start_time": "2023-06-06T09:53:50.055Z"
   },
   {
    "duration": 1485,
    "start_time": "2023-06-06T09:57:27.038Z"
   },
   {
    "duration": 686,
    "start_time": "2023-06-06T09:57:28.525Z"
   },
   {
    "duration": 4,
    "start_time": "2023-06-06T09:57:29.212Z"
   },
   {
    "duration": 402,
    "start_time": "2023-06-06T09:57:29.218Z"
   },
   {
    "duration": 438,
    "start_time": "2023-06-06T09:57:29.622Z"
   },
   {
    "duration": 378,
    "start_time": "2023-06-06T09:57:30.062Z"
   },
   {
    "duration": 116,
    "start_time": "2023-06-06T09:57:30.441Z"
   },
   {
    "duration": 34,
    "start_time": "2023-06-06T09:57:30.559Z"
   },
   {
    "duration": 83,
    "start_time": "2023-06-06T09:57:30.595Z"
   },
   {
    "duration": 68,
    "start_time": "2023-06-06T09:57:30.681Z"
   },
   {
    "duration": 18,
    "start_time": "2023-06-06T09:57:30.750Z"
   },
   {
    "duration": 41,
    "start_time": "2023-06-06T09:57:30.769Z"
   },
   {
    "duration": 17,
    "start_time": "2023-06-06T09:57:30.811Z"
   },
   {
    "duration": 58,
    "start_time": "2023-06-06T09:57:30.830Z"
   },
   {
    "duration": 18,
    "start_time": "2023-06-06T09:57:30.889Z"
   },
   {
    "duration": 216,
    "start_time": "2023-06-06T09:57:30.908Z"
   },
   {
    "duration": 201,
    "start_time": "2023-06-06T09:57:31.126Z"
   },
   {
    "duration": 188,
    "start_time": "2023-06-06T09:57:31.329Z"
   },
   {
    "duration": 18,
    "start_time": "2023-06-06T09:57:31.518Z"
   },
   {
    "duration": 20,
    "start_time": "2023-06-06T09:57:31.538Z"
   },
   {
    "duration": 8,
    "start_time": "2023-06-06T09:58:10.535Z"
   },
   {
    "duration": 7,
    "start_time": "2023-06-06T09:58:18.818Z"
   },
   {
    "duration": 106,
    "start_time": "2023-06-06T09:58:32.230Z"
   },
   {
    "duration": 10,
    "start_time": "2023-06-06T09:58:37.137Z"
   },
   {
    "duration": 18,
    "start_time": "2023-06-06T09:59:09.021Z"
   },
   {
    "duration": 15,
    "start_time": "2023-06-06T09:59:19.730Z"
   },
   {
    "duration": 7,
    "start_time": "2023-06-06T09:59:32.633Z"
   },
   {
    "duration": 1488,
    "start_time": "2023-06-06T09:59:41.678Z"
   },
   {
    "duration": 7,
    "start_time": "2023-06-06T09:59:51.935Z"
   },
   {
    "duration": 11,
    "start_time": "2023-06-06T10:00:12.926Z"
   },
   {
    "duration": 68,
    "start_time": "2023-06-06T10:00:24.407Z"
   },
   {
    "duration": 9,
    "start_time": "2023-06-06T10:00:26.371Z"
   },
   {
    "duration": 8,
    "start_time": "2023-06-06T10:00:49.755Z"
   },
   {
    "duration": 7,
    "start_time": "2023-06-06T10:01:10.418Z"
   },
   {
    "duration": 14,
    "start_time": "2023-06-06T10:01:25.459Z"
   },
   {
    "duration": 11,
    "start_time": "2023-06-06T10:01:31.709Z"
   },
   {
    "duration": 9,
    "start_time": "2023-06-06T10:01:52.756Z"
   },
   {
    "duration": 9,
    "start_time": "2023-06-06T10:02:02.871Z"
   },
   {
    "duration": 8,
    "start_time": "2023-06-06T10:02:12.372Z"
   },
   {
    "duration": 8,
    "start_time": "2023-06-06T10:02:25.740Z"
   },
   {
    "duration": 7,
    "start_time": "2023-06-06T10:02:34.009Z"
   },
   {
    "duration": 4,
    "start_time": "2023-06-06T10:05:24.489Z"
   },
   {
    "duration": 11,
    "start_time": "2023-06-06T10:07:56.535Z"
   },
   {
    "duration": 3,
    "start_time": "2023-06-06T10:09:10.480Z"
   },
   {
    "duration": 4,
    "start_time": "2023-06-06T10:09:11.387Z"
   },
   {
    "duration": 85,
    "start_time": "2023-06-06T10:09:12.620Z"
   },
   {
    "duration": 14,
    "start_time": "2023-06-06T10:09:25.858Z"
   },
   {
    "duration": 3,
    "start_time": "2023-06-06T10:12:19.228Z"
   },
   {
    "duration": 3,
    "start_time": "2023-06-06T10:13:31.112Z"
   },
   {
    "duration": 2,
    "start_time": "2023-06-06T10:14:24.065Z"
   },
   {
    "duration": 12,
    "start_time": "2023-06-06T10:14:48.820Z"
   },
   {
    "duration": 11,
    "start_time": "2023-06-06T10:15:00.681Z"
   },
   {
    "duration": 4,
    "start_time": "2023-06-06T10:15:56.732Z"
   },
   {
    "duration": 5,
    "start_time": "2023-06-06T10:15:57.529Z"
   },
   {
    "duration": 4,
    "start_time": "2023-06-06T10:15:58.118Z"
   },
   {
    "duration": 22,
    "start_time": "2023-06-06T10:15:58.597Z"
   },
   {
    "duration": 4,
    "start_time": "2023-06-06T10:17:50.838Z"
   },
   {
    "duration": 3,
    "start_time": "2023-06-06T10:17:51.135Z"
   },
   {
    "duration": 23,
    "start_time": "2023-06-06T10:17:53.542Z"
   },
   {
    "duration": 16,
    "start_time": "2023-06-06T10:18:45.770Z"
   },
   {
    "duration": 14,
    "start_time": "2023-06-06T10:18:52.818Z"
   },
   {
    "duration": 14,
    "start_time": "2023-06-06T10:19:01.459Z"
   },
   {
    "duration": 14,
    "start_time": "2023-06-06T10:19:17.091Z"
   },
   {
    "duration": 14,
    "start_time": "2023-06-06T10:19:24.442Z"
   },
   {
    "duration": 4,
    "start_time": "2023-06-06T10:20:07.208Z"
   },
   {
    "duration": 5,
    "start_time": "2023-06-06T10:20:07.884Z"
   },
   {
    "duration": 13,
    "start_time": "2023-06-06T10:20:08.517Z"
   },
   {
    "duration": 4,
    "start_time": "2023-06-06T10:20:20.990Z"
   },
   {
    "duration": 3,
    "start_time": "2023-06-06T10:20:21.391Z"
   },
   {
    "duration": 3809,
    "start_time": "2023-06-06T10:20:21.652Z"
   },
   {
    "duration": 5,
    "start_time": "2023-06-06T10:20:28.177Z"
   },
   {
    "duration": 4,
    "start_time": "2023-06-06T10:20:28.440Z"
   },
   {
    "duration": 2016,
    "start_time": "2023-06-06T10:20:28.818Z"
   },
   {
    "duration": 7,
    "start_time": "2023-06-06T10:20:34.018Z"
   },
   {
    "duration": 6,
    "start_time": "2023-06-06T10:21:15.558Z"
   },
   {
    "duration": 6,
    "start_time": "2023-06-06T10:21:21.725Z"
   },
   {
    "duration": 7,
    "start_time": "2023-06-06T10:21:34.808Z"
   },
   {
    "duration": 5,
    "start_time": "2023-06-06T10:21:42.106Z"
   },
   {
    "duration": 4,
    "start_time": "2023-06-06T10:21:57.867Z"
   },
   {
    "duration": 17,
    "start_time": "2023-06-06T10:23:41.794Z"
   },
   {
    "duration": 14,
    "start_time": "2023-06-06T10:23:47.525Z"
   },
   {
    "duration": 14,
    "start_time": "2023-06-06T10:24:13.430Z"
   },
   {
    "duration": 9,
    "start_time": "2023-06-06T10:25:33.976Z"
   },
   {
    "duration": 9,
    "start_time": "2023-06-06T10:25:43.355Z"
   },
   {
    "duration": 5,
    "start_time": "2023-06-06T10:26:20.658Z"
   },
   {
    "duration": 20,
    "start_time": "2023-06-06T10:26:45.430Z"
   },
   {
    "duration": 19,
    "start_time": "2023-06-06T10:29:06.735Z"
   },
   {
    "duration": 3,
    "start_time": "2023-06-06T10:29:09.105Z"
   },
   {
    "duration": 4,
    "start_time": "2023-06-06T10:29:09.841Z"
   },
   {
    "duration": 4,
    "start_time": "2023-06-06T10:29:10.355Z"
   },
   {
    "duration": 1975,
    "start_time": "2023-06-06T10:29:10.706Z"
   },
   {
    "duration": 8,
    "start_time": "2023-06-06T10:29:12.683Z"
   },
   {
    "duration": 176,
    "start_time": "2023-06-06T10:29:50.984Z"
   },
   {
    "duration": 247,
    "start_time": "2023-06-06T10:30:11.019Z"
   },
   {
    "duration": 323,
    "start_time": "2023-06-06T10:30:27.025Z"
   },
   {
    "duration": 336,
    "start_time": "2023-06-06T10:30:45.358Z"
   },
   {
    "duration": 263,
    "start_time": "2023-06-06T10:32:05.839Z"
   },
   {
    "duration": 272,
    "start_time": "2023-06-06T10:32:43.420Z"
   },
   {
    "duration": 247,
    "start_time": "2023-06-06T10:32:50.355Z"
   },
   {
    "duration": 339,
    "start_time": "2023-06-06T10:33:12.724Z"
   },
   {
    "duration": 4,
    "start_time": "2023-06-06T10:33:25.576Z"
   },
   {
    "duration": 264,
    "start_time": "2023-06-06T10:33:35.055Z"
   },
   {
    "duration": 274,
    "start_time": "2023-06-06T10:33:45.670Z"
   },
   {
    "duration": 276,
    "start_time": "2023-06-06T10:33:50.850Z"
   },
   {
    "duration": 741,
    "start_time": "2023-06-06T10:36:18.053Z"
   },
   {
    "duration": 5,
    "start_time": "2023-06-06T10:36:23.965Z"
   },
   {
    "duration": 4,
    "start_time": "2023-06-06T10:36:24.281Z"
   },
   {
    "duration": 2417,
    "start_time": "2023-06-06T10:36:24.661Z"
   },
   {
    "duration": 113,
    "start_time": "2023-06-06T10:36:46.505Z"
   },
   {
    "duration": 86,
    "start_time": "2023-06-06T10:37:13.421Z"
   },
   {
    "duration": 103,
    "start_time": "2023-06-06T10:37:20.389Z"
   },
   {
    "duration": 95,
    "start_time": "2023-06-06T10:37:45.935Z"
   },
   {
    "duration": 98,
    "start_time": "2023-06-06T10:38:34.045Z"
   },
   {
    "duration": 120,
    "start_time": "2023-06-06T10:38:41.661Z"
   },
   {
    "duration": 99,
    "start_time": "2023-06-06T10:38:50.585Z"
   },
   {
    "duration": 150,
    "start_time": "2023-06-06T10:39:04.046Z"
   },
   {
    "duration": 112,
    "start_time": "2023-06-06T10:39:13.177Z"
   },
   {
    "duration": 113,
    "start_time": "2023-06-06T10:39:15.942Z"
   },
   {
    "duration": 105,
    "start_time": "2023-06-06T10:39:24.537Z"
   },
   {
    "duration": 7,
    "start_time": "2023-06-06T10:39:45.688Z"
   },
   {
    "duration": 11,
    "start_time": "2023-06-06T10:40:23.137Z"
   },
   {
    "duration": 97,
    "start_time": "2023-06-06T10:41:27.056Z"
   },
   {
    "duration": 98,
    "start_time": "2023-06-06T10:41:45.895Z"
   },
   {
    "duration": 302,
    "start_time": "2023-06-06T10:42:00.341Z"
   },
   {
    "duration": 4,
    "start_time": "2023-06-06T10:50:59.472Z"
   },
   {
    "duration": 53,
    "start_time": "2023-06-06T10:51:09.266Z"
   },
   {
    "duration": 33,
    "start_time": "2023-06-06T10:51:24.999Z"
   },
   {
    "duration": 4,
    "start_time": "2023-06-06T10:51:50.397Z"
   },
   {
    "duration": 46,
    "start_time": "2023-06-06T10:51:57.661Z"
   },
   {
    "duration": 3,
    "start_time": "2023-06-06T10:54:12.827Z"
   },
   {
    "duration": 339,
    "start_time": "2023-06-06T10:54:12.842Z"
   },
   {
    "duration": 3,
    "start_time": "2023-06-06T10:54:13.183Z"
   },
   {
    "duration": 362,
    "start_time": "2023-06-06T10:54:13.188Z"
   },
   {
    "duration": 480,
    "start_time": "2023-06-06T10:54:13.552Z"
   },
   {
    "duration": 382,
    "start_time": "2023-06-06T10:54:14.034Z"
   },
   {
    "duration": 106,
    "start_time": "2023-06-06T10:54:14.418Z"
   },
   {
    "duration": 36,
    "start_time": "2023-06-06T10:54:14.525Z"
   },
   {
    "duration": 77,
    "start_time": "2023-06-06T10:54:14.562Z"
   },
   {
    "duration": 22,
    "start_time": "2023-06-06T10:54:14.641Z"
   },
   {
    "duration": 19,
    "start_time": "2023-06-06T10:54:14.665Z"
   },
   {
    "duration": 46,
    "start_time": "2023-06-06T10:54:14.686Z"
   },
   {
    "duration": 7,
    "start_time": "2023-06-06T10:54:14.733Z"
   },
   {
    "duration": 29,
    "start_time": "2023-06-06T10:54:14.742Z"
   },
   {
    "duration": 52,
    "start_time": "2023-06-06T10:54:14.773Z"
   },
   {
    "duration": 102,
    "start_time": "2023-06-06T10:54:14.827Z"
   },
   {
    "duration": 186,
    "start_time": "2023-06-06T10:54:14.930Z"
   },
   {
    "duration": 3,
    "start_time": "2023-06-06T10:54:15.118Z"
   },
   {
    "duration": 102,
    "start_time": "2023-06-06T10:54:15.123Z"
   },
   {
    "duration": 22,
    "start_time": "2023-06-06T10:54:15.226Z"
   },
   {
    "duration": 13,
    "start_time": "2023-06-06T10:54:15.251Z"
   },
   {
    "duration": 21,
    "start_time": "2023-06-06T10:54:15.266Z"
   },
   {
    "duration": 20,
    "start_time": "2023-06-06T10:54:15.289Z"
   },
   {
    "duration": 28,
    "start_time": "2023-06-06T10:54:15.310Z"
   },
   {
    "duration": 18,
    "start_time": "2023-06-06T10:54:15.340Z"
   },
   {
    "duration": 21,
    "start_time": "2023-06-06T10:54:15.360Z"
   },
   {
    "duration": 14,
    "start_time": "2023-06-06T10:54:15.383Z"
   },
   {
    "duration": 2088,
    "start_time": "2023-06-06T10:54:15.398Z"
   },
   {
    "duration": 6,
    "start_time": "2023-06-06T10:54:17.489Z"
   },
   {
    "duration": 306,
    "start_time": "2023-06-06T10:54:17.499Z"
   },
   {
    "duration": 299,
    "start_time": "2023-06-06T10:54:17.806Z"
   },
   {
    "duration": 11,
    "start_time": "2023-06-06T10:54:18.106Z"
   },
   {
    "duration": 52,
    "start_time": "2023-06-06T10:54:18.119Z"
   },
   {
    "duration": 4,
    "start_time": "2023-06-06T10:54:18.173Z"
   },
   {
    "duration": 14,
    "start_time": "2023-06-06T10:54:18.178Z"
   },
   {
    "duration": 2419,
    "start_time": "2023-06-06T10:54:25.065Z"
   },
   {
    "duration": 328,
    "start_time": "2023-06-06T10:54:27.486Z"
   },
   {
    "duration": 4,
    "start_time": "2023-06-06T10:54:27.815Z"
   },
   {
    "duration": 410,
    "start_time": "2023-06-06T10:54:27.821Z"
   },
   {
    "duration": 423,
    "start_time": "2023-06-06T10:54:28.232Z"
   },
   {
    "duration": 377,
    "start_time": "2023-06-06T10:54:28.657Z"
   },
   {
    "duration": 116,
    "start_time": "2023-06-06T10:54:29.036Z"
   },
   {
    "duration": 34,
    "start_time": "2023-06-06T10:54:29.153Z"
   },
   {
    "duration": 78,
    "start_time": "2023-06-06T10:54:29.189Z"
   },
   {
    "duration": 62,
    "start_time": "2023-06-06T10:54:29.269Z"
   },
   {
    "duration": 17,
    "start_time": "2023-06-06T10:54:29.333Z"
   },
   {
    "duration": 18,
    "start_time": "2023-06-06T10:54:29.351Z"
   },
   {
    "duration": 8,
    "start_time": "2023-06-06T10:54:29.370Z"
   },
   {
    "duration": 49,
    "start_time": "2023-06-06T10:54:29.380Z"
   },
   {
    "duration": 16,
    "start_time": "2023-06-06T10:54:29.431Z"
   },
   {
    "duration": 105,
    "start_time": "2023-06-06T10:54:29.515Z"
   },
   {
    "duration": 117,
    "start_time": "2023-06-06T10:54:29.621Z"
   },
   {
    "duration": 176,
    "start_time": "2023-06-06T10:54:29.740Z"
   },
   {
    "duration": 27,
    "start_time": "2023-06-06T10:54:29.918Z"
   },
   {
    "duration": 14,
    "start_time": "2023-06-06T10:54:29.946Z"
   },
   {
    "duration": 9,
    "start_time": "2023-06-06T10:54:29.961Z"
   },
   {
    "duration": 13,
    "start_time": "2023-06-06T10:54:29.972Z"
   },
   {
    "duration": 28,
    "start_time": "2023-06-06T10:54:29.986Z"
   },
   {
    "duration": 68,
    "start_time": "2023-06-06T10:54:30.016Z"
   },
   {
    "duration": 41,
    "start_time": "2023-06-06T10:54:30.086Z"
   },
   {
    "duration": 31,
    "start_time": "2023-06-06T10:54:30.129Z"
   },
   {
    "duration": 39,
    "start_time": "2023-06-06T10:54:30.162Z"
   },
   {
    "duration": 2169,
    "start_time": "2023-06-06T10:54:30.205Z"
   },
   {
    "duration": 7,
    "start_time": "2023-06-06T10:54:32.375Z"
   },
   {
    "duration": 282,
    "start_time": "2023-06-06T10:54:32.384Z"
   },
   {
    "duration": 349,
    "start_time": "2023-06-06T10:54:32.668Z"
   },
   {
    "duration": 4,
    "start_time": "2023-06-06T10:54:33.019Z"
   },
   {
    "duration": 90,
    "start_time": "2023-06-06T10:54:33.025Z"
   },
   {
    "duration": 36,
    "start_time": "2023-06-06T10:54:33.117Z"
   },
   {
    "duration": 16,
    "start_time": "2023-06-06T10:54:33.154Z"
   },
   {
    "duration": 14099,
    "start_time": "2023-06-06T10:54:33.171Z"
   },
   {
    "duration": 236,
    "start_time": "2023-06-06T10:56:54.088Z"
   },
   {
    "duration": 106,
    "start_time": "2023-06-06T10:59:13.568Z"
   },
   {
    "duration": 118,
    "start_time": "2023-06-06T10:59:18.637Z"
   },
   {
    "duration": 67,
    "start_time": "2023-06-06T10:59:44.702Z"
   },
   {
    "duration": 128,
    "start_time": "2023-06-06T10:59:50.819Z"
   },
   {
    "duration": 195,
    "start_time": "2023-06-06T10:59:55.048Z"
   },
   {
    "duration": 124,
    "start_time": "2023-06-06T11:00:09.500Z"
   },
   {
    "duration": 120,
    "start_time": "2023-06-06T11:04:36.537Z"
   },
   {
    "duration": 8,
    "start_time": "2023-06-06T17:56:56.875Z"
   },
   {
    "duration": 1597,
    "start_time": "2023-06-06T18:09:22.108Z"
   },
   {
    "duration": 686,
    "start_time": "2023-06-06T18:09:23.707Z"
   },
   {
    "duration": 3,
    "start_time": "2023-06-06T18:09:24.394Z"
   },
   {
    "duration": 437,
    "start_time": "2023-06-06T18:09:24.399Z"
   },
   {
    "duration": 401,
    "start_time": "2023-06-06T18:09:24.838Z"
   },
   {
    "duration": 363,
    "start_time": "2023-06-06T18:09:25.240Z"
   },
   {
    "duration": 113,
    "start_time": "2023-06-06T18:09:25.604Z"
   },
   {
    "duration": 34,
    "start_time": "2023-06-06T18:09:25.719Z"
   },
   {
    "duration": 75,
    "start_time": "2023-06-06T18:09:25.754Z"
   },
   {
    "duration": 53,
    "start_time": "2023-06-06T18:09:25.831Z"
   },
   {
    "duration": 18,
    "start_time": "2023-06-06T18:09:25.885Z"
   },
   {
    "duration": 27,
    "start_time": "2023-06-06T18:09:25.904Z"
   },
   {
    "duration": 7,
    "start_time": "2023-06-06T18:09:25.932Z"
   },
   {
    "duration": 42,
    "start_time": "2023-06-06T18:09:25.942Z"
   },
   {
    "duration": 36,
    "start_time": "2023-06-06T18:09:25.985Z"
   },
   {
    "duration": 195,
    "start_time": "2023-06-06T18:09:26.023Z"
   },
   {
    "duration": 104,
    "start_time": "2023-06-06T18:09:26.219Z"
   },
   {
    "duration": 93,
    "start_time": "2023-06-06T18:09:26.326Z"
   },
   {
    "duration": 16,
    "start_time": "2023-06-06T18:09:26.421Z"
   },
   {
    "duration": 2,
    "start_time": "2023-06-06T18:09:26.518Z"
   },
   {
    "duration": 9,
    "start_time": "2023-06-06T18:09:26.521Z"
   },
   {
    "duration": 8,
    "start_time": "2023-06-06T18:09:26.531Z"
   },
   {
    "duration": 11,
    "start_time": "2023-06-06T18:09:26.540Z"
   },
   {
    "duration": 5,
    "start_time": "2023-06-06T18:09:26.553Z"
   },
   {
    "duration": 28,
    "start_time": "2023-06-06T18:09:26.560Z"
   },
   {
    "duration": 3,
    "start_time": "2023-06-06T18:09:26.589Z"
   },
   {
    "duration": 11,
    "start_time": "2023-06-06T18:09:26.593Z"
   },
   {
    "duration": 14,
    "start_time": "2023-06-06T18:09:26.605Z"
   },
   {
    "duration": 5960,
    "start_time": "2023-06-06T18:09:26.620Z"
   },
   {
    "duration": 5,
    "start_time": "2023-06-06T18:09:32.582Z"
   },
   {
    "duration": 273,
    "start_time": "2023-06-06T18:09:32.589Z"
   },
   {
    "duration": 132,
    "start_time": "2023-06-06T18:09:32.864Z"
   },
   {
    "duration": 5,
    "start_time": "2023-06-06T18:09:32.998Z"
   },
   {
    "duration": 60,
    "start_time": "2023-06-06T18:09:33.005Z"
   },
   {
    "duration": 3,
    "start_time": "2023-06-06T18:09:33.067Z"
   },
   {
    "duration": 15,
    "start_time": "2023-06-06T18:09:33.071Z"
   },
   {
    "duration": 12999,
    "start_time": "2023-06-06T18:09:33.088Z"
   },
   {
    "duration": 1331,
    "start_time": "2023-06-06T18:12:45.262Z"
   },
   {
    "duration": 336,
    "start_time": "2023-06-06T18:12:46.595Z"
   },
   {
    "duration": 3,
    "start_time": "2023-06-06T18:12:46.933Z"
   },
   {
    "duration": 388,
    "start_time": "2023-06-06T18:12:46.937Z"
   },
   {
    "duration": 412,
    "start_time": "2023-06-06T18:12:47.327Z"
   },
   {
    "duration": 404,
    "start_time": "2023-06-06T18:12:47.741Z"
   },
   {
    "duration": 114,
    "start_time": "2023-06-06T18:12:48.147Z"
   },
   {
    "duration": 38,
    "start_time": "2023-06-06T18:12:48.263Z"
   },
   {
    "duration": 71,
    "start_time": "2023-06-06T18:12:48.302Z"
   },
   {
    "duration": 89,
    "start_time": "2023-06-06T18:12:48.374Z"
   },
   {
    "duration": 18,
    "start_time": "2023-06-06T18:12:48.465Z"
   },
   {
    "duration": 16,
    "start_time": "2023-06-06T18:12:48.484Z"
   },
   {
    "duration": 21,
    "start_time": "2023-06-06T18:12:48.501Z"
   },
   {
    "duration": 37,
    "start_time": "2023-06-06T18:12:48.525Z"
   },
   {
    "duration": 61,
    "start_time": "2023-06-06T18:12:48.563Z"
   },
   {
    "duration": 17,
    "start_time": "2023-06-06T18:12:48.717Z"
   },
   {
    "duration": 188,
    "start_time": "2023-06-06T18:12:48.735Z"
   },
   {
    "duration": 95,
    "start_time": "2023-06-06T18:12:48.924Z"
   },
   {
    "duration": 99,
    "start_time": "2023-06-06T18:12:49.020Z"
   },
   {
    "duration": 17,
    "start_time": "2023-06-06T18:12:49.121Z"
   },
   {
    "duration": 17,
    "start_time": "2023-06-06T18:12:49.139Z"
   },
   {
    "duration": 9,
    "start_time": "2023-06-06T18:12:49.157Z"
   },
   {
    "duration": 12,
    "start_time": "2023-06-06T18:12:49.168Z"
   },
   {
    "duration": 5,
    "start_time": "2023-06-06T18:12:49.181Z"
   },
   {
    "duration": 28,
    "start_time": "2023-06-06T18:12:49.188Z"
   },
   {
    "duration": 3,
    "start_time": "2023-06-06T18:12:49.218Z"
   },
   {
    "duration": 15,
    "start_time": "2023-06-06T18:12:49.222Z"
   },
   {
    "duration": 24,
    "start_time": "2023-06-06T18:12:49.239Z"
   },
   {
    "duration": 3789,
    "start_time": "2023-06-06T18:12:49.265Z"
   },
   {
    "duration": 6,
    "start_time": "2023-06-06T18:12:53.056Z"
   },
   {
    "duration": 267,
    "start_time": "2023-06-06T18:12:53.063Z"
   },
   {
    "duration": 129,
    "start_time": "2023-06-06T18:12:53.331Z"
   },
   {
    "duration": 4,
    "start_time": "2023-06-06T18:12:53.461Z"
   },
   {
    "duration": 69,
    "start_time": "2023-06-06T18:12:53.466Z"
   },
   {
    "duration": 3,
    "start_time": "2023-06-06T18:12:53.537Z"
   },
   {
    "duration": 17,
    "start_time": "2023-06-06T18:12:53.542Z"
   },
   {
    "duration": 12487,
    "start_time": "2023-06-06T18:12:53.561Z"
   }
  ],
  "kernelspec": {
   "display_name": "Python 3 (ipykernel)",
   "language": "python",
   "name": "python3"
  },
  "language_info": {
   "codemirror_mode": {
    "name": "ipython",
    "version": 3
   },
   "file_extension": ".py",
   "mimetype": "text/x-python",
   "name": "python",
   "nbconvert_exporter": "python",
   "pygments_lexer": "ipython3",
   "version": "3.9.18"
  },
  "toc": {
   "base_numbering": 1,
   "nav_menu": {},
   "number_sections": true,
   "sideBar": true,
   "skip_h1_title": true,
   "title_cell": "Содержание",
   "title_sidebar": "Contents",
   "toc_cell": true,
   "toc_position": {
    "height": "calc(100% - 180px)",
    "left": "10px",
    "top": "150px",
    "width": "273.188px"
   },
   "toc_section_display": true,
   "toc_window_display": false
  }
 },
 "nbformat": 4,
 "nbformat_minor": 4
}
