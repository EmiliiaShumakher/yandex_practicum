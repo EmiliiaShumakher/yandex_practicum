{
 "cells": [
  {
   "cell_type": "markdown",
   "metadata": {
    "toc": true
   },
   "source": [
    "<h1>Table of Contents<span class=\"tocSkip\"></span></h1>\n",
    "<div class=\"toc\"><ul class=\"toc-item\"><li><span><a href=\"#Откройте-и-изучите-файл\" data-toc-modified-id=\"Откройте-и-изучите-файл-1\"><span class=\"toc-item-num\">1&nbsp;&nbsp;</span>Откройте и изучите файл</a></span><ul class=\"toc-item\"><li><span><a href=\"#Вывод\" data-toc-modified-id=\"Вывод-1.1\"><span class=\"toc-item-num\">1.1&nbsp;&nbsp;</span>Вывод</a></span></li></ul></li><li><span><a href=\"#Разбейте-данные-на-выборки\" data-toc-modified-id=\"Разбейте-данные-на-выборки-2\"><span class=\"toc-item-num\">2&nbsp;&nbsp;</span>Разбейте данные на выборки</a></span><ul class=\"toc-item\"><li><span><a href=\"#Вывод\" data-toc-modified-id=\"Вывод-2.1\"><span class=\"toc-item-num\">2.1&nbsp;&nbsp;</span>Вывод</a></span></li></ul></li><li><span><a href=\"#Исследуйте-модели\" data-toc-modified-id=\"Исследуйте-модели-3\"><span class=\"toc-item-num\">3&nbsp;&nbsp;</span>Исследуйте модели</a></span><ul class=\"toc-item\"><li><span><a href=\"#Логистическая-регрессия\" data-toc-modified-id=\"Логистическая-регрессия-3.1\"><span class=\"toc-item-num\">3.1&nbsp;&nbsp;</span>Логистическая регрессия</a></span></li><li><span><a href=\"#Решающее-дерево\" data-toc-modified-id=\"Решающее-дерево-3.2\"><span class=\"toc-item-num\">3.2&nbsp;&nbsp;</span>Решающее дерево</a></span></li><li><span><a href=\"#Рандомный-лес\" data-toc-modified-id=\"Рандомный-лес-3.3\"><span class=\"toc-item-num\">3.3&nbsp;&nbsp;</span>Рандомный лес</a></span></li><li><span><a href=\"#Вывод\" data-toc-modified-id=\"Вывод-3.4\"><span class=\"toc-item-num\">3.4&nbsp;&nbsp;</span>Вывод</a></span></li></ul></li><li><span><a href=\"#Проверьте-модель-на-тестовой-выборке\" data-toc-modified-id=\"Проверьте-модель-на-тестовой-выборке-4\"><span class=\"toc-item-num\">4&nbsp;&nbsp;</span>Проверьте модель на тестовой выборке</a></span></li><li><span><a href=\"#(бонус)-Проверьте-модели-на-адекватность\" data-toc-modified-id=\"(бонус)-Проверьте-модели-на-адекватность-5\"><span class=\"toc-item-num\">5&nbsp;&nbsp;</span>(бонус) Проверьте модели на адекватность</a></span></li><li><span><a href=\"#Вывод\" data-toc-modified-id=\"Вывод-6\"><span class=\"toc-item-num\">6&nbsp;&nbsp;</span>Вывод</a></span></li><li><span><a href=\"#Чек-лист-готовности-проекта\" data-toc-modified-id=\"Чек-лист-готовности-проекта-7\"><span class=\"toc-item-num\">7&nbsp;&nbsp;</span>Чек-лист готовности проекта</a></span></li></ul></div>"
   ]
  },
  {
   "cell_type": "markdown",
   "metadata": {},
   "source": [
    "# Рекомендация тарифов"
   ]
  },
  {
   "cell_type": "markdown",
   "metadata": {},
   "source": [
    "Оператор мобильной связи «Мегалайн» выяснил: многие клиенты пользуются архивными тарифами. Они хотят построить систему, способную проанализировать поведение клиентов и предложить пользователям новый тариф: «Смарт» или «Ультра».\n",
    "\n",
    "В вашем распоряжении данные о поведении клиентов, которые уже перешли на эти тарифы (из проекта курса «Статистический анализ данных»). Нужно построить модель для задачи классификации, которая выберет подходящий тариф. Предобработка данных не понадобится — вы её уже сделали.\n",
    "\n",
    "Постройте модель с максимально большим значением *accuracy*. Чтобы сдать проект успешно, нужно довести долю правильных ответов по крайней мере до 0.75. Проверьте *accuracy* на тестовой выборке самостоятельно."
   ]
  },
  {
   "cell_type": "markdown",
   "metadata": {},
   "source": [
    "Описание данных\n",
    "\r\n",
    "Каждый объект в наборе данных — это информация о поведении одного пользователя за месяц. Известно:\r\n",
    "* `сalls` — количество звонков,\r\n",
    "* `minutes` — суммарная длительность звонков в минутах,\r\n",
    "* `messages` — количество sms-сообщений,\r\n",
    "* `mb_used` — израсходованный интернет-трафик в Мб,\r\n",
    "* `is_ultra` — каким тарифом пользовался в течение месяца («Ультра» — 1, «Смарт» — 0)."
   ]
  },
  {
   "cell_type": "markdown",
   "metadata": {},
   "source": [
    "## Обзор данных"
   ]
  },
  {
   "cell_type": "code",
   "execution_count": 38,
   "metadata": {
    "tags": []
   },
   "outputs": [],
   "source": [
    "import pandas as pd\n",
    "import numpy as np\n",
    "import time\n",
    "import seaborn as sns\n",
    "\n",
    "from sklearn.tree import DecisionTreeClassifier\n",
    "from sklearn.ensemble import RandomForestClassifier\n",
    "from sklearn.linear_model import LogisticRegression\n",
    "from sklearn.model_selection import train_test_split\n",
    "from sklearn.metrics import accuracy_score\n",
    "from sklearn.dummy import DummyClassifier"
   ]
  },
  {
   "cell_type": "code",
   "execution_count": 20,
   "metadata": {
    "tags": []
   },
   "outputs": [],
   "source": [
    "try:\n",
    "    data = pd.read_csv('/datasets/users_behavior.csv')\n",
    "except:\n",
    "    data = pd.read_csv('https://code.s3.yandex.net/datasets/users_behavior.csv')"
   ]
  },
  {
   "cell_type": "code",
   "execution_count": 21,
   "metadata": {
    "tags": []
   },
   "outputs": [
    {
     "data": {
      "text/html": [
       "<div>\n",
       "<style scoped>\n",
       "    .dataframe tbody tr th:only-of-type {\n",
       "        vertical-align: middle;\n",
       "    }\n",
       "\n",
       "    .dataframe tbody tr th {\n",
       "        vertical-align: top;\n",
       "    }\n",
       "\n",
       "    .dataframe thead th {\n",
       "        text-align: right;\n",
       "    }\n",
       "</style>\n",
       "<table border=\"1\" class=\"dataframe\">\n",
       "  <thead>\n",
       "    <tr style=\"text-align: right;\">\n",
       "      <th></th>\n",
       "      <th>calls</th>\n",
       "      <th>minutes</th>\n",
       "      <th>messages</th>\n",
       "      <th>mb_used</th>\n",
       "      <th>is_ultra</th>\n",
       "    </tr>\n",
       "  </thead>\n",
       "  <tbody>\n",
       "    <tr>\n",
       "      <th>0</th>\n",
       "      <td>40.0</td>\n",
       "      <td>311.90</td>\n",
       "      <td>83.0</td>\n",
       "      <td>19915.42</td>\n",
       "      <td>0</td>\n",
       "    </tr>\n",
       "    <tr>\n",
       "      <th>1</th>\n",
       "      <td>85.0</td>\n",
       "      <td>516.75</td>\n",
       "      <td>56.0</td>\n",
       "      <td>22696.96</td>\n",
       "      <td>0</td>\n",
       "    </tr>\n",
       "    <tr>\n",
       "      <th>2</th>\n",
       "      <td>77.0</td>\n",
       "      <td>467.66</td>\n",
       "      <td>86.0</td>\n",
       "      <td>21060.45</td>\n",
       "      <td>0</td>\n",
       "    </tr>\n",
       "    <tr>\n",
       "      <th>3</th>\n",
       "      <td>106.0</td>\n",
       "      <td>745.53</td>\n",
       "      <td>81.0</td>\n",
       "      <td>8437.39</td>\n",
       "      <td>1</td>\n",
       "    </tr>\n",
       "    <tr>\n",
       "      <th>4</th>\n",
       "      <td>66.0</td>\n",
       "      <td>418.74</td>\n",
       "      <td>1.0</td>\n",
       "      <td>14502.75</td>\n",
       "      <td>0</td>\n",
       "    </tr>\n",
       "  </tbody>\n",
       "</table>\n",
       "</div>"
      ],
      "text/plain": [
       "   calls  minutes  messages   mb_used  is_ultra\n",
       "0   40.0   311.90      83.0  19915.42         0\n",
       "1   85.0   516.75      56.0  22696.96         0\n",
       "2   77.0   467.66      86.0  21060.45         0\n",
       "3  106.0   745.53      81.0   8437.39         1\n",
       "4   66.0   418.74       1.0  14502.75         0"
      ]
     },
     "execution_count": 21,
     "metadata": {},
     "output_type": "execute_result"
    }
   ],
   "source": [
    "data.head()"
   ]
  },
  {
   "cell_type": "code",
   "execution_count": 22,
   "metadata": {
    "tags": []
   },
   "outputs": [
    {
     "name": "stdout",
     "output_type": "stream",
     "text": [
      "<class 'pandas.core.frame.DataFrame'>\n",
      "RangeIndex: 3214 entries, 0 to 3213\n",
      "Data columns (total 5 columns):\n",
      " #   Column    Non-Null Count  Dtype  \n",
      "---  ------    --------------  -----  \n",
      " 0   calls     3214 non-null   float64\n",
      " 1   minutes   3214 non-null   float64\n",
      " 2   messages  3214 non-null   float64\n",
      " 3   mb_used   3214 non-null   float64\n",
      " 4   is_ultra  3214 non-null   int64  \n",
      "dtypes: float64(4), int64(1)\n",
      "memory usage: 125.7 KB\n"
     ]
    }
   ],
   "source": [
    "data.info()"
   ]
  },
  {
   "cell_type": "code",
   "execution_count": 23,
   "metadata": {
    "tags": []
   },
   "outputs": [
    {
     "data": {
      "text/html": [
       "<div>\n",
       "<style scoped>\n",
       "    .dataframe tbody tr th:only-of-type {\n",
       "        vertical-align: middle;\n",
       "    }\n",
       "\n",
       "    .dataframe tbody tr th {\n",
       "        vertical-align: top;\n",
       "    }\n",
       "\n",
       "    .dataframe thead th {\n",
       "        text-align: right;\n",
       "    }\n",
       "</style>\n",
       "<table border=\"1\" class=\"dataframe\">\n",
       "  <thead>\n",
       "    <tr style=\"text-align: right;\">\n",
       "      <th></th>\n",
       "      <th>calls</th>\n",
       "      <th>minutes</th>\n",
       "      <th>messages</th>\n",
       "      <th>mb_used</th>\n",
       "      <th>is_ultra</th>\n",
       "    </tr>\n",
       "  </thead>\n",
       "  <tbody>\n",
       "    <tr>\n",
       "      <th>count</th>\n",
       "      <td>3214.000000</td>\n",
       "      <td>3214.000000</td>\n",
       "      <td>3214.000000</td>\n",
       "      <td>3214.000000</td>\n",
       "      <td>3214.000000</td>\n",
       "    </tr>\n",
       "    <tr>\n",
       "      <th>mean</th>\n",
       "      <td>63.038892</td>\n",
       "      <td>438.208787</td>\n",
       "      <td>38.281269</td>\n",
       "      <td>17207.673836</td>\n",
       "      <td>0.306472</td>\n",
       "    </tr>\n",
       "    <tr>\n",
       "      <th>std</th>\n",
       "      <td>33.236368</td>\n",
       "      <td>234.569872</td>\n",
       "      <td>36.148326</td>\n",
       "      <td>7570.968246</td>\n",
       "      <td>0.461100</td>\n",
       "    </tr>\n",
       "    <tr>\n",
       "      <th>min</th>\n",
       "      <td>0.000000</td>\n",
       "      <td>0.000000</td>\n",
       "      <td>0.000000</td>\n",
       "      <td>0.000000</td>\n",
       "      <td>0.000000</td>\n",
       "    </tr>\n",
       "    <tr>\n",
       "      <th>25%</th>\n",
       "      <td>40.000000</td>\n",
       "      <td>274.575000</td>\n",
       "      <td>9.000000</td>\n",
       "      <td>12491.902500</td>\n",
       "      <td>0.000000</td>\n",
       "    </tr>\n",
       "    <tr>\n",
       "      <th>50%</th>\n",
       "      <td>62.000000</td>\n",
       "      <td>430.600000</td>\n",
       "      <td>30.000000</td>\n",
       "      <td>16943.235000</td>\n",
       "      <td>0.000000</td>\n",
       "    </tr>\n",
       "    <tr>\n",
       "      <th>75%</th>\n",
       "      <td>82.000000</td>\n",
       "      <td>571.927500</td>\n",
       "      <td>57.000000</td>\n",
       "      <td>21424.700000</td>\n",
       "      <td>1.000000</td>\n",
       "    </tr>\n",
       "    <tr>\n",
       "      <th>max</th>\n",
       "      <td>244.000000</td>\n",
       "      <td>1632.060000</td>\n",
       "      <td>224.000000</td>\n",
       "      <td>49745.730000</td>\n",
       "      <td>1.000000</td>\n",
       "    </tr>\n",
       "  </tbody>\n",
       "</table>\n",
       "</div>"
      ],
      "text/plain": [
       "             calls      minutes     messages       mb_used     is_ultra\n",
       "count  3214.000000  3214.000000  3214.000000   3214.000000  3214.000000\n",
       "mean     63.038892   438.208787    38.281269  17207.673836     0.306472\n",
       "std      33.236368   234.569872    36.148326   7570.968246     0.461100\n",
       "min       0.000000     0.000000     0.000000      0.000000     0.000000\n",
       "25%      40.000000   274.575000     9.000000  12491.902500     0.000000\n",
       "50%      62.000000   430.600000    30.000000  16943.235000     0.000000\n",
       "75%      82.000000   571.927500    57.000000  21424.700000     1.000000\n",
       "max     244.000000  1632.060000   224.000000  49745.730000     1.000000"
      ]
     },
     "execution_count": 23,
     "metadata": {},
     "output_type": "execute_result"
    }
   ],
   "source": [
    "data.describe()"
   ]
  },
  {
   "cell_type": "markdown",
   "metadata": {},
   "source": [
    "### Вывод"
   ]
  },
  {
   "cell_type": "markdown",
   "metadata": {},
   "source": [
    "Пропусков нет, все типы данных в порядке, значения тоже выглядят нормально. Предобработка и правда не нужна."
   ]
  },
  {
   "cell_type": "markdown",
   "metadata": {
    "toc-hr-collapsed": true
   },
   "source": [
    "## Разбейте данные на выборки"
   ]
  },
  {
   "cell_type": "markdown",
   "metadata": {},
   "source": [
    "Целевой признак это тариф, выделим его в одну переменную, а все остальные признаки в дргую."
   ]
  },
  {
   "cell_type": "code",
   "execution_count": 25,
   "metadata": {},
   "outputs": [
    {
     "name": "stdout",
     "output_type": "stream",
     "text": [
      "(3214, 4)\n"
     ]
    },
    {
     "data": {
      "text/plain": [
       "(3214,)"
      ]
     },
     "execution_count": 25,
     "metadata": {},
     "output_type": "execute_result"
    }
   ],
   "source": [
    "features = data.drop(['is_ultra'], axis=1)\n",
    "target = data['is_ultra']\n",
    "print(features.shape)\n",
    "target.shape"
   ]
  },
  {
   "cell_type": "code",
   "execution_count": 26,
   "metadata": {
    "tags": []
   },
   "outputs": [
    {
     "data": {
      "text/plain": [
       "0    2229\n",
       "1     985\n",
       "Name: is_ultra, dtype: int64"
      ]
     },
     "execution_count": 26,
     "metadata": {},
     "output_type": "execute_result"
    }
   ],
   "source": [
    "target.value_counts()"
   ]
  },
  {
   "cell_type": "markdown",
   "metadata": {},
   "source": [
    "Доля классов не равна. Но треть это достаточно много, обучить модель можно."
   ]
  },
  {
   "cell_type": "markdown",
   "metadata": {},
   "source": [
    "Датасет делим на три части: тренировочная, валидационная и тестовая в соотношении 3:1:1.  \n",
    "Сначачла выделим 60% в тренировочную часть, потом оставшиеся 40% поделим поплам."
   ]
  },
  {
   "cell_type": "code",
   "execution_count": 43,
   "metadata": {},
   "outputs": [
    {
     "name": "stdout",
     "output_type": "stream",
     "text": [
      "Тренировочные данные:  (1928, 4) (1928,)\n",
      "Валидационные данные:  (643, 4) (643,)\n",
      "Тестовые данные:  (643, 4) (643,)\n"
     ]
    }
   ],
   "source": [
    "features_train, features_test, target_train, target_test = train_test_split(features, target, test_size=0.4, random_state=123)\n",
    "\n",
    "features_test, features_valid, target_test, target_valid  = train_test_split(features_test, target_test, test_size=0.5, random_state=123) \n",
    "\n",
    "print('Тренировочные данные: ', features_train.shape, target_train.shape)\n",
    "print('Валидационные данные: ', features_valid.shape, target_valid.shape)\n",
    "print('Тестовые данные: ', features_test.shape, target_test.shape)"
   ]
  },
  {
   "cell_type": "markdown",
   "metadata": {},
   "source": [
    "### Вывод"
   ]
  },
  {
   "cell_type": "markdown",
   "metadata": {
    "tags": []
   },
   "source": [
    "Данные разделены на три выборки: тренировочная, валидационная и тестовая в соотношении 3:1:1.  \n",
    "На тренировочных данных модели будут обучаться, по валидационным данным проведём предварительное сравнение точности, а по тестовым данным финальное сравнение точности."
   ]
  },
  {
   "cell_type": "markdown",
   "metadata": {},
   "source": [
    "## Исследуйте модели"
   ]
  },
  {
   "cell_type": "markdown",
   "metadata": {},
   "source": [
    "Задачу классификации мы умеем решать тремя методами: решающее дерево, рандомный лес и логистическая регрессия.   \n",
    "Какие гиперпараметры у этих моделей я буду менять:  \n",
    "* дерево: глубина дерева;\n",
    "* рандомный лес: количество деревьев и их глубина;\n",
    "* логистическая регрессия: алгоритм и количество итераций;"
   ]
  },
  {
   "cell_type": "markdown",
   "metadata": {},
   "source": [
    "### Логистическая регрессия"
   ]
  },
  {
   "cell_type": "code",
   "execution_count": 28,
   "metadata": {
    "tags": []
   },
   "outputs": [
    {
     "name": "stdout",
     "output_type": "stream",
     "text": [
      "Лчший результат:\n",
      "Точность: 0.7309486780715396 \n",
      "Алгоритм: lbfgs \n",
      "Итераций 100\n"
     ]
    }
   ],
   "source": [
    "solvers=['liblinear', 'lbfgs']\n",
    "best_linear_model = None\n",
    "best_linear_result = 0\n",
    "best_linear_solver = ''\n",
    "best_linear_iter = 0\n",
    "\n",
    "for solver in solvers:\n",
    "    for i in range(100,1001,100):        \n",
    "        linear = LogisticRegression(solver=solver, max_iter=i, random_state=123)\n",
    "        linear.fit(features_train, target_train)\n",
    "        linear_prediction = linear.predict(features_valid)\n",
    "        result = accuracy_score(linear_prediction, target_valid)\n",
    "        if result > best_linear_result:\n",
    "            best_linear_model = linear\n",
    "            best_linear_result = result\n",
    "            best_linear_solver = solver\n",
    "            best_linear_iter = i\n",
    "\n",
    "print('Лчший результат:\\nТочность:', best_linear_result, \n",
    "      '\\nАлгоритм:', best_linear_solver, \n",
    "      '\\nИтераций', best_linear_iter)"
   ]
  },
  {
   "cell_type": "markdown",
   "metadata": {
    "tags": []
   },
   "source": [
    "Логистическая регрессия не смогла дать нам желаемое значение точности в 0.75."
   ]
  },
  {
   "cell_type": "markdown",
   "metadata": {},
   "source": [
    "### Решающее дерево"
   ]
  },
  {
   "cell_type": "code",
   "execution_count": 29,
   "metadata": {},
   "outputs": [
    {
     "name": "stdout",
     "output_type": "stream",
     "text": [
      "Лчший результат:\n",
      "Точность: 0.7962674961119751 \n",
      "Глубина:  3\n"
     ]
    }
   ],
   "source": [
    "best_tree_model = None\n",
    "best_tree_result = 0\n",
    "best_tree_depth = 0\n",
    "\n",
    "for depth in range(1,11):\n",
    "    tree = DecisionTreeClassifier(max_depth=depth, random_state=123)\n",
    "    tree.fit(features_train, target_train)\n",
    "    tree_prediction = tree.predict(features_valid)\n",
    "    result = accuracy_score(tree_prediction, target_valid)\n",
    "    if result > best_tree_result:\n",
    "            best_tree_model = tree\n",
    "            best_tree_result = result\n",
    "            best_tree_depth = depth\n",
    "            \n",
    "print('Лчший результат:\\nТочность:', best_tree_result, '\\nГлубина: ', best_tree_depth)"
   ]
  },
  {
   "cell_type": "markdown",
   "metadata": {},
   "source": [
    "Решающее дерево получило точность почти 80% на валидационных данных. Можно проверять на тестовых."
   ]
  },
  {
   "cell_type": "markdown",
   "metadata": {},
   "source": [
    "### Рандомный лес"
   ]
  },
  {
   "cell_type": "code",
   "execution_count": 35,
   "metadata": {
    "tags": []
   },
   "outputs": [
    {
     "name": "stdout",
     "output_type": "stream",
     "text": [
      "Лчший результат:\n",
      "Точность: 0.8102643856920684 \n",
      "Число деревьев 10 \n",
      "Глубина:  6\n",
      "--- 3.746145486831665 seconds ---\n"
     ]
    }
   ],
   "source": [
    "start_time = time.time()\n",
    "\n",
    "best_forest_model = None\n",
    "best_forest_result = 0\n",
    "best_forest_depth = 0\n",
    "best_forest_est = 0\n",
    "\n",
    "for est in range(10, 51, 10):\n",
    "    for depth in range(1,11):\n",
    "        forest = RandomForestClassifier(n_estimators=est, max_depth=depth, random_state=123)\n",
    "        forest.fit(features_train, target_train)\n",
    "        forest_prediction = forest.predict(features_valid)\n",
    "        result = accuracy_score(forest_prediction, target_valid)\n",
    "        if result > best_forest_result:\n",
    "                best_forest_model = forest\n",
    "                best_forest_result = result\n",
    "                best_forest_depth = depth\n",
    "                best_forest_est = est\n",
    "            \n",
    "print('Лчший результат:\\nТочность:', best_forest_result,\n",
    "      '\\nЧисло деревьев',best_forest_est, \n",
    "      '\\nГлубина: ', best_forest_depth)\n",
    "print(\"--- %s seconds ---\" % (time.time() - start_time))"
   ]
  },
  {
   "cell_type": "markdown",
   "metadata": {},
   "source": [
    "Рандомный лес показал наилучший результат в 81% точности на валидационной выборке.   \n",
    "Однако перебор вариантов занял больше времени. На моём ПК (довольно слабом) задержка в выполнении уже заметна и составляет 4 секунды.   \n",
    "Так как наилучший результат показал почти самый маленький лес, то его доля в вычислениях небольшая. Однако всё таки значительно больше, чем для дерева."
   ]
  },
  {
   "cell_type": "markdown",
   "metadata": {},
   "source": [
    "### Вывод"
   ]
  },
  {
   "cell_type": "markdown",
   "metadata": {},
   "source": [
    "Логистическая регрессия не справилась даже с поставленной целью в 75% точности. Лучший результат: 73%.  \n",
    "Решающее дерево показало хороший результат. При глубине равной 3, точность составила 79.6% точности.  \n",
    "Рандомный лес показал наилучший результат: 81% при 10 деревьях и глубине 6. Однако этот вариант более медленный.  \n",
    "\n",
    "На тестовых данных проверим лучшие дерево и лес."
   ]
  },
  {
   "cell_type": "markdown",
   "metadata": {},
   "source": [
    "## Проверьте модель на тестовой выборке"
   ]
  },
  {
   "cell_type": "code",
   "execution_count": 32,
   "metadata": {},
   "outputs": [
    {
     "name": "stdout",
     "output_type": "stream",
     "text": [
      "Точность леса на тестовых данных: 0.8164852255054432\n",
      "Точность дерева на тестовых данных: 0.80248833592535\n"
     ]
    }
   ],
   "source": [
    "best_forest_prediction = best_forest_model.predict(features_test)\n",
    "best_tree_prediction = best_tree_model.predict(features_test)\n",
    "\n",
    "test_forest_result = accuracy_score(best_forest_prediction, target_test)\n",
    "test_tree_result = accuracy_score(best_tree_prediction, target_test)\n",
    "\n",
    "print('Точность леса на тестовых данных:', test_forest_result)\n",
    "print('Точность дерева на тестовых данных:', test_tree_result)"
   ]
  },
  {
   "cell_type": "markdown",
   "metadata": {},
   "source": [
    "Ожидаемый результат: лес лучше дерева: 81.6% против 80.2%.   "
   ]
  },
  {
   "cell_type": "code",
   "execution_count": 33,
   "metadata": {},
   "outputs": [],
   "source": [
    "features_test = pd.concat([features_valid, features_test], ignore_index=True)\n",
    "target_test = pd.concat([target_valid, target_test], ignore_index=True)"
   ]
  },
  {
   "cell_type": "code",
   "execution_count": 34,
   "metadata": {},
   "outputs": [
    {
     "name": "stdout",
     "output_type": "stream",
     "text": [
      "Точность леса на тестовых данных: 0.8133748055987559\n",
      "Точность дерева на тестовых данных: 0.7993779160186625\n"
     ]
    }
   ],
   "source": [
    "best_forest_prediction = best_forest_model.predict(features_test)\n",
    "best_tree_prediction = best_tree_model.predict(features_test)\n",
    "\n",
    "test_forest_result = accuracy_score(best_forest_prediction, target_test)\n",
    "test_tree_result = accuracy_score(best_tree_prediction, target_test)\n",
    "\n",
    "print('Точность леса на тестовых данных:', test_forest_result)\n",
    "print('Точность дерева на тестовых данных:', test_tree_result)"
   ]
  },
  {
   "cell_type": "markdown",
   "metadata": {
    "tags": []
   },
   "source": [
    "## (бонус) Проверьте модели на адекватность"
   ]
  },
  {
   "cell_type": "markdown",
   "metadata": {},
   "source": [
    "Адекватность классификационной задачи по-моему совпадает с точностью.  \n",
    "Если мы случайным образом расставим классы, то точность будет примерно 50%.   \n",
    "У нашей модели точность выше 80%, что делает её лучше случайной, а значит адекватной."
   ]
  },
  {
   "cell_type": "markdown",
   "metadata": {
    "tags": []
   },
   "source": [
    "Однако можно учесть распределение классов в нашем наборе и расставлять 0 и 1 не 50/50, а с соответствующей вероятностью.  \n",
    "Проверку будем делать на тестовых данных, посмотрим распределение на ней."
   ]
  },
  {
   "cell_type": "code",
   "execution_count": 14,
   "metadata": {
    "tags": []
   },
   "outputs": [
    {
     "data": {
      "text/plain": [
       "0    449\n",
       "1    194\n",
       "Name: is_ultra, dtype: int64"
      ]
     },
     "execution_count": 14,
     "metadata": {},
     "output_type": "execute_result"
    }
   ],
   "source": [
    "target_test.value_counts()"
   ]
  },
  {
   "cell_type": "markdown",
   "metadata": {},
   "source": [
    "Создадим массив из 449 нулей и 194 единиц, а затем перемешаем его и посчитаем точность."
   ]
  },
  {
   "cell_type": "code",
   "execution_count": 15,
   "metadata": {
    "tags": []
   },
   "outputs": [
    {
     "data": {
      "text/plain": [
       "0.5987558320373251"
      ]
     },
     "execution_count": 15,
     "metadata": {},
     "output_type": "execute_result"
    }
   ],
   "source": [
    "zeros = np.zeros(449)\n",
    "ones = np.ones(194)\n",
    "random = np.concatenate((zeros, ones))\n",
    "np.random.shuffle(random)\n",
    "accuracy_score(random, target_test)"
   ]
  },
  {
   "cell_type": "markdown",
   "metadata": {},
   "source": [
    "Точность такого метода составила примерно 58%. Наши модели справились лучше."
   ]
  },
  {
   "cell_type": "code",
   "execution_count": 39,
   "metadata": {},
   "outputs": [
    {
     "data": {
      "text/plain": [
       "0.6959564541213064"
      ]
     },
     "execution_count": 39,
     "metadata": {},
     "output_type": "execute_result"
    }
   ],
   "source": [
    "dummy = DummyClassifier(strategy='most_frequent').fit(features_train, target_train)\n",
    "dummy_prediction = dummy.predict(features_test)\n",
    "accuracy_score(target_test, dummy_prediction)"
   ]
  },
  {
   "cell_type": "markdown",
   "metadata": {},
   "source": [
    "Эту проверку наша модель тоже проходит."
   ]
  },
  {
   "cell_type": "markdown",
   "metadata": {},
   "source": [
    "## Вывод"
   ]
  },
  {
   "cell_type": "markdown",
   "metadata": {},
   "source": [
    "Предоставленные данные выглядят хорошо и не нуждаются в предобработке.  \n",
    "\n",
    "Данные разделены на три выборки: тренировочная, валидационная и тестовая в соотношении 3:1:1.\n",
    "На тренировочных данных модели обучались, по валидационным данным было проведено предварительное сравнение точности, а по тестовым данным финальное сравнение точности.\n",
    "\n",
    "Задача решалась тремя методами: решающее дерево, рандомный лес и логистическая регрессия.   \n",
    "Логистическая регрессия не справилась даже с поставленной целью в 75% точности. Лучший результат: 73%.  \n",
    "Решающее дерево показало хороший результат. При глубине равной 3, точность составила 79.6% точности.  \n",
    "Рандомный лес показал наилучший результат: 81% при 10 деревьях и глубине 6. Однако этот вариант более медленный.  \n",
    "На тестовых данных проверялись дерево и лес, показавшие наилучший результат на валидационных данных.  \n",
    "\n",
    "На тестовых данных лес показал точность 81.6% против 80.2% у дерева.   \n",
    "Разница составляет всего 1.4%, так что окончательный выбор состоит в необходимости совершать вычисления быстро. Для быстрых вычислений следует выбрать дерево, для медленных - лес."
   ]
  }
 ],
 "metadata": {
  "ExecuteTimeLog": [
   {
    "duration": 1751,
    "start_time": "2023-05-10T15:45:27.438Z"
   },
   {
    "duration": 128,
    "start_time": "2023-05-10T15:45:30.252Z"
   },
   {
    "duration": 16,
    "start_time": "2023-05-10T15:45:30.724Z"
   },
   {
    "duration": 11,
    "start_time": "2023-05-10T15:45:32.287Z"
   },
   {
    "duration": 23,
    "start_time": "2023-05-10T15:45:32.569Z"
   },
   {
    "duration": 118,
    "start_time": "2023-05-10T15:45:51.804Z"
   },
   {
    "duration": 4478,
    "start_time": "2023-05-10T15:46:09.674Z"
   },
   {
    "duration": 10,
    "start_time": "2023-05-10T15:47:36.926Z"
   },
   {
    "duration": 10,
    "start_time": "2023-05-10T15:49:29.000Z"
   },
   {
    "duration": 4347,
    "start_time": "2023-05-10T15:49:56.532Z"
   },
   {
    "duration": 4595,
    "start_time": "2023-05-10T15:50:06.252Z"
   },
   {
    "duration": 4529,
    "start_time": "2023-05-10T15:51:33.067Z"
   },
   {
    "duration": 10,
    "start_time": "2023-05-10T15:54:28.835Z"
   },
   {
    "duration": 10,
    "start_time": "2023-05-10T15:55:24.251Z"
   },
   {
    "duration": 15,
    "start_time": "2023-05-10T15:55:51.528Z"
   },
   {
    "duration": 7,
    "start_time": "2023-05-10T15:55:56.654Z"
   },
   {
    "duration": 10,
    "start_time": "2023-05-10T15:55:59.286Z"
   },
   {
    "duration": 11,
    "start_time": "2023-05-10T15:56:04.017Z"
   },
   {
    "duration": 4,
    "start_time": "2023-05-10T15:56:09.935Z"
   },
   {
    "duration": 39,
    "start_time": "2023-05-10T15:56:09.941Z"
   },
   {
    "duration": 11,
    "start_time": "2023-05-10T15:56:09.983Z"
   },
   {
    "duration": 18,
    "start_time": "2023-05-10T15:56:09.996Z"
   },
   {
    "duration": 33,
    "start_time": "2023-05-10T15:56:10.017Z"
   },
   {
    "duration": 4539,
    "start_time": "2023-05-10T15:56:10.052Z"
   },
   {
    "duration": 7,
    "start_time": "2023-05-10T15:56:14.594Z"
   },
   {
    "duration": 22,
    "start_time": "2023-05-10T15:56:14.603Z"
   },
   {
    "duration": 28,
    "start_time": "2023-05-10T15:56:14.627Z"
   },
   {
    "duration": 370,
    "start_time": "2023-05-10T15:56:14.656Z"
   },
   {
    "duration": 84,
    "start_time": "2023-05-10T15:56:15.030Z"
   },
   {
    "duration": 3960,
    "start_time": "2023-05-10T15:56:15.116Z"
   },
   {
    "duration": 11,
    "start_time": "2023-05-10T15:56:19.077Z"
   },
   {
    "duration": 10,
    "start_time": "2023-05-10T15:56:44.878Z"
   },
   {
    "duration": 4,
    "start_time": "2023-05-10T15:56:46.833Z"
   },
   {
    "duration": 11,
    "start_time": "2023-05-10T15:56:50.209Z"
   },
   {
    "duration": 3751,
    "start_time": "2023-05-10T16:04:21.439Z"
   },
   {
    "duration": 98,
    "start_time": "2023-05-10T16:05:32.277Z"
   },
   {
    "duration": 10,
    "start_time": "2023-05-10T16:05:36.017Z"
   },
   {
    "duration": 4,
    "start_time": "2023-05-10T16:06:06.169Z"
   },
   {
    "duration": 5,
    "start_time": "2023-05-10T16:06:14.368Z"
   },
   {
    "duration": 81,
    "start_time": "2023-05-10T16:07:55.543Z"
   },
   {
    "duration": 68,
    "start_time": "2023-05-10T16:08:11.472Z"
   },
   {
    "duration": 81,
    "start_time": "2023-05-10T16:08:20.502Z"
   },
   {
    "duration": 7,
    "start_time": "2023-05-10T16:08:32.573Z"
   },
   {
    "duration": 4527,
    "start_time": "2023-05-10T16:09:37.493Z"
   },
   {
    "duration": 4435,
    "start_time": "2023-05-10T16:09:47.644Z"
   },
   {
    "duration": 4698,
    "start_time": "2023-05-10T16:10:06.320Z"
   }
  ],
  "kernelspec": {
   "display_name": "Python 3 (ipykernel)",
   "language": "python",
   "name": "python3"
  },
  "language_info": {
   "codemirror_mode": {
    "name": "ipython",
    "version": 3
   },
   "file_extension": ".py",
   "mimetype": "text/x-python",
   "name": "python",
   "nbconvert_exporter": "python",
   "pygments_lexer": "ipython3",
   "version": "3.9.18"
  },
  "toc": {
   "base_numbering": 1,
   "nav_menu": {},
   "number_sections": true,
   "sideBar": true,
   "skip_h1_title": true,
   "title_cell": "Table of Contents",
   "title_sidebar": "Contents",
   "toc_cell": true,
   "toc_position": {
    "height": "calc(100% - 180px)",
    "left": "10px",
    "top": "150px",
    "width": "273.188px"
   },
   "toc_section_display": true,
   "toc_window_display": true
  },
  "toc-autonumbering": false,
  "toc-showcode": false,
  "toc-showmarkdowntxt": false,
  "toc-showtags": false
 },
 "nbformat": 4,
 "nbformat_minor": 4
}
