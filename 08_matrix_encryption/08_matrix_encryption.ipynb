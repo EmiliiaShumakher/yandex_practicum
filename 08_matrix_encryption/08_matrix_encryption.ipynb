{
 "cells": [
  {
   "cell_type": "markdown",
   "metadata": {
    "toc": true
   },
   "source": [
    "<h1>Содержание<span class=\"tocSkip\"></span></h1>\n",
    "<div class=\"toc\"><ul class=\"toc-item\"><li><span><a href=\"#Загрузка-данных\" data-toc-modified-id=\"Загрузка-данных-1\"><span class=\"toc-item-num\">1&nbsp;&nbsp;</span>Загрузка данных</a></span></li><li><span><a href=\"#Умножение-матриц\" data-toc-modified-id=\"Умножение-матриц-2\"><span class=\"toc-item-num\">2&nbsp;&nbsp;</span>Умножение матриц</a></span></li><li><span><a href=\"#Алгоритм-преобразования\" data-toc-modified-id=\"Алгоритм-преобразования-3\"><span class=\"toc-item-num\">3&nbsp;&nbsp;</span>Алгоритм преобразования</a></span></li><li><span><a href=\"#Проверка-алгоритма\" data-toc-modified-id=\"Проверка-алгоритма-4\"><span class=\"toc-item-num\">4&nbsp;&nbsp;</span>Проверка алгоритма</a></span></li><li><span><a href=\"#Чек-лист-проверки\" data-toc-modified-id=\"Чек-лист-проверки-5\"><span class=\"toc-item-num\">5&nbsp;&nbsp;</span>Чек-лист проверки</a></span></li></ul></div>"
   ]
  },
  {
   "cell_type": "markdown",
   "metadata": {},
   "source": [
    "# Защита персональных данных клиентов"
   ]
  },
  {
   "cell_type": "markdown",
   "metadata": {},
   "source": [
    "Вам нужно защитить данные клиентов страховой компании «Хоть потоп». Разработайте такой метод преобразования данных, чтобы по ним было сложно восстановить персональную информацию. Обоснуйте корректность его работы.\n",
    "\n",
    "Нужно защитить данные, чтобы при преобразовании качество моделей машинного обучения не ухудшилось. Подбирать наилучшую модель не требуется."
   ]
  },
  {
   "cell_type": "markdown",
   "metadata": {},
   "source": [
    "## Загрузка данных"
   ]
  },
  {
   "cell_type": "code",
   "execution_count": 1,
   "metadata": {},
   "outputs": [],
   "source": [
    "import pandas as pd\n",
    "import numpy as np\n",
    "from sklearn.metrics import r2_score, mean_squared_error\n",
    "from sklearn import linear_model\n",
    "from sklearn.preprocessing import StandardScaler"
   ]
  },
  {
   "cell_type": "code",
   "execution_count": 2,
   "metadata": {},
   "outputs": [],
   "source": [
    "try:\n",
    "    data = pd.read_csv('/datasets/insurance.csv')\n",
    "except:\n",
    "    data = pd.read_csv('https://code.s3.yandex.net/datasets/insurance.csv')"
   ]
  },
  {
   "cell_type": "code",
   "execution_count": 3,
   "metadata": {},
   "outputs": [
    {
     "data": {
      "text/html": [
       "<div>\n",
       "<style scoped>\n",
       "    .dataframe tbody tr th:only-of-type {\n",
       "        vertical-align: middle;\n",
       "    }\n",
       "\n",
       "    .dataframe tbody tr th {\n",
       "        vertical-align: top;\n",
       "    }\n",
       "\n",
       "    .dataframe thead th {\n",
       "        text-align: right;\n",
       "    }\n",
       "</style>\n",
       "<table border=\"1\" class=\"dataframe\">\n",
       "  <thead>\n",
       "    <tr style=\"text-align: right;\">\n",
       "      <th></th>\n",
       "      <th>Пол</th>\n",
       "      <th>Возраст</th>\n",
       "      <th>Зарплата</th>\n",
       "      <th>Члены семьи</th>\n",
       "      <th>Страховые выплаты</th>\n",
       "    </tr>\n",
       "  </thead>\n",
       "  <tbody>\n",
       "    <tr>\n",
       "      <th>0</th>\n",
       "      <td>1</td>\n",
       "      <td>41.0</td>\n",
       "      <td>49600.0</td>\n",
       "      <td>1</td>\n",
       "      <td>0</td>\n",
       "    </tr>\n",
       "    <tr>\n",
       "      <th>1</th>\n",
       "      <td>0</td>\n",
       "      <td>46.0</td>\n",
       "      <td>38000.0</td>\n",
       "      <td>1</td>\n",
       "      <td>1</td>\n",
       "    </tr>\n",
       "    <tr>\n",
       "      <th>2</th>\n",
       "      <td>0</td>\n",
       "      <td>29.0</td>\n",
       "      <td>21000.0</td>\n",
       "      <td>0</td>\n",
       "      <td>0</td>\n",
       "    </tr>\n",
       "    <tr>\n",
       "      <th>3</th>\n",
       "      <td>0</td>\n",
       "      <td>21.0</td>\n",
       "      <td>41700.0</td>\n",
       "      <td>2</td>\n",
       "      <td>0</td>\n",
       "    </tr>\n",
       "    <tr>\n",
       "      <th>4</th>\n",
       "      <td>1</td>\n",
       "      <td>28.0</td>\n",
       "      <td>26100.0</td>\n",
       "      <td>0</td>\n",
       "      <td>0</td>\n",
       "    </tr>\n",
       "  </tbody>\n",
       "</table>\n",
       "</div>"
      ],
      "text/plain": [
       "   Пол  Возраст  Зарплата  Члены семьи  Страховые выплаты\n",
       "0    1     41.0   49600.0            1                  0\n",
       "1    0     46.0   38000.0            1                  1\n",
       "2    0     29.0   21000.0            0                  0\n",
       "3    0     21.0   41700.0            2                  0\n",
       "4    1     28.0   26100.0            0                  0"
      ]
     },
     "execution_count": 3,
     "metadata": {},
     "output_type": "execute_result"
    }
   ],
   "source": [
    "data.head()"
   ]
  },
  {
   "cell_type": "code",
   "execution_count": 4,
   "metadata": {},
   "outputs": [
    {
     "name": "stdout",
     "output_type": "stream",
     "text": [
      "<class 'pandas.core.frame.DataFrame'>\n",
      "RangeIndex: 5000 entries, 0 to 4999\n",
      "Data columns (total 5 columns):\n",
      " #   Column             Non-Null Count  Dtype  \n",
      "---  ------             --------------  -----  \n",
      " 0   Пол                5000 non-null   int64  \n",
      " 1   Возраст            5000 non-null   float64\n",
      " 2   Зарплата           5000 non-null   float64\n",
      " 3   Члены семьи        5000 non-null   int64  \n",
      " 4   Страховые выплаты  5000 non-null   int64  \n",
      "dtypes: float64(2), int64(3)\n",
      "memory usage: 195.4 KB\n"
     ]
    }
   ],
   "source": [
    "data.info()"
   ]
  },
  {
   "cell_type": "code",
   "execution_count": 5,
   "metadata": {},
   "outputs": [
    {
     "data": {
      "text/html": [
       "<div>\n",
       "<style scoped>\n",
       "    .dataframe tbody tr th:only-of-type {\n",
       "        vertical-align: middle;\n",
       "    }\n",
       "\n",
       "    .dataframe tbody tr th {\n",
       "        vertical-align: top;\n",
       "    }\n",
       "\n",
       "    .dataframe thead th {\n",
       "        text-align: right;\n",
       "    }\n",
       "</style>\n",
       "<table border=\"1\" class=\"dataframe\">\n",
       "  <thead>\n",
       "    <tr style=\"text-align: right;\">\n",
       "      <th></th>\n",
       "      <th>Пол</th>\n",
       "      <th>Возраст</th>\n",
       "      <th>Зарплата</th>\n",
       "      <th>Члены семьи</th>\n",
       "      <th>Страховые выплаты</th>\n",
       "    </tr>\n",
       "  </thead>\n",
       "  <tbody>\n",
       "    <tr>\n",
       "      <th>count</th>\n",
       "      <td>5000.000000</td>\n",
       "      <td>5000.000000</td>\n",
       "      <td>5000.000000</td>\n",
       "      <td>5000.000000</td>\n",
       "      <td>5000.000000</td>\n",
       "    </tr>\n",
       "    <tr>\n",
       "      <th>mean</th>\n",
       "      <td>0.499000</td>\n",
       "      <td>30.952800</td>\n",
       "      <td>39916.360000</td>\n",
       "      <td>1.194200</td>\n",
       "      <td>0.148000</td>\n",
       "    </tr>\n",
       "    <tr>\n",
       "      <th>std</th>\n",
       "      <td>0.500049</td>\n",
       "      <td>8.440807</td>\n",
       "      <td>9900.083569</td>\n",
       "      <td>1.091387</td>\n",
       "      <td>0.463183</td>\n",
       "    </tr>\n",
       "    <tr>\n",
       "      <th>min</th>\n",
       "      <td>0.000000</td>\n",
       "      <td>18.000000</td>\n",
       "      <td>5300.000000</td>\n",
       "      <td>0.000000</td>\n",
       "      <td>0.000000</td>\n",
       "    </tr>\n",
       "    <tr>\n",
       "      <th>25%</th>\n",
       "      <td>0.000000</td>\n",
       "      <td>24.000000</td>\n",
       "      <td>33300.000000</td>\n",
       "      <td>0.000000</td>\n",
       "      <td>0.000000</td>\n",
       "    </tr>\n",
       "    <tr>\n",
       "      <th>50%</th>\n",
       "      <td>0.000000</td>\n",
       "      <td>30.000000</td>\n",
       "      <td>40200.000000</td>\n",
       "      <td>1.000000</td>\n",
       "      <td>0.000000</td>\n",
       "    </tr>\n",
       "    <tr>\n",
       "      <th>75%</th>\n",
       "      <td>1.000000</td>\n",
       "      <td>37.000000</td>\n",
       "      <td>46600.000000</td>\n",
       "      <td>2.000000</td>\n",
       "      <td>0.000000</td>\n",
       "    </tr>\n",
       "    <tr>\n",
       "      <th>max</th>\n",
       "      <td>1.000000</td>\n",
       "      <td>65.000000</td>\n",
       "      <td>79000.000000</td>\n",
       "      <td>6.000000</td>\n",
       "      <td>5.000000</td>\n",
       "    </tr>\n",
       "  </tbody>\n",
       "</table>\n",
       "</div>"
      ],
      "text/plain": [
       "               Пол      Возраст      Зарплата  Члены семьи  Страховые выплаты\n",
       "count  5000.000000  5000.000000   5000.000000  5000.000000        5000.000000\n",
       "mean      0.499000    30.952800  39916.360000     1.194200           0.148000\n",
       "std       0.500049     8.440807   9900.083569     1.091387           0.463183\n",
       "min       0.000000    18.000000   5300.000000     0.000000           0.000000\n",
       "25%       0.000000    24.000000  33300.000000     0.000000           0.000000\n",
       "50%       0.000000    30.000000  40200.000000     1.000000           0.000000\n",
       "75%       1.000000    37.000000  46600.000000     2.000000           0.000000\n",
       "max       1.000000    65.000000  79000.000000     6.000000           5.000000"
      ]
     },
     "execution_count": 5,
     "metadata": {},
     "output_type": "execute_result"
    }
   ],
   "source": [
    "data.describe()"
   ]
  },
  {
   "cell_type": "markdown",
   "metadata": {},
   "source": [
    "Данные без пропусков, все столбцы содержат числа."
   ]
  },
  {
   "cell_type": "markdown",
   "metadata": {},
   "source": [
    "## Умножение матриц"
   ]
  },
  {
   "cell_type": "markdown",
   "metadata": {},
   "source": [
    "В этом задании вы можете записывать формулы в *Jupyter Notebook.*\n",
    "\n",
    "Чтобы записать формулу внутри текста, окружите её символами доллара \\\\$; если снаружи —  двойными символами \\\\$\\\\$. Эти формулы записываются на языке вёрстки *LaTeX.* \n",
    "\n",
    "Для примера мы записали формулы линейной регрессии. Можете их скопировать и отредактировать, чтобы решить задачу.\n",
    "\n",
    "Работать в *LaTeX* необязательно."
   ]
  },
  {
   "cell_type": "markdown",
   "metadata": {},
   "source": [
    "Обозначения:\n",
    "\n",
    "- $X$ — матрица признаков (нулевой столбец состоит из единиц)\n",
    "\n",
    "- $y$ — вектор целевого признака\n",
    "\n",
    "- $P$ — матрица, на которую умножаются признаки\n",
    "\n",
    "- $w$ — вектор весов линейной регрессии (нулевой элемент равен сдвигу)"
   ]
  },
  {
   "cell_type": "markdown",
   "metadata": {},
   "source": [
    "Предсказания:\n",
    "\n",
    "$$\n",
    "a = Xw\n",
    "$$\n",
    "\n",
    "Задача обучения:\n",
    "\n",
    "$$\n",
    "w = \\arg\\min_w MSE(Xw, y)\n",
    "$$\n",
    "\n",
    "Формула обучения:\n",
    "\n",
    "$$\n",
    "w = (X^T X)^{-1} X^T y\n",
    "$$"
   ]
  },
  {
   "cell_type": "markdown",
   "metadata": {},
   "source": [
    "**Вопрос:** Признаки умножают на обратимую матрицу. Изменится ли качество линейной регрессии?\n",
    "\n",
    "**Ответ:** Качество линейной регрессии не изменится.\n",
    "\n",
    "**Обоснование:**   \n",
    "Свойства матриц: \n",
    "$$ \n",
    "A(BC) = (AB)C \\\\\n",
    "(AB)^T = B^T A^T \\\\\n",
    "(AB)^{-1} = B^{-1} A^{-1}\n",
    "$$\n",
    "Пусть $X_P$ это изменённые признаки.\n",
    "\n",
    "$$\n",
    "X_P = XP   \\\\\n",
    "w_P = \\left( X_P^T X_P \\right) ^{-1} X_P^T y = \\left( \\left( XP\\right)^T \\left( XP\\right) \\right)^{-1} \\left( XP\\right)^T y \\\\\n",
    "a_P = X_P w_P = \n",
    "XP \\left( \\left( XP\\right)^T \\left( XP\\right) \\right)^{-1} \\left( XP\\right)^T y = \\\\\n",
    "$$\n",
    "$$\n",
    "= XP \\left( P^T X^T X P\\right)^{-1} P^T X^T y = \n",
    "XP \\left( P^T \\left(X^T X\\right) P\\right)^{-1} P^T X^T y = \\\\\n",
    "$$\n",
    "$$\n",
    "= X \\underbrace{P P^{-1}}_{E} \\left(X^T X\\right)^{-1} \\underbrace{P^{T^{-1}} P^T}_{E} X^T y = \\\\\n",
    "$$\n",
    "$$\n",
    "= X \\left(X^T X\\right)^{-1} X^T y = Xw = a \\\\\n",
    "\\Rightarrow a_P = a\n",
    "$$\n",
    "\n",
    "Предсказания изменённых признаков не отличаются от ориинальных предсказаний, значит и качество регрессии не изменится."
   ]
  },
  {
   "cell_type": "markdown",
   "metadata": {},
   "source": [
    "Проверим вывод экспериментально"
   ]
  },
  {
   "cell_type": "markdown",
   "metadata": {},
   "source": [
    "В первую очередь нужно проверить, что столбцы $X$ линейно независимы. Для этого построим матрицу корреляции и проверим, что там нет значений близких к единице."
   ]
  },
  {
   "cell_type": "code",
   "execution_count": 6,
   "metadata": {},
   "outputs": [],
   "source": [
    "features = data.drop('Страховые выплаты', axis=1)\n",
    "target = data['Страховые выплаты']"
   ]
  },
  {
   "cell_type": "code",
   "execution_count": 7,
   "metadata": {},
   "outputs": [
    {
     "data": {
      "text/html": [
       "<style  type=\"text/css\" >\n",
       "#T_b8c6a_row0_col0,#T_b8c6a_row1_col1,#T_b8c6a_row2_col2,#T_b8c6a_row3_col3{\n",
       "            background-color:  #b40426;\n",
       "            color:  #f1f1f1;\n",
       "        }#T_b8c6a_row0_col1,#T_b8c6a_row2_col0{\n",
       "            background-color:  #4055c8;\n",
       "            color:  #f1f1f1;\n",
       "        }#T_b8c6a_row0_col2{\n",
       "            background-color:  #455cce;\n",
       "            color:  #f1f1f1;\n",
       "        }#T_b8c6a_row0_col3,#T_b8c6a_row1_col3{\n",
       "            background-color:  #3f53c6;\n",
       "            color:  #f1f1f1;\n",
       "        }#T_b8c6a_row1_col0,#T_b8c6a_row1_col2,#T_b8c6a_row3_col1{\n",
       "            background-color:  #3d50c3;\n",
       "            color:  #f1f1f1;\n",
       "        }#T_b8c6a_row2_col1,#T_b8c6a_row2_col3,#T_b8c6a_row3_col0,#T_b8c6a_row3_col2{\n",
       "            background-color:  #3b4cc0;\n",
       "            color:  #f1f1f1;\n",
       "        }</style><table id=\"T_b8c6a_\" ><thead>    <tr>        <th class=\"blank level0\" ></th>        <th class=\"col_heading level0 col0\" >Пол</th>        <th class=\"col_heading level0 col1\" >Возраст</th>        <th class=\"col_heading level0 col2\" >Зарплата</th>        <th class=\"col_heading level0 col3\" >Члены семьи</th>    </tr></thead><tbody>\n",
       "                <tr>\n",
       "                        <th id=\"T_b8c6a_level0_row0\" class=\"row_heading level0 row0\" >Пол</th>\n",
       "                        <td id=\"T_b8c6a_row0_col0\" class=\"data row0 col0\" >1.000000</td>\n",
       "                        <td id=\"T_b8c6a_row0_col1\" class=\"data row0 col1\" >0.000000</td>\n",
       "                        <td id=\"T_b8c6a_row0_col2\" class=\"data row0 col2\" >0.010000</td>\n",
       "                        <td id=\"T_b8c6a_row0_col3\" class=\"data row0 col3\" >-0.010000</td>\n",
       "            </tr>\n",
       "            <tr>\n",
       "                        <th id=\"T_b8c6a_level0_row1\" class=\"row_heading level0 row1\" >Возраст</th>\n",
       "                        <td id=\"T_b8c6a_row1_col0\" class=\"data row1 col0\" >0.000000</td>\n",
       "                        <td id=\"T_b8c6a_row1_col1\" class=\"data row1 col1\" >1.000000</td>\n",
       "                        <td id=\"T_b8c6a_row1_col2\" class=\"data row1 col2\" >-0.020000</td>\n",
       "                        <td id=\"T_b8c6a_row1_col3\" class=\"data row1 col3\" >-0.010000</td>\n",
       "            </tr>\n",
       "            <tr>\n",
       "                        <th id=\"T_b8c6a_level0_row2\" class=\"row_heading level0 row2\" >Зарплата</th>\n",
       "                        <td id=\"T_b8c6a_row2_col0\" class=\"data row2 col0\" >0.010000</td>\n",
       "                        <td id=\"T_b8c6a_row2_col1\" class=\"data row2 col1\" >-0.020000</td>\n",
       "                        <td id=\"T_b8c6a_row2_col2\" class=\"data row2 col2\" >1.000000</td>\n",
       "                        <td id=\"T_b8c6a_row2_col3\" class=\"data row2 col3\" >-0.030000</td>\n",
       "            </tr>\n",
       "            <tr>\n",
       "                        <th id=\"T_b8c6a_level0_row3\" class=\"row_heading level0 row3\" >Члены семьи</th>\n",
       "                        <td id=\"T_b8c6a_row3_col0\" class=\"data row3 col0\" >-0.010000</td>\n",
       "                        <td id=\"T_b8c6a_row3_col1\" class=\"data row3 col1\" >-0.010000</td>\n",
       "                        <td id=\"T_b8c6a_row3_col2\" class=\"data row3 col2\" >-0.030000</td>\n",
       "                        <td id=\"T_b8c6a_row3_col3\" class=\"data row3 col3\" >1.000000</td>\n",
       "            </tr>\n",
       "    </tbody></table>"
      ],
      "text/plain": [
       "<pandas.io.formats.style.Styler at 0x7f48fc1f3730>"
      ]
     },
     "execution_count": 7,
     "metadata": {},
     "output_type": "execute_result"
    }
   ],
   "source": [
    "features.corr().round(2).style.background_gradient(cmap='coolwarm',axis=0)"
   ]
  },
  {
   "cell_type": "markdown",
   "metadata": {},
   "source": [
    "Все значения близки к нулю, проблем с псевдообратными $\\left(X^+ = \\left(X^T X\\right)^{-1} X^T\\right)$ не возникнет."
   ]
  },
  {
   "cell_type": "code",
   "execution_count": 8,
   "metadata": {},
   "outputs": [],
   "source": [
    "# Зафиксируем значения рандома\n",
    "np.random.seed(12345)"
   ]
  },
  {
   "cell_type": "code",
   "execution_count": 9,
   "metadata": {},
   "outputs": [],
   "source": [
    "# Создадим класс линейной регрессии по нашей формуле\n",
    "class LinearRegression:\n",
    "    def fit(self, train_features, train_target):\n",
    "        X = np.concatenate((np.ones((train_features.shape[0], 1)), train_features), axis=1)\n",
    "        y = train_target\n",
    "        w = np.linalg.inv(X.T @ X) @ X.T @ y\n",
    "        self.w = w[1:]\n",
    "        self.w0 = w[0]\n",
    "\n",
    "    def predict(self, test_features):\n",
    "        return test_features.dot(self.w) + self.w0"
   ]
  },
  {
   "cell_type": "code",
   "execution_count": 10,
   "metadata": {},
   "outputs": [
    {
     "name": "stdout",
     "output_type": "stream",
     "text": [
      "R2: 0.42494550286668\n"
     ]
    }
   ],
   "source": [
    "# Обучим модель и выведем её R2\n",
    "model = LinearRegression()\n",
    "model.fit(features, target)\n",
    "predictions = model.predict(features)\n",
    "score = r2_score(target, predictions)\n",
    "print('R2:', score)"
   ]
  },
  {
   "cell_type": "code",
   "execution_count": 11,
   "metadata": {},
   "outputs": [
    {
     "name": "stdout",
     "output_type": "stream",
     "text": [
      "R2: 0.4249455028666389\n"
     ]
    }
   ],
   "source": [
    "# Теперь обучим модель с изменённым Х\n",
    "P = np.random.normal(size=(features.shape[1], features.shape[1]))\n",
    "while np.linalg.det(P) == 0:\n",
    "    P = np.random.normal(size=(features.shape[1], features.shape[1]))\n",
    "    \n",
    "features_p = features @ P\n",
    "\n",
    "model_p = LinearRegression()\n",
    "model_p.fit(features_p, target)\n",
    "predictions_p = model_p.predict(features_p)\n",
    "score_p = r2_score(target, predictions_p)\n",
    "print('R2:', score_p)"
   ]
  },
  {
   "cell_type": "code",
   "execution_count": 12,
   "metadata": {},
   "outputs": [
    {
     "data": {
      "text/html": [
       "<div>\n",
       "<style scoped>\n",
       "    .dataframe tbody tr th:only-of-type {\n",
       "        vertical-align: middle;\n",
       "    }\n",
       "\n",
       "    .dataframe tbody tr th {\n",
       "        vertical-align: top;\n",
       "    }\n",
       "\n",
       "    .dataframe thead th {\n",
       "        text-align: right;\n",
       "    }\n",
       "</style>\n",
       "<table border=\"1\" class=\"dataframe\">\n",
       "  <thead>\n",
       "    <tr style=\"text-align: right;\">\n",
       "      <th></th>\n",
       "      <th>0</th>\n",
       "      <th>1</th>\n",
       "      <th>2</th>\n",
       "      <th>3</th>\n",
       "      <th>4</th>\n",
       "      <th>5</th>\n",
       "      <th>6</th>\n",
       "      <th>7</th>\n",
       "      <th>8</th>\n",
       "      <th>9</th>\n",
       "      <th>10</th>\n",
       "    </tr>\n",
       "  </thead>\n",
       "  <tbody>\n",
       "    <tr>\n",
       "      <th>0</th>\n",
       "      <td>0.511727</td>\n",
       "      <td>0.684316</td>\n",
       "      <td>0.093734</td>\n",
       "      <td>-0.222589</td>\n",
       "      <td>0.065084</td>\n",
       "      <td>0.571039</td>\n",
       "      <td>0.428427</td>\n",
       "      <td>-0.098438</td>\n",
       "      <td>0.333169</td>\n",
       "      <td>0.189995</td>\n",
       "      <td>-0.057395</td>\n",
       "    </tr>\n",
       "    <tr>\n",
       "      <th>1</th>\n",
       "      <td>0.511727</td>\n",
       "      <td>0.684316</td>\n",
       "      <td>0.093733</td>\n",
       "      <td>-0.222589</td>\n",
       "      <td>0.065084</td>\n",
       "      <td>0.571039</td>\n",
       "      <td>0.428427</td>\n",
       "      <td>-0.098438</td>\n",
       "      <td>0.333169</td>\n",
       "      <td>0.189995</td>\n",
       "      <td>-0.057395</td>\n",
       "    </tr>\n",
       "  </tbody>\n",
       "</table>\n",
       "</div>"
      ],
      "text/plain": [
       "         0         1         2         3         4         5         6   \\\n",
       "0  0.511727  0.684316  0.093734 -0.222589  0.065084  0.571039  0.428427   \n",
       "1  0.511727  0.684316  0.093733 -0.222589  0.065084  0.571039  0.428427   \n",
       "\n",
       "         7         8         9         10  \n",
       "0 -0.098438  0.333169  0.189995 -0.057395  \n",
       "1 -0.098438  0.333169  0.189995 -0.057395  "
      ]
     },
     "execution_count": 12,
     "metadata": {},
     "output_type": "execute_result"
    }
   ],
   "source": [
    "# Посмотрим, что предсказания и правда получились одинаковыми\n",
    "df = pd.DataFrame([predictions, predictions_p])\n",
    "df.loc[:,:10]"
   ]
  },
  {
   "cell_type": "code",
   "execution_count": 13,
   "metadata": {},
   "outputs": [
    {
     "data": {
      "text/plain": [
       "4.107825191113079e-14"
      ]
     },
     "execution_count": 13,
     "metadata": {},
     "output_type": "execute_result"
    }
   ],
   "source": [
    "np.abs(score_p - score)"
   ]
  },
  {
   "cell_type": "markdown",
   "metadata": {},
   "source": [
    "Разница практически равна нулю и обусловлена особенностями вычисления на Python.  \n",
    "Кроме того наша R2 метрика больше 0, а значит модель адекватная."
   ]
  },
  {
   "cell_type": "markdown",
   "metadata": {},
   "source": [
    "## Алгоритм преобразования"
   ]
  },
  {
   "cell_type": "markdown",
   "metadata": {},
   "source": [
    "Как я поняла, в этом разделе надо предложить какое-то своё преобразование данных, которое также не повлияет на метрику. "
   ]
  },
  {
   "cell_type": "markdown",
   "metadata": {},
   "source": [
    "Рассмотрим довольно простой вариант, часто встречающийся в машинном обучении - нормализация данных. \n",
    "Я буду использовать стандартизацию данных. Однако любое масштабирование можно записать следующей формулой:\n",
    "$$ \n",
    "X^{sc} = \\cfrac{X - A}{\\lambda}\n",
    "$$\n",
    "Где $A$ это матрица того же размера что и $X$, заполненная неким константным значением.  \n",
    "Для обоснования нам неважно, будут ли $A$ и $\\lambda$ медианой и стандартным отклонением или чем-то другим. Поэтому будем рассматривать именно эту формулу далее."
   ]
  },
  {
   "cell_type": "markdown",
   "metadata": {},
   "source": [
    "Заметим, что в плане защиты данных этот алгоритм гораздо хуже предыдущего. Если у нас $n$ параметров в таблице, то при домножении для взлома данных надо узнать $n^2$ коэфиициентов, то здесь всего $n$."
   ]
  },
  {
   "cell_type": "markdown",
   "metadata": {},
   "source": [
    "**Алгоритм**\n",
    "\n",
    "Признаки масштабируются по любому алгоритму, например методом стандартизации. \n",
    "$$ \n",
    "X^{sc} = \\cfrac{X - A}{\\lambda}\n",
    "$$"
   ]
  },
  {
   "cell_type": "markdown",
   "metadata": {},
   "source": [
    "**Обоснование**\n",
    "Будем обозначать за $X$ матрицу признаков без единичного столбца.  \n",
    "$$a = Xw + w_0$$\n",
    "Пусть $w$ и $w_0$ являются решением задачи линейной регрессии, то есть минимизируют MSE.\n",
    "$$ \n",
    "X^{sc} = \\cfrac{X - A}{\\lambda} \\\\\n",
    "a^{sc} = X^{sc}w^{sc} + w_0^{new}\n",
    "$$\n",
    "Пусть $w^{sc}$ и $w_0^{sc}$ являются решением задачи линейной регрессии для новой матрицы $X^{new}$.  \n",
    "\n",
    "$$\n",
    "a^{sc} = X^{sc}w^{sc} + w_0^{sc} = \\cfrac{X - A}{\\lambda} w^{sc} + w_0^{sc} =  \n",
    "X \\cfrac{w^{sc}}{\\lambda} - \\cfrac{A}{\\lambda}w^{sc} + w_0^{sc}\n",
    "$$\n",
    "Обозначим новые вектора $w$ и $w_0$:\n",
    "$$\n",
    "w^{new} = \\cfrac{w^{sc}}{\\lambda} \\\\\n",
    "w_0^{new} = - \\cfrac{A}{\\lambda}w^{sc} + w_0^{sc}\n",
    "$$\n",
    "Получим следующий результат:\n",
    "$$a^{sc} = X w^{new} + w_0^{new} $$  \n",
    "Предположим теперь, что преобразование повлияло на метрику модели. Тогда у одной из моделей метрика лучше, а значит для какой-то задачи значения $w$ и $w_0$ подобраны не оптимально, что является противоречием.  \n",
    "\n",
    "Почти всегда совпадут не только метрики, но и значения предсказаний. Однако, например, если в $X$ всего три значения, находящиеся в вершинах равнобедренного треугольника, то прямую с минимальным MSE можно провести тремя способами, а значит предсказания могут и не совпасть."
   ]
  },
  {
   "cell_type": "markdown",
   "metadata": {},
   "source": [
    "## Проверка алгоритма"
   ]
  },
  {
   "cell_type": "code",
   "execution_count": 14,
   "metadata": {},
   "outputs": [],
   "source": [
    "# Масштабирование данных\n",
    "scaler = StandardScaler()\n",
    "scaler.fit(features)\n",
    "features_sc = scaler.transform(features)"
   ]
  },
  {
   "cell_type": "code",
   "execution_count": 15,
   "metadata": {},
   "outputs": [
    {
     "name": "stdout",
     "output_type": "stream",
     "text": [
      "R2: 0.4249455028666801\n"
     ]
    }
   ],
   "source": [
    "# Обучение модели на масштабированных данных\n",
    "model_sc = LinearRegression()\n",
    "model_sc.fit(features_sc, target)\n",
    "predictions_sc = model_sc.predict(features_sc)\n",
    "score_sc = r2_score(target, predictions_sc)\n",
    "print('R2:', score_sc)"
   ]
  },
  {
   "cell_type": "code",
   "execution_count": 16,
   "metadata": {},
   "outputs": [
    {
     "data": {
      "text/html": [
       "<div>\n",
       "<style scoped>\n",
       "    .dataframe tbody tr th:only-of-type {\n",
       "        vertical-align: middle;\n",
       "    }\n",
       "\n",
       "    .dataframe tbody tr th {\n",
       "        vertical-align: top;\n",
       "    }\n",
       "\n",
       "    .dataframe thead th {\n",
       "        text-align: right;\n",
       "    }\n",
       "</style>\n",
       "<table border=\"1\" class=\"dataframe\">\n",
       "  <thead>\n",
       "    <tr style=\"text-align: right;\">\n",
       "      <th></th>\n",
       "      <th>0</th>\n",
       "      <th>1</th>\n",
       "      <th>2</th>\n",
       "      <th>3</th>\n",
       "      <th>4</th>\n",
       "      <th>5</th>\n",
       "      <th>6</th>\n",
       "      <th>7</th>\n",
       "      <th>8</th>\n",
       "      <th>9</th>\n",
       "      <th>10</th>\n",
       "    </tr>\n",
       "  </thead>\n",
       "  <tbody>\n",
       "    <tr>\n",
       "      <th>0</th>\n",
       "      <td>0.511727</td>\n",
       "      <td>0.684316</td>\n",
       "      <td>0.093734</td>\n",
       "      <td>-0.222589</td>\n",
       "      <td>0.065084</td>\n",
       "      <td>0.571039</td>\n",
       "      <td>0.428427</td>\n",
       "      <td>-0.098438</td>\n",
       "      <td>0.333169</td>\n",
       "      <td>0.189995</td>\n",
       "      <td>-0.057395</td>\n",
       "    </tr>\n",
       "    <tr>\n",
       "      <th>1</th>\n",
       "      <td>0.511727</td>\n",
       "      <td>0.684316</td>\n",
       "      <td>0.093734</td>\n",
       "      <td>-0.222589</td>\n",
       "      <td>0.065084</td>\n",
       "      <td>0.571039</td>\n",
       "      <td>0.428427</td>\n",
       "      <td>-0.098438</td>\n",
       "      <td>0.333169</td>\n",
       "      <td>0.189995</td>\n",
       "      <td>-0.057395</td>\n",
       "    </tr>\n",
       "  </tbody>\n",
       "</table>\n",
       "</div>"
      ],
      "text/plain": [
       "         0         1         2         3         4         5         6   \\\n",
       "0  0.511727  0.684316  0.093734 -0.222589  0.065084  0.571039  0.428427   \n",
       "1  0.511727  0.684316  0.093734 -0.222589  0.065084  0.571039  0.428427   \n",
       "\n",
       "         7         8         9         10  \n",
       "0 -0.098438  0.333169  0.189995 -0.057395  \n",
       "1 -0.098438  0.333169  0.189995 -0.057395  "
      ]
     },
     "execution_count": 16,
     "metadata": {},
     "output_type": "execute_result"
    }
   ],
   "source": [
    "# Посмотрим, что предсказания снова получились одинаковыми\n",
    "df = pd.DataFrame([predictions, predictions_sc])\n",
    "df.loc[:,:10]"
   ]
  },
  {
   "cell_type": "code",
   "execution_count": 17,
   "metadata": {},
   "outputs": [
    {
     "data": {
      "text/plain": [
       "1.1102230246251565e-16"
      ]
     },
     "execution_count": 17,
     "metadata": {},
     "output_type": "execute_result"
    }
   ],
   "source": [
    "np.abs(score_sc - score)"
   ]
  },
  {
   "cell_type": "markdown",
   "metadata": {},
   "source": [
    "Здесь разница и вовсе получилась равна 0, хотя на самом деле значения предсказаний не идеально совпадают.  \n",
    "Сравним насколько отличаются значения предсказаний без преобрзований с предсказаниями масштабированнных и домноженных значений."
   ]
  },
  {
   "cell_type": "code",
   "execution_count": 18,
   "metadata": {},
   "outputs": [
    {
     "name": "stdout",
     "output_type": "stream",
     "text": [
      "-1.2212453270876722e-15 -4.551387533524576e-08\n",
      "-7.771561172376096e-16 6.948197350808982e-08\n",
      "1.1102230246251565e-16 2.197581414620231e-07\n",
      "-1.1102230246251565e-16 3.371292078835353e-08\n",
      "-2.220446049250313e-16 1.6133063018841654e-07\n"
     ]
    }
   ],
   "source": [
    "for i in range(5):\n",
    "    print(predictions[i] - predictions_sc[i], predictions[i] - predictions_p[i])"
   ]
  },
  {
   "cell_type": "markdown",
   "metadata": {},
   "source": [
    "Как видно, масштабирванные значения отличаются от обычных в 16м знаке после запятой, тогда как домноженные в 7-8м знаке.  \n",
    "Это связано с тем, что при домножении производится гораздо больше вычислений и точность вычислений меньше.   \n",
    "Так как масштабированные предсказания настолько близки к обычным, то и метрики у них совпали с высокой точностью."
   ]
  }
 ],
 "metadata": {
  "ExecuteTimeLog": [
   {
    "duration": 802,
    "start_time": "2023-06-19T08:28:56.604Z"
   },
   {
    "duration": 90,
    "start_time": "2023-06-19T08:28:57.408Z"
   },
   {
    "duration": 15,
    "start_time": "2023-06-19T08:29:05.574Z"
   },
   {
    "duration": 13,
    "start_time": "2023-06-19T08:29:17.035Z"
   },
   {
    "duration": 73,
    "start_time": "2023-06-19T09:09:27.130Z"
   },
   {
    "duration": 11,
    "start_time": "2023-06-19T09:09:53.298Z"
   },
   {
    "duration": 7,
    "start_time": "2023-06-19T09:10:00.796Z"
   },
   {
    "duration": 6,
    "start_time": "2023-06-19T09:10:03.695Z"
   },
   {
    "duration": 5,
    "start_time": "2023-06-19T09:11:06.158Z"
   },
   {
    "duration": 5,
    "start_time": "2023-06-19T09:11:23.495Z"
   },
   {
    "duration": 97,
    "start_time": "2023-06-19T09:12:10.694Z"
   },
   {
    "duration": 98,
    "start_time": "2023-06-19T09:12:22.050Z"
   },
   {
    "duration": 100,
    "start_time": "2023-06-19T09:12:43.519Z"
   },
   {
    "duration": 100,
    "start_time": "2023-06-19T09:12:47.638Z"
   },
   {
    "duration": 85,
    "start_time": "2023-06-19T09:13:11.609Z"
   },
   {
    "duration": 3,
    "start_time": "2023-06-19T09:13:14.630Z"
   },
   {
    "duration": 4,
    "start_time": "2023-06-19T09:13:23.207Z"
   },
   {
    "duration": 4,
    "start_time": "2023-06-19T09:13:51.772Z"
   },
   {
    "duration": 59,
    "start_time": "2023-06-19T09:14:04.598Z"
   },
   {
    "duration": 6,
    "start_time": "2023-06-19T09:14:15.149Z"
   },
   {
    "duration": 4,
    "start_time": "2023-06-19T09:19:04.323Z"
   },
   {
    "duration": 26,
    "start_time": "2023-06-19T09:19:08.731Z"
   },
   {
    "duration": 744,
    "start_time": "2023-06-19T09:19:20.492Z"
   },
   {
    "duration": 9,
    "start_time": "2023-06-19T09:19:27.893Z"
   },
   {
    "duration": 45,
    "start_time": "2023-06-19T09:20:12.823Z"
   },
   {
    "duration": 14,
    "start_time": "2023-06-19T09:20:30.124Z"
   },
   {
    "duration": 14,
    "start_time": "2023-06-19T09:20:52.732Z"
   },
   {
    "duration": 8,
    "start_time": "2023-06-19T09:21:03.203Z"
   },
   {
    "duration": 3,
    "start_time": "2023-06-19T09:21:53.344Z"
   },
   {
    "duration": 4,
    "start_time": "2023-06-19T09:21:54.313Z"
   },
   {
    "duration": 11,
    "start_time": "2023-06-19T09:22:30.857Z"
   },
   {
    "duration": 8,
    "start_time": "2023-06-19T09:22:31.853Z"
   },
   {
    "duration": 4,
    "start_time": "2023-06-19T09:22:32.676Z"
   },
   {
    "duration": 4,
    "start_time": "2023-06-19T09:22:39.353Z"
   },
   {
    "duration": 4,
    "start_time": "2023-06-19T09:42:04.681Z"
   },
   {
    "duration": 176,
    "start_time": "2023-06-19T09:42:10.214Z"
   },
   {
    "duration": 8,
    "start_time": "2023-06-19T11:43:29.390Z"
   },
   {
    "duration": 173,
    "start_time": "2023-06-19T11:46:05.298Z"
   },
   {
    "duration": 19,
    "start_time": "2023-06-19T11:46:47.575Z"
   },
   {
    "duration": 34,
    "start_time": "2023-06-19T11:48:55.140Z"
   },
   {
    "duration": 3,
    "start_time": "2023-06-19T11:49:00.188Z"
   },
   {
    "duration": 4,
    "start_time": "2023-06-19T11:49:03.908Z"
   },
   {
    "duration": 28,
    "start_time": "2023-06-19T11:49:04.756Z"
   },
   {
    "duration": 35,
    "start_time": "2023-06-19T11:49:07.243Z"
   },
   {
    "duration": 5,
    "start_time": "2023-06-19T11:49:11.180Z"
   },
   {
    "duration": 103,
    "start_time": "2023-06-19T12:52:25.282Z"
   },
   {
    "duration": 23,
    "start_time": "2023-06-19T12:52:30.770Z"
   },
   {
    "duration": 6,
    "start_time": "2023-06-19T12:53:04.433Z"
   },
   {
    "duration": 16,
    "start_time": "2023-06-19T12:53:08.387Z"
   },
   {
    "duration": 28,
    "start_time": "2023-06-19T12:53:34.696Z"
   },
   {
    "duration": 19,
    "start_time": "2023-06-19T12:54:10.985Z"
   },
   {
    "duration": 89,
    "start_time": "2023-06-19T14:05:55.743Z"
   },
   {
    "duration": 2501,
    "start_time": "2023-06-20T06:11:54.325Z"
   },
   {
    "duration": 40,
    "start_time": "2023-06-20T06:11:56.828Z"
   },
   {
    "duration": 13,
    "start_time": "2023-06-20T06:11:56.869Z"
   },
   {
    "duration": 55,
    "start_time": "2023-06-20T06:11:56.883Z"
   },
   {
    "duration": 19,
    "start_time": "2023-06-20T06:11:56.940Z"
   },
   {
    "duration": 313,
    "start_time": "2023-06-20T06:11:56.960Z"
   },
   {
    "duration": 2,
    "start_time": "2023-06-20T06:11:57.274Z"
   },
   {
    "duration": 62,
    "start_time": "2023-06-20T06:11:57.277Z"
   },
   {
    "duration": 95,
    "start_time": "2023-06-20T06:11:57.340Z"
   },
   {
    "duration": 191,
    "start_time": "2023-06-20T06:11:57.437Z"
   },
   {
    "duration": 265,
    "start_time": "2023-06-20T06:11:57.634Z"
   },
   {
    "duration": 6,
    "start_time": "2023-06-20T06:11:57.908Z"
   },
   {
    "duration": 35,
    "start_time": "2023-06-20T06:11:57.915Z"
   },
   {
    "duration": 30,
    "start_time": "2023-06-20T06:11:57.952Z"
   },
   {
    "duration": 273,
    "start_time": "2023-06-20T06:11:57.983Z"
   },
   {
    "duration": 3,
    "start_time": "2023-06-20T06:11:58.257Z"
   },
   {
    "duration": 35,
    "start_time": "2023-06-20T06:11:58.261Z"
   },
   {
    "duration": 1857,
    "start_time": "2023-06-20T06:27:34.506Z"
   },
   {
    "duration": 112,
    "start_time": "2023-06-20T06:27:36.366Z"
   },
   {
    "duration": 36,
    "start_time": "2023-06-20T06:27:36.479Z"
   },
   {
    "duration": 38,
    "start_time": "2023-06-20T06:27:36.524Z"
   },
   {
    "duration": 17,
    "start_time": "2023-06-20T06:27:36.567Z"
   },
   {
    "duration": 800,
    "start_time": "2023-06-20T06:27:36.586Z"
   },
   {
    "duration": 5,
    "start_time": "2023-06-20T06:27:37.392Z"
   },
   {
    "duration": 35,
    "start_time": "2023-06-20T06:27:37.402Z"
   },
   {
    "duration": 52,
    "start_time": "2023-06-20T06:27:37.439Z"
   },
   {
    "duration": 11,
    "start_time": "2023-06-20T06:27:39.530Z"
   },
   {
    "duration": 54,
    "start_time": "2023-06-20T06:27:40.250Z"
   },
   {
    "duration": 27,
    "start_time": "2023-06-20T06:40:33.523Z"
   },
   {
    "duration": 1269,
    "start_time": "2023-06-20T06:42:34.601Z"
   },
   {
    "duration": 38,
    "start_time": "2023-06-20T06:42:35.872Z"
   },
   {
    "duration": 20,
    "start_time": "2023-06-20T06:42:35.912Z"
   },
   {
    "duration": 20,
    "start_time": "2023-06-20T06:42:35.935Z"
   },
   {
    "duration": 69,
    "start_time": "2023-06-20T06:42:35.960Z"
   },
   {
    "duration": 5,
    "start_time": "2023-06-20T06:42:36.032Z"
   },
   {
    "duration": 485,
    "start_time": "2023-06-20T06:42:36.039Z"
   },
   {
    "duration": 3,
    "start_time": "2023-06-20T06:42:36.527Z"
   },
   {
    "duration": 67,
    "start_time": "2023-06-20T06:42:36.532Z"
   },
   {
    "duration": 69,
    "start_time": "2023-06-20T06:42:36.603Z"
   },
   {
    "duration": 208,
    "start_time": "2023-06-20T06:42:36.678Z"
   },
   {
    "duration": 180,
    "start_time": "2023-06-20T06:42:36.951Z"
   },
   {
    "duration": 4,
    "start_time": "2023-06-20T06:42:37.133Z"
   },
   {
    "duration": 26,
    "start_time": "2023-06-20T06:42:37.140Z"
   },
   {
    "duration": 47,
    "start_time": "2023-06-20T06:42:37.173Z"
   },
   {
    "duration": 313,
    "start_time": "2023-06-20T06:42:37.224Z"
   },
   {
    "duration": 3,
    "start_time": "2023-06-20T06:42:37.539Z"
   },
   {
    "duration": 52,
    "start_time": "2023-06-20T06:42:37.544Z"
   }
  ],
  "kernelspec": {
   "display_name": "Python 3 (ipykernel)",
   "language": "python",
   "name": "python3"
  },
  "language_info": {
   "codemirror_mode": {
    "name": "ipython",
    "version": 3
   },
   "file_extension": ".py",
   "mimetype": "text/x-python",
   "name": "python",
   "nbconvert_exporter": "python",
   "pygments_lexer": "ipython3",
   "version": "3.9.18"
  },
  "toc": {
   "base_numbering": 1,
   "nav_menu": {},
   "number_sections": true,
   "sideBar": true,
   "skip_h1_title": true,
   "title_cell": "Содержание",
   "title_sidebar": "Contents",
   "toc_cell": true,
   "toc_position": {
    "height": "calc(100% - 180px)",
    "left": "10px",
    "top": "150px",
    "width": "191.188px"
   },
   "toc_section_display": true,
   "toc_window_display": false
  }
 },
 "nbformat": 4,
 "nbformat_minor": 4
}
