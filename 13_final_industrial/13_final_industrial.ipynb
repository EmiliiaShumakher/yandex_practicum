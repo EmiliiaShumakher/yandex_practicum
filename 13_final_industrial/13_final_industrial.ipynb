{
 "cells": [
  {
   "cell_type": "markdown",
   "id": "0b281731",
   "metadata": {},
   "source": [
    "# Предсказание температуры стали"
   ]
  },
  {
   "cell_type": "markdown",
   "id": "733753c5",
   "metadata": {},
   "source": [
    "## Описание проекта"
   ]
  },
  {
   "cell_type": "markdown",
   "id": "a942f274",
   "metadata": {},
   "source": [
    "### Цель проекта"
   ]
  },
  {
   "cell_type": "markdown",
   "id": "0f082e4d",
   "metadata": {},
   "source": [
    "Металлургический комбинат ООО «Так закаляем сталь» решил уменьшить потребление электроэнергии на этапе обработки стали.   \n",
    "Необходимо построить модель, которая предскажет температуру стали.   \n",
    "Требуемая точность модели:  \n",
    "$$ MAE < 6.8$$"
   ]
  },
  {
   "cell_type": "markdown",
   "id": "e1d28ff3",
   "metadata": {},
   "source": [
    "### Описание этапа обработки"
   ]
  },
  {
   "cell_type": "markdown",
   "id": "8fcc5450",
   "metadata": {},
   "source": [
    "Сталь обрабатывают в металлическом ковше вместимостью около 100 тонн. Чтобы ковш выдерживал высокие температуры, изнутри его облицовывают огнеупорным кирпичом. Расплавленную сталь заливают в ковш и подогревают до нужной температуры графитовыми электродами. Они установлены в крышке ковша. \n",
    "\n",
    "Из сплава выводится сера (десульфурация), добавлением примесей корректируется химический состав и отбираются пробы. Сталь легируют — изменяют её состав — подавая куски сплава из бункера для сыпучих материалов или проволоку через специальный трайб-аппарат (англ. tribe, «масса»)\n",
    ".\n",
    "Перед тем как первый раз ввести легирующие добавки, измеряют температуру стали и производят её химический анализ. Потом температуру на несколько минут повышают, добавляют легирующие материалы и продувают сплав инертным газом. Затем его перемешивают и снова проводят измерения. Такой цикл повторяется до достижения целевого химического состава и оптимальной температуры плавк\n",
    "и.\n",
    "Тогда расплавленная сталь отправляется на доводку металла или поступает в машину непрерывной разливки. Оттуда готовый продукт выходит в виде заготовок-слябов (англ. slab, «плита»)."
   ]
  },
  {
   "cell_type": "markdown",
   "id": "505b4489",
   "metadata": {},
   "source": [
    "### Описание данных"
   ]
  },
  {
   "cell_type": "markdown",
   "id": "bf2f5b49",
   "metadata": {},
   "source": [
    "Данные состоят из файлов, полученных из разных источников:  \n",
    "* `data_arc_new.csv` — данные об электродах;\n",
    "* `data_bulk_new.csv` — данные о подаче сыпучих материалов (объём);\n",
    "* `data_bulk_time_new.csv` — данные о подаче сыпучих материалов (время);\n",
    "* `data_gas_new.csv` — данные о продувке сплава газом;\n",
    "* `data_temp_new.csv` — результаты измерения температуры;\n",
    "* `data_wire_new.csv` — данные о проволочных материалах (объём);\n",
    "* `data_wire_time_new.csv` — данные о проволочных материалах (время).\n",
    "\n",
    "Во всех файлах столбец `key` содержит номер партии. В файлах может быть несколько строк с одинаковым значением `key`: они соответствуют разным итерациям обработки.работки.\n",
    ".работки."
   ]
  },
  {
   "cell_type": "markdown",
   "id": "8e01d298",
   "metadata": {},
   "source": [
    "## Первичный анализ данных"
   ]
  },
  {
   "cell_type": "code",
   "execution_count": 1,
   "id": "fa2f7799",
   "metadata": {
    "tags": []
   },
   "outputs": [
    {
     "name": "stdout",
     "output_type": "stream",
     "text": [
      "Requirement already satisfied: lightgbm in c:\\users\\emiliia\\anaconda3\\envs\\practicum\\lib\\site-packages (4.2.0)\n",
      "Requirement already satisfied: numpy in c:\\users\\emiliia\\anaconda3\\envs\\practicum\\lib\\site-packages (from lightgbm) (1.20.1)\n",
      "Requirement already satisfied: scipy in c:\\users\\emiliia\\anaconda3\\envs\\practicum\\lib\\site-packages (from lightgbm) (1.8.0)\n",
      "Note: you may need to restart the kernel to use updated packages.\n"
     ]
    }
   ],
   "source": [
    "pip install lightgbm"
   ]
  },
  {
   "cell_type": "code",
   "execution_count": 2,
   "id": "3594d7a2-677b-43a4-8707-d04c9d51ead8",
   "metadata": {
    "tags": []
   },
   "outputs": [
    {
     "name": "stdout",
     "output_type": "stream",
     "text": [
      "Requirement already satisfied: catboost in c:\\users\\emiliia\\anaconda3\\envs\\practicum\\lib\\site-packages (1.2.2)\n",
      "Requirement already satisfied: graphviz in c:\\users\\emiliia\\anaconda3\\envs\\practicum\\lib\\site-packages (from catboost) (0.20.1)\n",
      "Requirement already satisfied: matplotlib in c:\\users\\emiliia\\anaconda3\\envs\\practicum\\lib\\site-packages (from catboost) (3.3.4)\n",
      "Requirement already satisfied: numpy>=1.16.0 in c:\\users\\emiliia\\anaconda3\\envs\\practicum\\lib\\site-packages (from catboost) (1.20.1)\n",
      "Requirement already satisfied: pandas>=0.24 in c:\\users\\emiliia\\anaconda3\\envs\\practicum\\lib\\site-packages (from catboost) (1.2.4)\n",
      "Requirement already satisfied: scipy in c:\\users\\emiliia\\anaconda3\\envs\\practicum\\lib\\site-packages (from catboost) (1.8.0)\n",
      "Requirement already satisfied: plotly in c:\\users\\emiliia\\anaconda3\\envs\\practicum\\lib\\site-packages (from catboost) (5.4.0)\n",
      "Requirement already satisfied: six in c:\\users\\emiliia\\anaconda3\\envs\\practicum\\lib\\site-packages (from catboost) (1.16.0)\n",
      "Requirement already satisfied: python-dateutil>=2.7.3 in c:\\users\\emiliia\\anaconda3\\envs\\practicum\\lib\\site-packages (from pandas>=0.24->catboost) (2.8.2)\n",
      "Requirement already satisfied: pytz>=2017.3 in c:\\users\\emiliia\\anaconda3\\envs\\practicum\\lib\\site-packages (from pandas>=0.24->catboost) (2023.3.post1)\n",
      "Requirement already satisfied: cycler>=0.10 in c:\\users\\emiliia\\anaconda3\\envs\\practicum\\lib\\site-packages (from matplotlib->catboost) (0.12.1)\n",
      "Requirement already satisfied: kiwisolver>=1.0.1 in c:\\users\\emiliia\\anaconda3\\envs\\practicum\\lib\\site-packages (from matplotlib->catboost) (1.4.5)\n",
      "Requirement already satisfied: pillow>=6.2.0 in c:\\users\\emiliia\\anaconda3\\envs\\practicum\\lib\\site-packages (from matplotlib->catboost) (10.2.0)\n",
      "Requirement already satisfied: pyparsing!=2.0.4,!=2.1.2,!=2.1.6,>=2.0.3 in c:\\users\\emiliia\\anaconda3\\envs\\practicum\\lib\\site-packages (from matplotlib->catboost) (3.1.1)\n",
      "Requirement already satisfied: tenacity>=6.2.0 in c:\\users\\emiliia\\anaconda3\\envs\\practicum\\lib\\site-packages (from plotly->catboost) (8.2.3)\n",
      "Note: you may need to restart the kernel to use updated packages.\n"
     ]
    }
   ],
   "source": [
    "pip install catboost"
   ]
  },
  {
   "cell_type": "code",
   "execution_count": 3,
   "id": "3c6e30d8",
   "metadata": {
    "tags": []
   },
   "outputs": [],
   "source": [
    "import pandas as pd\n",
    "import matplotlib.pyplot as plt\n",
    "import numpy as np\n",
    "\n",
    "from sklearn.model_selection import train_test_split\n",
    "from sklearn.metrics import mean_absolute_error\n",
    "from sklearn.preprocessing import StandardScaler\n",
    "from sklearn.model_selection import RandomizedSearchCV\n",
    "from sklearn.model_selection import cross_val_score\n",
    "\n",
    "from sklearn.linear_model import LinearRegression\n",
    "from sklearn.ensemble import RandomForestRegressor\n",
    "from catboost import CatBoostRegressor\n",
    "from lightgbm import LGBMRegressor\n",
    "\n",
    "from sklearn.metrics import r2_score\n",
    "\n",
    "from sklearn.dummy import DummyRegressor"
   ]
  },
  {
   "cell_type": "markdown",
   "id": "62fa1e36",
   "metadata": {},
   "source": [
    "### Данные об электродах"
   ]
  },
  {
   "cell_type": "markdown",
   "id": "7532cf69",
   "metadata": {},
   "source": [
    "#### Анализ данных"
   ]
  },
  {
   "cell_type": "code",
   "execution_count": 4,
   "id": "06ef6537",
   "metadata": {
    "tags": []
   },
   "outputs": [],
   "source": [
    "try:\n",
    "    data_arc = pd.read_csv('datasets\\\\data_arc_new.csv', parse_dates=[1,2])\n",
    "except:\n",
    "    data_arc = pd.read_csv('https://code.s3.yandex.net/datasets/data_arc_new.csv', parse_dates=[1,2]) "
   ]
  },
  {
   "cell_type": "code",
   "execution_count": 5,
   "id": "514da072",
   "metadata": {
    "tags": []
   },
   "outputs": [
    {
     "data": {
      "text/html": [
       "<div>\n",
       "<style scoped>\n",
       "    .dataframe tbody tr th:only-of-type {\n",
       "        vertical-align: middle;\n",
       "    }\n",
       "\n",
       "    .dataframe tbody tr th {\n",
       "        vertical-align: top;\n",
       "    }\n",
       "\n",
       "    .dataframe thead th {\n",
       "        text-align: right;\n",
       "    }\n",
       "</style>\n",
       "<table border=\"1\" class=\"dataframe\">\n",
       "  <thead>\n",
       "    <tr style=\"text-align: right;\">\n",
       "      <th></th>\n",
       "      <th>key</th>\n",
       "      <th>Начало нагрева дугой</th>\n",
       "      <th>Конец нагрева дугой</th>\n",
       "      <th>Активная мощность</th>\n",
       "      <th>Реактивная мощность</th>\n",
       "    </tr>\n",
       "  </thead>\n",
       "  <tbody>\n",
       "    <tr>\n",
       "      <th>0</th>\n",
       "      <td>1</td>\n",
       "      <td>2019-05-03 11:02:14</td>\n",
       "      <td>2019-05-03 11:06:02</td>\n",
       "      <td>0.305130</td>\n",
       "      <td>0.211253</td>\n",
       "    </tr>\n",
       "    <tr>\n",
       "      <th>1</th>\n",
       "      <td>1</td>\n",
       "      <td>2019-05-03 11:07:28</td>\n",
       "      <td>2019-05-03 11:10:33</td>\n",
       "      <td>0.765658</td>\n",
       "      <td>0.477438</td>\n",
       "    </tr>\n",
       "    <tr>\n",
       "      <th>2</th>\n",
       "      <td>1</td>\n",
       "      <td>2019-05-03 11:11:44</td>\n",
       "      <td>2019-05-03 11:14:36</td>\n",
       "      <td>0.580313</td>\n",
       "      <td>0.430460</td>\n",
       "    </tr>\n",
       "    <tr>\n",
       "      <th>3</th>\n",
       "      <td>1</td>\n",
       "      <td>2019-05-03 11:18:14</td>\n",
       "      <td>2019-05-03 11:24:19</td>\n",
       "      <td>0.518496</td>\n",
       "      <td>0.379979</td>\n",
       "    </tr>\n",
       "    <tr>\n",
       "      <th>4</th>\n",
       "      <td>1</td>\n",
       "      <td>2019-05-03 11:26:09</td>\n",
       "      <td>2019-05-03 11:28:37</td>\n",
       "      <td>0.867133</td>\n",
       "      <td>0.643691</td>\n",
       "    </tr>\n",
       "  </tbody>\n",
       "</table>\n",
       "</div>"
      ],
      "text/plain": [
       "   key Начало нагрева дугой Конец нагрева дугой  Активная мощность  \\\n",
       "0    1  2019-05-03 11:02:14 2019-05-03 11:06:02           0.305130   \n",
       "1    1  2019-05-03 11:07:28 2019-05-03 11:10:33           0.765658   \n",
       "2    1  2019-05-03 11:11:44 2019-05-03 11:14:36           0.580313   \n",
       "3    1  2019-05-03 11:18:14 2019-05-03 11:24:19           0.518496   \n",
       "4    1  2019-05-03 11:26:09 2019-05-03 11:28:37           0.867133   \n",
       "\n",
       "   Реактивная мощность  \n",
       "0             0.211253  \n",
       "1             0.477438  \n",
       "2             0.430460  \n",
       "3             0.379979  \n",
       "4             0.643691  "
      ]
     },
     "execution_count": 5,
     "metadata": {},
     "output_type": "execute_result"
    }
   ],
   "source": [
    "data_arc.head()"
   ]
  },
  {
   "cell_type": "markdown",
   "id": "9a08230f",
   "metadata": {},
   "source": [
    "Одному ключу может соответствовать несколько записей в датасете.  \n",
    "Для построения модели предсказаний нам нужно привести данные к виду один ключ - одна запись.  \n",
    "\n",
    "Точное время начала и конца нагрева нас мало интересует, более интересна длительность нагрева. Длительность является разностью конца и начала нагрева.  \n",
    "Так как нам нужно привести всё к одной записи, то можно было бы сложить общую длительность нарева. Однако на разных этапах подаётся разная мощность, что не позволяет нам просто сложить интервалы нагрева.   \n",
    "Результатом нарева является работа, совершённая электродом. Работа вычисляется как произведение времени на мощность. И работу можно уже сложить по каждому этапу в общую сумму.  \n",
    "Суммарная совершённая работа, будет достоверно отображать процесс нагрева.\n",
    "\n",
    "Также интересна общая длина процесса обработки стали, так как в течение всего процесса сталь остывает под действием внешней среды. Вычислить общую длину процесса можно как разность начала первого нагрева и конец последнего.  \n",
    "\n",
    "К сожалению, после окончания последнего нагрева, со сталью могут проводить некоторые манипуляции, отображённые в других датасетах. И общую длину процесса следовало бы измерять по окончании всех процедур. Однако, сделать это нельзя, из-за того что в разных датасетах часы не синхронизированы и это может привести к ошибкам в данных.  "
   ]
  },
  {
   "cell_type": "code",
   "execution_count": 6,
   "id": "4246b988",
   "metadata": {
    "tags": []
   },
   "outputs": [
    {
     "name": "stdout",
     "output_type": "stream",
     "text": [
      "<class 'pandas.core.frame.DataFrame'>\n",
      "RangeIndex: 14876 entries, 0 to 14875\n",
      "Data columns (total 5 columns):\n",
      " #   Column                Non-Null Count  Dtype         \n",
      "---  ------                --------------  -----         \n",
      " 0   key                   14876 non-null  int64         \n",
      " 1   Начало нагрева дугой  14876 non-null  datetime64[ns]\n",
      " 2   Конец нагрева дугой   14876 non-null  datetime64[ns]\n",
      " 3   Активная мощность     14876 non-null  float64       \n",
      " 4   Реактивная мощность   14876 non-null  float64       \n",
      "dtypes: datetime64[ns](2), float64(2), int64(1)\n",
      "memory usage: 581.2 KB\n"
     ]
    }
   ],
   "source": [
    "data_arc.info()"
   ]
  },
  {
   "cell_type": "markdown",
   "id": "10b6af51",
   "metadata": {},
   "source": [
    "Пропусков нет"
   ]
  },
  {
   "cell_type": "code",
   "execution_count": 7,
   "id": "aae8ee85",
   "metadata": {
    "tags": []
   },
   "outputs": [
    {
     "data": {
      "text/html": [
       "<div>\n",
       "<style scoped>\n",
       "    .dataframe tbody tr th:only-of-type {\n",
       "        vertical-align: middle;\n",
       "    }\n",
       "\n",
       "    .dataframe tbody tr th {\n",
       "        vertical-align: top;\n",
       "    }\n",
       "\n",
       "    .dataframe thead th {\n",
       "        text-align: right;\n",
       "    }\n",
       "</style>\n",
       "<table border=\"1\" class=\"dataframe\">\n",
       "  <thead>\n",
       "    <tr style=\"text-align: right;\">\n",
       "      <th></th>\n",
       "      <th>key</th>\n",
       "      <th>Активная мощность</th>\n",
       "      <th>Реактивная мощность</th>\n",
       "    </tr>\n",
       "  </thead>\n",
       "  <tbody>\n",
       "    <tr>\n",
       "      <th>count</th>\n",
       "      <td>14876.0</td>\n",
       "      <td>14876.000000</td>\n",
       "      <td>14876.000000</td>\n",
       "    </tr>\n",
       "    <tr>\n",
       "      <th>min</th>\n",
       "      <td>1.0</td>\n",
       "      <td>0.223120</td>\n",
       "      <td>-715.479924</td>\n",
       "    </tr>\n",
       "    <tr>\n",
       "      <th>50%</th>\n",
       "      <td>1617.0</td>\n",
       "      <td>0.599587</td>\n",
       "      <td>0.441639</td>\n",
       "    </tr>\n",
       "    <tr>\n",
       "      <th>max</th>\n",
       "      <td>3241.0</td>\n",
       "      <td>1.463773</td>\n",
       "      <td>1.270284</td>\n",
       "    </tr>\n",
       "  </tbody>\n",
       "</table>\n",
       "</div>"
      ],
      "text/plain": [
       "           key  Активная мощность  Реактивная мощность\n",
       "count  14876.0       14876.000000         14876.000000\n",
       "min        1.0           0.223120          -715.479924\n",
       "50%     1617.0           0.599587             0.441639\n",
       "max     3241.0           1.463773             1.270284"
      ]
     },
     "execution_count": 7,
     "metadata": {},
     "output_type": "execute_result"
    }
   ],
   "source": [
    "data_arc.describe().loc[['count','min','50%','max']]"
   ]
  },
  {
   "cell_type": "markdown",
   "id": "4e0bcff8",
   "metadata": {},
   "source": [
    "В столбце реактивной мощности выделяется минимальное значение меньше 0. Это явная ошибка, мощность не может быть меньше нуля.  \n",
    "Посмортим сколько таких значений встречается в данных."
   ]
  },
  {
   "cell_type": "code",
   "execution_count": 8,
   "id": "0f66f88f",
   "metadata": {
    "tags": []
   },
   "outputs": [
    {
     "data": {
      "text/html": [
       "<div>\n",
       "<style scoped>\n",
       "    .dataframe tbody tr th:only-of-type {\n",
       "        vertical-align: middle;\n",
       "    }\n",
       "\n",
       "    .dataframe tbody tr th {\n",
       "        vertical-align: top;\n",
       "    }\n",
       "\n",
       "    .dataframe thead th {\n",
       "        text-align: right;\n",
       "    }\n",
       "</style>\n",
       "<table border=\"1\" class=\"dataframe\">\n",
       "  <thead>\n",
       "    <tr style=\"text-align: right;\">\n",
       "      <th></th>\n",
       "      <th>key</th>\n",
       "      <th>Начало нагрева дугой</th>\n",
       "      <th>Конец нагрева дугой</th>\n",
       "      <th>Активная мощность</th>\n",
       "      <th>Реактивная мощность</th>\n",
       "    </tr>\n",
       "  </thead>\n",
       "  <tbody>\n",
       "    <tr>\n",
       "      <th>9780</th>\n",
       "      <td>2116</td>\n",
       "      <td>2019-07-28 02:22:08</td>\n",
       "      <td>2019-07-28 02:23:57</td>\n",
       "      <td>0.705344</td>\n",
       "      <td>-715.479924</td>\n",
       "    </tr>\n",
       "  </tbody>\n",
       "</table>\n",
       "</div>"
      ],
      "text/plain": [
       "       key Начало нагрева дугой Конец нагрева дугой  Активная мощность  \\\n",
       "9780  2116  2019-07-28 02:22:08 2019-07-28 02:23:57           0.705344   \n",
       "\n",
       "      Реактивная мощность  \n",
       "9780          -715.479924  "
      ]
     },
     "execution_count": 8,
     "metadata": {},
     "output_type": "execute_result"
    }
   ],
   "source": [
    "data_arc[data_arc['Реактивная мощность'] < 0]"
   ]
  },
  {
   "cell_type": "markdown",
   "id": "4504282e",
   "metadata": {},
   "source": [
    "Всего одна запись, от неё нужно будет избавиться при обработке данных."
   ]
  },
  {
   "cell_type": "code",
   "execution_count": 9,
   "id": "d42291bd",
   "metadata": {
    "tags": []
   },
   "outputs": [
    {
     "data": {
      "image/png": "[encoded data removed]",
      "text/plain": [
       "<Figure size 720x144 with 1 Axes>"
      ]
     },
     "metadata": {
      "needs_background": "light"
     },
     "output_type": "display_data"
    },
    {
     "data": {
      "image/png": "[encoded data removed]",
      "text/plain": [
       "<Figure size 720x144 with 1 Axes>"
      ]
     },
     "metadata": {
      "needs_background": "light"
     },
     "output_type": "display_data"
    }
   ],
   "source": [
    "plt.figure(figsize=(10, 2))\n",
    "plt.boxplot(data_arc[['Активная мощность']],vert=False)\n",
    "plt.title('Разброс значений активной мощности')\n",
    "plt.xlabel('Мощность')\n",
    "plt.xlim(0,1.5)\n",
    "plt.show();\n",
    "plt.figure(figsize=(10, 2))\n",
    "plt.boxplot(data_arc[['Реактивная мощность']],vert=False)\n",
    "plt.title('Разброс значений реактивной мощности')\n",
    "plt.xlabel('Мощность')\n",
    "plt.xlim(0,1.5)\n",
    "plt.show();"
   ]
  },
  {
   "cell_type": "markdown",
   "id": "3493dc73",
   "metadata": {},
   "source": [
    "Помимо одной ошибки данные выглядят нормально.  \n",
    "Выбросы присутствуют, но не выглядят аномально большими."
   ]
  },
  {
   "cell_type": "markdown",
   "id": "85c0df8f",
   "metadata": {},
   "source": [
    "Проверим корреляцию данных"
   ]
  },
  {
   "cell_type": "code",
   "execution_count": 10,
   "id": "d7773c8e",
   "metadata": {
    "tags": []
   },
   "outputs": [
    {
     "data": {
      "text/html": [
       "<style  type=\"text/css\" >\n",
       "#T_4355c_row0_col0,#T_4355c_row1_col1{\n",
       "            background-color:  #b40426;\n",
       "            color:  #f1f1f1;\n",
       "        }#T_4355c_row0_col1,#T_4355c_row1_col0{\n",
       "            background-color:  #4358cb;\n",
       "            color:  #f1f1f1;\n",
       "        }</style><table id=\"T_4355c_\" ><thead>    <tr>        <th class=\"blank level0\" ></th>        <th class=\"col_heading level0 col0\" >Активная мощность</th>        <th class=\"col_heading level0 col1\" >Реактивная мощность</th>    </tr></thead><tbody>\n",
       "                <tr>\n",
       "                        <th id=\"T_4355c_level0_row0\" class=\"row_heading level0 row0\" >Активная мощность</th>\n",
       "                        <td id=\"T_4355c_row0_col0\" class=\"data row0 col0\" >1.000000</td>\n",
       "                        <td id=\"T_4355c_row0_col1\" class=\"data row0 col1\" >0.031164</td>\n",
       "            </tr>\n",
       "            <tr>\n",
       "                        <th id=\"T_4355c_level0_row1\" class=\"row_heading level0 row1\" >Реактивная мощность</th>\n",
       "                        <td id=\"T_4355c_row1_col0\" class=\"data row1 col0\" >0.031164</td>\n",
       "                        <td id=\"T_4355c_row1_col1\" class=\"data row1 col1\" >1.000000</td>\n",
       "            </tr>\n",
       "    </tbody></table>"
      ],
      "text/plain": [
       "<pandas.io.formats.style.Styler at 0x7f1e61e4ceb0>"
      ]
     },
     "execution_count": 10,
     "metadata": {},
     "output_type": "execute_result"
    }
   ],
   "source": [
    "data_arc.drop('key',axis=1).corr().style.background_gradient(cmap='coolwarm', axis=0, vmin=0, vmax=1)"
   ]
  },
  {
   "cell_type": "markdown",
   "id": "66b72fba",
   "metadata": {},
   "source": [
    "Корреляция мощностей почти нулевая, однако мы помним, что в наборе есть одно неверное значение. Посмотрим какой будет результат без него."
   ]
  },
  {
   "cell_type": "code",
   "execution_count": 11,
   "id": "5aba4648",
   "metadata": {
    "tags": []
   },
   "outputs": [
    {
     "data": {
      "text/html": [
       "<style  type=\"text/css\" >\n",
       "#T_9cdcb_row0_col0,#T_9cdcb_row1_col1{\n",
       "            background-color:  #b40426;\n",
       "            color:  #f1f1f1;\n",
       "        }#T_9cdcb_row0_col1,#T_9cdcb_row1_col0{\n",
       "            background-color:  #c0282f;\n",
       "            color:  #f1f1f1;\n",
       "        }</style><table id=\"T_9cdcb_\" ><thead>    <tr>        <th class=\"blank level0\" ></th>        <th class=\"col_heading level0 col0\" >Активная мощность</th>        <th class=\"col_heading level0 col1\" >Реактивная мощность</th>    </tr></thead><tbody>\n",
       "                <tr>\n",
       "                        <th id=\"T_9cdcb_level0_row0\" class=\"row_heading level0 row0\" >Активная мощность</th>\n",
       "                        <td id=\"T_9cdcb_row0_col0\" class=\"data row0 col0\" >1.000000</td>\n",
       "                        <td id=\"T_9cdcb_row0_col1\" class=\"data row0 col1\" >0.966373</td>\n",
       "            </tr>\n",
       "            <tr>\n",
       "                        <th id=\"T_9cdcb_level0_row1\" class=\"row_heading level0 row1\" >Реактивная мощность</th>\n",
       "                        <td id=\"T_9cdcb_row1_col0\" class=\"data row1 col0\" >0.966373</td>\n",
       "                        <td id=\"T_9cdcb_row1_col1\" class=\"data row1 col1\" >1.000000</td>\n",
       "            </tr>\n",
       "    </tbody></table>"
      ],
      "text/plain": [
       "<pandas.io.formats.style.Styler at 0x7f1ef4da5d60>"
      ]
     },
     "execution_count": 11,
     "metadata": {},
     "output_type": "execute_result"
    }
   ],
   "source": [
    "(data_arc[data_arc['Реактивная мощность'] > 0].drop('key',axis=1).corr().\n",
    "     style.background_gradient(cmap='coolwarm',axis=0, vmin=0, vmax=1))"
   ]
  },
  {
   "cell_type": "markdown",
   "id": "2c64d1a9",
   "metadata": {},
   "source": [
    "Совсем другой результат. Как сильно может повлиять одна неверная запись.  \n",
    "\n",
    "Теперь появляется вопрос: следует ли оставить в датасете только активную мощность, либо вычислить полную?  \n",
    "Я выбираю вариант с активной мощностью. Так как именно активная мощность влияет непосредственно на сталь, а реактивная мощность является побочными затратами энергии."
   ]
  },
  {
   "cell_type": "markdown",
   "id": "c8e26390",
   "metadata": {},
   "source": [
    "#### Вывод"
   ]
  },
  {
   "cell_type": "markdown",
   "id": "e57e6507",
   "metadata": {},
   "source": [
    "Пропусков в датасете нет.  \n",
    "Ошибка содержится только в одной записи с отрицательной мощьностью. Все данные по этому процессу нужно будет удалить.  \n",
    "\n",
    "Активная и реактивная мощность сильно коррелируют друг с другом. Так как на сталь воздействует именно активная мощьность, в датасете следует оставить только её.\n",
    "\n",
    "Всю информацию по каждому отдельному процессу следует агрегировать.  \n",
    "Можно создать новую таблицу со следующими столбцами:\n",
    "* Ключ процесса;\n",
    "* Общая длительность процесса от начала первого нагрева, до конца последнего;\n",
    "* Суммарная активная работа.\n",
    "\n",
    "Работа вычисляется как произведение времени нагрева, на его активную мощность."
   ]
  },
  {
   "cell_type": "markdown",
   "id": "4af91e76",
   "metadata": {},
   "source": [
    "### Данные о подаче сыпучих материалов (объём)"
   ]
  },
  {
   "cell_type": "markdown",
   "id": "fcb04f04",
   "metadata": {},
   "source": [
    "#### Анализ данных"
   ]
  },
  {
   "cell_type": "code",
   "execution_count": 12,
   "id": "128bbcce",
   "metadata": {
    "tags": []
   },
   "outputs": [],
   "source": [
    "try:\n",
    "    data_bulk_vol = pd.read_csv('datasets\\\\data_bulk_new.csv')\n",
    "except:\n",
    "    data_bulk_vol = pd.read_csv('https://code.s3.yandex.net/datasets/data_bulk_new.csv') "
   ]
  },
  {
   "cell_type": "code",
   "execution_count": 13,
   "id": "e75451a4",
   "metadata": {
    "tags": []
   },
   "outputs": [
    {
     "data": {
      "text/html": [
       "<div>\n",
       "<style scoped>\n",
       "    .dataframe tbody tr th:only-of-type {\n",
       "        vertical-align: middle;\n",
       "    }\n",
       "\n",
       "    .dataframe tbody tr th {\n",
       "        vertical-align: top;\n",
       "    }\n",
       "\n",
       "    .dataframe thead th {\n",
       "        text-align: right;\n",
       "    }\n",
       "</style>\n",
       "<table border=\"1\" class=\"dataframe\">\n",
       "  <thead>\n",
       "    <tr style=\"text-align: right;\">\n",
       "      <th></th>\n",
       "      <th>key</th>\n",
       "      <th>Bulk 1</th>\n",
       "      <th>Bulk 2</th>\n",
       "      <th>Bulk 3</th>\n",
       "      <th>Bulk 4</th>\n",
       "      <th>Bulk 5</th>\n",
       "      <th>Bulk 6</th>\n",
       "      <th>Bulk 7</th>\n",
       "      <th>Bulk 8</th>\n",
       "      <th>Bulk 9</th>\n",
       "      <th>Bulk 10</th>\n",
       "      <th>Bulk 11</th>\n",
       "      <th>Bulk 12</th>\n",
       "      <th>Bulk 13</th>\n",
       "      <th>Bulk 14</th>\n",
       "      <th>Bulk 15</th>\n",
       "    </tr>\n",
       "  </thead>\n",
       "  <tbody>\n",
       "    <tr>\n",
       "      <th>0</th>\n",
       "      <td>1</td>\n",
       "      <td>NaN</td>\n",
       "      <td>NaN</td>\n",
       "      <td>NaN</td>\n",
       "      <td>43.0</td>\n",
       "      <td>NaN</td>\n",
       "      <td>NaN</td>\n",
       "      <td>NaN</td>\n",
       "      <td>NaN</td>\n",
       "      <td>NaN</td>\n",
       "      <td>NaN</td>\n",
       "      <td>NaN</td>\n",
       "      <td>206.0</td>\n",
       "      <td>NaN</td>\n",
       "      <td>150.0</td>\n",
       "      <td>154.0</td>\n",
       "    </tr>\n",
       "    <tr>\n",
       "      <th>1</th>\n",
       "      <td>2</td>\n",
       "      <td>NaN</td>\n",
       "      <td>NaN</td>\n",
       "      <td>NaN</td>\n",
       "      <td>73.0</td>\n",
       "      <td>NaN</td>\n",
       "      <td>NaN</td>\n",
       "      <td>NaN</td>\n",
       "      <td>NaN</td>\n",
       "      <td>NaN</td>\n",
       "      <td>NaN</td>\n",
       "      <td>NaN</td>\n",
       "      <td>206.0</td>\n",
       "      <td>NaN</td>\n",
       "      <td>149.0</td>\n",
       "      <td>154.0</td>\n",
       "    </tr>\n",
       "    <tr>\n",
       "      <th>2</th>\n",
       "      <td>3</td>\n",
       "      <td>NaN</td>\n",
       "      <td>NaN</td>\n",
       "      <td>NaN</td>\n",
       "      <td>34.0</td>\n",
       "      <td>NaN</td>\n",
       "      <td>NaN</td>\n",
       "      <td>NaN</td>\n",
       "      <td>NaN</td>\n",
       "      <td>NaN</td>\n",
       "      <td>NaN</td>\n",
       "      <td>NaN</td>\n",
       "      <td>205.0</td>\n",
       "      <td>NaN</td>\n",
       "      <td>152.0</td>\n",
       "      <td>153.0</td>\n",
       "    </tr>\n",
       "    <tr>\n",
       "      <th>3</th>\n",
       "      <td>4</td>\n",
       "      <td>NaN</td>\n",
       "      <td>NaN</td>\n",
       "      <td>NaN</td>\n",
       "      <td>81.0</td>\n",
       "      <td>NaN</td>\n",
       "      <td>NaN</td>\n",
       "      <td>NaN</td>\n",
       "      <td>NaN</td>\n",
       "      <td>NaN</td>\n",
       "      <td>NaN</td>\n",
       "      <td>NaN</td>\n",
       "      <td>207.0</td>\n",
       "      <td>NaN</td>\n",
       "      <td>153.0</td>\n",
       "      <td>154.0</td>\n",
       "    </tr>\n",
       "    <tr>\n",
       "      <th>4</th>\n",
       "      <td>5</td>\n",
       "      <td>NaN</td>\n",
       "      <td>NaN</td>\n",
       "      <td>NaN</td>\n",
       "      <td>78.0</td>\n",
       "      <td>NaN</td>\n",
       "      <td>NaN</td>\n",
       "      <td>NaN</td>\n",
       "      <td>NaN</td>\n",
       "      <td>NaN</td>\n",
       "      <td>NaN</td>\n",
       "      <td>NaN</td>\n",
       "      <td>203.0</td>\n",
       "      <td>NaN</td>\n",
       "      <td>151.0</td>\n",
       "      <td>152.0</td>\n",
       "    </tr>\n",
       "  </tbody>\n",
       "</table>\n",
       "</div>"
      ],
      "text/plain": [
       "   key  Bulk 1  Bulk 2  Bulk 3  Bulk 4  Bulk 5  Bulk 6  Bulk 7  Bulk 8  \\\n",
       "0    1     NaN     NaN     NaN    43.0     NaN     NaN     NaN     NaN   \n",
       "1    2     NaN     NaN     NaN    73.0     NaN     NaN     NaN     NaN   \n",
       "2    3     NaN     NaN     NaN    34.0     NaN     NaN     NaN     NaN   \n",
       "3    4     NaN     NaN     NaN    81.0     NaN     NaN     NaN     NaN   \n",
       "4    5     NaN     NaN     NaN    78.0     NaN     NaN     NaN     NaN   \n",
       "\n",
       "   Bulk 9  Bulk 10  Bulk 11  Bulk 12  Bulk 13  Bulk 14  Bulk 15  \n",
       "0     NaN      NaN      NaN    206.0      NaN    150.0    154.0  \n",
       "1     NaN      NaN      NaN    206.0      NaN    149.0    154.0  \n",
       "2     NaN      NaN      NaN    205.0      NaN    152.0    153.0  \n",
       "3     NaN      NaN      NaN    207.0      NaN    153.0    154.0  \n",
       "4     NaN      NaN      NaN    203.0      NaN    151.0    152.0  "
      ]
     },
     "execution_count": 13,
     "metadata": {},
     "output_type": "execute_result"
    }
   ],
   "source": [
    "data_bulk_vol.head()"
   ]
  },
  {
   "cell_type": "markdown",
   "id": "394e06d1",
   "metadata": {},
   "source": [
    "В данных содержится значительное количество пропусков.  \n",
    "Пропущенное значение означает, что данный компонент в данном процессе добавлен не был. Значит все пропуски можно заменить на нули."
   ]
  },
  {
   "cell_type": "code",
   "execution_count": 14,
   "id": "617271f9",
   "metadata": {
    "tags": []
   },
   "outputs": [
    {
     "name": "stdout",
     "output_type": "stream",
     "text": [
      "<class 'pandas.core.frame.DataFrame'>\n",
      "RangeIndex: 3129 entries, 0 to 3128\n",
      "Data columns (total 16 columns):\n",
      " #   Column   Non-Null Count  Dtype  \n",
      "---  ------   --------------  -----  \n",
      " 0   key      3129 non-null   int64  \n",
      " 1   Bulk 1   252 non-null    float64\n",
      " 2   Bulk 2   22 non-null     float64\n",
      " 3   Bulk 3   1298 non-null   float64\n",
      " 4   Bulk 4   1014 non-null   float64\n",
      " 5   Bulk 5   77 non-null     float64\n",
      " 6   Bulk 6   576 non-null    float64\n",
      " 7   Bulk 7   25 non-null     float64\n",
      " 8   Bulk 8   1 non-null      float64\n",
      " 9   Bulk 9   19 non-null     float64\n",
      " 10  Bulk 10  176 non-null    float64\n",
      " 11  Bulk 11  177 non-null    float64\n",
      " 12  Bulk 12  2450 non-null   float64\n",
      " 13  Bulk 13  18 non-null     float64\n",
      " 14  Bulk 14  2806 non-null   float64\n",
      " 15  Bulk 15  2248 non-null   float64\n",
      "dtypes: float64(15), int64(1)\n",
      "memory usage: 391.2 KB\n"
     ]
    }
   ],
   "source": [
    "data_bulk_vol.info()"
   ]
  },
  {
   "cell_type": "markdown",
   "id": "221c3eb7",
   "metadata": {},
   "source": [
    "Количество записей по каждому типу материалов позволяют оценить насколько часто их используют.  \n",
    "Наиболее редкие материалы можно удалить, однако тогда наша модель не сможет в будущем обрабатывать данные с неизвестными ей материалами. Поэтому можно объединить несколько наименее популярных материалов в категорию `Other` что позволит всё же обработать эти данные без значительных потерь. Но при этом число параметров будет сокращено."
   ]
  },
  {
   "cell_type": "code",
   "execution_count": 15,
   "id": "5998955e",
   "metadata": {
    "tags": []
   },
   "outputs": [
    {
     "data": {
      "text/html": [
       "<div>\n",
       "<style scoped>\n",
       "    .dataframe tbody tr th:only-of-type {\n",
       "        vertical-align: middle;\n",
       "    }\n",
       "\n",
       "    .dataframe tbody tr th {\n",
       "        vertical-align: top;\n",
       "    }\n",
       "\n",
       "    .dataframe thead th {\n",
       "        text-align: right;\n",
       "    }\n",
       "</style>\n",
       "<table border=\"1\" class=\"dataframe\">\n",
       "  <thead>\n",
       "    <tr style=\"text-align: right;\">\n",
       "      <th></th>\n",
       "      <th>key</th>\n",
       "      <th>Bulk 1</th>\n",
       "      <th>Bulk 2</th>\n",
       "      <th>Bulk 3</th>\n",
       "      <th>Bulk 4</th>\n",
       "      <th>Bulk 5</th>\n",
       "      <th>Bulk 6</th>\n",
       "      <th>Bulk 7</th>\n",
       "      <th>Bulk 8</th>\n",
       "      <th>Bulk 9</th>\n",
       "      <th>Bulk 10</th>\n",
       "      <th>Bulk 11</th>\n",
       "      <th>Bulk 12</th>\n",
       "      <th>Bulk 13</th>\n",
       "      <th>Bulk 14</th>\n",
       "      <th>Bulk 15</th>\n",
       "    </tr>\n",
       "  </thead>\n",
       "  <tbody>\n",
       "    <tr>\n",
       "      <th>count</th>\n",
       "      <td>3129.0</td>\n",
       "      <td>252.0</td>\n",
       "      <td>22.0</td>\n",
       "      <td>1298.0</td>\n",
       "      <td>1014.0</td>\n",
       "      <td>77.0</td>\n",
       "      <td>576.0</td>\n",
       "      <td>25.0</td>\n",
       "      <td>1.0</td>\n",
       "      <td>19.0</td>\n",
       "      <td>176.0</td>\n",
       "      <td>177.0</td>\n",
       "      <td>2450.0</td>\n",
       "      <td>18.0</td>\n",
       "      <td>2806.0</td>\n",
       "      <td>2248.0</td>\n",
       "    </tr>\n",
       "    <tr>\n",
       "      <th>min</th>\n",
       "      <td>1.0</td>\n",
       "      <td>10.0</td>\n",
       "      <td>228.0</td>\n",
       "      <td>6.0</td>\n",
       "      <td>12.0</td>\n",
       "      <td>11.0</td>\n",
       "      <td>17.0</td>\n",
       "      <td>47.0</td>\n",
       "      <td>49.0</td>\n",
       "      <td>63.0</td>\n",
       "      <td>24.0</td>\n",
       "      <td>8.0</td>\n",
       "      <td>53.0</td>\n",
       "      <td>151.0</td>\n",
       "      <td>16.0</td>\n",
       "      <td>1.0</td>\n",
       "    </tr>\n",
       "    <tr>\n",
       "      <th>50%</th>\n",
       "      <td>1622.0</td>\n",
       "      <td>31.0</td>\n",
       "      <td>251.5</td>\n",
       "      <td>97.5</td>\n",
       "      <td>102.0</td>\n",
       "      <td>86.0</td>\n",
       "      <td>100.0</td>\n",
       "      <td>298.0</td>\n",
       "      <td>49.0</td>\n",
       "      <td>68.0</td>\n",
       "      <td>86.5</td>\n",
       "      <td>64.0</td>\n",
       "      <td>208.0</td>\n",
       "      <td>155.5</td>\n",
       "      <td>151.0</td>\n",
       "      <td>160.0</td>\n",
       "    </tr>\n",
       "    <tr>\n",
       "      <th>max</th>\n",
       "      <td>3241.0</td>\n",
       "      <td>185.0</td>\n",
       "      <td>325.0</td>\n",
       "      <td>454.0</td>\n",
       "      <td>281.0</td>\n",
       "      <td>603.0</td>\n",
       "      <td>503.0</td>\n",
       "      <td>772.0</td>\n",
       "      <td>49.0</td>\n",
       "      <td>147.0</td>\n",
       "      <td>159.0</td>\n",
       "      <td>313.0</td>\n",
       "      <td>1849.0</td>\n",
       "      <td>305.0</td>\n",
       "      <td>636.0</td>\n",
       "      <td>405.0</td>\n",
       "    </tr>\n",
       "  </tbody>\n",
       "</table>\n",
       "</div>"
      ],
      "text/plain": [
       "          key  Bulk 1  Bulk 2  Bulk 3  Bulk 4  Bulk 5  Bulk 6  Bulk 7  Bulk 8  \\\n",
       "count  3129.0   252.0    22.0  1298.0  1014.0    77.0   576.0    25.0     1.0   \n",
       "min       1.0    10.0   228.0     6.0    12.0    11.0    17.0    47.0    49.0   \n",
       "50%    1622.0    31.0   251.5    97.5   102.0    86.0   100.0   298.0    49.0   \n",
       "max    3241.0   185.0   325.0   454.0   281.0   603.0   503.0   772.0    49.0   \n",
       "\n",
       "       Bulk 9  Bulk 10  Bulk 11  Bulk 12  Bulk 13  Bulk 14  Bulk 15  \n",
       "count    19.0    176.0    177.0   2450.0     18.0   2806.0   2248.0  \n",
       "min      63.0     24.0      8.0     53.0    151.0     16.0      1.0  \n",
       "50%      68.0     86.5     64.0    208.0    155.5    151.0    160.0  \n",
       "max     147.0    159.0    313.0   1849.0    305.0    636.0    405.0  "
      ]
     },
     "execution_count": 15,
     "metadata": {},
     "output_type": "execute_result"
    }
   ],
   "source": [
    "data_bulk_vol.describe().loc[['count','min','50%','max']]"
   ]
  },
  {
   "cell_type": "markdown",
   "id": "7f58ec86",
   "metadata": {},
   "source": [
    "Здесь сильно выбивается только одно значение: максисмум вещества `Bulk 12` равный 1849, в то время как у других столбцов максимум не превышает 900. Т.е. значение 1849 более чем вдвое превышает максимумы других столбцов.  \n",
    "Проверим, много ли значений больше 900 в столбце `Bulk 12`."
   ]
  },
  {
   "cell_type": "code",
   "execution_count": 16,
   "id": "be74bc57",
   "metadata": {
    "tags": []
   },
   "outputs": [
    {
     "data": {
      "text/plain": [
       "1"
      ]
     },
     "execution_count": 16,
     "metadata": {},
     "output_type": "execute_result"
    }
   ],
   "source": [
    "data_bulk_vol[data_bulk_vol['Bulk 12'] > 900]['key'].count()"
   ]
  },
  {
   "cell_type": "markdown",
   "id": "f64f86a8",
   "metadata": {},
   "source": [
    "Всего одна запись, скорее всего это ошибка. Вряд ли одна запись может более чем вдвое превышать все прочие.  \n",
    "Все записи по этому процессу нужно будет удалить."
   ]
  },
  {
   "cell_type": "markdown",
   "id": "f95d9a86",
   "metadata": {},
   "source": [
    "Теперь можно взглянуть на диаграммы размаха"
   ]
  },
  {
   "cell_type": "code",
   "execution_count": 17,
   "id": "88a443b1",
   "metadata": {
    "tags": []
   },
   "outputs": [
    {
     "data": {
      "image/png": "[encoded data removed]",
      "text/plain": [
       "<Figure size 432x288 with 1 Axes>"
      ]
     },
     "metadata": {
      "needs_background": "light"
     },
     "output_type": "display_data"
    }
   ],
   "source": [
    "data_bulk_vol.drop('key',axis=1).boxplot(vert=False)\n",
    "plt.title('Диаграммы размаха данных о сыпучих материалах')\n",
    "plt.xlabel('Объём')\n",
    "plt.ylabel('Материал')\n",
    "plt.xlim(0,900);"
   ]
  },
  {
   "cell_type": "markdown",
   "id": "8065fa3e",
   "metadata": {},
   "source": [
    "Здесь кажется значительным отклонением только выброс около 600 у столбца `Bulk 5`.  \n",
    "Третий квартиль здесь имеет значение около 200, а максимальный выброс, помимо 600, имеет значение около 300. Что делает значение в 600 для этого столбца аномально высоким. От этой записи также следует избавиться."
   ]
  },
  {
   "cell_type": "markdown",
   "id": "81693883",
   "metadata": {},
   "source": [
    "Проверим, что каждому представленному ключу соответствует одна запись"
   ]
  },
  {
   "cell_type": "code",
   "execution_count": 18,
   "id": "6a78b404",
   "metadata": {
    "tags": []
   },
   "outputs": [
    {
     "data": {
      "text/plain": [
       "1"
      ]
     },
     "execution_count": 18,
     "metadata": {},
     "output_type": "execute_result"
    }
   ],
   "source": [
    "data_bulk_vol.key.value_counts().max()"
   ]
  },
  {
   "cell_type": "markdown",
   "id": "d46f4eaa",
   "metadata": {},
   "source": [
    "#### Вывод"
   ]
  },
  {
   "cell_type": "markdown",
   "id": "425396e2",
   "metadata": {},
   "source": [
    "В данных очень много пропусков, все их следует заменить нулями.  \n",
    "\n",
    "Все редкие материалы следует объединить в один столбец `Other`. \n",
    "\n",
    "В наборе присутствует два аномальных выброса, данные об этих процессах следует удалить.  \n",
    "Выбросы содержатся в строках с максимальным значением столбцов `Bulk 12` и `Bulk 5`."
   ]
  },
  {
   "cell_type": "markdown",
   "id": "f29199b1",
   "metadata": {},
   "source": [
    "### Данные о подаче сыпучих материалов (время)"
   ]
  },
  {
   "cell_type": "markdown",
   "id": "b87214e6",
   "metadata": {},
   "source": [
    "#### Анализ данных"
   ]
  },
  {
   "cell_type": "code",
   "execution_count": 19,
   "id": "aa5012dc",
   "metadata": {
    "tags": []
   },
   "outputs": [],
   "source": [
    "dates = [*range(1,16)]\n",
    "try:\n",
    "    data_bulk_time = pd.read_csv('datasets\\\\data_bulk_time_new.csv',parse_dates=dates)\n",
    "except:\n",
    "    data_bulk_time = pd.read_csv('https://code.s3.yandex.net/datasets/data_bulk_time_new.csv',parse_dates=dates) "
   ]
  },
  {
   "cell_type": "code",
   "execution_count": 20,
   "id": "f47c7ca6",
   "metadata": {
    "tags": []
   },
   "outputs": [
    {
     "data": {
      "text/html": [
       "<div>\n",
       "<style scoped>\n",
       "    .dataframe tbody tr th:only-of-type {\n",
       "        vertical-align: middle;\n",
       "    }\n",
       "\n",
       "    .dataframe tbody tr th {\n",
       "        vertical-align: top;\n",
       "    }\n",
       "\n",
       "    .dataframe thead th {\n",
       "        text-align: right;\n",
       "    }\n",
       "</style>\n",
       "<table border=\"1\" class=\"dataframe\">\n",
       "  <thead>\n",
       "    <tr style=\"text-align: right;\">\n",
       "      <th></th>\n",
       "      <th>key</th>\n",
       "      <th>Bulk 1</th>\n",
       "      <th>Bulk 2</th>\n",
       "      <th>Bulk 3</th>\n",
       "      <th>Bulk 4</th>\n",
       "      <th>Bulk 5</th>\n",
       "      <th>Bulk 6</th>\n",
       "      <th>Bulk 7</th>\n",
       "      <th>Bulk 8</th>\n",
       "      <th>Bulk 9</th>\n",
       "      <th>Bulk 10</th>\n",
       "      <th>Bulk 11</th>\n",
       "      <th>Bulk 12</th>\n",
       "      <th>Bulk 13</th>\n",
       "      <th>Bulk 14</th>\n",
       "      <th>Bulk 15</th>\n",
       "    </tr>\n",
       "  </thead>\n",
       "  <tbody>\n",
       "    <tr>\n",
       "      <th>0</th>\n",
       "      <td>1</td>\n",
       "      <td>NaT</td>\n",
       "      <td>NaT</td>\n",
       "      <td>NaT</td>\n",
       "      <td>2019-05-03 11:28:48</td>\n",
       "      <td>NaT</td>\n",
       "      <td>NaT</td>\n",
       "      <td>NaT</td>\n",
       "      <td>NaT</td>\n",
       "      <td>NaT</td>\n",
       "      <td>NaT</td>\n",
       "      <td>NaT</td>\n",
       "      <td>2019-05-03 11:24:31</td>\n",
       "      <td>NaT</td>\n",
       "      <td>2019-05-03 11:14:50</td>\n",
       "      <td>2019-05-03 11:10:43</td>\n",
       "    </tr>\n",
       "    <tr>\n",
       "      <th>1</th>\n",
       "      <td>2</td>\n",
       "      <td>NaT</td>\n",
       "      <td>NaT</td>\n",
       "      <td>NaT</td>\n",
       "      <td>2019-05-03 11:36:50</td>\n",
       "      <td>NaT</td>\n",
       "      <td>NaT</td>\n",
       "      <td>NaT</td>\n",
       "      <td>NaT</td>\n",
       "      <td>NaT</td>\n",
       "      <td>NaT</td>\n",
       "      <td>NaT</td>\n",
       "      <td>2019-05-03 11:53:30</td>\n",
       "      <td>NaT</td>\n",
       "      <td>2019-05-03 11:48:37</td>\n",
       "      <td>2019-05-03 11:44:39</td>\n",
       "    </tr>\n",
       "    <tr>\n",
       "      <th>2</th>\n",
       "      <td>3</td>\n",
       "      <td>NaT</td>\n",
       "      <td>NaT</td>\n",
       "      <td>NaT</td>\n",
       "      <td>2019-05-03 12:32:39</td>\n",
       "      <td>NaT</td>\n",
       "      <td>NaT</td>\n",
       "      <td>NaT</td>\n",
       "      <td>NaT</td>\n",
       "      <td>NaT</td>\n",
       "      <td>NaT</td>\n",
       "      <td>NaT</td>\n",
       "      <td>2019-05-03 12:27:13</td>\n",
       "      <td>NaT</td>\n",
       "      <td>2019-05-03 12:21:01</td>\n",
       "      <td>2019-05-03 12:16:16</td>\n",
       "    </tr>\n",
       "    <tr>\n",
       "      <th>3</th>\n",
       "      <td>4</td>\n",
       "      <td>NaT</td>\n",
       "      <td>NaT</td>\n",
       "      <td>NaT</td>\n",
       "      <td>2019-05-03 12:43:22</td>\n",
       "      <td>NaT</td>\n",
       "      <td>NaT</td>\n",
       "      <td>NaT</td>\n",
       "      <td>NaT</td>\n",
       "      <td>NaT</td>\n",
       "      <td>NaT</td>\n",
       "      <td>NaT</td>\n",
       "      <td>2019-05-03 12:58:00</td>\n",
       "      <td>NaT</td>\n",
       "      <td>2019-05-03 12:51:11</td>\n",
       "      <td>2019-05-03 12:46:36</td>\n",
       "    </tr>\n",
       "    <tr>\n",
       "      <th>4</th>\n",
       "      <td>5</td>\n",
       "      <td>NaT</td>\n",
       "      <td>NaT</td>\n",
       "      <td>NaT</td>\n",
       "      <td>2019-05-03 13:30:47</td>\n",
       "      <td>NaT</td>\n",
       "      <td>NaT</td>\n",
       "      <td>NaT</td>\n",
       "      <td>NaT</td>\n",
       "      <td>NaT</td>\n",
       "      <td>NaT</td>\n",
       "      <td>NaT</td>\n",
       "      <td>2019-05-03 13:30:47</td>\n",
       "      <td>NaT</td>\n",
       "      <td>2019-05-03 13:34:12</td>\n",
       "      <td>2019-05-03 13:30:47</td>\n",
       "    </tr>\n",
       "  </tbody>\n",
       "</table>\n",
       "</div>"
      ],
      "text/plain": [
       "   key Bulk 1 Bulk 2 Bulk 3              Bulk 4 Bulk 5 Bulk 6 Bulk 7 Bulk 8  \\\n",
       "0    1    NaT    NaT    NaT 2019-05-03 11:28:48    NaT    NaT    NaT    NaT   \n",
       "1    2    NaT    NaT    NaT 2019-05-03 11:36:50    NaT    NaT    NaT    NaT   \n",
       "2    3    NaT    NaT    NaT 2019-05-03 12:32:39    NaT    NaT    NaT    NaT   \n",
       "3    4    NaT    NaT    NaT 2019-05-03 12:43:22    NaT    NaT    NaT    NaT   \n",
       "4    5    NaT    NaT    NaT 2019-05-03 13:30:47    NaT    NaT    NaT    NaT   \n",
       "\n",
       "  Bulk 9 Bulk 10 Bulk 11             Bulk 12 Bulk 13             Bulk 14  \\\n",
       "0    NaT     NaT     NaT 2019-05-03 11:24:31     NaT 2019-05-03 11:14:50   \n",
       "1    NaT     NaT     NaT 2019-05-03 11:53:30     NaT 2019-05-03 11:48:37   \n",
       "2    NaT     NaT     NaT 2019-05-03 12:27:13     NaT 2019-05-03 12:21:01   \n",
       "3    NaT     NaT     NaT 2019-05-03 12:58:00     NaT 2019-05-03 12:51:11   \n",
       "4    NaT     NaT     NaT 2019-05-03 13:30:47     NaT 2019-05-03 13:34:12   \n",
       "\n",
       "              Bulk 15  \n",
       "0 2019-05-03 11:10:43  \n",
       "1 2019-05-03 11:44:39  \n",
       "2 2019-05-03 12:16:16  \n",
       "3 2019-05-03 12:46:36  \n",
       "4 2019-05-03 13:30:47  "
      ]
     },
     "execution_count": 20,
     "metadata": {},
     "output_type": "execute_result"
    }
   ],
   "source": [
    "data_bulk_time.head()"
   ]
  },
  {
   "cell_type": "code",
   "execution_count": 21,
   "id": "cab8ebb5",
   "metadata": {
    "tags": []
   },
   "outputs": [
    {
     "name": "stdout",
     "output_type": "stream",
     "text": [
      "<class 'pandas.core.frame.DataFrame'>\n",
      "RangeIndex: 3129 entries, 0 to 3128\n",
      "Data columns (total 16 columns):\n",
      " #   Column   Non-Null Count  Dtype         \n",
      "---  ------   --------------  -----         \n",
      " 0   key      3129 non-null   int64         \n",
      " 1   Bulk 1   252 non-null    datetime64[ns]\n",
      " 2   Bulk 2   22 non-null     datetime64[ns]\n",
      " 3   Bulk 3   1298 non-null   datetime64[ns]\n",
      " 4   Bulk 4   1014 non-null   datetime64[ns]\n",
      " 5   Bulk 5   77 non-null     datetime64[ns]\n",
      " 6   Bulk 6   576 non-null    datetime64[ns]\n",
      " 7   Bulk 7   25 non-null     datetime64[ns]\n",
      " 8   Bulk 8   1 non-null      datetime64[ns]\n",
      " 9   Bulk 9   19 non-null     datetime64[ns]\n",
      " 10  Bulk 10  176 non-null    datetime64[ns]\n",
      " 11  Bulk 11  177 non-null    datetime64[ns]\n",
      " 12  Bulk 12  2450 non-null   datetime64[ns]\n",
      " 13  Bulk 13  18 non-null     datetime64[ns]\n",
      " 14  Bulk 14  2806 non-null   datetime64[ns]\n",
      " 15  Bulk 15  2248 non-null   datetime64[ns]\n",
      "dtypes: datetime64[ns](15), int64(1)\n",
      "memory usage: 391.2 KB\n"
     ]
    }
   ],
   "source": [
    "data_bulk_time.info()"
   ]
  },
  {
   "cell_type": "code",
   "execution_count": 22,
   "id": "7c0acaec",
   "metadata": {
    "tags": []
   },
   "outputs": [
    {
     "data": {
      "text/html": [
       "<div>\n",
       "<style scoped>\n",
       "    .dataframe tbody tr th:only-of-type {\n",
       "        vertical-align: middle;\n",
       "    }\n",
       "\n",
       "    .dataframe tbody tr th {\n",
       "        vertical-align: top;\n",
       "    }\n",
       "\n",
       "    .dataframe thead th {\n",
       "        text-align: right;\n",
       "    }\n",
       "</style>\n",
       "<table border=\"1\" class=\"dataframe\">\n",
       "  <thead>\n",
       "    <tr style=\"text-align: right;\">\n",
       "      <th></th>\n",
       "      <th>key</th>\n",
       "      <th>Bulk 1</th>\n",
       "      <th>Bulk 2</th>\n",
       "      <th>Bulk 3</th>\n",
       "      <th>Bulk 4</th>\n",
       "      <th>Bulk 5</th>\n",
       "      <th>Bulk 6</th>\n",
       "      <th>Bulk 7</th>\n",
       "      <th>Bulk 8</th>\n",
       "      <th>Bulk 9</th>\n",
       "      <th>Bulk 10</th>\n",
       "      <th>Bulk 11</th>\n",
       "      <th>Bulk 12</th>\n",
       "      <th>Bulk 13</th>\n",
       "      <th>Bulk 14</th>\n",
       "      <th>Bulk 15</th>\n",
       "    </tr>\n",
       "  </thead>\n",
       "  <tbody>\n",
       "    <tr>\n",
       "      <th>count</th>\n",
       "      <td>3129.0</td>\n",
       "      <td>252</td>\n",
       "      <td>22</td>\n",
       "      <td>1298</td>\n",
       "      <td>1014</td>\n",
       "      <td>77</td>\n",
       "      <td>576</td>\n",
       "      <td>25</td>\n",
       "      <td>1</td>\n",
       "      <td>19</td>\n",
       "      <td>176</td>\n",
       "      <td>177</td>\n",
       "      <td>2450</td>\n",
       "      <td>18</td>\n",
       "      <td>2806</td>\n",
       "      <td>2248</td>\n",
       "    </tr>\n",
       "    <tr>\n",
       "      <th>min</th>\n",
       "      <td>1.0</td>\n",
       "      <td>2019-05-03 17:42:46</td>\n",
       "      <td>2019-05-07 15:39:35</td>\n",
       "      <td>2019-05-03 20:40:25</td>\n",
       "      <td>2019-05-03 11:28:48</td>\n",
       "      <td>2019-05-07 15:19:17</td>\n",
       "      <td>2019-05-03 19:09:15</td>\n",
       "      <td>2019-05-07 18:11:01</td>\n",
       "      <td>2019-07-08 17:14:53</td>\n",
       "      <td>2019-05-14 11:57:58</td>\n",
       "      <td>2019-05-06 07:54:02</td>\n",
       "      <td>2019-05-05 23:43:24</td>\n",
       "      <td>2019-05-03 11:24:31</td>\n",
       "      <td>2019-05-05 02:10:21</td>\n",
       "      <td>2019-05-03 11:14:50</td>\n",
       "      <td>2019-05-03 11:10:43</td>\n",
       "    </tr>\n",
       "    <tr>\n",
       "      <th>max</th>\n",
       "      <td>3241.0</td>\n",
       "      <td>2019-09-05 09:11:32</td>\n",
       "      <td>2019-08-13 11:47:39</td>\n",
       "      <td>2019-09-06 12:26:52</td>\n",
       "      <td>2019-09-05 03:35:21</td>\n",
       "      <td>2019-09-02 18:16:52</td>\n",
       "      <td>2019-09-06 16:24:28</td>\n",
       "      <td>2019-09-05 19:07:49</td>\n",
       "      <td>2019-07-08 17:14:53</td>\n",
       "      <td>2019-08-16 09:11:56</td>\n",
       "      <td>2019-09-04 10:03:22</td>\n",
       "      <td>2019-09-06 05:03:14</td>\n",
       "      <td>2019-09-06 15:01:44</td>\n",
       "      <td>2019-09-01 01:53:02</td>\n",
       "      <td>2019-09-06 17:26:33</td>\n",
       "      <td>2019-09-06 17:23:15</td>\n",
       "    </tr>\n",
       "  </tbody>\n",
       "</table>\n",
       "</div>"
      ],
      "text/plain": [
       "          key               Bulk 1               Bulk 2               Bulk 3  \\\n",
       "count  3129.0                  252                   22                 1298   \n",
       "min       1.0  2019-05-03 17:42:46  2019-05-07 15:39:35  2019-05-03 20:40:25   \n",
       "max    3241.0  2019-09-05 09:11:32  2019-08-13 11:47:39  2019-09-06 12:26:52   \n",
       "\n",
       "                    Bulk 4               Bulk 5               Bulk 6  \\\n",
       "count                 1014                   77                  576   \n",
       "min    2019-05-03 11:28:48  2019-05-07 15:19:17  2019-05-03 19:09:15   \n",
       "max    2019-09-05 03:35:21  2019-09-02 18:16:52  2019-09-06 16:24:28   \n",
       "\n",
       "                    Bulk 7               Bulk 8               Bulk 9  \\\n",
       "count                   25                    1                   19   \n",
       "min    2019-05-07 18:11:01  2019-07-08 17:14:53  2019-05-14 11:57:58   \n",
       "max    2019-09-05 19:07:49  2019-07-08 17:14:53  2019-08-16 09:11:56   \n",
       "\n",
       "                   Bulk 10              Bulk 11              Bulk 12  \\\n",
       "count                  176                  177                 2450   \n",
       "min    2019-05-06 07:54:02  2019-05-05 23:43:24  2019-05-03 11:24:31   \n",
       "max    2019-09-04 10:03:22  2019-09-06 05:03:14  2019-09-06 15:01:44   \n",
       "\n",
       "                   Bulk 13              Bulk 14              Bulk 15  \n",
       "count                   18                 2806                 2248  \n",
       "min    2019-05-05 02:10:21  2019-05-03 11:14:50  2019-05-03 11:10:43  \n",
       "max    2019-09-01 01:53:02  2019-09-06 17:26:33  2019-09-06 17:23:15  "
      ]
     },
     "execution_count": 22,
     "metadata": {},
     "output_type": "execute_result"
    }
   ],
   "source": [
    "data_bulk_time.describe(datetime_is_numeric=True).loc[['count', 'min', 'max']]"
   ]
  },
  {
   "cell_type": "markdown",
   "id": "7e2efd27",
   "metadata": {},
   "source": [
    "Данные о времени добавления того или иного материала можно было бы преобразовать в число секунд, прошедших с начла процесса, до добавления материала. Однако во-первых, часы из таблицы о электродах и этой таблицы могут показывать разные значения, а во-вторых вряд ли точный момент добавления материалов или их порядок добавления ирают значительную роль в значении финальной температуры.  \n",
    "\n",
    "Поэтому в построении модели данную таблицу учитывать не будем."
   ]
  },
  {
   "cell_type": "markdown",
   "id": "94fc0dd1",
   "metadata": {},
   "source": [
    "#### Вывод"
   ]
  },
  {
   "cell_type": "markdown",
   "id": "2a6c6b1c",
   "metadata": {},
   "source": [
    "В построении модели эта таблица использоваться не будет."
   ]
  },
  {
   "cell_type": "markdown",
   "id": "104f7c2b",
   "metadata": {},
   "source": [
    "### Данные о продувке сплава газом"
   ]
  },
  {
   "cell_type": "markdown",
   "id": "03095d03",
   "metadata": {},
   "source": [
    "#### Анализ данных"
   ]
  },
  {
   "cell_type": "code",
   "execution_count": 23,
   "id": "fa907d68",
   "metadata": {
    "tags": []
   },
   "outputs": [],
   "source": [
    "try:\n",
    "    data_gas = pd.read_csv('datasets\\\\data_gas_new.csv')\n",
    "except:\n",
    "    data_gas = pd.read_csv('https://code.s3.yandex.net/datasets/data_gas_new.csv') "
   ]
  },
  {
   "cell_type": "code",
   "execution_count": 24,
   "id": "0125deab",
   "metadata": {
    "tags": []
   },
   "outputs": [
    {
     "data": {
      "text/html": [
       "<div>\n",
       "<style scoped>\n",
       "    .dataframe tbody tr th:only-of-type {\n",
       "        vertical-align: middle;\n",
       "    }\n",
       "\n",
       "    .dataframe tbody tr th {\n",
       "        vertical-align: top;\n",
       "    }\n",
       "\n",
       "    .dataframe thead th {\n",
       "        text-align: right;\n",
       "    }\n",
       "</style>\n",
       "<table border=\"1\" class=\"dataframe\">\n",
       "  <thead>\n",
       "    <tr style=\"text-align: right;\">\n",
       "      <th></th>\n",
       "      <th>key</th>\n",
       "      <th>Газ 1</th>\n",
       "    </tr>\n",
       "  </thead>\n",
       "  <tbody>\n",
       "    <tr>\n",
       "      <th>0</th>\n",
       "      <td>1</td>\n",
       "      <td>29.749986</td>\n",
       "    </tr>\n",
       "    <tr>\n",
       "      <th>1</th>\n",
       "      <td>2</td>\n",
       "      <td>12.555561</td>\n",
       "    </tr>\n",
       "    <tr>\n",
       "      <th>2</th>\n",
       "      <td>3</td>\n",
       "      <td>28.554793</td>\n",
       "    </tr>\n",
       "    <tr>\n",
       "      <th>3</th>\n",
       "      <td>4</td>\n",
       "      <td>18.841219</td>\n",
       "    </tr>\n",
       "    <tr>\n",
       "      <th>4</th>\n",
       "      <td>5</td>\n",
       "      <td>5.413692</td>\n",
       "    </tr>\n",
       "  </tbody>\n",
       "</table>\n",
       "</div>"
      ],
      "text/plain": [
       "   key      Газ 1\n",
       "0    1  29.749986\n",
       "1    2  12.555561\n",
       "2    3  28.554793\n",
       "3    4  18.841219\n",
       "4    5   5.413692"
      ]
     },
     "execution_count": 24,
     "metadata": {},
     "output_type": "execute_result"
    }
   ],
   "source": [
    "data_gas.head()"
   ]
  },
  {
   "cell_type": "code",
   "execution_count": 25,
   "id": "2953ffe8",
   "metadata": {
    "tags": []
   },
   "outputs": [
    {
     "name": "stdout",
     "output_type": "stream",
     "text": [
      "<class 'pandas.core.frame.DataFrame'>\n",
      "RangeIndex: 3239 entries, 0 to 3238\n",
      "Data columns (total 2 columns):\n",
      " #   Column  Non-Null Count  Dtype  \n",
      "---  ------  --------------  -----  \n",
      " 0   key     3239 non-null   int64  \n",
      " 1   Газ 1   3239 non-null   float64\n",
      "dtypes: float64(1), int64(1)\n",
      "memory usage: 50.7 KB\n"
     ]
    }
   ],
   "source": [
    "data_gas.info()"
   ]
  },
  {
   "cell_type": "markdown",
   "id": "040a5eba",
   "metadata": {},
   "source": [
    "Пропусков в таблице нет"
   ]
  },
  {
   "cell_type": "code",
   "execution_count": 26,
   "id": "9bd329ca",
   "metadata": {
    "tags": []
   },
   "outputs": [
    {
     "data": {
      "text/html": [
       "<div>\n",
       "<style scoped>\n",
       "    .dataframe tbody tr th:only-of-type {\n",
       "        vertical-align: middle;\n",
       "    }\n",
       "\n",
       "    .dataframe tbody tr th {\n",
       "        vertical-align: top;\n",
       "    }\n",
       "\n",
       "    .dataframe thead th {\n",
       "        text-align: right;\n",
       "    }\n",
       "</style>\n",
       "<table border=\"1\" class=\"dataframe\">\n",
       "  <thead>\n",
       "    <tr style=\"text-align: right;\">\n",
       "      <th></th>\n",
       "      <th>count</th>\n",
       "      <th>mean</th>\n",
       "      <th>std</th>\n",
       "      <th>min</th>\n",
       "      <th>25%</th>\n",
       "      <th>50%</th>\n",
       "      <th>75%</th>\n",
       "      <th>max</th>\n",
       "    </tr>\n",
       "  </thead>\n",
       "  <tbody>\n",
       "    <tr>\n",
       "      <th>key</th>\n",
       "      <td>3239.0</td>\n",
       "      <td>1621.861377</td>\n",
       "      <td>935.386334</td>\n",
       "      <td>1.000000</td>\n",
       "      <td>812.500000</td>\n",
       "      <td>1622.000000</td>\n",
       "      <td>2431.500000</td>\n",
       "      <td>3241.00000</td>\n",
       "    </tr>\n",
       "    <tr>\n",
       "      <th>Газ 1</th>\n",
       "      <td>3239.0</td>\n",
       "      <td>11.002062</td>\n",
       "      <td>6.220327</td>\n",
       "      <td>0.008399</td>\n",
       "      <td>7.043089</td>\n",
       "      <td>9.836267</td>\n",
       "      <td>13.769915</td>\n",
       "      <td>77.99504</td>\n",
       "    </tr>\n",
       "  </tbody>\n",
       "</table>\n",
       "</div>"
      ],
      "text/plain": [
       "        count         mean         std       min         25%          50%  \\\n",
       "key    3239.0  1621.861377  935.386334  1.000000  812.500000  1622.000000   \n",
       "Газ 1  3239.0    11.002062    6.220327  0.008399    7.043089     9.836267   \n",
       "\n",
       "               75%         max  \n",
       "key    2431.500000  3241.00000  \n",
       "Газ 1    13.769915    77.99504  "
      ]
     },
     "execution_count": 26,
     "metadata": {},
     "output_type": "execute_result"
    }
   ],
   "source": [
    "data_gas.describe().T"
   ]
  },
  {
   "cell_type": "code",
   "execution_count": 27,
   "id": "64ea2fd6",
   "metadata": {
    "tags": []
   },
   "outputs": [
    {
     "data": {
      "image/png": "[encoded data removed]",
      "text/plain": [
       "<Figure size 720x108 with 1 Axes>"
      ]
     },
     "metadata": {
      "needs_background": "light"
     },
     "output_type": "display_data"
    }
   ],
   "source": [
    "data_gas.drop('key',axis=1).boxplot(vert=False,figsize=(10,1.5))\n",
    "plt.xlabel('Объём')\n",
    "plt.title('Диаграмма размаха объёма газа');"
   ]
  },
  {
   "cell_type": "markdown",
   "id": "39f9cee9",
   "metadata": {},
   "source": [
    "Присутствую значительные выбросы, однако вряд ли они являются ошибками. Такие записи можно удалять только из тренировочной выборки."
   ]
  },
  {
   "cell_type": "code",
   "execution_count": 28,
   "id": "a90fba76",
   "metadata": {
    "tags": []
   },
   "outputs": [
    {
     "data": {
      "text/plain": [
       "1"
      ]
     },
     "execution_count": 28,
     "metadata": {},
     "output_type": "execute_result"
    }
   ],
   "source": [
    "data_gas.key.value_counts().max()"
   ]
  },
  {
   "cell_type": "markdown",
   "id": "87f36c7a",
   "metadata": {},
   "source": [
    "Каждому представленному ключу соответствует одна запись"
   ]
  },
  {
   "cell_type": "markdown",
   "id": "e4597850",
   "metadata": {},
   "source": [
    "#### Вывод"
   ]
  },
  {
   "cell_type": "markdown",
   "id": "c458b57c",
   "metadata": {},
   "source": [
    "В наборе присутствуют значительные выбросы. Их следует удалить, но только после отделения тренировочной выборки от тестовой."
   ]
  },
  {
   "cell_type": "markdown",
   "id": "b1263d53",
   "metadata": {},
   "source": [
    "### Данные о проволочных материалах (объём)"
   ]
  },
  {
   "cell_type": "markdown",
   "id": "accbe11c",
   "metadata": {},
   "source": [
    "Этот датасет по своей сути не отличается от данных об объёме сыпучих материалов, поэтому все замечания я напишу сразу в вывод."
   ]
  },
  {
   "cell_type": "markdown",
   "id": "0df4bcb3",
   "metadata": {},
   "source": [
    "#### Анализ данных"
   ]
  },
  {
   "cell_type": "code",
   "execution_count": 29,
   "id": "837ddb05",
   "metadata": {
    "tags": []
   },
   "outputs": [],
   "source": [
    "try:\n",
    "    data_wire_vol = pd.read_csv('datasets\\\\data_wire_new.csv')\n",
    "except:\n",
    "    data_wire_vol = pd.read_csv('https://code.s3.yandex.net/datasets/data_wire_new.csv') "
   ]
  },
  {
   "cell_type": "code",
   "execution_count": 30,
   "id": "2bd063a5",
   "metadata": {
    "tags": []
   },
   "outputs": [
    {
     "data": {
      "text/html": [
       "<div>\n",
       "<style scoped>\n",
       "    .dataframe tbody tr th:only-of-type {\n",
       "        vertical-align: middle;\n",
       "    }\n",
       "\n",
       "    .dataframe tbody tr th {\n",
       "        vertical-align: top;\n",
       "    }\n",
       "\n",
       "    .dataframe thead th {\n",
       "        text-align: right;\n",
       "    }\n",
       "</style>\n",
       "<table border=\"1\" class=\"dataframe\">\n",
       "  <thead>\n",
       "    <tr style=\"text-align: right;\">\n",
       "      <th></th>\n",
       "      <th>key</th>\n",
       "      <th>Wire 1</th>\n",
       "      <th>Wire 2</th>\n",
       "      <th>Wire 3</th>\n",
       "      <th>Wire 4</th>\n",
       "      <th>Wire 5</th>\n",
       "      <th>Wire 6</th>\n",
       "      <th>Wire 7</th>\n",
       "      <th>Wire 8</th>\n",
       "      <th>Wire 9</th>\n",
       "    </tr>\n",
       "  </thead>\n",
       "  <tbody>\n",
       "    <tr>\n",
       "      <th>0</th>\n",
       "      <td>1</td>\n",
       "      <td>60.059998</td>\n",
       "      <td>NaN</td>\n",
       "      <td>NaN</td>\n",
       "      <td>NaN</td>\n",
       "      <td>NaN</td>\n",
       "      <td>NaN</td>\n",
       "      <td>NaN</td>\n",
       "      <td>NaN</td>\n",
       "      <td>NaN</td>\n",
       "    </tr>\n",
       "    <tr>\n",
       "      <th>1</th>\n",
       "      <td>2</td>\n",
       "      <td>96.052315</td>\n",
       "      <td>NaN</td>\n",
       "      <td>NaN</td>\n",
       "      <td>NaN</td>\n",
       "      <td>NaN</td>\n",
       "      <td>NaN</td>\n",
       "      <td>NaN</td>\n",
       "      <td>NaN</td>\n",
       "      <td>NaN</td>\n",
       "    </tr>\n",
       "    <tr>\n",
       "      <th>2</th>\n",
       "      <td>3</td>\n",
       "      <td>91.160157</td>\n",
       "      <td>NaN</td>\n",
       "      <td>NaN</td>\n",
       "      <td>NaN</td>\n",
       "      <td>NaN</td>\n",
       "      <td>NaN</td>\n",
       "      <td>NaN</td>\n",
       "      <td>NaN</td>\n",
       "      <td>NaN</td>\n",
       "    </tr>\n",
       "    <tr>\n",
       "      <th>3</th>\n",
       "      <td>4</td>\n",
       "      <td>89.063515</td>\n",
       "      <td>NaN</td>\n",
       "      <td>NaN</td>\n",
       "      <td>NaN</td>\n",
       "      <td>NaN</td>\n",
       "      <td>NaN</td>\n",
       "      <td>NaN</td>\n",
       "      <td>NaN</td>\n",
       "      <td>NaN</td>\n",
       "    </tr>\n",
       "    <tr>\n",
       "      <th>4</th>\n",
       "      <td>5</td>\n",
       "      <td>89.238236</td>\n",
       "      <td>9.11456</td>\n",
       "      <td>NaN</td>\n",
       "      <td>NaN</td>\n",
       "      <td>NaN</td>\n",
       "      <td>NaN</td>\n",
       "      <td>NaN</td>\n",
       "      <td>NaN</td>\n",
       "      <td>NaN</td>\n",
       "    </tr>\n",
       "  </tbody>\n",
       "</table>\n",
       "</div>"
      ],
      "text/plain": [
       "   key     Wire 1   Wire 2  Wire 3  Wire 4  Wire 5  Wire 6  Wire 7  Wire 8  \\\n",
       "0    1  60.059998      NaN     NaN     NaN     NaN     NaN     NaN     NaN   \n",
       "1    2  96.052315      NaN     NaN     NaN     NaN     NaN     NaN     NaN   \n",
       "2    3  91.160157      NaN     NaN     NaN     NaN     NaN     NaN     NaN   \n",
       "3    4  89.063515      NaN     NaN     NaN     NaN     NaN     NaN     NaN   \n",
       "4    5  89.238236  9.11456     NaN     NaN     NaN     NaN     NaN     NaN   \n",
       "\n",
       "   Wire 9  \n",
       "0     NaN  \n",
       "1     NaN  \n",
       "2     NaN  \n",
       "3     NaN  \n",
       "4     NaN  "
      ]
     },
     "execution_count": 30,
     "metadata": {},
     "output_type": "execute_result"
    }
   ],
   "source": [
    "data_wire_vol.head()"
   ]
  },
  {
   "cell_type": "code",
   "execution_count": 31,
   "id": "7758ea92",
   "metadata": {
    "tags": []
   },
   "outputs": [
    {
     "name": "stdout",
     "output_type": "stream",
     "text": [
      "<class 'pandas.core.frame.DataFrame'>\n",
      "RangeIndex: 3081 entries, 0 to 3080\n",
      "Data columns (total 10 columns):\n",
      " #   Column  Non-Null Count  Dtype  \n",
      "---  ------  --------------  -----  \n",
      " 0   key     3081 non-null   int64  \n",
      " 1   Wire 1  3055 non-null   float64\n",
      " 2   Wire 2  1079 non-null   float64\n",
      " 3   Wire 3  63 non-null     float64\n",
      " 4   Wire 4  14 non-null     float64\n",
      " 5   Wire 5  1 non-null      float64\n",
      " 6   Wire 6  73 non-null     float64\n",
      " 7   Wire 7  11 non-null     float64\n",
      " 8   Wire 8  19 non-null     float64\n",
      " 9   Wire 9  29 non-null     float64\n",
      "dtypes: float64(9), int64(1)\n",
      "memory usage: 240.8 KB\n"
     ]
    }
   ],
   "source": [
    "data_wire_vol.info()"
   ]
  },
  {
   "cell_type": "code",
   "execution_count": 32,
   "id": "e7ccc099",
   "metadata": {
    "tags": []
   },
   "outputs": [
    {
     "data": {
      "text/html": [
       "<div>\n",
       "<style scoped>\n",
       "    .dataframe tbody tr th:only-of-type {\n",
       "        vertical-align: middle;\n",
       "    }\n",
       "\n",
       "    .dataframe tbody tr th {\n",
       "        vertical-align: top;\n",
       "    }\n",
       "\n",
       "    .dataframe thead th {\n",
       "        text-align: right;\n",
       "    }\n",
       "</style>\n",
       "<table border=\"1\" class=\"dataframe\">\n",
       "  <thead>\n",
       "    <tr style=\"text-align: right;\">\n",
       "      <th></th>\n",
       "      <th>key</th>\n",
       "      <th>Wire 1</th>\n",
       "      <th>Wire 2</th>\n",
       "      <th>Wire 3</th>\n",
       "      <th>Wire 4</th>\n",
       "      <th>Wire 5</th>\n",
       "      <th>Wire 6</th>\n",
       "      <th>Wire 7</th>\n",
       "      <th>Wire 8</th>\n",
       "      <th>Wire 9</th>\n",
       "    </tr>\n",
       "  </thead>\n",
       "  <tbody>\n",
       "    <tr>\n",
       "      <th>max</th>\n",
       "      <td>3241.0</td>\n",
       "      <td>330.314424</td>\n",
       "      <td>282.780152</td>\n",
       "      <td>385.008668</td>\n",
       "      <td>113.231044</td>\n",
       "      <td>15.132</td>\n",
       "      <td>180.454575</td>\n",
       "      <td>32.847674</td>\n",
       "      <td>102.762401</td>\n",
       "      <td>90.053604</td>\n",
       "    </tr>\n",
       "    <tr>\n",
       "      <th>count</th>\n",
       "      <td>3081.0</td>\n",
       "      <td>3055.000000</td>\n",
       "      <td>1079.000000</td>\n",
       "      <td>63.000000</td>\n",
       "      <td>14.000000</td>\n",
       "      <td>1.000</td>\n",
       "      <td>73.000000</td>\n",
       "      <td>11.000000</td>\n",
       "      <td>19.000000</td>\n",
       "      <td>29.000000</td>\n",
       "    </tr>\n",
       "    <tr>\n",
       "      <th>min</th>\n",
       "      <td>1.0</td>\n",
       "      <td>1.918800</td>\n",
       "      <td>0.030160</td>\n",
       "      <td>0.144144</td>\n",
       "      <td>24.148801</td>\n",
       "      <td>15.132</td>\n",
       "      <td>0.034320</td>\n",
       "      <td>0.234208</td>\n",
       "      <td>45.076721</td>\n",
       "      <td>4.622800</td>\n",
       "    </tr>\n",
       "  </tbody>\n",
       "</table>\n",
       "</div>"
      ],
      "text/plain": [
       "          key       Wire 1       Wire 2      Wire 3      Wire 4  Wire 5  \\\n",
       "max    3241.0   330.314424   282.780152  385.008668  113.231044  15.132   \n",
       "count  3081.0  3055.000000  1079.000000   63.000000   14.000000   1.000   \n",
       "min       1.0     1.918800     0.030160    0.144144   24.148801  15.132   \n",
       "\n",
       "           Wire 6     Wire 7      Wire 8     Wire 9  \n",
       "max    180.454575  32.847674  102.762401  90.053604  \n",
       "count   73.000000  11.000000   19.000000  29.000000  \n",
       "min      0.034320   0.234208   45.076721   4.622800  "
      ]
     },
     "execution_count": 32,
     "metadata": {},
     "output_type": "execute_result"
    }
   ],
   "source": [
    "data_wire_vol.describe().loc[{'count','min','max'}]"
   ]
  },
  {
   "cell_type": "code",
   "execution_count": 33,
   "id": "6713c3e3",
   "metadata": {
    "tags": []
   },
   "outputs": [
    {
     "data": {
      "image/png": "[encoded data removed]",
      "text/plain": [
       "<Figure size 432x288 with 1 Axes>"
      ]
     },
     "metadata": {
      "needs_background": "light"
     },
     "output_type": "display_data"
    }
   ],
   "source": [
    "data_wire_vol.drop('key',axis=1).boxplot(vert=False)\n",
    "plt.xlabel('Объём')\n",
    "plt.ylabel('Материал')\n",
    "plt.title('Диаграммы размаха объёма проволочных материалов');"
   ]
  },
  {
   "cell_type": "code",
   "execution_count": 34,
   "id": "6aa4ea5e",
   "metadata": {
    "tags": []
   },
   "outputs": [
    {
     "data": {
      "text/plain": [
       "1"
      ]
     },
     "execution_count": 34,
     "metadata": {},
     "output_type": "execute_result"
    }
   ],
   "source": [
    "data_wire_vol.key.value_counts().max()"
   ]
  },
  {
   "cell_type": "markdown",
   "id": "383bbf0f",
   "metadata": {},
   "source": [
    "Каждому представленному ключу соответствует одна запись"
   ]
  },
  {
   "cell_type": "markdown",
   "id": "0e190834",
   "metadata": {},
   "source": [
    "#### Вывод"
   ]
  },
  {
   "cell_type": "markdown",
   "id": "0cb48c72",
   "metadata": {},
   "source": [
    "В данных очень много пропусков, все их следует заменить нулями.\n",
    "\n",
    "Все редкие материалы следует объединить в один столбец `Other`.\n",
    "\n",
    "Значительных выбросов в наборе нет."
   ]
  },
  {
   "cell_type": "markdown",
   "id": "da54181c",
   "metadata": {},
   "source": [
    "### Данные о проволочных материалах (время)"
   ]
  },
  {
   "cell_type": "markdown",
   "id": "51540702",
   "metadata": {},
   "source": [
    "#### Анализ данных"
   ]
  },
  {
   "cell_type": "code",
   "execution_count": 35,
   "id": "ccf67f70",
   "metadata": {
    "tags": []
   },
   "outputs": [],
   "source": [
    "try:\n",
    "    data_wire_time = pd.read_csv('datasets\\\\data_wire_time_new.csv', parse_dates=[1,2,3,4,5,6,7,8,9])\n",
    "except:\n",
    "    data_wire_time = pd.read_csv('https://code.s3.yandex.net/datasets/data_wire_time_new.csv', \n",
    "                                 parse_dates=[1,2,3,4,5,6,7,8,9]) "
   ]
  },
  {
   "cell_type": "code",
   "execution_count": 36,
   "id": "16cf4e60",
   "metadata": {
    "tags": []
   },
   "outputs": [
    {
     "data": {
      "text/html": [
       "<div>\n",
       "<style scoped>\n",
       "    .dataframe tbody tr th:only-of-type {\n",
       "        vertical-align: middle;\n",
       "    }\n",
       "\n",
       "    .dataframe tbody tr th {\n",
       "        vertical-align: top;\n",
       "    }\n",
       "\n",
       "    .dataframe thead th {\n",
       "        text-align: right;\n",
       "    }\n",
       "</style>\n",
       "<table border=\"1\" class=\"dataframe\">\n",
       "  <thead>\n",
       "    <tr style=\"text-align: right;\">\n",
       "      <th></th>\n",
       "      <th>key</th>\n",
       "      <th>Wire 1</th>\n",
       "      <th>Wire 2</th>\n",
       "      <th>Wire 3</th>\n",
       "      <th>Wire 4</th>\n",
       "      <th>Wire 5</th>\n",
       "      <th>Wire 6</th>\n",
       "      <th>Wire 7</th>\n",
       "      <th>Wire 8</th>\n",
       "      <th>Wire 9</th>\n",
       "    </tr>\n",
       "  </thead>\n",
       "  <tbody>\n",
       "    <tr>\n",
       "      <th>0</th>\n",
       "      <td>1</td>\n",
       "      <td>2019-05-03 11:06:19</td>\n",
       "      <td>NaT</td>\n",
       "      <td>NaT</td>\n",
       "      <td>NaT</td>\n",
       "      <td>NaT</td>\n",
       "      <td>NaT</td>\n",
       "      <td>NaT</td>\n",
       "      <td>NaT</td>\n",
       "      <td>NaT</td>\n",
       "    </tr>\n",
       "    <tr>\n",
       "      <th>1</th>\n",
       "      <td>2</td>\n",
       "      <td>2019-05-03 11:36:50</td>\n",
       "      <td>NaT</td>\n",
       "      <td>NaT</td>\n",
       "      <td>NaT</td>\n",
       "      <td>NaT</td>\n",
       "      <td>NaT</td>\n",
       "      <td>NaT</td>\n",
       "      <td>NaT</td>\n",
       "      <td>NaT</td>\n",
       "    </tr>\n",
       "    <tr>\n",
       "      <th>2</th>\n",
       "      <td>3</td>\n",
       "      <td>2019-05-03 12:11:46</td>\n",
       "      <td>NaT</td>\n",
       "      <td>NaT</td>\n",
       "      <td>NaT</td>\n",
       "      <td>NaT</td>\n",
       "      <td>NaT</td>\n",
       "      <td>NaT</td>\n",
       "      <td>NaT</td>\n",
       "      <td>NaT</td>\n",
       "    </tr>\n",
       "    <tr>\n",
       "      <th>3</th>\n",
       "      <td>4</td>\n",
       "      <td>2019-05-03 12:43:22</td>\n",
       "      <td>NaT</td>\n",
       "      <td>NaT</td>\n",
       "      <td>NaT</td>\n",
       "      <td>NaT</td>\n",
       "      <td>NaT</td>\n",
       "      <td>NaT</td>\n",
       "      <td>NaT</td>\n",
       "      <td>NaT</td>\n",
       "    </tr>\n",
       "    <tr>\n",
       "      <th>4</th>\n",
       "      <td>5</td>\n",
       "      <td>2019-05-03 13:20:44</td>\n",
       "      <td>2019-05-03 13:15:34</td>\n",
       "      <td>NaT</td>\n",
       "      <td>NaT</td>\n",
       "      <td>NaT</td>\n",
       "      <td>NaT</td>\n",
       "      <td>NaT</td>\n",
       "      <td>NaT</td>\n",
       "      <td>NaT</td>\n",
       "    </tr>\n",
       "  </tbody>\n",
       "</table>\n",
       "</div>"
      ],
      "text/plain": [
       "   key              Wire 1              Wire 2 Wire 3 Wire 4 Wire 5 Wire 6  \\\n",
       "0    1 2019-05-03 11:06:19                 NaT    NaT    NaT    NaT    NaT   \n",
       "1    2 2019-05-03 11:36:50                 NaT    NaT    NaT    NaT    NaT   \n",
       "2    3 2019-05-03 12:11:46                 NaT    NaT    NaT    NaT    NaT   \n",
       "3    4 2019-05-03 12:43:22                 NaT    NaT    NaT    NaT    NaT   \n",
       "4    5 2019-05-03 13:20:44 2019-05-03 13:15:34    NaT    NaT    NaT    NaT   \n",
       "\n",
       "  Wire 7 Wire 8 Wire 9  \n",
       "0    NaT    NaT    NaT  \n",
       "1    NaT    NaT    NaT  \n",
       "2    NaT    NaT    NaT  \n",
       "3    NaT    NaT    NaT  \n",
       "4    NaT    NaT    NaT  "
      ]
     },
     "execution_count": 36,
     "metadata": {},
     "output_type": "execute_result"
    }
   ],
   "source": [
    "data_wire_time.head()"
   ]
  },
  {
   "cell_type": "code",
   "execution_count": 37,
   "id": "c045a2d1",
   "metadata": {
    "tags": []
   },
   "outputs": [
    {
     "name": "stdout",
     "output_type": "stream",
     "text": [
      "<class 'pandas.core.frame.DataFrame'>\n",
      "RangeIndex: 3081 entries, 0 to 3080\n",
      "Data columns (total 10 columns):\n",
      " #   Column  Non-Null Count  Dtype         \n",
      "---  ------  --------------  -----         \n",
      " 0   key     3081 non-null   int64         \n",
      " 1   Wire 1  3055 non-null   datetime64[ns]\n",
      " 2   Wire 2  1079 non-null   datetime64[ns]\n",
      " 3   Wire 3  63 non-null     datetime64[ns]\n",
      " 4   Wire 4  14 non-null     datetime64[ns]\n",
      " 5   Wire 5  1 non-null      datetime64[ns]\n",
      " 6   Wire 6  73 non-null     datetime64[ns]\n",
      " 7   Wire 7  11 non-null     datetime64[ns]\n",
      " 8   Wire 8  19 non-null     datetime64[ns]\n",
      " 9   Wire 9  29 non-null     datetime64[ns]\n",
      "dtypes: datetime64[ns](9), int64(1)\n",
      "memory usage: 240.8 KB\n"
     ]
    }
   ],
   "source": [
    "data_wire_time.info()"
   ]
  },
  {
   "cell_type": "code",
   "execution_count": 38,
   "id": "e741e8fa",
   "metadata": {
    "tags": []
   },
   "outputs": [
    {
     "data": {
      "text/html": [
       "<div>\n",
       "<style scoped>\n",
       "    .dataframe tbody tr th:only-of-type {\n",
       "        vertical-align: middle;\n",
       "    }\n",
       "\n",
       "    .dataframe tbody tr th {\n",
       "        vertical-align: top;\n",
       "    }\n",
       "\n",
       "    .dataframe thead th {\n",
       "        text-align: right;\n",
       "    }\n",
       "</style>\n",
       "<table border=\"1\" class=\"dataframe\">\n",
       "  <thead>\n",
       "    <tr style=\"text-align: right;\">\n",
       "      <th></th>\n",
       "      <th>key</th>\n",
       "      <th>Wire 1</th>\n",
       "      <th>Wire 2</th>\n",
       "      <th>Wire 3</th>\n",
       "      <th>Wire 4</th>\n",
       "      <th>Wire 5</th>\n",
       "      <th>Wire 6</th>\n",
       "      <th>Wire 7</th>\n",
       "      <th>Wire 8</th>\n",
       "      <th>Wire 9</th>\n",
       "    </tr>\n",
       "  </thead>\n",
       "  <tbody>\n",
       "    <tr>\n",
       "      <th>count</th>\n",
       "      <td>3081.0</td>\n",
       "      <td>3055</td>\n",
       "      <td>1079</td>\n",
       "      <td>63</td>\n",
       "      <td>14</td>\n",
       "      <td>1</td>\n",
       "      <td>73</td>\n",
       "      <td>11</td>\n",
       "      <td>19</td>\n",
       "      <td>29</td>\n",
       "    </tr>\n",
       "    <tr>\n",
       "      <th>min</th>\n",
       "      <td>1.0</td>\n",
       "      <td>2019-05-03 11:06:19</td>\n",
       "      <td>2019-05-03 13:15:34</td>\n",
       "      <td>2019-05-04 04:34:27</td>\n",
       "      <td>2019-05-07 15:19:17</td>\n",
       "      <td>2019-08-13 06:14:30</td>\n",
       "      <td>2019-05-07 14:46:05</td>\n",
       "      <td>2019-07-27 05:49:05</td>\n",
       "      <td>2019-05-14 11:29:24</td>\n",
       "      <td>2019-05-04 17:21:27</td>\n",
       "    </tr>\n",
       "    <tr>\n",
       "      <th>max</th>\n",
       "      <td>3241.0</td>\n",
       "      <td>2019-09-06 17:10:06</td>\n",
       "      <td>2019-09-06 07:35:40</td>\n",
       "      <td>2019-09-02 07:14:44</td>\n",
       "      <td>2019-08-13 03:16:45</td>\n",
       "      <td>2019-08-13 06:14:30</td>\n",
       "      <td>2019-08-18 19:10:56</td>\n",
       "      <td>2019-08-13 10:25:22</td>\n",
       "      <td>2019-08-16 08:56:23</td>\n",
       "      <td>2019-09-03 12:55:23</td>\n",
       "    </tr>\n",
       "  </tbody>\n",
       "</table>\n",
       "</div>"
      ],
      "text/plain": [
       "          key               Wire 1               Wire 2               Wire 3  \\\n",
       "count  3081.0                 3055                 1079                   63   \n",
       "min       1.0  2019-05-03 11:06:19  2019-05-03 13:15:34  2019-05-04 04:34:27   \n",
       "max    3241.0  2019-09-06 17:10:06  2019-09-06 07:35:40  2019-09-02 07:14:44   \n",
       "\n",
       "                    Wire 4               Wire 5               Wire 6  \\\n",
       "count                   14                    1                   73   \n",
       "min    2019-05-07 15:19:17  2019-08-13 06:14:30  2019-05-07 14:46:05   \n",
       "max    2019-08-13 03:16:45  2019-08-13 06:14:30  2019-08-18 19:10:56   \n",
       "\n",
       "                    Wire 7               Wire 8               Wire 9  \n",
       "count                   11                   19                   29  \n",
       "min    2019-07-27 05:49:05  2019-05-14 11:29:24  2019-05-04 17:21:27  \n",
       "max    2019-08-13 10:25:22  2019-08-16 08:56:23  2019-09-03 12:55:23  "
      ]
     },
     "execution_count": 38,
     "metadata": {},
     "output_type": "execute_result"
    }
   ],
   "source": [
    "data_wire_time.describe(datetime_is_numeric=True).loc[['count','min','max']]"
   ]
  },
  {
   "cell_type": "markdown",
   "id": "3c9f8e9b",
   "metadata": {},
   "source": [
    "Также как и датасет с временем подачи сыпучих материалов, данный датасет в построении модели использоваться не будет."
   ]
  },
  {
   "cell_type": "markdown",
   "id": "a0925d71",
   "metadata": {},
   "source": [
    "#### Вывод"
   ]
  },
  {
   "cell_type": "markdown",
   "id": "d5fa7b77",
   "metadata": {},
   "source": [
    "В построении модели эта таблица использоваться не будет."
   ]
  },
  {
   "cell_type": "markdown",
   "id": "02275bf3",
   "metadata": {},
   "source": [
    "### Результаты измерения температуры"
   ]
  },
  {
   "cell_type": "markdown",
   "id": "f43f7cdf",
   "metadata": {},
   "source": [
    "#### Анализ данных"
   ]
  },
  {
   "cell_type": "code",
   "execution_count": 39,
   "id": "d041b0b4",
   "metadata": {
    "tags": []
   },
   "outputs": [],
   "source": [
    "try:\n",
    "    data_temp = pd.read_csv('datasets\\\\data_temp_new.csv', parse_dates=[1])\n",
    "except:\n",
    "    data_temp = pd.read_csv('https://code.s3.yandex.net/datasets/data_temp_new.csv', parse_dates=[1]) "
   ]
  },
  {
   "cell_type": "code",
   "execution_count": 40,
   "id": "5a5104dd",
   "metadata": {
    "tags": []
   },
   "outputs": [
    {
     "data": {
      "text/html": [
       "<div>\n",
       "<style scoped>\n",
       "    .dataframe tbody tr th:only-of-type {\n",
       "        vertical-align: middle;\n",
       "    }\n",
       "\n",
       "    .dataframe tbody tr th {\n",
       "        vertical-align: top;\n",
       "    }\n",
       "\n",
       "    .dataframe thead th {\n",
       "        text-align: right;\n",
       "    }\n",
       "</style>\n",
       "<table border=\"1\" class=\"dataframe\">\n",
       "  <thead>\n",
       "    <tr style=\"text-align: right;\">\n",
       "      <th></th>\n",
       "      <th>key</th>\n",
       "      <th>Время замера</th>\n",
       "      <th>Температура</th>\n",
       "    </tr>\n",
       "  </thead>\n",
       "  <tbody>\n",
       "    <tr>\n",
       "      <th>0</th>\n",
       "      <td>1</td>\n",
       "      <td>2019-05-03 11:02:04</td>\n",
       "      <td>1571.0</td>\n",
       "    </tr>\n",
       "    <tr>\n",
       "      <th>1</th>\n",
       "      <td>1</td>\n",
       "      <td>2019-05-03 11:07:18</td>\n",
       "      <td>1604.0</td>\n",
       "    </tr>\n",
       "    <tr>\n",
       "      <th>2</th>\n",
       "      <td>1</td>\n",
       "      <td>2019-05-03 11:11:34</td>\n",
       "      <td>1618.0</td>\n",
       "    </tr>\n",
       "    <tr>\n",
       "      <th>3</th>\n",
       "      <td>1</td>\n",
       "      <td>2019-05-03 11:18:04</td>\n",
       "      <td>1601.0</td>\n",
       "    </tr>\n",
       "    <tr>\n",
       "      <th>4</th>\n",
       "      <td>1</td>\n",
       "      <td>2019-05-03 11:25:59</td>\n",
       "      <td>1606.0</td>\n",
       "    </tr>\n",
       "  </tbody>\n",
       "</table>\n",
       "</div>"
      ],
      "text/plain": [
       "   key        Время замера  Температура\n",
       "0    1 2019-05-03 11:02:04       1571.0\n",
       "1    1 2019-05-03 11:07:18       1604.0\n",
       "2    1 2019-05-03 11:11:34       1618.0\n",
       "3    1 2019-05-03 11:18:04       1601.0\n",
       "4    1 2019-05-03 11:25:59       1606.0"
      ]
     },
     "execution_count": 40,
     "metadata": {},
     "output_type": "execute_result"
    }
   ],
   "source": [
    "data_temp.head()"
   ]
  },
  {
   "cell_type": "markdown",
   "id": "ed06e940",
   "metadata": {},
   "source": [
    "Каждому ключу может соответствовать несколько записей.  \n",
    "Нас интересует только первое и последнее измерение, которые следует записать в новые столбцы, а точное время измерения нас не интересует."
   ]
  },
  {
   "cell_type": "code",
   "execution_count": 41,
   "id": "dba3ae9b",
   "metadata": {
    "tags": []
   },
   "outputs": [
    {
     "name": "stdout",
     "output_type": "stream",
     "text": [
      "<class 'pandas.core.frame.DataFrame'>\n",
      "RangeIndex: 18092 entries, 0 to 18091\n",
      "Data columns (total 3 columns):\n",
      " #   Column        Non-Null Count  Dtype         \n",
      "---  ------        --------------  -----         \n",
      " 0   key           18092 non-null  int64         \n",
      " 1   Время замера  18092 non-null  datetime64[ns]\n",
      " 2   Температура   14665 non-null  float64       \n",
      "dtypes: datetime64[ns](1), float64(1), int64(1)\n",
      "memory usage: 424.2 KB\n"
     ]
    }
   ],
   "source": [
    "data_temp.info()"
   ]
  },
  {
   "cell_type": "markdown",
   "id": "c5a2b8d1",
   "metadata": {},
   "source": [
    "В столбце со значением температуры большое количество пропусков.  \n",
    "Так как температура это целевой параметр, то пропуски в нём недопустимы. Все процессы с пропусками следует удалить."
   ]
  },
  {
   "cell_type": "code",
   "execution_count": 42,
   "id": "5f6e5756",
   "metadata": {
    "tags": []
   },
   "outputs": [
    {
     "data": {
      "text/html": [
       "<div>\n",
       "<style scoped>\n",
       "    .dataframe tbody tr th:only-of-type {\n",
       "        vertical-align: middle;\n",
       "    }\n",
       "\n",
       "    .dataframe tbody tr th {\n",
       "        vertical-align: top;\n",
       "    }\n",
       "\n",
       "    .dataframe thead th {\n",
       "        text-align: right;\n",
       "    }\n",
       "</style>\n",
       "<table border=\"1\" class=\"dataframe\">\n",
       "  <thead>\n",
       "    <tr style=\"text-align: right;\">\n",
       "      <th></th>\n",
       "      <th>count</th>\n",
       "      <th>mean</th>\n",
       "      <th>std</th>\n",
       "      <th>min</th>\n",
       "      <th>25%</th>\n",
       "      <th>50%</th>\n",
       "      <th>75%</th>\n",
       "      <th>max</th>\n",
       "    </tr>\n",
       "  </thead>\n",
       "  <tbody>\n",
       "    <tr>\n",
       "      <th>key</th>\n",
       "      <td>18092.0</td>\n",
       "      <td>1616.460977</td>\n",
       "      <td>934.641385</td>\n",
       "      <td>1.0</td>\n",
       "      <td>807.75</td>\n",
       "      <td>1618.0</td>\n",
       "      <td>2429.0</td>\n",
       "      <td>3241.0</td>\n",
       "    </tr>\n",
       "    <tr>\n",
       "      <th>Температура</th>\n",
       "      <td>14665.0</td>\n",
       "      <td>1590.722741</td>\n",
       "      <td>20.394381</td>\n",
       "      <td>1191.0</td>\n",
       "      <td>1580.00</td>\n",
       "      <td>1590.0</td>\n",
       "      <td>1599.0</td>\n",
       "      <td>1705.0</td>\n",
       "    </tr>\n",
       "  </tbody>\n",
       "</table>\n",
       "</div>"
      ],
      "text/plain": [
       "               count         mean         std     min      25%     50%  \\\n",
       "key          18092.0  1616.460977  934.641385     1.0   807.75  1618.0   \n",
       "Температура  14665.0  1590.722741   20.394381  1191.0  1580.00  1590.0   \n",
       "\n",
       "                75%     max  \n",
       "key          2429.0  3241.0  \n",
       "Температура  1599.0  1705.0  "
      ]
     },
     "execution_count": 42,
     "metadata": {},
     "output_type": "execute_result"
    }
   ],
   "source": [
    "data_temp.describe().T"
   ]
  },
  {
   "cell_type": "markdown",
   "id": "5202336d",
   "metadata": {},
   "source": [
    "Температура плавления стали 1450—1520 °C. Все значения меньше 1450 являются ошибочными, их нужно удалить."
   ]
  },
  {
   "cell_type": "code",
   "execution_count": 43,
   "id": "4daf0f4f",
   "metadata": {
    "tags": []
   },
   "outputs": [
    {
     "data": {
      "image/png": "[encoded data removed]",
      "text/plain": [
       "<Figure size 720x108 with 1 Axes>"
      ]
     },
     "metadata": {
      "needs_background": "light"
     },
     "output_type": "display_data"
    }
   ],
   "source": [
    "data_temp[data_temp['Температура']>1450].drop('key', axis=1).boxplot(vert=False, figsize=(10,1.5))\n",
    "plt.title('Диаграмма размаха температуры')\n",
    "plt.xlabel('Температура °C');"
   ]
  },
  {
   "cell_type": "markdown",
   "id": "57e4a1b6",
   "metadata": {},
   "source": [
    "Аномальных выбросов нет"
   ]
  },
  {
   "cell_type": "code",
   "execution_count": 44,
   "id": "38ca4cdf",
   "metadata": {
    "tags": []
   },
   "outputs": [
    {
     "data": {
      "image/png": "[encoded data removed]",
      "text/plain": [
       "<Figure size 432x288 with 1 Axes>"
      ]
     },
     "metadata": {
      "needs_background": "light"
     },
     "output_type": "display_data"
    }
   ],
   "source": [
    "data_temp.drop(['key','Время замера'], axis=1).hist(bins=70, figsize=(6,4))\n",
    "plt.xlim((1500,1700))\n",
    "plt.xlabel('Температура')\n",
    "plt.ylabel('Число записей')\n",
    "plt.title('Гистограмма распределения температур');"
   ]
  },
  {
   "cell_type": "markdown",
   "id": "1a956074",
   "metadata": {},
   "source": [
    "Как видно, график очень похож на нормальное распределение. Это должно хорошо повлиять на построение модели."
   ]
  },
  {
   "cell_type": "markdown",
   "id": "cf9db7b1",
   "metadata": {},
   "source": [
    "Посмотрим число замеров температуры для каждого ключа и построим гистограмму."
   ]
  },
  {
   "cell_type": "code",
   "execution_count": 45,
   "id": "2e5d1fd9",
   "metadata": {
    "tags": []
   },
   "outputs": [
    {
     "data": {
      "image/png": "[encoded data removed]",
      "text/plain": [
       "<Figure size 432x288 with 1 Axes>"
      ]
     },
     "metadata": {
      "needs_background": "light"
     },
     "output_type": "display_data"
    }
   ],
   "source": [
    "data_temp.groupby(['key']).count()['Температура'].hist(bins=16,figsize=(6,4))\n",
    "plt.xlabel('Число замеров')\n",
    "plt.ylabel('Количество процессов')\n",
    "plt.title('Гистограмма распределения числа замеров температуры в процессе');"
   ]
  },
  {
   "cell_type": "markdown",
   "id": "081d3bcd",
   "metadata": {},
   "source": [
    "Как видно, у большого числа процессов был произведён всего один замер. К сожалению, такие записи нам не подходят и их придётся удалить.   \n",
    "\n",
    "Также следует выяснить можно ли считать, что если было произведено хотя бы два замера, то можно один был произведён в начале процесса, а второй в конце? Проверить самостоятельно это нельзя, из-за того что время в датафреймах не синхронизировано."
   ]
  },
  {
   "cell_type": "markdown",
   "id": "90d79bb9",
   "metadata": {},
   "source": [
    "Отдельно на всякий случай проверим, вдруг пропуски в записи темпертур в промежуточных измерениях. Возможно начальное и финальное измерение было произведено, а промежуточные пропущены. В таком случае эти записи необязательно удалять."
   ]
  },
  {
   "cell_type": "code",
   "execution_count": 46,
   "id": "41a9db81",
   "metadata": {
    "tags": []
   },
   "outputs": [
    {
     "data": {
      "text/plain": [
       "1    739\n",
       "Name: Температура, dtype: int64"
      ]
     },
     "execution_count": 46,
     "metadata": {},
     "output_type": "execute_result"
    }
   ],
   "source": [
    "# Выделяем ключи, по которым есть попуски\n",
    "keys = data_temp[data_temp['Температура'].isna()].key.unique()\n",
    "# Считаем число измерений по каждому ключу\n",
    "data_temp.loc[data_temp.key.isin(keys)].groupby(['key']).count()['Температура'].value_counts()"
   ]
  },
  {
   "cell_type": "markdown",
   "id": "93e025f1",
   "metadata": {},
   "source": [
    "Похоже пропуски как раз в тех записях, где только одно измерение. Значит все процессы с пропусками точно нужно удалить.  "
   ]
  },
  {
   "cell_type": "code",
   "execution_count": 47,
   "id": "a7280db3",
   "metadata": {
    "tags": []
   },
   "outputs": [
    {
     "data": {
      "text/html": [
       "<div>\n",
       "<style scoped>\n",
       "    .dataframe tbody tr th:only-of-type {\n",
       "        vertical-align: middle;\n",
       "    }\n",
       "\n",
       "    .dataframe tbody tr th {\n",
       "        vertical-align: top;\n",
       "    }\n",
       "\n",
       "    .dataframe thead th {\n",
       "        text-align: right;\n",
       "    }\n",
       "</style>\n",
       "<table border=\"1\" class=\"dataframe\">\n",
       "  <thead>\n",
       "    <tr style=\"text-align: right;\">\n",
       "      <th></th>\n",
       "      <th>key</th>\n",
       "      <th>Время замера</th>\n",
       "      <th>Температура</th>\n",
       "    </tr>\n",
       "  </thead>\n",
       "  <tbody>\n",
       "    <tr>\n",
       "      <th>13926</th>\n",
       "      <td>2500</td>\n",
       "      <td>2019-08-10 14:04:39</td>\n",
       "      <td>1539.0</td>\n",
       "    </tr>\n",
       "    <tr>\n",
       "      <th>13927</th>\n",
       "      <td>2500</td>\n",
       "      <td>2019-08-10 14:13:11</td>\n",
       "      <td>NaN</td>\n",
       "    </tr>\n",
       "    <tr>\n",
       "      <th>13928</th>\n",
       "      <td>2500</td>\n",
       "      <td>2019-08-10 14:18:12</td>\n",
       "      <td>NaN</td>\n",
       "    </tr>\n",
       "    <tr>\n",
       "      <th>13929</th>\n",
       "      <td>2500</td>\n",
       "      <td>2019-08-10 14:25:53</td>\n",
       "      <td>NaN</td>\n",
       "    </tr>\n",
       "    <tr>\n",
       "      <th>13930</th>\n",
       "      <td>2500</td>\n",
       "      <td>2019-08-10 14:29:39</td>\n",
       "      <td>NaN</td>\n",
       "    </tr>\n",
       "    <tr>\n",
       "      <th>...</th>\n",
       "      <td>...</td>\n",
       "      <td>...</td>\n",
       "      <td>...</td>\n",
       "    </tr>\n",
       "    <tr>\n",
       "      <th>18087</th>\n",
       "      <td>3241</td>\n",
       "      <td>2019-09-06 16:55:01</td>\n",
       "      <td>NaN</td>\n",
       "    </tr>\n",
       "    <tr>\n",
       "      <th>18088</th>\n",
       "      <td>3241</td>\n",
       "      <td>2019-09-06 17:06:38</td>\n",
       "      <td>NaN</td>\n",
       "    </tr>\n",
       "    <tr>\n",
       "      <th>18089</th>\n",
       "      <td>3241</td>\n",
       "      <td>2019-09-06 17:21:48</td>\n",
       "      <td>NaN</td>\n",
       "    </tr>\n",
       "    <tr>\n",
       "      <th>18090</th>\n",
       "      <td>3241</td>\n",
       "      <td>2019-09-06 17:24:44</td>\n",
       "      <td>NaN</td>\n",
       "    </tr>\n",
       "    <tr>\n",
       "      <th>18091</th>\n",
       "      <td>3241</td>\n",
       "      <td>2019-09-06 17:30:05</td>\n",
       "      <td>NaN</td>\n",
       "    </tr>\n",
       "  </tbody>\n",
       "</table>\n",
       "<p>4166 rows × 3 columns</p>\n",
       "</div>"
      ],
      "text/plain": [
       "        key        Время замера  Температура\n",
       "13926  2500 2019-08-10 14:04:39       1539.0\n",
       "13927  2500 2019-08-10 14:13:11          NaN\n",
       "13928  2500 2019-08-10 14:18:12          NaN\n",
       "13929  2500 2019-08-10 14:25:53          NaN\n",
       "13930  2500 2019-08-10 14:29:39          NaN\n",
       "...     ...                 ...          ...\n",
       "18087  3241 2019-09-06 16:55:01          NaN\n",
       "18088  3241 2019-09-06 17:06:38          NaN\n",
       "18089  3241 2019-09-06 17:21:48          NaN\n",
       "18090  3241 2019-09-06 17:24:44          NaN\n",
       "18091  3241 2019-09-06 17:30:05          NaN\n",
       "\n",
       "[4166 rows x 3 columns]"
      ]
     },
     "execution_count": 47,
     "metadata": {},
     "output_type": "execute_result"
    }
   ],
   "source": [
    "data_temp.loc[data_temp.key.isin(keys)]"
   ]
  },
  {
   "cell_type": "markdown",
   "id": "50285bad",
   "metadata": {},
   "source": [
    "Все пропуски содержатся в процессах с 2500 по 3241, т.е. в последних записях. И единственная присутствующая запись для них это начальная температура стали, т.е. вводные данные.   \n",
    "Возможно это тестовые данные, для которых нам и нужно было бы в итоге сделать предсказание, которое потом проверят на практике? Если бы это была реальная бизнес задача, а 2019 год давно не прошёл."
   ]
  },
  {
   "cell_type": "markdown",
   "id": "b7ef49b5",
   "metadata": {},
   "source": [
    "#### Вывод"
   ]
  },
  {
   "cell_type": "markdown",
   "id": "a9cbffa3",
   "metadata": {},
   "source": [
    "В таблице много пропусков, все процессы с пропусками нужно удалить.   \n",
    "Также следует удалить процессы в которых было произведено всего одно измерение (вероятно совпадает с процессами с пропусками)\n",
    "\n",
    "Измерения температуры содержат ошибочные записи со значениями ниже 1450°C, т.е. ниже температуры плавления стали. Такие записи следует удалить.  \n",
    "\n",
    "Из оставшихся записей нужно сформировать таблицу со следующими столбцами:\n",
    "* Ключ;\n",
    "* Начальная температура;\n",
    "* Финальная температура."
   ]
  },
  {
   "cell_type": "markdown",
   "id": "f8c64995",
   "metadata": {},
   "source": [
    "### Вывод по первичному анализу данных"
   ]
  },
  {
   "cell_type": "markdown",
   "id": "67429f87",
   "metadata": {},
   "source": [
    "**Данные об электродах**\n",
    "\n",
    "Пропусков в датасете нет.  \n",
    "Ошибка содержится только в одной записи с отрицательной мощьностью. Все данные по этому процессу нужно будет удалить.  \n",
    "\n",
    "Активная и реактивная мощность сильно коррелируют друг с другом. Так как на сталь воздействует именно активная мощьность, в датасете следует оставить только её.\n",
    "\n",
    "Всю информацию по каждому отдельному процессу следует агрегировать.  \n",
    "Можно создать новую таблицу со следующими столбцами:\n",
    "* Ключ процесса;\n",
    "* Общая длительность процесса от начала первого нагрева, до конца последнего;\n",
    "* Сумманрная активная работа.\n",
    "\n",
    "Работа вычисляется как произведение времени нагрева, на его активную мощность.\n",
    "\n",
    "**Данные о подаче сыпучих материалов (объём)**\n",
    "\n",
    "В данных очень много пропусков, все их следует заменить нулями.  \n",
    "\n",
    "Все редкие материалы следует объединить в один столбец `Other`. Редкость столбца следует определить уже после удаления всех ключей с ошибками в измерениях по всем датасетам.  \n",
    "\n",
    "В наборе присутствует два аномальных выброса, данные об этих процессах следует удалить.  \n",
    "Выбросы содержатся в строках с максимальным значением столбцов `Bulk 12` и `Bulk 5`.\n",
    "\n",
    "**Данные о подаче сыпучих материалов (время)**\n",
    "\n",
    "В построении модели эта таблица использоваться не будет.\n",
    "\n",
    "**Данные о продувке сплава газом**\n",
    "\n",
    "В наборе присутствуют значительные выбросы. Их следует удалить, но только после отделения тренировочной выборки от тестовой.\n",
    "\n",
    "**Данные о проволочных материалах (объём)**\n",
    "\n",
    "В данных очень много пропусков, все их следует заменить нулями.\n",
    "\n",
    "Все редкие материалы следует объединить в один столбец Other. Редкость столбца следует определить уже после удаления всех ключей с ошибками в измерениях по всем датасета\n",
    "\n",
    "Значительных выбросов в наборе нет.\n",
    "\n",
    "**Данные о проволочных материалах (время)**\n",
    "\n",
    "В построении модели эта таблица использоваться не будет.\n",
    "\n",
    "**Результаты измерения температуры**\n",
    "\n",
    "В таблице много пропусков, все процессы с пропусками нужно удалить.   \n",
    "Также следует удалить процессы в которых было произведено всего одно измерение (вероятно совпадает с процессами с пропусками)\n",
    "\n",
    "Измерения температуры содержат ошибочные записи со значениями ниже 1450°C, т.е. ниже температуры плавления стали. Такие записи следует удалить.  \n",
    "\n",
    "Из оставшихся записей нужно сформировать таблицу со следующими столбцами:\n",
    "* Ключ;\n",
    "* Начальная температура;\n",
    "* Финальная температура.\n"
   ]
  },
  {
   "cell_type": "markdown",
   "id": "404c3839",
   "metadata": {},
   "source": [
    "## План работы"
   ]
  },
  {
   "cell_type": "markdown",
   "id": "c6c5edff",
   "metadata": {},
   "source": [
    "* Подготовка данных\n",
    "    1. Обработка данных в соответствии с выводами по первичному анализу\n",
    "    3. Составление единой таблицы методом inner join, в полученной таблице одному ключу должна соответствовать одна запись\n",
    "    4. Проверка корреляции столбцов\n",
    "    5. Разделение на тестовую и тренирововчную выборки\n",
    "    6. Устранение слишком сильных выбросов в тренировочной выборке\n",
    "    7. Масштабирование данных\n",
    "* Обучение модели\n",
    "    1. Логистическая регрессия\n",
    "    2. Рандомный лес\n",
    "    3. CatBoost\n",
    "    4. LightGBM\n",
    "    6. Выбор лучшей модели\n",
    "* Анализ полученной модели\n",
    "    1. Проверка на тестовых данных\n",
    "    2. Сравнение с dummy моделью\n",
    "    3. Изучение важности признаков\n",
    "* Отчёт о проделанной работе"
   ]
  },
  {
   "cell_type": "markdown",
   "id": "1e179a93",
   "metadata": {},
   "source": [
    "## Вопросы к тим лиду"
   ]
  },
  {
   "cell_type": "markdown",
   "id": "a723b463",
   "metadata": {},
   "source": [
    "Если по ключу совершено хотя бы два измерения, мы можем быть уверены, что первое произведено в начале процесса, а последнее в конце? Или нужна дополнительная проверка?"
   ]
  },
  {
   "cell_type": "markdown",
   "id": "d28c7408",
   "metadata": {},
   "source": [
    "Ответ:  Да, если есть первый и последний (по времени) замеры температуры, то мы можем использовать в модели то, что первый был совершен в начале процесса, а второй в конце."
   ]
  },
  {
   "cell_type": "markdown",
   "id": "a91e965d",
   "metadata": {},
   "source": [
    "Если в датасете нет записи по какому-то ключу, это однозначно ошибка или нет?   \n",
    "Пример: в таблице нет записи о продувке газом по некоторому ключу.   \n",
    "Может ли быть такое, что в процессе действительно не применялась продувка газом, а значит можно сделать запись с нулём? Или такого быть не должно и при совершнии inner join такие записи автоматически отсеятся?"
   ]
  },
  {
   "cell_type": "markdown",
   "id": "7fbf727c",
   "metadata": {},
   "source": [
    "Ответ: Нет, не может. Если у нас нет данных по какому-нибудь аспекту процесса, то их просто нет, заполнять их нулями не нужно."
   ]
  },
  {
   "cell_type": "markdown",
   "id": "fbf5a517",
   "metadata": {},
   "source": [
    "## Предобработка данных"
   ]
  },
  {
   "cell_type": "code",
   "execution_count": 48,
   "id": "60b6c85c",
   "metadata": {
    "tags": []
   },
   "outputs": [],
   "source": [
    "random_state=40823"
   ]
  },
  {
   "cell_type": "markdown",
   "id": "42615881",
   "metadata": {},
   "source": [
    "### Данные об электродах"
   ]
  },
  {
   "cell_type": "markdown",
   "id": "702b835e",
   "metadata": {},
   "source": [
    "В данных содержится одна ошибка в столбце реактивной мощности. Однако так как было решено использовать в обучении модели только активную работу, на ошибку можно не обращать внимание.\n",
    "\n",
    "Сначала посчитаем работу каждого этапа и добавим её в таблицу."
   ]
  },
  {
   "cell_type": "code",
   "execution_count": 49,
   "id": "4ee817df",
   "metadata": {
    "tags": []
   },
   "outputs": [
    {
     "data": {
      "text/html": [
       "<div>\n",
       "<style scoped>\n",
       "    .dataframe tbody tr th:only-of-type {\n",
       "        vertical-align: middle;\n",
       "    }\n",
       "\n",
       "    .dataframe tbody tr th {\n",
       "        vertical-align: top;\n",
       "    }\n",
       "\n",
       "    .dataframe thead th {\n",
       "        text-align: right;\n",
       "    }\n",
       "</style>\n",
       "<table border=\"1\" class=\"dataframe\">\n",
       "  <thead>\n",
       "    <tr style=\"text-align: right;\">\n",
       "      <th></th>\n",
       "      <th>key</th>\n",
       "      <th>Начало нагрева дугой</th>\n",
       "      <th>Конец нагрева дугой</th>\n",
       "      <th>Активная мощность</th>\n",
       "      <th>Реактивная мощность</th>\n",
       "      <th>Активная работа</th>\n",
       "    </tr>\n",
       "  </thead>\n",
       "  <tbody>\n",
       "    <tr>\n",
       "      <th>0</th>\n",
       "      <td>1</td>\n",
       "      <td>2019-05-03 11:02:14</td>\n",
       "      <td>2019-05-03 11:06:02</td>\n",
       "      <td>0.305130</td>\n",
       "      <td>0.211253</td>\n",
       "      <td>69.569640</td>\n",
       "    </tr>\n",
       "    <tr>\n",
       "      <th>1</th>\n",
       "      <td>1</td>\n",
       "      <td>2019-05-03 11:07:28</td>\n",
       "      <td>2019-05-03 11:10:33</td>\n",
       "      <td>0.765658</td>\n",
       "      <td>0.477438</td>\n",
       "      <td>141.646730</td>\n",
       "    </tr>\n",
       "    <tr>\n",
       "      <th>2</th>\n",
       "      <td>1</td>\n",
       "      <td>2019-05-03 11:11:44</td>\n",
       "      <td>2019-05-03 11:14:36</td>\n",
       "      <td>0.580313</td>\n",
       "      <td>0.430460</td>\n",
       "      <td>99.813836</td>\n",
       "    </tr>\n",
       "    <tr>\n",
       "      <th>3</th>\n",
       "      <td>1</td>\n",
       "      <td>2019-05-03 11:18:14</td>\n",
       "      <td>2019-05-03 11:24:19</td>\n",
       "      <td>0.518496</td>\n",
       "      <td>0.379979</td>\n",
       "      <td>189.251040</td>\n",
       "    </tr>\n",
       "    <tr>\n",
       "      <th>4</th>\n",
       "      <td>1</td>\n",
       "      <td>2019-05-03 11:26:09</td>\n",
       "      <td>2019-05-03 11:28:37</td>\n",
       "      <td>0.867133</td>\n",
       "      <td>0.643691</td>\n",
       "      <td>128.335684</td>\n",
       "    </tr>\n",
       "  </tbody>\n",
       "</table>\n",
       "</div>"
      ],
      "text/plain": [
       "   key Начало нагрева дугой Конец нагрева дугой  Активная мощность  \\\n",
       "0    1  2019-05-03 11:02:14 2019-05-03 11:06:02           0.305130   \n",
       "1    1  2019-05-03 11:07:28 2019-05-03 11:10:33           0.765658   \n",
       "2    1  2019-05-03 11:11:44 2019-05-03 11:14:36           0.580313   \n",
       "3    1  2019-05-03 11:18:14 2019-05-03 11:24:19           0.518496   \n",
       "4    1  2019-05-03 11:26:09 2019-05-03 11:28:37           0.867133   \n",
       "\n",
       "   Реактивная мощность  Активная работа  \n",
       "0             0.211253        69.569640  \n",
       "1             0.477438       141.646730  \n",
       "2             0.430460        99.813836  \n",
       "3             0.379979       189.251040  \n",
       "4             0.643691       128.335684  "
      ]
     },
     "execution_count": 49,
     "metadata": {},
     "output_type": "execute_result"
    }
   ],
   "source": [
    "data_arc['Активная работа'] = (data_arc['Конец нагрева дугой']-data_arc['Начало нагрева дугой']).dt.seconds * data_arc['Активная мощность']\n",
    "data_arc.head()"
   ]
  },
  {
   "cell_type": "markdown",
   "id": "efe6e10c",
   "metadata": {},
   "source": [
    "Теперь создадим новый датасет с суммарной работой."
   ]
  },
  {
   "cell_type": "code",
   "execution_count": 50,
   "id": "40653945",
   "metadata": {
    "tags": []
   },
   "outputs": [
    {
     "data": {
      "text/html": [
       "<div>\n",
       "<style scoped>\n",
       "    .dataframe tbody tr th:only-of-type {\n",
       "        vertical-align: middle;\n",
       "    }\n",
       "\n",
       "    .dataframe tbody tr th {\n",
       "        vertical-align: top;\n",
       "    }\n",
       "\n",
       "    .dataframe thead th {\n",
       "        text-align: right;\n",
       "    }\n",
       "</style>\n",
       "<table border=\"1\" class=\"dataframe\">\n",
       "  <thead>\n",
       "    <tr style=\"text-align: right;\">\n",
       "      <th></th>\n",
       "      <th>Активная работа</th>\n",
       "    </tr>\n",
       "    <tr>\n",
       "      <th>key</th>\n",
       "      <th></th>\n",
       "    </tr>\n",
       "  </thead>\n",
       "  <tbody>\n",
       "    <tr>\n",
       "      <th>1</th>\n",
       "      <td>628.616930</td>\n",
       "    </tr>\n",
       "    <tr>\n",
       "      <th>2</th>\n",
       "      <td>395.281800</td>\n",
       "    </tr>\n",
       "    <tr>\n",
       "      <th>3</th>\n",
       "      <td>581.774624</td>\n",
       "    </tr>\n",
       "    <tr>\n",
       "      <th>4</th>\n",
       "      <td>543.710274</td>\n",
       "    </tr>\n",
       "    <tr>\n",
       "      <th>5</th>\n",
       "      <td>412.180480</td>\n",
       "    </tr>\n",
       "  </tbody>\n",
       "</table>\n",
       "</div>"
      ],
      "text/plain": [
       "     Активная работа\n",
       "key                 \n",
       "1         628.616930\n",
       "2         395.281800\n",
       "3         581.774624\n",
       "4         543.710274\n",
       "5         412.180480"
      ]
     },
     "execution_count": 50,
     "metadata": {},
     "output_type": "execute_result"
    }
   ],
   "source": [
    "data_arc_work = pd.DataFrame(data_arc.groupby('key').sum('Активная работа')['Активная работа'])\n",
    "data_arc_work.head()"
   ]
  },
  {
   "cell_type": "code",
   "execution_count": 51,
   "id": "01c20b97",
   "metadata": {
    "tags": []
   },
   "outputs": [
    {
     "data": {
      "image/png": "[encoded data removed]",
      "text/plain": [
       "<Figure size 648x144 with 1 Axes>"
      ]
     },
     "metadata": {
      "needs_background": "light"
     },
     "output_type": "display_data"
    }
   ],
   "source": [
    "data_arc_work.boxplot(vert=False, figsize=(9,2))\n",
    "plt.xlabel('Работа')\n",
    "plt.title('Диаграмма размаха активной работы');"
   ]
  },
  {
   "cell_type": "markdown",
   "id": "46c0d459",
   "metadata": {},
   "source": [
    "Выделяется один выброс, так как в значениях мощности такх выбросов не было, значит какой-то процесс длился очень долго. "
   ]
  },
  {
   "cell_type": "markdown",
   "id": "035ee416",
   "metadata": {},
   "source": [
    "### Данные о подаче сыпучих материалов (объём)"
   ]
  },
  {
   "cell_type": "markdown",
   "id": "7114f7be",
   "metadata": {},
   "source": [
    "До заполнения пропущенных значений выберем какие материалы объединить в категорию `Other`. Это удобно сделать по тоблице \n",
    "`info`."
   ]
  },
  {
   "cell_type": "code",
   "execution_count": 52,
   "id": "435d2abc",
   "metadata": {
    "tags": []
   },
   "outputs": [
    {
     "name": "stdout",
     "output_type": "stream",
     "text": [
      "<class 'pandas.core.frame.DataFrame'>\n",
      "RangeIndex: 3129 entries, 0 to 3128\n",
      "Data columns (total 16 columns):\n",
      " #   Column   Non-Null Count  Dtype  \n",
      "---  ------   --------------  -----  \n",
      " 0   key      3129 non-null   int64  \n",
      " 1   Bulk 1   252 non-null    float64\n",
      " 2   Bulk 2   22 non-null     float64\n",
      " 3   Bulk 3   1298 non-null   float64\n",
      " 4   Bulk 4   1014 non-null   float64\n",
      " 5   Bulk 5   77 non-null     float64\n",
      " 6   Bulk 6   576 non-null    float64\n",
      " 7   Bulk 7   25 non-null     float64\n",
      " 8   Bulk 8   1 non-null      float64\n",
      " 9   Bulk 9   19 non-null     float64\n",
      " 10  Bulk 10  176 non-null    float64\n",
      " 11  Bulk 11  177 non-null    float64\n",
      " 12  Bulk 12  2450 non-null   float64\n",
      " 13  Bulk 13  18 non-null     float64\n",
      " 14  Bulk 14  2806 non-null   float64\n",
      " 15  Bulk 15  2248 non-null   float64\n",
      "dtypes: float64(15), int64(1)\n",
      "memory usage: 391.2 KB\n"
     ]
    }
   ],
   "source": [
    "data_bulk_vol.info()"
   ]
  },
  {
   "cell_type": "markdown",
   "id": "af0e06d1",
   "metadata": {},
   "source": [
    "Будем считать очень редкими материалы, которые использовались не более чем в 1% процессов. У нас 3129 процессов, значит нас интрересуют числа меньше 31. Это материалы `Bulk 2, Bulk 7, Bulk 8, Bulk 9, Bulk 13`. "
   ]
  },
  {
   "cell_type": "code",
   "execution_count": 53,
   "id": "8d405e96",
   "metadata": {
    "tags": []
   },
   "outputs": [
    {
     "data": {
      "text/html": [
       "<style  type=\"text/css\" >\n",
       "#T_5365f_row0_col2,#T_5365f_row0_col7,#T_5365f_row0_col8,#T_5365f_row0_col9,#T_5365f_row0_col13,#T_5365f_row1_col2,#T_5365f_row1_col7,#T_5365f_row1_col8,#T_5365f_row1_col9,#T_5365f_row1_col13,#T_5365f_row2_col2,#T_5365f_row2_col7,#T_5365f_row2_col8,#T_5365f_row2_col9,#T_5365f_row2_col13,#T_5365f_row3_col2,#T_5365f_row3_col7,#T_5365f_row3_col8,#T_5365f_row3_col9,#T_5365f_row3_col13,#T_5365f_row4_col2,#T_5365f_row4_col7,#T_5365f_row4_col8,#T_5365f_row4_col9,#T_5365f_row4_col13{\n",
       "            background-color:  lightcyan;\n",
       "        }</style><table id=\"T_5365f_\" ><thead>    <tr>        <th class=\"blank level0\" ></th>        <th class=\"col_heading level0 col0\" >key</th>        <th class=\"col_heading level0 col1\" >Bulk 1</th>        <th class=\"col_heading level0 col2\" >Bulk 2</th>        <th class=\"col_heading level0 col3\" >Bulk 3</th>        <th class=\"col_heading level0 col4\" >Bulk 4</th>        <th class=\"col_heading level0 col5\" >Bulk 5</th>        <th class=\"col_heading level0 col6\" >Bulk 6</th>        <th class=\"col_heading level0 col7\" >Bulk 7</th>        <th class=\"col_heading level0 col8\" >Bulk 8</th>        <th class=\"col_heading level0 col9\" >Bulk 9</th>        <th class=\"col_heading level0 col10\" >Bulk 10</th>        <th class=\"col_heading level0 col11\" >Bulk 11</th>        <th class=\"col_heading level0 col12\" >Bulk 12</th>        <th class=\"col_heading level0 col13\" >Bulk 13</th>        <th class=\"col_heading level0 col14\" >Bulk 14</th>        <th class=\"col_heading level0 col15\" >Bulk 15</th>        <th class=\"col_heading level0 col16\" >other_bulk</th>    </tr></thead><tbody>\n",
       "                <tr>\n",
       "                        <th id=\"T_5365f_level0_row0\" class=\"row_heading level0 row0\" >1882</th>\n",
       "                        <td id=\"T_5365f_row0_col0\" class=\"data row0 col0\" >1,945</td>\n",
       "                        <td id=\"T_5365f_row0_col1\" class=\"data row0 col1\" >nan</td>\n",
       "                        <td id=\"T_5365f_row0_col2\" class=\"data row0 col2\" >nan</td>\n",
       "                        <td id=\"T_5365f_row0_col3\" class=\"data row0 col3\" >nan</td>\n",
       "                        <td id=\"T_5365f_row0_col4\" class=\"data row0 col4\" >nan</td>\n",
       "                        <td id=\"T_5365f_row0_col5\" class=\"data row0 col5\" >nan</td>\n",
       "                        <td id=\"T_5365f_row0_col6\" class=\"data row0 col6\" >nan</td>\n",
       "                        <td id=\"T_5365f_row0_col7\" class=\"data row0 col7\" >252</td>\n",
       "                        <td id=\"T_5365f_row0_col8\" class=\"data row0 col8\" >nan</td>\n",
       "                        <td id=\"T_5365f_row0_col9\" class=\"data row0 col9\" >nan</td>\n",
       "                        <td id=\"T_5365f_row0_col10\" class=\"data row0 col10\" >nan</td>\n",
       "                        <td id=\"T_5365f_row0_col11\" class=\"data row0 col11\" >nan</td>\n",
       "                        <td id=\"T_5365f_row0_col12\" class=\"data row0 col12\" >nan</td>\n",
       "                        <td id=\"T_5365f_row0_col13\" class=\"data row0 col13\" >nan</td>\n",
       "                        <td id=\"T_5365f_row0_col14\" class=\"data row0 col14\" >nan</td>\n",
       "                        <td id=\"T_5365f_row0_col15\" class=\"data row0 col15\" >nan</td>\n",
       "                        <td id=\"T_5365f_row0_col16\" class=\"data row0 col16\" >252</td>\n",
       "            </tr>\n",
       "            <tr>\n",
       "                        <th id=\"T_5365f_level0_row1\" class=\"row_heading level0 row1\" >1485</th>\n",
       "                        <td id=\"T_5365f_row1_col0\" class=\"data row1 col0\" >1,542</td>\n",
       "                        <td id=\"T_5365f_row1_col1\" class=\"data row1 col1\" >nan</td>\n",
       "                        <td id=\"T_5365f_row1_col2\" class=\"data row1 col2\" >nan</td>\n",
       "                        <td id=\"T_5365f_row1_col3\" class=\"data row1 col3\" >nan</td>\n",
       "                        <td id=\"T_5365f_row1_col4\" class=\"data row1 col4\" >nan</td>\n",
       "                        <td id=\"T_5365f_row1_col5\" class=\"data row1 col5\" >nan</td>\n",
       "                        <td id=\"T_5365f_row1_col6\" class=\"data row1 col6\" >nan</td>\n",
       "                        <td id=\"T_5365f_row1_col7\" class=\"data row1 col7\" >nan</td>\n",
       "                        <td id=\"T_5365f_row1_col8\" class=\"data row1 col8\" >nan</td>\n",
       "                        <td id=\"T_5365f_row1_col9\" class=\"data row1 col9\" >nan</td>\n",
       "                        <td id=\"T_5365f_row1_col10\" class=\"data row1 col10\" >nan</td>\n",
       "                        <td id=\"T_5365f_row1_col11\" class=\"data row1 col11\" >nan</td>\n",
       "                        <td id=\"T_5365f_row1_col12\" class=\"data row1 col12\" >111</td>\n",
       "                        <td id=\"T_5365f_row1_col13\" class=\"data row1 col13\" >151</td>\n",
       "                        <td id=\"T_5365f_row1_col14\" class=\"data row1 col14\" >nan</td>\n",
       "                        <td id=\"T_5365f_row1_col15\" class=\"data row1 col15\" >110</td>\n",
       "                        <td id=\"T_5365f_row1_col16\" class=\"data row1 col16\" >151</td>\n",
       "            </tr>\n",
       "            <tr>\n",
       "                        <th id=\"T_5365f_level0_row2\" class=\"row_heading level0 row2\" >1541</th>\n",
       "                        <td id=\"T_5365f_row2_col0\" class=\"data row2 col0\" >1,599</td>\n",
       "                        <td id=\"T_5365f_row2_col1\" class=\"data row2 col1\" >nan</td>\n",
       "                        <td id=\"T_5365f_row2_col2\" class=\"data row2 col2\" >nan</td>\n",
       "                        <td id=\"T_5365f_row2_col3\" class=\"data row2 col3\" >251</td>\n",
       "                        <td id=\"T_5365f_row2_col4\" class=\"data row2 col4\" >nan</td>\n",
       "                        <td id=\"T_5365f_row2_col5\" class=\"data row2 col5\" >nan</td>\n",
       "                        <td id=\"T_5365f_row2_col6\" class=\"data row2 col6\" >56</td>\n",
       "                        <td id=\"T_5365f_row2_col7\" class=\"data row2 col7\" >nan</td>\n",
       "                        <td id=\"T_5365f_row2_col8\" class=\"data row2 col8\" >nan</td>\n",
       "                        <td id=\"T_5365f_row2_col9\" class=\"data row2 col9\" >nan</td>\n",
       "                        <td id=\"T_5365f_row2_col10\" class=\"data row2 col10\" >nan</td>\n",
       "                        <td id=\"T_5365f_row2_col11\" class=\"data row2 col11\" >nan</td>\n",
       "                        <td id=\"T_5365f_row2_col12\" class=\"data row2 col12\" >465</td>\n",
       "                        <td id=\"T_5365f_row2_col13\" class=\"data row2 col13\" >154</td>\n",
       "                        <td id=\"T_5365f_row2_col14\" class=\"data row2 col14\" >132</td>\n",
       "                        <td id=\"T_5365f_row2_col15\" class=\"data row2 col15\" >160</td>\n",
       "                        <td id=\"T_5365f_row2_col16\" class=\"data row2 col16\" >154</td>\n",
       "            </tr>\n",
       "            <tr>\n",
       "                        <th id=\"T_5365f_level0_row3\" class=\"row_heading level0 row3\" >2471</th>\n",
       "                        <td id=\"T_5365f_row3_col0\" class=\"data row3 col0\" >2,563</td>\n",
       "                        <td id=\"T_5365f_row3_col1\" class=\"data row3 col1\" >22</td>\n",
       "                        <td id=\"T_5365f_row3_col2\" class=\"data row3 col2\" >254</td>\n",
       "                        <td id=\"T_5365f_row3_col3\" class=\"data row3 col3\" >nan</td>\n",
       "                        <td id=\"T_5365f_row3_col4\" class=\"data row3 col4\" >38</td>\n",
       "                        <td id=\"T_5365f_row3_col5\" class=\"data row3 col5\" >124</td>\n",
       "                        <td id=\"T_5365f_row3_col6\" class=\"data row3 col6\" >nan</td>\n",
       "                        <td id=\"T_5365f_row3_col7\" class=\"data row3 col7\" >340</td>\n",
       "                        <td id=\"T_5365f_row3_col8\" class=\"data row3 col8\" >nan</td>\n",
       "                        <td id=\"T_5365f_row3_col9\" class=\"data row3 col9\" >nan</td>\n",
       "                        <td id=\"T_5365f_row3_col10\" class=\"data row3 col10\" >nan</td>\n",
       "                        <td id=\"T_5365f_row3_col11\" class=\"data row3 col11\" >nan</td>\n",
       "                        <td id=\"T_5365f_row3_col12\" class=\"data row3 col12\" >nan</td>\n",
       "                        <td id=\"T_5365f_row3_col13\" class=\"data row3 col13\" >nan</td>\n",
       "                        <td id=\"T_5365f_row3_col14\" class=\"data row3 col14\" >nan</td>\n",
       "                        <td id=\"T_5365f_row3_col15\" class=\"data row3 col15\" >nan</td>\n",
       "                        <td id=\"T_5365f_row3_col16\" class=\"data row3 col16\" >594</td>\n",
       "            </tr>\n",
       "            <tr>\n",
       "                        <th id=\"T_5365f_level0_row4\" class=\"row_heading level0 row4\" >264</th>\n",
       "                        <td id=\"T_5365f_row4_col0\" class=\"data row4 col0\" >282</td>\n",
       "                        <td id=\"T_5365f_row4_col1\" class=\"data row4 col1\" >nan</td>\n",
       "                        <td id=\"T_5365f_row4_col2\" class=\"data row4 col2\" >nan</td>\n",
       "                        <td id=\"T_5365f_row4_col3\" class=\"data row4 col3\" >80</td>\n",
       "                        <td id=\"T_5365f_row4_col4\" class=\"data row4 col4\" >nan</td>\n",
       "                        <td id=\"T_5365f_row4_col5\" class=\"data row4 col5\" >nan</td>\n",
       "                        <td id=\"T_5365f_row4_col6\" class=\"data row4 col6\" >nan</td>\n",
       "                        <td id=\"T_5365f_row4_col7\" class=\"data row4 col7\" >nan</td>\n",
       "                        <td id=\"T_5365f_row4_col8\" class=\"data row4 col8\" >nan</td>\n",
       "                        <td id=\"T_5365f_row4_col9\" class=\"data row4 col9\" >65</td>\n",
       "                        <td id=\"T_5365f_row4_col10\" class=\"data row4 col10\" >nan</td>\n",
       "                        <td id=\"T_5365f_row4_col11\" class=\"data row4 col11\" >nan</td>\n",
       "                        <td id=\"T_5365f_row4_col12\" class=\"data row4 col12\" >104</td>\n",
       "                        <td id=\"T_5365f_row4_col13\" class=\"data row4 col13\" >nan</td>\n",
       "                        <td id=\"T_5365f_row4_col14\" class=\"data row4 col14\" >256</td>\n",
       "                        <td id=\"T_5365f_row4_col15\" class=\"data row4 col15\" >nan</td>\n",
       "                        <td id=\"T_5365f_row4_col16\" class=\"data row4 col16\" >65</td>\n",
       "            </tr>\n",
       "    </tbody></table>"
      ],
      "text/plain": [
       "<pandas.io.formats.style.Styler at 0x7f1e618b51c0>"
      ]
     },
     "execution_count": 53,
     "metadata": {},
     "output_type": "execute_result"
    }
   ],
   "source": [
    "other_columns = ['Bulk 2', 'Bulk 7', 'Bulk 8', 'Bulk 9', 'Bulk 13']\n",
    "data_bulk_vol['other_bulk'] = data_bulk_vol.loc[:,other_columns].sum(axis=1)\n",
    "\n",
    "#Выведем несколько строк с ненулевой суммой других материалов, чтобы проверить результат\n",
    "(data_bulk_vol[data_bulk_vol['other_bulk']>0].sample(5, random_state=random_state).\n",
    "     style.format('{0:,.0f}').set_properties(**{'background-color': 'lightcyan'}, subset=other_columns))"
   ]
  },
  {
   "cell_type": "markdown",
   "id": "42c605c5",
   "metadata": {},
   "source": [
    "Теперь можно удалить редкие материалы.  \n",
    "Также установим ключ индексом датасета."
   ]
  },
  {
   "cell_type": "code",
   "execution_count": 54,
   "id": "4b8a6e75",
   "metadata": {
    "tags": []
   },
   "outputs": [
    {
     "data": {
      "text/html": [
       "<div>\n",
       "<style scoped>\n",
       "    .dataframe tbody tr th:only-of-type {\n",
       "        vertical-align: middle;\n",
       "    }\n",
       "\n",
       "    .dataframe tbody tr th {\n",
       "        vertical-align: top;\n",
       "    }\n",
       "\n",
       "    .dataframe thead th {\n",
       "        text-align: right;\n",
       "    }\n",
       "</style>\n",
       "<table border=\"1\" class=\"dataframe\">\n",
       "  <thead>\n",
       "    <tr style=\"text-align: right;\">\n",
       "      <th></th>\n",
       "      <th>Bulk 1</th>\n",
       "      <th>Bulk 3</th>\n",
       "      <th>Bulk 4</th>\n",
       "      <th>Bulk 5</th>\n",
       "      <th>Bulk 6</th>\n",
       "      <th>Bulk 10</th>\n",
       "      <th>Bulk 11</th>\n",
       "      <th>Bulk 12</th>\n",
       "      <th>Bulk 14</th>\n",
       "      <th>Bulk 15</th>\n",
       "      <th>other_bulk</th>\n",
       "    </tr>\n",
       "    <tr>\n",
       "      <th>key</th>\n",
       "      <th></th>\n",
       "      <th></th>\n",
       "      <th></th>\n",
       "      <th></th>\n",
       "      <th></th>\n",
       "      <th></th>\n",
       "      <th></th>\n",
       "      <th></th>\n",
       "      <th></th>\n",
       "      <th></th>\n",
       "      <th></th>\n",
       "    </tr>\n",
       "  </thead>\n",
       "  <tbody>\n",
       "    <tr>\n",
       "      <th>1</th>\n",
       "      <td>NaN</td>\n",
       "      <td>NaN</td>\n",
       "      <td>43.0</td>\n",
       "      <td>NaN</td>\n",
       "      <td>NaN</td>\n",
       "      <td>NaN</td>\n",
       "      <td>NaN</td>\n",
       "      <td>206.0</td>\n",
       "      <td>150.0</td>\n",
       "      <td>154.0</td>\n",
       "      <td>0.0</td>\n",
       "    </tr>\n",
       "    <tr>\n",
       "      <th>2</th>\n",
       "      <td>NaN</td>\n",
       "      <td>NaN</td>\n",
       "      <td>73.0</td>\n",
       "      <td>NaN</td>\n",
       "      <td>NaN</td>\n",
       "      <td>NaN</td>\n",
       "      <td>NaN</td>\n",
       "      <td>206.0</td>\n",
       "      <td>149.0</td>\n",
       "      <td>154.0</td>\n",
       "      <td>0.0</td>\n",
       "    </tr>\n",
       "    <tr>\n",
       "      <th>3</th>\n",
       "      <td>NaN</td>\n",
       "      <td>NaN</td>\n",
       "      <td>34.0</td>\n",
       "      <td>NaN</td>\n",
       "      <td>NaN</td>\n",
       "      <td>NaN</td>\n",
       "      <td>NaN</td>\n",
       "      <td>205.0</td>\n",
       "      <td>152.0</td>\n",
       "      <td>153.0</td>\n",
       "      <td>0.0</td>\n",
       "    </tr>\n",
       "    <tr>\n",
       "      <th>4</th>\n",
       "      <td>NaN</td>\n",
       "      <td>NaN</td>\n",
       "      <td>81.0</td>\n",
       "      <td>NaN</td>\n",
       "      <td>NaN</td>\n",
       "      <td>NaN</td>\n",
       "      <td>NaN</td>\n",
       "      <td>207.0</td>\n",
       "      <td>153.0</td>\n",
       "      <td>154.0</td>\n",
       "      <td>0.0</td>\n",
       "    </tr>\n",
       "    <tr>\n",
       "      <th>5</th>\n",
       "      <td>NaN</td>\n",
       "      <td>NaN</td>\n",
       "      <td>78.0</td>\n",
       "      <td>NaN</td>\n",
       "      <td>NaN</td>\n",
       "      <td>NaN</td>\n",
       "      <td>NaN</td>\n",
       "      <td>203.0</td>\n",
       "      <td>151.0</td>\n",
       "      <td>152.0</td>\n",
       "      <td>0.0</td>\n",
       "    </tr>\n",
       "  </tbody>\n",
       "</table>\n",
       "</div>"
      ],
      "text/plain": [
       "     Bulk 1  Bulk 3  Bulk 4  Bulk 5  Bulk 6  Bulk 10  Bulk 11  Bulk 12  \\\n",
       "key                                                                      \n",
       "1       NaN     NaN    43.0     NaN     NaN      NaN      NaN    206.0   \n",
       "2       NaN     NaN    73.0     NaN     NaN      NaN      NaN    206.0   \n",
       "3       NaN     NaN    34.0     NaN     NaN      NaN      NaN    205.0   \n",
       "4       NaN     NaN    81.0     NaN     NaN      NaN      NaN    207.0   \n",
       "5       NaN     NaN    78.0     NaN     NaN      NaN      NaN    203.0   \n",
       "\n",
       "     Bulk 14  Bulk 15  other_bulk  \n",
       "key                                \n",
       "1      150.0    154.0         0.0  \n",
       "2      149.0    154.0         0.0  \n",
       "3      152.0    153.0         0.0  \n",
       "4      153.0    154.0         0.0  \n",
       "5      151.0    152.0         0.0  "
      ]
     },
     "execution_count": 54,
     "metadata": {},
     "output_type": "execute_result"
    }
   ],
   "source": [
    "data_bulk_vol = data_bulk_vol.drop(other_columns, axis=1).set_index('key')\n",
    "data_bulk_vol.head()"
   ]
  },
  {
   "cell_type": "markdown",
   "id": "5e2294ea",
   "metadata": {},
   "source": [
    "Осталось только заполнить пропуски нулями."
   ]
  },
  {
   "cell_type": "code",
   "execution_count": 55,
   "id": "dec8bb29",
   "metadata": {
    "tags": []
   },
   "outputs": [
    {
     "data": {
      "text/html": [
       "<div>\n",
       "<style scoped>\n",
       "    .dataframe tbody tr th:only-of-type {\n",
       "        vertical-align: middle;\n",
       "    }\n",
       "\n",
       "    .dataframe tbody tr th {\n",
       "        vertical-align: top;\n",
       "    }\n",
       "\n",
       "    .dataframe thead th {\n",
       "        text-align: right;\n",
       "    }\n",
       "</style>\n",
       "<table border=\"1\" class=\"dataframe\">\n",
       "  <thead>\n",
       "    <tr style=\"text-align: right;\">\n",
       "      <th></th>\n",
       "      <th>Bulk 1</th>\n",
       "      <th>Bulk 3</th>\n",
       "      <th>Bulk 4</th>\n",
       "      <th>Bulk 5</th>\n",
       "      <th>Bulk 6</th>\n",
       "      <th>Bulk 10</th>\n",
       "      <th>Bulk 11</th>\n",
       "      <th>Bulk 12</th>\n",
       "      <th>Bulk 14</th>\n",
       "      <th>Bulk 15</th>\n",
       "      <th>other_bulk</th>\n",
       "    </tr>\n",
       "    <tr>\n",
       "      <th>key</th>\n",
       "      <th></th>\n",
       "      <th></th>\n",
       "      <th></th>\n",
       "      <th></th>\n",
       "      <th></th>\n",
       "      <th></th>\n",
       "      <th></th>\n",
       "      <th></th>\n",
       "      <th></th>\n",
       "      <th></th>\n",
       "      <th></th>\n",
       "    </tr>\n",
       "  </thead>\n",
       "  <tbody>\n",
       "    <tr>\n",
       "      <th>1</th>\n",
       "      <td>0.0</td>\n",
       "      <td>0.0</td>\n",
       "      <td>43.0</td>\n",
       "      <td>0.0</td>\n",
       "      <td>0.0</td>\n",
       "      <td>0.0</td>\n",
       "      <td>0.0</td>\n",
       "      <td>206.0</td>\n",
       "      <td>150.0</td>\n",
       "      <td>154.0</td>\n",
       "      <td>0.0</td>\n",
       "    </tr>\n",
       "    <tr>\n",
       "      <th>2</th>\n",
       "      <td>0.0</td>\n",
       "      <td>0.0</td>\n",
       "      <td>73.0</td>\n",
       "      <td>0.0</td>\n",
       "      <td>0.0</td>\n",
       "      <td>0.0</td>\n",
       "      <td>0.0</td>\n",
       "      <td>206.0</td>\n",
       "      <td>149.0</td>\n",
       "      <td>154.0</td>\n",
       "      <td>0.0</td>\n",
       "    </tr>\n",
       "    <tr>\n",
       "      <th>3</th>\n",
       "      <td>0.0</td>\n",
       "      <td>0.0</td>\n",
       "      <td>34.0</td>\n",
       "      <td>0.0</td>\n",
       "      <td>0.0</td>\n",
       "      <td>0.0</td>\n",
       "      <td>0.0</td>\n",
       "      <td>205.0</td>\n",
       "      <td>152.0</td>\n",
       "      <td>153.0</td>\n",
       "      <td>0.0</td>\n",
       "    </tr>\n",
       "    <tr>\n",
       "      <th>4</th>\n",
       "      <td>0.0</td>\n",
       "      <td>0.0</td>\n",
       "      <td>81.0</td>\n",
       "      <td>0.0</td>\n",
       "      <td>0.0</td>\n",
       "      <td>0.0</td>\n",
       "      <td>0.0</td>\n",
       "      <td>207.0</td>\n",
       "      <td>153.0</td>\n",
       "      <td>154.0</td>\n",
       "      <td>0.0</td>\n",
       "    </tr>\n",
       "    <tr>\n",
       "      <th>5</th>\n",
       "      <td>0.0</td>\n",
       "      <td>0.0</td>\n",
       "      <td>78.0</td>\n",
       "      <td>0.0</td>\n",
       "      <td>0.0</td>\n",
       "      <td>0.0</td>\n",
       "      <td>0.0</td>\n",
       "      <td>203.0</td>\n",
       "      <td>151.0</td>\n",
       "      <td>152.0</td>\n",
       "      <td>0.0</td>\n",
       "    </tr>\n",
       "  </tbody>\n",
       "</table>\n",
       "</div>"
      ],
      "text/plain": [
       "     Bulk 1  Bulk 3  Bulk 4  Bulk 5  Bulk 6  Bulk 10  Bulk 11  Bulk 12  \\\n",
       "key                                                                      \n",
       "1       0.0     0.0    43.0     0.0     0.0      0.0      0.0    206.0   \n",
       "2       0.0     0.0    73.0     0.0     0.0      0.0      0.0    206.0   \n",
       "3       0.0     0.0    34.0     0.0     0.0      0.0      0.0    205.0   \n",
       "4       0.0     0.0    81.0     0.0     0.0      0.0      0.0    207.0   \n",
       "5       0.0     0.0    78.0     0.0     0.0      0.0      0.0    203.0   \n",
       "\n",
       "     Bulk 14  Bulk 15  other_bulk  \n",
       "key                                \n",
       "1      150.0    154.0         0.0  \n",
       "2      149.0    154.0         0.0  \n",
       "3      152.0    153.0         0.0  \n",
       "4      153.0    154.0         0.0  \n",
       "5      151.0    152.0         0.0  "
      ]
     },
     "execution_count": 55,
     "metadata": {},
     "output_type": "execute_result"
    }
   ],
   "source": [
    "data_bulk_vol = data_bulk_vol.fillna(0)\n",
    "data_bulk_vol.head()"
   ]
  },
  {
   "cell_type": "markdown",
   "id": "b0934c74",
   "metadata": {},
   "source": [
    "Посмотрим диаграмму размаха нового столбца без нулевых значний."
   ]
  },
  {
   "cell_type": "code",
   "execution_count": 56,
   "id": "52bfbf09",
   "metadata": {
    "tags": []
   },
   "outputs": [
    {
     "data": {
      "image/png": "[encoded data removed]",
      "text/plain": [
       "<Figure size 720x144 with 1 Axes>"
      ]
     },
     "metadata": {
      "needs_background": "light"
     },
     "output_type": "display_data"
    }
   ],
   "source": [
    "plt.figure(figsize=(10,2))\n",
    "plt.boxplot(data_bulk_vol.loc[data_bulk_vol['other_bulk'] > 0, 'other_bulk'], vert=False)\n",
    "plt.title('Диаграмма размаха значений суммарного объёма редких сыпучих материалов')\n",
    "plt.xlabel('Объём')\n",
    "plt.show();"
   ]
  },
  {
   "cell_type": "markdown",
   "id": "3cc07a92",
   "metadata": {},
   "source": [
    "Диаграмма выглядит нормально, значительных выбросов или аномальных значений нет."
   ]
  },
  {
   "cell_type": "markdown",
   "id": "512843e0",
   "metadata": {},
   "source": [
    "### Данные о проволочных материалах (объём)"
   ]
  },
  {
   "cell_type": "markdown",
   "id": "e7da7ec6",
   "metadata": {},
   "source": [
    "Здесь повторим те же действия, что и с сыпучими материалами."
   ]
  },
  {
   "cell_type": "code",
   "execution_count": 57,
   "id": "66d838f6",
   "metadata": {
    "tags": []
   },
   "outputs": [
    {
     "name": "stdout",
     "output_type": "stream",
     "text": [
      "<class 'pandas.core.frame.DataFrame'>\n",
      "RangeIndex: 3081 entries, 0 to 3080\n",
      "Data columns (total 10 columns):\n",
      " #   Column  Non-Null Count  Dtype  \n",
      "---  ------  --------------  -----  \n",
      " 0   key     3081 non-null   int64  \n",
      " 1   Wire 1  3055 non-null   float64\n",
      " 2   Wire 2  1079 non-null   float64\n",
      " 3   Wire 3  63 non-null     float64\n",
      " 4   Wire 4  14 non-null     float64\n",
      " 5   Wire 5  1 non-null      float64\n",
      " 6   Wire 6  73 non-null     float64\n",
      " 7   Wire 7  11 non-null     float64\n",
      " 8   Wire 8  19 non-null     float64\n",
      " 9   Wire 9  29 non-null     float64\n",
      "dtypes: float64(9), int64(1)\n",
      "memory usage: 240.8 KB\n"
     ]
    }
   ],
   "source": [
    "data_wire_vol.info()"
   ]
  },
  {
   "cell_type": "markdown",
   "id": "79712ffb",
   "metadata": {},
   "source": [
    "Здесь в котегорию редких выделяем столбцы `Wire 4, Wire 5, Wire 7, Wire 8, Wire 9`"
   ]
  },
  {
   "cell_type": "code",
   "execution_count": 58,
   "id": "e6ed44fe",
   "metadata": {
    "tags": []
   },
   "outputs": [
    {
     "data": {
      "text/html": [
       "<style  type=\"text/css\" >\n",
       "#T_92ad7_row0_col4,#T_92ad7_row0_col5,#T_92ad7_row0_col7,#T_92ad7_row0_col8,#T_92ad7_row0_col9,#T_92ad7_row1_col4,#T_92ad7_row1_col5,#T_92ad7_row1_col7,#T_92ad7_row1_col8,#T_92ad7_row1_col9,#T_92ad7_row2_col4,#T_92ad7_row2_col5,#T_92ad7_row2_col7,#T_92ad7_row2_col8,#T_92ad7_row2_col9,#T_92ad7_row3_col4,#T_92ad7_row3_col5,#T_92ad7_row3_col7,#T_92ad7_row3_col8,#T_92ad7_row3_col9,#T_92ad7_row4_col4,#T_92ad7_row4_col5,#T_92ad7_row4_col7,#T_92ad7_row4_col8,#T_92ad7_row4_col9{\n",
       "            background-color:  lightcyan;\n",
       "        }</style><table id=\"T_92ad7_\" ><thead>    <tr>        <th class=\"blank level0\" ></th>        <th class=\"col_heading level0 col0\" >key</th>        <th class=\"col_heading level0 col1\" >Wire 1</th>        <th class=\"col_heading level0 col2\" >Wire 2</th>        <th class=\"col_heading level0 col3\" >Wire 3</th>        <th class=\"col_heading level0 col4\" >Wire 4</th>        <th class=\"col_heading level0 col5\" >Wire 5</th>        <th class=\"col_heading level0 col6\" >Wire 6</th>        <th class=\"col_heading level0 col7\" >Wire 7</th>        <th class=\"col_heading level0 col8\" >Wire 8</th>        <th class=\"col_heading level0 col9\" >Wire 9</th>        <th class=\"col_heading level0 col10\" >other_wire</th>    </tr></thead><tbody>\n",
       "                <tr>\n",
       "                        <th id=\"T_92ad7_level0_row0\" class=\"row_heading level0 row0\" >1606</th>\n",
       "                        <td id=\"T_92ad7_row0_col0\" class=\"data row0 col0\" >1,686</td>\n",
       "                        <td id=\"T_92ad7_row0_col1\" class=\"data row0 col1\" >115</td>\n",
       "                        <td id=\"T_92ad7_row0_col2\" class=\"data row0 col2\" >50</td>\n",
       "                        <td id=\"T_92ad7_row0_col3\" class=\"data row0 col3\" >nan</td>\n",
       "                        <td id=\"T_92ad7_row0_col4\" class=\"data row0 col4\" >nan</td>\n",
       "                        <td id=\"T_92ad7_row0_col5\" class=\"data row0 col5\" >nan</td>\n",
       "                        <td id=\"T_92ad7_row0_col6\" class=\"data row0 col6\" >nan</td>\n",
       "                        <td id=\"T_92ad7_row0_col7\" class=\"data row0 col7\" >nan</td>\n",
       "                        <td id=\"T_92ad7_row0_col8\" class=\"data row0 col8\" >nan</td>\n",
       "                        <td id=\"T_92ad7_row0_col9\" class=\"data row0 col9\" >30</td>\n",
       "                        <td id=\"T_92ad7_row0_col10\" class=\"data row0 col10\" >30</td>\n",
       "            </tr>\n",
       "            <tr>\n",
       "                        <th id=\"T_92ad7_level0_row1\" class=\"row_heading level0 row1\" >950</th>\n",
       "                        <td id=\"T_92ad7_row1_col0\" class=\"data row1 col0\" >1,010</td>\n",
       "                        <td id=\"T_92ad7_row1_col1\" class=\"data row1 col1\" >nan</td>\n",
       "                        <td id=\"T_92ad7_row1_col2\" class=\"data row1 col2\" >nan</td>\n",
       "                        <td id=\"T_92ad7_row1_col3\" class=\"data row1 col3\" >nan</td>\n",
       "                        <td id=\"T_92ad7_row1_col4\" class=\"data row1 col4\" >nan</td>\n",
       "                        <td id=\"T_92ad7_row1_col5\" class=\"data row1 col5\" >nan</td>\n",
       "                        <td id=\"T_92ad7_row1_col6\" class=\"data row1 col6\" >nan</td>\n",
       "                        <td id=\"T_92ad7_row1_col7\" class=\"data row1 col7\" >nan</td>\n",
       "                        <td id=\"T_92ad7_row1_col8\" class=\"data row1 col8\" >nan</td>\n",
       "                        <td id=\"T_92ad7_row1_col9\" class=\"data row1 col9\" >17</td>\n",
       "                        <td id=\"T_92ad7_row1_col10\" class=\"data row1 col10\" >17</td>\n",
       "            </tr>\n",
       "            <tr>\n",
       "                        <th id=\"T_92ad7_level0_row2\" class=\"row_heading level0 row2\" >1598</th>\n",
       "                        <td id=\"T_92ad7_row2_col0\" class=\"data row2 col0\" >1,678</td>\n",
       "                        <td id=\"T_92ad7_row2_col1\" class=\"data row2 col1\" >100</td>\n",
       "                        <td id=\"T_92ad7_row2_col2\" class=\"data row2 col2\" >99</td>\n",
       "                        <td id=\"T_92ad7_row2_col3\" class=\"data row2 col3\" >nan</td>\n",
       "                        <td id=\"T_92ad7_row2_col4\" class=\"data row2 col4\" >nan</td>\n",
       "                        <td id=\"T_92ad7_row2_col5\" class=\"data row2 col5\" >nan</td>\n",
       "                        <td id=\"T_92ad7_row2_col6\" class=\"data row2 col6\" >nan</td>\n",
       "                        <td id=\"T_92ad7_row2_col7\" class=\"data row2 col7\" >nan</td>\n",
       "                        <td id=\"T_92ad7_row2_col8\" class=\"data row2 col8\" >nan</td>\n",
       "                        <td id=\"T_92ad7_row2_col9\" class=\"data row2 col9\" >10</td>\n",
       "                        <td id=\"T_92ad7_row2_col10\" class=\"data row2 col10\" >10</td>\n",
       "            </tr>\n",
       "            <tr>\n",
       "                        <th id=\"T_92ad7_level0_row3\" class=\"row_heading level0 row3\" >2341</th>\n",
       "                        <td id=\"T_92ad7_row3_col0\" class=\"data row3 col0\" >2,466</td>\n",
       "                        <td id=\"T_92ad7_row3_col1\" class=\"data row3 col1\" >147</td>\n",
       "                        <td id=\"T_92ad7_row3_col2\" class=\"data row3 col2\" >120</td>\n",
       "                        <td id=\"T_92ad7_row3_col3\" class=\"data row3 col3\" >nan</td>\n",
       "                        <td id=\"T_92ad7_row3_col4\" class=\"data row3 col4\" >nan</td>\n",
       "                        <td id=\"T_92ad7_row3_col5\" class=\"data row3 col5\" >nan</td>\n",
       "                        <td id=\"T_92ad7_row3_col6\" class=\"data row3 col6\" >nan</td>\n",
       "                        <td id=\"T_92ad7_row3_col7\" class=\"data row3 col7\" >nan</td>\n",
       "                        <td id=\"T_92ad7_row3_col8\" class=\"data row3 col8\" >nan</td>\n",
       "                        <td id=\"T_92ad7_row3_col9\" class=\"data row3 col9\" >25</td>\n",
       "                        <td id=\"T_92ad7_row3_col10\" class=\"data row3 col10\" >25</td>\n",
       "            </tr>\n",
       "            <tr>\n",
       "                        <th id=\"T_92ad7_level0_row4\" class=\"row_heading level0 row4\" >264</th>\n",
       "                        <td id=\"T_92ad7_row4_col0\" class=\"data row4 col0\" >287</td>\n",
       "                        <td id=\"T_92ad7_row4_col1\" class=\"data row4 col1\" >130</td>\n",
       "                        <td id=\"T_92ad7_row4_col2\" class=\"data row4 col2\" >60</td>\n",
       "                        <td id=\"T_92ad7_row4_col3\" class=\"data row4 col3\" >nan</td>\n",
       "                        <td id=\"T_92ad7_row4_col4\" class=\"data row4 col4\" >nan</td>\n",
       "                        <td id=\"T_92ad7_row4_col5\" class=\"data row4 col5\" >nan</td>\n",
       "                        <td id=\"T_92ad7_row4_col6\" class=\"data row4 col6\" >nan</td>\n",
       "                        <td id=\"T_92ad7_row4_col7\" class=\"data row4 col7\" >nan</td>\n",
       "                        <td id=\"T_92ad7_row4_col8\" class=\"data row4 col8\" >45</td>\n",
       "                        <td id=\"T_92ad7_row4_col9\" class=\"data row4 col9\" >nan</td>\n",
       "                        <td id=\"T_92ad7_row4_col10\" class=\"data row4 col10\" >45</td>\n",
       "            </tr>\n",
       "    </tbody></table>"
      ],
      "text/plain": [
       "<pandas.io.formats.style.Styler at 0x7f1e61a37940>"
      ]
     },
     "execution_count": 58,
     "metadata": {},
     "output_type": "execute_result"
    }
   ],
   "source": [
    "other_columns_wire = ['Wire 4', 'Wire 5', 'Wire 7', 'Wire 8', 'Wire 9']\n",
    "data_wire_vol['other_wire'] = data_wire_vol.loc[:,other_columns_wire].sum(axis=1)\n",
    "\n",
    "#Выведем несколько строк с ненулевой суммой других материалов, чтобы проверить результат\n",
    "(data_wire_vol[data_wire_vol['other_wire']>0].sample(5, random_state=random_state).\n",
    "     style.format('{0:,.0f}').set_properties(**{'background-color': 'lightcyan'}, subset=other_columns_wire))"
   ]
  },
  {
   "cell_type": "markdown",
   "id": "eae585ff",
   "metadata": {},
   "source": [
    "Теперь можно удалить редкие материалы.  \n",
    "Также установим ключ индексом датасета."
   ]
  },
  {
   "cell_type": "code",
   "execution_count": 59,
   "id": "94cc602d",
   "metadata": {
    "tags": []
   },
   "outputs": [
    {
     "data": {
      "text/html": [
       "<div>\n",
       "<style scoped>\n",
       "    .dataframe tbody tr th:only-of-type {\n",
       "        vertical-align: middle;\n",
       "    }\n",
       "\n",
       "    .dataframe tbody tr th {\n",
       "        vertical-align: top;\n",
       "    }\n",
       "\n",
       "    .dataframe thead th {\n",
       "        text-align: right;\n",
       "    }\n",
       "</style>\n",
       "<table border=\"1\" class=\"dataframe\">\n",
       "  <thead>\n",
       "    <tr style=\"text-align: right;\">\n",
       "      <th></th>\n",
       "      <th>Wire 1</th>\n",
       "      <th>Wire 2</th>\n",
       "      <th>Wire 3</th>\n",
       "      <th>Wire 6</th>\n",
       "      <th>other_wire</th>\n",
       "    </tr>\n",
       "    <tr>\n",
       "      <th>key</th>\n",
       "      <th></th>\n",
       "      <th></th>\n",
       "      <th></th>\n",
       "      <th></th>\n",
       "      <th></th>\n",
       "    </tr>\n",
       "  </thead>\n",
       "  <tbody>\n",
       "    <tr>\n",
       "      <th>1</th>\n",
       "      <td>60.059998</td>\n",
       "      <td>NaN</td>\n",
       "      <td>NaN</td>\n",
       "      <td>NaN</td>\n",
       "      <td>0.0</td>\n",
       "    </tr>\n",
       "    <tr>\n",
       "      <th>2</th>\n",
       "      <td>96.052315</td>\n",
       "      <td>NaN</td>\n",
       "      <td>NaN</td>\n",
       "      <td>NaN</td>\n",
       "      <td>0.0</td>\n",
       "    </tr>\n",
       "    <tr>\n",
       "      <th>3</th>\n",
       "      <td>91.160157</td>\n",
       "      <td>NaN</td>\n",
       "      <td>NaN</td>\n",
       "      <td>NaN</td>\n",
       "      <td>0.0</td>\n",
       "    </tr>\n",
       "    <tr>\n",
       "      <th>4</th>\n",
       "      <td>89.063515</td>\n",
       "      <td>NaN</td>\n",
       "      <td>NaN</td>\n",
       "      <td>NaN</td>\n",
       "      <td>0.0</td>\n",
       "    </tr>\n",
       "    <tr>\n",
       "      <th>5</th>\n",
       "      <td>89.238236</td>\n",
       "      <td>9.11456</td>\n",
       "      <td>NaN</td>\n",
       "      <td>NaN</td>\n",
       "      <td>0.0</td>\n",
       "    </tr>\n",
       "  </tbody>\n",
       "</table>\n",
       "</div>"
      ],
      "text/plain": [
       "        Wire 1   Wire 2  Wire 3  Wire 6  other_wire\n",
       "key                                                \n",
       "1    60.059998      NaN     NaN     NaN         0.0\n",
       "2    96.052315      NaN     NaN     NaN         0.0\n",
       "3    91.160157      NaN     NaN     NaN         0.0\n",
       "4    89.063515      NaN     NaN     NaN         0.0\n",
       "5    89.238236  9.11456     NaN     NaN         0.0"
      ]
     },
     "execution_count": 59,
     "metadata": {},
     "output_type": "execute_result"
    }
   ],
   "source": [
    "data_wire_vol = data_wire_vol.drop(other_columns_wire, axis=1).set_index('key')\n",
    "data_wire_vol.head()"
   ]
  },
  {
   "cell_type": "markdown",
   "id": "c510f810",
   "metadata": {},
   "source": [
    "Осталось только заполнить пропуски нулями."
   ]
  },
  {
   "cell_type": "code",
   "execution_count": 60,
   "id": "907f0668",
   "metadata": {
    "tags": []
   },
   "outputs": [
    {
     "data": {
      "text/html": [
       "<div>\n",
       "<style scoped>\n",
       "    .dataframe tbody tr th:only-of-type {\n",
       "        vertical-align: middle;\n",
       "    }\n",
       "\n",
       "    .dataframe tbody tr th {\n",
       "        vertical-align: top;\n",
       "    }\n",
       "\n",
       "    .dataframe thead th {\n",
       "        text-align: right;\n",
       "    }\n",
       "</style>\n",
       "<table border=\"1\" class=\"dataframe\">\n",
       "  <thead>\n",
       "    <tr style=\"text-align: right;\">\n",
       "      <th></th>\n",
       "      <th>Wire 1</th>\n",
       "      <th>Wire 2</th>\n",
       "      <th>Wire 3</th>\n",
       "      <th>Wire 6</th>\n",
       "      <th>other_wire</th>\n",
       "    </tr>\n",
       "    <tr>\n",
       "      <th>key</th>\n",
       "      <th></th>\n",
       "      <th></th>\n",
       "      <th></th>\n",
       "      <th></th>\n",
       "      <th></th>\n",
       "    </tr>\n",
       "  </thead>\n",
       "  <tbody>\n",
       "    <tr>\n",
       "      <th>1</th>\n",
       "      <td>60.059998</td>\n",
       "      <td>0.00000</td>\n",
       "      <td>0.0</td>\n",
       "      <td>0.0</td>\n",
       "      <td>0.0</td>\n",
       "    </tr>\n",
       "    <tr>\n",
       "      <th>2</th>\n",
       "      <td>96.052315</td>\n",
       "      <td>0.00000</td>\n",
       "      <td>0.0</td>\n",
       "      <td>0.0</td>\n",
       "      <td>0.0</td>\n",
       "    </tr>\n",
       "    <tr>\n",
       "      <th>3</th>\n",
       "      <td>91.160157</td>\n",
       "      <td>0.00000</td>\n",
       "      <td>0.0</td>\n",
       "      <td>0.0</td>\n",
       "      <td>0.0</td>\n",
       "    </tr>\n",
       "    <tr>\n",
       "      <th>4</th>\n",
       "      <td>89.063515</td>\n",
       "      <td>0.00000</td>\n",
       "      <td>0.0</td>\n",
       "      <td>0.0</td>\n",
       "      <td>0.0</td>\n",
       "    </tr>\n",
       "    <tr>\n",
       "      <th>5</th>\n",
       "      <td>89.238236</td>\n",
       "      <td>9.11456</td>\n",
       "      <td>0.0</td>\n",
       "      <td>0.0</td>\n",
       "      <td>0.0</td>\n",
       "    </tr>\n",
       "  </tbody>\n",
       "</table>\n",
       "</div>"
      ],
      "text/plain": [
       "        Wire 1   Wire 2  Wire 3  Wire 6  other_wire\n",
       "key                                                \n",
       "1    60.059998  0.00000     0.0     0.0         0.0\n",
       "2    96.052315  0.00000     0.0     0.0         0.0\n",
       "3    91.160157  0.00000     0.0     0.0         0.0\n",
       "4    89.063515  0.00000     0.0     0.0         0.0\n",
       "5    89.238236  9.11456     0.0     0.0         0.0"
      ]
     },
     "execution_count": 60,
     "metadata": {},
     "output_type": "execute_result"
    }
   ],
   "source": [
    "data_wire_vol = data_wire_vol.fillna(0)\n",
    "data_wire_vol.head()"
   ]
  },
  {
   "cell_type": "markdown",
   "id": "cecf42af",
   "metadata": {},
   "source": [
    "Посмотрим диаграмму размаха нового столбца без нулевых значний."
   ]
  },
  {
   "cell_type": "code",
   "execution_count": 61,
   "id": "6e70910a",
   "metadata": {
    "tags": []
   },
   "outputs": [
    {
     "data": {
      "image/png": "[encoded data removed]",
      "text/plain": [
       "<Figure size 720x144 with 1 Axes>"
      ]
     },
     "metadata": {
      "needs_background": "light"
     },
     "output_type": "display_data"
    }
   ],
   "source": [
    "plt.figure(figsize=(10,2))\n",
    "plt.boxplot(data_wire_vol.loc[data_wire_vol['other_wire'] > 0, 'other_wire'], vert=False)\n",
    "plt.title('Диаграмма размаха значений суммарного объёма редких проволочных материалов')\n",
    "plt.xlabel('Объём')\n",
    "plt.show();"
   ]
  },
  {
   "cell_type": "markdown",
   "id": "488befa6",
   "metadata": {},
   "source": [
    "Диаграмма выглядит нормально, значительных выбросов или аномальных значений нет."
   ]
  },
  {
   "cell_type": "markdown",
   "id": "925a5aa6",
   "metadata": {},
   "source": [
    "### Данные о продувке сплава газом"
   ]
  },
  {
   "cell_type": "markdown",
   "id": "69396f78",
   "metadata": {},
   "source": [
    "В этой таблице только назначим ключ индексом, другие изменения не требуются."
   ]
  },
  {
   "cell_type": "code",
   "execution_count": 62,
   "id": "de84b68e",
   "metadata": {
    "tags": []
   },
   "outputs": [
    {
     "data": {
      "text/html": [
       "<div>\n",
       "<style scoped>\n",
       "    .dataframe tbody tr th:only-of-type {\n",
       "        vertical-align: middle;\n",
       "    }\n",
       "\n",
       "    .dataframe tbody tr th {\n",
       "        vertical-align: top;\n",
       "    }\n",
       "\n",
       "    .dataframe thead th {\n",
       "        text-align: right;\n",
       "    }\n",
       "</style>\n",
       "<table border=\"1\" class=\"dataframe\">\n",
       "  <thead>\n",
       "    <tr style=\"text-align: right;\">\n",
       "      <th></th>\n",
       "      <th>Газ 1</th>\n",
       "    </tr>\n",
       "    <tr>\n",
       "      <th>key</th>\n",
       "      <th></th>\n",
       "    </tr>\n",
       "  </thead>\n",
       "  <tbody>\n",
       "    <tr>\n",
       "      <th>1</th>\n",
       "      <td>29.749986</td>\n",
       "    </tr>\n",
       "    <tr>\n",
       "      <th>2</th>\n",
       "      <td>12.555561</td>\n",
       "    </tr>\n",
       "    <tr>\n",
       "      <th>3</th>\n",
       "      <td>28.554793</td>\n",
       "    </tr>\n",
       "    <tr>\n",
       "      <th>4</th>\n",
       "      <td>18.841219</td>\n",
       "    </tr>\n",
       "    <tr>\n",
       "      <th>5</th>\n",
       "      <td>5.413692</td>\n",
       "    </tr>\n",
       "  </tbody>\n",
       "</table>\n",
       "</div>"
      ],
      "text/plain": [
       "         Газ 1\n",
       "key           \n",
       "1    29.749986\n",
       "2    12.555561\n",
       "3    28.554793\n",
       "4    18.841219\n",
       "5     5.413692"
      ]
     },
     "execution_count": 62,
     "metadata": {},
     "output_type": "execute_result"
    }
   ],
   "source": [
    "data_gas = data_gas.set_index('key')\n",
    "data_gas.head()"
   ]
  },
  {
   "cell_type": "markdown",
   "id": "d3617912",
   "metadata": {},
   "source": [
    "### Результаты измерения температуры"
   ]
  },
  {
   "cell_type": "markdown",
   "id": "678e8e21",
   "metadata": {},
   "source": [
    "Сначала выберем ключи, для которых совершено два или более измерения."
   ]
  },
  {
   "cell_type": "code",
   "execution_count": 63,
   "id": "3d50a290",
   "metadata": {
    "tags": []
   },
   "outputs": [
    {
     "data": {
      "text/plain": [
       "Int64Index([   1,    2,    3,    4,    5,    6,    7,    8,    9,   10,\n",
       "            ...\n",
       "            2489, 2490, 2492, 2493, 2494, 2495, 2496, 2497, 2498, 2499],\n",
       "           dtype='int64', name='key', length=2475)"
      ]
     },
     "execution_count": 63,
     "metadata": {},
     "output_type": "execute_result"
    }
   ],
   "source": [
    "keys_2 = data_temp.groupby(['key']).count()['Температура']\n",
    "keys_2 = keys_2[keys_2 > 1].index\n",
    "keys_2"
   ]
  },
  {
   "cell_type": "markdown",
   "id": "7d07d86f",
   "metadata": {},
   "source": [
    "Теперь оставим в наборе только эти ключи."
   ]
  },
  {
   "cell_type": "code",
   "execution_count": 64,
   "id": "7820ee16",
   "metadata": {
    "tags": []
   },
   "outputs": [
    {
     "name": "stdout",
     "output_type": "stream",
     "text": [
      "<class 'pandas.core.frame.DataFrame'>\n",
      "Int64Index: 13924 entries, 0 to 13925\n",
      "Data columns (total 3 columns):\n",
      " #   Column        Non-Null Count  Dtype         \n",
      "---  ------        --------------  -----         \n",
      " 0   key           13924 non-null  int64         \n",
      " 1   Время замера  13924 non-null  datetime64[ns]\n",
      " 2   Температура   13924 non-null  float64       \n",
      "dtypes: datetime64[ns](1), float64(1), int64(1)\n",
      "memory usage: 435.1 KB\n"
     ]
    }
   ],
   "source": [
    "data_temp = data_temp[data_temp.key.isin(keys_2)]\n",
    "data_temp.info()"
   ]
  },
  {
   "cell_type": "markdown",
   "id": "f0a04e58",
   "metadata": {},
   "source": [
    "Мы заодно сразу избавились и от пропусков."
   ]
  },
  {
   "cell_type": "code",
   "execution_count": 65,
   "id": "4bc21306",
   "metadata": {
    "tags": []
   },
   "outputs": [
    {
     "data": {
      "text/html": [
       "<div>\n",
       "<style scoped>\n",
       "    .dataframe tbody tr th:only-of-type {\n",
       "        vertical-align: middle;\n",
       "    }\n",
       "\n",
       "    .dataframe tbody tr th {\n",
       "        vertical-align: top;\n",
       "    }\n",
       "\n",
       "    .dataframe thead th {\n",
       "        text-align: right;\n",
       "    }\n",
       "</style>\n",
       "<table border=\"1\" class=\"dataframe\">\n",
       "  <thead>\n",
       "    <tr style=\"text-align: right;\">\n",
       "      <th></th>\n",
       "      <th>key</th>\n",
       "      <th>Время замера</th>\n",
       "      <th>Температура</th>\n",
       "    </tr>\n",
       "  </thead>\n",
       "  <tbody>\n",
       "    <tr>\n",
       "      <th>0</th>\n",
       "      <td>1</td>\n",
       "      <td>2019-05-03 11:02:04</td>\n",
       "      <td>1571.0</td>\n",
       "    </tr>\n",
       "    <tr>\n",
       "      <th>1</th>\n",
       "      <td>1</td>\n",
       "      <td>2019-05-03 11:07:18</td>\n",
       "      <td>1604.0</td>\n",
       "    </tr>\n",
       "    <tr>\n",
       "      <th>2</th>\n",
       "      <td>1</td>\n",
       "      <td>2019-05-03 11:11:34</td>\n",
       "      <td>1618.0</td>\n",
       "    </tr>\n",
       "    <tr>\n",
       "      <th>3</th>\n",
       "      <td>1</td>\n",
       "      <td>2019-05-03 11:18:04</td>\n",
       "      <td>1601.0</td>\n",
       "    </tr>\n",
       "    <tr>\n",
       "      <th>4</th>\n",
       "      <td>1</td>\n",
       "      <td>2019-05-03 11:25:59</td>\n",
       "      <td>1606.0</td>\n",
       "    </tr>\n",
       "  </tbody>\n",
       "</table>\n",
       "</div>"
      ],
      "text/plain": [
       "   key        Время замера  Температура\n",
       "0    1 2019-05-03 11:02:04       1571.0\n",
       "1    1 2019-05-03 11:07:18       1604.0\n",
       "2    1 2019-05-03 11:11:34       1618.0\n",
       "3    1 2019-05-03 11:18:04       1601.0\n",
       "4    1 2019-05-03 11:25:59       1606.0"
      ]
     },
     "execution_count": 65,
     "metadata": {},
     "output_type": "execute_result"
    }
   ],
   "source": [
    "data_temp.head()"
   ]
  },
  {
   "cell_type": "code",
   "execution_count": 66,
   "id": "5dcc3f75",
   "metadata": {
    "tags": []
   },
   "outputs": [
    {
     "data": {
      "text/plain": [
       "True"
      ]
     },
     "execution_count": 66,
     "metadata": {},
     "output_type": "execute_result"
    }
   ],
   "source": [
    "data_temp['Время замера'].is_monotonic_increasing"
   ]
  },
  {
   "cell_type": "markdown",
   "id": "61ed64d0",
   "metadata": {},
   "source": [
    "Все записи в датасете приведены в хронологическом порядке. Значит для определения начала и конца процесса можно брать первую и последнюю запись по ключу."
   ]
  },
  {
   "cell_type": "markdown",
   "id": "6e6e8042",
   "metadata": {},
   "source": [
    "Теперь создадим новую таблицу в которую войдут следующие столбцы:\n",
    "* Индекс ключ;\n",
    "* Начало процесса;\n",
    "* Конец процесса;\n",
    "* Первый замер температуры;\n",
    "* Последний замер температуры."
   ]
  },
  {
   "cell_type": "code",
   "execution_count": 67,
   "id": "19bcf62d",
   "metadata": {
    "tags": []
   },
   "outputs": [
    {
     "data": {
      "text/html": [
       "<div>\n",
       "<style scoped>\n",
       "    .dataframe tbody tr th:only-of-type {\n",
       "        vertical-align: middle;\n",
       "    }\n",
       "\n",
       "    .dataframe tbody tr th {\n",
       "        vertical-align: top;\n",
       "    }\n",
       "\n",
       "    .dataframe thead th {\n",
       "        text-align: right;\n",
       "    }\n",
       "</style>\n",
       "<table border=\"1\" class=\"dataframe\">\n",
       "  <thead>\n",
       "    <tr style=\"text-align: right;\">\n",
       "      <th></th>\n",
       "      <th>Начало процесса</th>\n",
       "      <th>Конец процесса</th>\n",
       "      <th>Температура в начале</th>\n",
       "      <th>Температура в конце</th>\n",
       "    </tr>\n",
       "    <tr>\n",
       "      <th>key</th>\n",
       "      <th></th>\n",
       "      <th></th>\n",
       "      <th></th>\n",
       "      <th></th>\n",
       "    </tr>\n",
       "  </thead>\n",
       "  <tbody>\n",
       "    <tr>\n",
       "      <th>1</th>\n",
       "      <td>2019-05-03 11:02:04</td>\n",
       "      <td>2019-05-03 11:30:38</td>\n",
       "      <td>1571.0</td>\n",
       "      <td>1613.0</td>\n",
       "    </tr>\n",
       "    <tr>\n",
       "      <th>2</th>\n",
       "      <td>2019-05-03 11:34:04</td>\n",
       "      <td>2019-05-03 11:55:09</td>\n",
       "      <td>1581.0</td>\n",
       "      <td>1602.0</td>\n",
       "    </tr>\n",
       "    <tr>\n",
       "      <th>3</th>\n",
       "      <td>2019-05-03 12:06:44</td>\n",
       "      <td>2019-05-03 12:35:57</td>\n",
       "      <td>1596.0</td>\n",
       "      <td>1599.0</td>\n",
       "    </tr>\n",
       "    <tr>\n",
       "      <th>4</th>\n",
       "      <td>2019-05-03 12:39:27</td>\n",
       "      <td>2019-05-03 12:59:47</td>\n",
       "      <td>1601.0</td>\n",
       "      <td>1625.0</td>\n",
       "    </tr>\n",
       "    <tr>\n",
       "      <th>5</th>\n",
       "      <td>2019-05-03 13:11:03</td>\n",
       "      <td>2019-05-03 13:36:39</td>\n",
       "      <td>1576.0</td>\n",
       "      <td>1602.0</td>\n",
       "    </tr>\n",
       "  </tbody>\n",
       "</table>\n",
       "</div>"
      ],
      "text/plain": [
       "        Начало процесса      Конец процесса  Температура в начале  \\\n",
       "key                                                                 \n",
       "1   2019-05-03 11:02:04 2019-05-03 11:30:38                1571.0   \n",
       "2   2019-05-03 11:34:04 2019-05-03 11:55:09                1581.0   \n",
       "3   2019-05-03 12:06:44 2019-05-03 12:35:57                1596.0   \n",
       "4   2019-05-03 12:39:27 2019-05-03 12:59:47                1601.0   \n",
       "5   2019-05-03 13:11:03 2019-05-03 13:36:39                1576.0   \n",
       "\n",
       "     Температура в конце  \n",
       "key                       \n",
       "1                 1613.0  \n",
       "2                 1602.0  \n",
       "3                 1599.0  \n",
       "4                 1625.0  \n",
       "5                 1602.0  "
      ]
     },
     "execution_count": 67,
     "metadata": {},
     "output_type": "execute_result"
    }
   ],
   "source": [
    "data_temp_agg = (data_temp.groupby('key').agg({'Время замера':['first','last'], 'Температура':['first','last']}))\n",
    "data_temp_agg.columns = ['Начало процесса', 'Конец процесса', 'Температура в начале', 'Температура в конце']\n",
    "data_temp_agg.head()"
   ]
  },
  {
   "cell_type": "markdown",
   "id": "8ddaf8c8",
   "metadata": {},
   "source": [
    "Теперь заменим столбцы с врменем на один столбец с длительностью в секундах."
   ]
  },
  {
   "cell_type": "code",
   "execution_count": 68,
   "id": "a02b4fc6",
   "metadata": {
    "tags": []
   },
   "outputs": [
    {
     "data": {
      "text/html": [
       "<div>\n",
       "<style scoped>\n",
       "    .dataframe tbody tr th:only-of-type {\n",
       "        vertical-align: middle;\n",
       "    }\n",
       "\n",
       "    .dataframe tbody tr th {\n",
       "        vertical-align: top;\n",
       "    }\n",
       "\n",
       "    .dataframe thead th {\n",
       "        text-align: right;\n",
       "    }\n",
       "</style>\n",
       "<table border=\"1\" class=\"dataframe\">\n",
       "  <thead>\n",
       "    <tr style=\"text-align: right;\">\n",
       "      <th></th>\n",
       "      <th>Температура в начале</th>\n",
       "      <th>Температура в конце</th>\n",
       "      <th>Длительность</th>\n",
       "    </tr>\n",
       "    <tr>\n",
       "      <th>key</th>\n",
       "      <th></th>\n",
       "      <th></th>\n",
       "      <th></th>\n",
       "    </tr>\n",
       "  </thead>\n",
       "  <tbody>\n",
       "    <tr>\n",
       "      <th>1</th>\n",
       "      <td>1571.0</td>\n",
       "      <td>1613.0</td>\n",
       "      <td>1714</td>\n",
       "    </tr>\n",
       "    <tr>\n",
       "      <th>2</th>\n",
       "      <td>1581.0</td>\n",
       "      <td>1602.0</td>\n",
       "      <td>1265</td>\n",
       "    </tr>\n",
       "    <tr>\n",
       "      <th>3</th>\n",
       "      <td>1596.0</td>\n",
       "      <td>1599.0</td>\n",
       "      <td>1753</td>\n",
       "    </tr>\n",
       "    <tr>\n",
       "      <th>4</th>\n",
       "      <td>1601.0</td>\n",
       "      <td>1625.0</td>\n",
       "      <td>1220</td>\n",
       "    </tr>\n",
       "    <tr>\n",
       "      <th>5</th>\n",
       "      <td>1576.0</td>\n",
       "      <td>1602.0</td>\n",
       "      <td>1536</td>\n",
       "    </tr>\n",
       "  </tbody>\n",
       "</table>\n",
       "</div>"
      ],
      "text/plain": [
       "     Температура в начале  Температура в конце  Длительность\n",
       "key                                                         \n",
       "1                  1571.0               1613.0          1714\n",
       "2                  1581.0               1602.0          1265\n",
       "3                  1596.0               1599.0          1753\n",
       "4                  1601.0               1625.0          1220\n",
       "5                  1576.0               1602.0          1536"
      ]
     },
     "execution_count": 68,
     "metadata": {},
     "output_type": "execute_result"
    }
   ],
   "source": [
    "data_temp_agg['Длительность'] = (data_temp_agg['Конец процесса'] - data_temp_agg['Начало процесса']).dt.seconds\n",
    "data_temp_agg = data_temp_agg.drop(['Начало процесса', 'Конец процесса'], axis=1)\n",
    "data_temp_agg.head()"
   ]
  },
  {
   "cell_type": "code",
   "execution_count": 69,
   "id": "a56bba3e",
   "metadata": {
    "tags": []
   },
   "outputs": [
    {
     "data": {
      "text/html": [
       "<div>\n",
       "<style scoped>\n",
       "    .dataframe tbody tr th:only-of-type {\n",
       "        vertical-align: middle;\n",
       "    }\n",
       "\n",
       "    .dataframe tbody tr th {\n",
       "        vertical-align: top;\n",
       "    }\n",
       "\n",
       "    .dataframe thead th {\n",
       "        text-align: right;\n",
       "    }\n",
       "</style>\n",
       "<table border=\"1\" class=\"dataframe\">\n",
       "  <thead>\n",
       "    <tr style=\"text-align: right;\">\n",
       "      <th></th>\n",
       "      <th>Температура в начале</th>\n",
       "      <th>Температура в конце</th>\n",
       "      <th>Длительность</th>\n",
       "    </tr>\n",
       "  </thead>\n",
       "  <tbody>\n",
       "    <tr>\n",
       "      <th>min</th>\n",
       "      <td>1191.0</td>\n",
       "      <td>1541.0</td>\n",
       "      <td>339.0</td>\n",
       "    </tr>\n",
       "    <tr>\n",
       "      <th>50%</th>\n",
       "      <td>1588.0</td>\n",
       "      <td>1593.0</td>\n",
       "      <td>2009.0</td>\n",
       "    </tr>\n",
       "    <tr>\n",
       "      <th>max</th>\n",
       "      <td>1679.0</td>\n",
       "      <td>1700.0</td>\n",
       "      <td>23674.0</td>\n",
       "    </tr>\n",
       "  </tbody>\n",
       "</table>\n",
       "</div>"
      ],
      "text/plain": [
       "     Температура в начале  Температура в конце  Длительность\n",
       "min                1191.0               1541.0         339.0\n",
       "50%                1588.0               1593.0        2009.0\n",
       "max                1679.0               1700.0       23674.0"
      ]
     },
     "execution_count": 69,
     "metadata": {},
     "output_type": "execute_result"
    }
   ],
   "source": [
    "data_temp_agg.describe().loc[['min','50%','max']]"
   ]
  },
  {
   "cell_type": "markdown",
   "id": "79e25899",
   "metadata": {},
   "source": [
    "Длительность имеет очень широкий размах: от 5 минут до 6.5 часов. Медианное значение примерно полчаса.  \n",
    "\n",
    "У температур не такой большой диапазон значений. Однако тут есть ошибочные записи в столбце начальных температур: температура должна быть выше 1450°C. Удалим ошибочные записи."
   ]
  },
  {
   "cell_type": "code",
   "execution_count": 70,
   "id": "24a15060",
   "metadata": {
    "tags": []
   },
   "outputs": [
    {
     "data": {
      "text/html": [
       "<div>\n",
       "<style scoped>\n",
       "    .dataframe tbody tr th:only-of-type {\n",
       "        vertical-align: middle;\n",
       "    }\n",
       "\n",
       "    .dataframe tbody tr th {\n",
       "        vertical-align: top;\n",
       "    }\n",
       "\n",
       "    .dataframe thead th {\n",
       "        text-align: right;\n",
       "    }\n",
       "</style>\n",
       "<table border=\"1\" class=\"dataframe\">\n",
       "  <thead>\n",
       "    <tr style=\"text-align: right;\">\n",
       "      <th></th>\n",
       "      <th>Температура в начале</th>\n",
       "      <th>Температура в конце</th>\n",
       "      <th>Длительность</th>\n",
       "    </tr>\n",
       "  </thead>\n",
       "  <tbody>\n",
       "    <tr>\n",
       "      <th>min</th>\n",
       "      <td>1519.0</td>\n",
       "      <td>1541.0</td>\n",
       "      <td>339.0</td>\n",
       "    </tr>\n",
       "    <tr>\n",
       "      <th>50%</th>\n",
       "      <td>1588.0</td>\n",
       "      <td>1593.0</td>\n",
       "      <td>2007.0</td>\n",
       "    </tr>\n",
       "    <tr>\n",
       "      <th>max</th>\n",
       "      <td>1679.0</td>\n",
       "      <td>1700.0</td>\n",
       "      <td>23674.0</td>\n",
       "    </tr>\n",
       "  </tbody>\n",
       "</table>\n",
       "</div>"
      ],
      "text/plain": [
       "     Температура в начале  Температура в конце  Длительность\n",
       "min                1519.0               1541.0         339.0\n",
       "50%                1588.0               1593.0        2007.0\n",
       "max                1679.0               1700.0       23674.0"
      ]
     },
     "execution_count": 70,
     "metadata": {},
     "output_type": "execute_result"
    }
   ],
   "source": [
    "data_temp_agg = data_temp_agg[data_temp_agg['Температура в начале'] > 1450]\n",
    "data_temp_agg.describe().loc[['min','50%','max']]"
   ]
  },
  {
   "cell_type": "markdown",
   "id": "d49b5217",
   "metadata": {},
   "source": [
    "Теперь всё в порядке, можно взглянуть на гистограммы распределений."
   ]
  },
  {
   "cell_type": "code",
   "execution_count": 71,
   "id": "87c2d1e0",
   "metadata": {
    "tags": []
   },
   "outputs": [
    {
     "data": {
      "image/png": "[encoded data removed]",
      "text/plain": [
       "<Figure size 576x432 with 3 Axes>"
      ]
     },
     "metadata": {
      "needs_background": "light"
     },
     "output_type": "display_data"
    }
   ],
   "source": [
    "gs = plt.GridSpec(2, 2, hspace=0.4)\n",
    "fig = plt.figure(figsize=(8,6))\n",
    "\n",
    "ax1 = fig.add_subplot(gs[0, 0])\n",
    "ax1.set_title('Гистограмма распределения \\nстартовых температур')\n",
    "ax1.set_xlabel('Температура')\n",
    "ax1.set_ylabel('Число записей')\n",
    "ax1.hist(data_temp_agg['Температура в начале'], bins=30)\n",
    "\n",
    "ax2 = fig.add_subplot(gs[0, 1])\n",
    "ax2.set_title('Гистограмма распределения \\nфинальных температур')\n",
    "ax2.set_xlabel('Температура')\n",
    "ax2.set_ylabel('Число записей')\n",
    "ax2.hist(data_temp_agg['Температура в конце'], bins=30)\n",
    "\n",
    "ax3 = fig.add_subplot(gs[1, :]) \n",
    "ax3.set_title('Гистограмма распределения \\nдлительности процесса')\n",
    "ax3.set_xlabel('Длительность в секундах')\n",
    "ax3.set_ylabel('Число записей')\n",
    "ax3.hist(data_temp_agg['Длительность'], bins=60);"
   ]
  },
  {
   "cell_type": "markdown",
   "id": "d509417e",
   "metadata": {},
   "source": [
    "Стартовые температуры распределены более-менее равномерно.  \n",
    "А вот у финальных температур есть заметный хвост в правой части графика. Для предотвращения чрезмерного нагрева стали как раз пригодится разабатываемая модель.\n",
    "\n",
    "Длительность процесса, как уже отмечалось ранее, имеет довольно широкий диапазон значений. Помимо длинного хвоста, распределение данных похоже на нормальное."
   ]
  },
  {
   "cell_type": "code",
   "execution_count": 72,
   "id": "9064f2ec",
   "metadata": {
    "tags": []
   },
   "outputs": [
    {
     "name": "stdout",
     "output_type": "stream",
     "text": [
      "<class 'pandas.core.frame.DataFrame'>\n",
      "Int64Index: 2471 entries, 1 to 2499\n",
      "Data columns (total 3 columns):\n",
      " #   Column                Non-Null Count  Dtype  \n",
      "---  ------                --------------  -----  \n",
      " 0   Температура в начале  2471 non-null   float64\n",
      " 1   Температура в конце   2471 non-null   float64\n",
      " 2   Длительность          2471 non-null   int64  \n",
      "dtypes: float64(2), int64(1)\n",
      "memory usage: 77.2 KB\n"
     ]
    }
   ],
   "source": [
    "data_temp_agg.info()"
   ]
  },
  {
   "cell_type": "markdown",
   "id": "33a064d7-8c39-4d2c-b79f-2be4fdab3259",
   "metadata": {},
   "source": [
    "Пропусков нет, всё в порядке."
   ]
  },
  {
   "cell_type": "markdown",
   "id": "79aca656",
   "metadata": {},
   "source": [
    "## Подготовка данных для обучения"
   ]
  },
  {
   "cell_type": "markdown",
   "id": "e18da372",
   "metadata": {},
   "source": [
    "### Формирование единой таблицы"
   ]
  },
  {
   "cell_type": "markdown",
   "id": "d5e84bec",
   "metadata": {},
   "source": [
    "Для формирования единой таблицы подготовлено пять таблиц с индексами по ключу. Теперь достаточно совершить `inner join` по всем таблицам.  \n",
    "Если в какой-то таблице не было определённого ключа или он был удалён при обработке данных, то такой ключ не попадёт в итоговую таблицу."
   ]
  },
  {
   "cell_type": "code",
   "execution_count": 73,
   "id": "1cde5352",
   "metadata": {
    "tags": []
   },
   "outputs": [
    {
     "name": "stdout",
     "output_type": "stream",
     "text": [
      "<class 'pandas.core.frame.DataFrame'>\n",
      "Int64Index: 2325 entries, 1 to 2499\n",
      "Data columns (total 21 columns):\n",
      " #   Column                Non-Null Count  Dtype  \n",
      "---  ------                --------------  -----  \n",
      " 0   Температура в начале  2325 non-null   float64\n",
      " 1   Температура в конце   2325 non-null   float64\n",
      " 2   Длительность          2325 non-null   int64  \n",
      " 3   Активная работа       2325 non-null   float64\n",
      " 4   Bulk 1                2325 non-null   float64\n",
      " 5   Bulk 3                2325 non-null   float64\n",
      " 6   Bulk 4                2325 non-null   float64\n",
      " 7   Bulk 5                2325 non-null   float64\n",
      " 8   Bulk 6                2325 non-null   float64\n",
      " 9   Bulk 10               2325 non-null   float64\n",
      " 10  Bulk 11               2325 non-null   float64\n",
      " 11  Bulk 12               2325 non-null   float64\n",
      " 12  Bulk 14               2325 non-null   float64\n",
      " 13  Bulk 15               2325 non-null   float64\n",
      " 14  other_bulk            2325 non-null   float64\n",
      " 15  Wire 1                2325 non-null   float64\n",
      " 16  Wire 2                2325 non-null   float64\n",
      " 17  Wire 3                2325 non-null   float64\n",
      " 18  Wire 6                2325 non-null   float64\n",
      " 19  other_wire            2325 non-null   float64\n",
      " 20  Газ 1                 2325 non-null   float64\n",
      "dtypes: float64(20), int64(1)\n",
      "memory usage: 399.6 KB\n"
     ]
    }
   ],
   "source": [
    "data_fin = (data_temp_agg.join(data_arc_work, how='inner').\n",
    "                            join(data_bulk_vol, how='inner').\n",
    "                               join(data_wire_vol, how='inner').\n",
    "                                   join(data_gas, how='inner'))\n",
    "data_fin.info()"
   ]
  },
  {
   "cell_type": "markdown",
   "id": "f5983ae4",
   "metadata": {},
   "source": [
    "В итоге у нас осталось 2325 записей. Зато без пропусков и ошибок."
   ]
  },
  {
   "cell_type": "code",
   "execution_count": 74,
   "id": "64158d19",
   "metadata": {
    "tags": []
   },
   "outputs": [
    {
     "data": {
      "text/html": [
       "<div>\n",
       "<style scoped>\n",
       "    .dataframe tbody tr th:only-of-type {\n",
       "        vertical-align: middle;\n",
       "    }\n",
       "\n",
       "    .dataframe tbody tr th {\n",
       "        vertical-align: top;\n",
       "    }\n",
       "\n",
       "    .dataframe thead th {\n",
       "        text-align: right;\n",
       "    }\n",
       "</style>\n",
       "<table border=\"1\" class=\"dataframe\">\n",
       "  <thead>\n",
       "    <tr style=\"text-align: right;\">\n",
       "      <th></th>\n",
       "      <th>Температура в начале</th>\n",
       "      <th>Температура в конце</th>\n",
       "      <th>Длительность</th>\n",
       "      <th>Активная работа</th>\n",
       "      <th>Bulk 1</th>\n",
       "      <th>Bulk 3</th>\n",
       "      <th>Bulk 4</th>\n",
       "      <th>Bulk 5</th>\n",
       "      <th>Bulk 6</th>\n",
       "      <th>Bulk 10</th>\n",
       "      <th>Bulk 11</th>\n",
       "      <th>Bulk 12</th>\n",
       "      <th>Bulk 14</th>\n",
       "      <th>Bulk 15</th>\n",
       "      <th>other_bulk</th>\n",
       "      <th>Wire 1</th>\n",
       "      <th>Wire 2</th>\n",
       "      <th>Wire 3</th>\n",
       "      <th>Wire 6</th>\n",
       "      <th>other_wire</th>\n",
       "      <th>Газ 1</th>\n",
       "    </tr>\n",
       "    <tr>\n",
       "      <th>key</th>\n",
       "      <th></th>\n",
       "      <th></th>\n",
       "      <th></th>\n",
       "      <th></th>\n",
       "      <th></th>\n",
       "      <th></th>\n",
       "      <th></th>\n",
       "      <th></th>\n",
       "      <th></th>\n",
       "      <th></th>\n",
       "      <th></th>\n",
       "      <th></th>\n",
       "      <th></th>\n",
       "      <th></th>\n",
       "      <th></th>\n",
       "      <th></th>\n",
       "      <th></th>\n",
       "      <th></th>\n",
       "      <th></th>\n",
       "      <th></th>\n",
       "      <th></th>\n",
       "    </tr>\n",
       "  </thead>\n",
       "  <tbody>\n",
       "    <tr>\n",
       "      <th>1</th>\n",
       "      <td>1571.0</td>\n",
       "      <td>1613.0</td>\n",
       "      <td>1714</td>\n",
       "      <td>628.616930</td>\n",
       "      <td>0.0</td>\n",
       "      <td>0.0</td>\n",
       "      <td>43.0</td>\n",
       "      <td>0.0</td>\n",
       "      <td>0.0</td>\n",
       "      <td>0.0</td>\n",
       "      <td>0.0</td>\n",
       "      <td>206.0</td>\n",
       "      <td>150.0</td>\n",
       "      <td>154.0</td>\n",
       "      <td>0.0</td>\n",
       "      <td>60.059998</td>\n",
       "      <td>0.00000</td>\n",
       "      <td>0.0</td>\n",
       "      <td>0.0</td>\n",
       "      <td>0.0</td>\n",
       "      <td>29.749986</td>\n",
       "    </tr>\n",
       "    <tr>\n",
       "      <th>2</th>\n",
       "      <td>1581.0</td>\n",
       "      <td>1602.0</td>\n",
       "      <td>1265</td>\n",
       "      <td>395.281800</td>\n",
       "      <td>0.0</td>\n",
       "      <td>0.0</td>\n",
       "      <td>73.0</td>\n",
       "      <td>0.0</td>\n",
       "      <td>0.0</td>\n",
       "      <td>0.0</td>\n",
       "      <td>0.0</td>\n",
       "      <td>206.0</td>\n",
       "      <td>149.0</td>\n",
       "      <td>154.0</td>\n",
       "      <td>0.0</td>\n",
       "      <td>96.052315</td>\n",
       "      <td>0.00000</td>\n",
       "      <td>0.0</td>\n",
       "      <td>0.0</td>\n",
       "      <td>0.0</td>\n",
       "      <td>12.555561</td>\n",
       "    </tr>\n",
       "    <tr>\n",
       "      <th>3</th>\n",
       "      <td>1596.0</td>\n",
       "      <td>1599.0</td>\n",
       "      <td>1753</td>\n",
       "      <td>581.774624</td>\n",
       "      <td>0.0</td>\n",
       "      <td>0.0</td>\n",
       "      <td>34.0</td>\n",
       "      <td>0.0</td>\n",
       "      <td>0.0</td>\n",
       "      <td>0.0</td>\n",
       "      <td>0.0</td>\n",
       "      <td>205.0</td>\n",
       "      <td>152.0</td>\n",
       "      <td>153.0</td>\n",
       "      <td>0.0</td>\n",
       "      <td>91.160157</td>\n",
       "      <td>0.00000</td>\n",
       "      <td>0.0</td>\n",
       "      <td>0.0</td>\n",
       "      <td>0.0</td>\n",
       "      <td>28.554793</td>\n",
       "    </tr>\n",
       "    <tr>\n",
       "      <th>4</th>\n",
       "      <td>1601.0</td>\n",
       "      <td>1625.0</td>\n",
       "      <td>1220</td>\n",
       "      <td>543.710274</td>\n",
       "      <td>0.0</td>\n",
       "      <td>0.0</td>\n",
       "      <td>81.0</td>\n",
       "      <td>0.0</td>\n",
       "      <td>0.0</td>\n",
       "      <td>0.0</td>\n",
       "      <td>0.0</td>\n",
       "      <td>207.0</td>\n",
       "      <td>153.0</td>\n",
       "      <td>154.0</td>\n",
       "      <td>0.0</td>\n",
       "      <td>89.063515</td>\n",
       "      <td>0.00000</td>\n",
       "      <td>0.0</td>\n",
       "      <td>0.0</td>\n",
       "      <td>0.0</td>\n",
       "      <td>18.841219</td>\n",
       "    </tr>\n",
       "    <tr>\n",
       "      <th>5</th>\n",
       "      <td>1576.0</td>\n",
       "      <td>1602.0</td>\n",
       "      <td>1536</td>\n",
       "      <td>412.180480</td>\n",
       "      <td>0.0</td>\n",
       "      <td>0.0</td>\n",
       "      <td>78.0</td>\n",
       "      <td>0.0</td>\n",
       "      <td>0.0</td>\n",
       "      <td>0.0</td>\n",
       "      <td>0.0</td>\n",
       "      <td>203.0</td>\n",
       "      <td>151.0</td>\n",
       "      <td>152.0</td>\n",
       "      <td>0.0</td>\n",
       "      <td>89.238236</td>\n",
       "      <td>9.11456</td>\n",
       "      <td>0.0</td>\n",
       "      <td>0.0</td>\n",
       "      <td>0.0</td>\n",
       "      <td>5.413692</td>\n",
       "    </tr>\n",
       "  </tbody>\n",
       "</table>\n",
       "</div>"
      ],
      "text/plain": [
       "     Температура в начале  Температура в конце  Длительность  Активная работа  \\\n",
       "key                                                                             \n",
       "1                  1571.0               1613.0          1714       628.616930   \n",
       "2                  1581.0               1602.0          1265       395.281800   \n",
       "3                  1596.0               1599.0          1753       581.774624   \n",
       "4                  1601.0               1625.0          1220       543.710274   \n",
       "5                  1576.0               1602.0          1536       412.180480   \n",
       "\n",
       "     Bulk 1  Bulk 3  Bulk 4  Bulk 5  Bulk 6  Bulk 10  Bulk 11  Bulk 12  \\\n",
       "key                                                                      \n",
       "1       0.0     0.0    43.0     0.0     0.0      0.0      0.0    206.0   \n",
       "2       0.0     0.0    73.0     0.0     0.0      0.0      0.0    206.0   \n",
       "3       0.0     0.0    34.0     0.0     0.0      0.0      0.0    205.0   \n",
       "4       0.0     0.0    81.0     0.0     0.0      0.0      0.0    207.0   \n",
       "5       0.0     0.0    78.0     0.0     0.0      0.0      0.0    203.0   \n",
       "\n",
       "     Bulk 14  Bulk 15  other_bulk     Wire 1   Wire 2  Wire 3  Wire 6  \\\n",
       "key                                                                     \n",
       "1      150.0    154.0         0.0  60.059998  0.00000     0.0     0.0   \n",
       "2      149.0    154.0         0.0  96.052315  0.00000     0.0     0.0   \n",
       "3      152.0    153.0         0.0  91.160157  0.00000     0.0     0.0   \n",
       "4      153.0    154.0         0.0  89.063515  0.00000     0.0     0.0   \n",
       "5      151.0    152.0         0.0  89.238236  9.11456     0.0     0.0   \n",
       "\n",
       "     other_wire      Газ 1  \n",
       "key                         \n",
       "1           0.0  29.749986  \n",
       "2           0.0  12.555561  \n",
       "3           0.0  28.554793  \n",
       "4           0.0  18.841219  \n",
       "5           0.0   5.413692  "
      ]
     },
     "execution_count": 74,
     "metadata": {},
     "output_type": "execute_result"
    }
   ],
   "source": [
    "pd.set_option('display.max_columns', None)\n",
    "data_fin.head()"
   ]
  },
  {
   "cell_type": "markdown",
   "id": "e1db5aeb",
   "metadata": {},
   "source": [
    "Построим графики распределения признаков, сгруппировав их по типам столбцов."
   ]
  },
  {
   "cell_type": "code",
   "execution_count": 75,
   "id": "9d5c9963",
   "metadata": {
    "tags": []
   },
   "outputs": [],
   "source": [
    "temp_columns = ['Температура в начале', 'Температура в конце']\n",
    "time_columns = ['Длительность']\n",
    "work_columns = ['Активная работа']\n",
    "bulk_columns = ['Bulk 1','Bulk 3','Bulk 4','Bulk 5','Bulk 6','Bulk 10','Bulk 11','Bulk 12','Bulk 14','Bulk 15','other_bulk']\n",
    "wire_columns = ['Wire 1','Wire 2','Wire 3','Wire 6','other_wire']\n",
    "gas_columns = ['Газ 1']"
   ]
  },
  {
   "cell_type": "code",
   "execution_count": 76,
   "id": "70bf326c",
   "metadata": {
    "tags": []
   },
   "outputs": [
    {
     "data": {
      "image/png": "[encoded data removed]",
      "text/plain": [
       "<Figure size 720x216 with 1 Axes>"
      ]
     },
     "metadata": {
      "needs_background": "light"
     },
     "output_type": "display_data"
    }
   ],
   "source": [
    "data_fin.loc[:,temp_columns].boxplot(vert=False, figsize=(10,3))\n",
    "plt.xlabel('Температура')\n",
    "plt.title('Диаграммы размаха температур стали');"
   ]
  },
  {
   "cell_type": "markdown",
   "id": "f40e9981",
   "metadata": {},
   "source": [
    "Начальные температуры имеют более широкий размах значений. Также у начальных температур значительно шире ящик и усы."
   ]
  },
  {
   "cell_type": "code",
   "execution_count": 77,
   "id": "b2551cac",
   "metadata": {
    "tags": []
   },
   "outputs": [
    {
     "data": {
      "image/png": "[encoded data removed]",
      "text/plain": [
       "<Figure size 720x144 with 1 Axes>"
      ]
     },
     "metadata": {
      "needs_background": "light"
     },
     "output_type": "display_data"
    }
   ],
   "source": [
    "data_fin.loc[:,time_columns].boxplot(vert=False, figsize=(10,2))\n",
    "plt.xlabel('Длительность в секундах')\n",
    "plt.title('Диаграмма размаха длительности процесса');"
   ]
  },
  {
   "cell_type": "markdown",
   "id": "ce3b7b7b",
   "metadata": {},
   "source": [
    "Длительность имеет очень широкий диапазон значений. Выбросы доходят до 6.5 часов, при медианном значении в примерно полчаса."
   ]
  },
  {
   "cell_type": "code",
   "execution_count": 78,
   "id": "09e210e0",
   "metadata": {
    "tags": []
   },
   "outputs": [
    {
     "data": {
      "image/png": "[encoded data removed]",
      "text/plain": [
       "<Figure size 720x144 with 1 Axes>"
      ]
     },
     "metadata": {
      "needs_background": "light"
     },
     "output_type": "display_data"
    }
   ],
   "source": [
    "data_fin.loc[:,work_columns].boxplot(vert=False, figsize=(10,2))\n",
    "plt.xlabel('Работа')\n",
    "plt.title('Диаграмма размаха суммарной активной работы');"
   ]
  },
  {
   "cell_type": "markdown",
   "id": "76a432d5",
   "metadata": {},
   "source": [
    "Активная работа имеет один явно выраженный выброс. Вероятно в этом процессе была высокая мощность и очень большая длительность нагрева."
   ]
  },
  {
   "cell_type": "code",
   "execution_count": 79,
   "id": "7a9cd1e3",
   "metadata": {
    "tags": []
   },
   "outputs": [
    {
     "data": {
      "image/png": "[encoded data removed]",
      "text/plain": [
       "<Figure size 720x288 with 1 Axes>"
      ]
     },
     "metadata": {
      "needs_background": "light"
     },
     "output_type": "display_data"
    }
   ],
   "source": [
    "data_fin.loc[:,bulk_columns].boxplot(vert=False, figsize=(10,4))\n",
    "plt.title('Диаграммы размаха данных о сыпучих материалах')\n",
    "plt.xlabel('Объём')\n",
    "plt.ylabel('Материал');"
   ]
  },
  {
   "cell_type": "markdown",
   "id": "95c30a67",
   "metadata": {},
   "source": [
    "Столбец `Bulk 12` имеет одно очень большое значение. Из-за этого на графике сложно оценить размах некоторых столбцов, ограничим значения до 750.  \n",
    "Также на график имеет большое влияние нулевые значения у редких материалов, из-за чего значение первого и третьего квартиля становится также равным нулю. Рассмотрим размах ненулевых значений."
   ]
  },
  {
   "cell_type": "code",
   "execution_count": 80,
   "id": "4a04a5fe",
   "metadata": {
    "tags": []
   },
   "outputs": [
    {
     "data": {
      "image/png": "[encoded data removed]",
      "text/plain": [
       "<Figure size 720x288 with 1 Axes>"
      ]
     },
     "metadata": {
      "needs_background": "light"
     },
     "output_type": "display_data"
    }
   ],
   "source": [
    "# Самый простой вариант не учитывать нули в графике это заменить их на None\n",
    "data_fin.loc[:,bulk_columns].replace(0,None).boxplot(vert=False, figsize=(10,4))\n",
    "\n",
    "plt.title('Диаграммы размаха данных о сыпучих материалах (ненулевые значения)')\n",
    "plt.xlabel('Объём')\n",
    "plt.ylabel('Материал')\n",
    "plt.xlim(-10,750);"
   ]
  },
  {
   "cell_type": "markdown",
   "id": "14a683ac",
   "metadata": {},
   "source": [
    "Теперь можно оценить объём материалов. Так, например, обычно материала `Bulk 12` добавляется больше других.   \n",
    "А вот `Bulk 1` имеет наименьшее медианное значение."
   ]
  },
  {
   "cell_type": "code",
   "execution_count": 81,
   "id": "ef12d0b1",
   "metadata": {
    "tags": []
   },
   "outputs": [
    {
     "data": {
      "image/png": "[encoded data removed]",
      "text/plain": [
       "<Figure size 720x216 with 1 Axes>"
      ]
     },
     "metadata": {
      "needs_background": "light"
     },
     "output_type": "display_data"
    }
   ],
   "source": [
    "data_fin.loc[:,wire_columns].boxplot(vert=False, figsize=(10,3))\n",
    "plt.title('Диаграммы размаха данных о проволочных материалах')\n",
    "plt.xlabel('Объём')\n",
    "plt.ylabel('Материал');"
   ]
  },
  {
   "cell_type": "markdown",
   "id": "d4bdb953",
   "metadata": {},
   "source": [
    "Также, как и с сыпучими материалами, отделим ненулевые значения."
   ]
  },
  {
   "cell_type": "code",
   "execution_count": 82,
   "id": "4ad7700d",
   "metadata": {
    "tags": []
   },
   "outputs": [
    {
     "data": {
      "image/png": "[encoded data removed]",
      "text/plain": [
       "<Figure size 720x216 with 1 Axes>"
      ]
     },
     "metadata": {
      "needs_background": "light"
     },
     "output_type": "display_data"
    }
   ],
   "source": [
    "data_fin.loc[:,wire_columns].replace(0,None).boxplot(vert=False, figsize=(10,3))\n",
    "\n",
    "plt.title('Диаграммы размаха данных о проволочных материалах (ненулевые значения)')\n",
    "plt.xlabel('Объём')\n",
    "plt.ylabel('Материал');"
   ]
  },
  {
   "cell_type": "markdown",
   "id": "689c55c5",
   "metadata": {},
   "source": [
    "`Wire 3` и `Wire 6` имеют относительно небольшое число записей (63 и 73 соответственно).  \n",
    "Из остальных материалов большую медиану имеет материал `Wire 1`"
   ]
  },
  {
   "cell_type": "code",
   "execution_count": 83,
   "id": "d39b889e",
   "metadata": {
    "tags": []
   },
   "outputs": [
    {
     "data": {
      "image/png": "[encoded data removed]",
      "text/plain": [
       "<Figure size 720x144 with 1 Axes>"
      ]
     },
     "metadata": {
      "needs_background": "light"
     },
     "output_type": "display_data"
    }
   ],
   "source": [
    "data_fin.loc[:,gas_columns].boxplot(vert=False, figsize=(10,2))\n",
    "plt.xlabel('Объём')\n",
    "plt.title('Диаграмма размаха объёма газа для продувки');"
   ]
  },
  {
   "cell_type": "markdown",
   "id": "8a600d38",
   "metadata": {},
   "source": [
    "Медианный объём примерно 10, выбросы доходят до 80."
   ]
  },
  {
   "cell_type": "markdown",
   "id": "b031c229",
   "metadata": {},
   "source": [
    "### Проверка корреляций"
   ]
  },
  {
   "cell_type": "markdown",
   "id": "f4bb19fc",
   "metadata": {},
   "source": [
    "Посмотрим на значения корреляции в получившейся таблице."
   ]
  },
  {
   "cell_type": "code",
   "execution_count": 85,
   "id": "6099c028",
   "metadata": {
    "tags": []
   },
   "outputs": [
    {
     "data": {
      "image/png": "[encoded data removed]",
      "text/plain": [
       "<Figure size 864x720 with 2 Axes>"
      ]
     },
     "metadata": {
      "needs_background": "light"
     },
     "output_type": "display_data"
    }
   ],
   "source": [
    "cor_df = data_fin.corr().round(2).abs()\n",
    "# Step 1: Initiating a fig and axis object\n",
    "fig, ax = plt.subplots(figsize = (12, 10))\n",
    "ax.set_title('Абсолютные значения корреляции')\n",
    "# Step 2: Create a plot\n",
    "cax = ax.imshow(cor_df.values, interpolation='nearest', cmap = 'coolwarm', vmin = 0, vmax = 1)\n",
    "# Step 3: Set axis tick labels \n",
    "ax.set_xticks(ticks = range(len(data_fin.columns)))\n",
    "ax.set_yticks(ticks = range(len(data_fin.columns)))\n",
    "ax.set_xticklabels(data_fin.columns)\n",
    "ax.set_yticklabels(data_fin.columns)\n",
    "# Step 4: Resize the tick parameters\n",
    "ax.tick_params(axis = \"x\", labelsize = 12, labelrotation = 90)\n",
    "ax.tick_params(axis = \"y\", labelsize = 12, labelrotation = 0)\n",
    "# Step 5: Adding a color bar\n",
    "fig.colorbar(cax).ax.tick_params(labelsize = 12)\n",
    "# Step 6: Add annotation\n",
    "for (x, y), t in np.ndenumerate(cor_df):\n",
    "    ax.annotate(\"{:.2f}\".format(t),\n",
    "                 xy = (x, y),\n",
    "                 va = \"center\", # vertical position\n",
    "                 ha = \"center\") # horizontal position"
   ]
  },
  {
   "cell_type": "markdown",
   "id": "481b04da",
   "metadata": {},
   "source": [
    "Очень высоких значений кореляции нет, это хорошо.  \n",
    "Самую высокую корреляцию (0.61) между собой имеют параметры `Bulk 12` и `Bulk 15`.  \n",
    "\n",
    "Целевой признак финальной температуры имеет наибольшую корреляцию (0.32) с параметром `Wire 1`. Также похожая корреляция (0.3) с начальной температурой."
   ]
  },
  {
   "cell_type": "markdown",
   "id": "6f300c0d",
   "metadata": {},
   "source": [
    "### Разделение на выборки"
   ]
  },
  {
   "cell_type": "markdown",
   "id": "0768abea",
   "metadata": {},
   "source": [
    "Целевым признаком в задаче является финальная температура."
   ]
  },
  {
   "cell_type": "code",
   "execution_count": 86,
   "id": "dde0a1ce",
   "metadata": {
    "tags": []
   },
   "outputs": [],
   "source": [
    "x = data_fin.drop('Температура в конце', axis=1)\n",
    "y = data_fin['Температура в конце']"
   ]
  },
  {
   "cell_type": "markdown",
   "id": "9282954e",
   "metadata": {},
   "source": [
    "Разделяем на выборки, размер тестовой выборки 25%."
   ]
  },
  {
   "cell_type": "code",
   "execution_count": 87,
   "id": "f184b033",
   "metadata": {
    "tags": []
   },
   "outputs": [],
   "source": [
    "x_train, x_test, y_train, y_test = train_test_split(x, y, test_size=0.25, random_state=random_state)"
   ]
  },
  {
   "cell_type": "code",
   "execution_count": 88,
   "id": "5b7f4a75",
   "metadata": {
    "tags": []
   },
   "outputs": [
    {
     "name": "stdout",
     "output_type": "stream",
     "text": [
      "Размер тренировочной выборки: (1743, 20) (1743,)\n",
      "Размер тестовой выборки: (582, 20) (582,)\n"
     ]
    }
   ],
   "source": [
    "print('Размер тренировочной выборки:', x_train.shape, y_train.shape)\n",
    "print('Размер тестовой выборки:', x_test.shape, y_test.shape)"
   ]
  },
  {
   "cell_type": "markdown",
   "id": "a17273e0",
   "metadata": {},
   "source": [
    "### Стандартизация данных"
   ]
  },
  {
   "cell_type": "markdown",
   "id": "e6099677",
   "metadata": {},
   "source": [
    "Обучим `StandardScaler` на тренировочных данных, после чего также применим его к  тестовым данным."
   ]
  },
  {
   "cell_type": "code",
   "execution_count": 89,
   "id": "952e35a9",
   "metadata": {
    "tags": []
   },
   "outputs": [],
   "source": [
    "scaler = StandardScaler().fit(x_train)\n",
    "x_train_scaled = scaler.transform(x_train)\n",
    "x_test_scaled = scaler.transform(x_test)"
   ]
  },
  {
   "cell_type": "code",
   "execution_count": 90,
   "id": "929e2edd",
   "metadata": {
    "tags": []
   },
   "outputs": [
    {
     "name": "stdout",
     "output_type": "stream",
     "text": [
      "[-1.41341918  0.64996318  0.67601457 -0.27702765 -0.63943757 -0.62494368\n",
      " -0.11551042  0.02797797 -0.23329895 -0.18120027  1.69704924  1.25752831\n",
      "  1.09705475 -0.10494867 -1.59623748 -0.08767025 -0.11475517 -0.11531385\n",
      " -0.13969914  2.14078324]\n"
     ]
    },
    {
     "data": {
      "text/plain": [
       "(-0.0, 1.0)"
      ]
     },
     "execution_count": 90,
     "metadata": {},
     "output_type": "execute_result"
    }
   ],
   "source": [
    "print(x_train_scaled[0])\n",
    "x_train_scaled.mean().round(2), x_train_scaled.std()"
   ]
  },
  {
   "cell_type": "markdown",
   "id": "e5964602",
   "metadata": {},
   "source": [
    "## Обучение моделей"
   ]
  },
  {
   "cell_type": "markdown",
   "id": "6479b553",
   "metadata": {},
   "source": [
    "### Логистическая регрессия"
   ]
  },
  {
   "cell_type": "code",
   "execution_count": 91,
   "id": "ea5d4e9d",
   "metadata": {
    "tags": []
   },
   "outputs": [
    {
     "name": "stdout",
     "output_type": "stream",
     "text": [
      "CPU times: user 59.9 ms, sys: 89.2 ms, total: 149 ms\n",
      "Wall time: 413 ms\n"
     ]
    },
    {
     "data": {
      "text/plain": [
       "6.504"
      ]
     },
     "execution_count": 91,
     "metadata": {},
     "output_type": "execute_result"
    }
   ],
   "source": [
    "%%time\n",
    "linear_model = LinearRegression()\n",
    "scores = cross_val_score(linear_model, x_train_scaled, y_train, cv=5, scoring='neg_mean_absolute_error')\n",
    "result_linear = pd.Series(scores).abs().mean()\n",
    "round(result_linear, 3)"
   ]
  },
  {
   "cell_type": "markdown",
   "id": "eaf478d5",
   "metadata": {},
   "source": [
    "У первой же модели неплохой результат."
   ]
  },
  {
   "cell_type": "markdown",
   "id": "7d62f75b",
   "metadata": {},
   "source": [
    "### Рандомный лес"
   ]
  },
  {
   "cell_type": "code",
   "execution_count": 92,
   "id": "552df1a7",
   "metadata": {},
   "outputs": [],
   "source": [
    "forest_model = RandomForestRegressor(random_state=random_state)\n",
    "forest_parameters = {'n_estimators' : range(100,1001,100),\n",
    "               'max_depth'    : range(4,11,1)}"
   ]
  },
  {
   "cell_type": "code",
   "execution_count": 93,
   "id": "4fb7dee7",
   "metadata": {},
   "outputs": [
    {
     "name": "stdout",
     "output_type": "stream",
     "text": [
      "CPU times: user 2min 50s, sys: 2.39 s, total: 2min 53s\n",
      "Wall time: 12min 49s\n"
     ]
    },
    {
     "data": {
      "text/plain": [
       "RandomizedSearchCV(cv=5, estimator=RandomForestRegressor(random_state=40823),\n",
       "                   n_jobs=-1,\n",
       "                   param_distributions={'max_depth': range(4, 11),\n",
       "                                        'n_estimators': range(100, 1001, 100)},\n",
       "                   random_state=40823, scoring='neg_mean_absolute_error')"
      ]
     },
     "execution_count": 93,
     "metadata": {},
     "output_type": "execute_result"
    }
   ],
   "source": [
    "%%time\n",
    "forest_rscv = RandomizedSearchCV(estimator=forest_model, param_distributions = forest_parameters,\n",
    "                                   cv = 5, scoring='neg_mean_absolute_error', \n",
    "                                    n_iter = 10, n_jobs=-1, random_state=random_state)\n",
    "forest_rscv.fit(x_train_scaled, y_train);"
   ]
  },
  {
   "cell_type": "code",
   "execution_count": 94,
   "id": "e6f61cab",
   "metadata": {},
   "outputs": [
    {
     "name": "stdout",
     "output_type": "stream",
     "text": [
      "Результаты поиска для рандомного леса:\n",
      "Лучший результат: 6.497\n",
      "Параметры лучшей модели: {'n_estimators': 400, 'max_depth': 10}\n"
     ]
    }
   ],
   "source": [
    "print(\"Результаты поиска для рандомного леса:\" )\n",
    "print(\"Лучший результат:\", round(forest_rscv.best_score_ * -1, 3))\n",
    "print(\"Параметры лучшей модели:\", forest_rscv.best_params_)"
   ]
  },
  {
   "cell_type": "markdown",
   "id": "a0320da8",
   "metadata": {},
   "source": [
    "Результат чуть лучше, чем у линейной регрессии."
   ]
  },
  {
   "cell_type": "markdown",
   "id": "e26829a8",
   "metadata": {},
   "source": [
    "### CatBoost"
   ]
  },
  {
   "cell_type": "code",
   "execution_count": 95,
   "id": "2922b6c5",
   "metadata": {
    "tags": []
   },
   "outputs": [],
   "source": [
    "cat_model = CatBoostRegressor(random_seed=random_state)\n",
    "cat_parameters = {'iterations' : range(100,1001,100),\n",
    "                  'depth'    : range(4,11,1)}"
   ]
  },
  {
   "cell_type": "code",
   "execution_count": 96,
   "id": "ec790753",
   "metadata": {
    "tags": []
   },
   "outputs": [
    {
     "name": "stdout",
     "output_type": "stream",
     "text": [
      "CPU times: user 3min 47s, sys: 8.17 s, total: 3min 55s\n",
      "Wall time: 23min 49s\n"
     ]
    },
    {
     "data": {
      "text/plain": [
       "RandomizedSearchCV(cv=5,\n",
       "                   estimator=<catboost.core.CatBoostRegressor object at 0x7f1e61936760>,\n",
       "                   n_jobs=-1,\n",
       "                   param_distributions={'depth': range(4, 11),\n",
       "                                        'iterations': range(100, 1001, 100)},\n",
       "                   random_state=40823, scoring='neg_mean_absolute_error')"
      ]
     },
     "execution_count": 96,
     "metadata": {},
     "output_type": "execute_result"
    }
   ],
   "source": [
    "%%time\n",
    "cat_rscv = RandomizedSearchCV(estimator=cat_model, param_distributions = cat_parameters,\n",
    "                                   cv = 5, scoring='neg_mean_absolute_error', \n",
    "                                    n_iter = 10, n_jobs=-1, random_state=random_state)\n",
    "cat_rscv.fit(x_train_scaled, y_train, verbose=0);"
   ]
  },
  {
   "cell_type": "code",
   "execution_count": 97,
   "id": "73767141",
   "metadata": {
    "tags": []
   },
   "outputs": [
    {
     "name": "stdout",
     "output_type": "stream",
     "text": [
      "Результаты поиска для CatBoost:\n",
      "Лучший результат: 6.34\n",
      "Параметры лучшей модели: {'iterations': 900, 'depth': 6}\n"
     ]
    }
   ],
   "source": [
    "print(\"Результаты поиска для CatBoost:\" )\n",
    "print(\"Лучший результат:\", round(cat_rscv.best_score_ * -1, 3))\n",
    "print(\"Параметры лучшей модели:\", cat_rscv.best_params_)"
   ]
  },
  {
   "cell_type": "markdown",
   "id": "21f92c3a",
   "metadata": {},
   "source": [
    "Результат ещё немного лучше предыдущих."
   ]
  },
  {
   "cell_type": "markdown",
   "id": "5ef2a781",
   "metadata": {},
   "source": [
    "### LightGBM"
   ]
  },
  {
   "cell_type": "code",
   "execution_count": 98,
   "id": "6406fb3f",
   "metadata": {},
   "outputs": [],
   "source": [
    "%%time\n",
    "lgbm_rscv = RandomizedSearchCV(estimator=lgbm_model, param_distributions = lgbm_parameters,\n",
    "                                   cv = 5, scoring='neg_mean_absolute_error', \n",
    "                                    n_iter = 20, n_jobs=-1, random_state=random_state)\n",
    "lgbm_rscv.fit(x_train_scaled, y_train);lgbm_model = LGBMRegressor(random_seed=random_state)\n",
    "lgbm_parameters = {'n_estimators' : range(100,2001,100),\n",
    "                   'max_depth'    : range(10,101,10),\n",
    "                   'num_leaves': range(20, 201, 20)}"
   ]
  },
  {
   "cell_type": "code",
   "execution_count": 99,
   "id": "d7a0fd9a",
   "metadata": {},
   "outputs": [
    {
     "name": "stdout",
     "output_type": "stream",
     "text": [
      "CPU times: user 4.77 s, sys: 87.8 ms, total: 4.86 s\n",
      "Wall time: 3min 14s\n"
     ]
    }
   ],
   "source": [
    "%%time\n",
    "lgbm_rscv = RandomizedSearchCV(estimator=lgbm_model, param_distributions = lgbm_parameters,\n",
    "                                   cv = 5, scoring='neg_mean_absolute_error', \n",
    "                                    n_iter = 20, n_jobs=-1, random_state=random_state)\n",
    "lgbm_rscv.fit(x_train_scaled, y_train);"
   ]
  },
  {
   "cell_type": "code",
   "execution_count": 100,
   "id": "489f5dea",
   "metadata": {},
   "outputs": [
    {
     "name": "stdout",
     "output_type": "stream",
     "text": [
      "Результаты поиска для LightGBM:\n",
      "Лучший результат: 6.638\n",
      "Параметры лучшей модели: {'num_leaves': 40, 'n_estimators': 100, 'max_depth': 90}\n"
     ]
    }
   ],
   "source": [
    "print(\"Результаты поиска для LightGBM:\" )\n",
    "print(\"Лучший результат:\", round(lgbm_rscv.best_score_ * -1, 3))\n",
    "print(\"Параметры лучшей модели:\", lgbm_rscv.best_params_)"
   ]
  },
  {
   "cell_type": "markdown",
   "id": "ea5bda32",
   "metadata": {},
   "source": [
    "Худший результат из всех рассмотренных."
   ]
  },
  {
   "cell_type": "markdown",
   "id": "6c7bfe70",
   "metadata": {},
   "source": [
    "### Выбор лучшей модели"
   ]
  },
  {
   "cell_type": "code",
   "execution_count": 101,
   "id": "19a9fef1",
   "metadata": {},
   "outputs": [
    {
     "data": {
      "image/png": "[encoded data removed]",
      "text/plain": [
       "<Figure size 640x480 with 1 Axes>"
      ]
     },
     "metadata": {},
     "output_type": "display_data"
    }
   ],
   "source": [
    "results = {'Линейная': result_linear, \n",
    "           'Лес': forest_rscv.best_score_ * -1, \n",
    "           'CatBoost': cat_rscv.best_score_ * -1,\n",
    "           'LightGBM': lgbm_rscv.best_score_ * -1}\n",
    "results = pd.Series(results)\n",
    "results.plot.bar(rot=0,color=['r','g','Orange','b'])\n",
    "plt.title('MAE лучших моделей')\n",
    "plt.ylabel(\"MAE\")\n",
    "plt.xlabel(\"Модель\")\n",
    "plt.ylim(6.3,6.7)\n",
    "plt.show()"
   ]
  },
  {
   "cell_type": "markdown",
   "id": "892cccad",
   "metadata": {},
   "source": [
    "Лучший результат показал CatBoost.   \n",
    "Обучим модель заново на всех тренировочных данных."
   ]
  },
  {
   "cell_type": "code",
   "execution_count": 102,
   "id": "2df90770",
   "metadata": {
    "tags": []
   },
   "outputs": [],
   "source": [
    "best_model = cat_rscv.best_estimator_\n",
    "best_model.fit(x_train_scaled, y_train, verbose=0);"
   ]
  },
  {
   "cell_type": "markdown",
   "id": "84f9b905",
   "metadata": {},
   "source": [
    "## Анализ лучшей модели"
   ]
  },
  {
   "cell_type": "markdown",
   "id": "5492ac20",
   "metadata": {},
   "source": [
    "### Тестирование модели"
   ]
  },
  {
   "cell_type": "code",
   "execution_count": 103,
   "id": "447c1948",
   "metadata": {
    "tags": []
   },
   "outputs": [
    {
     "data": {
      "text/plain": [
       "6.692660648576982"
      ]
     },
     "execution_count": 103,
     "metadata": {},
     "output_type": "execute_result"
    }
   ],
   "source": [
    "best_predict = best_model.predict(x_test_scaled)\n",
    "mean_absolute_error(y_test, best_predict)"
   ]
  },
  {
   "cell_type": "markdown",
   "id": "fa5fe05e",
   "metadata": {},
   "source": [
    "Требуемое значение MAE < 6.8 достигнуто."
   ]
  },
  {
   "cell_type": "code",
   "execution_count": 104,
   "id": "1395ab49",
   "metadata": {
    "tags": []
   },
   "outputs": [
    {
     "data": {
      "text/plain": [
       "0.4087717556556054"
      ]
     },
     "execution_count": 104,
     "metadata": {},
     "output_type": "execute_result"
    }
   ],
   "source": [
    "r2_score(y_test, best_predict)"
   ]
  },
  {
   "cell_type": "markdown",
   "id": "ff055bfe",
   "metadata": {},
   "source": [
    "Значение R2 больше нуля, что сразу говорит нам об адекватности модели. Однако результат довольно далеко от 1, что говорит о том, что зависимость целевого значения от параметров объяснена не очень хорошо."
   ]
  },
  {
   "cell_type": "markdown",
   "id": "a7472e5f",
   "metadata": {},
   "source": [
    "Проверим модель на адекватность."
   ]
  },
  {
   "cell_type": "code",
   "execution_count": 105,
   "id": "dc06272d",
   "metadata": {
    "tags": []
   },
   "outputs": [
    {
     "data": {
      "text/plain": [
       "8.51697215962525"
      ]
     },
     "execution_count": 105,
     "metadata": {},
     "output_type": "execute_result"
    }
   ],
   "source": [
    "dummy_regr = DummyRegressor(strategy=\"mean\")\n",
    "dummy_regr.fit(x_train_scaled, y_train)\n",
    "dummy_predict = dummy_regr.predict(x_test_scaled)\n",
    "mean_absolute_error(y_test, dummy_predict)"
   ]
  },
  {
   "cell_type": "markdown",
   "id": "e77d1102",
   "metadata": {},
   "source": [
    "MAE нашей модели меньше, значит проверка пройдена."
   ]
  },
  {
   "cell_type": "markdown",
   "id": "109ef917",
   "metadata": {},
   "source": [
    "### Изучение важности параметров"
   ]
  },
  {
   "cell_type": "code",
   "execution_count": 106,
   "id": "5e20392b",
   "metadata": {},
   "outputs": [
    {
     "data": {
      "image/png": "[encoded data removed]",
      "text/plain": [
       "<Figure size 1000x600 with 1 Axes>"
      ]
     },
     "metadata": {},
     "output_type": "display_data"
    }
   ],
   "source": [
    "feature_importance = best_model.feature_importances_\n",
    "sorted_idx = np.argsort(feature_importance)\n",
    "fig = plt.figure(figsize=(10, 6))\n",
    "plt.barh(range(len(sorted_idx)), feature_importance[sorted_idx], align='center')\n",
    "plt.yticks(range(len(sorted_idx)), np.array(x_test.columns)[sorted_idx])\n",
    "plt.title('Важность признаков');"
   ]
  },
  {
   "cell_type": "markdown",
   "id": "f7717615",
   "metadata": {},
   "source": [
    "Самым важным параметром является начальная температура стали. Логично: чем горячее или холоднее была сталь изначально, тем горячее или холоднее она будет в конце.  \n",
    "Вторым по важности параметром является активная работа. Чем сильнее сталь нагреть, тем горячее она будет.  \n",
    "Следующим параметром оказался `Wire 1`. Что интересно, по диаграмме размаха можно видеть, что этого материала добавляется не больше других. Вероятно играет роль какое-то свойство этого материала.  \n",
    "Также важной является длительость процесса. Пассивное охлаждение от окружающей среды также играет свою роль.  \n",
    "Далее идут параметры объёма материалов и газа. Причём чем более редким является материал, тем меньше его важность для модели."
   ]
  },
  {
   "cell_type": "markdown",
   "id": "dc7bfd94",
   "metadata": {},
   "source": [
    "### Вывод"
   ]
  },
  {
   "cell_type": "markdown",
   "id": "f192f504",
   "metadata": {},
   "source": [
    "Лучшей моделью является **CatBoost** с параметрами:\n",
    "* iterations = 900 \n",
    "* depth = 6\n",
    "\n",
    "На тестовой выборке модель показала следующий результат:   \n",
    "$MAE = 6.69$\n",
    "\n",
    "***\n",
    "Анализ важности признаков: \n",
    "\n",
    "Самым важным параметром является начальная температура стали.      \n",
    "Вторым по важности параметром является активная работа.   \n",
    "Следующим параметром оказался Wire 1.   \n",
    "Также важной является длительность процесса.   \n",
    "Далее идут параметры объёма материалов и чем более редким является материал, тем меньше его важность для модели."
   ]
  },
  {
   "cell_type": "markdown",
   "id": "7749f4ab-c6c1-4959-9f83-7323c3185de0",
   "metadata": {},
   "source": [
    "## Отчёт"
   ]
  },
  {
   "cell_type": "markdown",
   "id": "296b6781-e618-4a45-be1c-353a5c00aefa",
   "metadata": {},
   "source": [
    "## Сравнение с планом"
   ]
  },
  {
   "cell_type": "markdown",
   "id": "003f35f1-24f6-4380-934c-41de4286abdf",
   "metadata": {},
   "source": [
    "При обработке данных было решено не устранять выбросы, даже из тренировочный выборки.  \n",
    "Выбросы в тренировочной выборке могуть помочь модели обучиться и справляться с ними в тестовой выборке. Так как выбросы являются, хоть и редкой, но всё же частью рабочего процесса. И в тестовых данных мы не можем устранить выбросы."
   ]
  },
  {
   "cell_type": "markdown",
   "id": "f2f39081-ff6c-4ea1-bc52-09b1e10278db",
   "metadata": {},
   "source": [
    "При обучении моделей было решено не использовать полносвязную нейронную сеть. Так как нейронные сети, всё же предназначены для других задач. А с регрессией хорошо справляются более классические модели."
   ]
  },
  {
   "cell_type": "markdown",
   "id": "a872bf47-4f8e-4a61-b4af-436797525102",
   "metadata": {},
   "source": [
    "При анализе модели, помимо метрики MAE была рассмотрена метрика R2. Которая позволяет быстро проверить модель на адекватность, а также оценить насколько хорошо описана зависисость целевого значения от параметров."
   ]
  },
  {
   "cell_type": "markdown",
   "id": "66d15653-b091-4c4f-bf1a-81cb7a3fccbd",
   "metadata": {},
   "source": [
    "По остальным пунктам рабта выполнена по плану."
   ]
  },
  {
   "cell_type": "markdown",
   "id": "8f8809a9-4135-48ea-9514-6389d3fdb9a5",
   "metadata": {},
   "source": [
    "### Ключевые шаги проекта "
   ]
  },
  {
   "cell_type": "markdown",
   "id": "53b9aa66-6c4b-44f0-ba7e-e31eaa4437fc",
   "metadata": {},
   "source": [
    "### Обработка данных"
   ]
  },
  {
   "cell_type": "markdown",
   "id": "bb7c56d7-13e8-4ffd-8c5d-328241ffe6e2",
   "metadata": {},
   "source": [
    "Данные из всех таблиц были объединены в единую таблицу с индексом по ключу.  \n",
    "Перед объединением была проведена следующая обработка:"
   ]
  },
  {
   "cell_type": "markdown",
   "id": "83dd62a3-b65f-466c-83dc-6411a16a3576",
   "metadata": {},
   "source": [
    "**Данные об электродах**   \n",
    "\n",
    "Пропусков таблице нет. Ошибка есть в одной записи, но она не попадает в единую таблицу.\n",
    "\n",
    "В единую таблицу добавлен только один параметр, вычисленный следующим образом:  \n",
    "Суммарная активная работа. Вычисляется как сумма работы всех этапов нагрева по одному ключу. Для одного этапа работа вычисляется как произведение активной мощности на длительность процесса. Длительность прцесса вычисляется в секундах как разность конца и начала этапа нагрева."
   ]
  },
  {
   "cell_type": "markdown",
   "id": "9b52d6dd-9959-44a4-bb6c-3056b2afe161",
   "metadata": {},
   "source": [
    "**Данные о подаче сыпучих материалов (объём)**  \n",
    "\n",
    "Редкие материалы `Bulk 2, Bulk 7, Bulk 8, Bulk 9, Bulk 13` были просуммированы и выделены в новый параметр `Other`. После чего эти материалыы были удалены из таблицы.  \n",
    "Все пропуски заполнены нулями.  \n",
    "Индексом таблицы установлен столбец `key`."
   ]
  },
  {
   "cell_type": "markdown",
   "id": "c9aad334-22df-4119-954e-cd15e63d1d31",
   "metadata": {},
   "source": [
    "**Данные о проволочных материалах (объём)**\n",
    "\n",
    "Редкие материалы `Wire 4, Wire 5, Wire 7, Wire 8, Wire 9` были просуммированы и выделены в новый параметр `Other`. После чего эти материалыы были удалены из таблицы.  \n",
    "Все пропуски заполнены нулями.  \n",
    "Индексом таблицы установлен столбец `key`."
   ]
  },
  {
   "cell_type": "markdown",
   "id": "97801da7-6460-45ad-965c-64928eac16df",
   "metadata": {},
   "source": [
    "**Данные о продувке сплава газом**\n",
    "\n",
    "Индексом таблицы установлен столбец `key`."
   ]
  },
  {
   "cell_type": "markdown",
   "id": "93192792-83f5-4b61-87e2-89a59de2e7df",
   "metadata": {},
   "source": [
    "**Результаты измерения температуры**\n",
    "\n",
    "Сначала из таблицы были выделены ключи, у которых было меньше двух измерений температуры. Все записи с этими ключами были удалены из таблицы.  \n",
    "После предыдущего действия в таблице не осталось пропусков.  \n",
    "\n",
    "Для добавления в единую таблицу была создана новая таблица со следующими параметрами:\n",
    "* Индекс ключ;\n",
    "* Длительность процесса - разность (в секундах) последнего и первого времени замера температуры;\n",
    "* Первый замер температуры;\n",
    "* Последний замер температуры.\n",
    "\n",
    "После этого из полученной таблицы были удалены все записи с замерами температуры ниже 1450°C (температура плавления стали)."
   ]
  },
  {
   "cell_type": "markdown",
   "id": "de6f22db-5217-4f35-82f8-cb47846aa09c",
   "metadata": {},
   "source": [
    "Данные из таблиц **\"Данные о проволочных материалах (время)\"** и **\"Данные о подаче сыпучих материалов (время)\"** для составления единой таблицы не использовались."
   ]
  },
  {
   "cell_type": "markdown",
   "id": "fd29e76a-5b00-4cc3-83d5-f293d7449580",
   "metadata": {},
   "source": [
    "  "
   ]
  },
  {
   "cell_type": "markdown",
   "id": "50c61dae-937c-492f-a78d-5d0561e2f125",
   "metadata": {},
   "source": [
    "Обработанные данные были объединены в единую таблицу методом `inner join`, позволяющим оставить только те ключи, по которым есть записи во всех таблицах.  \n",
    "В объединённой таблице осталось 2325 записей со следующими столбцами:  \n",
    "`Температура в начале, Температура в конце, Длительность, Активная работа, Bulk 1, Bulk 3, Bulk 4, Bulk 5, Bulk 6, Bulk 10, Bulk 11, Bulk 12, Bulk 14, Bulk 15, other_bulk, Wire 1, Wire 2, Wire 3, Wire 6, other_wire, Газ 1`."
   ]
  },
  {
   "cell_type": "markdown",
   "id": "98248e0a-684b-4afc-b656-29b1b72c12d2",
   "metadata": {},
   "source": [
    "Перед обучением модели также было произведено разделение данных на тренировочную и тестовую выборки в соотношении 3:1. При разделении был использован `random_state = 40823`.\n",
    "\n",
    "Также на тренировочных данных был обучен `StandardScaler`. После чего тренировочные и тестовые данные были стандартизированы."
   ]
  },
  {
   "cell_type": "markdown",
   "id": "f4d0eb01-971f-4396-897e-a9899cb3ef3a",
   "metadata": {},
   "source": [
    "### Обучение моделей"
   ]
  },
  {
   "cell_type": "markdown",
   "id": "4b73d739-faa8-4506-ba23-863205da66c6",
   "metadata": {},
   "source": [
    "Во всех процессах, позволяющих использовать `random_state` (или `random_seed`) был указан `random_state=40823`."
   ]
  },
  {
   "cell_type": "markdown",
   "id": "adbbaedc-09bf-4900-aade-0a87336fc865",
   "metadata": {},
   "source": [
    "**Логистическая регрессия**  \n",
    "\n",
    "Модель `sklearn.linear_model.LinearRegression`   \n",
    "Была проведена оценка метрики модели методом кросс-валидации с разделением на 5 выборок.   \n",
    "Получена метрика `MAE = 6.504`"
   ]
  },
  {
   "cell_type": "markdown",
   "id": "d872ecff-87e6-4b49-8310-5dd32489cf90",
   "metadata": {},
   "source": [
    "**Рандомный лес**\n",
    "\n",
    "Модель `sklearn.ensemble.RandomForestRegressor`.  \n",
    "\n",
    "Для перебора гиперпараметров был выбран следующий набор:\n",
    "* Количесвтво деревьев от 100 по 1000, с шагом в 100;\n",
    "* Максимальная глубина от 4 по 10, с шагом 1.\n",
    "\n",
    "Была проведена кросс-валидация с выбором рандомных гиперпараметров методом `RandomizedSearchCV` с выбором 10 моделей, с разделением на 5 выборок.    \n",
    "Лучший результат: `MAE = 6.497` с гиперпараметрами: `'n_estimators': 400, 'max_depth': 10`."
   ]
  },
  {
   "cell_type": "markdown",
   "id": "f7e4f43d-2e6b-4de8-92fc-edca74bde69b",
   "metadata": {},
   "source": [
    "**CatBoost**\n",
    "\n",
    "Модель `catboost.CatBoostRegressor`\n",
    "\n",
    "Для перебора гиперпараметров был выбран следующий набор:\n",
    "* Количество деревьев от 100 по 1000, с шагом в 100;\n",
    "* Максимальная глубина от 4 по 10, с шагом 1.\n",
    "\n",
    "Была проведена кросс-валидация с выбором рандомных гиперпараметров методом RandomizedSearchCV с выбором 10 моделей, с разделением на 5 выборок.  \n",
    "Лучший результат: `MAE = 6.34` с гиперпараметрами: `'iterations': 900, 'depth': 6`."
   ]
  },
  {
   "cell_type": "markdown",
   "id": "760b9fa6-5591-4df9-8dba-71aa6f966e75",
   "metadata": {},
   "source": [
    "**LightGBM**\n",
    "\n",
    "Модель `lightgbm.LGBMRegressor`\n",
    "Для перебора гиперпараметров был выбран следующий набор:\n",
    "\n",
    "* Число деревьев от 100 по 2000, с шагом в 100;\n",
    "* Максимальная глубина от 10 по 100, с шагом 10;\n",
    "* Максимальное число листьев от 20 по 200 с шагом 20.\n",
    "\n",
    "Была проведена кросс валидация с выбором рандомных гиперпараметров методом `RandomizedSearchCV` с выбором 20 моделей, с разделением на 5 выборок.  \n",
    "Лучший результат: `MAE = 6.638` с гиперпараметрами: `'n_estimators': 100, 'max_depth': 90, 'num_leaves': 40`."
   ]
  },
  {
   "cell_type": "markdown",
   "id": "6261366c-01b8-4424-a3da-2673d0f14adf",
   "metadata": {},
   "source": [
    "***\n",
    "Из всех моделей лучший результат показала модель **CatBoost** с гиперпараметрами:\n",
    "* iterations = 900 \n",
    "* depth = 6\n",
    "* random_state = 40823\n",
    "***\n",
    "Данная модель была заново обучена на полном наборе тренировочных данных."
   ]
  },
  {
   "cell_type": "markdown",
   "id": "edc997df-11cf-4308-97d6-eeb3a539a4c8",
   "metadata": {},
   "source": [
    "### Анализ лучшей модели"
   ]
  },
  {
   "cell_type": "markdown",
   "id": "497cc6ce-afef-43af-a9d0-c0340ddc718d",
   "metadata": {},
   "source": [
    "На тестовой выборке модель показала следующие результаты:   \n",
    "$MAE = 6.69$  \n",
    "$R2 = 0.41$"
   ]
  },
  {
   "cell_type": "markdown",
   "id": "72ee25db-785c-47be-a33d-2c1e4b28e2fb",
   "metadata": {},
   "source": [
    "Анализ важности признаков: \n",
    "\n",
    "Самым важным параметром является начальная температура стали.      \n",
    "Вторым по важности параметром является активная работа.   \n",
    "Следующим параметром оказался Wire 1.   \n",
    "Также важной является длительость процесса.   \n",
    "Далее идут параметры объёма материалов и гаЧём чем более редким является материал, тем меньше его важность для модели."
   ]
  },
  {
   "cell_type": "markdown",
   "id": "21451a88-f6dc-4d65-a916-3ab54354f458",
   "metadata": {},
   "source": [
    "### Рекомендации по улучшению"
   ]
  },
  {
   "cell_type": "markdown",
   "id": "c7e45715-8f10-43e5-9a0d-32bccdec5a9d",
   "metadata": {},
   "source": [
    "При обработке данных не была учтена реактивная мощность электродов из-за высокой корреляции с активной мощностью.  \n",
    "Для \"деревянных\" моделей, какой является CatBoost, скоррелированные данные не являются препятствием. Возможно, используя больше исходных данных, мы получим лучший результат.  \n",
    "\n",
    "Также можно изучить порядок добавления материалов в процесс. Получить эти данные можно из таблиц с временем добавления материалов.   \n",
    "Например, для каждого материала можно указать время в секундах, прошедшее после добавления первого материала. Конечно, более правильным было бы указать время, прошедшее с начала процесса, однако эта информация нам не доступна из-за несинхронизированности часов.  \n",
    "\n",
    "Однако, при добавлении новых параметров, следует помнить, что слишком большое количество информации может быть даже хуже слишком малого. "
   ]
  },
  {
   "cell_type": "markdown",
   "id": "0bd32156-5ac0-409a-ac88-c4ee8eecb538",
   "metadata": {},
   "source": [
    "При обучении моделей были использованы только отностительно простые варианты. Помимо них можно попробовать использовать ансамблевые методы. Например бэггинг или бустинг.  \n",
    "Возможно, сочетание разных моеделей поможет улучшить результат."
   ]
  }
 ],
 "metadata": {
  "ExecuteTimeLog": [
   {
    "duration": 1210,
    "start_time": "2023-08-06T22:15:40.566Z"
   },
   {
    "duration": 288,
    "start_time": "2023-08-06T22:15:41.779Z"
   },
   {
    "duration": 18,
    "start_time": "2023-08-06T22:15:42.070Z"
   },
   {
    "duration": 14,
    "start_time": "2023-08-06T22:15:42.091Z"
   },
   {
    "duration": 21,
    "start_time": "2023-08-06T22:15:42.166Z"
   },
   {
    "duration": 10,
    "start_time": "2023-08-06T22:15:42.189Z"
   },
   {
    "duration": 569,
    "start_time": "2023-08-06T22:15:42.200Z"
   },
   {
    "duration": 108,
    "start_time": "2023-08-06T22:15:42.771Z"
   },
   {
    "duration": 20,
    "start_time": "2023-08-06T22:15:42.882Z"
   },
   {
    "duration": 190,
    "start_time": "2023-08-06T22:15:42.906Z"
   },
   {
    "duration": 72,
    "start_time": "2023-08-06T22:15:43.099Z"
   },
   {
    "duration": 25,
    "start_time": "2023-08-06T22:15:43.173Z"
   },
   {
    "duration": 107,
    "start_time": "2023-08-06T22:15:43.200Z"
   },
   {
    "duration": 63,
    "start_time": "2023-08-06T22:15:43.310Z"
   },
   {
    "duration": 819,
    "start_time": "2023-08-06T22:15:43.375Z"
   },
   {
    "duration": 7,
    "start_time": "2023-08-06T22:15:44.197Z"
   },
   {
    "duration": 263,
    "start_time": "2023-08-06T22:15:44.206Z"
   },
   {
    "duration": 18,
    "start_time": "2023-08-06T22:15:44.471Z"
   },
   {
    "duration": 79,
    "start_time": "2023-08-06T22:15:44.491Z"
   },
   {
    "duration": 108,
    "start_time": "2023-08-06T22:15:44.572Z"
   },
   {
    "duration": 132,
    "start_time": "2023-08-06T22:15:44.682Z"
   },
   {
    "duration": 7,
    "start_time": "2023-08-06T22:15:44.816Z"
   },
   {
    "duration": 53,
    "start_time": "2023-08-06T22:15:44.825Z"
   },
   {
    "duration": 27,
    "start_time": "2023-08-06T22:15:44.879Z"
   },
   {
    "duration": 287,
    "start_time": "2023-08-06T22:15:44.908Z"
   },
   {
    "duration": 7,
    "start_time": "2023-08-06T22:15:45.198Z"
   },
   {
    "duration": 178,
    "start_time": "2023-08-06T22:15:45.207Z"
   },
   {
    "duration": 13,
    "start_time": "2023-08-06T22:15:45.388Z"
   },
   {
    "duration": 13,
    "start_time": "2023-08-06T22:15:45.403Z"
   },
   {
    "duration": 39,
    "start_time": "2023-08-06T22:15:45.468Z"
   },
   {
    "duration": 438,
    "start_time": "2023-08-06T22:15:45.566Z"
   },
   {
    "duration": 62,
    "start_time": "2023-08-06T22:15:46.006Z"
   },
   {
    "duration": 197,
    "start_time": "2023-08-06T22:15:46.070Z"
   },
   {
    "duration": 13,
    "start_time": "2023-08-06T22:15:46.269Z"
   },
   {
    "duration": 27,
    "start_time": "2023-08-06T22:15:46.283Z"
   },
   {
    "duration": 36,
    "start_time": "2023-08-06T22:15:46.367Z"
   },
   {
    "duration": 177,
    "start_time": "2023-08-06T22:15:46.405Z"
   },
   {
    "duration": 9,
    "start_time": "2023-08-06T22:15:46.584Z"
   },
   {
    "duration": 14,
    "start_time": "2023-08-06T22:15:46.595Z"
   },
   {
    "duration": 22,
    "start_time": "2023-08-06T22:15:46.667Z"
   },
   {
    "duration": 282,
    "start_time": "2023-08-06T22:15:46.691Z"
   },
   {
    "duration": 492,
    "start_time": "2023-08-06T22:15:46.975Z"
   },
   {
    "duration": 331,
    "start_time": "2023-08-06T22:15:47.469Z"
   },
   {
    "duration": 9,
    "start_time": "2023-08-06T22:15:47.802Z"
   },
   {
    "duration": 65,
    "start_time": "2023-08-06T22:15:47.813Z"
   },
   {
    "duration": 848,
    "start_time": "2023-08-07T05:49:10.889Z"
   },
   {
    "duration": 175,
    "start_time": "2023-08-07T05:49:11.739Z"
   },
   {
    "duration": 12,
    "start_time": "2023-08-07T05:49:11.915Z"
   },
   {
    "duration": 22,
    "start_time": "2023-08-07T05:49:11.929Z"
   },
   {
    "duration": 16,
    "start_time": "2023-08-07T05:49:11.953Z"
   },
   {
    "duration": 9,
    "start_time": "2023-08-07T05:49:11.970Z"
   },
   {
    "duration": 205,
    "start_time": "2023-08-07T05:49:11.980Z"
   },
   {
    "duration": 56,
    "start_time": "2023-08-07T05:49:12.186Z"
   },
   {
    "duration": 13,
    "start_time": "2023-08-07T05:49:12.244Z"
   },
   {
    "duration": 173,
    "start_time": "2023-08-07T05:49:12.260Z"
   },
   {
    "duration": 14,
    "start_time": "2023-08-07T05:49:12.434Z"
   },
   {
    "duration": 18,
    "start_time": "2023-08-07T05:49:12.449Z"
   },
   {
    "duration": 62,
    "start_time": "2023-08-07T05:49:12.469Z"
   },
   {
    "duration": 5,
    "start_time": "2023-08-07T05:49:12.532Z"
   },
   {
    "duration": 307,
    "start_time": "2023-08-07T05:49:12.538Z"
   },
   {
    "duration": 5,
    "start_time": "2023-08-07T05:49:12.846Z"
   },
   {
    "duration": 162,
    "start_time": "2023-08-07T05:49:12.853Z"
   },
   {
    "duration": 13,
    "start_time": "2023-08-07T05:49:13.017Z"
   },
   {
    "duration": 16,
    "start_time": "2023-08-07T05:49:13.032Z"
   },
   {
    "duration": 53,
    "start_time": "2023-08-07T05:49:13.050Z"
   },
   {
    "duration": 117,
    "start_time": "2023-08-07T05:49:13.104Z"
   },
   {
    "duration": 6,
    "start_time": "2023-08-07T05:49:13.222Z"
   },
   {
    "duration": 24,
    "start_time": "2023-08-07T05:49:13.230Z"
   },
   {
    "duration": 22,
    "start_time": "2023-08-07T05:49:13.255Z"
   },
   {
    "duration": 113,
    "start_time": "2023-08-07T05:49:13.278Z"
   },
   {
    "duration": 8,
    "start_time": "2023-08-07T05:49:13.392Z"
   },
   {
    "duration": 311,
    "start_time": "2023-08-07T05:49:13.401Z"
   },
   {
    "duration": 10,
    "start_time": "2023-08-07T05:49:13.715Z"
   },
   {
    "duration": 11,
    "start_time": "2023-08-07T05:49:13.726Z"
   },
   {
    "duration": 28,
    "start_time": "2023-08-07T05:49:13.739Z"
   },
   {
    "duration": 202,
    "start_time": "2023-08-07T05:49:13.768Z"
   },
   {
    "duration": 5,
    "start_time": "2023-08-07T05:49:13.971Z"
   },
   {
    "duration": 153,
    "start_time": "2023-08-07T05:49:13.978Z"
   },
   {
    "duration": 11,
    "start_time": "2023-08-07T05:49:14.132Z"
   },
   {
    "duration": 74,
    "start_time": "2023-08-07T05:49:14.145Z"
   },
   {
    "duration": 30,
    "start_time": "2023-08-07T05:49:14.221Z"
   },
   {
    "duration": 143,
    "start_time": "2023-08-07T05:49:14.253Z"
   },
   {
    "duration": 7,
    "start_time": "2023-08-07T05:49:14.397Z"
   },
   {
    "duration": 12,
    "start_time": "2023-08-07T05:49:14.405Z"
   },
   {
    "duration": 15,
    "start_time": "2023-08-07T05:49:14.418Z"
   },
   {
    "duration": 134,
    "start_time": "2023-08-07T05:49:14.434Z"
   },
   {
    "duration": 207,
    "start_time": "2023-08-07T05:49:14.570Z"
   },
   {
    "duration": 154,
    "start_time": "2023-08-07T05:49:14.778Z"
   },
   {
    "duration": 9,
    "start_time": "2023-08-07T05:49:14.934Z"
   },
   {
    "duration": 16,
    "start_time": "2023-08-07T05:49:14.945Z"
   },
   {
    "duration": 1252,
    "start_time": "2023-08-07T08:16:23.317Z"
   },
   {
    "duration": 399,
    "start_time": "2023-08-07T08:16:24.574Z"
   },
   {
    "duration": 17,
    "start_time": "2023-08-07T08:16:24.980Z"
   },
   {
    "duration": 25,
    "start_time": "2023-08-07T08:16:25.055Z"
   },
   {
    "duration": 93,
    "start_time": "2023-08-07T08:16:25.086Z"
   },
   {
    "duration": 12,
    "start_time": "2023-08-07T08:16:25.185Z"
   },
   {
    "duration": 587,
    "start_time": "2023-08-07T08:16:25.201Z"
   },
   {
    "duration": 186,
    "start_time": "2023-08-07T08:16:25.791Z"
   },
   {
    "duration": 19,
    "start_time": "2023-08-07T08:16:25.980Z"
   },
   {
    "duration": 124,
    "start_time": "2023-08-07T08:16:26.002Z"
   },
   {
    "duration": 35,
    "start_time": "2023-08-07T08:16:26.157Z"
   },
   {
    "duration": 67,
    "start_time": "2023-08-07T08:16:26.194Z"
   },
   {
    "duration": 188,
    "start_time": "2023-08-07T08:16:26.269Z"
   },
   {
    "duration": 12,
    "start_time": "2023-08-07T08:16:26.459Z"
   },
   {
    "duration": 1122,
    "start_time": "2023-08-07T08:16:26.472Z"
   },
   {
    "duration": 67,
    "start_time": "2023-08-07T08:16:27.596Z"
   },
   {
    "duration": 214,
    "start_time": "2023-08-07T08:16:27.669Z"
   },
   {
    "duration": 16,
    "start_time": "2023-08-07T08:16:27.885Z"
   },
   {
    "duration": 15,
    "start_time": "2023-08-07T08:16:27.903Z"
   },
   {
    "duration": 151,
    "start_time": "2023-08-07T08:16:27.920Z"
   },
   {
    "duration": 235,
    "start_time": "2023-08-07T08:16:28.073Z"
   },
   {
    "duration": 9,
    "start_time": "2023-08-07T08:16:28.311Z"
   },
   {
    "duration": 56,
    "start_time": "2023-08-07T08:16:28.323Z"
   },
   {
    "duration": 89,
    "start_time": "2023-08-07T08:16:28.383Z"
   },
   {
    "duration": 209,
    "start_time": "2023-08-07T08:16:28.477Z"
   },
   {
    "duration": 6,
    "start_time": "2023-08-07T08:16:28.688Z"
   },
   {
    "duration": 291,
    "start_time": "2023-08-07T08:16:28.696Z"
   },
   {
    "duration": 69,
    "start_time": "2023-08-07T08:16:28.994Z"
   },
   {
    "duration": 17,
    "start_time": "2023-08-07T08:16:29.068Z"
   },
   {
    "duration": 107,
    "start_time": "2023-08-07T08:16:29.087Z"
   },
   {
    "duration": 593,
    "start_time": "2023-08-07T08:16:29.196Z"
   },
   {
    "duration": 8,
    "start_time": "2023-08-07T08:16:29.793Z"
   },
   {
    "duration": 214,
    "start_time": "2023-08-07T08:16:29.861Z"
   },
   {
    "duration": 18,
    "start_time": "2023-08-07T08:16:30.082Z"
   },
   {
    "duration": 81,
    "start_time": "2023-08-07T08:16:30.102Z"
   },
   {
    "duration": 99,
    "start_time": "2023-08-07T08:16:30.186Z"
   },
   {
    "duration": 310,
    "start_time": "2023-08-07T08:16:30.365Z"
   },
   {
    "duration": 11,
    "start_time": "2023-08-07T08:16:30.677Z"
   },
   {
    "duration": 81,
    "start_time": "2023-08-07T08:16:30.690Z"
   },
   {
    "duration": 88,
    "start_time": "2023-08-07T08:16:30.779Z"
   },
   {
    "duration": 399,
    "start_time": "2023-08-07T08:16:30.871Z"
   },
   {
    "duration": 706,
    "start_time": "2023-08-07T08:16:31.277Z"
   },
   {
    "duration": 514,
    "start_time": "2023-08-07T08:16:31.985Z"
   },
   {
    "duration": 15,
    "start_time": "2023-08-07T08:16:32.557Z"
   },
   {
    "duration": 95,
    "start_time": "2023-08-07T08:16:32.578Z"
   },
   {
    "duration": 822,
    "start_time": "2023-08-07T08:24:55.962Z"
   },
   {
    "duration": 188,
    "start_time": "2023-08-07T08:24:56.786Z"
   },
   {
    "duration": 18,
    "start_time": "2023-08-07T08:24:56.977Z"
   },
   {
    "duration": 29,
    "start_time": "2023-08-07T08:24:56.998Z"
   },
   {
    "duration": 19,
    "start_time": "2023-08-07T08:24:57.029Z"
   },
   {
    "duration": 17,
    "start_time": "2023-08-07T08:24:57.057Z"
   },
   {
    "duration": 251,
    "start_time": "2023-08-07T08:24:57.077Z"
   },
   {
    "duration": 75,
    "start_time": "2023-08-07T08:24:57.330Z"
   },
   {
    "duration": 18,
    "start_time": "2023-08-07T08:24:57.408Z"
   },
   {
    "duration": 139,
    "start_time": "2023-08-07T08:24:57.430Z"
   },
   {
    "duration": 16,
    "start_time": "2023-08-07T08:24:57.573Z"
   },
   {
    "duration": 19,
    "start_time": "2023-08-07T08:24:57.591Z"
   },
   {
    "duration": 72,
    "start_time": "2023-08-07T08:24:57.612Z"
   },
   {
    "duration": 6,
    "start_time": "2023-08-07T08:24:57.686Z"
   },
   {
    "duration": 423,
    "start_time": "2023-08-07T08:24:57.694Z"
   },
   {
    "duration": 7,
    "start_time": "2023-08-07T08:24:58.120Z"
   },
   {
    "duration": 175,
    "start_time": "2023-08-07T08:24:58.128Z"
   },
   {
    "duration": 18,
    "start_time": "2023-08-07T08:24:58.305Z"
   },
   {
    "duration": 16,
    "start_time": "2023-08-07T08:24:58.325Z"
   },
   {
    "duration": 75,
    "start_time": "2023-08-07T08:24:58.343Z"
   },
   {
    "duration": 143,
    "start_time": "2023-08-07T08:24:58.420Z"
   },
   {
    "duration": 9,
    "start_time": "2023-08-07T08:24:58.565Z"
   },
   {
    "duration": 10,
    "start_time": "2023-08-07T08:24:58.576Z"
   },
   {
    "duration": 25,
    "start_time": "2023-08-07T08:24:58.589Z"
   },
   {
    "duration": 157,
    "start_time": "2023-08-07T08:24:58.617Z"
   },
   {
    "duration": 6,
    "start_time": "2023-08-07T08:24:58.776Z"
   },
   {
    "duration": 164,
    "start_time": "2023-08-07T08:24:58.783Z"
   },
   {
    "duration": 20,
    "start_time": "2023-08-07T08:24:58.952Z"
   },
   {
    "duration": 25,
    "start_time": "2023-08-07T08:24:58.973Z"
   },
   {
    "duration": 47,
    "start_time": "2023-08-07T08:24:59.000Z"
   },
   {
    "duration": 327,
    "start_time": "2023-08-07T08:24:59.050Z"
   },
   {
    "duration": 7,
    "start_time": "2023-08-07T08:24:59.379Z"
   },
   {
    "duration": 163,
    "start_time": "2023-08-07T08:24:59.387Z"
   },
   {
    "duration": 14,
    "start_time": "2023-08-07T08:24:59.552Z"
   },
   {
    "duration": 17,
    "start_time": "2023-08-07T08:24:59.568Z"
   },
   {
    "duration": 38,
    "start_time": "2023-08-07T08:24:59.587Z"
   },
   {
    "duration": 242,
    "start_time": "2023-08-07T08:24:59.626Z"
   },
   {
    "duration": 10,
    "start_time": "2023-08-07T08:24:59.875Z"
   },
   {
    "duration": 16,
    "start_time": "2023-08-07T08:24:59.887Z"
   },
   {
    "duration": 24,
    "start_time": "2023-08-07T08:24:59.905Z"
   },
   {
    "duration": 173,
    "start_time": "2023-08-07T08:24:59.931Z"
   },
   {
    "duration": 258,
    "start_time": "2023-08-07T08:25:00.106Z"
   },
   {
    "duration": 207,
    "start_time": "2023-08-07T08:25:00.366Z"
   },
   {
    "duration": 10,
    "start_time": "2023-08-07T08:25:00.576Z"
   },
   {
    "duration": 34,
    "start_time": "2023-08-07T08:25:00.587Z"
   },
   {
    "duration": 7436,
    "start_time": "2023-08-07T22:27:19.116Z"
   },
   {
    "duration": 2491,
    "start_time": "2023-08-07T22:27:26.555Z"
   },
   {
    "duration": 2874,
    "start_time": "2023-08-07T22:27:29.048Z"
   },
   {
    "duration": 251,
    "start_time": "2023-08-07T22:27:31.925Z"
   },
   {
    "duration": 14,
    "start_time": "2023-08-07T22:27:32.178Z"
   },
   {
    "duration": 29,
    "start_time": "2023-08-07T22:27:32.194Z"
   },
   {
    "duration": 37,
    "start_time": "2023-08-07T22:27:32.225Z"
   },
   {
    "duration": 27,
    "start_time": "2023-08-07T22:27:32.264Z"
   },
   {
    "duration": 210,
    "start_time": "2023-08-07T22:27:32.293Z"
   },
   {
    "duration": 55,
    "start_time": "2023-08-07T22:27:32.505Z"
   },
   {
    "duration": 13,
    "start_time": "2023-08-07T22:27:32.561Z"
   },
   {
    "duration": 205,
    "start_time": "2023-08-07T22:27:32.575Z"
   },
   {
    "duration": 15,
    "start_time": "2023-08-07T22:27:32.782Z"
   },
   {
    "duration": 15,
    "start_time": "2023-08-07T22:27:32.798Z"
   },
   {
    "duration": 52,
    "start_time": "2023-08-07T22:27:32.815Z"
   },
   {
    "duration": 5,
    "start_time": "2023-08-07T22:27:32.870Z"
   },
   {
    "duration": 376,
    "start_time": "2023-08-07T22:27:32.877Z"
   },
   {
    "duration": 6,
    "start_time": "2023-08-07T22:27:33.258Z"
   },
   {
    "duration": 128,
    "start_time": "2023-08-07T22:27:33.265Z"
   },
   {
    "duration": 15,
    "start_time": "2023-08-07T22:27:33.395Z"
   },
   {
    "duration": 15,
    "start_time": "2023-08-07T22:27:33.412Z"
   },
   {
    "duration": 61,
    "start_time": "2023-08-07T22:27:33.428Z"
   },
   {
    "duration": 165,
    "start_time": "2023-08-07T22:27:33.490Z"
   },
   {
    "duration": 8,
    "start_time": "2023-08-07T22:27:33.656Z"
   },
   {
    "duration": 16,
    "start_time": "2023-08-07T22:27:33.665Z"
   },
   {
    "duration": 28,
    "start_time": "2023-08-07T22:27:33.683Z"
   },
   {
    "duration": 119,
    "start_time": "2023-08-07T22:27:33.712Z"
   },
   {
    "duration": 6,
    "start_time": "2023-08-07T22:27:33.835Z"
   },
   {
    "duration": 660,
    "start_time": "2023-08-07T22:27:33.842Z"
   },
   {
    "duration": 13,
    "start_time": "2023-08-07T22:27:34.504Z"
   },
   {
    "duration": 19,
    "start_time": "2023-08-07T22:27:34.519Z"
   },
   {
    "duration": 35,
    "start_time": "2023-08-07T22:27:34.540Z"
   },
   {
    "duration": 237,
    "start_time": "2023-08-07T22:27:34.577Z"
   },
   {
    "duration": 5,
    "start_time": "2023-08-07T22:27:34.816Z"
   },
   {
    "duration": 138,
    "start_time": "2023-08-07T22:27:34.822Z"
   },
   {
    "duration": 12,
    "start_time": "2023-08-07T22:27:34.963Z"
   },
   {
    "duration": 12,
    "start_time": "2023-08-07T22:27:34.977Z"
   },
   {
    "duration": 34,
    "start_time": "2023-08-07T22:27:34.991Z"
   },
   {
    "duration": 173,
    "start_time": "2023-08-07T22:27:35.026Z"
   },
   {
    "duration": 8,
    "start_time": "2023-08-07T22:27:35.200Z"
   },
   {
    "duration": 11,
    "start_time": "2023-08-07T22:27:35.210Z"
   },
   {
    "duration": 17,
    "start_time": "2023-08-07T22:27:35.223Z"
   },
   {
    "duration": 130,
    "start_time": "2023-08-07T22:27:35.242Z"
   },
   {
    "duration": 221,
    "start_time": "2023-08-07T22:27:35.374Z"
   },
   {
    "duration": 169,
    "start_time": "2023-08-07T22:27:35.597Z"
   },
   {
    "duration": 12,
    "start_time": "2023-08-07T22:27:35.768Z"
   },
   {
    "duration": 13,
    "start_time": "2023-08-07T22:27:35.782Z"
   },
   {
    "duration": 3,
    "start_time": "2023-08-07T22:27:35.797Z"
   },
   {
    "duration": 28,
    "start_time": "2023-08-07T22:27:35.802Z"
   },
   {
    "duration": 17,
    "start_time": "2023-08-07T22:27:35.831Z"
   },
   {
    "duration": 120,
    "start_time": "2023-08-07T22:27:35.859Z"
   },
   {
    "duration": 11,
    "start_time": "2023-08-07T22:27:35.980Z"
   },
   {
    "duration": 25,
    "start_time": "2023-08-07T22:27:35.993Z"
   },
   {
    "duration": 40,
    "start_time": "2023-08-07T22:27:36.020Z"
   },
   {
    "duration": 22,
    "start_time": "2023-08-07T22:27:36.062Z"
   },
   {
    "duration": 114,
    "start_time": "2023-08-07T22:27:36.086Z"
   },
   {
    "duration": 11,
    "start_time": "2023-08-07T22:27:36.202Z"
   },
   {
    "duration": 17,
    "start_time": "2023-08-07T22:27:36.215Z"
   },
   {
    "duration": 30,
    "start_time": "2023-08-07T22:27:36.234Z"
   },
   {
    "duration": 16,
    "start_time": "2023-08-07T22:27:36.266Z"
   },
   {
    "duration": 107,
    "start_time": "2023-08-07T22:27:36.283Z"
   },
   {
    "duration": 8,
    "start_time": "2023-08-07T22:27:36.391Z"
   },
   {
    "duration": 9,
    "start_time": "2023-08-07T22:27:36.401Z"
   },
   {
    "duration": 10,
    "start_time": "2023-08-07T22:27:36.411Z"
   },
   {
    "duration": 7,
    "start_time": "2023-08-07T22:27:36.423Z"
   },
   {
    "duration": 29,
    "start_time": "2023-08-07T22:27:36.432Z"
   },
   {
    "duration": 26,
    "start_time": "2023-08-07T22:27:36.463Z"
   },
   {
    "duration": 10,
    "start_time": "2023-08-07T22:27:36.491Z"
   },
   {
    "duration": 140,
    "start_time": "2023-08-07T22:27:36.503Z"
   },
   {
    "duration": 28,
    "start_time": "2023-08-07T22:27:36.644Z"
   },
   {
    "duration": 408,
    "start_time": "2023-08-07T22:27:36.673Z"
   },
   {
    "duration": 19,
    "start_time": "2023-08-07T22:27:37.082Z"
   },
   {
    "duration": 319,
    "start_time": "2023-08-07T22:27:37.103Z"
   },
   {
    "duration": 0,
    "start_time": "2023-08-07T22:27:37.424Z"
   },
   {
    "duration": 0,
    "start_time": "2023-08-07T22:27:37.425Z"
   },
   {
    "duration": 0,
    "start_time": "2023-08-07T22:27:37.426Z"
   },
   {
    "duration": 0,
    "start_time": "2023-08-07T22:27:37.427Z"
   },
   {
    "duration": 0,
    "start_time": "2023-08-07T22:27:37.429Z"
   },
   {
    "duration": 0,
    "start_time": "2023-08-07T22:27:37.429Z"
   },
   {
    "duration": 0,
    "start_time": "2023-08-07T22:27:37.430Z"
   },
   {
    "duration": 0,
    "start_time": "2023-08-07T22:27:37.431Z"
   },
   {
    "duration": 0,
    "start_time": "2023-08-07T22:27:37.432Z"
   },
   {
    "duration": 0,
    "start_time": "2023-08-07T22:27:37.433Z"
   },
   {
    "duration": 0,
    "start_time": "2023-08-07T22:27:37.434Z"
   },
   {
    "duration": 0,
    "start_time": "2023-08-07T22:27:37.435Z"
   },
   {
    "duration": 0,
    "start_time": "2023-08-07T22:27:37.436Z"
   },
   {
    "duration": 0,
    "start_time": "2023-08-07T22:27:37.459Z"
   },
   {
    "duration": 0,
    "start_time": "2023-08-07T22:27:37.460Z"
   },
   {
    "duration": 0,
    "start_time": "2023-08-07T22:27:37.461Z"
   },
   {
    "duration": 0,
    "start_time": "2023-08-07T22:27:37.462Z"
   },
   {
    "duration": 0,
    "start_time": "2023-08-07T22:27:37.462Z"
   },
   {
    "duration": 0,
    "start_time": "2023-08-07T22:27:37.463Z"
   },
   {
    "duration": 0,
    "start_time": "2023-08-07T22:27:37.464Z"
   },
   {
    "duration": 3,
    "start_time": "2023-08-07T22:43:02.392Z"
   },
   {
    "duration": 4,
    "start_time": "2023-08-07T22:43:12.898Z"
   },
   {
    "duration": 2987,
    "start_time": "2023-08-07T22:46:41.461Z"
   },
   {
    "duration": 2501,
    "start_time": "2023-08-07T22:46:44.450Z"
   },
   {
    "duration": 2877,
    "start_time": "2023-08-07T22:46:46.952Z"
   },
   {
    "duration": 2971,
    "start_time": "2023-08-07T22:46:49.831Z"
   },
   {
    "duration": 170,
    "start_time": "2023-08-07T22:46:52.804Z"
   },
   {
    "duration": 15,
    "start_time": "2023-08-07T22:46:52.976Z"
   },
   {
    "duration": 17,
    "start_time": "2023-08-07T22:46:52.992Z"
   },
   {
    "duration": 19,
    "start_time": "2023-08-07T22:46:53.011Z"
   },
   {
    "duration": 10,
    "start_time": "2023-08-07T22:46:53.032Z"
   },
   {
    "duration": 618,
    "start_time": "2023-08-07T22:46:53.045Z"
   },
   {
    "duration": 102,
    "start_time": "2023-08-07T22:46:53.664Z"
   },
   {
    "duration": 13,
    "start_time": "2023-08-07T22:46:53.768Z"
   },
   {
    "duration": 387,
    "start_time": "2023-08-07T22:46:53.783Z"
   },
   {
    "duration": 22,
    "start_time": "2023-08-07T22:46:54.172Z"
   },
   {
    "duration": 66,
    "start_time": "2023-08-07T22:46:54.195Z"
   },
   {
    "duration": 104,
    "start_time": "2023-08-07T22:46:54.263Z"
   },
   {
    "duration": 5,
    "start_time": "2023-08-07T22:46:54.368Z"
   },
   {
    "duration": 720,
    "start_time": "2023-08-07T22:46:54.375Z"
   },
   {
    "duration": 5,
    "start_time": "2023-08-07T22:46:55.097Z"
   },
   {
    "duration": 276,
    "start_time": "2023-08-07T22:46:55.103Z"
   },
   {
    "duration": 14,
    "start_time": "2023-08-07T22:46:55.381Z"
   },
   {
    "duration": 13,
    "start_time": "2023-08-07T22:46:55.397Z"
   },
   {
    "duration": 62,
    "start_time": "2023-08-07T22:46:55.412Z"
   },
   {
    "duration": 101,
    "start_time": "2023-08-07T22:46:55.475Z"
   },
   {
    "duration": 6,
    "start_time": "2023-08-07T22:46:55.578Z"
   },
   {
    "duration": 18,
    "start_time": "2023-08-07T22:46:55.585Z"
   },
   {
    "duration": 26,
    "start_time": "2023-08-07T22:46:55.604Z"
   },
   {
    "duration": 280,
    "start_time": "2023-08-07T22:46:55.634Z"
   },
   {
    "duration": 7,
    "start_time": "2023-08-07T22:46:55.916Z"
   },
   {
    "duration": 142,
    "start_time": "2023-08-07T22:46:55.924Z"
   },
   {
    "duration": 14,
    "start_time": "2023-08-07T22:46:56.067Z"
   },
   {
    "duration": 14,
    "start_time": "2023-08-07T22:46:56.083Z"
   },
   {
    "duration": 36,
    "start_time": "2023-08-07T22:46:56.098Z"
   },
   {
    "duration": 368,
    "start_time": "2023-08-07T22:46:56.158Z"
   },
   {
    "duration": 6,
    "start_time": "2023-08-07T22:46:56.528Z"
   },
   {
    "duration": 132,
    "start_time": "2023-08-07T22:46:56.536Z"
   },
   {
    "duration": 12,
    "start_time": "2023-08-07T22:46:56.670Z"
   },
   {
    "duration": 11,
    "start_time": "2023-08-07T22:46:56.683Z"
   },
   {
    "duration": 34,
    "start_time": "2023-08-07T22:46:56.696Z"
   },
   {
    "duration": 140,
    "start_time": "2023-08-07T22:46:56.732Z"
   },
   {
    "duration": 7,
    "start_time": "2023-08-07T22:46:56.874Z"
   },
   {
    "duration": 12,
    "start_time": "2023-08-07T22:46:56.882Z"
   },
   {
    "duration": 20,
    "start_time": "2023-08-07T22:46:56.896Z"
   },
   {
    "duration": 298,
    "start_time": "2023-08-07T22:46:56.917Z"
   },
   {
    "duration": 415,
    "start_time": "2023-08-07T22:46:57.217Z"
   },
   {
    "duration": 373,
    "start_time": "2023-08-07T22:46:57.634Z"
   },
   {
    "duration": 12,
    "start_time": "2023-08-07T22:46:58.009Z"
   },
   {
    "duration": 12,
    "start_time": "2023-08-07T22:46:58.022Z"
   },
   {
    "duration": 3,
    "start_time": "2023-08-07T22:46:58.060Z"
   },
   {
    "duration": 52,
    "start_time": "2023-08-07T22:46:58.065Z"
   },
   {
    "duration": 13,
    "start_time": "2023-08-07T22:46:58.118Z"
   },
   {
    "duration": 276,
    "start_time": "2023-08-07T22:46:58.133Z"
   },
   {
    "duration": 9,
    "start_time": "2023-08-07T22:46:58.411Z"
   },
   {
    "duration": 38,
    "start_time": "2023-08-07T22:46:58.422Z"
   },
   {
    "duration": 17,
    "start_time": "2023-08-07T22:46:58.462Z"
   },
   {
    "duration": 16,
    "start_time": "2023-08-07T22:46:58.481Z"
   },
   {
    "duration": 210,
    "start_time": "2023-08-07T22:46:58.499Z"
   },
   {
    "duration": 11,
    "start_time": "2023-08-07T22:46:58.712Z"
   },
   {
    "duration": 38,
    "start_time": "2023-08-07T22:46:58.725Z"
   },
   {
    "duration": 12,
    "start_time": "2023-08-07T22:46:58.765Z"
   },
   {
    "duration": 21,
    "start_time": "2023-08-07T22:46:58.778Z"
   },
   {
    "duration": 211,
    "start_time": "2023-08-07T22:46:58.801Z"
   },
   {
    "duration": 8,
    "start_time": "2023-08-07T22:46:59.015Z"
   },
   {
    "duration": 13,
    "start_time": "2023-08-07T22:46:59.025Z"
   },
   {
    "duration": 28,
    "start_time": "2023-08-07T22:46:59.040Z"
   },
   {
    "duration": 8,
    "start_time": "2023-08-07T22:46:59.070Z"
   },
   {
    "duration": 17,
    "start_time": "2023-08-07T22:46:59.080Z"
   },
   {
    "duration": 24,
    "start_time": "2023-08-07T22:46:59.099Z"
   },
   {
    "duration": 12,
    "start_time": "2023-08-07T22:46:59.124Z"
   },
   {
    "duration": 33,
    "start_time": "2023-08-07T22:46:59.137Z"
   },
   {
    "duration": 18,
    "start_time": "2023-08-07T22:46:59.172Z"
   },
   {
    "duration": 773,
    "start_time": "2023-08-07T22:46:59.192Z"
   },
   {
    "duration": 19,
    "start_time": "2023-08-07T22:46:59.968Z"
   },
   {
    "duration": 2375,
    "start_time": "2023-08-07T22:46:59.990Z"
   },
   {
    "duration": 6,
    "start_time": "2023-08-07T22:47:02.367Z"
   },
   {
    "duration": 27,
    "start_time": "2023-08-07T22:47:02.375Z"
   },
   {
    "duration": 24,
    "start_time": "2023-08-07T22:47:02.404Z"
   },
   {
    "duration": 42,
    "start_time": "2023-08-07T22:47:02.430Z"
   },
   {
    "duration": 19,
    "start_time": "2023-08-07T22:47:02.474Z"
   },
   {
    "duration": 70,
    "start_time": "2023-08-07T22:47:02.495Z"
   },
   {
    "duration": 4,
    "start_time": "2023-08-07T22:47:02.567Z"
   },
   {
    "duration": 112240,
    "start_time": "2023-08-07T22:47:02.663Z"
   },
   {
    "duration": 5,
    "start_time": "2023-08-07T22:48:54.904Z"
   },
   {
    "duration": 23,
    "start_time": "2023-08-07T22:48:54.912Z"
   },
   {
    "duration": 186317,
    "start_time": "2023-08-07T22:48:54.937Z"
   },
   {
    "duration": 4,
    "start_time": "2023-08-07T22:52:01.255Z"
   },
   {
    "duration": 48,
    "start_time": "2023-08-07T22:52:01.261Z"
   },
   {
    "duration": 1551566,
    "start_time": "2023-08-07T22:52:01.311Z"
   },
   {
    "duration": 83,
    "start_time": "2023-08-07T23:17:52.880Z"
   },
   {
    "duration": 282,
    "start_time": "2023-08-07T23:17:52.965Z"
   },
   {
    "duration": 4489,
    "start_time": "2023-08-07T23:17:53.248Z"
   },
   {
    "duration": 7,
    "start_time": "2023-08-07T23:17:57.738Z"
   },
   {
    "duration": 6,
    "start_time": "2023-08-07T23:17:57.746Z"
   },
   {
    "duration": 417,
    "start_time": "2023-08-07T23:17:57.753Z"
   },
   {
    "duration": 8077,
    "start_time": "2023-08-08T08:34:51.551Z"
   },
   {
    "duration": 3065,
    "start_time": "2023-08-08T08:34:59.630Z"
   },
   {
    "duration": 1788,
    "start_time": "2023-08-08T08:35:02.697Z"
   },
   {
    "duration": 231,
    "start_time": "2023-08-08T08:35:04.487Z"
   },
   {
    "duration": 14,
    "start_time": "2023-08-08T08:35:04.720Z"
   },
   {
    "duration": 20,
    "start_time": "2023-08-08T08:35:04.735Z"
   },
   {
    "duration": 44,
    "start_time": "2023-08-08T08:35:04.757Z"
   },
   {
    "duration": 12,
    "start_time": "2023-08-08T08:35:04.803Z"
   },
   {
    "duration": 244,
    "start_time": "2023-08-08T08:35:04.817Z"
   },
   {
    "duration": 53,
    "start_time": "2023-08-08T08:35:05.063Z"
   },
   {
    "duration": 14,
    "start_time": "2023-08-08T08:35:05.117Z"
   },
   {
    "duration": 133,
    "start_time": "2023-08-08T08:35:05.133Z"
   },
   {
    "duration": 19,
    "start_time": "2023-08-08T08:35:05.268Z"
   },
   {
    "duration": 57,
    "start_time": "2023-08-08T08:35:05.288Z"
   },
   {
    "duration": 153,
    "start_time": "2023-08-08T08:35:05.347Z"
   },
   {
    "duration": 6,
    "start_time": "2023-08-08T08:35:05.501Z"
   },
   {
    "duration": 307,
    "start_time": "2023-08-08T08:35:05.508Z"
   },
   {
    "duration": 5,
    "start_time": "2023-08-08T08:35:05.817Z"
   },
   {
    "duration": 390,
    "start_time": "2023-08-08T08:35:05.824Z"
   },
   {
    "duration": 14,
    "start_time": "2023-08-08T08:35:06.216Z"
   },
   {
    "duration": 57,
    "start_time": "2023-08-08T08:35:06.232Z"
   },
   {
    "duration": 84,
    "start_time": "2023-08-08T08:35:06.290Z"
   },
   {
    "duration": 107,
    "start_time": "2023-08-08T08:35:06.376Z"
   },
   {
    "duration": 7,
    "start_time": "2023-08-08T08:35:06.485Z"
   },
   {
    "duration": 15,
    "start_time": "2023-08-08T08:35:06.494Z"
   },
   {
    "duration": 19,
    "start_time": "2023-08-08T08:35:06.511Z"
   },
   {
    "duration": 128,
    "start_time": "2023-08-08T08:35:06.532Z"
   },
   {
    "duration": 6,
    "start_time": "2023-08-08T08:35:06.665Z"
   },
   {
    "duration": 144,
    "start_time": "2023-08-08T08:35:06.672Z"
   },
   {
    "duration": 11,
    "start_time": "2023-08-08T08:35:06.818Z"
   },
   {
    "duration": 26,
    "start_time": "2023-08-08T08:35:06.831Z"
   },
   {
    "duration": 50,
    "start_time": "2023-08-08T08:35:06.859Z"
   },
   {
    "duration": 219,
    "start_time": "2023-08-08T08:35:06.911Z"
   },
   {
    "duration": 5,
    "start_time": "2023-08-08T08:35:07.131Z"
   },
   {
    "duration": 145,
    "start_time": "2023-08-08T08:35:07.137Z"
   },
   {
    "duration": 10,
    "start_time": "2023-08-08T08:35:07.284Z"
   },
   {
    "duration": 44,
    "start_time": "2023-08-08T08:35:07.296Z"
   },
   {
    "duration": 38,
    "start_time": "2023-08-08T08:35:07.341Z"
   },
   {
    "duration": 176,
    "start_time": "2023-08-08T08:35:07.381Z"
   },
   {
    "duration": 7,
    "start_time": "2023-08-08T08:35:07.559Z"
   },
   {
    "duration": 15,
    "start_time": "2023-08-08T08:35:07.568Z"
   },
   {
    "duration": 18,
    "start_time": "2023-08-08T08:35:07.949Z"
   },
   {
    "duration": 113,
    "start_time": "2023-08-08T08:35:08.326Z"
   },
   {
    "duration": 237,
    "start_time": "2023-08-08T08:35:09.642Z"
   },
   {
    "duration": 157,
    "start_time": "2023-08-08T08:35:10.233Z"
   },
   {
    "duration": 9,
    "start_time": "2023-08-08T08:35:11.036Z"
   },
   {
    "duration": 11,
    "start_time": "2023-08-08T08:35:11.443Z"
   },
   {
    "duration": 3,
    "start_time": "2023-08-08T08:35:12.883Z"
   },
   {
    "duration": 12,
    "start_time": "2023-08-08T08:35:12.998Z"
   },
   {
    "duration": 10,
    "start_time": "2023-08-08T08:35:13.503Z"
   },
   {
    "duration": 123,
    "start_time": "2023-08-08T08:35:13.689Z"
   },
   {
    "duration": 11,
    "start_time": "2023-08-08T08:35:14.613Z"
   },
   {
    "duration": 23,
    "start_time": "2023-08-08T08:35:15.006Z"
   },
   {
    "duration": 17,
    "start_time": "2023-08-08T08:35:15.612Z"
   },
   {
    "duration": 17,
    "start_time": "2023-08-08T08:35:16.006Z"
   },
   {
    "duration": 94,
    "start_time": "2023-08-08T08:35:16.381Z"
   },
   {
    "duration": 10,
    "start_time": "2023-08-08T08:35:17.819Z"
   },
   {
    "duration": 17,
    "start_time": "2023-08-08T08:35:18.479Z"
   },
   {
    "duration": 11,
    "start_time": "2023-08-08T08:35:19.067Z"
   },
   {
    "duration": 11,
    "start_time": "2023-08-08T08:35:20.036Z"
   },
   {
    "duration": 197,
    "start_time": "2023-08-08T08:35:20.794Z"
   },
   {
    "duration": 7,
    "start_time": "2023-08-08T08:35:22.856Z"
   },
   {
    "duration": 8,
    "start_time": "2023-08-08T08:35:23.683Z"
   },
   {
    "duration": 10,
    "start_time": "2023-08-08T08:35:24.210Z"
   },
   {
    "duration": 10,
    "start_time": "2023-08-08T08:35:24.867Z"
   },
   {
    "duration": 5,
    "start_time": "2023-08-08T08:35:25.319Z"
   },
   {
    "duration": 15,
    "start_time": "2023-08-08T08:35:26.188Z"
   },
   {
    "duration": 11,
    "start_time": "2023-08-08T08:35:26.685Z"
   },
   {
    "duration": 17,
    "start_time": "2023-08-08T08:35:26.956Z"
   },
   {
    "duration": 17,
    "start_time": "2023-08-08T08:35:27.553Z"
   },
   {
    "duration": 434,
    "start_time": "2023-08-08T08:35:28.380Z"
   },
   {
    "duration": 17,
    "start_time": "2023-08-08T08:35:34.010Z"
   },
   {
    "duration": 317,
    "start_time": "2023-08-08T08:35:36.912Z"
   },
   {
    "duration": 2008,
    "start_time": "2023-08-08T08:36:38.868Z"
   },
   {
    "duration": 3320,
    "start_time": "2023-08-08T08:36:59.345Z"
   },
   {
    "duration": 2476,
    "start_time": "2023-08-08T08:37:02.667Z"
   },
   {
    "duration": 1660,
    "start_time": "2023-08-08T08:37:05.146Z"
   },
   {
    "duration": 177,
    "start_time": "2023-08-08T08:37:06.808Z"
   },
   {
    "duration": 15,
    "start_time": "2023-08-08T08:37:06.986Z"
   },
   {
    "duration": 18,
    "start_time": "2023-08-08T08:37:07.003Z"
   },
   {
    "duration": 71,
    "start_time": "2023-08-08T08:37:07.024Z"
   },
   {
    "duration": 11,
    "start_time": "2023-08-08T08:37:07.097Z"
   },
   {
    "duration": 517,
    "start_time": "2023-08-08T08:37:07.109Z"
   },
   {
    "duration": 60,
    "start_time": "2023-08-08T08:37:07.628Z"
   },
   {
    "duration": 13,
    "start_time": "2023-08-08T08:37:07.690Z"
   },
   {
    "duration": 369,
    "start_time": "2023-08-08T08:37:07.704Z"
   },
   {
    "duration": 15,
    "start_time": "2023-08-08T08:37:08.075Z"
   },
   {
    "duration": 40,
    "start_time": "2023-08-08T08:37:08.092Z"
   },
   {
    "duration": 65,
    "start_time": "2023-08-08T08:37:08.134Z"
   },
   {
    "duration": 5,
    "start_time": "2023-08-08T08:37:08.201Z"
   },
   {
    "duration": 480,
    "start_time": "2023-08-08T08:37:08.207Z"
   },
   {
    "duration": 5,
    "start_time": "2023-08-08T08:37:08.689Z"
   },
   {
    "duration": 221,
    "start_time": "2023-08-08T08:37:08.696Z"
   },
   {
    "duration": 13,
    "start_time": "2023-08-08T08:37:08.919Z"
   },
   {
    "duration": 17,
    "start_time": "2023-08-08T08:37:08.934Z"
   },
   {
    "duration": 58,
    "start_time": "2023-08-08T08:37:08.952Z"
   },
   {
    "duration": 83,
    "start_time": "2023-08-08T08:37:09.012Z"
   },
   {
    "duration": 7,
    "start_time": "2023-08-08T08:37:09.097Z"
   },
   {
    "duration": 16,
    "start_time": "2023-08-08T08:37:09.106Z"
   },
   {
    "duration": 37,
    "start_time": "2023-08-08T08:37:09.124Z"
   },
   {
    "duration": 290,
    "start_time": "2023-08-08T08:37:09.162Z"
   },
   {
    "duration": 4,
    "start_time": "2023-08-08T08:37:09.456Z"
   },
   {
    "duration": 85,
    "start_time": "2023-08-08T08:37:09.461Z"
   },
   {
    "duration": 11,
    "start_time": "2023-08-08T08:37:09.548Z"
   },
   {
    "duration": 26,
    "start_time": "2023-08-08T08:37:09.560Z"
   },
   {
    "duration": 67,
    "start_time": "2023-08-08T08:37:09.588Z"
   },
   {
    "duration": 374,
    "start_time": "2023-08-08T08:37:09.656Z"
   },
   {
    "duration": 6,
    "start_time": "2023-08-08T08:37:10.031Z"
   },
   {
    "duration": 156,
    "start_time": "2023-08-08T08:37:10.038Z"
   },
   {
    "duration": 12,
    "start_time": "2023-08-08T08:37:10.196Z"
   },
   {
    "duration": 34,
    "start_time": "2023-08-08T08:37:10.209Z"
   },
   {
    "duration": 61,
    "start_time": "2023-08-08T08:37:10.245Z"
   },
   {
    "duration": 115,
    "start_time": "2023-08-08T08:37:10.307Z"
   },
   {
    "duration": 8,
    "start_time": "2023-08-08T08:37:10.424Z"
   },
   {
    "duration": 36,
    "start_time": "2023-08-08T08:37:10.433Z"
   },
   {
    "duration": 63,
    "start_time": "2023-08-08T08:37:10.471Z"
   },
   {
    "duration": 307,
    "start_time": "2023-08-08T08:37:10.536Z"
   },
   {
    "duration": 424,
    "start_time": "2023-08-08T08:37:10.845Z"
   },
   {
    "duration": 369,
    "start_time": "2023-08-08T08:37:11.271Z"
   },
   {
    "duration": 10,
    "start_time": "2023-08-08T08:37:11.641Z"
   },
   {
    "duration": 26,
    "start_time": "2023-08-08T08:37:11.652Z"
   },
   {
    "duration": 12,
    "start_time": "2023-08-08T08:37:11.680Z"
   },
   {
    "duration": 30,
    "start_time": "2023-08-08T08:37:11.693Z"
   },
   {
    "duration": 25,
    "start_time": "2023-08-08T08:37:11.725Z"
   },
   {
    "duration": 286,
    "start_time": "2023-08-08T08:37:11.752Z"
   },
   {
    "duration": 11,
    "start_time": "2023-08-08T08:37:12.040Z"
   },
   {
    "duration": 35,
    "start_time": "2023-08-08T08:37:12.053Z"
   },
   {
    "duration": 14,
    "start_time": "2023-08-08T08:37:12.090Z"
   },
   {
    "duration": 39,
    "start_time": "2023-08-08T08:37:12.105Z"
   },
   {
    "duration": 193,
    "start_time": "2023-08-08T08:37:12.146Z"
   },
   {
    "duration": 50,
    "start_time": "2023-08-08T08:37:12.341Z"
   },
   {
    "duration": 22,
    "start_time": "2023-08-08T08:37:12.393Z"
   },
   {
    "duration": 16,
    "start_time": "2023-08-08T08:37:12.417Z"
   },
   {
    "duration": 40,
    "start_time": "2023-08-08T08:37:12.434Z"
   },
   {
    "duration": 250,
    "start_time": "2023-08-08T08:37:12.476Z"
   },
   {
    "duration": 8,
    "start_time": "2023-08-08T08:37:12.728Z"
   },
   {
    "duration": 16,
    "start_time": "2023-08-08T08:37:12.738Z"
   },
   {
    "duration": 28,
    "start_time": "2023-08-08T08:37:12.756Z"
   },
   {
    "duration": 44,
    "start_time": "2023-08-08T08:37:12.787Z"
   },
   {
    "duration": 59,
    "start_time": "2023-08-08T08:37:12.833Z"
   },
   {
    "duration": 77,
    "start_time": "2023-08-08T08:37:12.894Z"
   },
   {
    "duration": 14,
    "start_time": "2023-08-08T08:37:12.973Z"
   },
   {
    "duration": 22,
    "start_time": "2023-08-08T08:37:12.989Z"
   },
   {
    "duration": 20,
    "start_time": "2023-08-08T08:37:13.013Z"
   },
   {
    "duration": 766,
    "start_time": "2023-08-08T08:37:13.035Z"
   },
   {
    "duration": 19,
    "start_time": "2023-08-08T08:37:13.803Z"
   },
   {
    "duration": 2343,
    "start_time": "2023-08-08T08:37:13.823Z"
   },
   {
    "duration": 4,
    "start_time": "2023-08-08T16:46:53.758Z"
   },
   {
    "duration": 13203,
    "start_time": "2023-08-08T16:46:53.764Z"
   },
   {
    "duration": 10094,
    "start_time": "2023-08-08T16:47:06.971Z"
   },
   {
    "duration": 994,
    "start_time": "2023-08-08T16:47:17.069Z"
   },
   {
    "duration": 116,
    "start_time": "2023-08-08T16:47:18.065Z"
   },
   {
    "duration": 173,
    "start_time": "2023-08-08T16:47:18.183Z"
   },
   {
    "duration": 122,
    "start_time": "2023-08-08T16:47:18.362Z"
   },
   {
    "duration": 166,
    "start_time": "2023-08-08T16:47:18.489Z"
   },
   {
    "duration": 1317,
    "start_time": "2023-08-08T16:47:18.658Z"
   },
   {
    "duration": 485,
    "start_time": "2023-08-08T16:47:19.977Z"
   },
   {
    "duration": 110,
    "start_time": "2023-08-08T16:47:20.468Z"
   },
   {
    "duration": 902,
    "start_time": "2023-08-08T16:47:20.666Z"
   },
   {
    "duration": 194,
    "start_time": "2023-08-08T16:47:21.572Z"
   },
   {
    "duration": 97,
    "start_time": "2023-08-08T16:47:21.768Z"
   },
   {
    "duration": 314,
    "start_time": "2023-08-08T16:47:21.868Z"
   },
   {
    "duration": 12,
    "start_time": "2023-08-08T16:47:22.259Z"
   },
   {
    "duration": 3097,
    "start_time": "2023-08-08T16:47:22.273Z"
   },
   {
    "duration": 8,
    "start_time": "2023-08-08T16:47:25.373Z"
   },
   {
    "duration": 895,
    "start_time": "2023-08-08T16:47:25.470Z"
   },
   {
    "duration": 106,
    "start_time": "2023-08-08T16:47:26.368Z"
   },
   {
    "duration": 97,
    "start_time": "2023-08-08T16:47:26.483Z"
   },
   {
    "duration": 492,
    "start_time": "2023-08-08T16:47:26.583Z"
   },
   {
    "duration": 588,
    "start_time": "2023-08-08T16:47:27.079Z"
   },
   {
    "duration": 94,
    "start_time": "2023-08-08T16:47:27.673Z"
   },
   {
    "duration": 95,
    "start_time": "2023-08-08T16:47:27.770Z"
   },
   {
    "duration": 304,
    "start_time": "2023-08-08T16:47:27.867Z"
   },
   {
    "duration": 880,
    "start_time": "2023-08-08T16:47:28.181Z"
   },
   {
    "duration": 9,
    "start_time": "2023-08-08T16:47:29.065Z"
   },
   {
    "duration": 976,
    "start_time": "2023-08-08T16:47:29.090Z"
   },
   {
    "duration": 194,
    "start_time": "2023-08-08T16:47:30.070Z"
   },
   {
    "duration": 16,
    "start_time": "2023-08-08T16:47:30.266Z"
   },
   {
    "duration": 225,
    "start_time": "2023-08-08T16:47:30.358Z"
   },
   {
    "duration": 1704,
    "start_time": "2023-08-08T16:47:30.666Z"
   },
   {
    "duration": 90,
    "start_time": "2023-08-08T16:47:32.373Z"
   },
   {
    "duration": 792,
    "start_time": "2023-08-08T16:47:32.466Z"
   },
   {
    "duration": 93,
    "start_time": "2023-08-08T16:47:33.276Z"
   },
   {
    "duration": 106,
    "start_time": "2023-08-08T16:47:33.371Z"
   },
   {
    "duration": 240,
    "start_time": "2023-08-08T16:47:33.556Z"
   },
   {
    "duration": 618,
    "start_time": "2023-08-08T16:47:33.860Z"
   },
   {
    "duration": 83,
    "start_time": "2023-08-08T16:47:34.480Z"
   },
   {
    "duration": 16,
    "start_time": "2023-08-08T16:47:34.565Z"
   },
   {
    "duration": 112,
    "start_time": "2023-08-08T16:47:34.660Z"
   },
   {
    "duration": 1083,
    "start_time": "2023-08-08T16:47:34.774Z"
   },
   {
    "duration": 1703,
    "start_time": "2023-08-08T16:47:35.860Z"
   },
   {
    "duration": 1300,
    "start_time": "2023-08-08T16:47:37.580Z"
   },
   {
    "duration": 87,
    "start_time": "2023-08-08T16:47:38.882Z"
   },
   {
    "duration": 118,
    "start_time": "2023-08-08T16:47:38.971Z"
   },
   {
    "duration": 12,
    "start_time": "2023-08-08T16:47:39.160Z"
   },
   {
    "duration": 186,
    "start_time": "2023-08-08T16:47:39.174Z"
   },
   {
    "duration": 19,
    "start_time": "2023-08-08T16:47:39.362Z"
   },
   {
    "duration": 724,
    "start_time": "2023-08-08T16:47:39.459Z"
   },
   {
    "duration": 25,
    "start_time": "2023-08-08T16:47:40.257Z"
   },
   {
    "duration": 188,
    "start_time": "2023-08-08T16:47:40.286Z"
   },
   {
    "duration": 200,
    "start_time": "2023-08-08T16:47:40.476Z"
   },
   {
    "duration": 187,
    "start_time": "2023-08-08T16:47:40.680Z"
   },
   {
    "duration": 888,
    "start_time": "2023-08-08T16:47:40.873Z"
   },
   {
    "duration": 104,
    "start_time": "2023-08-08T16:47:41.769Z"
   },
   {
    "duration": 101,
    "start_time": "2023-08-08T16:47:41.882Z"
   },
   {
    "duration": 22,
    "start_time": "2023-08-08T16:47:42.061Z"
   },
   {
    "duration": 21,
    "start_time": "2023-08-08T16:47:42.157Z"
   },
   {
    "duration": 794,
    "start_time": "2023-08-08T16:47:42.180Z"
   },
   {
    "duration": 189,
    "start_time": "2023-08-08T16:47:42.980Z"
   },
   {
    "duration": 101,
    "start_time": "2023-08-08T16:47:43.174Z"
   },
   {
    "duration": 28,
    "start_time": "2023-08-08T16:47:43.356Z"
   },
   {
    "duration": 11,
    "start_time": "2023-08-08T16:47:43.458Z"
   },
   {
    "duration": 107,
    "start_time": "2023-08-08T16:47:43.471Z"
   },
   {
    "duration": 95,
    "start_time": "2023-08-08T16:47:43.580Z"
   },
   {
    "duration": 101,
    "start_time": "2023-08-08T16:47:43.758Z"
   },
   {
    "duration": 1319,
    "start_time": "2023-08-08T16:47:43.861Z"
   },
   {
    "duration": 105,
    "start_time": "2023-08-08T16:47:45.271Z"
   },
   {
    "duration": 2484,
    "start_time": "2023-08-08T16:47:45.383Z"
   },
   {
    "duration": 110,
    "start_time": "2023-08-08T16:47:47.876Z"
   },
   {
    "duration": 167,
    "start_time": "2023-08-08T16:47:47.988Z"
   },
   {
    "duration": 303,
    "start_time": "2023-08-08T16:47:48.159Z"
   },
   {
    "duration": 15,
    "start_time": "2023-08-08T16:47:48.465Z"
   },
   {
    "duration": 983,
    "start_time": "2023-08-08T16:47:48.483Z"
   },
   {
    "duration": 698,
    "start_time": "2023-08-08T16:47:49.473Z"
   },
   {
    "duration": 1093,
    "start_time": "2023-08-08T16:47:50.174Z"
   },
   {
    "duration": 2308,
    "start_time": "2023-08-08T16:47:51.269Z"
   },
   {
    "duration": 2296,
    "start_time": "2023-08-08T16:47:53.579Z"
   },
   {
    "duration": 1797,
    "start_time": "2023-08-08T16:47:55.881Z"
   },
   {
    "duration": 2323,
    "start_time": "2023-08-08T16:47:57.692Z"
   },
   {
    "duration": 1108,
    "start_time": "2023-08-08T16:48:00.075Z"
   },
   {
    "duration": 20,
    "start_time": "2023-08-08T16:48:01.268Z"
   },
   {
    "duration": 18275,
    "start_time": "2023-08-08T16:48:01.290Z"
   },
   {
    "duration": 9,
    "start_time": "2023-08-08T16:48:19.567Z"
   },
   {
    "duration": 84,
    "start_time": "2023-08-08T16:48:19.580Z"
   },
   {
    "duration": 11,
    "start_time": "2023-08-08T16:48:19.669Z"
   },
   {
    "duration": 79,
    "start_time": "2023-08-08T16:48:19.685Z"
   },
   {
    "duration": 13,
    "start_time": "2023-08-08T16:48:19.774Z"
   },
   {
    "duration": 504,
    "start_time": "2023-08-08T16:48:19.858Z"
   },
   {
    "duration": 6,
    "start_time": "2023-08-08T16:48:20.367Z"
   },
   {
    "duration": 769503,
    "start_time": "2023-08-08T16:48:20.456Z"
   },
   {
    "duration": 14,
    "start_time": "2023-08-08T17:01:09.964Z"
   },
   {
    "duration": 77,
    "start_time": "2023-08-08T17:01:09.984Z"
   },
   {
    "duration": 1429902,
    "start_time": "2023-08-08T17:01:10.067Z"
   },
   {
    "duration": 8,
    "start_time": "2023-08-08T17:24:59.974Z"
   },
   {
    "duration": 14,
    "start_time": "2023-08-08T17:25:00.061Z"
   }
  ],
  "kernelspec": {
   "display_name": "Python 3 (ipykernel)",
   "language": "python",
   "name": "python3"
  },
  "language_info": {
   "codemirror_mode": {
    "name": "ipython",
    "version": 3
   },
   "file_extension": ".py",
   "mimetype": "text/x-python",
   "name": "python",
   "nbconvert_exporter": "python",
   "pygments_lexer": "ipython3",
   "version": "3.9.18"
  },
  "toc": {
   "base_numbering": 1,
   "nav_menu": {},
   "number_sections": true,
   "sideBar": true,
   "skip_h1_title": true,
   "title_cell": "Table of Contents",
   "title_sidebar": "Contents",
   "toc_cell": false,
   "toc_position": {
    "height": "calc(100% - 180px)",
    "left": "10px",
    "top": "150px",
    "width": "218.625px"
   },
   "toc_section_display": true,
   "toc_window_display": true
  }
 },
 "nbformat": 4,
 "nbformat_minor": 5
}
