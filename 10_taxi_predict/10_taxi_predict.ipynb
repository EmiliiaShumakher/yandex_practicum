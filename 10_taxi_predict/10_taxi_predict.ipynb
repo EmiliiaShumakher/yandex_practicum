{
 "cells": [
  {
   "cell_type": "markdown",
   "metadata": {
    "toc": true
   },
   "source": [
    "<h1>Содержание<span class=\"tocSkip\"></span></h1>\n",
    "<div class=\"toc\"><ul class=\"toc-item\"><li><span><a href=\"#Подготовка\" data-toc-modified-id=\"Подготовка-1\"><span class=\"toc-item-num\">1&nbsp;&nbsp;</span>Подготовка</a></span><ul class=\"toc-item\"><li><span><a href=\"#Обзор-данных\" data-toc-modified-id=\"Обзор-данных-1.1\"><span class=\"toc-item-num\">1.1&nbsp;&nbsp;</span>Обзор данных</a></span></li><li><span><a href=\"#Ресемплирование\" data-toc-modified-id=\"Ресемплирование-1.2\"><span class=\"toc-item-num\">1.2&nbsp;&nbsp;</span>Ресемплирование</a></span></li></ul></li><li><span><a href=\"#Анализ\" data-toc-modified-id=\"Анализ-2\"><span class=\"toc-item-num\">2&nbsp;&nbsp;</span>Анализ</a></span><ul class=\"toc-item\"><li><span><a href=\"#Скользящие-значения\" data-toc-modified-id=\"Скользящие-значения-2.1\"><span class=\"toc-item-num\">2.1&nbsp;&nbsp;</span>Скользящие значения</a></span></li><li><span><a href=\"#Тренды-и-сезонность\" data-toc-modified-id=\"Тренды-и-сезонность-2.2\"><span class=\"toc-item-num\">2.2&nbsp;&nbsp;</span>Тренды и сезонность</a></span></li><li><span><a href=\"#Недельная-сезонность\" data-toc-modified-id=\"Недельная-сезонность-2.3\"><span class=\"toc-item-num\">2.3&nbsp;&nbsp;</span>Недельная сезонность</a></span></li></ul></li><li><span><a href=\"#Обучение\" data-toc-modified-id=\"Обучение-3\"><span class=\"toc-item-num\">3&nbsp;&nbsp;</span>Обучение</a></span><ul class=\"toc-item\"><li><span><a href=\"#Разделение-на-выборки\" data-toc-modified-id=\"Разделение-на-выборки-3.1\"><span class=\"toc-item-num\">3.1&nbsp;&nbsp;</span>Разделение на выборки</a></span></li><li><span><a href=\"#Добавление-признаков\" data-toc-modified-id=\"Добавление-признаков-3.2\"><span class=\"toc-item-num\">3.2&nbsp;&nbsp;</span>Добавление признаков</a></span></li><li><span><a href=\"#LinearRegression\" data-toc-modified-id=\"LinearRegression-3.3\"><span class=\"toc-item-num\">3.3&nbsp;&nbsp;</span>LinearRegression</a></span></li><li><span><a href=\"#RandomForest\" data-toc-modified-id=\"RandomForest-3.4\"><span class=\"toc-item-num\">3.4&nbsp;&nbsp;</span>RandomForest</a></span></li><li><span><a href=\"#CatBoost\" data-toc-modified-id=\"CatBoost-3.5\"><span class=\"toc-item-num\">3.5&nbsp;&nbsp;</span>CatBoost</a></span></li><li><span><a href=\"#Сравнение-моделей\" data-toc-modified-id=\"Сравнение-моделей-3.6\"><span class=\"toc-item-num\">3.6&nbsp;&nbsp;</span>Сравнение моделей</a></span></li></ul></li><li><span><a href=\"#Тестирование\" data-toc-modified-id=\"Тестирование-4\"><span class=\"toc-item-num\">4&nbsp;&nbsp;</span>Тестирование</a></span></li><li><span><a href=\"#Чек-лист-проверки\" data-toc-modified-id=\"Чек-лист-проверки-5\"><span class=\"toc-item-num\">5&nbsp;&nbsp;</span>Чек-лист проверки</a></span></li></ul></div>"
   ]
  },
  {
   "cell_type": "markdown",
   "metadata": {},
   "source": [
    "#  Прогнозирование заказов такси"
   ]
  },
  {
   "cell_type": "markdown",
   "metadata": {},
   "source": [
    "Компания «Чётенькое такси» собрала исторические данные о заказах такси в аэропортах. Чтобы привлекать больше водителей в период пиковой нагрузки, нужно спрогнозировать количество заказов такси на следующий час. Постройте модель для такого предсказания.\n",
    "\n",
    "Значение метрики *RMSE* на тестовой выборке должно быть не больше 48.\n",
    "\n",
    "Вам нужно:\n",
    "\n",
    "1. Загрузить данные и выполнить их ресемплирование по одному часу.\n",
    "2. Проанализировать данные.\n",
    "3. Обучить разные модели с различными гиперпараметрами. Сделать тестовую выборку размером 10% от исходных данных.\n",
    "4. Проверить данные на тестовой выборке и сделать выводы.\n",
    "\n",
    "\n",
    "Данные лежат в файле `taxi.csv`. Количество заказов находится в столбце `num_orders` (от англ. *number of orders*, «число заказов»)."
   ]
  },
  {
   "cell_type": "markdown",
   "metadata": {},
   "source": [
    "## Подготовка"
   ]
  },
  {
   "cell_type": "code",
   "execution_count": 1,
   "metadata": {
    "tags": []
   },
   "outputs": [],
   "source": [
    "import pandas as pd\n",
    "import numpy as np\n",
    "import matplotlib.pyplot as plt\n",
    "from statsmodels.tsa.seasonal import seasonal_decompose\n",
    "from sklearn.preprocessing import OneHotEncoder\n",
    "from sklearn.model_selection import train_test_split\n",
    "from sklearn.metrics import mean_squared_error\n",
    "from sklearn.linear_model import LinearRegression\n",
    "from sklearn.ensemble import RandomForestRegressor\n",
    "from catboost import CatBoostRegressor"
   ]
  },
  {
   "cell_type": "markdown",
   "metadata": {},
   "source": [
    "Сразу указываем первый столбец индексом и переводим даты в `Dtype`."
   ]
  },
  {
   "cell_type": "code",
   "execution_count": 2,
   "metadata": {
    "tags": []
   },
   "outputs": [],
   "source": [
    "try:\n",
    "    data = pd.read_csv('datasets\\\\taxi.csv', index_col=[0], parse_dates=[0])\n",
    "except:\n",
    "    data = pd.read_csv('https://code.s3.yandex.net/datasets/taxi.csv', index_col=[0], parse_dates=[0]) "
   ]
  },
  {
   "cell_type": "markdown",
   "metadata": {},
   "source": [
    "### Обзор данных"
   ]
  },
  {
   "cell_type": "code",
   "execution_count": 3,
   "metadata": {
    "tags": []
   },
   "outputs": [
    {
     "name": "stdout",
     "output_type": "stream",
     "text": [
      "<class 'pandas.core.frame.DataFrame'>\n",
      "DatetimeIndex: 26496 entries, 2018-03-01 00:00:00 to 2018-08-31 23:50:00\n",
      "Data columns (total 1 columns):\n",
      " #   Column      Non-Null Count  Dtype\n",
      "---  ------      --------------  -----\n",
      " 0   num_orders  26496 non-null  int64\n",
      "dtypes: int64(1)\n",
      "memory usage: 414.0 KB\n"
     ]
    }
   ],
   "source": [
    "data.info()"
   ]
  },
  {
   "cell_type": "markdown",
   "metadata": {},
   "source": [
    "Пропусков нет"
   ]
  },
  {
   "cell_type": "markdown",
   "metadata": {},
   "source": [
    "Проверяем что данные монотонные"
   ]
  },
  {
   "cell_type": "code",
   "execution_count": 4,
   "metadata": {
    "tags": []
   },
   "outputs": [
    {
     "data": {
      "text/plain": [
       "True"
      ]
     },
     "execution_count": 4,
     "metadata": {},
     "output_type": "execute_result"
    }
   ],
   "source": [
    "data.index.is_monotonic"
   ]
  },
  {
   "cell_type": "markdown",
   "metadata": {},
   "source": [
    "Проверяю, что шаг между записями всегда 10 минут. Для этого добавляю к индексам 10 минут и сравниваю со следущими.  \n",
    "Если все сравнения верные, то их сумма будет на один меньше размера датасета.  \n",
    "Не знаю есть ли для этого автоматическая функция, я не нашла."
   ]
  },
  {
   "cell_type": "code",
   "execution_count": 5,
   "metadata": {
    "tags": []
   },
   "outputs": [
    {
     "data": {
      "text/plain": [
       "True"
      ]
     },
     "execution_count": 5,
     "metadata": {},
     "output_type": "execute_result"
    }
   ],
   "source": [
    "(data[1:].index == data[:-1].index + pd.Timedelta(minutes=10)).sum() == data.shape[0] - 1"
   ]
  },
  {
   "cell_type": "code",
   "execution_count": 6,
   "metadata": {
    "tags": []
   },
   "outputs": [
    {
     "data": {
      "text/html": [
       "<div>\n",
       "<style scoped>\n",
       "    .dataframe tbody tr th:only-of-type {\n",
       "        vertical-align: middle;\n",
       "    }\n",
       "\n",
       "    .dataframe tbody tr th {\n",
       "        vertical-align: top;\n",
       "    }\n",
       "\n",
       "    .dataframe thead th {\n",
       "        text-align: right;\n",
       "    }\n",
       "</style>\n",
       "<table border=\"1\" class=\"dataframe\">\n",
       "  <thead>\n",
       "    <tr style=\"text-align: right;\">\n",
       "      <th></th>\n",
       "      <th>count</th>\n",
       "      <th>mean</th>\n",
       "      <th>std</th>\n",
       "      <th>min</th>\n",
       "      <th>25%</th>\n",
       "      <th>50%</th>\n",
       "      <th>75%</th>\n",
       "      <th>max</th>\n",
       "    </tr>\n",
       "  </thead>\n",
       "  <tbody>\n",
       "    <tr>\n",
       "      <th>num_orders</th>\n",
       "      <td>26496.0</td>\n",
       "      <td>14.070463</td>\n",
       "      <td>9.21133</td>\n",
       "      <td>0.0</td>\n",
       "      <td>8.0</td>\n",
       "      <td>13.0</td>\n",
       "      <td>19.0</td>\n",
       "      <td>119.0</td>\n",
       "    </tr>\n",
       "  </tbody>\n",
       "</table>\n",
       "</div>"
      ],
      "text/plain": [
       "              count       mean      std  min  25%   50%   75%    max\n",
       "num_orders  26496.0  14.070463  9.21133  0.0  8.0  13.0  19.0  119.0"
      ]
     },
     "execution_count": 6,
     "metadata": {},
     "output_type": "execute_result"
    }
   ],
   "source": [
    "data.describe().T"
   ]
  },
  {
   "cell_type": "markdown",
   "metadata": {},
   "source": [
    "В среднем 14 заказов, максимум - 119. Явно аномалия, но значение вполне может быть реальным."
   ]
  },
  {
   "cell_type": "markdown",
   "metadata": {},
   "source": [
    "### Ресемплирование"
   ]
  },
  {
   "cell_type": "markdown",
   "metadata": {},
   "source": [
    "Так как нас интересует количество заказов, то при ресемплировании я буду использовать сумму."
   ]
  },
  {
   "cell_type": "code",
   "execution_count": 7,
   "metadata": {
    "tags": []
   },
   "outputs": [],
   "source": [
    "data = data.resample('1H').sum()"
   ]
  },
  {
   "cell_type": "code",
   "execution_count": 8,
   "metadata": {
    "tags": []
   },
   "outputs": [
    {
     "data": {
      "text/html": [
       "<div>\n",
       "<style scoped>\n",
       "    .dataframe tbody tr th:only-of-type {\n",
       "        vertical-align: middle;\n",
       "    }\n",
       "\n",
       "    .dataframe tbody tr th {\n",
       "        vertical-align: top;\n",
       "    }\n",
       "\n",
       "    .dataframe thead th {\n",
       "        text-align: right;\n",
       "    }\n",
       "</style>\n",
       "<table border=\"1\" class=\"dataframe\">\n",
       "  <thead>\n",
       "    <tr style=\"text-align: right;\">\n",
       "      <th></th>\n",
       "      <th>num_orders</th>\n",
       "    </tr>\n",
       "    <tr>\n",
       "      <th>datetime</th>\n",
       "      <th></th>\n",
       "    </tr>\n",
       "  </thead>\n",
       "  <tbody>\n",
       "    <tr>\n",
       "      <th>2018-03-01 00:00:00</th>\n",
       "      <td>124</td>\n",
       "    </tr>\n",
       "    <tr>\n",
       "      <th>2018-03-01 01:00:00</th>\n",
       "      <td>85</td>\n",
       "    </tr>\n",
       "    <tr>\n",
       "      <th>2018-03-01 02:00:00</th>\n",
       "      <td>71</td>\n",
       "    </tr>\n",
       "  </tbody>\n",
       "</table>\n",
       "</div>"
      ],
      "text/plain": [
       "                     num_orders\n",
       "datetime                       \n",
       "2018-03-01 00:00:00         124\n",
       "2018-03-01 01:00:00          85\n",
       "2018-03-01 02:00:00          71"
      ]
     },
     "execution_count": 8,
     "metadata": {},
     "output_type": "execute_result"
    }
   ],
   "source": [
    "data.head(3)"
   ]
  },
  {
   "cell_type": "markdown",
   "metadata": {},
   "source": [
    "## Анализ"
   ]
  },
  {
   "cell_type": "markdown",
   "metadata": {},
   "source": [
    "### Скользящие значения"
   ]
  },
  {
   "cell_type": "markdown",
   "metadata": {},
   "source": [
    "Рассмотрим скользящее среднее и стандартное отклонение.  \n",
    "Размер окна я установлю равным 24 - одни сутки. Мне кажется среднее значение за сутки (хоть окна и начинаются каждый час) имеет больше смысла, чем случайное значение."
   ]
  },
  {
   "cell_type": "code",
   "execution_count": 9,
   "metadata": {
    "tags": []
   },
   "outputs": [],
   "source": [
    "data_rolling = pd.DataFrame()"
   ]
  },
  {
   "cell_type": "code",
   "execution_count": 10,
   "metadata": {
    "tags": []
   },
   "outputs": [],
   "source": [
    "data_rolling['1D_rolling_mean'] = data['num_orders'].rolling(24).mean()\n",
    "data_rolling['1D_rolling_std'] = data['num_orders'].rolling(24).std()"
   ]
  },
  {
   "cell_type": "code",
   "execution_count": 11,
   "metadata": {
    "tags": []
   },
   "outputs": [
    {
     "data": {
      "image/png": "[encoded data removed]",
      "text/plain": [
       "<Figure size 640x480 with 1 Axes>"
      ]
     },
     "metadata": {},
     "output_type": "display_data"
    }
   ],
   "source": [
    "ax = data.plot()\n",
    "data_rolling.plot(ax=ax);"
   ]
  },
  {
   "cell_type": "markdown",
   "metadata": {},
   "source": [
    "Видно что среднее растёт, это должно радовать компанию.  \n",
    "Также растёт и стандартное оклонение. Это значит, что разница между активными часами и тихими растёт, что следует учитывать в работе."
   ]
  },
  {
   "cell_type": "markdown",
   "metadata": {},
   "source": [
    "### Тренды и сезонность"
   ]
  },
  {
   "cell_type": "code",
   "execution_count": 12,
   "metadata": {},
   "outputs": [],
   "source": [
    "decomposed = seasonal_decompose(data['num_orders'])"
   ]
  },
  {
   "cell_type": "markdown",
   "metadata": {},
   "source": [
    "Посторим графики. Сезонность я рассмотрю за одну неделю, так как у неё график повторяющийся."
   ]
  },
  {
   "cell_type": "code",
   "execution_count": 13,
   "metadata": {},
   "outputs": [
    {
     "data": {
      "image/png": "[encoded data removed]",
      "text/plain": [
       "<Figure size 1000x200 with 1 Axes>"
      ]
     },
     "metadata": {},
     "output_type": "display_data"
    },
    {
     "data": {
      "image/png": "[encoded data removed]",
      "text/plain": [
       "<Figure size 1000x200 with 1 Axes>"
      ]
     },
     "metadata": {},
     "output_type": "display_data"
    },
    {
     "data": {
      "image/png": "[encoded data removed]",
      "text/plain": [
       "<Figure size 1000x200 with 1 Axes>"
      ]
     },
     "metadata": {},
     "output_type": "display_data"
    }
   ],
   "source": [
    "decomposed.trend.plot(figsize=(10,2), legend='trend')\n",
    "plt.show();\n",
    "decomposed.seasonal['2018-08-01':'2018-08-07'].plot(figsize=(10,2), legend='seasonal')\n",
    "plt.show();\n",
    "decomposed.resid.plot(figsize=(10,2), legend='resid')\n",
    "plt.show();"
   ]
  },
  {
   "cell_type": "markdown",
   "metadata": {},
   "source": [
    "Тренд идёт вверх, количество заказов растёт.  \n",
    "Сезонность имеет период в одни сутки. Самый высокий спрос ночью, когда не ходит общественный транспорт. Самый низкий спрос рано утром. Вероятно в это время совершает посадку меньше самолётов, да и общественный транспорт уже ходит.  \n",
    "У шума растёт амплитуда, что влияет на стандартное отклонение. "
   ]
  },
  {
   "cell_type": "markdown",
   "metadata": {
    "tags": []
   },
   "source": [
    "### Недельная сезонность"
   ]
  },
  {
   "cell_type": "markdown",
   "metadata": {},
   "source": [
    "Чтобы увидеть недельную сезонность сэмплирование проведём по дням."
   ]
  },
  {
   "cell_type": "code",
   "execution_count": 14,
   "metadata": {
    "tags": []
   },
   "outputs": [],
   "source": [
    "data_day = data.resample('1D').sum()"
   ]
  },
  {
   "cell_type": "code",
   "execution_count": 15,
   "metadata": {
    "tags": []
   },
   "outputs": [],
   "source": [
    "decomposed_day = seasonal_decompose(data_day['num_orders'])"
   ]
  },
  {
   "cell_type": "markdown",
   "metadata": {},
   "source": [
    "Нас интересует только сезонность. Построим график за несколько недель, начиная с понедельника. Так будет проще читать результат."
   ]
  },
  {
   "cell_type": "code",
   "execution_count": 16,
   "metadata": {
    "tags": []
   },
   "outputs": [
    {
     "data": {
      "image/png": "[encoded data removed]",
      "text/plain": [
       "<Figure size 1000x200 with 1 Axes>"
      ]
     },
     "metadata": {},
     "output_type": "display_data"
    }
   ],
   "source": [
    "y = pd.DataFrame(decomposed_day.seasonal['2018-07-30':'2018-08-26'])\n",
    "y['weekday'] = y.index.day_name()\n",
    "ax = y.plot(y='seasonal',figsize=(10,2), legend='seasonal')\n",
    "ax.set_xticks(y.index)\n",
    "ax.set_xticks([], minor=True)\n",
    "ax.set_xticklabels(y['weekday'], rotation=90)\n",
    "plt.show();"
   ]
  },
  {
   "cell_type": "markdown",
   "metadata": {},
   "source": [
    "Период действительно оказался равен одной неделе.  \n",
    "Самые высокие значения в понедельник и пятницу - начало и конец рабочей недели.  \n",
    "Самый непопулярный день - вторник."
   ]
  },
  {
   "cell_type": "markdown",
   "metadata": {},
   "source": [
    "## Обучение"
   ]
  },
  {
   "cell_type": "code",
   "execution_count": 17,
   "metadata": {
    "tags": []
   },
   "outputs": [],
   "source": [
    "random_state = 12345"
   ]
  },
  {
   "cell_type": "markdown",
   "metadata": {},
   "source": [
    "### Разделение на выборки"
   ]
  },
  {
   "cell_type": "markdown",
   "metadata": {},
   "source": [
    "Разделим данные на выборки. Я разделю данные на три выбоки: train, valid, test.  \n",
    "Сначала обучая модели на train и проверяя на valid, выберу лучшую модель.  \n",
    "Затем лучшую модель обучу на объединении train и valid, после чего проверю на test."
   ]
  },
  {
   "cell_type": "code",
   "execution_count": 18,
   "metadata": {
    "tags": []
   },
   "outputs": [],
   "source": [
    "train, test = train_test_split(data, shuffle=False, test_size=0.1)\n",
    "train, valid =  train_test_split(train, shuffle=False, test_size=0.1)"
   ]
  },
  {
   "cell_type": "code",
   "execution_count": 19,
   "metadata": {
    "tags": []
   },
   "outputs": [
    {
     "data": {
      "text/html": [
       "<div>\n",
       "<style scoped>\n",
       "    .dataframe tbody tr th:only-of-type {\n",
       "        vertical-align: middle;\n",
       "    }\n",
       "\n",
       "    .dataframe tbody tr th {\n",
       "        vertical-align: top;\n",
       "    }\n",
       "\n",
       "    .dataframe thead th {\n",
       "        text-align: right;\n",
       "    }\n",
       "</style>\n",
       "<table border=\"1\" class=\"dataframe\">\n",
       "  <thead>\n",
       "    <tr style=\"text-align: right;\">\n",
       "      <th></th>\n",
       "      <th>num_orders</th>\n",
       "    </tr>\n",
       "    <tr>\n",
       "      <th>datetime</th>\n",
       "      <th></th>\n",
       "    </tr>\n",
       "  </thead>\n",
       "  <tbody>\n",
       "    <tr>\n",
       "      <th>2018-03-01 00:00:00</th>\n",
       "      <td>124</td>\n",
       "    </tr>\n",
       "    <tr>\n",
       "      <th>2018-03-01 01:00:00</th>\n",
       "      <td>85</td>\n",
       "    </tr>\n",
       "  </tbody>\n",
       "</table>\n",
       "</div>"
      ],
      "text/plain": [
       "                     num_orders\n",
       "datetime                       \n",
       "2018-03-01 00:00:00         124\n",
       "2018-03-01 01:00:00          85"
      ]
     },
     "execution_count": 19,
     "metadata": {},
     "output_type": "execute_result"
    }
   ],
   "source": [
    "train.head(2)"
   ]
  },
  {
   "cell_type": "markdown",
   "metadata": {},
   "source": [
    "### Добавление признаков"
   ]
  },
  {
   "cell_type": "markdown",
   "metadata": {},
   "source": [
    "Для линейной регрессии нам понадобится OHE, обучим его заранее на тренировочных данных.  \n",
    "В тренировочных данных есть все дни месяца (от 0 до 31), все дни недели (от 0 до 6) и все часы (от 0 до 23). Так что новых значений в тестовых данных возникнуть не может."
   ]
  },
  {
   "cell_type": "code",
   "execution_count": 21,
   "metadata": {
    "tags": []
   },
   "outputs": [
    {
     "data": {
      "text/plain": [
       "OneHotEncoder()"
      ]
     },
     "execution_count": 21,
     "metadata": {},
     "output_type": "execute_result"
    }
   ],
   "source": [
    "data_days = pd.DataFrame()\n",
    "data_days['hour'] = train.index.hour\n",
    "data_days['day'] = train.index.day\n",
    "data_days['dayofweek'] = train.index.dayofweek\n",
    "enc = OneHotEncoder()\n",
    "enc.fit(data_days)"
   ]
  },
  {
   "cell_type": "markdown",
   "metadata": {
    "tags": []
   },
   "source": [
    "Создадим понятные названия для колонок"
   ]
  },
  {
   "cell_type": "code",
   "execution_count": 22,
   "metadata": {
    "tags": []
   },
   "outputs": [
    {
     "data": {
      "text/plain": [
       "array(['H_0', 'H_1', 'H_2', 'H_3', 'H_4', 'H_5', 'H_6', 'H_7', 'H_8',\n",
       "       'H_9', 'H_10', 'H_11', 'H_12', 'H_13', 'H_14', 'H_15', 'H_16',\n",
       "       'H_17', 'H_18', 'H_19', 'H_20', 'H_21', 'H_22', 'H_23', 'D_1',\n",
       "       'D_2', 'D_3', 'D_4', 'D_5', 'D_6', 'D_7', 'D_8', 'D_9', 'D_10',\n",
       "       'D_11', 'D_12', 'D_13', 'D_14', 'D_15', 'D_16', 'D_17', 'D_18',\n",
       "       'D_19', 'D_20', 'D_21', 'D_22', 'D_23', 'D_24', 'D_25', 'D_26',\n",
       "       'D_27', 'D_28', 'D_29', 'D_30', 'D_31', 'WD_0', 'WD_1', 'WD_2',\n",
       "       'WD_3', 'WD_4', 'WD_5', 'WD_6'], dtype='<U4')"
      ]
     },
     "execution_count": 22,
     "metadata": {},
     "output_type": "execute_result"
    }
   ],
   "source": [
    "hours = ['H_' + x for x in enc.categories_[0].astype(str)]\n",
    "days = ['D_' + x for x in enc.categories_[1].astype(str)]\n",
    "dayofweeks = ['WD_' + x for x in enc.categories_[2].astype(str)]\n",
    "columns = np.concatenate((hours, days, dayofweeks))\n",
    "columns"
   ]
  },
  {
   "cell_type": "markdown",
   "metadata": {},
   "source": [
    "Функция добавления признаков"
   ]
  },
  {
   "cell_type": "code",
   "execution_count": 23,
   "metadata": {},
   "outputs": [],
   "source": [
    "def make_features(data, max_lag, rolling_mean_size, ohe=False):\n",
    "    data_features = data.copy()\n",
    "    \n",
    "    if ohe:\n",
    "        days = pd.DataFrame()\n",
    "        days['hour'] = data.index.hour\n",
    "        days['day'] = data.index.day\n",
    "        days['dayofweek'] = data.index.dayofweek\n",
    "        days = pd.DataFrame(enc.transform(days).toarray(), index=data.index)\n",
    "        data_features = pd.concat([data_features, days], axis=1)\n",
    "    else:\n",
    "        days['hour'] = data.index.hour\n",
    "        data_features['day'] = data_features.index.day\n",
    "        data_features['dayofweek'] = data_features.index.dayofweek\n",
    "        \n",
    "    for lag in range(1, max_lag + 1):\n",
    "        data_features['lag_{}'.format(lag)] = data['num_orders'].shift(lag)\n",
    "\n",
    "    data_features['rolling_mean'] = data['num_orders'].shift().rolling(rolling_mean_size).mean()\n",
    "    data_features.columns = data_features.columns.astype(str)\n",
    "    return data_features"
   ]
  },
  {
   "cell_type": "code",
   "execution_count": 24,
   "metadata": {
    "tags": []
   },
   "outputs": [
    {
     "data": {
      "text/html": [
       "<div>\n",
       "<style scoped>\n",
       "    .dataframe tbody tr th:only-of-type {\n",
       "        vertical-align: middle;\n",
       "    }\n",
       "\n",
       "    .dataframe tbody tr th {\n",
       "        vertical-align: top;\n",
       "    }\n",
       "\n",
       "    .dataframe thead th {\n",
       "        text-align: right;\n",
       "    }\n",
       "</style>\n",
       "<table border=\"1\" class=\"dataframe\">\n",
       "  <thead>\n",
       "    <tr style=\"text-align: right;\">\n",
       "      <th></th>\n",
       "      <th>num_orders</th>\n",
       "      <th>lag_2</th>\n",
       "      <th>rolling_mean_2</th>\n",
       "      <th>lag_3</th>\n",
       "      <th>rolling_mean_3</th>\n",
       "      <th>lag_4</th>\n",
       "      <th>rolling_mean_4</th>\n",
       "      <th>lag_5</th>\n",
       "      <th>rolling_mean_5</th>\n",
       "      <th>lag_24</th>\n",
       "      <th>...</th>\n",
       "      <th>D_29</th>\n",
       "      <th>D_30</th>\n",
       "      <th>D_31</th>\n",
       "      <th>WD_0</th>\n",
       "      <th>WD_1</th>\n",
       "      <th>WD_2</th>\n",
       "      <th>WD_3</th>\n",
       "      <th>WD_4</th>\n",
       "      <th>WD_5</th>\n",
       "      <th>WD_6</th>\n",
       "    </tr>\n",
       "    <tr>\n",
       "      <th>datetime</th>\n",
       "      <th></th>\n",
       "      <th></th>\n",
       "      <th></th>\n",
       "      <th></th>\n",
       "      <th></th>\n",
       "      <th></th>\n",
       "      <th></th>\n",
       "      <th></th>\n",
       "      <th></th>\n",
       "      <th></th>\n",
       "      <th></th>\n",
       "      <th></th>\n",
       "      <th></th>\n",
       "      <th></th>\n",
       "      <th></th>\n",
       "      <th></th>\n",
       "      <th></th>\n",
       "      <th></th>\n",
       "      <th></th>\n",
       "      <th></th>\n",
       "      <th></th>\n",
       "    </tr>\n",
       "  </thead>\n",
       "  <tbody>\n",
       "    <tr>\n",
       "      <th>2018-03-01 00:00:00</th>\n",
       "      <td>124</td>\n",
       "      <td>NaN</td>\n",
       "      <td>NaN</td>\n",
       "      <td>NaN</td>\n",
       "      <td>NaN</td>\n",
       "      <td>NaN</td>\n",
       "      <td>NaN</td>\n",
       "      <td>NaN</td>\n",
       "      <td>NaN</td>\n",
       "      <td>NaN</td>\n",
       "      <td>...</td>\n",
       "      <td>0.0</td>\n",
       "      <td>0.0</td>\n",
       "      <td>0.0</td>\n",
       "      <td>0.0</td>\n",
       "      <td>0.0</td>\n",
       "      <td>0.0</td>\n",
       "      <td>1.0</td>\n",
       "      <td>0.0</td>\n",
       "      <td>0.0</td>\n",
       "      <td>0.0</td>\n",
       "    </tr>\n",
       "    <tr>\n",
       "      <th>2018-03-01 01:00:00</th>\n",
       "      <td>85</td>\n",
       "      <td>NaN</td>\n",
       "      <td>NaN</td>\n",
       "      <td>NaN</td>\n",
       "      <td>NaN</td>\n",
       "      <td>NaN</td>\n",
       "      <td>NaN</td>\n",
       "      <td>NaN</td>\n",
       "      <td>NaN</td>\n",
       "      <td>NaN</td>\n",
       "      <td>...</td>\n",
       "      <td>0.0</td>\n",
       "      <td>0.0</td>\n",
       "      <td>0.0</td>\n",
       "      <td>0.0</td>\n",
       "      <td>0.0</td>\n",
       "      <td>0.0</td>\n",
       "      <td>1.0</td>\n",
       "      <td>0.0</td>\n",
       "      <td>0.0</td>\n",
       "      <td>0.0</td>\n",
       "    </tr>\n",
       "    <tr>\n",
       "      <th>2018-03-01 02:00:00</th>\n",
       "      <td>71</td>\n",
       "      <td>124.0</td>\n",
       "      <td>104.5</td>\n",
       "      <td>NaN</td>\n",
       "      <td>NaN</td>\n",
       "      <td>NaN</td>\n",
       "      <td>NaN</td>\n",
       "      <td>NaN</td>\n",
       "      <td>NaN</td>\n",
       "      <td>NaN</td>\n",
       "      <td>...</td>\n",
       "      <td>0.0</td>\n",
       "      <td>0.0</td>\n",
       "      <td>0.0</td>\n",
       "      <td>0.0</td>\n",
       "      <td>0.0</td>\n",
       "      <td>0.0</td>\n",
       "      <td>1.0</td>\n",
       "      <td>0.0</td>\n",
       "      <td>0.0</td>\n",
       "      <td>0.0</td>\n",
       "    </tr>\n",
       "    <tr>\n",
       "      <th>2018-03-01 03:00:00</th>\n",
       "      <td>66</td>\n",
       "      <td>85.0</td>\n",
       "      <td>78.0</td>\n",
       "      <td>124.0</td>\n",
       "      <td>93.333333</td>\n",
       "      <td>NaN</td>\n",
       "      <td>NaN</td>\n",
       "      <td>NaN</td>\n",
       "      <td>NaN</td>\n",
       "      <td>NaN</td>\n",
       "      <td>...</td>\n",
       "      <td>0.0</td>\n",
       "      <td>0.0</td>\n",
       "      <td>0.0</td>\n",
       "      <td>0.0</td>\n",
       "      <td>0.0</td>\n",
       "      <td>0.0</td>\n",
       "      <td>1.0</td>\n",
       "      <td>0.0</td>\n",
       "      <td>0.0</td>\n",
       "      <td>0.0</td>\n",
       "    </tr>\n",
       "    <tr>\n",
       "      <th>2018-03-01 04:00:00</th>\n",
       "      <td>43</td>\n",
       "      <td>71.0</td>\n",
       "      <td>68.5</td>\n",
       "      <td>85.0</td>\n",
       "      <td>74.000000</td>\n",
       "      <td>124.0</td>\n",
       "      <td>86.5</td>\n",
       "      <td>NaN</td>\n",
       "      <td>NaN</td>\n",
       "      <td>NaN</td>\n",
       "      <td>...</td>\n",
       "      <td>0.0</td>\n",
       "      <td>0.0</td>\n",
       "      <td>0.0</td>\n",
       "      <td>0.0</td>\n",
       "      <td>0.0</td>\n",
       "      <td>0.0</td>\n",
       "      <td>1.0</td>\n",
       "      <td>0.0</td>\n",
       "      <td>0.0</td>\n",
       "      <td>0.0</td>\n",
       "    </tr>\n",
       "  </tbody>\n",
       "</table>\n",
       "<p>5 rows × 85 columns</p>\n",
       "</div>"
      ],
      "text/plain": [
       "                     num_orders  lag_2  rolling_mean_2  lag_3  rolling_mean_3  \\\n",
       "datetime                                                                        \n",
       "2018-03-01 00:00:00         124    NaN             NaN    NaN             NaN   \n",
       "2018-03-01 01:00:00          85    NaN             NaN    NaN             NaN   \n",
       "2018-03-01 02:00:00          71  124.0           104.5    NaN             NaN   \n",
       "2018-03-01 03:00:00          66   85.0            78.0  124.0       93.333333   \n",
       "2018-03-01 04:00:00          43   71.0            68.5   85.0       74.000000   \n",
       "\n",
       "                     lag_4  rolling_mean_4  lag_5  rolling_mean_5  lag_24  \\\n",
       "datetime                                                                    \n",
       "2018-03-01 00:00:00    NaN             NaN    NaN             NaN     NaN   \n",
       "2018-03-01 01:00:00    NaN             NaN    NaN             NaN     NaN   \n",
       "2018-03-01 02:00:00    NaN             NaN    NaN             NaN     NaN   \n",
       "2018-03-01 03:00:00    NaN             NaN    NaN             NaN     NaN   \n",
       "2018-03-01 04:00:00  124.0            86.5    NaN             NaN     NaN   \n",
       "\n",
       "                     ...  D_29  D_30  D_31  WD_0  WD_1  WD_2  WD_3  WD_4  \\\n",
       "datetime             ...                                                   \n",
       "2018-03-01 00:00:00  ...   0.0   0.0   0.0   0.0   0.0   0.0   1.0   0.0   \n",
       "2018-03-01 01:00:00  ...   0.0   0.0   0.0   0.0   0.0   0.0   1.0   0.0   \n",
       "2018-03-01 02:00:00  ...   0.0   0.0   0.0   0.0   0.0   0.0   1.0   0.0   \n",
       "2018-03-01 03:00:00  ...   0.0   0.0   0.0   0.0   0.0   0.0   1.0   0.0   \n",
       "2018-03-01 04:00:00  ...   0.0   0.0   0.0   0.0   0.0   0.0   1.0   0.0   \n",
       "\n",
       "                     WD_5  WD_6  \n",
       "datetime                         \n",
       "2018-03-01 00:00:00   0.0   0.0  \n",
       "2018-03-01 01:00:00   0.0   0.0  \n",
       "2018-03-01 02:00:00   0.0   0.0  \n",
       "2018-03-01 03:00:00   0.0   0.0  \n",
       "2018-03-01 04:00:00   0.0   0.0  \n",
       "\n",
       "[5 rows x 85 columns]"
      ]
     },
     "execution_count": 24,
     "metadata": {},
     "output_type": "execute_result"
    }
   ],
   "source": [
    "data_features_full = data.copy()\n",
    "\n",
    "# предыдущие 5 часов\n",
    "for lag in range(2, 6):\n",
    "    data_features_full['lag_{}'.format(lag)] = data['num_orders'].shift(lag)\n",
    "    data_features_full['rolling_mean_{}'.format(lag)] = data['num_orders'].shift().rolling(lag).mean()\n",
    "    \n",
    "# предыдущие 7 дней (24 * 7 = 168)\n",
    "for lag in range(24, 169, 24):\n",
    "    data_features_full['lag_{}'.format(lag)] = data['num_orders'].shift(lag)\n",
    "    data_features_full['rolling_mean_{}'.format(lag)] = data['num_orders'].shift().rolling(lag).mean()\n",
    "\n",
    "days = pd.DataFrame()\n",
    "days['hour'] = data.index.hour\n",
    "days['day'] = data.index.day\n",
    "days['dayofweek'] = data.index.dayofweek\n",
    "days = pd.DataFrame(enc.transform(days).toarray(), index=data.index, columns=columns)\n",
    "data_features_full = pd.concat([data_features_full, days], axis=1)\n",
    "\n",
    "data_features_full.columns = data_features_full.columns.astype(str)\n",
    "data_features_full.head()"
   ]
  },
  {
   "cell_type": "markdown",
   "metadata": {},
   "source": [
    "Полученные данные поделим на выборки."
   ]
  },
  {
   "cell_type": "code",
   "execution_count": 25,
   "metadata": {
    "tags": []
   },
   "outputs": [],
   "source": [
    "train_features_full, test_features_full = train_test_split(data_features_full, shuffle=False, test_size=0.1)\n",
    "train_features_full, valid_features_full =  train_test_split(train_features_full, shuffle=False, test_size=0.1)\n",
    "\n",
    "# здесь в начале появились пропуски, убираем\n",
    "train_features_full = train_features_full.dropna().reset_index(drop=True)\n",
    "\n",
    "y_train = train_features_full['num_orders']\n",
    "x_train_features_full = train_features_full.drop('num_orders', axis=1)\n",
    "\n",
    "y_valid = valid_features_full['num_orders']\n",
    "x_valid_features_full = valid_features_full.drop('num_orders', axis=1)\n",
    "\n",
    "y_test = test_features_full['num_orders']\n",
    "x_test_features_full = test_features_full.drop('num_orders', axis=1)"
   ]
  },
  {
   "cell_type": "markdown",
   "metadata": {},
   "source": [
    "### LinearRegression"
   ]
  },
  {
   "cell_type": "code",
   "execution_count": 27,
   "metadata": {
    "tags": []
   },
   "outputs": [
    {
     "name": "stdout",
     "output_type": "stream",
     "text": [
      "RMSE =  28.56157936370403\n"
     ]
    }
   ],
   "source": [
    "linear_model = LinearRegression()\n",
    "linear_model.fit(x_train_features_full, y_train)\n",
    "linear_prediction_valid = linear_model.predict(x_valid_features_full)\n",
    "linear_rmse = mean_squared_error(y_valid, linear_prediction_valid) ** 0.5\n",
    "print('RMSE = ', linear_rmse)"
   ]
  },
  {
   "cell_type": "code",
   "execution_count": 28,
   "metadata": {
    "tags": []
   },
   "outputs": [
    {
     "data": {
      "text/html": [
       "<div>\n",
       "<style scoped>\n",
       "    .dataframe tbody tr th:only-of-type {\n",
       "        vertical-align: middle;\n",
       "    }\n",
       "\n",
       "    .dataframe tbody tr th {\n",
       "        vertical-align: top;\n",
       "    }\n",
       "\n",
       "    .dataframe thead th {\n",
       "        text-align: right;\n",
       "    }\n",
       "</style>\n",
       "<table border=\"1\" class=\"dataframe\">\n",
       "  <thead>\n",
       "    <tr style=\"text-align: right;\">\n",
       "      <th></th>\n",
       "      <th>model</th>\n",
       "      <th>rmse</th>\n",
       "    </tr>\n",
       "  </thead>\n",
       "  <tbody>\n",
       "    <tr>\n",
       "      <th>0</th>\n",
       "      <td>LinearRegression()</td>\n",
       "      <td>28.561579</td>\n",
       "    </tr>\n",
       "  </tbody>\n",
       "</table>\n",
       "</div>"
      ],
      "text/plain": [
       "                model       rmse\n",
       "0  LinearRegression()  28.561579"
      ]
     },
     "execution_count": 28,
     "metadata": {},
     "output_type": "execute_result"
    }
   ],
   "source": [
    "best_linear = pd.DataFrame(data={'model':[linear_model], 'rmse':[linear_rmse]})\n",
    "best_linear"
   ]
  },
  {
   "cell_type": "markdown",
   "metadata": {},
   "source": [
    "### RandomForest"
   ]
  },
  {
   "cell_type": "markdown",
   "metadata": {},
   "source": [
    "Выделим имена колонок, которые мы будем постепенно добавлять при обучении.  \n",
    "Выделим следующие категории:  \n",
    "* только предыдущий час \n",
    "* пять предыдущих часов\n",
    "* часы и предыдущий день\n",
    "* все колонки\n"
   ]
  },
  {
   "cell_type": "code",
   "execution_count": 29,
   "metadata": {},
   "outputs": [
    {
     "name": "stdout",
     "output_type": "stream",
     "text": [
      "Index(['lag_2', 'lag_3', 'lag_4', 'lag_5', 'lag_24', 'lag_48', 'lag_72',\n",
      "       'lag_96', 'lag_120', 'lag_144', 'lag_168'],\n",
      "      dtype='object')\n",
      "Index(['rolling_mean_2', 'rolling_mean_3', 'rolling_mean_4', 'rolling_mean_5',\n",
      "       'rolling_mean_24', 'rolling_mean_48', 'rolling_mean_72',\n",
      "       'rolling_mean_96', 'rolling_mean_120', 'rolling_mean_144',\n",
      "       'rolling_mean_168'],\n",
      "      dtype='object')\n"
     ]
    }
   ],
   "source": [
    "lags = x_train_features_full.filter(regex=(\"lag_*\")).columns\n",
    "print(lags)\n",
    "means = x_train_features_full.filter(regex=(\"rolling_mean_*\")).columns\n",
    "print(means)\n",
    "cols_len = len(lags)\n",
    "col_cats = [1, 4, 5, cols_len]"
   ]
  },
  {
   "cell_type": "code",
   "execution_count": 30,
   "metadata": {
    "tags": []
   },
   "outputs": [
    {
     "name": "stdout",
     "output_type": "stream",
     "text": [
      "CPU times: total: 30.5 s\n",
      "Wall time: 30.5 s\n"
     ]
    }
   ],
   "source": [
    "%%time\n",
    "forest_models = []\n",
    "for est in range(10, 51, 10):\n",
    "    for depth in range(5, 16, 5):\n",
    "        for cat in col_cats:\n",
    "            x_train_features = train_features_full.drop('num_orders', axis=1)\n",
    "            x_valid_features = valid_features_full.drop('num_orders', axis=1)\n",
    "            \n",
    "            # убираем ненужные столбцы\n",
    "            x_train_features = x_train_features_full.drop(lags[cat:], axis=1)\n",
    "            x_train_features = x_train_features.drop(means[cat:], axis=1)\n",
    "            \n",
    "            x_valid_features = x_valid_features_full.drop(lags[cat:], axis=1)\n",
    "            x_valid_features = x_valid_features.drop(means[cat:], axis=1)\n",
    "\n",
    "            model = RandomForestRegressor(n_estimators=est, \n",
    "                                   max_depth=depth, \n",
    "                                   random_state=random_state)\n",
    "            model.fit(x_train_features,y_train)\n",
    "            \n",
    "            prediction_valid = model.predict(x_valid_features)\n",
    "            rmse = mean_squared_error(y_valid, prediction_valid) ** 0.5\n",
    "            \n",
    "            forest_models.append([model, cat, est, depth, rmse])"
   ]
  },
  {
   "cell_type": "code",
   "execution_count": 31,
   "metadata": {
    "tags": []
   },
   "outputs": [],
   "source": [
    "forest_models = pd.DataFrame(forest_models)\n",
    "forest_models.columns = ['model', 'col_cat','n_estimators', 'depth', 'rmse']"
   ]
  },
  {
   "cell_type": "code",
   "execution_count": 32,
   "metadata": {
    "tags": []
   },
   "outputs": [
    {
     "data": {
      "image/png": "[encoded data removed]",
      "text/plain": [
       "<Figure size 640x480 with 2 Axes>"
      ]
     },
     "metadata": {},
     "output_type": "display_data"
    }
   ],
   "source": [
    "forest_models.plot.scatter(x='rmse',\n",
    "                      y='col_cat',\n",
    "                      c='depth',\n",
    "                      cmap=\"viridis\",\n",
    "                      grid=True);"
   ]
  },
  {
   "cell_type": "code",
   "execution_count": 33,
   "metadata": {
    "tags": []
   },
   "outputs": [
    {
     "data": {
      "text/html": [
       "<div>\n",
       "<style scoped>\n",
       "    .dataframe tbody tr th:only-of-type {\n",
       "        vertical-align: middle;\n",
       "    }\n",
       "\n",
       "    .dataframe tbody tr th {\n",
       "        vertical-align: top;\n",
       "    }\n",
       "\n",
       "    .dataframe thead th {\n",
       "        text-align: right;\n",
       "    }\n",
       "</style>\n",
       "<table border=\"1\" class=\"dataframe\">\n",
       "  <thead>\n",
       "    <tr style=\"text-align: right;\">\n",
       "      <th></th>\n",
       "      <th>model</th>\n",
       "      <th>col_cat</th>\n",
       "      <th>n_estimators</th>\n",
       "      <th>depth</th>\n",
       "      <th>rmse</th>\n",
       "    </tr>\n",
       "  </thead>\n",
       "  <tbody>\n",
       "    <tr>\n",
       "      <th>43</th>\n",
       "      <td>(DecisionTreeRegressor(max_depth=10, max_featu...</td>\n",
       "      <td>11</td>\n",
       "      <td>40</td>\n",
       "      <td>10</td>\n",
       "      <td>29.840541</td>\n",
       "    </tr>\n",
       "  </tbody>\n",
       "</table>\n",
       "</div>"
      ],
      "text/plain": [
       "                                                model  col_cat  n_estimators  \\\n",
       "43  (DecisionTreeRegressor(max_depth=10, max_featu...       11            40   \n",
       "\n",
       "    depth       rmse  \n",
       "43     10  29.840541  "
      ]
     },
     "execution_count": 33,
     "metadata": {},
     "output_type": "execute_result"
    }
   ],
   "source": [
    "best_forest = forest_models[forest_models['rmse'] == forest_models['rmse'].min()]\n",
    "best_forest"
   ]
  },
  {
   "cell_type": "code",
   "execution_count": 34,
   "metadata": {
    "tags": []
   },
   "outputs": [],
   "source": [
    "best_forest_model = best_forest.iloc[0,0]"
   ]
  },
  {
   "cell_type": "markdown",
   "metadata": {},
   "source": [
    "### CatBoost"
   ]
  },
  {
   "cell_type": "code",
   "execution_count": 35,
   "metadata": {
    "tags": []
   },
   "outputs": [
    {
     "name": "stdout",
     "output_type": "stream",
     "text": [
      "CPU times: total: 3min 14s\n",
      "Wall time: 27.9 s\n"
     ]
    }
   ],
   "source": [
    "%%time\n",
    "cat_models = []\n",
    "for iterations in range(500,1501,500):\n",
    "    for cat in col_cats:\n",
    "        x_train_features = train_features_full.drop('num_orders', axis=1)\n",
    "        x_valid_features = valid_features_full.drop('num_orders', axis=1)\n",
    "\n",
    "        # убираем ненужные столбцы\n",
    "        x_train_features = x_train_features_full.drop(lags[cat:], axis=1)\n",
    "        x_train_features = x_train_features.drop(means[cat:], axis=1)\n",
    "\n",
    "        x_valid_features = x_valid_features_full.drop(lags[cat:], axis=1)\n",
    "        x_valid_features = x_valid_features.drop(means[cat:], axis=1)\n",
    "\n",
    "        model = CatBoostRegressor(loss_function='RMSE',\n",
    "                                  iterations=iterations,\n",
    "                                  random_seed=random_state)\n",
    "        model.fit(x_train_features,y_train, verbose=0)\n",
    "\n",
    "        prediction_train = model.predict(x_train_features)\n",
    "        prediction_valid = model.predict(x_valid_features)\n",
    "        rmse = mean_squared_error(y_valid, prediction_valid) ** 0.5\n",
    "\n",
    "        cat_models.append([model, iterations, cat, rmse])"
   ]
  },
  {
   "cell_type": "code",
   "execution_count": 36,
   "metadata": {
    "tags": []
   },
   "outputs": [],
   "source": [
    "cat_models_df = pd.DataFrame(cat_models)\n",
    "cat_models_df.columns = ['model','iterations', 'col_cat', 'rmse']"
   ]
  },
  {
   "cell_type": "code",
   "execution_count": 37,
   "metadata": {
    "tags": []
   },
   "outputs": [
    {
     "data": {
      "image/png": "[encoded data removed]",
      "text/plain": [
       "<Figure size 640x480 with 2 Axes>"
      ]
     },
     "metadata": {},
     "output_type": "display_data"
    }
   ],
   "source": [
    "cat_models_df.plot.scatter(x='rmse',\n",
    "                      y='col_cat',\n",
    "                      c='iterations',\n",
    "                      cmap=\"viridis\",\n",
    "                      grid=True);"
   ]
  },
  {
   "cell_type": "code",
   "execution_count": 38,
   "metadata": {
    "tags": []
   },
   "outputs": [
    {
     "data": {
      "text/html": [
       "<div>\n",
       "<style scoped>\n",
       "    .dataframe tbody tr th:only-of-type {\n",
       "        vertical-align: middle;\n",
       "    }\n",
       "\n",
       "    .dataframe tbody tr th {\n",
       "        vertical-align: top;\n",
       "    }\n",
       "\n",
       "    .dataframe thead th {\n",
       "        text-align: right;\n",
       "    }\n",
       "</style>\n",
       "<table border=\"1\" class=\"dataframe\">\n",
       "  <thead>\n",
       "    <tr style=\"text-align: right;\">\n",
       "      <th></th>\n",
       "      <th>model</th>\n",
       "      <th>iterations</th>\n",
       "      <th>col_cat</th>\n",
       "      <th>rmse</th>\n",
       "    </tr>\n",
       "  </thead>\n",
       "  <tbody>\n",
       "    <tr>\n",
       "      <th>11</th>\n",
       "      <td>&lt;catboost.core.CatBoostRegressor object at 0x0...</td>\n",
       "      <td>1500</td>\n",
       "      <td>11</td>\n",
       "      <td>29.629173</td>\n",
       "    </tr>\n",
       "  </tbody>\n",
       "</table>\n",
       "</div>"
      ],
      "text/plain": [
       "                                                model  iterations  col_cat  \\\n",
       "11  <catboost.core.CatBoostRegressor object at 0x0...        1500       11   \n",
       "\n",
       "         rmse  \n",
       "11  29.629173  "
      ]
     },
     "execution_count": 38,
     "metadata": {},
     "output_type": "execute_result"
    }
   ],
   "source": [
    "best_cat = cat_models_df[cat_models_df['rmse'] == cat_models_df['rmse'].min()]\n",
    "best_cat"
   ]
  },
  {
   "cell_type": "code",
   "execution_count": 39,
   "metadata": {
    "tags": []
   },
   "outputs": [],
   "source": [
    "best_cat_model = best_cat.iloc[0,0]"
   ]
  },
  {
   "cell_type": "markdown",
   "metadata": {},
   "source": [
    "### Сравнение моделей"
   ]
  },
  {
   "cell_type": "code",
   "execution_count": 40,
   "metadata": {
    "tags": []
   },
   "outputs": [
    {
     "data": {
      "image/png": "[encoded data removed]",
      "text/plain": [
       "<Figure size 640x480 with 1 Axes>"
      ]
     },
     "metadata": {},
     "output_type": "display_data"
    }
   ],
   "source": [
    "best_models_rmse = pd.DataFrame({\n",
    "    'model':['LinearRegression', 'RandomForest', 'CatBoost'],\n",
    "    'RMSE': [best_linear.iloc[0,-1], best_forest.iloc[0,-1], best_cat.iloc[0,-1]]\n",
    "})\n",
    "best_models_rmse.plot(kind='bar', \n",
    "                      x='model', y='RMSE', \n",
    "                      rot=0,color=['Blue','Green','Orange'],\n",
    "                      ylim=(28,30), grid=True,\n",
    "                      legend='');"
   ]
  },
  {
   "cell_type": "markdown",
   "metadata": {},
   "source": [
    "Линейная регрессия показывает лучший результат как по точности, так и по времени работы."
   ]
  },
  {
   "cell_type": "code",
   "execution_count": 41,
   "metadata": {
    "tags": []
   },
   "outputs": [],
   "source": [
    "best_model = best_linear.iloc[0]"
   ]
  },
  {
   "cell_type": "markdown",
   "metadata": {},
   "source": [
    "## Тестирование"
   ]
  },
  {
   "cell_type": "markdown",
   "metadata": {},
   "source": [
    "Сначала обучим нашу модель на объединении тренировочных и валидационных данных.  \n",
    "Чтобы не нужно было доставать данные для срезов в тестовые данные из тренировочных, я сначала добавлю дополнительные параметры, а потом разделю выборки."
   ]
  },
  {
   "cell_type": "code",
   "execution_count": 42,
   "metadata": {
    "tags": []
   },
   "outputs": [],
   "source": [
    "train_features, test_features = train_test_split(data_features_full, shuffle=False, test_size=0.1)\n",
    "\n",
    "train_features = train_features.dropna()\n",
    "y_train = train_features['num_orders']\n",
    "x_train_features = train_features.drop('num_orders', axis=1)\n",
    "\n",
    "test_features = test_features.dropna()\n",
    "y_test = test_features['num_orders']\n",
    "x_test_features = test_features.drop('num_orders', axis=1)\n",
    "\n",
    "best_model.model.fit(x_train_features, y_train);"
   ]
  },
  {
   "cell_type": "markdown",
   "metadata": {},
   "source": [
    "Теперь проверим модель"
   ]
  },
  {
   "cell_type": "code",
   "execution_count": 43,
   "metadata": {
    "tags": []
   },
   "outputs": [
    {
     "data": {
      "text/plain": [
       "34.85"
      ]
     },
     "execution_count": 43,
     "metadata": {},
     "output_type": "execute_result"
    }
   ],
   "source": [
    "prediction_test = best_model.model.predict(x_test_features)\n",
    "rmse_test = mean_squared_error(y_test, prediction_test) ** 0.5\n",
    "rmse_test.round(2)"
   ]
  },
  {
   "cell_type": "markdown",
   "metadata": {},
   "source": [
    "Значение RMSE меньше 48, модель прошла проверку."
   ]
  },
  {
   "cell_type": "code",
   "execution_count": 44,
   "metadata": {
    "tags": []
   },
   "outputs": [
    {
     "data": {
      "text/plain": [
       "58.856486242815066"
      ]
     },
     "execution_count": 44,
     "metadata": {},
     "output_type": "execute_result"
    }
   ],
   "source": [
    "pred_previous = y_test.shift() \n",
    "pred_previous.iloc[0] = y_train.iloc[-1]\n",
    "rmse_previous = mean_squared_error(y_test, pred_previous) ** 0.5\n",
    "rmse_previous"
   ]
  },
  {
   "cell_type": "markdown",
   "metadata": {},
   "source": [
    "Также модель проходит проверку на адкватность."
   ]
  }
 ],
 "metadata": {
  "ExecuteTimeLog": [
   {
    "duration": 2291,
    "start_time": "2023-07-06T02:42:59.897Z"
   },
   {
    "duration": 264,
    "start_time": "2023-07-06T02:43:02.190Z"
   },
   {
    "duration": 12,
    "start_time": "2023-07-06T02:43:02.456Z"
   },
   {
    "duration": 29,
    "start_time": "2023-07-06T02:43:02.470Z"
   },
   {
    "duration": 197,
    "start_time": "2023-07-06T02:43:02.500Z"
   },
   {
    "duration": 162,
    "start_time": "2023-07-06T02:43:50.518Z"
   },
   {
    "duration": 88,
    "start_time": "2023-07-06T02:44:33.050Z"
   },
   {
    "duration": 86,
    "start_time": "2023-07-06T02:45:28.456Z"
   },
   {
    "duration": 11,
    "start_time": "2023-07-06T02:45:52.134Z"
   },
   {
    "duration": 154,
    "start_time": "2023-07-06T02:46:08.532Z"
   },
   {
    "duration": 93,
    "start_time": "2023-07-06T02:46:36.700Z"
   },
   {
    "duration": 83,
    "start_time": "2023-07-06T02:46:41.972Z"
   },
   {
    "duration": 11,
    "start_time": "2023-07-06T02:51:44.321Z"
   },
   {
    "duration": 5,
    "start_time": "2023-07-06T02:52:06.360Z"
   },
   {
    "duration": 3,
    "start_time": "2023-07-06T02:52:50.777Z"
   },
   {
    "duration": 3,
    "start_time": "2023-07-06T02:52:53.996Z"
   },
   {
    "duration": 3,
    "start_time": "2023-07-06T02:54:15.707Z"
   },
   {
    "duration": 179,
    "start_time": "2023-07-06T02:54:15.712Z"
   },
   {
    "duration": 10,
    "start_time": "2023-07-06T02:54:15.893Z"
   },
   {
    "duration": 4,
    "start_time": "2023-07-06T02:54:15.905Z"
   },
   {
    "duration": 10,
    "start_time": "2023-07-06T02:54:15.911Z"
   },
   {
    "duration": 15,
    "start_time": "2023-07-06T02:54:15.923Z"
   },
   {
    "duration": 0,
    "start_time": "2023-07-06T02:54:15.939Z"
   },
   {
    "duration": 14,
    "start_time": "2023-07-06T02:54:32.377Z"
   },
   {
    "duration": 12,
    "start_time": "2023-07-06T02:54:48.673Z"
   },
   {
    "duration": 13,
    "start_time": "2023-07-06T02:58:07.770Z"
   },
   {
    "duration": 9,
    "start_time": "2023-07-06T02:58:25.879Z"
   },
   {
    "duration": 9,
    "start_time": "2023-07-06T02:58:59.358Z"
   },
   {
    "duration": 9,
    "start_time": "2023-07-06T02:59:33.669Z"
   },
   {
    "duration": 13,
    "start_time": "2023-07-06T03:00:00.997Z"
   },
   {
    "duration": 4,
    "start_time": "2023-07-06T03:00:07.790Z"
   },
   {
    "duration": 8,
    "start_time": "2023-07-06T03:00:15.216Z"
   },
   {
    "duration": 4,
    "start_time": "2023-07-06T03:01:41.435Z"
   },
   {
    "duration": 134,
    "start_time": "2023-07-06T03:01:41.441Z"
   },
   {
    "duration": 9,
    "start_time": "2023-07-06T03:01:41.577Z"
   },
   {
    "duration": 4,
    "start_time": "2023-07-06T03:01:41.588Z"
   },
   {
    "duration": 12,
    "start_time": "2023-07-06T03:01:41.594Z"
   },
   {
    "duration": 4,
    "start_time": "2023-07-06T03:05:12.432Z"
   },
   {
    "duration": 128,
    "start_time": "2023-07-06T03:05:12.438Z"
   },
   {
    "duration": 10,
    "start_time": "2023-07-06T03:05:12.568Z"
   },
   {
    "duration": 4,
    "start_time": "2023-07-06T03:05:12.579Z"
   },
   {
    "duration": 16,
    "start_time": "2023-07-06T03:05:12.585Z"
   },
   {
    "duration": 18,
    "start_time": "2023-07-06T03:05:12.603Z"
   },
   {
    "duration": 9,
    "start_time": "2023-07-06T03:05:12.622Z"
   },
   {
    "duration": 8,
    "start_time": "2023-07-06T03:05:12.633Z"
   },
   {
    "duration": 10,
    "start_time": "2023-07-06T03:05:12.643Z"
   },
   {
    "duration": 298,
    "start_time": "2023-07-06T03:05:12.655Z"
   },
   {
    "duration": 8,
    "start_time": "2023-07-06T03:05:12.957Z"
   },
   {
    "duration": 611,
    "start_time": "2023-07-06T03:05:12.966Z"
   },
   {
    "duration": 2,
    "start_time": "2023-07-06T03:05:13.579Z"
   },
   {
    "duration": 8,
    "start_time": "2023-07-06T03:05:13.582Z"
   },
   {
    "duration": 26,
    "start_time": "2023-07-06T03:05:13.591Z"
   },
   {
    "duration": 8,
    "start_time": "2023-07-06T03:05:24.630Z"
   },
   {
    "duration": 530,
    "start_time": "2023-07-06T03:08:01.110Z"
   }
  ],
  "kernelspec": {
   "display_name": "Python 3 (ipykernel)",
   "language": "python",
   "name": "python3"
  },
  "language_info": {
   "codemirror_mode": {
    "name": "ipython",
    "version": 3
   },
   "file_extension": ".py",
   "mimetype": "text/x-python",
   "name": "python",
   "nbconvert_exporter": "python",
   "pygments_lexer": "ipython3",
   "version": "3.9.18"
  },
  "toc": {
   "base_numbering": 1,
   "nav_menu": {},
   "number_sections": true,
   "sideBar": true,
   "skip_h1_title": true,
   "title_cell": "Содержание",
   "title_sidebar": "Contents",
   "toc_cell": true,
   "toc_position": {},
   "toc_section_display": true,
   "toc_window_display": false
  }
 },
 "nbformat": 4,
 "nbformat_minor": 4
}
